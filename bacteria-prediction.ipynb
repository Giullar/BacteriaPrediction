{
 "cells": [
  {
   "cell_type": "markdown",
   "id": "d3099bab",
   "metadata": {
    "_cell_guid": "b1076dfc-b9ad-4769-8c92-a6c4dae69d19",
    "_uuid": "8f2839f25d086af736a60e9eeb907d3b93b6e0e5",
    "execution": {
     "iopub.execute_input": "2022-03-02T14:33:46.222715Z",
     "iopub.status.busy": "2022-03-02T14:33:46.221872Z",
     "iopub.status.idle": "2022-03-02T14:33:46.251698Z",
     "shell.execute_reply": "2022-03-02T14:33:46.250819Z",
     "shell.execute_reply.started": "2022-03-02T14:33:46.222522Z"
    },
    "papermill": {
     "duration": 0.140621,
     "end_time": "2022-03-10T16:38:04.299333",
     "exception": false,
     "start_time": "2022-03-10T16:38:04.158712",
     "status": "completed"
    },
    "tags": []
   },
   "source": [
    "# **Bacteria Prediction**"
   ]
  },
  {
   "cell_type": "markdown",
   "id": "c8011c2c",
   "metadata": {
    "papermill": {
     "duration": 0.093643,
     "end_time": "2022-03-10T16:38:04.514806",
     "exception": false,
     "start_time": "2022-03-10T16:38:04.421163",
     "status": "completed"
    },
    "tags": []
   },
   "source": [
    "The task is to classify 10 different bacteria species using data from a genomic analysis technique that has some data compression and data loss. In this technique, 10-mer snippets of DNA are sampled and analyzed to give the histogram of base count (Raman spectroscopy). In other words, the DNA segment ATATGGCCTT becomes A2T4G2C2. We want to accurately predict bacteria species starting from this lossy information."
   ]
  },
  {
   "cell_type": "markdown",
   "id": "494a616b",
   "metadata": {
    "papermill": {
     "duration": 0.088091,
     "end_time": "2022-03-10T16:38:04.707223",
     "exception": false,
     "start_time": "2022-03-10T16:38:04.619132",
     "status": "completed"
    },
    "tags": []
   },
   "source": [
    "## **Data Loading**"
   ]
  },
  {
   "cell_type": "code",
   "execution_count": 1,
   "id": "71ac8848",
   "metadata": {
    "execution": {
     "iopub.execute_input": "2022-03-10T16:38:04.889275Z",
     "iopub.status.busy": "2022-03-10T16:38:04.887896Z",
     "iopub.status.idle": "2022-03-10T16:38:04.901742Z",
     "shell.execute_reply": "2022-03-10T16:38:04.902402Z",
     "shell.execute_reply.started": "2022-03-10T14:13:19.522276Z"
    },
    "papermill": {
     "duration": 0.106805,
     "end_time": "2022-03-10T16:38:04.902736",
     "exception": false,
     "start_time": "2022-03-10T16:38:04.795931",
     "status": "completed"
    },
    "tags": []
   },
   "outputs": [],
   "source": [
    "import os\n",
    "import numpy as np\n",
    "import pandas as pd\n",
    "import matplotlib.pyplot as plt\n",
    "\n",
    "# Global variables\n",
    "random_seed = 42"
   ]
  },
  {
   "cell_type": "code",
   "execution_count": 2,
   "id": "873cdb51",
   "metadata": {
    "execution": {
     "iopub.execute_input": "2022-03-10T16:38:05.085688Z",
     "iopub.status.busy": "2022-03-10T16:38:05.084980Z",
     "iopub.status.idle": "2022-03-10T16:38:05.091959Z",
     "shell.execute_reply": "2022-03-10T16:38:05.092466Z",
     "shell.execute_reply.started": "2022-03-10T14:13:19.558429Z"
    },
    "papermill": {
     "duration": 0.098078,
     "end_time": "2022-03-10T16:38:05.092682",
     "exception": false,
     "start_time": "2022-03-10T16:38:04.994604",
     "status": "completed"
    },
    "tags": []
   },
   "outputs": [
    {
     "name": "stdout",
     "output_type": "stream",
     "text": [
      "/kaggle/input/tabular-playground-series-feb-2022/sample_submission.csv\n",
      "/kaggle/input/tabular-playground-series-feb-2022/train.csv\n",
      "/kaggle/input/tabular-playground-series-feb-2022/test.csv\n"
     ]
    }
   ],
   "source": [
    "# Print directory structure\n",
    "for dirname, _, filenames in os.walk('/kaggle/input'):\n",
    "    for filename in filenames:\n",
    "        print(os.path.join(dirname, filename))"
   ]
  },
  {
   "cell_type": "code",
   "execution_count": 3,
   "id": "51d45fab",
   "metadata": {
    "execution": {
     "iopub.execute_input": "2022-03-10T16:38:05.274995Z",
     "iopub.status.busy": "2022-03-10T16:38:05.274313Z",
     "iopub.status.idle": "2022-03-10T16:38:32.669190Z",
     "shell.execute_reply": "2022-03-10T16:38:32.668587Z",
     "shell.execute_reply.started": "2022-03-10T14:13:19.582480Z"
    },
    "papermill": {
     "duration": 27.487265,
     "end_time": "2022-03-10T16:38:32.669348",
     "exception": false,
     "start_time": "2022-03-10T16:38:05.182083",
     "status": "completed"
    },
    "tags": []
   },
   "outputs": [],
   "source": [
    "# Load training set\n",
    "df = pd.read_csv(\"/kaggle/input/tabular-playground-series-feb-2022/train.csv\")"
   ]
  },
  {
   "cell_type": "markdown",
   "id": "e22210cb",
   "metadata": {
    "papermill": {
     "duration": 0.087366,
     "end_time": "2022-03-10T16:38:32.846376",
     "exception": false,
     "start_time": "2022-03-10T16:38:32.759010",
     "status": "completed"
    },
    "tags": []
   },
   "source": [
    "## **Data Analysis**"
   ]
  },
  {
   "cell_type": "markdown",
   "id": "62811da1",
   "metadata": {
    "papermill": {
     "duration": 0.087929,
     "end_time": "2022-03-10T16:38:33.023209",
     "exception": false,
     "start_time": "2022-03-10T16:38:32.935280",
     "status": "completed"
    },
    "tags": []
   },
   "source": [
    "We will first analyze the dataset, in order to investigate its shape and the presence of null values."
   ]
  },
  {
   "cell_type": "markdown",
   "id": "b556e679",
   "metadata": {
    "papermill": {
     "duration": 0.087904,
     "end_time": "2022-03-10T16:38:33.199823",
     "exception": false,
     "start_time": "2022-03-10T16:38:33.111919",
     "status": "completed"
    },
    "tags": []
   },
   "source": [
    "Each row of data contains a spectrum of histograms generated by repeated measurements of a sample, each row containing the output of all 286 histogram possibilities (e.g., A0T0G0C10 to A10T0G0C0) which then has a bias spectrum (of totally random ATGC) subtracted from the results. The data (both train and test) also contains simulated measurement errors (of varying rates) for many of the samples, which makes the problem more challenging."
   ]
  },
  {
   "cell_type": "code",
   "execution_count": 4,
   "id": "3d601e51",
   "metadata": {
    "execution": {
     "iopub.execute_input": "2022-03-10T16:38:33.383832Z",
     "iopub.status.busy": "2022-03-10T16:38:33.383161Z",
     "iopub.status.idle": "2022-03-10T16:38:33.387774Z",
     "shell.execute_reply": "2022-03-10T16:38:33.387085Z",
     "shell.execute_reply.started": "2022-03-10T14:13:49.328787Z"
    },
    "papermill": {
     "duration": 0.099621,
     "end_time": "2022-03-10T16:38:33.387920",
     "exception": false,
     "start_time": "2022-03-10T16:38:33.288299",
     "status": "completed"
    },
    "tags": []
   },
   "outputs": [
    {
     "data": {
      "text/plain": [
       "(200000, 288)"
      ]
     },
     "execution_count": 4,
     "metadata": {},
     "output_type": "execute_result"
    }
   ],
   "source": [
    "df.shape"
   ]
  },
  {
   "cell_type": "code",
   "execution_count": 5,
   "id": "784edb0d",
   "metadata": {
    "execution": {
     "iopub.execute_input": "2022-03-10T16:38:33.569695Z",
     "iopub.status.busy": "2022-03-10T16:38:33.569023Z",
     "iopub.status.idle": "2022-03-10T16:38:33.604683Z",
     "shell.execute_reply": "2022-03-10T16:38:33.605243Z",
     "shell.execute_reply.started": "2022-03-10T14:13:49.340117Z"
    },
    "papermill": {
     "duration": 0.128255,
     "end_time": "2022-03-10T16:38:33.605431",
     "exception": false,
     "start_time": "2022-03-10T16:38:33.477176",
     "status": "completed"
    },
    "tags": []
   },
   "outputs": [
    {
     "data": {
      "text/html": [
       "<div>\n",
       "<style scoped>\n",
       "    .dataframe tbody tr th:only-of-type {\n",
       "        vertical-align: middle;\n",
       "    }\n",
       "\n",
       "    .dataframe tbody tr th {\n",
       "        vertical-align: top;\n",
       "    }\n",
       "\n",
       "    .dataframe thead th {\n",
       "        text-align: right;\n",
       "    }\n",
       "</style>\n",
       "<table border=\"1\" class=\"dataframe\">\n",
       "  <thead>\n",
       "    <tr style=\"text-align: right;\">\n",
       "      <th></th>\n",
       "      <th>row_id</th>\n",
       "      <th>A0T0G0C10</th>\n",
       "      <th>A0T0G1C9</th>\n",
       "      <th>A0T0G2C8</th>\n",
       "      <th>A0T0G3C7</th>\n",
       "      <th>A0T0G4C6</th>\n",
       "      <th>A0T0G5C5</th>\n",
       "      <th>A0T0G6C4</th>\n",
       "      <th>A0T0G7C3</th>\n",
       "      <th>A0T0G8C2</th>\n",
       "      <th>...</th>\n",
       "      <th>A8T0G1C1</th>\n",
       "      <th>A8T0G2C0</th>\n",
       "      <th>A8T1G0C1</th>\n",
       "      <th>A8T1G1C0</th>\n",
       "      <th>A8T2G0C0</th>\n",
       "      <th>A9T0G0C1</th>\n",
       "      <th>A9T0G1C0</th>\n",
       "      <th>A9T1G0C0</th>\n",
       "      <th>A10T0G0C0</th>\n",
       "      <th>target</th>\n",
       "    </tr>\n",
       "  </thead>\n",
       "  <tbody>\n",
       "    <tr>\n",
       "      <th>0</th>\n",
       "      <td>0</td>\n",
       "      <td>-9.536743e-07</td>\n",
       "      <td>-0.000010</td>\n",
       "      <td>-0.000043</td>\n",
       "      <td>-0.000114</td>\n",
       "      <td>-0.000200</td>\n",
       "      <td>-0.000240</td>\n",
       "      <td>-0.000200</td>\n",
       "      <td>-0.000114</td>\n",
       "      <td>-0.000043</td>\n",
       "      <td>...</td>\n",
       "      <td>-0.000086</td>\n",
       "      <td>-0.000043</td>\n",
       "      <td>-0.000086</td>\n",
       "      <td>-0.000086</td>\n",
       "      <td>-0.000043</td>\n",
       "      <td>-0.000010</td>\n",
       "      <td>-0.000010</td>\n",
       "      <td>-0.000010</td>\n",
       "      <td>-9.536743e-07</td>\n",
       "      <td>Streptococcus_pyogenes</td>\n",
       "    </tr>\n",
       "    <tr>\n",
       "      <th>1</th>\n",
       "      <td>1</td>\n",
       "      <td>-9.536743e-07</td>\n",
       "      <td>-0.000010</td>\n",
       "      <td>-0.000043</td>\n",
       "      <td>0.000886</td>\n",
       "      <td>-0.000200</td>\n",
       "      <td>0.000760</td>\n",
       "      <td>-0.000200</td>\n",
       "      <td>-0.000114</td>\n",
       "      <td>-0.000043</td>\n",
       "      <td>...</td>\n",
       "      <td>-0.000086</td>\n",
       "      <td>-0.000043</td>\n",
       "      <td>0.000914</td>\n",
       "      <td>0.000914</td>\n",
       "      <td>-0.000043</td>\n",
       "      <td>-0.000010</td>\n",
       "      <td>-0.000010</td>\n",
       "      <td>-0.000010</td>\n",
       "      <td>-9.536743e-07</td>\n",
       "      <td>Salmonella_enterica</td>\n",
       "    </tr>\n",
       "    <tr>\n",
       "      <th>2</th>\n",
       "      <td>2</td>\n",
       "      <td>-9.536743e-07</td>\n",
       "      <td>-0.000002</td>\n",
       "      <td>0.000007</td>\n",
       "      <td>0.000129</td>\n",
       "      <td>0.000268</td>\n",
       "      <td>0.000270</td>\n",
       "      <td>0.000243</td>\n",
       "      <td>0.000125</td>\n",
       "      <td>0.000001</td>\n",
       "      <td>...</td>\n",
       "      <td>0.000084</td>\n",
       "      <td>0.000048</td>\n",
       "      <td>0.000081</td>\n",
       "      <td>0.000106</td>\n",
       "      <td>0.000072</td>\n",
       "      <td>0.000010</td>\n",
       "      <td>0.000008</td>\n",
       "      <td>0.000019</td>\n",
       "      <td>1.046326e-06</td>\n",
       "      <td>Salmonella_enterica</td>\n",
       "    </tr>\n",
       "    <tr>\n",
       "      <th>3</th>\n",
       "      <td>3</td>\n",
       "      <td>4.632568e-08</td>\n",
       "      <td>-0.000006</td>\n",
       "      <td>0.000012</td>\n",
       "      <td>0.000245</td>\n",
       "      <td>0.000492</td>\n",
       "      <td>0.000522</td>\n",
       "      <td>0.000396</td>\n",
       "      <td>0.000197</td>\n",
       "      <td>-0.000003</td>\n",
       "      <td>...</td>\n",
       "      <td>0.000151</td>\n",
       "      <td>0.000100</td>\n",
       "      <td>0.000180</td>\n",
       "      <td>0.000202</td>\n",
       "      <td>0.000153</td>\n",
       "      <td>0.000021</td>\n",
       "      <td>0.000015</td>\n",
       "      <td>0.000046</td>\n",
       "      <td>-9.536743e-07</td>\n",
       "      <td>Salmonella_enterica</td>\n",
       "    </tr>\n",
       "    <tr>\n",
       "      <th>4</th>\n",
       "      <td>4</td>\n",
       "      <td>-9.536743e-07</td>\n",
       "      <td>-0.000010</td>\n",
       "      <td>-0.000043</td>\n",
       "      <td>-0.000114</td>\n",
       "      <td>-0.000200</td>\n",
       "      <td>-0.000240</td>\n",
       "      <td>-0.000200</td>\n",
       "      <td>-0.000114</td>\n",
       "      <td>-0.000043</td>\n",
       "      <td>...</td>\n",
       "      <td>-0.000086</td>\n",
       "      <td>-0.000043</td>\n",
       "      <td>-0.000086</td>\n",
       "      <td>-0.000086</td>\n",
       "      <td>-0.000043</td>\n",
       "      <td>-0.000010</td>\n",
       "      <td>-0.000010</td>\n",
       "      <td>-0.000010</td>\n",
       "      <td>-9.536743e-07</td>\n",
       "      <td>Enterococcus_hirae</td>\n",
       "    </tr>\n",
       "  </tbody>\n",
       "</table>\n",
       "<p>5 rows × 288 columns</p>\n",
       "</div>"
      ],
      "text/plain": [
       "   row_id     A0T0G0C10  A0T0G1C9  A0T0G2C8  A0T0G3C7  A0T0G4C6  A0T0G5C5  \\\n",
       "0       0 -9.536743e-07 -0.000010 -0.000043 -0.000114 -0.000200 -0.000240   \n",
       "1       1 -9.536743e-07 -0.000010 -0.000043  0.000886 -0.000200  0.000760   \n",
       "2       2 -9.536743e-07 -0.000002  0.000007  0.000129  0.000268  0.000270   \n",
       "3       3  4.632568e-08 -0.000006  0.000012  0.000245  0.000492  0.000522   \n",
       "4       4 -9.536743e-07 -0.000010 -0.000043 -0.000114 -0.000200 -0.000240   \n",
       "\n",
       "   A0T0G6C4  A0T0G7C3  A0T0G8C2  ...  A8T0G1C1  A8T0G2C0  A8T1G0C1  A8T1G1C0  \\\n",
       "0 -0.000200 -0.000114 -0.000043  ... -0.000086 -0.000043 -0.000086 -0.000086   \n",
       "1 -0.000200 -0.000114 -0.000043  ... -0.000086 -0.000043  0.000914  0.000914   \n",
       "2  0.000243  0.000125  0.000001  ...  0.000084  0.000048  0.000081  0.000106   \n",
       "3  0.000396  0.000197 -0.000003  ...  0.000151  0.000100  0.000180  0.000202   \n",
       "4 -0.000200 -0.000114 -0.000043  ... -0.000086 -0.000043 -0.000086 -0.000086   \n",
       "\n",
       "   A8T2G0C0  A9T0G0C1  A9T0G1C0  A9T1G0C0     A10T0G0C0  \\\n",
       "0 -0.000043 -0.000010 -0.000010 -0.000010 -9.536743e-07   \n",
       "1 -0.000043 -0.000010 -0.000010 -0.000010 -9.536743e-07   \n",
       "2  0.000072  0.000010  0.000008  0.000019  1.046326e-06   \n",
       "3  0.000153  0.000021  0.000015  0.000046 -9.536743e-07   \n",
       "4 -0.000043 -0.000010 -0.000010 -0.000010 -9.536743e-07   \n",
       "\n",
       "                   target  \n",
       "0  Streptococcus_pyogenes  \n",
       "1     Salmonella_enterica  \n",
       "2     Salmonella_enterica  \n",
       "3     Salmonella_enterica  \n",
       "4      Enterococcus_hirae  \n",
       "\n",
       "[5 rows x 288 columns]"
      ]
     },
     "execution_count": 5,
     "metadata": {},
     "output_type": "execute_result"
    }
   ],
   "source": [
    "df.head()"
   ]
  },
  {
   "cell_type": "code",
   "execution_count": 6,
   "id": "02c7f004",
   "metadata": {
    "execution": {
     "iopub.execute_input": "2022-03-10T16:38:33.796005Z",
     "iopub.status.busy": "2022-03-10T16:38:33.795308Z",
     "iopub.status.idle": "2022-03-10T16:38:33.799876Z",
     "shell.execute_reply": "2022-03-10T16:38:33.799248Z",
     "shell.execute_reply.started": "2022-03-10T14:13:49.400377Z"
    },
    "papermill": {
     "duration": 0.103435,
     "end_time": "2022-03-10T16:38:33.800023",
     "exception": false,
     "start_time": "2022-03-10T16:38:33.696588",
     "status": "completed"
    },
    "tags": []
   },
   "outputs": [
    {
     "data": {
      "text/plain": [
       "row_id         int64\n",
       "A0T0G0C10    float64\n",
       "A0T0G1C9     float64\n",
       "A0T0G2C8     float64\n",
       "A0T0G3C7     float64\n",
       "              ...   \n",
       "A9T0G0C1     float64\n",
       "A9T0G1C0     float64\n",
       "A9T1G0C0     float64\n",
       "A10T0G0C0    float64\n",
       "target        object\n",
       "Length: 288, dtype: object"
      ]
     },
     "execution_count": 6,
     "metadata": {},
     "output_type": "execute_result"
    }
   ],
   "source": [
    "df.dtypes"
   ]
  },
  {
   "cell_type": "markdown",
   "id": "4b68b784",
   "metadata": {
    "papermill": {
     "duration": 0.089049,
     "end_time": "2022-03-10T16:38:33.981705",
     "exception": false,
     "start_time": "2022-03-10T16:38:33.892656",
     "status": "completed"
    },
    "tags": []
   },
   "source": [
    "We are working with very high dimensional data, which can make the learning process more difficult.\n",
    "It will be necessary to mitigate this problem by using a dimensionality reduction technique."
   ]
  },
  {
   "cell_type": "code",
   "execution_count": 7,
   "id": "d408f993",
   "metadata": {
    "execution": {
     "iopub.execute_input": "2022-03-10T16:38:34.352621Z",
     "iopub.status.busy": "2022-03-10T16:38:34.349699Z",
     "iopub.status.idle": "2022-03-10T16:38:34.356810Z",
     "shell.execute_reply": "2022-03-10T16:38:34.356081Z",
     "shell.execute_reply.started": "2022-03-10T14:13:49.411719Z"
    },
    "papermill": {
     "duration": 0.285651,
     "end_time": "2022-03-10T16:38:34.356959",
     "exception": false,
     "start_time": "2022-03-10T16:38:34.071308",
     "status": "completed"
    },
    "tags": []
   },
   "outputs": [
    {
     "data": {
      "text/plain": [
       "(200000, 287)"
      ]
     },
     "execution_count": 7,
     "metadata": {},
     "output_type": "execute_result"
    }
   ],
   "source": [
    "# We drop the row_id column because we will not use it\n",
    "df.drop(columns=[\"row_id\"], inplace=True)\n",
    "df.shape"
   ]
  },
  {
   "cell_type": "code",
   "execution_count": 8,
   "id": "d53a1f60",
   "metadata": {
    "execution": {
     "iopub.execute_input": "2022-03-10T16:38:34.547778Z",
     "iopub.status.busy": "2022-03-10T16:38:34.547055Z",
     "iopub.status.idle": "2022-03-10T16:38:34.692770Z",
     "shell.execute_reply": "2022-03-10T16:38:34.692136Z",
     "shell.execute_reply.started": "2022-03-10T14:13:49.632784Z"
    },
    "papermill": {
     "duration": 0.243625,
     "end_time": "2022-03-10T16:38:34.692918",
     "exception": false,
     "start_time": "2022-03-10T16:38:34.449293",
     "status": "completed"
    },
    "tags": []
   },
   "outputs": [
    {
     "data": {
      "text/plain": [
       "False"
      ]
     },
     "execution_count": 8,
     "metadata": {},
     "output_type": "execute_result"
    }
   ],
   "source": [
    "# Check the presence of null values\n",
    "df.isnull().values.any()"
   ]
  },
  {
   "cell_type": "code",
   "execution_count": 9,
   "id": "3f95648e",
   "metadata": {
    "execution": {
     "iopub.execute_input": "2022-03-10T16:38:34.883886Z",
     "iopub.status.busy": "2022-03-10T16:38:34.882687Z",
     "iopub.status.idle": "2022-03-10T16:38:35.047331Z",
     "shell.execute_reply": "2022-03-10T16:38:35.046649Z",
     "shell.execute_reply.started": "2022-03-10T14:13:49.796444Z"
    },
    "papermill": {
     "duration": 0.262303,
     "end_time": "2022-03-10T16:38:35.047482",
     "exception": false,
     "start_time": "2022-03-10T16:38:34.785179",
     "status": "completed"
    },
    "tags": []
   },
   "outputs": [
    {
     "data": {
      "text/plain": [
       "True"
      ]
     },
     "execution_count": 9,
     "metadata": {},
     "output_type": "execute_result"
    }
   ],
   "source": [
    "# Check the absence of values equals to zero\n",
    "df.all().all()"
   ]
  },
  {
   "cell_type": "markdown",
   "id": "152dee3d",
   "metadata": {
    "papermill": {
     "duration": 0.092399,
     "end_time": "2022-03-10T16:38:35.232599",
     "exception": false,
     "start_time": "2022-03-10T16:38:35.140200",
     "status": "completed"
    },
    "tags": []
   },
   "source": [
    "As we have seen, in the dataframe there aren't null or 0 values."
   ]
  },
  {
   "cell_type": "code",
   "execution_count": 10,
   "id": "fe99b05f",
   "metadata": {
    "execution": {
     "iopub.execute_input": "2022-03-10T16:38:35.629180Z",
     "iopub.status.busy": "2022-03-10T16:38:35.628285Z",
     "iopub.status.idle": "2022-03-10T16:38:38.088996Z",
     "shell.execute_reply": "2022-03-10T16:38:38.088381Z",
     "shell.execute_reply.started": "2022-03-10T14:13:49.974204Z"
    },
    "papermill": {
     "duration": 2.755133,
     "end_time": "2022-03-10T16:38:38.089157",
     "exception": false,
     "start_time": "2022-03-10T16:38:35.334024",
     "status": "completed"
    },
    "tags": []
   },
   "outputs": [
    {
     "data": {
      "text/html": [
       "<div>\n",
       "<style scoped>\n",
       "    .dataframe tbody tr th:only-of-type {\n",
       "        vertical-align: middle;\n",
       "    }\n",
       "\n",
       "    .dataframe tbody tr th {\n",
       "        vertical-align: top;\n",
       "    }\n",
       "\n",
       "    .dataframe thead th {\n",
       "        text-align: right;\n",
       "    }\n",
       "</style>\n",
       "<table border=\"1\" class=\"dataframe\">\n",
       "  <thead>\n",
       "    <tr style=\"text-align: right;\">\n",
       "      <th></th>\n",
       "      <th>A0T0G0C10</th>\n",
       "      <th>A0T0G1C9</th>\n",
       "      <th>A0T0G2C8</th>\n",
       "      <th>A0T0G3C7</th>\n",
       "      <th>A0T0G4C6</th>\n",
       "      <th>A0T0G5C5</th>\n",
       "      <th>A0T0G6C4</th>\n",
       "      <th>A0T0G7C3</th>\n",
       "      <th>A0T0G8C2</th>\n",
       "      <th>A0T0G9C1</th>\n",
       "      <th>...</th>\n",
       "      <th>A8T0G0C2</th>\n",
       "      <th>A8T0G1C1</th>\n",
       "      <th>A8T0G2C0</th>\n",
       "      <th>A8T1G0C1</th>\n",
       "      <th>A8T1G1C0</th>\n",
       "      <th>A8T2G0C0</th>\n",
       "      <th>A9T0G0C1</th>\n",
       "      <th>A9T0G1C0</th>\n",
       "      <th>A9T1G0C0</th>\n",
       "      <th>A10T0G0C0</th>\n",
       "    </tr>\n",
       "  </thead>\n",
       "  <tbody>\n",
       "    <tr>\n",
       "      <th>count</th>\n",
       "      <td>2.000000e+05</td>\n",
       "      <td>200000.000000</td>\n",
       "      <td>200000.000000</td>\n",
       "      <td>200000.000000</td>\n",
       "      <td>200000.000000</td>\n",
       "      <td>200000.000000</td>\n",
       "      <td>200000.000000</td>\n",
       "      <td>200000.000000</td>\n",
       "      <td>200000.000000</td>\n",
       "      <td>200000.000000</td>\n",
       "      <td>...</td>\n",
       "      <td>200000.000000</td>\n",
       "      <td>200000.000000</td>\n",
       "      <td>200000.000000</td>\n",
       "      <td>200000.000000</td>\n",
       "      <td>200000.000000</td>\n",
       "      <td>200000.000000</td>\n",
       "      <td>200000.000000</td>\n",
       "      <td>2.000000e+05</td>\n",
       "      <td>2.000000e+05</td>\n",
       "      <td>2.000000e+05</td>\n",
       "    </tr>\n",
       "    <tr>\n",
       "      <th>mean</th>\n",
       "      <td>6.421457e-07</td>\n",
       "      <td>-0.000003</td>\n",
       "      <td>-0.000014</td>\n",
       "      <td>-0.000010</td>\n",
       "      <td>0.000005</td>\n",
       "      <td>0.000025</td>\n",
       "      <td>0.000014</td>\n",
       "      <td>-0.000009</td>\n",
       "      <td>-0.000028</td>\n",
       "      <td>-0.000008</td>\n",
       "      <td>...</td>\n",
       "      <td>0.000135</td>\n",
       "      <td>0.000348</td>\n",
       "      <td>0.000253</td>\n",
       "      <td>0.000464</td>\n",
       "      <td>0.000581</td>\n",
       "      <td>0.000379</td>\n",
       "      <td>0.000062</td>\n",
       "      <td>8.982134e-05</td>\n",
       "      <td>1.170014e-04</td>\n",
       "      <td>2.215407e-07</td>\n",
       "    </tr>\n",
       "    <tr>\n",
       "      <th>std</th>\n",
       "      <td>8.654927e-05</td>\n",
       "      <td>0.000132</td>\n",
       "      <td>0.000287</td>\n",
       "      <td>0.000436</td>\n",
       "      <td>0.000683</td>\n",
       "      <td>0.000869</td>\n",
       "      <td>0.000775</td>\n",
       "      <td>0.000441</td>\n",
       "      <td>0.000107</td>\n",
       "      <td>0.000083</td>\n",
       "      <td>...</td>\n",
       "      <td>0.000711</td>\n",
       "      <td>0.001117</td>\n",
       "      <td>0.000914</td>\n",
       "      <td>0.001238</td>\n",
       "      <td>0.001528</td>\n",
       "      <td>0.001182</td>\n",
       "      <td>0.000466</td>\n",
       "      <td>5.475606e-04</td>\n",
       "      <td>6.788277e-04</td>\n",
       "      <td>2.050081e-05</td>\n",
       "    </tr>\n",
       "    <tr>\n",
       "      <th>min</th>\n",
       "      <td>-9.536743e-07</td>\n",
       "      <td>-0.000010</td>\n",
       "      <td>-0.000043</td>\n",
       "      <td>-0.000114</td>\n",
       "      <td>-0.000200</td>\n",
       "      <td>-0.000240</td>\n",
       "      <td>-0.000200</td>\n",
       "      <td>-0.000114</td>\n",
       "      <td>-0.000043</td>\n",
       "      <td>-0.000010</td>\n",
       "      <td>...</td>\n",
       "      <td>-0.000043</td>\n",
       "      <td>-0.000086</td>\n",
       "      <td>-0.000043</td>\n",
       "      <td>-0.000086</td>\n",
       "      <td>-0.000086</td>\n",
       "      <td>-0.000043</td>\n",
       "      <td>-0.000010</td>\n",
       "      <td>-9.536743e-06</td>\n",
       "      <td>-9.536743e-06</td>\n",
       "      <td>-9.536743e-07</td>\n",
       "    </tr>\n",
       "    <tr>\n",
       "      <th>25%</th>\n",
       "      <td>-9.536743e-07</td>\n",
       "      <td>-0.000010</td>\n",
       "      <td>-0.000043</td>\n",
       "      <td>-0.000114</td>\n",
       "      <td>-0.000200</td>\n",
       "      <td>-0.000240</td>\n",
       "      <td>-0.000200</td>\n",
       "      <td>-0.000114</td>\n",
       "      <td>-0.000043</td>\n",
       "      <td>-0.000010</td>\n",
       "      <td>...</td>\n",
       "      <td>-0.000043</td>\n",
       "      <td>-0.000086</td>\n",
       "      <td>-0.000043</td>\n",
       "      <td>-0.000086</td>\n",
       "      <td>-0.000086</td>\n",
       "      <td>-0.000043</td>\n",
       "      <td>-0.000010</td>\n",
       "      <td>-9.536743e-06</td>\n",
       "      <td>-9.536743e-06</td>\n",
       "      <td>-9.536743e-07</td>\n",
       "    </tr>\n",
       "    <tr>\n",
       "      <th>50%</th>\n",
       "      <td>-9.536743e-07</td>\n",
       "      <td>-0.000010</td>\n",
       "      <td>-0.000043</td>\n",
       "      <td>-0.000114</td>\n",
       "      <td>-0.000200</td>\n",
       "      <td>-0.000237</td>\n",
       "      <td>-0.000199</td>\n",
       "      <td>-0.000114</td>\n",
       "      <td>-0.000043</td>\n",
       "      <td>-0.000010</td>\n",
       "      <td>...</td>\n",
       "      <td>0.000014</td>\n",
       "      <td>0.000064</td>\n",
       "      <td>0.000047</td>\n",
       "      <td>0.000124</td>\n",
       "      <td>0.000114</td>\n",
       "      <td>0.000043</td>\n",
       "      <td>-0.000010</td>\n",
       "      <td>4.632568e-07</td>\n",
       "      <td>4.632568e-07</td>\n",
       "      <td>-9.536743e-07</td>\n",
       "    </tr>\n",
       "    <tr>\n",
       "      <th>75%</th>\n",
       "      <td>-9.536743e-07</td>\n",
       "      <td>-0.000003</td>\n",
       "      <td>-0.000013</td>\n",
       "      <td>-0.000004</td>\n",
       "      <td>-0.000011</td>\n",
       "      <td>0.000003</td>\n",
       "      <td>-0.000030</td>\n",
       "      <td>0.000004</td>\n",
       "      <td>-0.000028</td>\n",
       "      <td>-0.000010</td>\n",
       "      <td>...</td>\n",
       "      <td>0.000111</td>\n",
       "      <td>0.000463</td>\n",
       "      <td>0.000297</td>\n",
       "      <td>0.000684</td>\n",
       "      <td>0.000774</td>\n",
       "      <td>0.000365</td>\n",
       "      <td>0.000030</td>\n",
       "      <td>6.046326e-05</td>\n",
       "      <td>6.946326e-05</td>\n",
       "      <td>-9.536743e-07</td>\n",
       "    </tr>\n",
       "    <tr>\n",
       "      <th>max</th>\n",
       "      <td>9.999046e-03</td>\n",
       "      <td>0.009990</td>\n",
       "      <td>0.009957</td>\n",
       "      <td>0.009886</td>\n",
       "      <td>0.019800</td>\n",
       "      <td>0.019760</td>\n",
       "      <td>0.019800</td>\n",
       "      <td>0.009886</td>\n",
       "      <td>0.009957</td>\n",
       "      <td>0.009990</td>\n",
       "      <td>...</td>\n",
       "      <td>0.019957</td>\n",
       "      <td>0.019914</td>\n",
       "      <td>0.019957</td>\n",
       "      <td>0.019914</td>\n",
       "      <td>0.019914</td>\n",
       "      <td>0.019957</td>\n",
       "      <td>0.009990</td>\n",
       "      <td>9.990463e-03</td>\n",
       "      <td>1.999046e-02</td>\n",
       "      <td>9.990463e-04</td>\n",
       "    </tr>\n",
       "  </tbody>\n",
       "</table>\n",
       "<p>8 rows × 286 columns</p>\n",
       "</div>"
      ],
      "text/plain": [
       "          A0T0G0C10       A0T0G1C9       A0T0G2C8       A0T0G3C7  \\\n",
       "count  2.000000e+05  200000.000000  200000.000000  200000.000000   \n",
       "mean   6.421457e-07      -0.000003      -0.000014      -0.000010   \n",
       "std    8.654927e-05       0.000132       0.000287       0.000436   \n",
       "min   -9.536743e-07      -0.000010      -0.000043      -0.000114   \n",
       "25%   -9.536743e-07      -0.000010      -0.000043      -0.000114   \n",
       "50%   -9.536743e-07      -0.000010      -0.000043      -0.000114   \n",
       "75%   -9.536743e-07      -0.000003      -0.000013      -0.000004   \n",
       "max    9.999046e-03       0.009990       0.009957       0.009886   \n",
       "\n",
       "            A0T0G4C6       A0T0G5C5       A0T0G6C4       A0T0G7C3  \\\n",
       "count  200000.000000  200000.000000  200000.000000  200000.000000   \n",
       "mean        0.000005       0.000025       0.000014      -0.000009   \n",
       "std         0.000683       0.000869       0.000775       0.000441   \n",
       "min        -0.000200      -0.000240      -0.000200      -0.000114   \n",
       "25%        -0.000200      -0.000240      -0.000200      -0.000114   \n",
       "50%        -0.000200      -0.000237      -0.000199      -0.000114   \n",
       "75%        -0.000011       0.000003      -0.000030       0.000004   \n",
       "max         0.019800       0.019760       0.019800       0.009886   \n",
       "\n",
       "            A0T0G8C2       A0T0G9C1  ...       A8T0G0C2       A8T0G1C1  \\\n",
       "count  200000.000000  200000.000000  ...  200000.000000  200000.000000   \n",
       "mean       -0.000028      -0.000008  ...       0.000135       0.000348   \n",
       "std         0.000107       0.000083  ...       0.000711       0.001117   \n",
       "min        -0.000043      -0.000010  ...      -0.000043      -0.000086   \n",
       "25%        -0.000043      -0.000010  ...      -0.000043      -0.000086   \n",
       "50%        -0.000043      -0.000010  ...       0.000014       0.000064   \n",
       "75%        -0.000028      -0.000010  ...       0.000111       0.000463   \n",
       "max         0.009957       0.009990  ...       0.019957       0.019914   \n",
       "\n",
       "            A8T0G2C0       A8T1G0C1       A8T1G1C0       A8T2G0C0  \\\n",
       "count  200000.000000  200000.000000  200000.000000  200000.000000   \n",
       "mean        0.000253       0.000464       0.000581       0.000379   \n",
       "std         0.000914       0.001238       0.001528       0.001182   \n",
       "min        -0.000043      -0.000086      -0.000086      -0.000043   \n",
       "25%        -0.000043      -0.000086      -0.000086      -0.000043   \n",
       "50%         0.000047       0.000124       0.000114       0.000043   \n",
       "75%         0.000297       0.000684       0.000774       0.000365   \n",
       "max         0.019957       0.019914       0.019914       0.019957   \n",
       "\n",
       "            A9T0G0C1      A9T0G1C0      A9T1G0C0     A10T0G0C0  \n",
       "count  200000.000000  2.000000e+05  2.000000e+05  2.000000e+05  \n",
       "mean        0.000062  8.982134e-05  1.170014e-04  2.215407e-07  \n",
       "std         0.000466  5.475606e-04  6.788277e-04  2.050081e-05  \n",
       "min        -0.000010 -9.536743e-06 -9.536743e-06 -9.536743e-07  \n",
       "25%        -0.000010 -9.536743e-06 -9.536743e-06 -9.536743e-07  \n",
       "50%        -0.000010  4.632568e-07  4.632568e-07 -9.536743e-07  \n",
       "75%         0.000030  6.046326e-05  6.946326e-05 -9.536743e-07  \n",
       "max         0.009990  9.990463e-03  1.999046e-02  9.990463e-04  \n",
       "\n",
       "[8 rows x 286 columns]"
      ]
     },
     "execution_count": 10,
     "metadata": {},
     "output_type": "execute_result"
    }
   ],
   "source": [
    "df.describe()"
   ]
  },
  {
   "cell_type": "code",
   "execution_count": 11,
   "id": "efb072bf",
   "metadata": {
    "execution": {
     "iopub.execute_input": "2022-03-10T16:38:38.312568Z",
     "iopub.status.busy": "2022-03-10T16:38:38.311607Z",
     "iopub.status.idle": "2022-03-10T16:38:38.645571Z",
     "shell.execute_reply": "2022-03-10T16:38:38.644816Z",
     "shell.execute_reply.started": "2022-03-10T14:13:53.339397Z"
    },
    "papermill": {
     "duration": 0.463038,
     "end_time": "2022-03-10T16:38:38.645740",
     "exception": false,
     "start_time": "2022-03-10T16:38:38.182702",
     "status": "completed"
    },
    "tags": []
   },
   "outputs": [
    {
     "data": {
      "image/png": "[encoded data removed]",
      "text/plain": [
       "<Figure size 432x288 with 1 Axes>"
      ]
     },
     "metadata": {
      "needs_background": "light"
     },
     "output_type": "display_data"
    }
   ],
   "source": [
    "# Plot the distribution of values for the target column\n",
    "df[\"target\"].value_counts().plot(kind=\"bar\");"
   ]
  },
  {
   "cell_type": "markdown",
   "id": "c8e3d0a0",
   "metadata": {
    "papermill": {
     "duration": 0.095852,
     "end_time": "2022-03-10T16:38:38.836104",
     "exception": false,
     "start_time": "2022-03-10T16:38:38.740252",
     "status": "completed"
    },
    "tags": []
   },
   "source": [
    "As we can see, the 10 different classes in the dataset are balanced."
   ]
  },
  {
   "cell_type": "markdown",
   "id": "75df2c5f",
   "metadata": {
    "papermill": {
     "duration": 0.094323,
     "end_time": "2022-03-10T16:38:39.025457",
     "exception": false,
     "start_time": "2022-03-10T16:38:38.931134",
     "status": "completed"
    },
    "tags": []
   },
   "source": [
    "## **Target Labels Encoding**"
   ]
  },
  {
   "cell_type": "markdown",
   "id": "0610794a",
   "metadata": {
    "papermill": {
     "duration": 0.094602,
     "end_time": "2022-03-10T16:38:39.214695",
     "exception": false,
     "start_time": "2022-03-10T16:38:39.120093",
     "status": "completed"
    },
    "tags": []
   },
   "source": [
    "We start the preprocessing of the dataset by encoding the labels of the target class.\n",
    "For this purpose we will use the LabelEncoder provided by sklearn, which will map each textual label into a number between 0 and 9."
   ]
  },
  {
   "cell_type": "code",
   "execution_count": 12,
   "id": "3f9313c4",
   "metadata": {
    "execution": {
     "iopub.execute_input": "2022-03-10T16:38:39.407739Z",
     "iopub.status.busy": "2022-03-10T16:38:39.407046Z",
     "iopub.status.idle": "2022-03-10T16:38:40.327466Z",
     "shell.execute_reply": "2022-03-10T16:38:40.326884Z",
     "shell.execute_reply.started": "2022-03-10T14:13:53.694722Z"
    },
    "papermill": {
     "duration": 1.018416,
     "end_time": "2022-03-10T16:38:40.327638",
     "exception": false,
     "start_time": "2022-03-10T16:38:39.309222",
     "status": "completed"
    },
    "tags": []
   },
   "outputs": [],
   "source": [
    "from sklearn.preprocessing import LabelEncoder"
   ]
  },
  {
   "cell_type": "code",
   "execution_count": 13,
   "id": "4401d837",
   "metadata": {
    "execution": {
     "iopub.execute_input": "2022-03-10T16:38:40.579292Z",
     "iopub.status.busy": "2022-03-10T16:38:40.578571Z",
     "iopub.status.idle": "2022-03-10T16:38:40.609619Z",
     "shell.execute_reply": "2022-03-10T16:38:40.608969Z",
     "shell.execute_reply.started": "2022-03-10T14:13:54.831514Z"
    },
    "papermill": {
     "duration": 0.18661,
     "end_time": "2022-03-10T16:38:40.609771",
     "exception": false,
     "start_time": "2022-03-10T16:38:40.423161",
     "status": "completed"
    },
    "tags": []
   },
   "outputs": [
    {
     "data": {
      "text/html": [
       "<div>\n",
       "<style scoped>\n",
       "    .dataframe tbody tr th:only-of-type {\n",
       "        vertical-align: middle;\n",
       "    }\n",
       "\n",
       "    .dataframe tbody tr th {\n",
       "        vertical-align: top;\n",
       "    }\n",
       "\n",
       "    .dataframe thead th {\n",
       "        text-align: right;\n",
       "    }\n",
       "</style>\n",
       "<table border=\"1\" class=\"dataframe\">\n",
       "  <thead>\n",
       "    <tr style=\"text-align: right;\">\n",
       "      <th></th>\n",
       "      <th>A0T0G0C10</th>\n",
       "      <th>A0T0G1C9</th>\n",
       "      <th>A0T0G2C8</th>\n",
       "      <th>A0T0G3C7</th>\n",
       "      <th>A0T0G4C6</th>\n",
       "      <th>A0T0G5C5</th>\n",
       "      <th>A0T0G6C4</th>\n",
       "      <th>A0T0G7C3</th>\n",
       "      <th>A0T0G8C2</th>\n",
       "      <th>A0T0G9C1</th>\n",
       "      <th>...</th>\n",
       "      <th>A8T0G1C1</th>\n",
       "      <th>A8T0G2C0</th>\n",
       "      <th>A8T1G0C1</th>\n",
       "      <th>A8T1G1C0</th>\n",
       "      <th>A8T2G0C0</th>\n",
       "      <th>A9T0G0C1</th>\n",
       "      <th>A9T0G1C0</th>\n",
       "      <th>A9T1G0C0</th>\n",
       "      <th>A10T0G0C0</th>\n",
       "      <th>target</th>\n",
       "    </tr>\n",
       "  </thead>\n",
       "  <tbody>\n",
       "    <tr>\n",
       "      <th>0</th>\n",
       "      <td>-9.536743e-07</td>\n",
       "      <td>-0.000010</td>\n",
       "      <td>-0.000043</td>\n",
       "      <td>-0.000114</td>\n",
       "      <td>-0.000200</td>\n",
       "      <td>-0.000240</td>\n",
       "      <td>-0.000200</td>\n",
       "      <td>-0.000114</td>\n",
       "      <td>-0.000043</td>\n",
       "      <td>-0.000010</td>\n",
       "      <td>...</td>\n",
       "      <td>-0.000086</td>\n",
       "      <td>-0.000043</td>\n",
       "      <td>-0.000086</td>\n",
       "      <td>-0.000086</td>\n",
       "      <td>-0.000043</td>\n",
       "      <td>-0.000010</td>\n",
       "      <td>-0.000010</td>\n",
       "      <td>-0.000010</td>\n",
       "      <td>-9.536743e-07</td>\n",
       "      <td>9</td>\n",
       "    </tr>\n",
       "    <tr>\n",
       "      <th>1</th>\n",
       "      <td>-9.536743e-07</td>\n",
       "      <td>-0.000010</td>\n",
       "      <td>-0.000043</td>\n",
       "      <td>0.000886</td>\n",
       "      <td>-0.000200</td>\n",
       "      <td>0.000760</td>\n",
       "      <td>-0.000200</td>\n",
       "      <td>-0.000114</td>\n",
       "      <td>-0.000043</td>\n",
       "      <td>-0.000010</td>\n",
       "      <td>...</td>\n",
       "      <td>-0.000086</td>\n",
       "      <td>-0.000043</td>\n",
       "      <td>0.000914</td>\n",
       "      <td>0.000914</td>\n",
       "      <td>-0.000043</td>\n",
       "      <td>-0.000010</td>\n",
       "      <td>-0.000010</td>\n",
       "      <td>-0.000010</td>\n",
       "      <td>-9.536743e-07</td>\n",
       "      <td>6</td>\n",
       "    </tr>\n",
       "    <tr>\n",
       "      <th>2</th>\n",
       "      <td>-9.536743e-07</td>\n",
       "      <td>-0.000002</td>\n",
       "      <td>0.000007</td>\n",
       "      <td>0.000129</td>\n",
       "      <td>0.000268</td>\n",
       "      <td>0.000270</td>\n",
       "      <td>0.000243</td>\n",
       "      <td>0.000125</td>\n",
       "      <td>0.000001</td>\n",
       "      <td>-0.000007</td>\n",
       "      <td>...</td>\n",
       "      <td>0.000084</td>\n",
       "      <td>0.000048</td>\n",
       "      <td>0.000081</td>\n",
       "      <td>0.000106</td>\n",
       "      <td>0.000072</td>\n",
       "      <td>0.000010</td>\n",
       "      <td>0.000008</td>\n",
       "      <td>0.000019</td>\n",
       "      <td>1.046326e-06</td>\n",
       "      <td>6</td>\n",
       "    </tr>\n",
       "    <tr>\n",
       "      <th>3</th>\n",
       "      <td>4.632568e-08</td>\n",
       "      <td>-0.000006</td>\n",
       "      <td>0.000012</td>\n",
       "      <td>0.000245</td>\n",
       "      <td>0.000492</td>\n",
       "      <td>0.000522</td>\n",
       "      <td>0.000396</td>\n",
       "      <td>0.000197</td>\n",
       "      <td>-0.000003</td>\n",
       "      <td>-0.000007</td>\n",
       "      <td>...</td>\n",
       "      <td>0.000151</td>\n",
       "      <td>0.000100</td>\n",
       "      <td>0.000180</td>\n",
       "      <td>0.000202</td>\n",
       "      <td>0.000153</td>\n",
       "      <td>0.000021</td>\n",
       "      <td>0.000015</td>\n",
       "      <td>0.000046</td>\n",
       "      <td>-9.536743e-07</td>\n",
       "      <td>6</td>\n",
       "    </tr>\n",
       "    <tr>\n",
       "      <th>4</th>\n",
       "      <td>-9.536743e-07</td>\n",
       "      <td>-0.000010</td>\n",
       "      <td>-0.000043</td>\n",
       "      <td>-0.000114</td>\n",
       "      <td>-0.000200</td>\n",
       "      <td>-0.000240</td>\n",
       "      <td>-0.000200</td>\n",
       "      <td>-0.000114</td>\n",
       "      <td>-0.000043</td>\n",
       "      <td>-0.000010</td>\n",
       "      <td>...</td>\n",
       "      <td>-0.000086</td>\n",
       "      <td>-0.000043</td>\n",
       "      <td>-0.000086</td>\n",
       "      <td>-0.000086</td>\n",
       "      <td>-0.000043</td>\n",
       "      <td>-0.000010</td>\n",
       "      <td>-0.000010</td>\n",
       "      <td>-0.000010</td>\n",
       "      <td>-9.536743e-07</td>\n",
       "      <td>2</td>\n",
       "    </tr>\n",
       "  </tbody>\n",
       "</table>\n",
       "<p>5 rows × 287 columns</p>\n",
       "</div>"
      ],
      "text/plain": [
       "      A0T0G0C10  A0T0G1C9  A0T0G2C8  A0T0G3C7  A0T0G4C6  A0T0G5C5  A0T0G6C4  \\\n",
       "0 -9.536743e-07 -0.000010 -0.000043 -0.000114 -0.000200 -0.000240 -0.000200   \n",
       "1 -9.536743e-07 -0.000010 -0.000043  0.000886 -0.000200  0.000760 -0.000200   \n",
       "2 -9.536743e-07 -0.000002  0.000007  0.000129  0.000268  0.000270  0.000243   \n",
       "3  4.632568e-08 -0.000006  0.000012  0.000245  0.000492  0.000522  0.000396   \n",
       "4 -9.536743e-07 -0.000010 -0.000043 -0.000114 -0.000200 -0.000240 -0.000200   \n",
       "\n",
       "   A0T0G7C3  A0T0G8C2  A0T0G9C1  ...  A8T0G1C1  A8T0G2C0  A8T1G0C1  A8T1G1C0  \\\n",
       "0 -0.000114 -0.000043 -0.000010  ... -0.000086 -0.000043 -0.000086 -0.000086   \n",
       "1 -0.000114 -0.000043 -0.000010  ... -0.000086 -0.000043  0.000914  0.000914   \n",
       "2  0.000125  0.000001 -0.000007  ...  0.000084  0.000048  0.000081  0.000106   \n",
       "3  0.000197 -0.000003 -0.000007  ...  0.000151  0.000100  0.000180  0.000202   \n",
       "4 -0.000114 -0.000043 -0.000010  ... -0.000086 -0.000043 -0.000086 -0.000086   \n",
       "\n",
       "   A8T2G0C0  A9T0G0C1  A9T0G1C0  A9T1G0C0     A10T0G0C0  target  \n",
       "0 -0.000043 -0.000010 -0.000010 -0.000010 -9.536743e-07       9  \n",
       "1 -0.000043 -0.000010 -0.000010 -0.000010 -9.536743e-07       6  \n",
       "2  0.000072  0.000010  0.000008  0.000019  1.046326e-06       6  \n",
       "3  0.000153  0.000021  0.000015  0.000046 -9.536743e-07       6  \n",
       "4 -0.000043 -0.000010 -0.000010 -0.000010 -9.536743e-07       2  \n",
       "\n",
       "[5 rows x 287 columns]"
      ]
     },
     "execution_count": 13,
     "metadata": {},
     "output_type": "execute_result"
    }
   ],
   "source": [
    "# Label encoding of the target.\n",
    "# We will map each of the 10 different target classess to an intger in the range 0-9\n",
    "label_encoder = LabelEncoder()\n",
    "df[\"target\"] = label_encoder.fit(df[\"target\"]).transform(df[\"target\"])\n",
    "df.head()"
   ]
  },
  {
   "cell_type": "markdown",
   "id": "d63a9359",
   "metadata": {
    "papermill": {
     "duration": 0.095282,
     "end_time": "2022-03-10T16:38:40.800566",
     "exception": false,
     "start_time": "2022-03-10T16:38:40.705284",
     "status": "completed"
    },
    "tags": []
   },
   "source": [
    "## **Train-Test Split**"
   ]
  },
  {
   "cell_type": "markdown",
   "id": "804dc472",
   "metadata": {
    "papermill": {
     "duration": 0.094125,
     "end_time": "2022-03-10T16:38:40.989327",
     "exception": false,
     "start_time": "2022-03-10T16:38:40.895202",
     "status": "completed"
    },
    "tags": []
   },
   "source": [
    "Altrought Kaggle provides separate training and test set for this task, we don't have access to the full test set.\n",
    "For this reason for now we will assume to have only the data in train.csv, and we will split it in two sets for training and testing.\n",
    "The test set will be equal to 1/3 of the initial dataset."
   ]
  },
  {
   "cell_type": "code",
   "execution_count": 14,
   "id": "583c8181",
   "metadata": {
    "execution": {
     "iopub.execute_input": "2022-03-10T16:38:41.180964Z",
     "iopub.status.busy": "2022-03-10T16:38:41.180281Z",
     "iopub.status.idle": "2022-03-10T16:38:41.233475Z",
     "shell.execute_reply": "2022-03-10T16:38:41.234052Z",
     "shell.execute_reply.started": "2022-03-10T14:13:54.921074Z"
    },
    "papermill": {
     "duration": 0.151054,
     "end_time": "2022-03-10T16:38:41.234237",
     "exception": false,
     "start_time": "2022-03-10T16:38:41.083183",
     "status": "completed"
    },
    "tags": []
   },
   "outputs": [],
   "source": [
    "# Imports\n",
    "from sklearn.model_selection import train_test_split"
   ]
  },
  {
   "cell_type": "code",
   "execution_count": 15,
   "id": "2b5f7988",
   "metadata": {
    "execution": {
     "iopub.execute_input": "2022-03-10T16:38:41.429559Z",
     "iopub.status.busy": "2022-03-10T16:38:41.428796Z",
     "iopub.status.idle": "2022-03-10T16:38:42.155808Z",
     "shell.execute_reply": "2022-03-10T16:38:42.155162Z",
     "shell.execute_reply.started": "2022-03-10T14:13:54.993724Z"
    },
    "papermill": {
     "duration": 0.826655,
     "end_time": "2022-03-10T16:38:42.155968",
     "exception": false,
     "start_time": "2022-03-10T16:38:41.329313",
     "status": "completed"
    },
    "tags": []
   },
   "outputs": [],
   "source": [
    "X_train, X_test, Y_train, Y_test = train_test_split(df.drop(columns=[\"target\"]), df[\"target\"], test_size=0.33, stratify=df[\"target\"], random_state=random_seed)"
   ]
  },
  {
   "cell_type": "code",
   "execution_count": 16,
   "id": "7683bfc8",
   "metadata": {
    "execution": {
     "iopub.execute_input": "2022-03-10T16:38:42.352006Z",
     "iopub.status.busy": "2022-03-10T16:38:42.351306Z",
     "iopub.status.idle": "2022-03-10T16:38:42.356016Z",
     "shell.execute_reply": "2022-03-10T16:38:42.356866Z",
     "shell.execute_reply.started": "2022-03-10T14:13:55.971766Z"
    },
    "papermill": {
     "duration": 0.1068,
     "end_time": "2022-03-10T16:38:42.357121",
     "exception": false,
     "start_time": "2022-03-10T16:38:42.250321",
     "status": "completed"
    },
    "tags": []
   },
   "outputs": [
    {
     "name": "stdout",
     "output_type": "stream",
     "text": [
      "X_train shape: (134000, 286)\n",
      "Y_train shape: (134000,)\n",
      "X_test shape: (66000, 286)\n",
      "Y_test shape: (66000,)\n"
     ]
    }
   ],
   "source": [
    "print(f\"X_train shape: {X_train.shape}\")\n",
    "print(f\"Y_train shape: {Y_train.shape}\")\n",
    "print(f\"X_test shape: {X_test.shape}\")\n",
    "print(f\"Y_test shape: {Y_test.shape}\")"
   ]
  },
  {
   "cell_type": "markdown",
   "id": "9d3a5f04",
   "metadata": {
    "papermill": {
     "duration": 0.094599,
     "end_time": "2022-03-10T16:38:42.547950",
     "exception": false,
     "start_time": "2022-03-10T16:38:42.453351",
     "status": "completed"
    },
    "tags": []
   },
   "source": [
    "## **Utility Functions Definition**"
   ]
  },
  {
   "cell_type": "markdown",
   "id": "becb8f5f",
   "metadata": {
    "papermill": {
     "duration": 0.094575,
     "end_time": "2022-03-10T16:38:42.736888",
     "exception": false,
     "start_time": "2022-03-10T16:38:42.642313",
     "status": "completed"
    },
    "tags": []
   },
   "source": [
    "Now we define some functions that we will use later in the code."
   ]
  },
  {
   "cell_type": "code",
   "execution_count": 17,
   "id": "0164a99a",
   "metadata": {
    "execution": {
     "iopub.execute_input": "2022-03-10T16:38:42.930182Z",
     "iopub.status.busy": "2022-03-10T16:38:42.929528Z",
     "iopub.status.idle": "2022-03-10T16:38:43.043281Z",
     "shell.execute_reply": "2022-03-10T16:38:43.042697Z",
     "shell.execute_reply.started": "2022-03-10T14:13:55.981498Z"
    },
    "papermill": {
     "duration": 0.211017,
     "end_time": "2022-03-10T16:38:43.043433",
     "exception": false,
     "start_time": "2022-03-10T16:38:42.832416",
     "status": "completed"
    },
    "tags": []
   },
   "outputs": [],
   "source": [
    "from sklearn.preprocessing import StandardScaler\n",
    "from sklearn.decomposition import PCA\n",
    "from sklearn.pipeline import Pipeline"
   ]
  },
  {
   "cell_type": "markdown",
   "id": "c44c16f3",
   "metadata": {
    "papermill": {
     "duration": 0.095137,
     "end_time": "2022-03-10T16:38:43.235528",
     "exception": false,
     "start_time": "2022-03-10T16:38:43.140391",
     "status": "completed"
    },
    "tags": []
   },
   "source": [
    "We will use cross validation to test several models with different hyper-parameters, each time using the function **print_grid_search_results** to print the results of the search."
   ]
  },
  {
   "cell_type": "code",
   "execution_count": 18,
   "id": "fae5a92e",
   "metadata": {
    "execution": {
     "iopub.execute_input": "2022-03-10T16:38:43.435973Z",
     "iopub.status.busy": "2022-03-10T16:38:43.434832Z",
     "iopub.status.idle": "2022-03-10T16:38:43.437560Z",
     "shell.execute_reply": "2022-03-10T16:38:43.438167Z",
     "shell.execute_reply.started": "2022-03-10T14:13:56.126367Z"
    },
    "papermill": {
     "duration": 0.10629,
     "end_time": "2022-03-10T16:38:43.438350",
     "exception": false,
     "start_time": "2022-03-10T16:38:43.332060",
     "status": "completed"
    },
    "tags": []
   },
   "outputs": [],
   "source": [
    "# Print grid search results.\n",
    "# Input: GridSearchCV object\n",
    "def print_grid_search_results(gscv):\n",
    "    print(\"Best parameters set found on train set:\")\n",
    "    print(gscv.best_params_)\n",
    "    print(\"\\n\")\n",
    "    print(\"Grid scores on train set:\")\n",
    "    for param, mean, std in zip(gscv.cv_results_['params'], gscv.cv_results_['mean_test_score'], gscv.cv_results_['std_test_score']):\n",
    "        print(\"%r mean: %0.3f std: +/- %0.03f)\" % (param, mean, std))\n",
    "    print(\"\\n\")"
   ]
  },
  {
   "cell_type": "markdown",
   "id": "9df194f3",
   "metadata": {
    "papermill": {
     "duration": 0.095529,
     "end_time": "2022-03-10T16:38:43.630840",
     "exception": false,
     "start_time": "2022-03-10T16:38:43.535311",
     "status": "completed"
    },
    "tags": []
   },
   "source": [
    "We will also use a simple plot function based on matplotlib.pyplot"
   ]
  },
  {
   "cell_type": "code",
   "execution_count": 19,
   "id": "38ce7ff4",
   "metadata": {
    "execution": {
     "iopub.execute_input": "2022-03-10T16:38:43.828909Z",
     "iopub.status.busy": "2022-03-10T16:38:43.827981Z",
     "iopub.status.idle": "2022-03-10T16:38:43.831068Z",
     "shell.execute_reply": "2022-03-10T16:38:43.830436Z",
     "shell.execute_reply.started": "2022-03-10T14:13:56.135523Z"
    },
    "papermill": {
     "duration": 0.104842,
     "end_time": "2022-03-10T16:38:43.831216",
     "exception": false,
     "start_time": "2022-03-10T16:38:43.726374",
     "status": "completed"
    },
    "tags": []
   },
   "outputs": [],
   "source": [
    "# Show x-y curve plot\n",
    "def show_curve(x, y, x_label, y_label, title):\n",
    "    plt.figure(figsize=(10,5))\n",
    "    plt.plot(x, y, '-o', linewidth=5, markersize=10)\n",
    "    plt.xlabel(x_label)\n",
    "    plt.ylabel(y_label)\n",
    "    plt.title(title, fontsize = 10)\n",
    "    plt.show();"
   ]
  },
  {
   "cell_type": "markdown",
   "id": "c8cffcf1",
   "metadata": {
    "papermill": {
     "duration": 0.095287,
     "end_time": "2022-03-10T16:38:44.024554",
     "exception": false,
     "start_time": "2022-03-10T16:38:43.929267",
     "status": "completed"
    },
    "tags": []
   },
   "source": [
    "Finally we have the function **build_PCA_pipeline** which will be used to construct a ML pipeline given a specific classifier to use and the number of output components of the PCA performed at beginning of the pipeline, in order to reduce the dimensions of the input data.\n",
    "\n",
    "Each pipeline will comprehend 3 stages:\n",
    "1. Standardization of the input data, by removing for each feature the mean and scaling to unit variance. (Required before doing PCA)\n",
    "2. Principal Component Analysis (PCA)\n",
    "3. Classification of the PCA-transformed data by a specific classifier"
   ]
  },
  {
   "cell_type": "code",
   "execution_count": 20,
   "id": "1827aa30",
   "metadata": {
    "execution": {
     "iopub.execute_input": "2022-03-10T16:38:44.222978Z",
     "iopub.status.busy": "2022-03-10T16:38:44.222209Z",
     "iopub.status.idle": "2022-03-10T16:38:44.225381Z",
     "shell.execute_reply": "2022-03-10T16:38:44.224823Z",
     "shell.execute_reply.started": "2022-03-10T14:13:56.156800Z"
    },
    "papermill": {
     "duration": 0.104773,
     "end_time": "2022-03-10T16:38:44.225557",
     "exception": false,
     "start_time": "2022-03-10T16:38:44.120784",
     "status": "completed"
    },
    "tags": []
   },
   "outputs": [],
   "source": [
    "# Construct a ML pipeline with initial PCA\n",
    "# Inputs:\n",
    "#  - classifier to use as the last step of the pipeline\n",
    "#  - number of output dimensions of the PCA transformation\n",
    "def build_PCA_pipeline(classifier, pca_n_components=None):\n",
    "    st_scaler = StandardScaler()\n",
    "    pca = PCA(n_components=pca_n_components, random_state=random_seed)\n",
    "    pipe = Pipeline(steps=[(\"st_scaler\", st_scaler), (\"pca\", pca), (\"classifier\", classifier)])\n",
    "    return pipe"
   ]
  },
  {
   "cell_type": "markdown",
   "id": "ed51abd7",
   "metadata": {
    "papermill": {
     "duration": 0.094463,
     "end_time": "2022-03-10T16:38:44.415554",
     "exception": false,
     "start_time": "2022-03-10T16:38:44.321091",
     "status": "completed"
    },
    "tags": []
   },
   "source": [
    "## **Dimensionality Reduction** "
   ]
  },
  {
   "cell_type": "markdown",
   "id": "f00ab18c",
   "metadata": {
    "papermill": {
     "duration": 0.094329,
     "end_time": "2022-03-10T16:38:44.604414",
     "exception": false,
     "start_time": "2022-03-10T16:38:44.510085",
     "status": "completed"
    },
    "tags": []
   },
   "source": [
    "### **Grid Search with Cross Validation to find the best value for n_components of PCA**"
   ]
  },
  {
   "cell_type": "markdown",
   "id": "becc399e",
   "metadata": {
    "papermill": {
     "duration": 0.093736,
     "end_time": "2022-03-10T16:38:44.792718",
     "exception": false,
     "start_time": "2022-03-10T16:38:44.698982",
     "status": "completed"
    },
    "tags": []
   },
   "source": [
    "We will use PCA in order to reduce the dimensionality of the data.\n",
    "We will use cross validation to find the best number of output dimensions from the PCA, by testing for each possible dimension the performance of a simple decision tree classifier, which will be used as an indicator."
   ]
  },
  {
   "cell_type": "code",
   "execution_count": 21,
   "id": "bf1321db",
   "metadata": {
    "execution": {
     "iopub.execute_input": "2022-03-10T16:38:44.990026Z",
     "iopub.status.busy": "2022-03-10T16:38:44.989309Z",
     "iopub.status.idle": "2022-03-10T16:38:45.056597Z",
     "shell.execute_reply": "2022-03-10T16:38:45.055981Z",
     "shell.execute_reply.started": "2022-03-10T14:13:56.172965Z"
    },
    "papermill": {
     "duration": 0.167258,
     "end_time": "2022-03-10T16:38:45.056755",
     "exception": false,
     "start_time": "2022-03-10T16:38:44.889497",
     "status": "completed"
    },
    "tags": []
   },
   "outputs": [],
   "source": [
    "from sklearn.tree import DecisionTreeClassifier\n",
    "from sklearn.model_selection import GridSearchCV"
   ]
  },
  {
   "cell_type": "code",
   "execution_count": 22,
   "id": "de1a2a00",
   "metadata": {
    "execution": {
     "iopub.execute_input": "2022-03-10T16:38:45.252093Z",
     "iopub.status.busy": "2022-03-10T16:38:45.251366Z",
     "iopub.status.idle": "2022-03-10T16:38:45.255387Z",
     "shell.execute_reply": "2022-03-10T16:38:45.256050Z",
     "shell.execute_reply.started": "2022-03-10T14:13:56.268269Z"
    },
    "papermill": {
     "duration": 0.103,
     "end_time": "2022-03-10T16:38:45.256240",
     "exception": false,
     "start_time": "2022-03-10T16:38:45.153240",
     "status": "completed"
    },
    "tags": []
   },
   "outputs": [],
   "source": [
    "# Define the decision tree to use for testing, and construct the pipeline with it.\n",
    "classifier = DecisionTreeClassifier(criterion=\"entropy\", random_state=random_seed)\n",
    "pipe = build_PCA_pipeline(classifier)"
   ]
  },
  {
   "cell_type": "code",
   "execution_count": 23,
   "id": "1ef348f2",
   "metadata": {
    "execution": {
     "iopub.execute_input": "2022-03-10T16:38:45.450769Z",
     "iopub.status.busy": "2022-03-10T16:38:45.450090Z",
     "iopub.status.idle": "2022-03-10T16:38:45.453930Z",
     "shell.execute_reply": "2022-03-10T16:38:45.454498Z",
     "shell.execute_reply.started": "2022-03-10T14:13:56.279487Z"
    },
    "papermill": {
     "duration": 0.102266,
     "end_time": "2022-03-10T16:38:45.454705",
     "exception": false,
     "start_time": "2022-03-10T16:38:45.352439",
     "status": "completed"
    },
    "tags": []
   },
   "outputs": [],
   "source": [
    "# The grid search will concern only the paramater n_components of the PCA module, which is the number of output dimensions of the transformed data.\n",
    "param_grid = {\n",
    "    \"pca__n_components\": [3, 5, 8, 10, 20, 50]\n",
    "}"
   ]
  },
  {
   "cell_type": "code",
   "execution_count": 24,
   "id": "c53e19eb",
   "metadata": {
    "execution": {
     "iopub.execute_input": "2022-03-10T16:38:45.649639Z",
     "iopub.status.busy": "2022-03-10T16:38:45.648970Z",
     "iopub.status.idle": "2022-03-10T16:40:08.272628Z",
     "shell.execute_reply": "2022-03-10T16:40:08.271932Z",
     "shell.execute_reply.started": "2022-03-10T14:13:56.295173Z"
    },
    "papermill": {
     "duration": 82.720958,
     "end_time": "2022-03-10T16:40:08.272831",
     "exception": false,
     "start_time": "2022-03-10T16:38:45.551873",
     "status": "completed"
    },
    "tags": []
   },
   "outputs": [
    {
     "name": "stdout",
     "output_type": "stream",
     "text": [
      "Fitting 2 folds for each of 6 candidates, totalling 12 fits\n",
      "[CV] pca__n_components=3 .............................................\n"
     ]
    },
    {
     "name": "stderr",
     "output_type": "stream",
     "text": [
      "[Parallel(n_jobs=1)]: Using backend SequentialBackend with 1 concurrent workers.\n"
     ]
    },
    {
     "name": "stdout",
     "output_type": "stream",
     "text": [
      "[CV] .............................. pca__n_components=3, total=   3.9s\n",
      "[CV] pca__n_components=3 .............................................\n"
     ]
    },
    {
     "name": "stderr",
     "output_type": "stream",
     "text": [
      "[Parallel(n_jobs=1)]: Done   1 out of   1 | elapsed:    3.9s remaining:    0.0s\n"
     ]
    },
    {
     "name": "stdout",
     "output_type": "stream",
     "text": [
      "[CV] .............................. pca__n_components=3, total=   3.8s\n",
      "[CV] pca__n_components=5 .............................................\n",
      "[CV] .............................. pca__n_components=5, total=   4.1s\n",
      "[CV] pca__n_components=5 .............................................\n",
      "[CV] .............................. pca__n_components=5, total=   4.1s\n",
      "[CV] pca__n_components=8 .............................................\n",
      "[CV] .............................. pca__n_components=8, total=   4.7s\n",
      "[CV] pca__n_components=8 .............................................\n",
      "[CV] .............................. pca__n_components=8, total=   5.1s\n",
      "[CV] pca__n_components=10 ............................................\n",
      "[CV] ............................. pca__n_components=10, total=   5.1s\n",
      "[CV] pca__n_components=10 ............................................\n",
      "[CV] ............................. pca__n_components=10, total=   5.0s\n",
      "[CV] pca__n_components=20 ............................................\n",
      "[CV] ............................. pca__n_components=20, total=   7.4s\n",
      "[CV] pca__n_components=20 ............................................\n",
      "[CV] ............................. pca__n_components=20, total=   7.5s\n",
      "[CV] pca__n_components=50 ............................................\n",
      "[CV] ............................. pca__n_components=50, total=  12.8s\n",
      "[CV] pca__n_components=50 ............................................\n",
      "[CV] ............................. pca__n_components=50, total=  12.2s\n"
     ]
    },
    {
     "name": "stderr",
     "output_type": "stream",
     "text": [
      "[Parallel(n_jobs=1)]: Done  12 out of  12 | elapsed:  1.3min finished\n"
     ]
    }
   ],
   "source": [
    "# Define and start the grid search using the data in the training set\n",
    "grid_search = GridSearchCV(pipe, param_grid, cv=2, verbose=2)\n",
    "grid_search.fit(X_train, Y_train);"
   ]
  },
  {
   "cell_type": "code",
   "execution_count": 25,
   "id": "b365c3fe",
   "metadata": {
    "execution": {
     "iopub.execute_input": "2022-03-10T16:40:08.482143Z",
     "iopub.status.busy": "2022-03-10T16:40:08.481377Z",
     "iopub.status.idle": "2022-03-10T16:40:08.486881Z",
     "shell.execute_reply": "2022-03-10T16:40:08.487496Z",
     "shell.execute_reply.started": "2022-03-10T14:15:36.231822Z"
    },
    "papermill": {
     "duration": 0.113584,
     "end_time": "2022-03-10T16:40:08.487739",
     "exception": false,
     "start_time": "2022-03-10T16:40:08.374155",
     "status": "completed"
    },
    "tags": []
   },
   "outputs": [
    {
     "name": "stdout",
     "output_type": "stream",
     "text": [
      "Best parameters set found on train set:\n",
      "{'pca__n_components': 5}\n",
      "\n",
      "\n",
      "Grid scores on train set:\n",
      "{'pca__n_components': 3} mean: 0.920 std: +/- 0.000)\n",
      "{'pca__n_components': 5} mean: 0.928 std: +/- 0.001)\n",
      "{'pca__n_components': 8} mean: 0.923 std: +/- 0.000)\n",
      "{'pca__n_components': 10} mean: 0.919 std: +/- 0.001)\n",
      "{'pca__n_components': 20} mean: 0.919 std: +/- 0.000)\n",
      "{'pca__n_components': 50} mean: 0.909 std: +/- 0.000)\n",
      "\n",
      "\n"
     ]
    }
   ],
   "source": [
    "print_grid_search_results(grid_search)"
   ]
  },
  {
   "cell_type": "code",
   "execution_count": 26,
   "id": "6516d52a",
   "metadata": {
    "execution": {
     "iopub.execute_input": "2022-03-10T16:40:08.696565Z",
     "iopub.status.busy": "2022-03-10T16:40:08.695898Z",
     "iopub.status.idle": "2022-03-10T16:40:08.881033Z",
     "shell.execute_reply": "2022-03-10T16:40:08.881682Z",
     "shell.execute_reply.started": "2022-03-10T14:15:36.243764Z"
    },
    "papermill": {
     "duration": 0.290199,
     "end_time": "2022-03-10T16:40:08.881880",
     "exception": false,
     "start_time": "2022-03-10T16:40:08.591681",
     "status": "completed"
    },
    "tags": []
   },
   "outputs": [
    {
     "data": {
      "image/png": "[encoded data removed]",
      "text/plain": [
       "<Figure size 720x360 with 1 Axes>"
      ]
     },
     "metadata": {
      "needs_background": "light"
     },
     "output_type": "display_data"
    }
   ],
   "source": [
    "show_curve(param_grid[\"pca__n_components\"],\n",
    "           grid_search.cv_results_['mean_test_score'],\n",
    "           \"n_components\",\n",
    "           \"accuracy\",\n",
    "           \"Mean score with CV varying n_components of PCA\")"
   ]
  },
  {
   "cell_type": "markdown",
   "id": "249c2854",
   "metadata": {
    "papermill": {
     "duration": 0.104736,
     "end_time": "2022-03-10T16:40:09.091474",
     "exception": false,
     "start_time": "2022-03-10T16:40:08.986738",
     "status": "completed"
    },
    "tags": []
   },
   "source": [
    "As we can see, the best results are obtained with a number of components less than 10, which is a great dimensionality reduction considering that we started with 286 dimensions."
   ]
  },
  {
   "cell_type": "code",
   "execution_count": 27,
   "id": "926d8c2e",
   "metadata": {
    "execution": {
     "iopub.execute_input": "2022-03-10T16:40:09.304890Z",
     "iopub.status.busy": "2022-03-10T16:40:09.302830Z",
     "iopub.status.idle": "2022-03-10T16:40:09.307980Z",
     "shell.execute_reply": "2022-03-10T16:40:09.307224Z",
     "shell.execute_reply.started": "2022-03-10T14:15:36.449665Z"
    },
    "papermill": {
     "duration": 0.11228,
     "end_time": "2022-03-10T16:40:09.308136",
     "exception": false,
     "start_time": "2022-03-10T16:40:09.195856",
     "status": "completed"
    },
    "tags": []
   },
   "outputs": [],
   "source": [
    "# Store the best number of components found\n",
    "pca_n_components = grid_search.best_params_[\"pca__n_components\"]"
   ]
  },
  {
   "cell_type": "markdown",
   "id": "c546656c",
   "metadata": {
    "papermill": {
     "duration": 0.103543,
     "end_time": "2022-03-10T16:40:09.516179",
     "exception": false,
     "start_time": "2022-03-10T16:40:09.412636",
     "status": "completed"
    },
    "tags": []
   },
   "source": [
    "## **ML Models Testing**"
   ]
  },
  {
   "cell_type": "markdown",
   "id": "ecd7fc83",
   "metadata": {
    "papermill": {
     "duration": 0.103645,
     "end_time": "2022-03-10T16:40:09.723209",
     "exception": false,
     "start_time": "2022-03-10T16:40:09.619564",
     "status": "completed"
    },
    "tags": []
   },
   "source": [
    "Now we will test four different classificators to find the most appropriate to solve the task:\n",
    "1. (Simple) Decision Tree\n",
    "2. Random Forest\n",
    "3. Extremely Randomized Trees\n",
    "4. Deep Neural Network\n",
    "\n",
    "For the first three non-deep models we will use cross validation in order to set their hyper-paramaters and test their performances.\n",
    "The Deep Neural Network instead will be trained and tested using a more classical train-validation data split."
   ]
  },
  {
   "cell_type": "markdown",
   "id": "0fdac692",
   "metadata": {
    "papermill": {
     "duration": 0.103437,
     "end_time": "2022-03-10T16:40:09.930017",
     "exception": false,
     "start_time": "2022-03-10T16:40:09.826580",
     "status": "completed"
    },
    "tags": []
   },
   "source": [
    "### **Decision Tree Classifier**"
   ]
  },
  {
   "cell_type": "markdown",
   "id": "ed712f7a",
   "metadata": {
    "papermill": {
     "duration": 0.102146,
     "end_time": "2022-03-10T16:40:10.135111",
     "exception": false,
     "start_time": "2022-03-10T16:40:10.032965",
     "status": "completed"
    },
    "tags": []
   },
   "source": [
    "Let's start with a simple decision tree classifier."
   ]
  },
  {
   "cell_type": "code",
   "execution_count": 28,
   "id": "99c2513a",
   "metadata": {
    "execution": {
     "iopub.execute_input": "2022-03-10T16:40:10.345764Z",
     "iopub.status.busy": "2022-03-10T16:40:10.345096Z",
     "iopub.status.idle": "2022-03-10T16:40:10.348592Z",
     "shell.execute_reply": "2022-03-10T16:40:10.348053Z",
     "shell.execute_reply.started": "2022-03-10T14:15:36.458805Z"
    },
    "papermill": {
     "duration": 0.110821,
     "end_time": "2022-03-10T16:40:10.348735",
     "exception": false,
     "start_time": "2022-03-10T16:40:10.237914",
     "status": "completed"
    },
    "tags": []
   },
   "outputs": [],
   "source": [
    "from sklearn.tree import DecisionTreeClassifier"
   ]
  },
  {
   "cell_type": "code",
   "execution_count": 29,
   "id": "78856113",
   "metadata": {
    "execution": {
     "iopub.execute_input": "2022-03-10T16:40:10.565060Z",
     "iopub.status.busy": "2022-03-10T16:40:10.564351Z",
     "iopub.status.idle": "2022-03-10T16:41:05.735950Z",
     "shell.execute_reply": "2022-03-10T16:41:05.736498Z",
     "shell.execute_reply.started": "2022-03-10T14:15:36.474540Z"
    },
    "papermill": {
     "duration": 55.285789,
     "end_time": "2022-03-10T16:41:05.736705",
     "exception": false,
     "start_time": "2022-03-10T16:40:10.450916",
     "status": "completed"
    },
    "tags": []
   },
   "outputs": [
    {
     "name": "stdout",
     "output_type": "stream",
     "text": [
      "Fitting 2 folds for each of 6 candidates, totalling 12 fits\n",
      "[CV] classifier__max_depth=4 .........................................\n"
     ]
    },
    {
     "name": "stderr",
     "output_type": "stream",
     "text": [
      "[Parallel(n_jobs=1)]: Using backend SequentialBackend with 1 concurrent workers.\n"
     ]
    },
    {
     "name": "stdout",
     "output_type": "stream",
     "text": [
      "[CV] .......................... classifier__max_depth=4, total=   4.1s\n",
      "[CV] classifier__max_depth=4 .........................................\n"
     ]
    },
    {
     "name": "stderr",
     "output_type": "stream",
     "text": [
      "[Parallel(n_jobs=1)]: Done   1 out of   1 | elapsed:    4.1s remaining:    0.0s\n"
     ]
    },
    {
     "name": "stdout",
     "output_type": "stream",
     "text": [
      "[CV] .......................... classifier__max_depth=4, total=   3.5s\n",
      "[CV] classifier__max_depth=8 .........................................\n",
      "[CV] .......................... classifier__max_depth=8, total=   3.9s\n",
      "[CV] classifier__max_depth=8 .........................................\n",
      "[CV] .......................... classifier__max_depth=8, total=   3.9s\n",
      "[CV] classifier__max_depth=16 ........................................\n",
      "[CV] ......................... classifier__max_depth=16, total=   4.1s\n",
      "[CV] classifier__max_depth=16 ........................................\n",
      "[CV] ......................... classifier__max_depth=16, total=   4.0s\n",
      "[CV] classifier__max_depth=20 ........................................\n",
      "[CV] ......................... classifier__max_depth=20, total=   4.1s\n",
      "[CV] classifier__max_depth=20 ........................................\n",
      "[CV] ......................... classifier__max_depth=20, total=   4.0s\n",
      "[CV] classifier__max_depth=24 ........................................\n",
      "[CV] ......................... classifier__max_depth=24, total=   4.3s\n",
      "[CV] classifier__max_depth=24 ........................................\n",
      "[CV] ......................... classifier__max_depth=24, total=   4.1s\n",
      "[CV] classifier__max_depth=26 ........................................\n",
      "[CV] ......................... classifier__max_depth=26, total=   4.1s\n",
      "[CV] classifier__max_depth=26 ........................................\n",
      "[CV] ......................... classifier__max_depth=26, total=   4.1s\n"
     ]
    },
    {
     "name": "stderr",
     "output_type": "stream",
     "text": [
      "[Parallel(n_jobs=1)]: Done  12 out of  12 | elapsed:   48.4s finished\n"
     ]
    }
   ],
   "source": [
    "# Construct the PCA-pipeline using the selected classifier\n",
    "classifier = DecisionTreeClassifier(criterion=\"entropy\", random_state=random_seed)\n",
    "pipe = build_PCA_pipeline(classifier, pca_n_components)\n",
    "\n",
    "# Define the parameter grid to use in the the grid search with cross validation.\n",
    "# For the decision tree we will consider the hyper-parameter which controls the max depth of the tree.\n",
    "param_grid = {\n",
    "    \"classifier__max_depth\": [4,8,16,20,24,26]\n",
    "}\n",
    "\n",
    "# Perform the search on the training set\n",
    "grid_search = GridSearchCV(pipe, param_grid, cv=2, verbose=2)\n",
    "grid_search.fit(X_train, Y_train);"
   ]
  },
  {
   "cell_type": "code",
   "execution_count": 30,
   "id": "25e0d826",
   "metadata": {
    "execution": {
     "iopub.execute_input": "2022-03-10T16:41:05.962457Z",
     "iopub.status.busy": "2022-03-10T16:41:05.961770Z",
     "iopub.status.idle": "2022-03-10T16:41:05.969712Z",
     "shell.execute_reply": "2022-03-10T16:41:05.970276Z",
     "shell.execute_reply.started": "2022-03-10T14:16:35.679913Z"
    },
    "papermill": {
     "duration": 0.123534,
     "end_time": "2022-03-10T16:41:05.970466",
     "exception": false,
     "start_time": "2022-03-10T16:41:05.846932",
     "status": "completed"
    },
    "tags": []
   },
   "outputs": [
    {
     "name": "stdout",
     "output_type": "stream",
     "text": [
      "Best parameters set found on train set:\n",
      "{'classifier__max_depth': 26}\n",
      "\n",
      "\n",
      "Grid scores on train set:\n",
      "{'classifier__max_depth': 4} mean: 0.595 std: +/- 0.012)\n",
      "{'classifier__max_depth': 8} mean: 0.763 std: +/- 0.004)\n",
      "{'classifier__max_depth': 16} mean: 0.899 std: +/- 0.000)\n",
      "{'classifier__max_depth': 20} mean: 0.920 std: +/- 0.001)\n",
      "{'classifier__max_depth': 24} mean: 0.926 std: +/- 0.001)\n",
      "{'classifier__max_depth': 26} mean: 0.927 std: +/- 0.001)\n",
      "\n",
      "\n"
     ]
    }
   ],
   "source": [
    "print_grid_search_results(grid_search)"
   ]
  },
  {
   "cell_type": "code",
   "execution_count": 31,
   "id": "e8c92fa7",
   "metadata": {
    "execution": {
     "iopub.execute_input": "2022-03-10T16:41:06.243956Z",
     "iopub.status.busy": "2022-03-10T16:41:06.238070Z",
     "iopub.status.idle": "2022-03-10T16:41:06.381680Z",
     "shell.execute_reply": "2022-03-10T16:41:06.380991Z",
     "shell.execute_reply.started": "2022-03-10T14:16:35.689537Z"
    },
    "papermill": {
     "duration": 0.298484,
     "end_time": "2022-03-10T16:41:06.381830",
     "exception": false,
     "start_time": "2022-03-10T16:41:06.083346",
     "status": "completed"
    },
    "tags": []
   },
   "outputs": [
    {
     "data": {
      "image/png": "[encoded data removed]",
      "text/plain": [
       "<Figure size 720x360 with 1 Axes>"
      ]
     },
     "metadata": {
      "needs_background": "light"
     },
     "output_type": "display_data"
    }
   ],
   "source": [
    "show_curve(param_grid[\"classifier__max_depth\"],\n",
    "           grid_search.cv_results_['mean_test_score'],\n",
    "           \"max_depth\",\n",
    "           \"accuracy\",\n",
    "           \"Mean score with CV varying max_depth of Decision Tree\")"
   ]
  },
  {
   "cell_type": "code",
   "execution_count": 32,
   "id": "a7c544ef",
   "metadata": {
    "execution": {
     "iopub.execute_input": "2022-03-10T16:41:06.610862Z",
     "iopub.status.busy": "2022-03-10T16:41:06.609828Z",
     "iopub.status.idle": "2022-03-10T16:41:06.612947Z",
     "shell.execute_reply": "2022-03-10T16:41:06.612275Z",
     "shell.execute_reply.started": "2022-03-10T14:16:35.887319Z"
    },
    "papermill": {
     "duration": 0.119802,
     "end_time": "2022-03-10T16:41:06.613095",
     "exception": false,
     "start_time": "2022-03-10T16:41:06.493293",
     "status": "completed"
    },
    "tags": []
   },
   "outputs": [],
   "source": [
    "# Define the final model with the best parameter found\n",
    "best_max_depth = grid_search.best_params_[\"classifier__max_depth\"]\n",
    "tree_model = DecisionTreeClassifier(criterion=\"entropy\", random_state=random_seed, max_depth=best_max_depth)"
   ]
  },
  {
   "cell_type": "markdown",
   "id": "3ea7adbf",
   "metadata": {
    "papermill": {
     "duration": 0.111783,
     "end_time": "2022-03-10T16:41:06.835453",
     "exception": false,
     "start_time": "2022-03-10T16:41:06.723670",
     "status": "completed"
    },
    "tags": []
   },
   "source": [
    "## **Random Forest**"
   ]
  },
  {
   "cell_type": "markdown",
   "id": "9945e019",
   "metadata": {
    "papermill": {
     "duration": 0.11122,
     "end_time": "2022-03-10T16:41:07.058925",
     "exception": false,
     "start_time": "2022-03-10T16:41:06.947705",
     "status": "completed"
    },
    "tags": []
   },
   "source": [
    "A random forest is a meta estimator that fits a number of decision tree classifiers on various sub-samples of the dataset and uses averaging to improve the predictive accuracy and control over-fitting.\n",
    "\n",
    "In random forests each tree in the ensemble is built from a sample drawn with replacement from the training set.\n",
    "Furthermore, when splitting each node during the construction of a tree, the best split is found either from all input features or a random subset of size max_features."
   ]
  },
  {
   "cell_type": "code",
   "execution_count": 33,
   "id": "38840c56",
   "metadata": {
    "execution": {
     "iopub.execute_input": "2022-03-10T16:41:07.289545Z",
     "iopub.status.busy": "2022-03-10T16:41:07.288784Z",
     "iopub.status.idle": "2022-03-10T16:41:07.315714Z",
     "shell.execute_reply": "2022-03-10T16:41:07.316230Z",
     "shell.execute_reply.started": "2022-03-10T14:16:35.894466Z"
    },
    "papermill": {
     "duration": 0.145535,
     "end_time": "2022-03-10T16:41:07.316422",
     "exception": false,
     "start_time": "2022-03-10T16:41:07.170887",
     "status": "completed"
    },
    "tags": []
   },
   "outputs": [],
   "source": [
    "from sklearn.ensemble import RandomForestClassifier"
   ]
  },
  {
   "cell_type": "code",
   "execution_count": 34,
   "id": "49310c44",
   "metadata": {
    "execution": {
     "iopub.execute_input": "2022-03-10T16:41:07.543790Z",
     "iopub.status.busy": "2022-03-10T16:41:07.542998Z",
     "iopub.status.idle": "2022-03-10T16:44:17.253133Z",
     "shell.execute_reply": "2022-03-10T16:44:17.253720Z",
     "shell.execute_reply.started": "2022-03-10T14:16:35.950092Z"
    },
    "papermill": {
     "duration": 189.82495,
     "end_time": "2022-03-10T16:44:17.253935",
     "exception": false,
     "start_time": "2022-03-10T16:41:07.428985",
     "status": "completed"
    },
    "tags": []
   },
   "outputs": [
    {
     "name": "stdout",
     "output_type": "stream",
     "text": [
      "Fitting 2 folds for each of 2 candidates, totalling 4 fits\n",
      "[CV] classifier__n_estimators=10 .....................................\n"
     ]
    },
    {
     "name": "stderr",
     "output_type": "stream",
     "text": [
      "[Parallel(n_jobs=1)]: Using backend SequentialBackend with 1 concurrent workers.\n"
     ]
    },
    {
     "name": "stdout",
     "output_type": "stream",
     "text": [
      "[CV] ...................... classifier__n_estimators=10, total=   6.3s\n",
      "[CV] classifier__n_estimators=10 .....................................\n"
     ]
    },
    {
     "name": "stderr",
     "output_type": "stream",
     "text": [
      "[Parallel(n_jobs=1)]: Done   1 out of   1 | elapsed:    6.3s remaining:    0.0s\n"
     ]
    },
    {
     "name": "stdout",
     "output_type": "stream",
     "text": [
      "[CV] ...................... classifier__n_estimators=10, total=   6.3s\n",
      "[CV] classifier__n_estimators=150 ....................................\n",
      "[CV] ..................... classifier__n_estimators=150, total=  45.9s\n",
      "[CV] classifier__n_estimators=150 ....................................\n",
      "[CV] ..................... classifier__n_estimators=150, total=  46.0s\n"
     ]
    },
    {
     "name": "stderr",
     "output_type": "stream",
     "text": [
      "[Parallel(n_jobs=1)]: Done   4 out of   4 | elapsed:  1.7min finished\n"
     ]
    }
   ],
   "source": [
    "# Construct the PCA-pipeline using the selected classifier\n",
    "classifier = RandomForestClassifier(criterion=\"entropy\", random_state=random_seed)\n",
    "pipe = build_PCA_pipeline(classifier, pca_n_components)\n",
    "\n",
    "# Define the parameter grid to use in the the grid search with cross validation.\n",
    "# For the random forest we will consider the hyper-parameter which controls the number of trees to use.\n",
    "param_grid = {\n",
    "    #\"classifier__n_estimators\": [5,10,20,50,100,150]\n",
    "    \"classifier__n_estimators\": [10,150]\n",
    "}\n",
    "\n",
    "# Perform the search on the training set\n",
    "grid_search = GridSearchCV(pipe, param_grid, cv=2, verbose=2)\n",
    "grid_search.fit(X_train, Y_train);"
   ]
  },
  {
   "cell_type": "code",
   "execution_count": 35,
   "id": "3452265e",
   "metadata": {
    "execution": {
     "iopub.execute_input": "2022-03-10T16:44:17.492138Z",
     "iopub.status.busy": "2022-03-10T16:44:17.491436Z",
     "iopub.status.idle": "2022-03-10T16:44:17.498791Z",
     "shell.execute_reply": "2022-03-10T16:44:17.498210Z",
     "shell.execute_reply.started": "2022-03-10T14:20:16.223904Z"
    },
    "papermill": {
     "duration": 0.125445,
     "end_time": "2022-03-10T16:44:17.498947",
     "exception": false,
     "start_time": "2022-03-10T16:44:17.373502",
     "status": "completed"
    },
    "tags": []
   },
   "outputs": [
    {
     "name": "stdout",
     "output_type": "stream",
     "text": [
      "Best parameters set found on train set:\n",
      "{'classifier__n_estimators': 150}\n",
      "\n",
      "\n",
      "Grid scores on train set:\n",
      "{'classifier__n_estimators': 10} mean: 0.934 std: +/- 0.001)\n",
      "{'classifier__n_estimators': 150} mean: 0.940 std: +/- 0.000)\n",
      "\n",
      "\n"
     ]
    }
   ],
   "source": [
    "print_grid_search_results(grid_search)"
   ]
  },
  {
   "cell_type": "code",
   "execution_count": 36,
   "id": "34abb9d0",
   "metadata": {
    "execution": {
     "iopub.execute_input": "2022-03-10T16:44:17.751533Z",
     "iopub.status.busy": "2022-03-10T16:44:17.734662Z",
     "iopub.status.idle": "2022-03-10T16:44:17.970115Z",
     "shell.execute_reply": "2022-03-10T16:44:17.969555Z",
     "shell.execute_reply.started": "2022-03-10T14:20:16.233784Z"
    },
    "papermill": {
     "duration": 0.355669,
     "end_time": "2022-03-10T16:44:17.970264",
     "exception": false,
     "start_time": "2022-03-10T16:44:17.614595",
     "status": "completed"
    },
    "tags": []
   },
   "outputs": [
    {
     "data": {
      "image/png": "[encoded data removed]",
      "text/plain": [
       "<Figure size 720x360 with 1 Axes>"
      ]
     },
     "metadata": {
      "needs_background": "light"
     },
     "output_type": "display_data"
    }
   ],
   "source": [
    "show_curve(param_grid[\"classifier__n_estimators\"],\n",
    "           grid_search.cv_results_['mean_test_score'],\n",
    "           \"n_estimators\",\n",
    "           \"accuracy\",\n",
    "           \"Mean score with CV varying n_estimators of Random Forest\")"
   ]
  },
  {
   "cell_type": "code",
   "execution_count": 37,
   "id": "0818a4f0",
   "metadata": {
    "execution": {
     "iopub.execute_input": "2022-03-10T16:44:18.212604Z",
     "iopub.status.busy": "2022-03-10T16:44:18.211799Z",
     "iopub.status.idle": "2022-03-10T16:44:18.213825Z",
     "shell.execute_reply": "2022-03-10T16:44:18.214398Z",
     "shell.execute_reply.started": "2022-03-10T14:20:16.517363Z"
    },
    "papermill": {
     "duration": 0.125673,
     "end_time": "2022-03-10T16:44:18.214631",
     "exception": false,
     "start_time": "2022-03-10T16:44:18.088958",
     "status": "completed"
    },
    "tags": []
   },
   "outputs": [],
   "source": [
    "# Define the final model with the best parameter found\n",
    "best_n_estimators = grid_search.best_params_[\"classifier__n_estimators\"]\n",
    "rnd_forest_model = RandomForestClassifier(criterion=\"entropy\", n_estimators=best_n_estimators, random_state=random_seed)"
   ]
  },
  {
   "cell_type": "markdown",
   "id": "5a0d2918",
   "metadata": {
    "papermill": {
     "duration": 0.116467,
     "end_time": "2022-03-10T16:44:18.450909",
     "exception": false,
     "start_time": "2022-03-10T16:44:18.334442",
     "status": "completed"
    },
    "tags": []
   },
   "source": [
    "### **Extremely Randomized Trees**"
   ]
  },
  {
   "cell_type": "markdown",
   "id": "9e93ffb6",
   "metadata": {
    "papermill": {
     "duration": 0.116065,
     "end_time": "2022-03-10T16:44:18.683707",
     "exception": false,
     "start_time": "2022-03-10T16:44:18.567642",
     "status": "completed"
    },
    "tags": []
   },
   "source": [
    "In extremely randomized trees, randomness goes one step further compared to random forest in the way splits are computed. As in random forests, a random subset of candidate features is used, but instead of looking for the most discriminative thresholds, thresholds are drawn at random for each candidate feature and the best of these randomly-generated thresholds is picked as the splitting rule. This usually allows to reduce the variance of the model a bit more, at the expense of a slightly greater increase in bias"
   ]
  },
  {
   "cell_type": "code",
   "execution_count": 38,
   "id": "d2b575da",
   "metadata": {
    "execution": {
     "iopub.execute_input": "2022-03-10T16:44:18.922666Z",
     "iopub.status.busy": "2022-03-10T16:44:18.921952Z",
     "iopub.status.idle": "2022-03-10T16:44:18.925496Z",
     "shell.execute_reply": "2022-03-10T16:44:18.926091Z",
     "shell.execute_reply.started": "2022-03-10T14:20:16.526215Z"
    },
    "papermill": {
     "duration": 0.125089,
     "end_time": "2022-03-10T16:44:18.926298",
     "exception": false,
     "start_time": "2022-03-10T16:44:18.801209",
     "status": "completed"
    },
    "tags": []
   },
   "outputs": [],
   "source": [
    "from sklearn.ensemble import ExtraTreesClassifier"
   ]
  },
  {
   "cell_type": "code",
   "execution_count": 39,
   "id": "554a5d86",
   "metadata": {
    "execution": {
     "iopub.execute_input": "2022-03-10T16:44:19.168487Z",
     "iopub.status.busy": "2022-03-10T16:44:19.167129Z",
     "iopub.status.idle": "2022-03-10T16:45:13.047110Z",
     "shell.execute_reply": "2022-03-10T16:45:13.046477Z",
     "shell.execute_reply.started": "2022-03-10T14:20:16.545916Z"
    },
    "papermill": {
     "duration": 54.002013,
     "end_time": "2022-03-10T16:45:13.047265",
     "exception": false,
     "start_time": "2022-03-10T16:44:19.045252",
     "status": "completed"
    },
    "tags": []
   },
   "outputs": [
    {
     "name": "stdout",
     "output_type": "stream",
     "text": [
      "Fitting 2 folds for each of 2 candidates, totalling 4 fits\n",
      "[CV] classifier__n_estimators=10 .....................................\n"
     ]
    },
    {
     "name": "stderr",
     "output_type": "stream",
     "text": [
      "[Parallel(n_jobs=1)]: Using backend SequentialBackend with 1 concurrent workers.\n"
     ]
    },
    {
     "name": "stdout",
     "output_type": "stream",
     "text": [
      "[CV] ...................... classifier__n_estimators=10, total=   3.9s\n",
      "[CV] classifier__n_estimators=10 .....................................\n"
     ]
    },
    {
     "name": "stderr",
     "output_type": "stream",
     "text": [
      "[Parallel(n_jobs=1)]: Done   1 out of   1 | elapsed:    3.9s remaining:    0.0s\n"
     ]
    },
    {
     "name": "stdout",
     "output_type": "stream",
     "text": [
      "[CV] ...................... classifier__n_estimators=10, total=   4.0s\n",
      "[CV] classifier__n_estimators=150 ....................................\n",
      "[CV] ..................... classifier__n_estimators=150, total=  13.7s\n",
      "[CV] classifier__n_estimators=150 ....................................\n",
      "[CV] ..................... classifier__n_estimators=150, total=  13.6s\n"
     ]
    },
    {
     "name": "stderr",
     "output_type": "stream",
     "text": [
      "[Parallel(n_jobs=1)]: Done   4 out of   4 | elapsed:   35.2s finished\n"
     ]
    }
   ],
   "source": [
    "# Construct the PCA-pipeline using the selected classifier\n",
    "classifier = ExtraTreesClassifier(criterion=\"entropy\", random_state=random_seed)\n",
    "pipe = build_PCA_pipeline(classifier, pca_n_components)\n",
    "\n",
    "# Define the parameter grid to use in the the grid search with cross validation.\n",
    "# For this model we will consider the hyper-parameter which controls the number of trees to use.\n",
    "param_grid = {\n",
    "    #\"classifier__n_estimators\": [5,10,20,50,100,150]\n",
    "    \"classifier__n_estimators\": [10,150]\n",
    "}\n",
    "\n",
    "# Perform the search on the training set\n",
    "grid_search = GridSearchCV(pipe, param_grid, cv=2, verbose=2)\n",
    "grid_search.fit(X_train, Y_train);"
   ]
  },
  {
   "cell_type": "code",
   "execution_count": 40,
   "id": "332b39d4",
   "metadata": {
    "execution": {
     "iopub.execute_input": "2022-03-10T16:45:13.292943Z",
     "iopub.status.busy": "2022-03-10T16:45:13.292248Z",
     "iopub.status.idle": "2022-03-10T16:45:13.299446Z",
     "shell.execute_reply": "2022-03-10T16:45:13.298599Z",
     "shell.execute_reply.started": "2022-03-10T14:21:16.296543Z"
    },
    "papermill": {
     "duration": 0.130711,
     "end_time": "2022-03-10T16:45:13.299720",
     "exception": false,
     "start_time": "2022-03-10T16:45:13.169009",
     "status": "completed"
    },
    "tags": []
   },
   "outputs": [
    {
     "name": "stdout",
     "output_type": "stream",
     "text": [
      "Best parameters set found on train set:\n",
      "{'classifier__n_estimators': 150}\n",
      "\n",
      "\n",
      "Grid scores on train set:\n",
      "{'classifier__n_estimators': 10} mean: 0.937 std: +/- 0.001)\n",
      "{'classifier__n_estimators': 150} mean: 0.941 std: +/- 0.000)\n",
      "\n",
      "\n"
     ]
    }
   ],
   "source": [
    "print_grid_search_results(grid_search)"
   ]
  },
  {
   "cell_type": "code",
   "execution_count": 41,
   "id": "21f95a1c",
   "metadata": {
    "execution": {
     "iopub.execute_input": "2022-03-10T16:45:13.571987Z",
     "iopub.status.busy": "2022-03-10T16:45:13.545288Z",
     "iopub.status.idle": "2022-03-10T16:45:13.733042Z",
     "shell.execute_reply": "2022-03-10T16:45:13.732338Z",
     "shell.execute_reply.started": "2022-03-10T14:21:16.306636Z"
    },
    "papermill": {
     "duration": 0.31353,
     "end_time": "2022-03-10T16:45:13.733198",
     "exception": false,
     "start_time": "2022-03-10T16:45:13.419668",
     "status": "completed"
    },
    "tags": []
   },
   "outputs": [
    {
     "data": {
      "image/png": "[encoded data removed]",
      "text/plain": [
       "<Figure size 720x360 with 1 Axes>"
      ]
     },
     "metadata": {
      "needs_background": "light"
     },
     "output_type": "display_data"
    }
   ],
   "source": [
    "show_curve(param_grid[\"classifier__n_estimators\"],\n",
    "           grid_search.cv_results_['mean_test_score'],\n",
    "           \"n_estimators\",\n",
    "           \"accuracy\",\n",
    "           \"Mean score with CV varying n_estimators of Extremely Randomized Trees\")"
   ]
  },
  {
   "cell_type": "code",
   "execution_count": 42,
   "id": "fa992d83",
   "metadata": {
    "execution": {
     "iopub.execute_input": "2022-03-10T16:45:13.980814Z",
     "iopub.status.busy": "2022-03-10T16:45:13.980070Z",
     "iopub.status.idle": "2022-03-10T16:45:13.982323Z",
     "shell.execute_reply": "2022-03-10T16:45:13.981684Z",
     "shell.execute_reply.started": "2022-03-10T14:21:16.574510Z"
    },
    "papermill": {
     "duration": 0.128681,
     "end_time": "2022-03-10T16:45:13.982474",
     "exception": false,
     "start_time": "2022-03-10T16:45:13.853793",
     "status": "completed"
    },
    "tags": []
   },
   "outputs": [],
   "source": [
    "# Define the final model with the best parameter found\n",
    "best_n_estimators = grid_search.best_params_[\"classifier__n_estimators\"]\n",
    "ext_rnd_trees_model = ExtraTreesClassifier(criterion=\"entropy\", n_estimators=best_n_estimators, random_state=random_seed)"
   ]
  },
  {
   "cell_type": "markdown",
   "id": "f1f0cf63",
   "metadata": {
    "papermill": {
     "duration": 0.124333,
     "end_time": "2022-03-10T16:45:14.230035",
     "exception": false,
     "start_time": "2022-03-10T16:45:14.105702",
     "status": "completed"
    },
    "tags": []
   },
   "source": [
    "### **Deep Neural Network**"
   ]
  },
  {
   "cell_type": "markdown",
   "id": "039af550",
   "metadata": {
    "papermill": {
     "duration": 0.123262,
     "end_time": "2022-03-10T16:45:14.475927",
     "exception": false,
     "start_time": "2022-03-10T16:45:14.352665",
     "status": "completed"
    },
    "tags": []
   },
   "source": [
    "Now we will test a simple deep neural network architecture, using the keras library."
   ]
  },
  {
   "cell_type": "code",
   "execution_count": 43,
   "id": "24adfb09",
   "metadata": {
    "execution": {
     "iopub.execute_input": "2022-03-10T16:45:14.723560Z",
     "iopub.status.busy": "2022-03-10T16:45:14.722875Z",
     "iopub.status.idle": "2022-03-10T16:45:20.479331Z",
     "shell.execute_reply": "2022-03-10T16:45:20.478721Z",
     "shell.execute_reply.started": "2022-03-10T14:21:16.583248Z"
    },
    "papermill": {
     "duration": 5.881789,
     "end_time": "2022-03-10T16:45:20.479480",
     "exception": false,
     "start_time": "2022-03-10T16:45:14.597691",
     "status": "completed"
    },
    "tags": []
   },
   "outputs": [],
   "source": [
    "import tensorflow as tf\n",
    "from tensorflow import keras\n",
    "from tensorflow.keras import layers"
   ]
  },
  {
   "cell_type": "code",
   "execution_count": 44,
   "id": "01c99b9c",
   "metadata": {
    "execution": {
     "iopub.execute_input": "2022-03-10T16:45:20.733688Z",
     "iopub.status.busy": "2022-03-10T16:45:20.732960Z",
     "iopub.status.idle": "2022-03-10T16:45:20.878563Z",
     "shell.execute_reply": "2022-03-10T16:45:20.879206Z",
     "shell.execute_reply.started": "2022-03-10T14:21:25.570616Z"
    },
    "papermill": {
     "duration": 0.274923,
     "end_time": "2022-03-10T16:45:20.879385",
     "exception": false,
     "start_time": "2022-03-10T16:45:20.604462",
     "status": "completed"
    },
    "tags": []
   },
   "outputs": [
    {
     "name": "stdout",
     "output_type": "stream",
     "text": [
      "Model: \"dnn_model\"\n",
      "_________________________________________________________________\n",
      "Layer (type)                 Output Shape              Param #   \n",
      "=================================================================\n",
      "input_1 (InputLayer)         [(None, 5)]               0         \n",
      "_________________________________________________________________\n",
      "dense (Dense)                (None, 30)                180       \n",
      "_________________________________________________________________\n",
      "dense_1 (Dense)              (None, 50)                1550      \n",
      "_________________________________________________________________\n",
      "dense_2 (Dense)              (None, 50)                2550      \n",
      "_________________________________________________________________\n",
      "dense_3 (Dense)              (None, 30)                1530      \n",
      "_________________________________________________________________\n",
      "dense_4 (Dense)              (None, 20)                620       \n",
      "_________________________________________________________________\n",
      "dense_5 (Dense)              (None, 10)                210       \n",
      "=================================================================\n",
      "Total params: 6,640\n",
      "Trainable params: 6,640\n",
      "Non-trainable params: 0\n",
      "_________________________________________________________________\n"
     ]
    },
    {
     "name": "stderr",
     "output_type": "stream",
     "text": [
      "2022-03-10 16:45:20.778665: I tensorflow/core/common_runtime/process_util.cc:146] Creating new thread pool with default inter op setting: 2. Tune using inter_op_parallelism_threads for best performance.\n"
     ]
    }
   ],
   "source": [
    "# Network architecture definition\n",
    "inputs = keras.Input(shape=(pca_n_components,))\n",
    "x = layers.Dense(30, activation=\"relu\")(inputs)\n",
    "x = layers.Dense(50, activation=\"relu\")(x)\n",
    "x = layers.Dense(50, activation=\"relu\")(x)\n",
    "x = layers.Dense(30, activation=\"relu\")(x)\n",
    "x = layers.Dense(20, activation=\"relu\")(x)\n",
    "outputs = layers.Dense(10, activation=\"softmax\")(x)\n",
    "\n",
    "dnn_model = keras.Model(inputs=inputs, outputs=outputs, name=\"dnn_model\")\n",
    "dnn_model.summary()"
   ]
  },
  {
   "cell_type": "code",
   "execution_count": 45,
   "id": "42bea6b8",
   "metadata": {
    "execution": {
     "iopub.execute_input": "2022-03-10T16:45:21.140719Z",
     "iopub.status.busy": "2022-03-10T16:45:21.140001Z",
     "iopub.status.idle": "2022-03-10T16:45:21.142652Z",
     "shell.execute_reply": "2022-03-10T16:45:21.141952Z",
     "shell.execute_reply.started": "2022-03-10T14:21:25.789233Z"
    },
    "papermill": {
     "duration": 0.14079,
     "end_time": "2022-03-10T16:45:21.142813",
     "exception": false,
     "start_time": "2022-03-10T16:45:21.002023",
     "status": "completed"
    },
    "tags": []
   },
   "outputs": [],
   "source": [
    "dnn_model.compile(\n",
    "    loss=keras.losses.SparseCategoricalCrossentropy(from_logits=False),\n",
    "    optimizer=keras.optimizers.Adam(),\n",
    "    metrics=[\"accuracy\"]\n",
    ")"
   ]
  },
  {
   "cell_type": "markdown",
   "id": "9e430771",
   "metadata": {
    "papermill": {
     "duration": 0.126087,
     "end_time": "2022-03-10T16:45:21.394785",
     "exception": false,
     "start_time": "2022-03-10T16:45:21.268698",
     "status": "completed"
    },
    "tags": []
   },
   "source": [
    "This time we are not using a sklearn pipeline, so we need to compute the PCA transformation manually on the training set.\n",
    "We need to split further the training set for training and validating the model, also being careful not to use the validation data to fit the PCA."
   ]
  },
  {
   "cell_type": "code",
   "execution_count": 46,
   "id": "39ea4199",
   "metadata": {
    "execution": {
     "iopub.execute_input": "2022-03-10T16:45:21.654302Z",
     "iopub.status.busy": "2022-03-10T16:45:21.653139Z",
     "iopub.status.idle": "2022-03-10T16:45:26.436562Z",
     "shell.execute_reply": "2022-03-10T16:45:26.437682Z",
     "shell.execute_reply.started": "2022-03-10T14:21:25.809998Z"
    },
    "papermill": {
     "duration": 4.917321,
     "end_time": "2022-03-10T16:45:26.438042",
     "exception": false,
     "start_time": "2022-03-10T16:45:21.520721",
     "status": "completed"
    },
    "tags": []
   },
   "outputs": [
    {
     "name": "stdout",
     "output_type": "stream",
     "text": [
      "Shape of X_train_t_pca: (107200, 5)\n",
      "Shape of X_train_val_pca: (26800, 5)\n"
     ]
    }
   ],
   "source": [
    "# Preprocess training set\n",
    "\n",
    "# Further split the training set in training and validation sets\n",
    "X_train_t, X_train_val, Y_train_t, Y_train_val = train_test_split(X_train, Y_train, test_size=0.20, stratify=Y_train, random_state=random_seed)\n",
    "\n",
    "# Standardize the features\n",
    "st_scaler_dnn = StandardScaler()\n",
    "st_scaler_dnn.fit(X_train_t)\n",
    "X_train_t = st_scaler_dnn.transform(X_train_t)\n",
    "X_train_val = st_scaler_dnn.transform(X_train_val)\n",
    "\n",
    "# Perform PCA\n",
    "pca_dnn = PCA(n_components=pca_n_components, random_state=random_seed)\n",
    "pca_dnn.fit(X_train_t)\n",
    "X_train_t_pca = pca_dnn.transform(X_train_t)\n",
    "X_train_val_pca = pca_dnn.transform(X_train_val)\n",
    "\n",
    "print(f\"Shape of X_train_t_pca: {X_train_t_pca.shape}\")\n",
    "print(f\"Shape of X_train_val_pca: {X_train_val_pca.shape}\")"
   ]
  },
  {
   "cell_type": "code",
   "execution_count": 47,
   "id": "51b278ab",
   "metadata": {
    "execution": {
     "iopub.execute_input": "2022-03-10T16:45:26.743804Z",
     "iopub.status.busy": "2022-03-10T16:45:26.743075Z",
     "iopub.status.idle": "2022-03-10T16:45:57.899202Z",
     "shell.execute_reply": "2022-03-10T16:45:57.898605Z",
     "shell.execute_reply.started": "2022-03-10T14:21:30.816576Z"
    },
    "papermill": {
     "duration": 31.283303,
     "end_time": "2022-03-10T16:45:57.899361",
     "exception": false,
     "start_time": "2022-03-10T16:45:26.616058",
     "status": "completed"
    },
    "tags": []
   },
   "outputs": [
    {
     "name": "stderr",
     "output_type": "stream",
     "text": [
      "2022-03-10 16:45:26.822473: I tensorflow/compiler/mlir/mlir_graph_optimization_pass.cc:185] None of the MLIR Optimization Passes are enabled (registered 2)\n"
     ]
    },
    {
     "name": "stdout",
     "output_type": "stream",
     "text": [
      "Epoch 1/5\n",
      "1675/1675 [==============================] - 8s 4ms/step - loss: 0.8991 - accuracy: 0.6704 - val_loss: 0.6715 - val_accuracy: 0.7460\n",
      "Epoch 2/5\n",
      "1675/1675 [==============================] - 6s 4ms/step - loss: 0.5870 - accuracy: 0.7871 - val_loss: 0.5250 - val_accuracy: 0.8065\n",
      "Epoch 3/5\n",
      "1675/1675 [==============================] - 6s 3ms/step - loss: 0.4991 - accuracy: 0.8083 - val_loss: 0.4917 - val_accuracy: 0.8009\n",
      "Epoch 4/5\n",
      "1675/1675 [==============================] - 6s 4ms/step - loss: 0.4623 - accuracy: 0.8163 - val_loss: 0.4625 - val_accuracy: 0.8132\n",
      "Epoch 5/5\n",
      "1675/1675 [==============================] - 6s 3ms/step - loss: 0.4420 - accuracy: 0.8196 - val_loss: 0.4202 - val_accuracy: 0.8294\n"
     ]
    }
   ],
   "source": [
    "history = dnn_model.fit(X_train_t_pca, Y_train_t, batch_size=64, epochs=5, validation_data=(X_train_val_pca, Y_train_val))"
   ]
  },
  {
   "cell_type": "markdown",
   "id": "90f83055",
   "metadata": {
    "papermill": {
     "duration": 0.325853,
     "end_time": "2022-03-10T16:45:58.552315",
     "exception": false,
     "start_time": "2022-03-10T16:45:58.226462",
     "status": "completed"
    },
    "tags": []
   },
   "source": [
    "## **Final Model Evaluation**"
   ]
  },
  {
   "cell_type": "markdown",
   "id": "6dd04620",
   "metadata": {
    "papermill": {
     "duration": 0.33094,
     "end_time": "2022-03-10T16:45:59.208732",
     "exception": false,
     "start_time": "2022-03-10T16:45:58.877792",
     "status": "completed"
    },
    "tags": []
   },
   "source": [
    "The previous parts were needed in order to determine the more appropriate model to solve our task.\n",
    "Now we will take the model with the hightest score in the cross validation (or on the validation set in the case of deep network) and we will test in on the test set.\n",
    "If the model is non-deep, it will be trained on the full training set before the testing."
   ]
  },
  {
   "cell_type": "code",
   "execution_count": 48,
   "id": "6dcb510d",
   "metadata": {
    "execution": {
     "iopub.execute_input": "2022-03-10T16:45:59.871768Z",
     "iopub.status.busy": "2022-03-10T16:45:59.870702Z",
     "iopub.status.idle": "2022-03-10T16:45:59.875191Z",
     "shell.execute_reply": "2022-03-10T16:45:59.875835Z",
     "shell.execute_reply.started": "2022-03-10T14:22:53.861369Z"
    },
    "papermill": {
     "duration": 0.334886,
     "end_time": "2022-03-10T16:45:59.876027",
     "exception": false,
     "start_time": "2022-03-10T16:45:59.541141",
     "status": "completed"
    },
    "tags": []
   },
   "outputs": [],
   "source": [
    "from sklearn.metrics import classification_report"
   ]
  },
  {
   "cell_type": "code",
   "execution_count": 49,
   "id": "aad0a546",
   "metadata": {
    "execution": {
     "iopub.execute_input": "2022-03-10T16:46:00.545780Z",
     "iopub.status.busy": "2022-03-10T16:46:00.544772Z",
     "iopub.status.idle": "2022-03-10T16:46:00.548029Z",
     "shell.execute_reply": "2022-03-10T16:46:00.547447Z",
     "shell.execute_reply.started": "2022-03-10T14:22:53.867642Z"
    },
    "papermill": {
     "duration": 0.342456,
     "end_time": "2022-03-10T16:46:00.548171",
     "exception": false,
     "start_time": "2022-03-10T16:46:00.205715",
     "status": "completed"
    },
    "tags": []
   },
   "outputs": [],
   "source": [
    "# After testing all the previous models, the random forest appeared to be the one with the best performance, so we will use it.\n",
    "\n",
    "final_model = rnd_forest_model\n",
    "use_neural_network = False"
   ]
  },
  {
   "cell_type": "code",
   "execution_count": 50,
   "id": "4a8e6a0f",
   "metadata": {
    "execution": {
     "iopub.execute_input": "2022-03-10T16:46:01.211100Z",
     "iopub.status.busy": "2022-03-10T16:46:01.210014Z",
     "iopub.status.idle": "2022-03-10T16:46:01.214578Z",
     "shell.execute_reply": "2022-03-10T16:46:01.215265Z",
     "shell.execute_reply.started": "2022-03-10T14:22:53.885016Z"
    },
    "papermill": {
     "duration": 0.337979,
     "end_time": "2022-03-10T16:46:01.215447",
     "exception": false,
     "start_time": "2022-03-10T16:46:00.877468",
     "status": "completed"
    },
    "tags": []
   },
   "outputs": [],
   "source": [
    "# If we are using the deep network model, it's necessary to manually do the PCA transformation:\n",
    "\n",
    "if use_neural_network:\n",
    "    # Preprocess test data\n",
    "    # Standardize\n",
    "    X_test = st_scaler_dnn.transform(X_test)\n",
    "    # PCA\n",
    "    X_test = pca_dnn.transform(X_test)"
   ]
  },
  {
   "cell_type": "code",
   "execution_count": 51,
   "id": "217c5805",
   "metadata": {
    "execution": {
     "iopub.execute_input": "2022-03-10T16:46:01.883939Z",
     "iopub.status.busy": "2022-03-10T16:46:01.882885Z",
     "iopub.status.idle": "2022-03-10T16:47:29.281311Z",
     "shell.execute_reply": "2022-03-10T16:47:29.281930Z",
     "shell.execute_reply.started": "2022-03-10T14:22:53.902334Z"
    },
    "papermill": {
     "duration": 87.736532,
     "end_time": "2022-03-10T16:47:29.282145",
     "exception": false,
     "start_time": "2022-03-10T16:46:01.545613",
     "status": "completed"
    },
    "tags": []
   },
   "outputs": [],
   "source": [
    "# Now we can use the selected model to compute the predictions.\n",
    "\n",
    "if use_neural_network:\n",
    "    # Predict probabilty distributions over possible labels\n",
    "    Y_test_pred_p = final_model.predict(X_test)\n",
    "    # Store the index of the most probable label\n",
    "    Y_test_pred = np.argmax(Y_test_pred_p, axis=1)\n",
    "else:\n",
    "    # Train the full model on the complete training set\n",
    "    final_pipe = build_PCA_pipeline(final_model, pca_n_components)\n",
    "    final_pipe.fit(X_train, Y_train)\n",
    "    # Directly predict labels\n",
    "    Y_test_pred = final_pipe.predict(X_test)"
   ]
  },
  {
   "cell_type": "code",
   "execution_count": 52,
   "id": "6404dec6",
   "metadata": {
    "execution": {
     "iopub.execute_input": "2022-03-10T16:47:29.948399Z",
     "iopub.status.busy": "2022-03-10T16:47:29.947733Z",
     "iopub.status.idle": "2022-03-10T16:47:30.079834Z",
     "shell.execute_reply": "2022-03-10T16:47:30.080374Z",
     "shell.execute_reply.started": "2022-03-10T14:24:36.469739Z"
    },
    "papermill": {
     "duration": 0.467301,
     "end_time": "2022-03-10T16:47:30.080580",
     "exception": false,
     "start_time": "2022-03-10T16:47:29.613279",
     "status": "completed"
    },
    "tags": []
   },
   "outputs": [
    {
     "name": "stdout",
     "output_type": "stream",
     "text": [
      "                          precision    recall  f1-score   support\n",
      "\n",
      "    Bacteroides_fragilis       0.98      0.99      0.99      6646\n",
      "    Campylobacter_jejuni       0.98      0.99      0.99      6621\n",
      "      Enterococcus_hirae       0.97      0.97      0.97      6583\n",
      "        Escherichia_coli       0.97      0.96      0.96      6586\n",
      "  Escherichia_fergusonii       0.96      0.97      0.97      6579\n",
      "   Klebsiella_pneumoniae       0.99      0.99      0.99      6549\n",
      "     Salmonella_enterica       0.98      0.98      0.98      6610\n",
      "   Staphylococcus_aureus       0.98      0.98      0.98      6577\n",
      "Streptococcus_pneumoniae       0.98      0.97      0.97      6624\n",
      "  Streptococcus_pyogenes       0.97      0.97      0.97      6625\n",
      "\n",
      "                accuracy                           0.98     66000\n",
      "               macro avg       0.98      0.98      0.98     66000\n",
      "            weighted avg       0.98      0.98      0.98     66000\n",
      "\n"
     ]
    }
   ],
   "source": [
    "# Print classification report on the test set\n",
    "print(classification_report(Y_test, Y_test_pred, target_names=label_encoder.classes_))"
   ]
  },
  {
   "cell_type": "markdown",
   "id": "1dda98f7",
   "metadata": {
    "papermill": {
     "duration": 0.337219,
     "end_time": "2022-03-10T16:47:30.749338",
     "exception": false,
     "start_time": "2022-03-10T16:47:30.412119",
     "status": "completed"
    },
    "tags": []
   },
   "source": [
    "## **Kaggle Submission Test**"
   ]
  },
  {
   "cell_type": "markdown",
   "id": "c71cb671",
   "metadata": {
    "papermill": {
     "duration": 0.33323,
     "end_time": "2022-03-10T16:47:31.415596",
     "exception": false,
     "start_time": "2022-03-10T16:47:31.082366",
     "status": "completed"
    },
    "tags": []
   },
   "source": [
    "We will also use our model in the official Kaggle competition about this task.\n",
    "To do so, we will first load the test dataset containing the data for which we will compute the predictions."
   ]
  },
  {
   "cell_type": "code",
   "execution_count": 53,
   "id": "0e1a4dc8",
   "metadata": {
    "execution": {
     "iopub.execute_input": "2022-03-10T16:47:32.151661Z",
     "iopub.status.busy": "2022-03-10T16:47:32.150706Z",
     "iopub.status.idle": "2022-03-10T16:47:45.747240Z",
     "shell.execute_reply": "2022-03-10T16:47:45.747758Z",
     "shell.execute_reply.started": "2022-03-10T14:24:36.627517Z"
    },
    "papermill": {
     "duration": 13.934056,
     "end_time": "2022-03-10T16:47:45.747942",
     "exception": false,
     "start_time": "2022-03-10T16:47:31.813886",
     "status": "completed"
    },
    "tags": []
   },
   "outputs": [
    {
     "data": {
      "text/html": [
       "<div>\n",
       "<style scoped>\n",
       "    .dataframe tbody tr th:only-of-type {\n",
       "        vertical-align: middle;\n",
       "    }\n",
       "\n",
       "    .dataframe tbody tr th {\n",
       "        vertical-align: top;\n",
       "    }\n",
       "\n",
       "    .dataframe thead th {\n",
       "        text-align: right;\n",
       "    }\n",
       "</style>\n",
       "<table border=\"1\" class=\"dataframe\">\n",
       "  <thead>\n",
       "    <tr style=\"text-align: right;\">\n",
       "      <th></th>\n",
       "      <th>row_id</th>\n",
       "      <th>A0T0G0C10</th>\n",
       "      <th>A0T0G1C9</th>\n",
       "      <th>A0T0G2C8</th>\n",
       "      <th>A0T0G3C7</th>\n",
       "      <th>A0T0G4C6</th>\n",
       "      <th>A0T0G5C5</th>\n",
       "      <th>A0T0G6C4</th>\n",
       "      <th>A0T0G7C3</th>\n",
       "      <th>A0T0G8C2</th>\n",
       "      <th>...</th>\n",
       "      <th>A8T0G0C2</th>\n",
       "      <th>A8T0G1C1</th>\n",
       "      <th>A8T0G2C0</th>\n",
       "      <th>A8T1G0C1</th>\n",
       "      <th>A8T1G1C0</th>\n",
       "      <th>A8T2G0C0</th>\n",
       "      <th>A9T0G0C1</th>\n",
       "      <th>A9T0G1C0</th>\n",
       "      <th>A9T1G0C0</th>\n",
       "      <th>A10T0G0C0</th>\n",
       "    </tr>\n",
       "  </thead>\n",
       "  <tbody>\n",
       "    <tr>\n",
       "      <th>0</th>\n",
       "      <td>200000</td>\n",
       "      <td>-9.536743e-07</td>\n",
       "      <td>-0.000002</td>\n",
       "      <td>-9.153442e-07</td>\n",
       "      <td>0.000024</td>\n",
       "      <td>0.000034</td>\n",
       "      <td>-0.000002</td>\n",
       "      <td>0.000021</td>\n",
       "      <td>0.000024</td>\n",
       "      <td>-0.000009</td>\n",
       "      <td>...</td>\n",
       "      <td>0.000039</td>\n",
       "      <td>0.000085</td>\n",
       "      <td>0.000055</td>\n",
       "      <td>0.000108</td>\n",
       "      <td>0.000090</td>\n",
       "      <td>0.000059</td>\n",
       "      <td>0.000010</td>\n",
       "      <td>0.000006</td>\n",
       "      <td>0.000027</td>\n",
       "      <td>4.632568e-08</td>\n",
       "    </tr>\n",
       "    <tr>\n",
       "      <th>1</th>\n",
       "      <td>200001</td>\n",
       "      <td>-9.536743e-07</td>\n",
       "      <td>-0.000010</td>\n",
       "      <td>-4.291534e-05</td>\n",
       "      <td>-0.000114</td>\n",
       "      <td>0.001800</td>\n",
       "      <td>-0.000240</td>\n",
       "      <td>0.001800</td>\n",
       "      <td>-0.000114</td>\n",
       "      <td>0.000957</td>\n",
       "      <td>...</td>\n",
       "      <td>-0.000043</td>\n",
       "      <td>0.000914</td>\n",
       "      <td>-0.000043</td>\n",
       "      <td>-0.000086</td>\n",
       "      <td>-0.000086</td>\n",
       "      <td>-0.000043</td>\n",
       "      <td>-0.000010</td>\n",
       "      <td>-0.000010</td>\n",
       "      <td>-0.000010</td>\n",
       "      <td>-9.536743e-07</td>\n",
       "    </tr>\n",
       "    <tr>\n",
       "      <th>2</th>\n",
       "      <td>200002</td>\n",
       "      <td>4.632568e-08</td>\n",
       "      <td>0.000003</td>\n",
       "      <td>8.465576e-08</td>\n",
       "      <td>-0.000014</td>\n",
       "      <td>0.000007</td>\n",
       "      <td>-0.000005</td>\n",
       "      <td>-0.000004</td>\n",
       "      <td>0.000003</td>\n",
       "      <td>0.000004</td>\n",
       "      <td>...</td>\n",
       "      <td>0.000041</td>\n",
       "      <td>0.000102</td>\n",
       "      <td>0.000084</td>\n",
       "      <td>0.000111</td>\n",
       "      <td>0.000117</td>\n",
       "      <td>0.000070</td>\n",
       "      <td>0.000020</td>\n",
       "      <td>0.000030</td>\n",
       "      <td>0.000021</td>\n",
       "      <td>4.632568e-08</td>\n",
       "    </tr>\n",
       "    <tr>\n",
       "      <th>3</th>\n",
       "      <td>200003</td>\n",
       "      <td>-9.536743e-07</td>\n",
       "      <td>-0.000008</td>\n",
       "      <td>8.084656e-06</td>\n",
       "      <td>0.000216</td>\n",
       "      <td>0.000420</td>\n",
       "      <td>0.000514</td>\n",
       "      <td>0.000452</td>\n",
       "      <td>0.000187</td>\n",
       "      <td>-0.000005</td>\n",
       "      <td>...</td>\n",
       "      <td>0.000069</td>\n",
       "      <td>0.000158</td>\n",
       "      <td>0.000098</td>\n",
       "      <td>0.000175</td>\n",
       "      <td>0.000217</td>\n",
       "      <td>0.000150</td>\n",
       "      <td>0.000018</td>\n",
       "      <td>0.000016</td>\n",
       "      <td>0.000051</td>\n",
       "      <td>-9.536743e-07</td>\n",
       "    </tr>\n",
       "    <tr>\n",
       "      <th>4</th>\n",
       "      <td>200004</td>\n",
       "      <td>-9.536743e-07</td>\n",
       "      <td>-0.000010</td>\n",
       "      <td>-4.291534e-05</td>\n",
       "      <td>-0.000114</td>\n",
       "      <td>-0.000200</td>\n",
       "      <td>-0.000240</td>\n",
       "      <td>-0.000200</td>\n",
       "      <td>-0.000114</td>\n",
       "      <td>-0.000043</td>\n",
       "      <td>...</td>\n",
       "      <td>-0.000043</td>\n",
       "      <td>-0.000086</td>\n",
       "      <td>-0.000043</td>\n",
       "      <td>-0.000086</td>\n",
       "      <td>0.000914</td>\n",
       "      <td>-0.000043</td>\n",
       "      <td>-0.000010</td>\n",
       "      <td>-0.000010</td>\n",
       "      <td>0.000990</td>\n",
       "      <td>-9.536743e-07</td>\n",
       "    </tr>\n",
       "  </tbody>\n",
       "</table>\n",
       "<p>5 rows × 287 columns</p>\n",
       "</div>"
      ],
      "text/plain": [
       "   row_id     A0T0G0C10  A0T0G1C9      A0T0G2C8  A0T0G3C7  A0T0G4C6  A0T0G5C5  \\\n",
       "0  200000 -9.536743e-07 -0.000002 -9.153442e-07  0.000024  0.000034 -0.000002   \n",
       "1  200001 -9.536743e-07 -0.000010 -4.291534e-05 -0.000114  0.001800 -0.000240   \n",
       "2  200002  4.632568e-08  0.000003  8.465576e-08 -0.000014  0.000007 -0.000005   \n",
       "3  200003 -9.536743e-07 -0.000008  8.084656e-06  0.000216  0.000420  0.000514   \n",
       "4  200004 -9.536743e-07 -0.000010 -4.291534e-05 -0.000114 -0.000200 -0.000240   \n",
       "\n",
       "   A0T0G6C4  A0T0G7C3  A0T0G8C2  ...  A8T0G0C2  A8T0G1C1  A8T0G2C0  A8T1G0C1  \\\n",
       "0  0.000021  0.000024 -0.000009  ...  0.000039  0.000085  0.000055  0.000108   \n",
       "1  0.001800 -0.000114  0.000957  ... -0.000043  0.000914 -0.000043 -0.000086   \n",
       "2 -0.000004  0.000003  0.000004  ...  0.000041  0.000102  0.000084  0.000111   \n",
       "3  0.000452  0.000187 -0.000005  ...  0.000069  0.000158  0.000098  0.000175   \n",
       "4 -0.000200 -0.000114 -0.000043  ... -0.000043 -0.000086 -0.000043 -0.000086   \n",
       "\n",
       "   A8T1G1C0  A8T2G0C0  A9T0G0C1  A9T0G1C0  A9T1G0C0     A10T0G0C0  \n",
       "0  0.000090  0.000059  0.000010  0.000006  0.000027  4.632568e-08  \n",
       "1 -0.000086 -0.000043 -0.000010 -0.000010 -0.000010 -9.536743e-07  \n",
       "2  0.000117  0.000070  0.000020  0.000030  0.000021  4.632568e-08  \n",
       "3  0.000217  0.000150  0.000018  0.000016  0.000051 -9.536743e-07  \n",
       "4  0.000914 -0.000043 -0.000010 -0.000010  0.000990 -9.536743e-07  \n",
       "\n",
       "[5 rows x 287 columns]"
      ]
     },
     "execution_count": 53,
     "metadata": {},
     "output_type": "execute_result"
    }
   ],
   "source": [
    "# Load Kaggle's submission test set\n",
    "df_subm = pd.read_csv(\"/kaggle/input/tabular-playground-series-feb-2022/test.csv\")\n",
    "df_subm.head()"
   ]
  },
  {
   "cell_type": "markdown",
   "id": "746d6464",
   "metadata": {
    "papermill": {
     "duration": 0.334265,
     "end_time": "2022-03-10T16:47:46.412527",
     "exception": false,
     "start_time": "2022-03-10T16:47:46.078262",
     "status": "completed"
    },
    "tags": []
   },
   "source": [
    "Now we create the pandas dataframe in which we will store our predictions.\n",
    "\n",
    "Each row will contain the row_id of the sample and its predicted label."
   ]
  },
  {
   "cell_type": "code",
   "execution_count": 54,
   "id": "8ebd6095",
   "metadata": {
    "execution": {
     "iopub.execute_input": "2022-03-10T16:47:47.086830Z",
     "iopub.status.busy": "2022-03-10T16:47:47.082133Z",
     "iopub.status.idle": "2022-03-10T16:47:47.089964Z",
     "shell.execute_reply": "2022-03-10T16:47:47.090546Z",
     "shell.execute_reply.started": "2022-03-10T14:24:51.706749Z"
    },
    "papermill": {
     "duration": 0.342626,
     "end_time": "2022-03-10T16:47:47.090752",
     "exception": false,
     "start_time": "2022-03-10T16:47:46.748126",
     "status": "completed"
    },
    "tags": []
   },
   "outputs": [
    {
     "data": {
      "text/html": [
       "<div>\n",
       "<style scoped>\n",
       "    .dataframe tbody tr th:only-of-type {\n",
       "        vertical-align: middle;\n",
       "    }\n",
       "\n",
       "    .dataframe tbody tr th {\n",
       "        vertical-align: top;\n",
       "    }\n",
       "\n",
       "    .dataframe thead th {\n",
       "        text-align: right;\n",
       "    }\n",
       "</style>\n",
       "<table border=\"1\" class=\"dataframe\">\n",
       "  <thead>\n",
       "    <tr style=\"text-align: right;\">\n",
       "      <th></th>\n",
       "      <th>row_id</th>\n",
       "    </tr>\n",
       "  </thead>\n",
       "  <tbody>\n",
       "    <tr>\n",
       "      <th>0</th>\n",
       "      <td>200000</td>\n",
       "    </tr>\n",
       "    <tr>\n",
       "      <th>1</th>\n",
       "      <td>200001</td>\n",
       "    </tr>\n",
       "    <tr>\n",
       "      <th>2</th>\n",
       "      <td>200002</td>\n",
       "    </tr>\n",
       "    <tr>\n",
       "      <th>3</th>\n",
       "      <td>200003</td>\n",
       "    </tr>\n",
       "    <tr>\n",
       "      <th>4</th>\n",
       "      <td>200004</td>\n",
       "    </tr>\n",
       "  </tbody>\n",
       "</table>\n",
       "</div>"
      ],
      "text/plain": [
       "   row_id\n",
       "0  200000\n",
       "1  200001\n",
       "2  200002\n",
       "3  200003\n",
       "4  200004"
      ]
     },
     "execution_count": 54,
     "metadata": {},
     "output_type": "execute_result"
    }
   ],
   "source": [
    "df_subm_results = pd.DataFrame(df_subm[\"row_id\"])\n",
    "df_subm_results.head()"
   ]
  },
  {
   "cell_type": "code",
   "execution_count": 55,
   "id": "9dd6871f",
   "metadata": {
    "execution": {
     "iopub.execute_input": "2022-03-10T16:47:47.759763Z",
     "iopub.status.busy": "2022-03-10T16:47:47.758717Z",
     "iopub.status.idle": "2022-03-10T16:47:47.818031Z",
     "shell.execute_reply": "2022-03-10T16:47:47.818558Z",
     "shell.execute_reply.started": "2022-03-10T14:24:51.726267Z"
    },
    "papermill": {
     "duration": 0.39344,
     "end_time": "2022-03-10T16:47:47.818749",
     "exception": false,
     "start_time": "2022-03-10T16:47:47.425309",
     "status": "completed"
    },
    "tags": []
   },
   "outputs": [],
   "source": [
    "X_subm = df_subm.drop(columns=\"row_id\")"
   ]
  },
  {
   "cell_type": "markdown",
   "id": "6a78e02f",
   "metadata": {
    "papermill": {
     "duration": 0.337627,
     "end_time": "2022-03-10T16:47:48.486721",
     "exception": false,
     "start_time": "2022-03-10T16:47:48.149094",
     "status": "completed"
    },
    "tags": []
   },
   "source": [
    "This time in the code i will directly assume to use a non-deep model, because we have seen that they perform better on the task ."
   ]
  },
  {
   "cell_type": "code",
   "execution_count": 56,
   "id": "73c6f907",
   "metadata": {
    "execution": {
     "iopub.execute_input": "2022-03-10T16:47:49.154049Z",
     "iopub.status.busy": "2022-03-10T16:47:49.152879Z",
     "iopub.status.idle": "2022-03-10T16:49:55.797347Z",
     "shell.execute_reply": "2022-03-10T16:49:55.797924Z",
     "shell.execute_reply.started": "2022-03-10T14:24:51.979873Z"
    },
    "papermill": {
     "duration": 126.981466,
     "end_time": "2022-03-10T16:49:55.798128",
     "exception": false,
     "start_time": "2022-03-10T16:47:48.816662",
     "status": "completed"
    },
    "tags": []
   },
   "outputs": [
    {
     "data": {
      "text/plain": [
       "Pipeline(steps=[('st_scaler', StandardScaler()),\n",
       "                ('pca', PCA(n_components=5, random_state=42)),\n",
       "                ('classifier',\n",
       "                 RandomForestClassifier(criterion='entropy', n_estimators=150,\n",
       "                                        random_state=42))])"
      ]
     },
     "execution_count": 56,
     "metadata": {},
     "output_type": "execute_result"
    }
   ],
   "source": [
    "# Build pipeline with final model\n",
    "final_pipe = build_PCA_pipeline(final_model, pca_n_components)\n",
    "# Retrain model on full dataset\n",
    "final_pipe.fit(df.drop(columns=[\"target\"]), df[\"target\"])"
   ]
  },
  {
   "cell_type": "code",
   "execution_count": 57,
   "id": "f73baea0",
   "metadata": {
    "execution": {
     "iopub.execute_input": "2022-03-10T16:49:56.468718Z",
     "iopub.status.busy": "2022-03-10T16:49:56.468011Z",
     "iopub.status.idle": "2022-03-10T16:50:00.886630Z",
     "shell.execute_reply": "2022-03-10T16:50:00.885892Z",
     "shell.execute_reply.started": "2022-03-10T14:27:19.079264Z"
    },
    "papermill": {
     "duration": 4.754879,
     "end_time": "2022-03-10T16:50:00.886808",
     "exception": false,
     "start_time": "2022-03-10T16:49:56.131929",
     "status": "completed"
    },
    "tags": []
   },
   "outputs": [],
   "source": [
    "# predict labels\n",
    "Y_subm_predicted = final_pipe.predict(X_subm)\n",
    "# Convert label indexes to text\n",
    "Y_subm_predicted_labeled = label_encoder.inverse_transform(Y_subm_predicted)\n",
    "# Store the predicted targets in the dataframe\n",
    "df_subm_results[\"target\"] = Y_subm_predicted_labeled"
   ]
  },
  {
   "cell_type": "code",
   "execution_count": 58,
   "id": "a669edfa",
   "metadata": {
    "execution": {
     "iopub.execute_input": "2022-03-10T16:50:01.617239Z",
     "iopub.status.busy": "2022-03-10T16:50:01.616553Z",
     "iopub.status.idle": "2022-03-10T16:50:01.623003Z",
     "shell.execute_reply": "2022-03-10T16:50:01.623621Z",
     "shell.execute_reply.started": "2022-03-10T14:27:23.360298Z"
    },
    "papermill": {
     "duration": 0.371139,
     "end_time": "2022-03-10T16:50:01.623813",
     "exception": false,
     "start_time": "2022-03-10T16:50:01.252674",
     "status": "completed"
    },
    "tags": []
   },
   "outputs": [
    {
     "data": {
      "text/html": [
       "<div>\n",
       "<style scoped>\n",
       "    .dataframe tbody tr th:only-of-type {\n",
       "        vertical-align: middle;\n",
       "    }\n",
       "\n",
       "    .dataframe tbody tr th {\n",
       "        vertical-align: top;\n",
       "    }\n",
       "\n",
       "    .dataframe thead th {\n",
       "        text-align: right;\n",
       "    }\n",
       "</style>\n",
       "<table border=\"1\" class=\"dataframe\">\n",
       "  <thead>\n",
       "    <tr style=\"text-align: right;\">\n",
       "      <th></th>\n",
       "      <th>row_id</th>\n",
       "      <th>target</th>\n",
       "    </tr>\n",
       "  </thead>\n",
       "  <tbody>\n",
       "    <tr>\n",
       "      <th>0</th>\n",
       "      <td>200000</td>\n",
       "      <td>Escherichia_fergusonii</td>\n",
       "    </tr>\n",
       "    <tr>\n",
       "      <th>1</th>\n",
       "      <td>200001</td>\n",
       "      <td>Salmonella_enterica</td>\n",
       "    </tr>\n",
       "    <tr>\n",
       "      <th>2</th>\n",
       "      <td>200002</td>\n",
       "      <td>Enterococcus_hirae</td>\n",
       "    </tr>\n",
       "    <tr>\n",
       "      <th>3</th>\n",
       "      <td>200003</td>\n",
       "      <td>Salmonella_enterica</td>\n",
       "    </tr>\n",
       "    <tr>\n",
       "      <th>4</th>\n",
       "      <td>200004</td>\n",
       "      <td>Staphylococcus_aureus</td>\n",
       "    </tr>\n",
       "  </tbody>\n",
       "</table>\n",
       "</div>"
      ],
      "text/plain": [
       "   row_id                  target\n",
       "0  200000  Escherichia_fergusonii\n",
       "1  200001     Salmonella_enterica\n",
       "2  200002      Enterococcus_hirae\n",
       "3  200003     Salmonella_enterica\n",
       "4  200004   Staphylococcus_aureus"
      ]
     },
     "execution_count": 58,
     "metadata": {},
     "output_type": "execute_result"
    }
   ],
   "source": [
    "df_subm_results.head()"
   ]
  },
  {
   "cell_type": "markdown",
   "id": "5ca21d9c",
   "metadata": {
    "papermill": {
     "duration": 0.33183,
     "end_time": "2022-03-10T16:50:02.287150",
     "exception": false,
     "start_time": "2022-03-10T16:50:01.955320",
     "status": "completed"
    },
    "tags": []
   },
   "source": [
    "Finally we save the submission dataset as a csv file, which can be loaded on the Kaggle competition's website to obtain a score:"
   ]
  },
  {
   "cell_type": "code",
   "execution_count": 59,
   "id": "46924aa4",
   "metadata": {
    "execution": {
     "iopub.execute_input": "2022-03-10T16:50:02.957559Z",
     "iopub.status.busy": "2022-03-10T16:50:02.956881Z",
     "iopub.status.idle": "2022-03-10T16:50:03.192743Z",
     "shell.execute_reply": "2022-03-10T16:50:03.192075Z",
     "shell.execute_reply.started": "2022-03-10T14:27:23.373606Z"
    },
    "papermill": {
     "duration": 0.57154,
     "end_time": "2022-03-10T16:50:03.192899",
     "exception": false,
     "start_time": "2022-03-10T16:50:02.621359",
     "status": "completed"
    },
    "tags": []
   },
   "outputs": [],
   "source": [
    "df_subm_results.to_csv(\"submission.csv\", index=False)"
   ]
  },
  {
   "cell_type": "code",
   "execution_count": null,
   "id": "a0f1d42c",
   "metadata": {
    "papermill": {
     "duration": 0.332144,
     "end_time": "2022-03-10T16:50:03.863256",
     "exception": false,
     "start_time": "2022-03-10T16:50:03.531112",
     "status": "completed"
    },
    "tags": []
   },
   "outputs": [],
   "source": []
  },
  {
   "cell_type": "code",
   "execution_count": null,
   "id": "a0da924b",
   "metadata": {
    "papermill": {
     "duration": 0.337753,
     "end_time": "2022-03-10T16:50:04.530640",
     "exception": false,
     "start_time": "2022-03-10T16:50:04.192887",
     "status": "completed"
    },
    "tags": []
   },
   "outputs": [],
   "source": []
  }
 ],
 "metadata": {
  "kernelspec": {
   "display_name": "Python 3",
   "language": "python",
   "name": "python3"
  },
  "language_info": {
   "codemirror_mode": {
    "name": "ipython",
    "version": 3
   },
   "file_extension": ".py",
   "mimetype": "text/x-python",
   "name": "python",
   "nbconvert_exporter": "python",
   "pygments_lexer": "ipython3",
   "version": "3.7.12"
  },
  "papermill": {
   "default_parameters": {},
   "duration": 734.551833,
   "end_time": "2022-03-10T16:50:08.448299",
   "environment_variables": {},
   "exception": null,
   "input_path": "__notebook__.ipynb",
   "output_path": "__notebook__.ipynb",
   "parameters": {},
   "start_time": "2022-03-10T16:37:53.896466",
   "version": "2.3.3"
  }
 },
 "nbformat": 4,
 "nbformat_minor": 5
}
