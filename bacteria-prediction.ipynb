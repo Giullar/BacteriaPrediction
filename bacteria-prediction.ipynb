{
 "cells": [
  {
   "cell_type": "markdown",
   "id": "edc9a6fd",
   "metadata": {
    "_cell_guid": "b1076dfc-b9ad-4769-8c92-a6c4dae69d19",
    "_uuid": "8f2839f25d086af736a60e9eeb907d3b93b6e0e5",
    "execution": {
     "iopub.execute_input": "2022-03-02T14:33:46.222715Z",
     "iopub.status.busy": "2022-03-02T14:33:46.221872Z",
     "iopub.status.idle": "2022-03-02T14:33:46.251698Z",
     "shell.execute_reply": "2022-03-02T14:33:46.250819Z",
     "shell.execute_reply.started": "2022-03-02T14:33:46.222522Z"
    },
    "papermill": {
     "duration": 0.060217,
     "end_time": "2022-03-08T15:11:18.091324",
     "exception": false,
     "start_time": "2022-03-08T15:11:18.031107",
     "status": "completed"
    },
    "tags": []
   },
   "source": [
    "# **Bacteria Prediction**"
   ]
  },
  {
   "cell_type": "markdown",
   "id": "dfce2f87",
   "metadata": {
    "papermill": {
     "duration": 0.058895,
     "end_time": "2022-03-08T15:11:18.210950",
     "exception": false,
     "start_time": "2022-03-08T15:11:18.152055",
     "status": "completed"
    },
    "tags": []
   },
   "source": [
    "## **Data Loading**"
   ]
  },
  {
   "cell_type": "code",
   "execution_count": 1,
   "id": "39a66ae0",
   "metadata": {
    "execution": {
     "iopub.execute_input": "2022-03-08T15:11:18.336186Z",
     "iopub.status.busy": "2022-03-08T15:11:18.335158Z",
     "iopub.status.idle": "2022-03-08T15:11:18.343939Z",
     "shell.execute_reply": "2022-03-08T15:11:18.344475Z",
     "shell.execute_reply.started": "2022-03-08T14:47:43.874946Z"
    },
    "papermill": {
     "duration": 0.073445,
     "end_time": "2022-03-08T15:11:18.344736",
     "exception": false,
     "start_time": "2022-03-08T15:11:18.271291",
     "status": "completed"
    },
    "tags": []
   },
   "outputs": [],
   "source": [
    "import os\n",
    "import numpy as np\n",
    "import pandas as pd\n",
    "import matplotlib.pyplot as plt\n",
    "\n",
    "# Global variables\n",
    "random_seed = 42"
   ]
  },
  {
   "cell_type": "code",
   "execution_count": 2,
   "id": "ead3e94a",
   "metadata": {
    "execution": {
     "iopub.execute_input": "2022-03-08T15:11:18.467403Z",
     "iopub.status.busy": "2022-03-08T15:11:18.466756Z",
     "iopub.status.idle": "2022-03-08T15:11:18.471956Z",
     "shell.execute_reply": "2022-03-08T15:11:18.472380Z",
     "shell.execute_reply.started": "2022-03-08T14:47:43.904388Z"
    },
    "papermill": {
     "duration": 0.066713,
     "end_time": "2022-03-08T15:11:18.472551",
     "exception": false,
     "start_time": "2022-03-08T15:11:18.405838",
     "status": "completed"
    },
    "tags": []
   },
   "outputs": [
    {
     "name": "stdout",
     "output_type": "stream",
     "text": [
      "/kaggle/input/tabular-playground-series-feb-2022/sample_submission.csv\n",
      "/kaggle/input/tabular-playground-series-feb-2022/train.csv\n",
      "/kaggle/input/tabular-playground-series-feb-2022/test.csv\n"
     ]
    }
   ],
   "source": [
    "# Print directory structure\n",
    "for dirname, _, filenames in os.walk('/kaggle/input'):\n",
    "    for filename in filenames:\n",
    "        print(os.path.join(dirname, filename))"
   ]
  },
  {
   "cell_type": "code",
   "execution_count": 3,
   "id": "b3d9bb6a",
   "metadata": {
    "execution": {
     "iopub.execute_input": "2022-03-08T15:11:18.605029Z",
     "iopub.status.busy": "2022-03-08T15:11:18.603938Z",
     "iopub.status.idle": "2022-03-08T15:11:44.689273Z",
     "shell.execute_reply": "2022-03-08T15:11:44.688661Z",
     "shell.execute_reply.started": "2022-03-08T14:47:43.922220Z"
    },
    "papermill": {
     "duration": 26.15602,
     "end_time": "2022-03-08T15:11:44.689406",
     "exception": false,
     "start_time": "2022-03-08T15:11:18.533386",
     "status": "completed"
    },
    "tags": []
   },
   "outputs": [],
   "source": [
    "# Load training set\n",
    "df = pd.read_csv(\"/kaggle/input/tabular-playground-series-feb-2022/train.csv\")"
   ]
  },
  {
   "cell_type": "markdown",
   "id": "1ce1ebe6",
   "metadata": {
    "papermill": {
     "duration": 0.058033,
     "end_time": "2022-03-08T15:11:44.808038",
     "exception": false,
     "start_time": "2022-03-08T15:11:44.750005",
     "status": "completed"
    },
    "tags": []
   },
   "source": [
    "## **Data Analysis**"
   ]
  },
  {
   "cell_type": "code",
   "execution_count": 4,
   "id": "4d903cec",
   "metadata": {
    "execution": {
     "iopub.execute_input": "2022-03-08T15:11:44.931620Z",
     "iopub.status.busy": "2022-03-08T15:11:44.931011Z",
     "iopub.status.idle": "2022-03-08T15:11:44.937446Z",
     "shell.execute_reply": "2022-03-08T15:11:44.937906Z",
     "shell.execute_reply.started": "2022-03-08T14:48:11.815962Z"
    },
    "papermill": {
     "duration": 0.070254,
     "end_time": "2022-03-08T15:11:44.938071",
     "exception": false,
     "start_time": "2022-03-08T15:11:44.867817",
     "status": "completed"
    },
    "tags": []
   },
   "outputs": [
    {
     "data": {
      "text/plain": [
       "(200000, 288)"
      ]
     },
     "execution_count": 4,
     "metadata": {},
     "output_type": "execute_result"
    }
   ],
   "source": [
    "df.shape"
   ]
  },
  {
   "cell_type": "code",
   "execution_count": 5,
   "id": "c6a15562",
   "metadata": {
    "execution": {
     "iopub.execute_input": "2022-03-08T15:11:45.061458Z",
     "iopub.status.busy": "2022-03-08T15:11:45.060897Z",
     "iopub.status.idle": "2022-03-08T15:11:45.090092Z",
     "shell.execute_reply": "2022-03-08T15:11:45.090542Z",
     "shell.execute_reply.started": "2022-03-08T14:48:11.826175Z"
    },
    "papermill": {
     "duration": 0.092338,
     "end_time": "2022-03-08T15:11:45.090692",
     "exception": false,
     "start_time": "2022-03-08T15:11:44.998354",
     "status": "completed"
    },
    "tags": []
   },
   "outputs": [
    {
     "data": {
      "text/html": [
       "<div>\n",
       "<style scoped>\n",
       "    .dataframe tbody tr th:only-of-type {\n",
       "        vertical-align: middle;\n",
       "    }\n",
       "\n",
       "    .dataframe tbody tr th {\n",
       "        vertical-align: top;\n",
       "    }\n",
       "\n",
       "    .dataframe thead th {\n",
       "        text-align: right;\n",
       "    }\n",
       "</style>\n",
       "<table border=\"1\" class=\"dataframe\">\n",
       "  <thead>\n",
       "    <tr style=\"text-align: right;\">\n",
       "      <th></th>\n",
       "      <th>row_id</th>\n",
       "      <th>A0T0G0C10</th>\n",
       "      <th>A0T0G1C9</th>\n",
       "      <th>A0T0G2C8</th>\n",
       "      <th>A0T0G3C7</th>\n",
       "      <th>A0T0G4C6</th>\n",
       "      <th>A0T0G5C5</th>\n",
       "      <th>A0T0G6C4</th>\n",
       "      <th>A0T0G7C3</th>\n",
       "      <th>A0T0G8C2</th>\n",
       "      <th>...</th>\n",
       "      <th>A8T0G1C1</th>\n",
       "      <th>A8T0G2C0</th>\n",
       "      <th>A8T1G0C1</th>\n",
       "      <th>A8T1G1C0</th>\n",
       "      <th>A8T2G0C0</th>\n",
       "      <th>A9T0G0C1</th>\n",
       "      <th>A9T0G1C0</th>\n",
       "      <th>A9T1G0C0</th>\n",
       "      <th>A10T0G0C0</th>\n",
       "      <th>target</th>\n",
       "    </tr>\n",
       "  </thead>\n",
       "  <tbody>\n",
       "    <tr>\n",
       "      <th>0</th>\n",
       "      <td>0</td>\n",
       "      <td>-9.536743e-07</td>\n",
       "      <td>-0.000010</td>\n",
       "      <td>-0.000043</td>\n",
       "      <td>-0.000114</td>\n",
       "      <td>-0.000200</td>\n",
       "      <td>-0.000240</td>\n",
       "      <td>-0.000200</td>\n",
       "      <td>-0.000114</td>\n",
       "      <td>-0.000043</td>\n",
       "      <td>...</td>\n",
       "      <td>-0.000086</td>\n",
       "      <td>-0.000043</td>\n",
       "      <td>-0.000086</td>\n",
       "      <td>-0.000086</td>\n",
       "      <td>-0.000043</td>\n",
       "      <td>-0.000010</td>\n",
       "      <td>-0.000010</td>\n",
       "      <td>-0.000010</td>\n",
       "      <td>-9.536743e-07</td>\n",
       "      <td>Streptococcus_pyogenes</td>\n",
       "    </tr>\n",
       "    <tr>\n",
       "      <th>1</th>\n",
       "      <td>1</td>\n",
       "      <td>-9.536743e-07</td>\n",
       "      <td>-0.000010</td>\n",
       "      <td>-0.000043</td>\n",
       "      <td>0.000886</td>\n",
       "      <td>-0.000200</td>\n",
       "      <td>0.000760</td>\n",
       "      <td>-0.000200</td>\n",
       "      <td>-0.000114</td>\n",
       "      <td>-0.000043</td>\n",
       "      <td>...</td>\n",
       "      <td>-0.000086</td>\n",
       "      <td>-0.000043</td>\n",
       "      <td>0.000914</td>\n",
       "      <td>0.000914</td>\n",
       "      <td>-0.000043</td>\n",
       "      <td>-0.000010</td>\n",
       "      <td>-0.000010</td>\n",
       "      <td>-0.000010</td>\n",
       "      <td>-9.536743e-07</td>\n",
       "      <td>Salmonella_enterica</td>\n",
       "    </tr>\n",
       "    <tr>\n",
       "      <th>2</th>\n",
       "      <td>2</td>\n",
       "      <td>-9.536743e-07</td>\n",
       "      <td>-0.000002</td>\n",
       "      <td>0.000007</td>\n",
       "      <td>0.000129</td>\n",
       "      <td>0.000268</td>\n",
       "      <td>0.000270</td>\n",
       "      <td>0.000243</td>\n",
       "      <td>0.000125</td>\n",
       "      <td>0.000001</td>\n",
       "      <td>...</td>\n",
       "      <td>0.000084</td>\n",
       "      <td>0.000048</td>\n",
       "      <td>0.000081</td>\n",
       "      <td>0.000106</td>\n",
       "      <td>0.000072</td>\n",
       "      <td>0.000010</td>\n",
       "      <td>0.000008</td>\n",
       "      <td>0.000019</td>\n",
       "      <td>1.046326e-06</td>\n",
       "      <td>Salmonella_enterica</td>\n",
       "    </tr>\n",
       "    <tr>\n",
       "      <th>3</th>\n",
       "      <td>3</td>\n",
       "      <td>4.632568e-08</td>\n",
       "      <td>-0.000006</td>\n",
       "      <td>0.000012</td>\n",
       "      <td>0.000245</td>\n",
       "      <td>0.000492</td>\n",
       "      <td>0.000522</td>\n",
       "      <td>0.000396</td>\n",
       "      <td>0.000197</td>\n",
       "      <td>-0.000003</td>\n",
       "      <td>...</td>\n",
       "      <td>0.000151</td>\n",
       "      <td>0.000100</td>\n",
       "      <td>0.000180</td>\n",
       "      <td>0.000202</td>\n",
       "      <td>0.000153</td>\n",
       "      <td>0.000021</td>\n",
       "      <td>0.000015</td>\n",
       "      <td>0.000046</td>\n",
       "      <td>-9.536743e-07</td>\n",
       "      <td>Salmonella_enterica</td>\n",
       "    </tr>\n",
       "    <tr>\n",
       "      <th>4</th>\n",
       "      <td>4</td>\n",
       "      <td>-9.536743e-07</td>\n",
       "      <td>-0.000010</td>\n",
       "      <td>-0.000043</td>\n",
       "      <td>-0.000114</td>\n",
       "      <td>-0.000200</td>\n",
       "      <td>-0.000240</td>\n",
       "      <td>-0.000200</td>\n",
       "      <td>-0.000114</td>\n",
       "      <td>-0.000043</td>\n",
       "      <td>...</td>\n",
       "      <td>-0.000086</td>\n",
       "      <td>-0.000043</td>\n",
       "      <td>-0.000086</td>\n",
       "      <td>-0.000086</td>\n",
       "      <td>-0.000043</td>\n",
       "      <td>-0.000010</td>\n",
       "      <td>-0.000010</td>\n",
       "      <td>-0.000010</td>\n",
       "      <td>-9.536743e-07</td>\n",
       "      <td>Enterococcus_hirae</td>\n",
       "    </tr>\n",
       "  </tbody>\n",
       "</table>\n",
       "<p>5 rows × 288 columns</p>\n",
       "</div>"
      ],
      "text/plain": [
       "   row_id     A0T0G0C10  A0T0G1C9  A0T0G2C8  A0T0G3C7  A0T0G4C6  A0T0G5C5  \\\n",
       "0       0 -9.536743e-07 -0.000010 -0.000043 -0.000114 -0.000200 -0.000240   \n",
       "1       1 -9.536743e-07 -0.000010 -0.000043  0.000886 -0.000200  0.000760   \n",
       "2       2 -9.536743e-07 -0.000002  0.000007  0.000129  0.000268  0.000270   \n",
       "3       3  4.632568e-08 -0.000006  0.000012  0.000245  0.000492  0.000522   \n",
       "4       4 -9.536743e-07 -0.000010 -0.000043 -0.000114 -0.000200 -0.000240   \n",
       "\n",
       "   A0T0G6C4  A0T0G7C3  A0T0G8C2  ...  A8T0G1C1  A8T0G2C0  A8T1G0C1  A8T1G1C0  \\\n",
       "0 -0.000200 -0.000114 -0.000043  ... -0.000086 -0.000043 -0.000086 -0.000086   \n",
       "1 -0.000200 -0.000114 -0.000043  ... -0.000086 -0.000043  0.000914  0.000914   \n",
       "2  0.000243  0.000125  0.000001  ...  0.000084  0.000048  0.000081  0.000106   \n",
       "3  0.000396  0.000197 -0.000003  ...  0.000151  0.000100  0.000180  0.000202   \n",
       "4 -0.000200 -0.000114 -0.000043  ... -0.000086 -0.000043 -0.000086 -0.000086   \n",
       "\n",
       "   A8T2G0C0  A9T0G0C1  A9T0G1C0  A9T1G0C0     A10T0G0C0  \\\n",
       "0 -0.000043 -0.000010 -0.000010 -0.000010 -9.536743e-07   \n",
       "1 -0.000043 -0.000010 -0.000010 -0.000010 -9.536743e-07   \n",
       "2  0.000072  0.000010  0.000008  0.000019  1.046326e-06   \n",
       "3  0.000153  0.000021  0.000015  0.000046 -9.536743e-07   \n",
       "4 -0.000043 -0.000010 -0.000010 -0.000010 -9.536743e-07   \n",
       "\n",
       "                   target  \n",
       "0  Streptococcus_pyogenes  \n",
       "1     Salmonella_enterica  \n",
       "2     Salmonella_enterica  \n",
       "3     Salmonella_enterica  \n",
       "4      Enterococcus_hirae  \n",
       "\n",
       "[5 rows x 288 columns]"
      ]
     },
     "execution_count": 5,
     "metadata": {},
     "output_type": "execute_result"
    }
   ],
   "source": [
    "df.head()"
   ]
  },
  {
   "cell_type": "code",
   "execution_count": 6,
   "id": "fad3b4f6",
   "metadata": {
    "execution": {
     "iopub.execute_input": "2022-03-08T15:11:45.213173Z",
     "iopub.status.busy": "2022-03-08T15:11:45.212539Z",
     "iopub.status.idle": "2022-03-08T15:11:45.219320Z",
     "shell.execute_reply": "2022-03-08T15:11:45.218854Z",
     "shell.execute_reply.started": "2022-03-08T14:48:11.878262Z"
    },
    "papermill": {
     "duration": 0.069771,
     "end_time": "2022-03-08T15:11:45.219450",
     "exception": false,
     "start_time": "2022-03-08T15:11:45.149679",
     "status": "completed"
    },
    "tags": []
   },
   "outputs": [
    {
     "data": {
      "text/plain": [
       "row_id         int64\n",
       "A0T0G0C10    float64\n",
       "A0T0G1C9     float64\n",
       "A0T0G2C8     float64\n",
       "A0T0G3C7     float64\n",
       "              ...   \n",
       "A9T0G0C1     float64\n",
       "A9T0G1C0     float64\n",
       "A9T1G0C0     float64\n",
       "A10T0G0C0    float64\n",
       "target        object\n",
       "Length: 288, dtype: object"
      ]
     },
     "execution_count": 6,
     "metadata": {},
     "output_type": "execute_result"
    }
   ],
   "source": [
    "df.dtypes"
   ]
  },
  {
   "cell_type": "code",
   "execution_count": 7,
   "id": "fcb522c8",
   "metadata": {
    "execution": {
     "iopub.execute_input": "2022-03-08T15:11:45.510599Z",
     "iopub.status.busy": "2022-03-08T15:11:45.509616Z",
     "iopub.status.idle": "2022-03-08T15:11:45.516299Z",
     "shell.execute_reply": "2022-03-08T15:11:45.515767Z",
     "shell.execute_reply.started": "2022-03-08T14:48:11.886721Z"
    },
    "papermill": {
     "duration": 0.236035,
     "end_time": "2022-03-08T15:11:45.516434",
     "exception": false,
     "start_time": "2022-03-08T15:11:45.280399",
     "status": "completed"
    },
    "tags": []
   },
   "outputs": [
    {
     "data": {
      "text/plain": [
       "(200000, 287)"
      ]
     },
     "execution_count": 7,
     "metadata": {},
     "output_type": "execute_result"
    }
   ],
   "source": [
    "# We drop the row_id column because we will not use it\n",
    "df.drop(columns=[\"row_id\"], inplace=True)\n",
    "df.shape"
   ]
  },
  {
   "cell_type": "code",
   "execution_count": 8,
   "id": "3543905c",
   "metadata": {
    "execution": {
     "iopub.execute_input": "2022-03-08T15:11:45.643020Z",
     "iopub.status.busy": "2022-03-08T15:11:45.642401Z",
     "iopub.status.idle": "2022-03-08T15:11:45.783339Z",
     "shell.execute_reply": "2022-03-08T15:11:45.783794Z",
     "shell.execute_reply.started": "2022-03-08T14:48:12.062325Z"
    },
    "papermill": {
     "duration": 0.205942,
     "end_time": "2022-03-08T15:11:45.783961",
     "exception": false,
     "start_time": "2022-03-08T15:11:45.578019",
     "status": "completed"
    },
    "tags": []
   },
   "outputs": [
    {
     "data": {
      "text/plain": [
       "False"
      ]
     },
     "execution_count": 8,
     "metadata": {},
     "output_type": "execute_result"
    }
   ],
   "source": [
    "# Check the presence of null values\n",
    "df.isnull().values.any()"
   ]
  },
  {
   "cell_type": "code",
   "execution_count": 9,
   "id": "82118548",
   "metadata": {
    "execution": {
     "iopub.execute_input": "2022-03-08T15:11:45.910511Z",
     "iopub.status.busy": "2022-03-08T15:11:45.909915Z",
     "iopub.status.idle": "2022-03-08T15:11:46.077290Z",
     "shell.execute_reply": "2022-03-08T15:11:46.076692Z",
     "shell.execute_reply.started": "2022-03-08T14:48:12.199062Z"
    },
    "papermill": {
     "duration": 0.233121,
     "end_time": "2022-03-08T15:11:46.077410",
     "exception": false,
     "start_time": "2022-03-08T15:11:45.844289",
     "status": "completed"
    },
    "tags": []
   },
   "outputs": [
    {
     "data": {
      "text/plain": [
       "True"
      ]
     },
     "execution_count": 9,
     "metadata": {},
     "output_type": "execute_result"
    }
   ],
   "source": [
    "# Check that all the values in the dataframe are not equal to zero\n",
    "df.all().all()"
   ]
  },
  {
   "cell_type": "markdown",
   "id": "2b429c0d",
   "metadata": {
    "papermill": {
     "duration": 0.060682,
     "end_time": "2022-03-08T15:11:46.198132",
     "exception": false,
     "start_time": "2022-03-08T15:11:46.137450",
     "status": "completed"
    },
    "tags": []
   },
   "source": [
    "As we have seen, in the dataframe there aren't null or 0 values."
   ]
  },
  {
   "cell_type": "code",
   "execution_count": 10,
   "id": "265c796a",
   "metadata": {
    "execution": {
     "iopub.execute_input": "2022-03-08T15:11:46.494262Z",
     "iopub.status.busy": "2022-03-08T15:11:46.493634Z",
     "iopub.status.idle": "2022-03-08T15:11:48.995873Z",
     "shell.execute_reply": "2022-03-08T15:11:48.994979Z",
     "shell.execute_reply.started": "2022-03-08T14:48:12.371253Z"
    },
    "papermill": {
     "duration": 2.734497,
     "end_time": "2022-03-08T15:11:48.996063",
     "exception": false,
     "start_time": "2022-03-08T15:11:46.261566",
     "status": "completed"
    },
    "tags": []
   },
   "outputs": [
    {
     "data": {
      "text/html": [
       "<div>\n",
       "<style scoped>\n",
       "    .dataframe tbody tr th:only-of-type {\n",
       "        vertical-align: middle;\n",
       "    }\n",
       "\n",
       "    .dataframe tbody tr th {\n",
       "        vertical-align: top;\n",
       "    }\n",
       "\n",
       "    .dataframe thead th {\n",
       "        text-align: right;\n",
       "    }\n",
       "</style>\n",
       "<table border=\"1\" class=\"dataframe\">\n",
       "  <thead>\n",
       "    <tr style=\"text-align: right;\">\n",
       "      <th></th>\n",
       "      <th>A0T0G0C10</th>\n",
       "      <th>A0T0G1C9</th>\n",
       "      <th>A0T0G2C8</th>\n",
       "      <th>A0T0G3C7</th>\n",
       "      <th>A0T0G4C6</th>\n",
       "      <th>A0T0G5C5</th>\n",
       "      <th>A0T0G6C4</th>\n",
       "      <th>A0T0G7C3</th>\n",
       "      <th>A0T0G8C2</th>\n",
       "      <th>A0T0G9C1</th>\n",
       "      <th>...</th>\n",
       "      <th>A8T0G0C2</th>\n",
       "      <th>A8T0G1C1</th>\n",
       "      <th>A8T0G2C0</th>\n",
       "      <th>A8T1G0C1</th>\n",
       "      <th>A8T1G1C0</th>\n",
       "      <th>A8T2G0C0</th>\n",
       "      <th>A9T0G0C1</th>\n",
       "      <th>A9T0G1C0</th>\n",
       "      <th>A9T1G0C0</th>\n",
       "      <th>A10T0G0C0</th>\n",
       "    </tr>\n",
       "  </thead>\n",
       "  <tbody>\n",
       "    <tr>\n",
       "      <th>count</th>\n",
       "      <td>2.000000e+05</td>\n",
       "      <td>200000.000000</td>\n",
       "      <td>200000.000000</td>\n",
       "      <td>200000.000000</td>\n",
       "      <td>200000.000000</td>\n",
       "      <td>200000.000000</td>\n",
       "      <td>200000.000000</td>\n",
       "      <td>200000.000000</td>\n",
       "      <td>200000.000000</td>\n",
       "      <td>200000.000000</td>\n",
       "      <td>...</td>\n",
       "      <td>200000.000000</td>\n",
       "      <td>200000.000000</td>\n",
       "      <td>200000.000000</td>\n",
       "      <td>200000.000000</td>\n",
       "      <td>200000.000000</td>\n",
       "      <td>200000.000000</td>\n",
       "      <td>200000.000000</td>\n",
       "      <td>2.000000e+05</td>\n",
       "      <td>2.000000e+05</td>\n",
       "      <td>2.000000e+05</td>\n",
       "    </tr>\n",
       "    <tr>\n",
       "      <th>mean</th>\n",
       "      <td>6.421457e-07</td>\n",
       "      <td>-0.000003</td>\n",
       "      <td>-0.000014</td>\n",
       "      <td>-0.000010</td>\n",
       "      <td>0.000005</td>\n",
       "      <td>0.000025</td>\n",
       "      <td>0.000014</td>\n",
       "      <td>-0.000009</td>\n",
       "      <td>-0.000028</td>\n",
       "      <td>-0.000008</td>\n",
       "      <td>...</td>\n",
       "      <td>0.000135</td>\n",
       "      <td>0.000348</td>\n",
       "      <td>0.000253</td>\n",
       "      <td>0.000464</td>\n",
       "      <td>0.000581</td>\n",
       "      <td>0.000379</td>\n",
       "      <td>0.000062</td>\n",
       "      <td>8.982134e-05</td>\n",
       "      <td>1.170014e-04</td>\n",
       "      <td>2.215407e-07</td>\n",
       "    </tr>\n",
       "    <tr>\n",
       "      <th>std</th>\n",
       "      <td>8.654927e-05</td>\n",
       "      <td>0.000132</td>\n",
       "      <td>0.000287</td>\n",
       "      <td>0.000436</td>\n",
       "      <td>0.000683</td>\n",
       "      <td>0.000869</td>\n",
       "      <td>0.000775</td>\n",
       "      <td>0.000441</td>\n",
       "      <td>0.000107</td>\n",
       "      <td>0.000083</td>\n",
       "      <td>...</td>\n",
       "      <td>0.000711</td>\n",
       "      <td>0.001117</td>\n",
       "      <td>0.000914</td>\n",
       "      <td>0.001238</td>\n",
       "      <td>0.001528</td>\n",
       "      <td>0.001182</td>\n",
       "      <td>0.000466</td>\n",
       "      <td>5.475606e-04</td>\n",
       "      <td>6.788277e-04</td>\n",
       "      <td>2.050081e-05</td>\n",
       "    </tr>\n",
       "    <tr>\n",
       "      <th>min</th>\n",
       "      <td>-9.536743e-07</td>\n",
       "      <td>-0.000010</td>\n",
       "      <td>-0.000043</td>\n",
       "      <td>-0.000114</td>\n",
       "      <td>-0.000200</td>\n",
       "      <td>-0.000240</td>\n",
       "      <td>-0.000200</td>\n",
       "      <td>-0.000114</td>\n",
       "      <td>-0.000043</td>\n",
       "      <td>-0.000010</td>\n",
       "      <td>...</td>\n",
       "      <td>-0.000043</td>\n",
       "      <td>-0.000086</td>\n",
       "      <td>-0.000043</td>\n",
       "      <td>-0.000086</td>\n",
       "      <td>-0.000086</td>\n",
       "      <td>-0.000043</td>\n",
       "      <td>-0.000010</td>\n",
       "      <td>-9.536743e-06</td>\n",
       "      <td>-9.536743e-06</td>\n",
       "      <td>-9.536743e-07</td>\n",
       "    </tr>\n",
       "    <tr>\n",
       "      <th>25%</th>\n",
       "      <td>-9.536743e-07</td>\n",
       "      <td>-0.000010</td>\n",
       "      <td>-0.000043</td>\n",
       "      <td>-0.000114</td>\n",
       "      <td>-0.000200</td>\n",
       "      <td>-0.000240</td>\n",
       "      <td>-0.000200</td>\n",
       "      <td>-0.000114</td>\n",
       "      <td>-0.000043</td>\n",
       "      <td>-0.000010</td>\n",
       "      <td>...</td>\n",
       "      <td>-0.000043</td>\n",
       "      <td>-0.000086</td>\n",
       "      <td>-0.000043</td>\n",
       "      <td>-0.000086</td>\n",
       "      <td>-0.000086</td>\n",
       "      <td>-0.000043</td>\n",
       "      <td>-0.000010</td>\n",
       "      <td>-9.536743e-06</td>\n",
       "      <td>-9.536743e-06</td>\n",
       "      <td>-9.536743e-07</td>\n",
       "    </tr>\n",
       "    <tr>\n",
       "      <th>50%</th>\n",
       "      <td>-9.536743e-07</td>\n",
       "      <td>-0.000010</td>\n",
       "      <td>-0.000043</td>\n",
       "      <td>-0.000114</td>\n",
       "      <td>-0.000200</td>\n",
       "      <td>-0.000237</td>\n",
       "      <td>-0.000199</td>\n",
       "      <td>-0.000114</td>\n",
       "      <td>-0.000043</td>\n",
       "      <td>-0.000010</td>\n",
       "      <td>...</td>\n",
       "      <td>0.000014</td>\n",
       "      <td>0.000064</td>\n",
       "      <td>0.000047</td>\n",
       "      <td>0.000124</td>\n",
       "      <td>0.000114</td>\n",
       "      <td>0.000043</td>\n",
       "      <td>-0.000010</td>\n",
       "      <td>4.632568e-07</td>\n",
       "      <td>4.632568e-07</td>\n",
       "      <td>-9.536743e-07</td>\n",
       "    </tr>\n",
       "    <tr>\n",
       "      <th>75%</th>\n",
       "      <td>-9.536743e-07</td>\n",
       "      <td>-0.000003</td>\n",
       "      <td>-0.000013</td>\n",
       "      <td>-0.000004</td>\n",
       "      <td>-0.000011</td>\n",
       "      <td>0.000003</td>\n",
       "      <td>-0.000030</td>\n",
       "      <td>0.000004</td>\n",
       "      <td>-0.000028</td>\n",
       "      <td>-0.000010</td>\n",
       "      <td>...</td>\n",
       "      <td>0.000111</td>\n",
       "      <td>0.000463</td>\n",
       "      <td>0.000297</td>\n",
       "      <td>0.000684</td>\n",
       "      <td>0.000774</td>\n",
       "      <td>0.000365</td>\n",
       "      <td>0.000030</td>\n",
       "      <td>6.046326e-05</td>\n",
       "      <td>6.946326e-05</td>\n",
       "      <td>-9.536743e-07</td>\n",
       "    </tr>\n",
       "    <tr>\n",
       "      <th>max</th>\n",
       "      <td>9.999046e-03</td>\n",
       "      <td>0.009990</td>\n",
       "      <td>0.009957</td>\n",
       "      <td>0.009886</td>\n",
       "      <td>0.019800</td>\n",
       "      <td>0.019760</td>\n",
       "      <td>0.019800</td>\n",
       "      <td>0.009886</td>\n",
       "      <td>0.009957</td>\n",
       "      <td>0.009990</td>\n",
       "      <td>...</td>\n",
       "      <td>0.019957</td>\n",
       "      <td>0.019914</td>\n",
       "      <td>0.019957</td>\n",
       "      <td>0.019914</td>\n",
       "      <td>0.019914</td>\n",
       "      <td>0.019957</td>\n",
       "      <td>0.009990</td>\n",
       "      <td>9.990463e-03</td>\n",
       "      <td>1.999046e-02</td>\n",
       "      <td>9.990463e-04</td>\n",
       "    </tr>\n",
       "  </tbody>\n",
       "</table>\n",
       "<p>8 rows × 286 columns</p>\n",
       "</div>"
      ],
      "text/plain": [
       "          A0T0G0C10       A0T0G1C9       A0T0G2C8       A0T0G3C7  \\\n",
       "count  2.000000e+05  200000.000000  200000.000000  200000.000000   \n",
       "mean   6.421457e-07      -0.000003      -0.000014      -0.000010   \n",
       "std    8.654927e-05       0.000132       0.000287       0.000436   \n",
       "min   -9.536743e-07      -0.000010      -0.000043      -0.000114   \n",
       "25%   -9.536743e-07      -0.000010      -0.000043      -0.000114   \n",
       "50%   -9.536743e-07      -0.000010      -0.000043      -0.000114   \n",
       "75%   -9.536743e-07      -0.000003      -0.000013      -0.000004   \n",
       "max    9.999046e-03       0.009990       0.009957       0.009886   \n",
       "\n",
       "            A0T0G4C6       A0T0G5C5       A0T0G6C4       A0T0G7C3  \\\n",
       "count  200000.000000  200000.000000  200000.000000  200000.000000   \n",
       "mean        0.000005       0.000025       0.000014      -0.000009   \n",
       "std         0.000683       0.000869       0.000775       0.000441   \n",
       "min        -0.000200      -0.000240      -0.000200      -0.000114   \n",
       "25%        -0.000200      -0.000240      -0.000200      -0.000114   \n",
       "50%        -0.000200      -0.000237      -0.000199      -0.000114   \n",
       "75%        -0.000011       0.000003      -0.000030       0.000004   \n",
       "max         0.019800       0.019760       0.019800       0.009886   \n",
       "\n",
       "            A0T0G8C2       A0T0G9C1  ...       A8T0G0C2       A8T0G1C1  \\\n",
       "count  200000.000000  200000.000000  ...  200000.000000  200000.000000   \n",
       "mean       -0.000028      -0.000008  ...       0.000135       0.000348   \n",
       "std         0.000107       0.000083  ...       0.000711       0.001117   \n",
       "min        -0.000043      -0.000010  ...      -0.000043      -0.000086   \n",
       "25%        -0.000043      -0.000010  ...      -0.000043      -0.000086   \n",
       "50%        -0.000043      -0.000010  ...       0.000014       0.000064   \n",
       "75%        -0.000028      -0.000010  ...       0.000111       0.000463   \n",
       "max         0.009957       0.009990  ...       0.019957       0.019914   \n",
       "\n",
       "            A8T0G2C0       A8T1G0C1       A8T1G1C0       A8T2G0C0  \\\n",
       "count  200000.000000  200000.000000  200000.000000  200000.000000   \n",
       "mean        0.000253       0.000464       0.000581       0.000379   \n",
       "std         0.000914       0.001238       0.001528       0.001182   \n",
       "min        -0.000043      -0.000086      -0.000086      -0.000043   \n",
       "25%        -0.000043      -0.000086      -0.000086      -0.000043   \n",
       "50%         0.000047       0.000124       0.000114       0.000043   \n",
       "75%         0.000297       0.000684       0.000774       0.000365   \n",
       "max         0.019957       0.019914       0.019914       0.019957   \n",
       "\n",
       "            A9T0G0C1      A9T0G1C0      A9T1G0C0     A10T0G0C0  \n",
       "count  200000.000000  2.000000e+05  2.000000e+05  2.000000e+05  \n",
       "mean        0.000062  8.982134e-05  1.170014e-04  2.215407e-07  \n",
       "std         0.000466  5.475606e-04  6.788277e-04  2.050081e-05  \n",
       "min        -0.000010 -9.536743e-06 -9.536743e-06 -9.536743e-07  \n",
       "25%        -0.000010 -9.536743e-06 -9.536743e-06 -9.536743e-07  \n",
       "50%        -0.000010  4.632568e-07  4.632568e-07 -9.536743e-07  \n",
       "75%         0.000030  6.046326e-05  6.946326e-05 -9.536743e-07  \n",
       "max         0.009990  9.990463e-03  1.999046e-02  9.990463e-04  \n",
       "\n",
       "[8 rows x 286 columns]"
      ]
     },
     "execution_count": 10,
     "metadata": {},
     "output_type": "execute_result"
    }
   ],
   "source": [
    "df.describe()"
   ]
  },
  {
   "cell_type": "code",
   "execution_count": 11,
   "id": "3a90cbde",
   "metadata": {
    "execution": {
     "iopub.execute_input": "2022-03-08T15:11:49.162122Z",
     "iopub.status.busy": "2022-03-08T15:11:49.161510Z",
     "iopub.status.idle": "2022-03-08T15:11:49.481623Z",
     "shell.execute_reply": "2022-03-08T15:11:49.480863Z",
     "shell.execute_reply.started": "2022-03-08T14:48:15.279079Z"
    },
    "papermill": {
     "duration": 0.405329,
     "end_time": "2022-03-08T15:11:49.481814",
     "exception": false,
     "start_time": "2022-03-08T15:11:49.076485",
     "status": "completed"
    },
    "tags": []
   },
   "outputs": [
    {
     "data": {
      "image/png": "[encoded data removed]",
      "text/plain": [
       "<Figure size 432x288 with 1 Axes>"
      ]
     },
     "metadata": {
      "needs_background": "light"
     },
     "output_type": "display_data"
    }
   ],
   "source": [
    "# Plot the distribution of values for the target column\n",
    "df[\"target\"].value_counts().plot(kind=\"bar\");"
   ]
  },
  {
   "cell_type": "markdown",
   "id": "b24ed9f2",
   "metadata": {
    "papermill": {
     "duration": 0.067116,
     "end_time": "2022-03-08T15:11:49.616975",
     "exception": false,
     "start_time": "2022-03-08T15:11:49.549859",
     "status": "completed"
    },
    "tags": []
   },
   "source": [
    "As we can see, the different classes in the dataset are balanced."
   ]
  },
  {
   "cell_type": "markdown",
   "id": "cd6b6820",
   "metadata": {
    "papermill": {
     "duration": 0.063655,
     "end_time": "2022-03-08T15:11:49.745514",
     "exception": false,
     "start_time": "2022-03-08T15:11:49.681859",
     "status": "completed"
    },
    "tags": []
   },
   "source": [
    "## **Target Labels Encoding**"
   ]
  },
  {
   "cell_type": "code",
   "execution_count": 12,
   "id": "c72da642",
   "metadata": {
    "execution": {
     "iopub.execute_input": "2022-03-08T15:11:49.880264Z",
     "iopub.status.busy": "2022-03-08T15:11:49.879413Z",
     "iopub.status.idle": "2022-03-08T15:11:50.715674Z",
     "shell.execute_reply": "2022-03-08T15:11:50.715037Z",
     "shell.execute_reply.started": "2022-03-08T14:48:15.615988Z"
    },
    "papermill": {
     "duration": 0.906158,
     "end_time": "2022-03-08T15:11:50.715883",
     "exception": false,
     "start_time": "2022-03-08T15:11:49.809725",
     "status": "completed"
    },
    "tags": []
   },
   "outputs": [],
   "source": [
    "from sklearn.preprocessing import LabelEncoder"
   ]
  },
  {
   "cell_type": "code",
   "execution_count": 13,
   "id": "8f9e5608",
   "metadata": {
    "execution": {
     "iopub.execute_input": "2022-03-08T15:11:50.849549Z",
     "iopub.status.busy": "2022-03-08T15:11:50.848525Z",
     "iopub.status.idle": "2022-03-08T15:11:50.926471Z",
     "shell.execute_reply": "2022-03-08T15:11:50.927010Z",
     "shell.execute_reply.started": "2022-03-08T14:48:16.527972Z"
    },
    "papermill": {
     "duration": 0.146158,
     "end_time": "2022-03-08T15:11:50.927163",
     "exception": false,
     "start_time": "2022-03-08T15:11:50.781005",
     "status": "completed"
    },
    "tags": []
   },
   "outputs": [
    {
     "data": {
      "text/html": [
       "<div>\n",
       "<style scoped>\n",
       "    .dataframe tbody tr th:only-of-type {\n",
       "        vertical-align: middle;\n",
       "    }\n",
       "\n",
       "    .dataframe tbody tr th {\n",
       "        vertical-align: top;\n",
       "    }\n",
       "\n",
       "    .dataframe thead th {\n",
       "        text-align: right;\n",
       "    }\n",
       "</style>\n",
       "<table border=\"1\" class=\"dataframe\">\n",
       "  <thead>\n",
       "    <tr style=\"text-align: right;\">\n",
       "      <th></th>\n",
       "      <th>A0T0G0C10</th>\n",
       "      <th>A0T0G1C9</th>\n",
       "      <th>A0T0G2C8</th>\n",
       "      <th>A0T0G3C7</th>\n",
       "      <th>A0T0G4C6</th>\n",
       "      <th>A0T0G5C5</th>\n",
       "      <th>A0T0G6C4</th>\n",
       "      <th>A0T0G7C3</th>\n",
       "      <th>A0T0G8C2</th>\n",
       "      <th>A0T0G9C1</th>\n",
       "      <th>...</th>\n",
       "      <th>A8T0G1C1</th>\n",
       "      <th>A8T0G2C0</th>\n",
       "      <th>A8T1G0C1</th>\n",
       "      <th>A8T1G1C0</th>\n",
       "      <th>A8T2G0C0</th>\n",
       "      <th>A9T0G0C1</th>\n",
       "      <th>A9T0G1C0</th>\n",
       "      <th>A9T1G0C0</th>\n",
       "      <th>A10T0G0C0</th>\n",
       "      <th>target</th>\n",
       "    </tr>\n",
       "  </thead>\n",
       "  <tbody>\n",
       "    <tr>\n",
       "      <th>0</th>\n",
       "      <td>-9.536743e-07</td>\n",
       "      <td>-0.000010</td>\n",
       "      <td>-0.000043</td>\n",
       "      <td>-0.000114</td>\n",
       "      <td>-0.000200</td>\n",
       "      <td>-0.000240</td>\n",
       "      <td>-0.000200</td>\n",
       "      <td>-0.000114</td>\n",
       "      <td>-0.000043</td>\n",
       "      <td>-0.000010</td>\n",
       "      <td>...</td>\n",
       "      <td>-0.000086</td>\n",
       "      <td>-0.000043</td>\n",
       "      <td>-0.000086</td>\n",
       "      <td>-0.000086</td>\n",
       "      <td>-0.000043</td>\n",
       "      <td>-0.000010</td>\n",
       "      <td>-0.000010</td>\n",
       "      <td>-0.000010</td>\n",
       "      <td>-9.536743e-07</td>\n",
       "      <td>9</td>\n",
       "    </tr>\n",
       "    <tr>\n",
       "      <th>1</th>\n",
       "      <td>-9.536743e-07</td>\n",
       "      <td>-0.000010</td>\n",
       "      <td>-0.000043</td>\n",
       "      <td>0.000886</td>\n",
       "      <td>-0.000200</td>\n",
       "      <td>0.000760</td>\n",
       "      <td>-0.000200</td>\n",
       "      <td>-0.000114</td>\n",
       "      <td>-0.000043</td>\n",
       "      <td>-0.000010</td>\n",
       "      <td>...</td>\n",
       "      <td>-0.000086</td>\n",
       "      <td>-0.000043</td>\n",
       "      <td>0.000914</td>\n",
       "      <td>0.000914</td>\n",
       "      <td>-0.000043</td>\n",
       "      <td>-0.000010</td>\n",
       "      <td>-0.000010</td>\n",
       "      <td>-0.000010</td>\n",
       "      <td>-9.536743e-07</td>\n",
       "      <td>6</td>\n",
       "    </tr>\n",
       "    <tr>\n",
       "      <th>2</th>\n",
       "      <td>-9.536743e-07</td>\n",
       "      <td>-0.000002</td>\n",
       "      <td>0.000007</td>\n",
       "      <td>0.000129</td>\n",
       "      <td>0.000268</td>\n",
       "      <td>0.000270</td>\n",
       "      <td>0.000243</td>\n",
       "      <td>0.000125</td>\n",
       "      <td>0.000001</td>\n",
       "      <td>-0.000007</td>\n",
       "      <td>...</td>\n",
       "      <td>0.000084</td>\n",
       "      <td>0.000048</td>\n",
       "      <td>0.000081</td>\n",
       "      <td>0.000106</td>\n",
       "      <td>0.000072</td>\n",
       "      <td>0.000010</td>\n",
       "      <td>0.000008</td>\n",
       "      <td>0.000019</td>\n",
       "      <td>1.046326e-06</td>\n",
       "      <td>6</td>\n",
       "    </tr>\n",
       "    <tr>\n",
       "      <th>3</th>\n",
       "      <td>4.632568e-08</td>\n",
       "      <td>-0.000006</td>\n",
       "      <td>0.000012</td>\n",
       "      <td>0.000245</td>\n",
       "      <td>0.000492</td>\n",
       "      <td>0.000522</td>\n",
       "      <td>0.000396</td>\n",
       "      <td>0.000197</td>\n",
       "      <td>-0.000003</td>\n",
       "      <td>-0.000007</td>\n",
       "      <td>...</td>\n",
       "      <td>0.000151</td>\n",
       "      <td>0.000100</td>\n",
       "      <td>0.000180</td>\n",
       "      <td>0.000202</td>\n",
       "      <td>0.000153</td>\n",
       "      <td>0.000021</td>\n",
       "      <td>0.000015</td>\n",
       "      <td>0.000046</td>\n",
       "      <td>-9.536743e-07</td>\n",
       "      <td>6</td>\n",
       "    </tr>\n",
       "    <tr>\n",
       "      <th>4</th>\n",
       "      <td>-9.536743e-07</td>\n",
       "      <td>-0.000010</td>\n",
       "      <td>-0.000043</td>\n",
       "      <td>-0.000114</td>\n",
       "      <td>-0.000200</td>\n",
       "      <td>-0.000240</td>\n",
       "      <td>-0.000200</td>\n",
       "      <td>-0.000114</td>\n",
       "      <td>-0.000043</td>\n",
       "      <td>-0.000010</td>\n",
       "      <td>...</td>\n",
       "      <td>-0.000086</td>\n",
       "      <td>-0.000043</td>\n",
       "      <td>-0.000086</td>\n",
       "      <td>-0.000086</td>\n",
       "      <td>-0.000043</td>\n",
       "      <td>-0.000010</td>\n",
       "      <td>-0.000010</td>\n",
       "      <td>-0.000010</td>\n",
       "      <td>-9.536743e-07</td>\n",
       "      <td>2</td>\n",
       "    </tr>\n",
       "  </tbody>\n",
       "</table>\n",
       "<p>5 rows × 287 columns</p>\n",
       "</div>"
      ],
      "text/plain": [
       "      A0T0G0C10  A0T0G1C9  A0T0G2C8  A0T0G3C7  A0T0G4C6  A0T0G5C5  A0T0G6C4  \\\n",
       "0 -9.536743e-07 -0.000010 -0.000043 -0.000114 -0.000200 -0.000240 -0.000200   \n",
       "1 -9.536743e-07 -0.000010 -0.000043  0.000886 -0.000200  0.000760 -0.000200   \n",
       "2 -9.536743e-07 -0.000002  0.000007  0.000129  0.000268  0.000270  0.000243   \n",
       "3  4.632568e-08 -0.000006  0.000012  0.000245  0.000492  0.000522  0.000396   \n",
       "4 -9.536743e-07 -0.000010 -0.000043 -0.000114 -0.000200 -0.000240 -0.000200   \n",
       "\n",
       "   A0T0G7C3  A0T0G8C2  A0T0G9C1  ...  A8T0G1C1  A8T0G2C0  A8T1G0C1  A8T1G1C0  \\\n",
       "0 -0.000114 -0.000043 -0.000010  ... -0.000086 -0.000043 -0.000086 -0.000086   \n",
       "1 -0.000114 -0.000043 -0.000010  ... -0.000086 -0.000043  0.000914  0.000914   \n",
       "2  0.000125  0.000001 -0.000007  ...  0.000084  0.000048  0.000081  0.000106   \n",
       "3  0.000197 -0.000003 -0.000007  ...  0.000151  0.000100  0.000180  0.000202   \n",
       "4 -0.000114 -0.000043 -0.000010  ... -0.000086 -0.000043 -0.000086 -0.000086   \n",
       "\n",
       "   A8T2G0C0  A9T0G0C1  A9T0G1C0  A9T1G0C0     A10T0G0C0  target  \n",
       "0 -0.000043 -0.000010 -0.000010 -0.000010 -9.536743e-07       9  \n",
       "1 -0.000043 -0.000010 -0.000010 -0.000010 -9.536743e-07       6  \n",
       "2  0.000072  0.000010  0.000008  0.000019  1.046326e-06       6  \n",
       "3  0.000153  0.000021  0.000015  0.000046 -9.536743e-07       6  \n",
       "4 -0.000043 -0.000010 -0.000010 -0.000010 -9.536743e-07       2  \n",
       "\n",
       "[5 rows x 287 columns]"
      ]
     },
     "execution_count": 13,
     "metadata": {},
     "output_type": "execute_result"
    }
   ],
   "source": [
    "# Label encoding of the target.\n",
    "# We will map each of the 10 different target classess to an intger in the range 0-9\n",
    "label_encoder = LabelEncoder()\n",
    "df[\"target\"] = label_encoder.fit(df[\"target\"]).transform(df[\"target\"])\n",
    "df.head()"
   ]
  },
  {
   "cell_type": "markdown",
   "id": "c6f148b3",
   "metadata": {
    "papermill": {
     "duration": 0.065416,
     "end_time": "2022-03-08T15:11:51.056706",
     "exception": false,
     "start_time": "2022-03-08T15:11:50.991290",
     "status": "completed"
    },
    "tags": []
   },
   "source": [
    "## **Train-Test Split**"
   ]
  },
  {
   "cell_type": "code",
   "execution_count": 14,
   "id": "ed536c17",
   "metadata": {
    "execution": {
     "iopub.execute_input": "2022-03-08T15:11:51.190081Z",
     "iopub.status.busy": "2022-03-08T15:11:51.189223Z",
     "iopub.status.idle": "2022-03-08T15:11:51.238190Z",
     "shell.execute_reply": "2022-03-08T15:11:51.238752Z",
     "shell.execute_reply.started": "2022-03-08T14:48:16.615458Z"
    },
    "papermill": {
     "duration": 0.116476,
     "end_time": "2022-03-08T15:11:51.238934",
     "exception": false,
     "start_time": "2022-03-08T15:11:51.122458",
     "status": "completed"
    },
    "tags": []
   },
   "outputs": [],
   "source": [
    "# Imports\n",
    "from sklearn.model_selection import train_test_split"
   ]
  },
  {
   "cell_type": "code",
   "execution_count": 15,
   "id": "a75a20af",
   "metadata": {
    "execution": {
     "iopub.execute_input": "2022-03-08T15:11:51.374168Z",
     "iopub.status.busy": "2022-03-08T15:11:51.373119Z",
     "iopub.status.idle": "2022-03-08T15:11:52.137859Z",
     "shell.execute_reply": "2022-03-08T15:11:52.137283Z",
     "shell.execute_reply.started": "2022-03-08T14:48:16.670159Z"
    },
    "papermill": {
     "duration": 0.834147,
     "end_time": "2022-03-08T15:11:52.138004",
     "exception": false,
     "start_time": "2022-03-08T15:11:51.303857",
     "status": "completed"
    },
    "tags": []
   },
   "outputs": [],
   "source": [
    "X_train, X_test, Y_train, Y_test = train_test_split(df.drop(columns=[\"target\"]), df[\"target\"], test_size=0.33, stratify=df[\"target\"], random_state=random_seed)"
   ]
  },
  {
   "cell_type": "code",
   "execution_count": 16,
   "id": "9bb9c152",
   "metadata": {
    "execution": {
     "iopub.execute_input": "2022-03-08T15:11:52.273676Z",
     "iopub.status.busy": "2022-03-08T15:11:52.272682Z",
     "iopub.status.idle": "2022-03-08T15:11:52.279318Z",
     "shell.execute_reply": "2022-03-08T15:11:52.279837Z",
     "shell.execute_reply.started": "2022-03-08T14:48:17.468156Z"
    },
    "papermill": {
     "duration": 0.076713,
     "end_time": "2022-03-08T15:11:52.280045",
     "exception": false,
     "start_time": "2022-03-08T15:11:52.203332",
     "status": "completed"
    },
    "tags": []
   },
   "outputs": [
    {
     "name": "stdout",
     "output_type": "stream",
     "text": [
      "X_train shape: (134000, 286)\n",
      "Y_train shape: (134000,)\n",
      "X_test shape: (66000, 286)\n",
      "Y_test shape: (66000,)\n"
     ]
    }
   ],
   "source": [
    "print(f\"X_train shape: {X_train.shape}\")\n",
    "print(f\"Y_train shape: {Y_train.shape}\")\n",
    "print(f\"X_test shape: {X_test.shape}\")\n",
    "print(f\"Y_test shape: {Y_test.shape}\")"
   ]
  },
  {
   "cell_type": "code",
   "execution_count": 17,
   "id": "e0693663",
   "metadata": {
    "execution": {
     "iopub.execute_input": "2022-03-08T15:11:52.425718Z",
     "iopub.status.busy": "2022-03-08T15:11:52.425056Z",
     "iopub.status.idle": "2022-03-08T15:11:52.765340Z",
     "shell.execute_reply": "2022-03-08T15:11:52.764753Z",
     "shell.execute_reply.started": "2022-03-08T14:48:17.476980Z"
    },
    "papermill": {
     "duration": 0.412132,
     "end_time": "2022-03-08T15:11:52.765473",
     "exception": false,
     "start_time": "2022-03-08T15:11:52.353341",
     "status": "completed"
    },
    "tags": []
   },
   "outputs": [],
   "source": [
    "# Further split the training set in training and validation sets\n",
    "X_train_t, X_train_val, Y_train_t, Y_train_val = train_test_split(X_train, Y_train, test_size=0.20, stratify=Y_train, random_state=random_seed)"
   ]
  },
  {
   "cell_type": "code",
   "execution_count": 18,
   "id": "b7fedcae",
   "metadata": {
    "execution": {
     "iopub.execute_input": "2022-03-08T15:11:52.901244Z",
     "iopub.status.busy": "2022-03-08T15:11:52.900326Z",
     "iopub.status.idle": "2022-03-08T15:11:52.904853Z",
     "shell.execute_reply": "2022-03-08T15:11:52.905424Z",
     "shell.execute_reply.started": "2022-03-08T14:48:17.843583Z"
    },
    "papermill": {
     "duration": 0.075471,
     "end_time": "2022-03-08T15:11:52.905605",
     "exception": false,
     "start_time": "2022-03-08T15:11:52.830134",
     "status": "completed"
    },
    "tags": []
   },
   "outputs": [
    {
     "name": "stdout",
     "output_type": "stream",
     "text": [
      "X_train_t shape: (107200, 286)\n",
      "Y_train_t shape: (107200,)\n",
      "X_train_val shape: (26800, 286)\n",
      "Y_train_val shape: (26800,)\n"
     ]
    }
   ],
   "source": [
    "print(f\"X_train_t shape: {X_train_t.shape}\")\n",
    "print(f\"Y_train_t shape: {Y_train_t.shape}\")\n",
    "print(f\"X_train_val shape: {X_train_val.shape}\")\n",
    "print(f\"Y_train_val shape: {Y_train_val.shape}\")"
   ]
  },
  {
   "cell_type": "markdown",
   "id": "b04ab9ef",
   "metadata": {
    "papermill": {
     "duration": 0.067077,
     "end_time": "2022-03-08T15:11:53.038899",
     "exception": false,
     "start_time": "2022-03-08T15:11:52.971822",
     "status": "completed"
    },
    "tags": []
   },
   "source": [
    "## **Dimensionality Reduction** "
   ]
  },
  {
   "cell_type": "markdown",
   "id": "d68a157a",
   "metadata": {
    "papermill": {
     "duration": 0.064818,
     "end_time": "2022-03-08T15:11:53.171685",
     "exception": false,
     "start_time": "2022-03-08T15:11:53.106867",
     "status": "completed"
    },
    "tags": []
   },
   "source": [
    "### **Grid Search with Cross Validation to find the best value for n_components of PCA**"
   ]
  },
  {
   "cell_type": "code",
   "execution_count": 19,
   "id": "c017c1d8",
   "metadata": {
    "execution": {
     "iopub.execute_input": "2022-03-08T15:11:53.307322Z",
     "iopub.status.busy": "2022-03-08T15:11:53.305470Z",
     "iopub.status.idle": "2022-03-08T15:11:53.458362Z",
     "shell.execute_reply": "2022-03-08T15:11:53.457861Z",
     "shell.execute_reply.started": "2022-03-08T14:48:17.851655Z"
    },
    "papermill": {
     "duration": 0.219995,
     "end_time": "2022-03-08T15:11:53.458552",
     "exception": false,
     "start_time": "2022-03-08T15:11:53.238557",
     "status": "completed"
    },
    "tags": []
   },
   "outputs": [],
   "source": [
    "# Imports for PCA\n",
    "from sklearn.preprocessing import StandardScaler\n",
    "from sklearn.decomposition import PCA\n",
    "\n",
    "# Imports for PCA n_components tuning\n",
    "from sklearn.pipeline import Pipeline\n",
    "from sklearn.tree import DecisionTreeClassifier\n",
    "from sklearn.model_selection import GridSearchCV"
   ]
  },
  {
   "cell_type": "code",
   "execution_count": 20,
   "id": "59c853b0",
   "metadata": {
    "execution": {
     "iopub.execute_input": "2022-03-08T15:11:53.593441Z",
     "iopub.status.busy": "2022-03-08T15:11:53.592538Z",
     "iopub.status.idle": "2022-03-08T15:11:53.597266Z",
     "shell.execute_reply": "2022-03-08T15:11:53.597738Z",
     "shell.execute_reply.started": "2022-03-08T14:48:18.040533Z"
    },
    "papermill": {
     "duration": 0.073369,
     "end_time": "2022-03-08T15:11:53.597891",
     "exception": false,
     "start_time": "2022-03-08T15:11:53.524522",
     "status": "completed"
    },
    "tags": []
   },
   "outputs": [],
   "source": [
    "st_scaler = StandardScaler()\n",
    "pca = PCA()\n",
    "classifier = DecisionTreeClassifier(criterion=\"entropy\", random_state=random_seed)\n",
    "pipe = Pipeline(steps=[(\"st_scaler\", st_scaler), (\"pca\", pca), (\"classifier\", classifier)])"
   ]
  },
  {
   "cell_type": "code",
   "execution_count": 21,
   "id": "3fe20276",
   "metadata": {
    "execution": {
     "iopub.execute_input": "2022-03-08T15:11:53.732917Z",
     "iopub.status.busy": "2022-03-08T15:11:53.732305Z",
     "iopub.status.idle": "2022-03-08T15:11:53.735044Z",
     "shell.execute_reply": "2022-03-08T15:11:53.735543Z",
     "shell.execute_reply.started": "2022-03-08T14:48:18.049142Z"
    },
    "papermill": {
     "duration": 0.07337,
     "end_time": "2022-03-08T15:11:53.735697",
     "exception": false,
     "start_time": "2022-03-08T15:11:53.662327",
     "status": "completed"
    },
    "tags": []
   },
   "outputs": [],
   "source": [
    "param_grid = {\n",
    "    \"pca__n_components\": [3, 10, 20, 50]\n",
    "}"
   ]
  },
  {
   "cell_type": "code",
   "execution_count": 22,
   "id": "dd1d837e",
   "metadata": {
    "execution": {
     "iopub.execute_input": "2022-03-08T15:11:53.871959Z",
     "iopub.status.busy": "2022-03-08T15:11:53.871319Z",
     "iopub.status.idle": "2022-03-08T15:12:53.322343Z",
     "shell.execute_reply": "2022-03-08T15:12:53.321448Z",
     "shell.execute_reply.started": "2022-03-08T14:48:18.061209Z"
    },
    "papermill": {
     "duration": 59.520869,
     "end_time": "2022-03-08T15:12:53.322502",
     "exception": false,
     "start_time": "2022-03-08T15:11:53.801633",
     "status": "completed"
    },
    "tags": []
   },
   "outputs": [
    {
     "name": "stdout",
     "output_type": "stream",
     "text": [
      "Fitting 2 folds for each of 4 candidates, totalling 8 fits\n",
      "[CV] pca__n_components=3 .............................................\n"
     ]
    },
    {
     "name": "stderr",
     "output_type": "stream",
     "text": [
      "[Parallel(n_jobs=1)]: Using backend SequentialBackend with 1 concurrent workers.\n"
     ]
    },
    {
     "name": "stdout",
     "output_type": "stream",
     "text": [
      "[CV] .............................. pca__n_components=3, total=   3.5s\n",
      "[CV] pca__n_components=3 .............................................\n"
     ]
    },
    {
     "name": "stderr",
     "output_type": "stream",
     "text": [
      "[Parallel(n_jobs=1)]: Done   1 out of   1 | elapsed:    3.5s remaining:    0.0s\n"
     ]
    },
    {
     "name": "stdout",
     "output_type": "stream",
     "text": [
      "[CV] .............................. pca__n_components=3, total=   3.4s\n",
      "[CV] pca__n_components=10 ............................................\n",
      "[CV] ............................. pca__n_components=10, total=   4.7s\n",
      "[CV] pca__n_components=10 ............................................\n",
      "[CV] ............................. pca__n_components=10, total=   4.7s\n",
      "[CV] pca__n_components=20 ............................................\n",
      "[CV] ............................. pca__n_components=20, total=   6.8s\n",
      "[CV] pca__n_components=20 ............................................\n",
      "[CV] ............................. pca__n_components=20, total=   7.0s\n",
      "[CV] pca__n_components=50 ............................................\n",
      "[CV] ............................. pca__n_components=50, total=  12.1s\n",
      "[CV] pca__n_components=50 ............................................\n",
      "[CV] ............................. pca__n_components=50, total=  11.9s\n"
     ]
    },
    {
     "name": "stderr",
     "output_type": "stream",
     "text": [
      "[Parallel(n_jobs=1)]: Done   8 out of   8 | elapsed:   54.0s finished\n"
     ]
    }
   ],
   "source": [
    "grid_search = GridSearchCV(pipe, param_grid, cv=2, verbose=2)\n",
    "grid_search.fit(X_train, Y_train);"
   ]
  },
  {
   "cell_type": "code",
   "execution_count": 23,
   "id": "ec4217fd",
   "metadata": {
    "execution": {
     "iopub.execute_input": "2022-03-08T15:12:53.467782Z",
     "iopub.status.busy": "2022-03-08T15:12:53.467127Z",
     "iopub.status.idle": "2022-03-08T15:12:53.475358Z",
     "shell.execute_reply": "2022-03-08T15:12:53.474905Z",
     "shell.execute_reply.started": "2022-03-08T14:49:22.996873Z"
    },
    "papermill": {
     "duration": 0.082237,
     "end_time": "2022-03-08T15:12:53.475483",
     "exception": false,
     "start_time": "2022-03-08T15:12:53.393246",
     "status": "completed"
    },
    "tags": []
   },
   "outputs": [
    {
     "name": "stdout",
     "output_type": "stream",
     "text": [
      "Best parameters set found on train set:\n",
      "{'pca__n_components': 3}\n",
      "\n",
      "\n",
      "Grid scores on train set:\n",
      "{'pca__n_components': 3} mean: 0.920 std: +/- 0.000)\n",
      "{'pca__n_components': 10} mean: 0.920 std: +/- 0.000)\n",
      "{'pca__n_components': 20} mean: 0.917 std: +/- 0.000)\n",
      "{'pca__n_components': 50} mean: 0.912 std: +/- 0.000)\n",
      "\n",
      "\n"
     ]
    }
   ],
   "source": [
    "# Print grid search results\n",
    "def print_grid_search_results(gscv):\n",
    "    print(\"Best parameters set found on train set:\")\n",
    "    print(gscv.best_params_)\n",
    "    print(\"\\n\")\n",
    "    print(\"Grid scores on train set:\")\n",
    "    for param, mean, std in zip(gscv.cv_results_['params'], gscv.cv_results_['mean_test_score'], gscv.cv_results_['std_test_score']):\n",
    "        print(\"%r mean: %0.3f std: +/- %0.03f)\" % (param, mean, std))\n",
    "    print(\"\\n\")\n",
    "\n",
    "print_grid_search_results(grid_search)"
   ]
  },
  {
   "cell_type": "code",
   "execution_count": 24,
   "id": "a762116c",
   "metadata": {
    "execution": {
     "iopub.execute_input": "2022-03-08T15:12:53.638979Z",
     "iopub.status.busy": "2022-03-08T15:12:53.638017Z",
     "iopub.status.idle": "2022-03-08T15:12:53.773072Z",
     "shell.execute_reply": "2022-03-08T15:12:53.773506Z",
     "shell.execute_reply.started": "2022-03-08T14:49:23.005745Z"
    },
    "papermill": {
     "duration": 0.227199,
     "end_time": "2022-03-08T15:12:53.773663",
     "exception": false,
     "start_time": "2022-03-08T15:12:53.546464",
     "status": "completed"
    },
    "tags": []
   },
   "outputs": [
    {
     "data": {
      "image/png": "[encoded data removed]",
      "text/plain": [
       "<Figure size 720x360 with 1 Axes>"
      ]
     },
     "metadata": {
      "needs_background": "light"
     },
     "output_type": "display_data"
    }
   ],
   "source": [
    "plt.figure(figsize=(10,5))\n",
    "plt.plot(param_grid[\"pca__n_components\"], grid_search.cv_results_['mean_test_score'], '-o', linewidth=5, markersize=24)\n",
    "plt.xlabel('n_components')\n",
    "plt.ylabel('accuracy')\n",
    "plt.title(\"Mean score with CV varying n_components of PCA\", fontsize = 24)\n",
    "plt.show();"
   ]
  },
  {
   "cell_type": "code",
   "execution_count": 25,
   "id": "82ad218f",
   "metadata": {
    "execution": {
     "iopub.execute_input": "2022-03-08T15:12:53.918448Z",
     "iopub.status.busy": "2022-03-08T15:12:53.917790Z",
     "iopub.status.idle": "2022-03-08T15:12:53.920542Z",
     "shell.execute_reply": "2022-03-08T15:12:53.921027Z",
     "shell.execute_reply.started": "2022-03-08T14:49:23.217584Z"
    },
    "papermill": {
     "duration": 0.076082,
     "end_time": "2022-03-08T15:12:53.921186",
     "exception": false,
     "start_time": "2022-03-08T15:12:53.845104",
     "status": "completed"
    },
    "tags": []
   },
   "outputs": [],
   "source": [
    "pca_components = grid_search.best_params_[\"pca__n_components\"]"
   ]
  },
  {
   "cell_type": "markdown",
   "id": "bcbe5855",
   "metadata": {
    "papermill": {
     "duration": 0.071983,
     "end_time": "2022-03-08T15:12:54.063950",
     "exception": false,
     "start_time": "2022-03-08T15:12:53.991967",
     "status": "completed"
    },
    "tags": []
   },
   "source": [
    "### **Compute PCA with the best hyper-parameter found**"
   ]
  },
  {
   "cell_type": "code",
   "execution_count": 26,
   "id": "5d4816d2",
   "metadata": {
    "execution": {
     "iopub.execute_input": "2022-03-08T15:12:54.209470Z",
     "iopub.status.busy": "2022-03-08T15:12:54.208824Z",
     "iopub.status.idle": "2022-03-08T15:12:54.907824Z",
     "shell.execute_reply": "2022-03-08T15:12:54.908351Z",
     "shell.execute_reply.started": "2022-03-08T14:49:23.223497Z"
    },
    "papermill": {
     "duration": 0.773827,
     "end_time": "2022-03-08T15:12:54.908548",
     "exception": false,
     "start_time": "2022-03-08T15:12:54.134721",
     "status": "completed"
    },
    "tags": []
   },
   "outputs": [
    {
     "name": "stdout",
     "output_type": "stream",
     "text": [
      "Shape of X_train_t_st: (107200, 286)\n",
      "Shape of X_train_val_st: (26800, 286)\n"
     ]
    }
   ],
   "source": [
    "# Standardize the features. This process is needed before doing the PCA.\n",
    "st_scaler_t = StandardScaler()\n",
    "st_scaler_t.fit(X_train_t)\n",
    "X_train_t = st_scaler_t.transform(X_train_t)\n",
    "X_train_val = st_scaler_t.transform(X_train_val)\n",
    "\n",
    "print(f\"Shape of X_train_t_st: {X_train_t.shape}\")\n",
    "print(f\"Shape of X_train_val_st: {X_train_val.shape}\")"
   ]
  },
  {
   "cell_type": "code",
   "execution_count": 27,
   "id": "41a0a8c8",
   "metadata": {
    "execution": {
     "iopub.execute_input": "2022-03-08T15:12:55.054892Z",
     "iopub.status.busy": "2022-03-08T15:12:55.054282Z",
     "iopub.status.idle": "2022-03-08T15:12:58.285010Z",
     "shell.execute_reply": "2022-03-08T15:12:58.285782Z",
     "shell.execute_reply.started": "2022-03-08T14:49:23.934465Z"
    },
    "papermill": {
     "duration": 3.30561,
     "end_time": "2022-03-08T15:12:58.286045",
     "exception": false,
     "start_time": "2022-03-08T15:12:54.980435",
     "status": "completed"
    },
    "tags": []
   },
   "outputs": [
    {
     "name": "stdout",
     "output_type": "stream",
     "text": [
      "Shape of X_train_t_pca: (107200, 3)\n",
      "Shape of X_train_val_pca: (26800, 3)\n"
     ]
    }
   ],
   "source": [
    "# Perform PCA\n",
    "pca_t = PCA(n_components=pca_components)\n",
    "pca_t.fit(X_train_t)\n",
    "X_train_t = pca_t.transform(X_train_t)\n",
    "X_train_val = pca_t.transform(X_train_val)\n",
    "\n",
    "print(f\"Shape of X_train_t_pca: {X_train_t.shape}\")\n",
    "print(f\"Shape of X_train_val_pca: {X_train_val.shape}\")"
   ]
  },
  {
   "cell_type": "code",
   "execution_count": 28,
   "id": "3d36083f",
   "metadata": {
    "execution": {
     "iopub.execute_input": "2022-03-08T15:12:58.492561Z",
     "iopub.status.busy": "2022-03-08T15:12:58.491931Z",
     "iopub.status.idle": "2022-03-08T15:13:02.949324Z",
     "shell.execute_reply": "2022-03-08T15:13:02.948402Z",
     "shell.execute_reply.started": "2022-03-08T14:49:27.353757Z"
    },
    "papermill": {
     "duration": 4.535536,
     "end_time": "2022-03-08T15:13:02.949567",
     "exception": false,
     "start_time": "2022-03-08T15:12:58.414031",
     "status": "completed"
    },
    "tags": []
   },
   "outputs": [
    {
     "name": "stdout",
     "output_type": "stream",
     "text": [
      "Shape of X_train_pca: (134000, 3)\n"
     ]
    }
   ],
   "source": [
    "# Transform also the full training set\n",
    "\n",
    "# Standardize the features\n",
    "st_scaler = StandardScaler()\n",
    "st_scaler.fit(X_train)\n",
    "X_train = st_scaler.transform(X_train)\n",
    "\n",
    "# Perform PCA\n",
    "pca = PCA(n_components=pca_components)\n",
    "pca.fit(X_train)\n",
    "X_train = pca.transform(X_train)\n",
    "\n",
    "print(f\"Shape of X_train_pca: {X_train.shape}\")"
   ]
  },
  {
   "cell_type": "markdown",
   "id": "1ca1aeb1",
   "metadata": {
    "papermill": {
     "duration": 0.070311,
     "end_time": "2022-03-08T15:13:03.140255",
     "exception": false,
     "start_time": "2022-03-08T15:13:03.069944",
     "status": "completed"
    },
    "tags": []
   },
   "source": [
    "## **ML Models Testing**"
   ]
  },
  {
   "cell_type": "code",
   "execution_count": 29,
   "id": "b43cd7fa",
   "metadata": {
    "execution": {
     "iopub.execute_input": "2022-03-08T15:13:03.287102Z",
     "iopub.status.busy": "2022-03-08T15:13:03.286148Z",
     "iopub.status.idle": "2022-03-08T15:13:03.288986Z",
     "shell.execute_reply": "2022-03-08T15:13:03.288321Z",
     "shell.execute_reply.started": "2022-03-08T14:49:32.333132Z"
    },
    "papermill": {
     "duration": 0.077691,
     "end_time": "2022-03-08T15:13:03.289118",
     "exception": false,
     "start_time": "2022-03-08T15:13:03.211427",
     "status": "completed"
    },
    "tags": []
   },
   "outputs": [],
   "source": [
    "from sklearn.metrics import classification_report"
   ]
  },
  {
   "cell_type": "markdown",
   "id": "9fc3557b",
   "metadata": {
    "papermill": {
     "duration": 0.070106,
     "end_time": "2022-03-08T15:13:03.429707",
     "exception": false,
     "start_time": "2022-03-08T15:13:03.359601",
     "status": "completed"
    },
    "tags": []
   },
   "source": [
    "### **Decision Tree Classifier**"
   ]
  },
  {
   "cell_type": "code",
   "execution_count": 30,
   "id": "a029b2ac",
   "metadata": {
    "execution": {
     "iopub.execute_input": "2022-03-08T15:13:03.576062Z",
     "iopub.status.busy": "2022-03-08T15:13:03.575037Z",
     "iopub.status.idle": "2022-03-08T15:13:03.577436Z",
     "shell.execute_reply": "2022-03-08T15:13:03.576921Z",
     "shell.execute_reply.started": "2022-03-08T14:49:32.347498Z"
    },
    "papermill": {
     "duration": 0.077449,
     "end_time": "2022-03-08T15:13:03.577581",
     "exception": false,
     "start_time": "2022-03-08T15:13:03.500132",
     "status": "completed"
    },
    "tags": []
   },
   "outputs": [],
   "source": [
    "from sklearn.tree import DecisionTreeClassifier\n",
    "from sklearn.metrics import accuracy_score"
   ]
  },
  {
   "cell_type": "code",
   "execution_count": 31,
   "id": "ed71ef50",
   "metadata": {
    "execution": {
     "iopub.execute_input": "2022-03-08T15:13:03.724905Z",
     "iopub.status.busy": "2022-03-08T15:13:03.721666Z",
     "iopub.status.idle": "2022-03-08T15:13:08.216462Z",
     "shell.execute_reply": "2022-03-08T15:13:08.216955Z",
     "shell.execute_reply.started": "2022-03-08T14:49:32.356752Z"
    },
    "papermill": {
     "duration": 4.569273,
     "end_time": "2022-03-08T15:13:08.217127",
     "exception": false,
     "start_time": "2022-03-08T15:13:03.647854",
     "status": "completed"
    },
    "tags": []
   },
   "outputs": [],
   "source": [
    "# Hyper-parameter tuning for max_depth of the decision tree\n",
    "max_depth_list = [4,8,16,20,24,26]\n",
    "scores = []\n",
    "\n",
    "for par in max_depth_list:\n",
    "    tree = DecisionTreeClassifier(criterion=\"entropy\", random_state=random_seed, max_depth=par)\n",
    "    tree.fit(X_train_t, Y_train_t)\n",
    "    Y_predicted_val = tree.predict(X_train_val)\n",
    "    score =  accuracy_score(Y_train_val, Y_predicted_val)\n",
    "    scores.append(score)"
   ]
  },
  {
   "cell_type": "code",
   "execution_count": 32,
   "id": "cd73d8e2",
   "metadata": {
    "execution": {
     "iopub.execute_input": "2022-03-08T15:13:08.363112Z",
     "iopub.status.busy": "2022-03-08T15:13:08.362541Z",
     "iopub.status.idle": "2022-03-08T15:13:08.552353Z",
     "shell.execute_reply": "2022-03-08T15:13:08.551854Z",
     "shell.execute_reply.started": "2022-03-08T14:49:47.647140Z"
    },
    "papermill": {
     "duration": 0.264683,
     "end_time": "2022-03-08T15:13:08.552503",
     "exception": false,
     "start_time": "2022-03-08T15:13:08.287820",
     "status": "completed"
    },
    "tags": []
   },
   "outputs": [
    {
     "data": {
      "image/png": "[encoded data removed]",
      "text/plain": [
       "<Figure size 720x360 with 1 Axes>"
      ]
     },
     "metadata": {
      "needs_background": "light"
     },
     "output_type": "display_data"
    }
   ],
   "source": [
    "plt.figure(figsize=(10,5))\n",
    "plt.plot(max_depth_list, scores, '-o', linewidth=5, markersize=24)\n",
    "plt.xlabel('max_depth')\n",
    "plt.ylabel('accuracy')\n",
    "plt.title(\"Score with validation set varying max_depth of tree\", fontsize = 24)\n",
    "plt.show();"
   ]
  },
  {
   "cell_type": "code",
   "execution_count": 33,
   "id": "bed48c32",
   "metadata": {
    "execution": {
     "iopub.execute_input": "2022-03-08T15:13:08.729660Z",
     "iopub.status.busy": "2022-03-08T15:13:08.728700Z",
     "iopub.status.idle": "2022-03-08T15:13:08.732024Z",
     "shell.execute_reply": "2022-03-08T15:13:08.732627Z",
     "shell.execute_reply.started": "2022-03-08T14:49:47.853289Z"
    },
    "papermill": {
     "duration": 0.092905,
     "end_time": "2022-03-08T15:13:08.732787",
     "exception": false,
     "start_time": "2022-03-08T15:13:08.639882",
     "status": "completed"
    },
    "tags": []
   },
   "outputs": [],
   "source": [
    "# Define the final decision tree model with the best parameter found\n",
    "#best_max_depth = max_depth_list[np.argmax(scores)]\n",
    "#tree_model = DecisionTreeClassifier(criterion=\"entropy\", random_state=random_seed, max_depth=best_max_depth)\n",
    "#tree_model.fit(X_train, Y_train)"
   ]
  },
  {
   "cell_type": "code",
   "execution_count": 34,
   "id": "4e2fbafd",
   "metadata": {
    "execution": {
     "iopub.execute_input": "2022-03-08T15:13:08.888094Z",
     "iopub.status.busy": "2022-03-08T15:13:08.887092Z",
     "iopub.status.idle": "2022-03-08T15:13:09.847982Z",
     "shell.execute_reply": "2022-03-08T15:13:09.847262Z",
     "shell.execute_reply.started": "2022-03-08T14:50:25.934331Z"
    },
    "papermill": {
     "duration": 1.040227,
     "end_time": "2022-03-08T15:13:09.848128",
     "exception": false,
     "start_time": "2022-03-08T15:13:08.807901",
     "status": "completed"
    },
    "tags": []
   },
   "outputs": [
    {
     "name": "stdout",
     "output_type": "stream",
     "text": [
      "                          precision    recall  f1-score   support\n",
      "\n",
      "    Bacteroides_fragilis       0.97      0.97      0.97      2699\n",
      "    Campylobacter_jejuni       0.97      0.97      0.97      2688\n",
      "      Enterococcus_hirae       0.94      0.94      0.94      2673\n",
      "        Escherichia_coli       0.94      0.94      0.94      2674\n",
      "  Escherichia_fergusonii       0.96      0.95      0.95      2672\n",
      "   Klebsiella_pneumoniae       0.99      0.98      0.98      2660\n",
      "     Salmonella_enterica       0.95      0.95      0.95      2684\n",
      "   Staphylococcus_aureus       0.96      0.96      0.96      2670\n",
      "Streptococcus_pneumoniae       0.94      0.95      0.95      2690\n",
      "  Streptococcus_pyogenes       0.94      0.94      0.94      2690\n",
      "\n",
      "                accuracy                           0.96     26800\n",
      "               macro avg       0.96      0.96      0.96     26800\n",
      "            weighted avg       0.96      0.96      0.96     26800\n",
      "\n"
     ]
    }
   ],
   "source": [
    "# Test the tree model with the validation set using the best parameter found\n",
    "best_max_depth = max_depth_list[np.argmax(scores)]\n",
    "tree_model = DecisionTreeClassifier(criterion=\"entropy\", random_state=random_seed, max_depth=best_max_depth)\n",
    "tree_model.fit(X_train_t, Y_train_t)\n",
    "Y_predicted = tree_model.predict(X_train_val)\n",
    "print(classification_report(Y_train_val, Y_predicted, target_names=label_encoder.classes_))"
   ]
  },
  {
   "cell_type": "markdown",
   "id": "8123d1df",
   "metadata": {
    "papermill": {
     "duration": 0.0751,
     "end_time": "2022-03-08T15:13:09.998533",
     "exception": false,
     "start_time": "2022-03-08T15:13:09.923433",
     "status": "completed"
    },
    "tags": []
   },
   "source": [
    "## **Random Forest**"
   ]
  },
  {
   "cell_type": "code",
   "execution_count": 35,
   "id": "02089242",
   "metadata": {
    "execution": {
     "iopub.execute_input": "2022-03-08T15:13:10.148741Z",
     "iopub.status.busy": "2022-03-08T15:13:10.147916Z",
     "iopub.status.idle": "2022-03-08T15:13:10.173590Z",
     "shell.execute_reply": "2022-03-08T15:13:10.174038Z",
     "shell.execute_reply.started": "2022-03-08T14:49:50.899049Z"
    },
    "papermill": {
     "duration": 0.101996,
     "end_time": "2022-03-08T15:13:10.174194",
     "exception": false,
     "start_time": "2022-03-08T15:13:10.072198",
     "status": "completed"
    },
    "tags": []
   },
   "outputs": [],
   "source": [
    "from sklearn.ensemble import RandomForestClassifier"
   ]
  },
  {
   "cell_type": "code",
   "execution_count": 36,
   "id": "b70b756d",
   "metadata": {
    "execution": {
     "iopub.execute_input": "2022-03-08T15:13:10.323493Z",
     "iopub.status.busy": "2022-03-08T15:13:10.322580Z",
     "iopub.status.idle": "2022-03-08T15:13:11.970660Z",
     "shell.execute_reply": "2022-03-08T15:13:11.971157Z",
     "shell.execute_reply.started": "2022-03-08T14:49:50.901280Z"
    },
    "papermill": {
     "duration": 1.723851,
     "end_time": "2022-03-08T15:13:11.971321",
     "exception": false,
     "start_time": "2022-03-08T15:13:10.247470",
     "status": "completed"
    },
    "tags": []
   },
   "outputs": [
    {
     "data": {
      "text/plain": [
       "RandomForestClassifier(n_estimators=10)"
      ]
     },
     "execution_count": 36,
     "metadata": {},
     "output_type": "execute_result"
    }
   ],
   "source": [
    "random_forest_model = RandomForestClassifier(n_estimators=10)\n",
    "random_forest_model.fit(X_train_t, Y_train_t)"
   ]
  },
  {
   "cell_type": "code",
   "execution_count": null,
   "id": "2008ffd5",
   "metadata": {
    "papermill": {
     "duration": 0.072767,
     "end_time": "2022-03-08T15:13:12.118583",
     "exception": false,
     "start_time": "2022-03-08T15:13:12.045816",
     "status": "completed"
    },
    "tags": []
   },
   "outputs": [],
   "source": []
  },
  {
   "cell_type": "markdown",
   "id": "9816594f",
   "metadata": {
    "papermill": {
     "duration": 0.074654,
     "end_time": "2022-03-08T15:13:12.269446",
     "exception": false,
     "start_time": "2022-03-08T15:13:12.194792",
     "status": "completed"
    },
    "tags": []
   },
   "source": [
    "### **Deep Neural Network**"
   ]
  },
  {
   "cell_type": "code",
   "execution_count": 37,
   "id": "dc117e13",
   "metadata": {
    "execution": {
     "iopub.execute_input": "2022-03-08T15:13:12.422269Z",
     "iopub.status.busy": "2022-03-08T15:13:12.421660Z",
     "iopub.status.idle": "2022-03-08T15:13:17.429716Z",
     "shell.execute_reply": "2022-03-08T15:13:17.429152Z",
     "shell.execute_reply.started": "2022-03-08T14:49:50.902801Z"
    },
    "papermill": {
     "duration": 5.086131,
     "end_time": "2022-03-08T15:13:17.429891",
     "exception": false,
     "start_time": "2022-03-08T15:13:12.343760",
     "status": "completed"
    },
    "tags": []
   },
   "outputs": [],
   "source": [
    "import tensorflow as tf\n",
    "from tensorflow import keras\n",
    "from tensorflow.keras import layers"
   ]
  },
  {
   "cell_type": "code",
   "execution_count": 38,
   "id": "e1f487cf",
   "metadata": {
    "execution": {
     "iopub.execute_input": "2022-03-08T15:13:17.582034Z",
     "iopub.status.busy": "2022-03-08T15:13:17.581083Z",
     "iopub.status.idle": "2022-03-08T15:13:17.693058Z",
     "shell.execute_reply": "2022-03-08T15:13:17.692274Z",
     "shell.execute_reply.started": "2022-03-08T14:49:50.904204Z"
    },
    "papermill": {
     "duration": 0.188229,
     "end_time": "2022-03-08T15:13:17.693235",
     "exception": false,
     "start_time": "2022-03-08T15:13:17.505006",
     "status": "completed"
    },
    "tags": []
   },
   "outputs": [
    {
     "name": "stdout",
     "output_type": "stream",
     "text": [
      "Model: \"dnn_model\"\n",
      "_________________________________________________________________\n",
      "Layer (type)                 Output Shape              Param #   \n",
      "=================================================================\n",
      "input_1 (InputLayer)         [(None, 3)]               0         \n",
      "_________________________________________________________________\n",
      "dense (Dense)                (None, 50)                200       \n",
      "_________________________________________________________________\n",
      "dense_1 (Dense)              (None, 30)                1530      \n",
      "_________________________________________________________________\n",
      "dense_2 (Dense)              (None, 20)                620       \n",
      "_________________________________________________________________\n",
      "dense_3 (Dense)              (None, 10)                210       \n",
      "=================================================================\n",
      "Total params: 2,560\n",
      "Trainable params: 2,560\n",
      "Non-trainable params: 0\n",
      "_________________________________________________________________\n"
     ]
    },
    {
     "name": "stderr",
     "output_type": "stream",
     "text": [
      "2022-03-08 15:13:17.625727: I tensorflow/core/common_runtime/process_util.cc:146] Creating new thread pool with default inter op setting: 2. Tune using inter_op_parallelism_threads for best performance.\n"
     ]
    }
   ],
   "source": [
    "# Network architecture definition\n",
    "inputs = keras.Input(shape=(pca_components,))\n",
    "x = layers.Dense(50, activation=\"relu\")(inputs)\n",
    "x = layers.Dense(30, activation=\"relu\")(x)\n",
    "x = layers.Dense(20, activation=\"relu\")(x)\n",
    "outputs = layers.Dense(10, activation=\"softmax\")(x)\n",
    "\n",
    "dnn_model = keras.Model(inputs=inputs, outputs=outputs, name=\"dnn_model\")\n",
    "dnn_model.summary()"
   ]
  },
  {
   "cell_type": "code",
   "execution_count": 39,
   "id": "66144dcc",
   "metadata": {
    "execution": {
     "iopub.execute_input": "2022-03-08T15:13:17.847534Z",
     "iopub.status.busy": "2022-03-08T15:13:17.846656Z",
     "iopub.status.idle": "2022-03-08T15:13:17.859588Z",
     "shell.execute_reply": "2022-03-08T15:13:17.860036Z",
     "shell.execute_reply.started": "2022-03-08T14:49:50.905377Z"
    },
    "papermill": {
     "duration": 0.091611,
     "end_time": "2022-03-08T15:13:17.860193",
     "exception": false,
     "start_time": "2022-03-08T15:13:17.768582",
     "status": "completed"
    },
    "tags": []
   },
   "outputs": [],
   "source": [
    "dnn_model.compile(\n",
    "    loss=keras.losses.SparseCategoricalCrossentropy(from_logits=False),\n",
    "    optimizer=keras.optimizers.Adam(),\n",
    "    metrics=[\"accuracy\"]\n",
    ")"
   ]
  },
  {
   "cell_type": "code",
   "execution_count": 40,
   "id": "16d72738",
   "metadata": {
    "execution": {
     "iopub.execute_input": "2022-03-08T15:13:18.011233Z",
     "iopub.status.busy": "2022-03-08T15:13:18.010259Z",
     "iopub.status.idle": "2022-03-08T15:13:37.540695Z",
     "shell.execute_reply": "2022-03-08T15:13:37.541174Z",
     "shell.execute_reply.started": "2022-03-08T14:49:50.906707Z"
    },
    "papermill": {
     "duration": 19.607915,
     "end_time": "2022-03-08T15:13:37.541332",
     "exception": false,
     "start_time": "2022-03-08T15:13:17.933417",
     "status": "completed"
    },
    "tags": []
   },
   "outputs": [
    {
     "name": "stderr",
     "output_type": "stream",
     "text": [
      "2022-03-08 15:13:18.072671: I tensorflow/compiler/mlir/mlir_graph_optimization_pass.cc:185] None of the MLIR Optimization Passes are enabled (registered 2)\n"
     ]
    },
    {
     "name": "stdout",
     "output_type": "stream",
     "text": [
      "Epoch 1/5\n",
      "1675/1675 [==============================] - 5s 2ms/step - loss: 1.1783 - accuracy: 0.5564 - val_loss: 0.9707 - val_accuracy: 0.6158\n",
      "Epoch 2/5\n",
      "1675/1675 [==============================] - 4s 2ms/step - loss: 0.8781 - accuracy: 0.6653 - val_loss: 0.8040 - val_accuracy: 0.7008\n",
      "Epoch 3/5\n",
      "1675/1675 [==============================] - 4s 2ms/step - loss: 0.7652 - accuracy: 0.7113 - val_loss: 0.7348 - val_accuracy: 0.7210\n",
      "Epoch 4/5\n",
      "1675/1675 [==============================] - 4s 2ms/step - loss: 0.7099 - accuracy: 0.7362 - val_loss: 0.6858 - val_accuracy: 0.7387\n",
      "Epoch 5/5\n",
      "1675/1675 [==============================] - 4s 2ms/step - loss: 0.6747 - accuracy: 0.7486 - val_loss: 0.6593 - val_accuracy: 0.7560\n"
     ]
    }
   ],
   "source": [
    "history = dnn_model.fit(X_train_t, Y_train_t, batch_size=64, epochs=5, validation_data=(X_train_val, Y_train_val))"
   ]
  },
  {
   "cell_type": "markdown",
   "id": "ba74f387",
   "metadata": {
    "papermill": {
     "duration": 0.184866,
     "end_time": "2022-03-08T15:13:37.912593",
     "exception": false,
     "start_time": "2022-03-08T15:13:37.727727",
     "status": "completed"
    },
    "tags": []
   },
   "source": [
    "## **Final Model Evaluation**"
   ]
  },
  {
   "cell_type": "code",
   "execution_count": 41,
   "id": "913af769",
   "metadata": {
    "execution": {
     "iopub.execute_input": "2022-03-08T15:13:38.285486Z",
     "iopub.status.busy": "2022-03-08T15:13:38.284936Z",
     "iopub.status.idle": "2022-03-08T15:13:38.287688Z",
     "shell.execute_reply": "2022-03-08T15:13:38.288276Z",
     "shell.execute_reply.started": "2022-03-08T14:49:50.908070Z"
    },
    "papermill": {
     "duration": 0.191856,
     "end_time": "2022-03-08T15:13:38.288427",
     "exception": false,
     "start_time": "2022-03-08T15:13:38.096571",
     "status": "completed"
    },
    "tags": []
   },
   "outputs": [],
   "source": [
    "from sklearn.metrics import classification_report"
   ]
  },
  {
   "cell_type": "code",
   "execution_count": 42,
   "id": "39debf8f",
   "metadata": {
    "execution": {
     "iopub.execute_input": "2022-03-08T15:13:38.658126Z",
     "iopub.status.busy": "2022-03-08T15:13:38.657529Z",
     "iopub.status.idle": "2022-03-08T15:13:38.660629Z",
     "shell.execute_reply": "2022-03-08T15:13:38.661098Z",
     "shell.execute_reply.started": "2022-03-08T14:49:50.909254Z"
    },
    "papermill": {
     "duration": 0.191443,
     "end_time": "2022-03-08T15:13:38.661262",
     "exception": false,
     "start_time": "2022-03-08T15:13:38.469819",
     "status": "completed"
    },
    "tags": []
   },
   "outputs": [],
   "source": [
    "final_model = tree_model\n",
    "use_neural_network = False"
   ]
  },
  {
   "cell_type": "code",
   "execution_count": 43,
   "id": "9c9bfb10",
   "metadata": {
    "execution": {
     "iopub.execute_input": "2022-03-08T15:13:39.035810Z",
     "iopub.status.busy": "2022-03-08T15:13:39.035108Z",
     "iopub.status.idle": "2022-03-08T15:13:39.240856Z",
     "shell.execute_reply": "2022-03-08T15:13:39.241360Z",
     "shell.execute_reply.started": "2022-03-08T14:49:50.910517Z"
    },
    "papermill": {
     "duration": 0.395563,
     "end_time": "2022-03-08T15:13:39.241557",
     "exception": false,
     "start_time": "2022-03-08T15:13:38.845994",
     "status": "completed"
    },
    "tags": []
   },
   "outputs": [],
   "source": [
    "# Preprocess the data\n",
    "\n",
    "# Standardize\n",
    "X_test = st_scaler.transform(X_test)\n",
    "# PCA\n",
    "X_test = pca.transform(X_test)"
   ]
  },
  {
   "cell_type": "code",
   "execution_count": 44,
   "id": "645e3ab3",
   "metadata": {
    "execution": {
     "iopub.execute_input": "2022-03-08T15:13:39.675643Z",
     "iopub.status.busy": "2022-03-08T15:13:39.674605Z",
     "iopub.status.idle": "2022-03-08T15:13:39.691418Z",
     "shell.execute_reply": "2022-03-08T15:13:39.690900Z",
     "shell.execute_reply.started": "2022-03-08T14:49:50.911749Z"
    },
    "papermill": {
     "duration": 0.212816,
     "end_time": "2022-03-08T15:13:39.691587",
     "exception": false,
     "start_time": "2022-03-08T15:13:39.478771",
     "status": "completed"
    },
    "tags": []
   },
   "outputs": [],
   "source": [
    "if use_neural_network:\n",
    "    # Predict probabilty distributions over possible labels\n",
    "    Y_test_pred_p = final_model.predict(X_test)\n",
    "    # Store the index of the most probable label\n",
    "    Y_test_pred = np.argmax(Y_test_pred_p, axis=1)\n",
    "else:\n",
    "    Y_test_pred = final_model.predict(X_test)"
   ]
  },
  {
   "cell_type": "code",
   "execution_count": 45,
   "id": "21f70f18",
   "metadata": {
    "execution": {
     "iopub.execute_input": "2022-03-08T15:13:40.076851Z",
     "iopub.status.busy": "2022-03-08T15:13:40.075949Z",
     "iopub.status.idle": "2022-03-08T15:13:40.217366Z",
     "shell.execute_reply": "2022-03-08T15:13:40.217859Z",
     "shell.execute_reply.started": "2022-03-08T14:49:50.913144Z"
    },
    "papermill": {
     "duration": 0.336224,
     "end_time": "2022-03-08T15:13:40.218044",
     "exception": false,
     "start_time": "2022-03-08T15:13:39.881820",
     "status": "completed"
    },
    "tags": []
   },
   "outputs": [
    {
     "name": "stdout",
     "output_type": "stream",
     "text": [
      "                          precision    recall  f1-score   support\n",
      "\n",
      "    Bacteroides_fragilis       0.93      0.94      0.93      6646\n",
      "    Campylobacter_jejuni       0.93      0.94      0.94      6621\n",
      "      Enterococcus_hirae       0.87      0.87      0.87      6583\n",
      "        Escherichia_coli       0.85      0.86      0.86      6586\n",
      "  Escherichia_fergusonii       0.88      0.88      0.88      6579\n",
      "   Klebsiella_pneumoniae       0.95      0.97      0.96      6549\n",
      "     Salmonella_enterica       0.90      0.89      0.89      6610\n",
      "   Staphylococcus_aureus       0.91      0.90      0.91      6577\n",
      "Streptococcus_pneumoniae       0.88      0.87      0.87      6624\n",
      "  Streptococcus_pyogenes       0.86      0.85      0.86      6625\n",
      "\n",
      "                accuracy                           0.90     66000\n",
      "               macro avg       0.90      0.90      0.90     66000\n",
      "            weighted avg       0.90      0.90      0.90     66000\n",
      "\n"
     ]
    }
   ],
   "source": [
    "print(classification_report(Y_test, Y_test_pred, target_names=label_encoder.classes_))"
   ]
  },
  {
   "cell_type": "markdown",
   "id": "724c2283",
   "metadata": {
    "papermill": {
     "duration": 0.186265,
     "end_time": "2022-03-08T15:13:40.596028",
     "exception": false,
     "start_time": "2022-03-08T15:13:40.409763",
     "status": "completed"
    },
    "tags": []
   },
   "source": [
    "## **Kaggle Submission Test**"
   ]
  },
  {
   "cell_type": "code",
   "execution_count": 46,
   "id": "c64448ca",
   "metadata": {
    "execution": {
     "iopub.execute_input": "2022-03-08T15:13:40.982319Z",
     "iopub.status.busy": "2022-03-08T15:13:40.981658Z",
     "iopub.status.idle": "2022-03-08T15:13:52.963965Z",
     "shell.execute_reply": "2022-03-08T15:13:52.964406Z",
     "shell.execute_reply.started": "2022-03-08T14:49:50.915895Z"
    },
    "papermill": {
     "duration": 12.180618,
     "end_time": "2022-03-08T15:13:52.964624",
     "exception": false,
     "start_time": "2022-03-08T15:13:40.784006",
     "status": "completed"
    },
    "tags": []
   },
   "outputs": [
    {
     "data": {
      "text/html": [
       "<div>\n",
       "<style scoped>\n",
       "    .dataframe tbody tr th:only-of-type {\n",
       "        vertical-align: middle;\n",
       "    }\n",
       "\n",
       "    .dataframe tbody tr th {\n",
       "        vertical-align: top;\n",
       "    }\n",
       "\n",
       "    .dataframe thead th {\n",
       "        text-align: right;\n",
       "    }\n",
       "</style>\n",
       "<table border=\"1\" class=\"dataframe\">\n",
       "  <thead>\n",
       "    <tr style=\"text-align: right;\">\n",
       "      <th></th>\n",
       "      <th>row_id</th>\n",
       "      <th>A0T0G0C10</th>\n",
       "      <th>A0T0G1C9</th>\n",
       "      <th>A0T0G2C8</th>\n",
       "      <th>A0T0G3C7</th>\n",
       "      <th>A0T0G4C6</th>\n",
       "      <th>A0T0G5C5</th>\n",
       "      <th>A0T0G6C4</th>\n",
       "      <th>A0T0G7C3</th>\n",
       "      <th>A0T0G8C2</th>\n",
       "      <th>...</th>\n",
       "      <th>A8T0G0C2</th>\n",
       "      <th>A8T0G1C1</th>\n",
       "      <th>A8T0G2C0</th>\n",
       "      <th>A8T1G0C1</th>\n",
       "      <th>A8T1G1C0</th>\n",
       "      <th>A8T2G0C0</th>\n",
       "      <th>A9T0G0C1</th>\n",
       "      <th>A9T0G1C0</th>\n",
       "      <th>A9T1G0C0</th>\n",
       "      <th>A10T0G0C0</th>\n",
       "    </tr>\n",
       "  </thead>\n",
       "  <tbody>\n",
       "    <tr>\n",
       "      <th>0</th>\n",
       "      <td>200000</td>\n",
       "      <td>-9.536743e-07</td>\n",
       "      <td>-0.000002</td>\n",
       "      <td>-9.153442e-07</td>\n",
       "      <td>0.000024</td>\n",
       "      <td>0.000034</td>\n",
       "      <td>-0.000002</td>\n",
       "      <td>0.000021</td>\n",
       "      <td>0.000024</td>\n",
       "      <td>-0.000009</td>\n",
       "      <td>...</td>\n",
       "      <td>0.000039</td>\n",
       "      <td>0.000085</td>\n",
       "      <td>0.000055</td>\n",
       "      <td>0.000108</td>\n",
       "      <td>0.000090</td>\n",
       "      <td>0.000059</td>\n",
       "      <td>0.000010</td>\n",
       "      <td>0.000006</td>\n",
       "      <td>0.000027</td>\n",
       "      <td>4.632568e-08</td>\n",
       "    </tr>\n",
       "    <tr>\n",
       "      <th>1</th>\n",
       "      <td>200001</td>\n",
       "      <td>-9.536743e-07</td>\n",
       "      <td>-0.000010</td>\n",
       "      <td>-4.291534e-05</td>\n",
       "      <td>-0.000114</td>\n",
       "      <td>0.001800</td>\n",
       "      <td>-0.000240</td>\n",
       "      <td>0.001800</td>\n",
       "      <td>-0.000114</td>\n",
       "      <td>0.000957</td>\n",
       "      <td>...</td>\n",
       "      <td>-0.000043</td>\n",
       "      <td>0.000914</td>\n",
       "      <td>-0.000043</td>\n",
       "      <td>-0.000086</td>\n",
       "      <td>-0.000086</td>\n",
       "      <td>-0.000043</td>\n",
       "      <td>-0.000010</td>\n",
       "      <td>-0.000010</td>\n",
       "      <td>-0.000010</td>\n",
       "      <td>-9.536743e-07</td>\n",
       "    </tr>\n",
       "    <tr>\n",
       "      <th>2</th>\n",
       "      <td>200002</td>\n",
       "      <td>4.632568e-08</td>\n",
       "      <td>0.000003</td>\n",
       "      <td>8.465576e-08</td>\n",
       "      <td>-0.000014</td>\n",
       "      <td>0.000007</td>\n",
       "      <td>-0.000005</td>\n",
       "      <td>-0.000004</td>\n",
       "      <td>0.000003</td>\n",
       "      <td>0.000004</td>\n",
       "      <td>...</td>\n",
       "      <td>0.000041</td>\n",
       "      <td>0.000102</td>\n",
       "      <td>0.000084</td>\n",
       "      <td>0.000111</td>\n",
       "      <td>0.000117</td>\n",
       "      <td>0.000070</td>\n",
       "      <td>0.000020</td>\n",
       "      <td>0.000030</td>\n",
       "      <td>0.000021</td>\n",
       "      <td>4.632568e-08</td>\n",
       "    </tr>\n",
       "    <tr>\n",
       "      <th>3</th>\n",
       "      <td>200003</td>\n",
       "      <td>-9.536743e-07</td>\n",
       "      <td>-0.000008</td>\n",
       "      <td>8.084656e-06</td>\n",
       "      <td>0.000216</td>\n",
       "      <td>0.000420</td>\n",
       "      <td>0.000514</td>\n",
       "      <td>0.000452</td>\n",
       "      <td>0.000187</td>\n",
       "      <td>-0.000005</td>\n",
       "      <td>...</td>\n",
       "      <td>0.000069</td>\n",
       "      <td>0.000158</td>\n",
       "      <td>0.000098</td>\n",
       "      <td>0.000175</td>\n",
       "      <td>0.000217</td>\n",
       "      <td>0.000150</td>\n",
       "      <td>0.000018</td>\n",
       "      <td>0.000016</td>\n",
       "      <td>0.000051</td>\n",
       "      <td>-9.536743e-07</td>\n",
       "    </tr>\n",
       "    <tr>\n",
       "      <th>4</th>\n",
       "      <td>200004</td>\n",
       "      <td>-9.536743e-07</td>\n",
       "      <td>-0.000010</td>\n",
       "      <td>-4.291534e-05</td>\n",
       "      <td>-0.000114</td>\n",
       "      <td>-0.000200</td>\n",
       "      <td>-0.000240</td>\n",
       "      <td>-0.000200</td>\n",
       "      <td>-0.000114</td>\n",
       "      <td>-0.000043</td>\n",
       "      <td>...</td>\n",
       "      <td>-0.000043</td>\n",
       "      <td>-0.000086</td>\n",
       "      <td>-0.000043</td>\n",
       "      <td>-0.000086</td>\n",
       "      <td>0.000914</td>\n",
       "      <td>-0.000043</td>\n",
       "      <td>-0.000010</td>\n",
       "      <td>-0.000010</td>\n",
       "      <td>0.000990</td>\n",
       "      <td>-9.536743e-07</td>\n",
       "    </tr>\n",
       "  </tbody>\n",
       "</table>\n",
       "<p>5 rows × 287 columns</p>\n",
       "</div>"
      ],
      "text/plain": [
       "   row_id     A0T0G0C10  A0T0G1C9      A0T0G2C8  A0T0G3C7  A0T0G4C6  A0T0G5C5  \\\n",
       "0  200000 -9.536743e-07 -0.000002 -9.153442e-07  0.000024  0.000034 -0.000002   \n",
       "1  200001 -9.536743e-07 -0.000010 -4.291534e-05 -0.000114  0.001800 -0.000240   \n",
       "2  200002  4.632568e-08  0.000003  8.465576e-08 -0.000014  0.000007 -0.000005   \n",
       "3  200003 -9.536743e-07 -0.000008  8.084656e-06  0.000216  0.000420  0.000514   \n",
       "4  200004 -9.536743e-07 -0.000010 -4.291534e-05 -0.000114 -0.000200 -0.000240   \n",
       "\n",
       "   A0T0G6C4  A0T0G7C3  A0T0G8C2  ...  A8T0G0C2  A8T0G1C1  A8T0G2C0  A8T1G0C1  \\\n",
       "0  0.000021  0.000024 -0.000009  ...  0.000039  0.000085  0.000055  0.000108   \n",
       "1  0.001800 -0.000114  0.000957  ... -0.000043  0.000914 -0.000043 -0.000086   \n",
       "2 -0.000004  0.000003  0.000004  ...  0.000041  0.000102  0.000084  0.000111   \n",
       "3  0.000452  0.000187 -0.000005  ...  0.000069  0.000158  0.000098  0.000175   \n",
       "4 -0.000200 -0.000114 -0.000043  ... -0.000043 -0.000086 -0.000043 -0.000086   \n",
       "\n",
       "   A8T1G1C0  A8T2G0C0  A9T0G0C1  A9T0G1C0  A9T1G0C0     A10T0G0C0  \n",
       "0  0.000090  0.000059  0.000010  0.000006  0.000027  4.632568e-08  \n",
       "1 -0.000086 -0.000043 -0.000010 -0.000010 -0.000010 -9.536743e-07  \n",
       "2  0.000117  0.000070  0.000020  0.000030  0.000021  4.632568e-08  \n",
       "3  0.000217  0.000150  0.000018  0.000016  0.000051 -9.536743e-07  \n",
       "4  0.000914 -0.000043 -0.000010 -0.000010  0.000990 -9.536743e-07  \n",
       "\n",
       "[5 rows x 287 columns]"
      ]
     },
     "execution_count": 46,
     "metadata": {},
     "output_type": "execute_result"
    }
   ],
   "source": [
    "# Load Kaggle's submission test set\n",
    "df_subm = pd.read_csv(\"/kaggle/input/tabular-playground-series-feb-2022/test.csv\")\n",
    "df_subm.head()"
   ]
  },
  {
   "cell_type": "code",
   "execution_count": 47,
   "id": "91721287",
   "metadata": {
    "execution": {
     "iopub.execute_input": "2022-03-08T15:13:53.349280Z",
     "iopub.status.busy": "2022-03-08T15:13:53.348564Z",
     "iopub.status.idle": "2022-03-08T15:13:53.351752Z",
     "shell.execute_reply": "2022-03-08T15:13:53.352219Z",
     "shell.execute_reply.started": "2022-03-08T14:49:50.917701Z"
    },
    "papermill": {
     "duration": 0.198614,
     "end_time": "2022-03-08T15:13:53.352396",
     "exception": false,
     "start_time": "2022-03-08T15:13:53.153782",
     "status": "completed"
    },
    "tags": []
   },
   "outputs": [
    {
     "data": {
      "text/html": [
       "<div>\n",
       "<style scoped>\n",
       "    .dataframe tbody tr th:only-of-type {\n",
       "        vertical-align: middle;\n",
       "    }\n",
       "\n",
       "    .dataframe tbody tr th {\n",
       "        vertical-align: top;\n",
       "    }\n",
       "\n",
       "    .dataframe thead th {\n",
       "        text-align: right;\n",
       "    }\n",
       "</style>\n",
       "<table border=\"1\" class=\"dataframe\">\n",
       "  <thead>\n",
       "    <tr style=\"text-align: right;\">\n",
       "      <th></th>\n",
       "      <th>row_id</th>\n",
       "    </tr>\n",
       "  </thead>\n",
       "  <tbody>\n",
       "    <tr>\n",
       "      <th>0</th>\n",
       "      <td>200000</td>\n",
       "    </tr>\n",
       "    <tr>\n",
       "      <th>1</th>\n",
       "      <td>200001</td>\n",
       "    </tr>\n",
       "    <tr>\n",
       "      <th>2</th>\n",
       "      <td>200002</td>\n",
       "    </tr>\n",
       "    <tr>\n",
       "      <th>3</th>\n",
       "      <td>200003</td>\n",
       "    </tr>\n",
       "    <tr>\n",
       "      <th>4</th>\n",
       "      <td>200004</td>\n",
       "    </tr>\n",
       "  </tbody>\n",
       "</table>\n",
       "</div>"
      ],
      "text/plain": [
       "   row_id\n",
       "0  200000\n",
       "1  200001\n",
       "2  200002\n",
       "3  200003\n",
       "4  200004"
      ]
     },
     "execution_count": 47,
     "metadata": {},
     "output_type": "execute_result"
    }
   ],
   "source": [
    "df_subm_results = pd.DataFrame(df_subm[\"row_id\"])\n",
    "df_subm_results.head()"
   ]
  },
  {
   "cell_type": "code",
   "execution_count": 48,
   "id": "a8356d5a",
   "metadata": {
    "execution": {
     "iopub.execute_input": "2022-03-08T15:13:53.802322Z",
     "iopub.status.busy": "2022-03-08T15:13:53.731931Z",
     "iopub.status.idle": "2022-03-08T15:13:53.804708Z",
     "shell.execute_reply": "2022-03-08T15:13:53.804190Z",
     "shell.execute_reply.started": "2022-03-08T14:49:50.919207Z"
    },
    "papermill": {
     "duration": 0.265957,
     "end_time": "2022-03-08T15:13:53.804848",
     "exception": false,
     "start_time": "2022-03-08T15:13:53.538891",
     "status": "completed"
    },
    "tags": []
   },
   "outputs": [],
   "source": [
    "X_subm = df_subm.drop(columns=\"row_id\")"
   ]
  },
  {
   "cell_type": "code",
   "execution_count": 49,
   "id": "6c7b2076",
   "metadata": {
    "execution": {
     "iopub.execute_input": "2022-03-08T15:13:54.193116Z",
     "iopub.status.busy": "2022-03-08T15:13:54.192369Z",
     "iopub.status.idle": "2022-03-08T15:13:54.514820Z",
     "shell.execute_reply": "2022-03-08T15:13:54.515360Z",
     "shell.execute_reply.started": "2022-03-08T14:49:50.920702Z"
    },
    "papermill": {
     "duration": 0.516864,
     "end_time": "2022-03-08T15:13:54.515566",
     "exception": false,
     "start_time": "2022-03-08T15:13:53.998702",
     "status": "completed"
    },
    "tags": []
   },
   "outputs": [
    {
     "data": {
      "text/plain": [
       "(100000, 3)"
      ]
     },
     "execution_count": 49,
     "metadata": {},
     "output_type": "execute_result"
    }
   ],
   "source": [
    "# Standardize test set\n",
    "X_subm = st_scaler.transform(X_subm)\n",
    "X_subm.shape\n",
    "\n",
    "# PCA transform on test set\n",
    "X_subm = pca.transform(X_subm)\n",
    "X_subm.shape"
   ]
  },
  {
   "cell_type": "code",
   "execution_count": 50,
   "id": "cf635537",
   "metadata": {
    "execution": {
     "iopub.execute_input": "2022-03-08T15:13:54.949483Z",
     "iopub.status.busy": "2022-03-08T15:13:54.948457Z",
     "iopub.status.idle": "2022-03-08T15:13:54.976614Z",
     "shell.execute_reply": "2022-03-08T15:13:54.976057Z",
     "shell.execute_reply.started": "2022-03-08T14:49:50.922214Z"
    },
    "papermill": {
     "duration": 0.222081,
     "end_time": "2022-03-08T15:13:54.976761",
     "exception": false,
     "start_time": "2022-03-08T15:13:54.754680",
     "status": "completed"
    },
    "tags": []
   },
   "outputs": [],
   "source": [
    "if use_neural_network:\n",
    "    # Predict probabilty distributions over possible labels\n",
    "    Y_subm_predicted_p = final_model.predict(X_subm)\n",
    "    # Store the index of the most probable label\n",
    "    Y_subm_predicted = np.argmax(Y_subm_predicted_p, axis=1)\n",
    "else:\n",
    "    Y_subm_predicted = final_model.predict(X_subm)\n",
    "\n",
    "# Convert label indexes to text\n",
    "Y_subm_predicted_labeled = label_encoder.inverse_transform(Y_subm_predicted)\n",
    "# Store the predicted targets in the dataframe\n",
    "df_subm_results[\"target\"] = Y_subm_predicted_labeled"
   ]
  },
  {
   "cell_type": "code",
   "execution_count": 51,
   "id": "0eea994f",
   "metadata": {
    "execution": {
     "iopub.execute_input": "2022-03-08T15:13:55.365404Z",
     "iopub.status.busy": "2022-03-08T15:13:55.364618Z",
     "iopub.status.idle": "2022-03-08T15:13:55.367656Z",
     "shell.execute_reply": "2022-03-08T15:13:55.368173Z",
     "shell.execute_reply.started": "2022-03-08T14:49:50.923952Z"
    },
    "papermill": {
     "duration": 0.200017,
     "end_time": "2022-03-08T15:13:55.368335",
     "exception": false,
     "start_time": "2022-03-08T15:13:55.168318",
     "status": "completed"
    },
    "tags": []
   },
   "outputs": [
    {
     "data": {
      "text/html": [
       "<div>\n",
       "<style scoped>\n",
       "    .dataframe tbody tr th:only-of-type {\n",
       "        vertical-align: middle;\n",
       "    }\n",
       "\n",
       "    .dataframe tbody tr th {\n",
       "        vertical-align: top;\n",
       "    }\n",
       "\n",
       "    .dataframe thead th {\n",
       "        text-align: right;\n",
       "    }\n",
       "</style>\n",
       "<table border=\"1\" class=\"dataframe\">\n",
       "  <thead>\n",
       "    <tr style=\"text-align: right;\">\n",
       "      <th></th>\n",
       "      <th>row_id</th>\n",
       "      <th>target</th>\n",
       "    </tr>\n",
       "  </thead>\n",
       "  <tbody>\n",
       "    <tr>\n",
       "      <th>0</th>\n",
       "      <td>200000</td>\n",
       "      <td>Escherichia_fergusonii</td>\n",
       "    </tr>\n",
       "    <tr>\n",
       "      <th>1</th>\n",
       "      <td>200001</td>\n",
       "      <td>Salmonella_enterica</td>\n",
       "    </tr>\n",
       "    <tr>\n",
       "      <th>2</th>\n",
       "      <td>200002</td>\n",
       "      <td>Enterococcus_hirae</td>\n",
       "    </tr>\n",
       "    <tr>\n",
       "      <th>3</th>\n",
       "      <td>200003</td>\n",
       "      <td>Salmonella_enterica</td>\n",
       "    </tr>\n",
       "    <tr>\n",
       "      <th>4</th>\n",
       "      <td>200004</td>\n",
       "      <td>Staphylococcus_aureus</td>\n",
       "    </tr>\n",
       "  </tbody>\n",
       "</table>\n",
       "</div>"
      ],
      "text/plain": [
       "   row_id                  target\n",
       "0  200000  Escherichia_fergusonii\n",
       "1  200001     Salmonella_enterica\n",
       "2  200002      Enterococcus_hirae\n",
       "3  200003     Salmonella_enterica\n",
       "4  200004   Staphylococcus_aureus"
      ]
     },
     "execution_count": 51,
     "metadata": {},
     "output_type": "execute_result"
    }
   ],
   "source": [
    "df_subm_results.head()"
   ]
  },
  {
   "cell_type": "code",
   "execution_count": 52,
   "id": "5daffacb",
   "metadata": {
    "execution": {
     "iopub.execute_input": "2022-03-08T15:13:55.750834Z",
     "iopub.status.busy": "2022-03-08T15:13:55.750224Z",
     "iopub.status.idle": "2022-03-08T15:13:55.992839Z",
     "shell.execute_reply": "2022-03-08T15:13:55.991974Z",
     "shell.execute_reply.started": "2022-03-08T14:49:50.925164Z"
    },
    "papermill": {
     "duration": 0.438167,
     "end_time": "2022-03-08T15:13:55.993006",
     "exception": false,
     "start_time": "2022-03-08T15:13:55.554839",
     "status": "completed"
    },
    "tags": []
   },
   "outputs": [],
   "source": [
    "df_subm_results.to_csv(\"submission.csv\", index=False)"
   ]
  },
  {
   "cell_type": "code",
   "execution_count": null,
   "id": "39b15dee",
   "metadata": {
    "papermill": {
     "duration": 0.191731,
     "end_time": "2022-03-08T15:13:56.378898",
     "exception": false,
     "start_time": "2022-03-08T15:13:56.187167",
     "status": "completed"
    },
    "tags": []
   },
   "outputs": [],
   "source": []
  },
  {
   "cell_type": "code",
   "execution_count": null,
   "id": "3cbe4c9d",
   "metadata": {
    "papermill": {
     "duration": 0.18869,
     "end_time": "2022-03-08T15:13:56.754588",
     "exception": false,
     "start_time": "2022-03-08T15:13:56.565898",
     "status": "completed"
    },
    "tags": []
   },
   "outputs": [],
   "source": []
  }
 ],
 "metadata": {
  "kernelspec": {
   "display_name": "Python 3",
   "language": "python",
   "name": "python3"
  },
  "language_info": {
   "codemirror_mode": {
    "name": "ipython",
    "version": 3
   },
   "file_extension": ".py",
   "mimetype": "text/x-python",
   "name": "python",
   "nbconvert_exporter": "python",
   "pygments_lexer": "ipython3",
   "version": "3.7.12"
  },
  "papermill": {
   "default_parameters": {},
   "duration": 170.701686,
   "end_time": "2022-03-08T15:13:59.600064",
   "environment_variables": {},
   "exception": null,
   "input_path": "__notebook__.ipynb",
   "output_path": "__notebook__.ipynb",
   "parameters": {},
   "start_time": "2022-03-08T15:11:08.898378",
   "version": "2.3.3"
  }
 },
 "nbformat": 4,
 "nbformat_minor": 5
}
