{
 "cells": [
  {
   "cell_type": "markdown",
   "id": "5df806bc",
   "metadata": {
    "_cell_guid": "b1076dfc-b9ad-4769-8c92-a6c4dae69d19",
    "_uuid": "8f2839f25d086af736a60e9eeb907d3b93b6e0e5",
    "execution": {
     "iopub.execute_input": "2022-03-02T14:33:46.222715Z",
     "iopub.status.busy": "2022-03-02T14:33:46.221872Z",
     "iopub.status.idle": "2022-03-02T14:33:46.251698Z",
     "shell.execute_reply": "2022-03-02T14:33:46.250819Z",
     "shell.execute_reply.started": "2022-03-02T14:33:46.222522Z"
    },
    "papermill": {
     "duration": 0.024307,
     "end_time": "2022-03-02T16:20:03.120014",
     "exception": false,
     "start_time": "2022-03-02T16:20:03.095707",
     "status": "completed"
    },
    "tags": []
   },
   "source": [
    "# **Bacteria Prediction**"
   ]
  },
  {
   "cell_type": "markdown",
   "id": "5fc5057c",
   "metadata": {
    "papermill": {
     "duration": 0.026741,
     "end_time": "2022-03-02T16:20:03.173033",
     "exception": false,
     "start_time": "2022-03-02T16:20:03.146292",
     "status": "completed"
    },
    "tags": []
   },
   "source": [
    "## **Project Imports**"
   ]
  },
  {
   "cell_type": "code",
   "execution_count": 1,
   "id": "3961a323",
   "metadata": {
    "execution": {
     "iopub.execute_input": "2022-03-02T16:20:03.232370Z",
     "iopub.status.busy": "2022-03-02T16:20:03.231692Z",
     "iopub.status.idle": "2022-03-02T16:20:03.234290Z",
     "shell.execute_reply": "2022-03-02T16:20:03.234802Z",
     "shell.execute_reply.started": "2022-03-02T16:14:32.627693Z"
    },
    "papermill": {
     "duration": 0.03812,
     "end_time": "2022-03-02T16:20:03.235122",
     "exception": false,
     "start_time": "2022-03-02T16:20:03.197002",
     "status": "completed"
    },
    "tags": []
   },
   "outputs": [],
   "source": [
    "# Imports\n",
    "import os\n",
    "import numpy as np\n",
    "import pandas as pd"
   ]
  },
  {
   "cell_type": "markdown",
   "id": "995b1f24",
   "metadata": {
    "papermill": {
     "duration": 0.022919,
     "end_time": "2022-03-02T16:20:03.282398",
     "exception": false,
     "start_time": "2022-03-02T16:20:03.259479",
     "status": "completed"
    },
    "tags": []
   },
   "source": [
    "## **Data Loading**"
   ]
  },
  {
   "cell_type": "code",
   "execution_count": 2,
   "id": "31203cf1",
   "metadata": {
    "execution": {
     "iopub.execute_input": "2022-03-02T16:20:03.335463Z",
     "iopub.status.busy": "2022-03-02T16:20:03.334739Z",
     "iopub.status.idle": "2022-03-02T16:20:03.338751Z",
     "shell.execute_reply": "2022-03-02T16:20:03.339403Z",
     "shell.execute_reply.started": "2022-03-02T16:14:32.633845Z"
    },
    "papermill": {
     "duration": 0.033818,
     "end_time": "2022-03-02T16:20:03.339581",
     "exception": false,
     "start_time": "2022-03-02T16:20:03.305763",
     "status": "completed"
    },
    "tags": []
   },
   "outputs": [
    {
     "name": "stdout",
     "output_type": "stream",
     "text": [
      "/kaggle/input/tabular-playground-series-feb-2022/sample_submission.csv\n",
      "/kaggle/input/tabular-playground-series-feb-2022/train.csv\n",
      "/kaggle/input/tabular-playground-series-feb-2022/test.csv\n"
     ]
    }
   ],
   "source": [
    "# Print directory structure\n",
    "for dirname, _, filenames in os.walk('/kaggle/input'):\n",
    "    for filename in filenames:\n",
    "        print(os.path.join(dirname, filename))"
   ]
  },
  {
   "cell_type": "code",
   "execution_count": 3,
   "id": "b633c80e",
   "metadata": {
    "execution": {
     "iopub.execute_input": "2022-03-02T16:20:03.392683Z",
     "iopub.status.busy": "2022-03-02T16:20:03.391978Z",
     "iopub.status.idle": "2022-03-02T16:20:30.346008Z",
     "shell.execute_reply": "2022-03-02T16:20:30.345335Z",
     "shell.execute_reply.started": "2022-03-02T16:14:32.657078Z"
    },
    "papermill": {
     "duration": 26.982275,
     "end_time": "2022-03-02T16:20:30.346160",
     "exception": false,
     "start_time": "2022-03-02T16:20:03.363885",
     "status": "completed"
    },
    "tags": []
   },
   "outputs": [],
   "source": [
    "# Load training set\n",
    "df_train = pd.read_csv(\"/kaggle/input/tabular-playground-series-feb-2022/train.csv\")"
   ]
  },
  {
   "cell_type": "markdown",
   "id": "6dbe89f3",
   "metadata": {
    "papermill": {
     "duration": 0.024167,
     "end_time": "2022-03-02T16:20:30.394463",
     "exception": false,
     "start_time": "2022-03-02T16:20:30.370296",
     "status": "completed"
    },
    "tags": []
   },
   "source": [
    "## **Exploratory Data Analysis**"
   ]
  },
  {
   "cell_type": "code",
   "execution_count": 4,
   "id": "852d9352",
   "metadata": {
    "execution": {
     "iopub.execute_input": "2022-03-02T16:20:30.454950Z",
     "iopub.status.busy": "2022-03-02T16:20:30.453597Z",
     "iopub.status.idle": "2022-03-02T16:20:30.458420Z",
     "shell.execute_reply": "2022-03-02T16:20:30.457833Z",
     "shell.execute_reply.started": "2022-03-02T16:15:00.713053Z"
    },
    "papermill": {
     "duration": 0.036513,
     "end_time": "2022-03-02T16:20:30.458559",
     "exception": false,
     "start_time": "2022-03-02T16:20:30.422046",
     "status": "completed"
    },
    "tags": []
   },
   "outputs": [
    {
     "data": {
      "text/plain": [
       "(200000, 288)"
      ]
     },
     "execution_count": 4,
     "metadata": {},
     "output_type": "execute_result"
    }
   ],
   "source": [
    "df_train.shape"
   ]
  },
  {
   "cell_type": "code",
   "execution_count": 5,
   "id": "79879fb4",
   "metadata": {
    "execution": {
     "iopub.execute_input": "2022-03-02T16:20:30.509610Z",
     "iopub.status.busy": "2022-03-02T16:20:30.509003Z",
     "iopub.status.idle": "2022-03-02T16:20:30.544131Z",
     "shell.execute_reply": "2022-03-02T16:20:30.543530Z",
     "shell.execute_reply.started": "2022-03-02T16:15:00.723971Z"
    },
    "papermill": {
     "duration": 0.061804,
     "end_time": "2022-03-02T16:20:30.544280",
     "exception": false,
     "start_time": "2022-03-02T16:20:30.482476",
     "status": "completed"
    },
    "tags": []
   },
   "outputs": [
    {
     "data": {
      "text/html": [
       "<div>\n",
       "<style scoped>\n",
       "    .dataframe tbody tr th:only-of-type {\n",
       "        vertical-align: middle;\n",
       "    }\n",
       "\n",
       "    .dataframe tbody tr th {\n",
       "        vertical-align: top;\n",
       "    }\n",
       "\n",
       "    .dataframe thead th {\n",
       "        text-align: right;\n",
       "    }\n",
       "</style>\n",
       "<table border=\"1\" class=\"dataframe\">\n",
       "  <thead>\n",
       "    <tr style=\"text-align: right;\">\n",
       "      <th></th>\n",
       "      <th>row_id</th>\n",
       "      <th>A0T0G0C10</th>\n",
       "      <th>A0T0G1C9</th>\n",
       "      <th>A0T0G2C8</th>\n",
       "      <th>A0T0G3C7</th>\n",
       "      <th>A0T0G4C6</th>\n",
       "      <th>A0T0G5C5</th>\n",
       "      <th>A0T0G6C4</th>\n",
       "      <th>A0T0G7C3</th>\n",
       "      <th>A0T0G8C2</th>\n",
       "      <th>...</th>\n",
       "      <th>A8T0G1C1</th>\n",
       "      <th>A8T0G2C0</th>\n",
       "      <th>A8T1G0C1</th>\n",
       "      <th>A8T1G1C0</th>\n",
       "      <th>A8T2G0C0</th>\n",
       "      <th>A9T0G0C1</th>\n",
       "      <th>A9T0G1C0</th>\n",
       "      <th>A9T1G0C0</th>\n",
       "      <th>A10T0G0C0</th>\n",
       "      <th>target</th>\n",
       "    </tr>\n",
       "  </thead>\n",
       "  <tbody>\n",
       "    <tr>\n",
       "      <th>0</th>\n",
       "      <td>0</td>\n",
       "      <td>-9.536743e-07</td>\n",
       "      <td>-0.000010</td>\n",
       "      <td>-0.000043</td>\n",
       "      <td>-0.000114</td>\n",
       "      <td>-0.000200</td>\n",
       "      <td>-0.000240</td>\n",
       "      <td>-0.000200</td>\n",
       "      <td>-0.000114</td>\n",
       "      <td>-0.000043</td>\n",
       "      <td>...</td>\n",
       "      <td>-0.000086</td>\n",
       "      <td>-0.000043</td>\n",
       "      <td>-0.000086</td>\n",
       "      <td>-0.000086</td>\n",
       "      <td>-0.000043</td>\n",
       "      <td>-0.000010</td>\n",
       "      <td>-0.000010</td>\n",
       "      <td>-0.000010</td>\n",
       "      <td>-9.536743e-07</td>\n",
       "      <td>Streptococcus_pyogenes</td>\n",
       "    </tr>\n",
       "    <tr>\n",
       "      <th>1</th>\n",
       "      <td>1</td>\n",
       "      <td>-9.536743e-07</td>\n",
       "      <td>-0.000010</td>\n",
       "      <td>-0.000043</td>\n",
       "      <td>0.000886</td>\n",
       "      <td>-0.000200</td>\n",
       "      <td>0.000760</td>\n",
       "      <td>-0.000200</td>\n",
       "      <td>-0.000114</td>\n",
       "      <td>-0.000043</td>\n",
       "      <td>...</td>\n",
       "      <td>-0.000086</td>\n",
       "      <td>-0.000043</td>\n",
       "      <td>0.000914</td>\n",
       "      <td>0.000914</td>\n",
       "      <td>-0.000043</td>\n",
       "      <td>-0.000010</td>\n",
       "      <td>-0.000010</td>\n",
       "      <td>-0.000010</td>\n",
       "      <td>-9.536743e-07</td>\n",
       "      <td>Salmonella_enterica</td>\n",
       "    </tr>\n",
       "    <tr>\n",
       "      <th>2</th>\n",
       "      <td>2</td>\n",
       "      <td>-9.536743e-07</td>\n",
       "      <td>-0.000002</td>\n",
       "      <td>0.000007</td>\n",
       "      <td>0.000129</td>\n",
       "      <td>0.000268</td>\n",
       "      <td>0.000270</td>\n",
       "      <td>0.000243</td>\n",
       "      <td>0.000125</td>\n",
       "      <td>0.000001</td>\n",
       "      <td>...</td>\n",
       "      <td>0.000084</td>\n",
       "      <td>0.000048</td>\n",
       "      <td>0.000081</td>\n",
       "      <td>0.000106</td>\n",
       "      <td>0.000072</td>\n",
       "      <td>0.000010</td>\n",
       "      <td>0.000008</td>\n",
       "      <td>0.000019</td>\n",
       "      <td>1.046326e-06</td>\n",
       "      <td>Salmonella_enterica</td>\n",
       "    </tr>\n",
       "    <tr>\n",
       "      <th>3</th>\n",
       "      <td>3</td>\n",
       "      <td>4.632568e-08</td>\n",
       "      <td>-0.000006</td>\n",
       "      <td>0.000012</td>\n",
       "      <td>0.000245</td>\n",
       "      <td>0.000492</td>\n",
       "      <td>0.000522</td>\n",
       "      <td>0.000396</td>\n",
       "      <td>0.000197</td>\n",
       "      <td>-0.000003</td>\n",
       "      <td>...</td>\n",
       "      <td>0.000151</td>\n",
       "      <td>0.000100</td>\n",
       "      <td>0.000180</td>\n",
       "      <td>0.000202</td>\n",
       "      <td>0.000153</td>\n",
       "      <td>0.000021</td>\n",
       "      <td>0.000015</td>\n",
       "      <td>0.000046</td>\n",
       "      <td>-9.536743e-07</td>\n",
       "      <td>Salmonella_enterica</td>\n",
       "    </tr>\n",
       "    <tr>\n",
       "      <th>4</th>\n",
       "      <td>4</td>\n",
       "      <td>-9.536743e-07</td>\n",
       "      <td>-0.000010</td>\n",
       "      <td>-0.000043</td>\n",
       "      <td>-0.000114</td>\n",
       "      <td>-0.000200</td>\n",
       "      <td>-0.000240</td>\n",
       "      <td>-0.000200</td>\n",
       "      <td>-0.000114</td>\n",
       "      <td>-0.000043</td>\n",
       "      <td>...</td>\n",
       "      <td>-0.000086</td>\n",
       "      <td>-0.000043</td>\n",
       "      <td>-0.000086</td>\n",
       "      <td>-0.000086</td>\n",
       "      <td>-0.000043</td>\n",
       "      <td>-0.000010</td>\n",
       "      <td>-0.000010</td>\n",
       "      <td>-0.000010</td>\n",
       "      <td>-9.536743e-07</td>\n",
       "      <td>Enterococcus_hirae</td>\n",
       "    </tr>\n",
       "  </tbody>\n",
       "</table>\n",
       "<p>5 rows × 288 columns</p>\n",
       "</div>"
      ],
      "text/plain": [
       "   row_id     A0T0G0C10  A0T0G1C9  A0T0G2C8  A0T0G3C7  A0T0G4C6  A0T0G5C5  \\\n",
       "0       0 -9.536743e-07 -0.000010 -0.000043 -0.000114 -0.000200 -0.000240   \n",
       "1       1 -9.536743e-07 -0.000010 -0.000043  0.000886 -0.000200  0.000760   \n",
       "2       2 -9.536743e-07 -0.000002  0.000007  0.000129  0.000268  0.000270   \n",
       "3       3  4.632568e-08 -0.000006  0.000012  0.000245  0.000492  0.000522   \n",
       "4       4 -9.536743e-07 -0.000010 -0.000043 -0.000114 -0.000200 -0.000240   \n",
       "\n",
       "   A0T0G6C4  A0T0G7C3  A0T0G8C2  ...  A8T0G1C1  A8T0G2C0  A8T1G0C1  A8T1G1C0  \\\n",
       "0 -0.000200 -0.000114 -0.000043  ... -0.000086 -0.000043 -0.000086 -0.000086   \n",
       "1 -0.000200 -0.000114 -0.000043  ... -0.000086 -0.000043  0.000914  0.000914   \n",
       "2  0.000243  0.000125  0.000001  ...  0.000084  0.000048  0.000081  0.000106   \n",
       "3  0.000396  0.000197 -0.000003  ...  0.000151  0.000100  0.000180  0.000202   \n",
       "4 -0.000200 -0.000114 -0.000043  ... -0.000086 -0.000043 -0.000086 -0.000086   \n",
       "\n",
       "   A8T2G0C0  A9T0G0C1  A9T0G1C0  A9T1G0C0     A10T0G0C0  \\\n",
       "0 -0.000043 -0.000010 -0.000010 -0.000010 -9.536743e-07   \n",
       "1 -0.000043 -0.000010 -0.000010 -0.000010 -9.536743e-07   \n",
       "2  0.000072  0.000010  0.000008  0.000019  1.046326e-06   \n",
       "3  0.000153  0.000021  0.000015  0.000046 -9.536743e-07   \n",
       "4 -0.000043 -0.000010 -0.000010 -0.000010 -9.536743e-07   \n",
       "\n",
       "                   target  \n",
       "0  Streptococcus_pyogenes  \n",
       "1     Salmonella_enterica  \n",
       "2     Salmonella_enterica  \n",
       "3     Salmonella_enterica  \n",
       "4      Enterococcus_hirae  \n",
       "\n",
       "[5 rows x 288 columns]"
      ]
     },
     "execution_count": 5,
     "metadata": {},
     "output_type": "execute_result"
    }
   ],
   "source": [
    "df_train.head()"
   ]
  },
  {
   "cell_type": "code",
   "execution_count": 6,
   "id": "f8d75411",
   "metadata": {
    "execution": {
     "iopub.execute_input": "2022-03-02T16:20:30.599055Z",
     "iopub.status.busy": "2022-03-02T16:20:30.598424Z",
     "iopub.status.idle": "2022-03-02T16:20:30.606034Z",
     "shell.execute_reply": "2022-03-02T16:20:30.605523Z",
     "shell.execute_reply.started": "2022-03-02T16:15:00.765930Z"
    },
    "papermill": {
     "duration": 0.036722,
     "end_time": "2022-03-02T16:20:30.606179",
     "exception": false,
     "start_time": "2022-03-02T16:20:30.569457",
     "status": "completed"
    },
    "tags": []
   },
   "outputs": [
    {
     "data": {
      "text/plain": [
       "row_id         int64\n",
       "A0T0G0C10    float64\n",
       "A0T0G1C9     float64\n",
       "A0T0G2C8     float64\n",
       "A0T0G3C7     float64\n",
       "              ...   \n",
       "A9T0G0C1     float64\n",
       "A9T0G1C0     float64\n",
       "A9T1G0C0     float64\n",
       "A10T0G0C0    float64\n",
       "target        object\n",
       "Length: 288, dtype: object"
      ]
     },
     "execution_count": 6,
     "metadata": {},
     "output_type": "execute_result"
    }
   ],
   "source": [
    "df_train.dtypes"
   ]
  },
  {
   "cell_type": "code",
   "execution_count": 7,
   "id": "63aa368c",
   "metadata": {
    "execution": {
     "iopub.execute_input": "2022-03-02T16:20:30.661078Z",
     "iopub.status.busy": "2022-03-02T16:20:30.660321Z",
     "iopub.status.idle": "2022-03-02T16:20:30.786298Z",
     "shell.execute_reply": "2022-03-02T16:20:30.786753Z",
     "shell.execute_reply.started": "2022-03-02T16:15:00.776226Z"
    },
    "papermill": {
     "duration": 0.155769,
     "end_time": "2022-03-02T16:20:30.786974",
     "exception": false,
     "start_time": "2022-03-02T16:20:30.631205",
     "status": "completed"
    },
    "tags": []
   },
   "outputs": [
    {
     "data": {
      "text/plain": [
       "False"
      ]
     },
     "execution_count": 7,
     "metadata": {},
     "output_type": "execute_result"
    }
   ],
   "source": [
    "# Check the presence of null values\n",
    "df_train.isnull().values.any()"
   ]
  },
  {
   "cell_type": "code",
   "execution_count": 8,
   "id": "2f841b59",
   "metadata": {
    "execution": {
     "iopub.execute_input": "2022-03-02T16:20:30.843681Z",
     "iopub.status.busy": "2022-03-02T16:20:30.843027Z",
     "iopub.status.idle": "2022-03-02T16:20:31.015969Z",
     "shell.execute_reply": "2022-03-02T16:20:31.015315Z",
     "shell.execute_reply.started": "2022-03-02T16:15:00.917288Z"
    },
    "papermill": {
     "duration": 0.202324,
     "end_time": "2022-03-02T16:20:31.016122",
     "exception": false,
     "start_time": "2022-03-02T16:20:30.813798",
     "status": "completed"
    },
    "tags": []
   },
   "outputs": [
    {
     "data": {
      "text/plain": [
       "True"
      ]
     },
     "execution_count": 8,
     "metadata": {},
     "output_type": "execute_result"
    }
   ],
   "source": [
    "# Check that all the values in the dataframe are not equal to zero\n",
    "df_train.all()[1:].all()"
   ]
  },
  {
   "cell_type": "markdown",
   "id": "5195ab05",
   "metadata": {
    "papermill": {
     "duration": 0.025711,
     "end_time": "2022-03-02T16:20:31.067383",
     "exception": false,
     "start_time": "2022-03-02T16:20:31.041672",
     "status": "completed"
    },
    "tags": []
   },
   "source": [
    "As we have seen, in the dataframe there aren't null or 0 values."
   ]
  },
  {
   "cell_type": "code",
   "execution_count": 9,
   "id": "41d85ea8",
   "metadata": {
    "execution": {
     "iopub.execute_input": "2022-03-02T16:20:31.129884Z",
     "iopub.status.busy": "2022-03-02T16:20:31.125973Z",
     "iopub.status.idle": "2022-03-02T16:20:34.167685Z",
     "shell.execute_reply": "2022-03-02T16:20:34.168202Z",
     "shell.execute_reply.started": "2022-03-02T16:15:01.098403Z"
    },
    "papermill": {
     "duration": 3.074861,
     "end_time": "2022-03-02T16:20:34.168372",
     "exception": false,
     "start_time": "2022-03-02T16:20:31.093511",
     "status": "completed"
    },
    "tags": []
   },
   "outputs": [
    {
     "data": {
      "text/html": [
       "<div>\n",
       "<style scoped>\n",
       "    .dataframe tbody tr th:only-of-type {\n",
       "        vertical-align: middle;\n",
       "    }\n",
       "\n",
       "    .dataframe tbody tr th {\n",
       "        vertical-align: top;\n",
       "    }\n",
       "\n",
       "    .dataframe thead th {\n",
       "        text-align: right;\n",
       "    }\n",
       "</style>\n",
       "<table border=\"1\" class=\"dataframe\">\n",
       "  <thead>\n",
       "    <tr style=\"text-align: right;\">\n",
       "      <th></th>\n",
       "      <th>row_id</th>\n",
       "      <th>A0T0G0C10</th>\n",
       "      <th>A0T0G1C9</th>\n",
       "      <th>A0T0G2C8</th>\n",
       "      <th>A0T0G3C7</th>\n",
       "      <th>A0T0G4C6</th>\n",
       "      <th>A0T0G5C5</th>\n",
       "      <th>A0T0G6C4</th>\n",
       "      <th>A0T0G7C3</th>\n",
       "      <th>A0T0G8C2</th>\n",
       "      <th>...</th>\n",
       "      <th>A8T0G0C2</th>\n",
       "      <th>A8T0G1C1</th>\n",
       "      <th>A8T0G2C0</th>\n",
       "      <th>A8T1G0C1</th>\n",
       "      <th>A8T1G1C0</th>\n",
       "      <th>A8T2G0C0</th>\n",
       "      <th>A9T0G0C1</th>\n",
       "      <th>A9T0G1C0</th>\n",
       "      <th>A9T1G0C0</th>\n",
       "      <th>A10T0G0C0</th>\n",
       "    </tr>\n",
       "  </thead>\n",
       "  <tbody>\n",
       "    <tr>\n",
       "      <th>count</th>\n",
       "      <td>200000.000000</td>\n",
       "      <td>2.000000e+05</td>\n",
       "      <td>200000.000000</td>\n",
       "      <td>200000.000000</td>\n",
       "      <td>200000.000000</td>\n",
       "      <td>200000.000000</td>\n",
       "      <td>200000.000000</td>\n",
       "      <td>200000.000000</td>\n",
       "      <td>200000.000000</td>\n",
       "      <td>200000.000000</td>\n",
       "      <td>...</td>\n",
       "      <td>200000.000000</td>\n",
       "      <td>200000.000000</td>\n",
       "      <td>200000.000000</td>\n",
       "      <td>200000.000000</td>\n",
       "      <td>200000.000000</td>\n",
       "      <td>200000.000000</td>\n",
       "      <td>200000.000000</td>\n",
       "      <td>2.000000e+05</td>\n",
       "      <td>2.000000e+05</td>\n",
       "      <td>2.000000e+05</td>\n",
       "    </tr>\n",
       "    <tr>\n",
       "      <th>mean</th>\n",
       "      <td>99999.500000</td>\n",
       "      <td>6.421457e-07</td>\n",
       "      <td>-0.000003</td>\n",
       "      <td>-0.000014</td>\n",
       "      <td>-0.000010</td>\n",
       "      <td>0.000005</td>\n",
       "      <td>0.000025</td>\n",
       "      <td>0.000014</td>\n",
       "      <td>-0.000009</td>\n",
       "      <td>-0.000028</td>\n",
       "      <td>...</td>\n",
       "      <td>0.000135</td>\n",
       "      <td>0.000348</td>\n",
       "      <td>0.000253</td>\n",
       "      <td>0.000464</td>\n",
       "      <td>0.000581</td>\n",
       "      <td>0.000379</td>\n",
       "      <td>0.000062</td>\n",
       "      <td>8.982134e-05</td>\n",
       "      <td>1.170014e-04</td>\n",
       "      <td>2.215407e-07</td>\n",
       "    </tr>\n",
       "    <tr>\n",
       "      <th>std</th>\n",
       "      <td>57735.171256</td>\n",
       "      <td>8.654927e-05</td>\n",
       "      <td>0.000132</td>\n",
       "      <td>0.000287</td>\n",
       "      <td>0.000436</td>\n",
       "      <td>0.000683</td>\n",
       "      <td>0.000869</td>\n",
       "      <td>0.000775</td>\n",
       "      <td>0.000441</td>\n",
       "      <td>0.000107</td>\n",
       "      <td>...</td>\n",
       "      <td>0.000711</td>\n",
       "      <td>0.001117</td>\n",
       "      <td>0.000914</td>\n",
       "      <td>0.001238</td>\n",
       "      <td>0.001528</td>\n",
       "      <td>0.001182</td>\n",
       "      <td>0.000466</td>\n",
       "      <td>5.475606e-04</td>\n",
       "      <td>6.788277e-04</td>\n",
       "      <td>2.050081e-05</td>\n",
       "    </tr>\n",
       "    <tr>\n",
       "      <th>min</th>\n",
       "      <td>0.000000</td>\n",
       "      <td>-9.536743e-07</td>\n",
       "      <td>-0.000010</td>\n",
       "      <td>-0.000043</td>\n",
       "      <td>-0.000114</td>\n",
       "      <td>-0.000200</td>\n",
       "      <td>-0.000240</td>\n",
       "      <td>-0.000200</td>\n",
       "      <td>-0.000114</td>\n",
       "      <td>-0.000043</td>\n",
       "      <td>...</td>\n",
       "      <td>-0.000043</td>\n",
       "      <td>-0.000086</td>\n",
       "      <td>-0.000043</td>\n",
       "      <td>-0.000086</td>\n",
       "      <td>-0.000086</td>\n",
       "      <td>-0.000043</td>\n",
       "      <td>-0.000010</td>\n",
       "      <td>-9.536743e-06</td>\n",
       "      <td>-9.536743e-06</td>\n",
       "      <td>-9.536743e-07</td>\n",
       "    </tr>\n",
       "    <tr>\n",
       "      <th>25%</th>\n",
       "      <td>49999.750000</td>\n",
       "      <td>-9.536743e-07</td>\n",
       "      <td>-0.000010</td>\n",
       "      <td>-0.000043</td>\n",
       "      <td>-0.000114</td>\n",
       "      <td>-0.000200</td>\n",
       "      <td>-0.000240</td>\n",
       "      <td>-0.000200</td>\n",
       "      <td>-0.000114</td>\n",
       "      <td>-0.000043</td>\n",
       "      <td>...</td>\n",
       "      <td>-0.000043</td>\n",
       "      <td>-0.000086</td>\n",
       "      <td>-0.000043</td>\n",
       "      <td>-0.000086</td>\n",
       "      <td>-0.000086</td>\n",
       "      <td>-0.000043</td>\n",
       "      <td>-0.000010</td>\n",
       "      <td>-9.536743e-06</td>\n",
       "      <td>-9.536743e-06</td>\n",
       "      <td>-9.536743e-07</td>\n",
       "    </tr>\n",
       "    <tr>\n",
       "      <th>50%</th>\n",
       "      <td>99999.500000</td>\n",
       "      <td>-9.536743e-07</td>\n",
       "      <td>-0.000010</td>\n",
       "      <td>-0.000043</td>\n",
       "      <td>-0.000114</td>\n",
       "      <td>-0.000200</td>\n",
       "      <td>-0.000237</td>\n",
       "      <td>-0.000199</td>\n",
       "      <td>-0.000114</td>\n",
       "      <td>-0.000043</td>\n",
       "      <td>...</td>\n",
       "      <td>0.000014</td>\n",
       "      <td>0.000064</td>\n",
       "      <td>0.000047</td>\n",
       "      <td>0.000124</td>\n",
       "      <td>0.000114</td>\n",
       "      <td>0.000043</td>\n",
       "      <td>-0.000010</td>\n",
       "      <td>4.632568e-07</td>\n",
       "      <td>4.632568e-07</td>\n",
       "      <td>-9.536743e-07</td>\n",
       "    </tr>\n",
       "    <tr>\n",
       "      <th>75%</th>\n",
       "      <td>149999.250000</td>\n",
       "      <td>-9.536743e-07</td>\n",
       "      <td>-0.000003</td>\n",
       "      <td>-0.000013</td>\n",
       "      <td>-0.000004</td>\n",
       "      <td>-0.000011</td>\n",
       "      <td>0.000003</td>\n",
       "      <td>-0.000030</td>\n",
       "      <td>0.000004</td>\n",
       "      <td>-0.000028</td>\n",
       "      <td>...</td>\n",
       "      <td>0.000111</td>\n",
       "      <td>0.000463</td>\n",
       "      <td>0.000297</td>\n",
       "      <td>0.000684</td>\n",
       "      <td>0.000774</td>\n",
       "      <td>0.000365</td>\n",
       "      <td>0.000030</td>\n",
       "      <td>6.046326e-05</td>\n",
       "      <td>6.946326e-05</td>\n",
       "      <td>-9.536743e-07</td>\n",
       "    </tr>\n",
       "    <tr>\n",
       "      <th>max</th>\n",
       "      <td>199999.000000</td>\n",
       "      <td>9.999046e-03</td>\n",
       "      <td>0.009990</td>\n",
       "      <td>0.009957</td>\n",
       "      <td>0.009886</td>\n",
       "      <td>0.019800</td>\n",
       "      <td>0.019760</td>\n",
       "      <td>0.019800</td>\n",
       "      <td>0.009886</td>\n",
       "      <td>0.009957</td>\n",
       "      <td>...</td>\n",
       "      <td>0.019957</td>\n",
       "      <td>0.019914</td>\n",
       "      <td>0.019957</td>\n",
       "      <td>0.019914</td>\n",
       "      <td>0.019914</td>\n",
       "      <td>0.019957</td>\n",
       "      <td>0.009990</td>\n",
       "      <td>9.990463e-03</td>\n",
       "      <td>1.999046e-02</td>\n",
       "      <td>9.990463e-04</td>\n",
       "    </tr>\n",
       "  </tbody>\n",
       "</table>\n",
       "<p>8 rows × 287 columns</p>\n",
       "</div>"
      ],
      "text/plain": [
       "              row_id     A0T0G0C10       A0T0G1C9       A0T0G2C8  \\\n",
       "count  200000.000000  2.000000e+05  200000.000000  200000.000000   \n",
       "mean    99999.500000  6.421457e-07      -0.000003      -0.000014   \n",
       "std     57735.171256  8.654927e-05       0.000132       0.000287   \n",
       "min         0.000000 -9.536743e-07      -0.000010      -0.000043   \n",
       "25%     49999.750000 -9.536743e-07      -0.000010      -0.000043   \n",
       "50%     99999.500000 -9.536743e-07      -0.000010      -0.000043   \n",
       "75%    149999.250000 -9.536743e-07      -0.000003      -0.000013   \n",
       "max    199999.000000  9.999046e-03       0.009990       0.009957   \n",
       "\n",
       "            A0T0G3C7       A0T0G4C6       A0T0G5C5       A0T0G6C4  \\\n",
       "count  200000.000000  200000.000000  200000.000000  200000.000000   \n",
       "mean       -0.000010       0.000005       0.000025       0.000014   \n",
       "std         0.000436       0.000683       0.000869       0.000775   \n",
       "min        -0.000114      -0.000200      -0.000240      -0.000200   \n",
       "25%        -0.000114      -0.000200      -0.000240      -0.000200   \n",
       "50%        -0.000114      -0.000200      -0.000237      -0.000199   \n",
       "75%        -0.000004      -0.000011       0.000003      -0.000030   \n",
       "max         0.009886       0.019800       0.019760       0.019800   \n",
       "\n",
       "            A0T0G7C3       A0T0G8C2  ...       A8T0G0C2       A8T0G1C1  \\\n",
       "count  200000.000000  200000.000000  ...  200000.000000  200000.000000   \n",
       "mean       -0.000009      -0.000028  ...       0.000135       0.000348   \n",
       "std         0.000441       0.000107  ...       0.000711       0.001117   \n",
       "min        -0.000114      -0.000043  ...      -0.000043      -0.000086   \n",
       "25%        -0.000114      -0.000043  ...      -0.000043      -0.000086   \n",
       "50%        -0.000114      -0.000043  ...       0.000014       0.000064   \n",
       "75%         0.000004      -0.000028  ...       0.000111       0.000463   \n",
       "max         0.009886       0.009957  ...       0.019957       0.019914   \n",
       "\n",
       "            A8T0G2C0       A8T1G0C1       A8T1G1C0       A8T2G0C0  \\\n",
       "count  200000.000000  200000.000000  200000.000000  200000.000000   \n",
       "mean        0.000253       0.000464       0.000581       0.000379   \n",
       "std         0.000914       0.001238       0.001528       0.001182   \n",
       "min        -0.000043      -0.000086      -0.000086      -0.000043   \n",
       "25%        -0.000043      -0.000086      -0.000086      -0.000043   \n",
       "50%         0.000047       0.000124       0.000114       0.000043   \n",
       "75%         0.000297       0.000684       0.000774       0.000365   \n",
       "max         0.019957       0.019914       0.019914       0.019957   \n",
       "\n",
       "            A9T0G0C1      A9T0G1C0      A9T1G0C0     A10T0G0C0  \n",
       "count  200000.000000  2.000000e+05  2.000000e+05  2.000000e+05  \n",
       "mean        0.000062  8.982134e-05  1.170014e-04  2.215407e-07  \n",
       "std         0.000466  5.475606e-04  6.788277e-04  2.050081e-05  \n",
       "min        -0.000010 -9.536743e-06 -9.536743e-06 -9.536743e-07  \n",
       "25%        -0.000010 -9.536743e-06 -9.536743e-06 -9.536743e-07  \n",
       "50%        -0.000010  4.632568e-07  4.632568e-07 -9.536743e-07  \n",
       "75%         0.000030  6.046326e-05  6.946326e-05 -9.536743e-07  \n",
       "max         0.009990  9.990463e-03  1.999046e-02  9.990463e-04  \n",
       "\n",
       "[8 rows x 287 columns]"
      ]
     },
     "execution_count": 9,
     "metadata": {},
     "output_type": "execute_result"
    }
   ],
   "source": [
    "df_train.describe()"
   ]
  },
  {
   "cell_type": "code",
   "execution_count": 10,
   "id": "db68ed2e",
   "metadata": {
    "execution": {
     "iopub.execute_input": "2022-03-02T16:20:34.225642Z",
     "iopub.status.busy": "2022-03-02T16:20:34.225031Z",
     "iopub.status.idle": "2022-03-02T16:20:34.561647Z",
     "shell.execute_reply": "2022-03-02T16:20:34.560981Z",
     "shell.execute_reply.started": "2022-03-02T16:15:04.128930Z"
    },
    "papermill": {
     "duration": 0.366004,
     "end_time": "2022-03-02T16:20:34.561811",
     "exception": false,
     "start_time": "2022-03-02T16:20:34.195807",
     "status": "completed"
    },
    "tags": []
   },
   "outputs": [
    {
     "data": {
      "image/png": "[encoded data removed]",
      "text/plain": [
       "<Figure size 432x288 with 1 Axes>"
      ]
     },
     "metadata": {
      "needs_background": "light"
     },
     "output_type": "display_data"
    }
   ],
   "source": [
    "# Plot the distribution of values for the target column\n",
    "df_train[\"target\"].value_counts().plot(kind=\"bar\");"
   ]
  },
  {
   "cell_type": "markdown",
   "id": "007810dc",
   "metadata": {
    "papermill": {
     "duration": 0.027601,
     "end_time": "2022-03-02T16:20:34.617771",
     "exception": false,
     "start_time": "2022-03-02T16:20:34.590170",
     "status": "completed"
    },
    "tags": []
   },
   "source": [
    "As we can see, the different classes in the training dataset are balanced."
   ]
  },
  {
   "cell_type": "markdown",
   "id": "d789486f",
   "metadata": {
    "papermill": {
     "duration": 0.027514,
     "end_time": "2022-03-02T16:20:34.672923",
     "exception": false,
     "start_time": "2022-03-02T16:20:34.645409",
     "status": "completed"
    },
    "tags": []
   },
   "source": [
    "## **Dimensionality Reduction** "
   ]
  },
  {
   "cell_type": "code",
   "execution_count": null,
   "id": "26930af9",
   "metadata": {
    "papermill": {
     "duration": 0.027431,
     "end_time": "2022-03-02T16:20:34.727962",
     "exception": false,
     "start_time": "2022-03-02T16:20:34.700531",
     "status": "completed"
    },
    "tags": []
   },
   "outputs": [],
   "source": []
  },
  {
   "cell_type": "code",
   "execution_count": null,
   "id": "c100de72",
   "metadata": {
    "papermill": {
     "duration": 0.028103,
     "end_time": "2022-03-02T16:20:34.783757",
     "exception": false,
     "start_time": "2022-03-02T16:20:34.755654",
     "status": "completed"
    },
    "tags": []
   },
   "outputs": [],
   "source": []
  },
  {
   "cell_type": "markdown",
   "id": "a7ab0164",
   "metadata": {
    "papermill": {
     "duration": 0.027383,
     "end_time": "2022-03-02T16:20:34.839620",
     "exception": false,
     "start_time": "2022-03-02T16:20:34.812237",
     "status": "completed"
    },
    "tags": []
   },
   "source": [
    "## **Dataset Preprocessing**"
   ]
  },
  {
   "cell_type": "code",
   "execution_count": null,
   "id": "e1e331cb",
   "metadata": {
    "papermill": {
     "duration": 0.027487,
     "end_time": "2022-03-02T16:20:34.895204",
     "exception": false,
     "start_time": "2022-03-02T16:20:34.867717",
     "status": "completed"
    },
    "tags": []
   },
   "outputs": [],
   "source": []
  },
  {
   "cell_type": "code",
   "execution_count": null,
   "id": "e8b6330b",
   "metadata": {
    "papermill": {
     "duration": 0.027456,
     "end_time": "2022-03-02T16:20:34.950432",
     "exception": false,
     "start_time": "2022-03-02T16:20:34.922976",
     "status": "completed"
    },
    "tags": []
   },
   "outputs": [],
   "source": []
  },
  {
   "cell_type": "markdown",
   "id": "8e552182",
   "metadata": {
    "papermill": {
     "duration": 0.027251,
     "end_time": "2022-03-02T16:20:35.005822",
     "exception": false,
     "start_time": "2022-03-02T16:20:34.978571",
     "status": "completed"
    },
    "tags": []
   },
   "source": [
    "## **ML Models Testing**"
   ]
  },
  {
   "cell_type": "code",
   "execution_count": null,
   "id": "3139f780",
   "metadata": {
    "papermill": {
     "duration": 0.027833,
     "end_time": "2022-03-02T16:20:35.061433",
     "exception": false,
     "start_time": "2022-03-02T16:20:35.033600",
     "status": "completed"
    },
    "tags": []
   },
   "outputs": [],
   "source": []
  },
  {
   "cell_type": "code",
   "execution_count": null,
   "id": "a77b299a",
   "metadata": {
    "papermill": {
     "duration": 0.027216,
     "end_time": "2022-03-02T16:20:35.116535",
     "exception": false,
     "start_time": "2022-03-02T16:20:35.089319",
     "status": "completed"
    },
    "tags": []
   },
   "outputs": [],
   "source": []
  },
  {
   "cell_type": "markdown",
   "id": "61b94026",
   "metadata": {
    "papermill": {
     "duration": 0.028041,
     "end_time": "2022-03-02T16:20:35.172367",
     "exception": false,
     "start_time": "2022-03-02T16:20:35.144326",
     "status": "completed"
    },
    "tags": []
   },
   "source": [
    "## **Final Model Evaluation**"
   ]
  },
  {
   "cell_type": "code",
   "execution_count": null,
   "id": "71b7ad2b",
   "metadata": {
    "papermill": {
     "duration": 0.028098,
     "end_time": "2022-03-02T16:20:35.228108",
     "exception": false,
     "start_time": "2022-03-02T16:20:35.200010",
     "status": "completed"
    },
    "tags": []
   },
   "outputs": [],
   "source": []
  },
  {
   "cell_type": "code",
   "execution_count": null,
   "id": "9fc32c3a",
   "metadata": {
    "papermill": {
     "duration": 0.027374,
     "end_time": "2022-03-02T16:20:35.283298",
     "exception": false,
     "start_time": "2022-03-02T16:20:35.255924",
     "status": "completed"
    },
    "tags": []
   },
   "outputs": [],
   "source": []
  }
 ],
 "metadata": {
  "kernelspec": {
   "display_name": "Python 3",
   "language": "python",
   "name": "python3"
  },
  "language_info": {
   "codemirror_mode": {
    "name": "ipython",
    "version": 3
   },
   "file_extension": ".py",
   "mimetype": "text/x-python",
   "name": "python",
   "nbconvert_exporter": "python",
   "pygments_lexer": "ipython3",
   "version": "3.7.12"
  },
  "papermill": {
   "default_parameters": {},
   "duration": 43.600932,
   "end_time": "2022-03-02T16:20:36.023394",
   "environment_variables": {},
   "exception": null,
   "input_path": "__notebook__.ipynb",
   "output_path": "__notebook__.ipynb",
   "parameters": {},
   "start_time": "2022-03-02T16:19:52.422462",
   "version": "2.3.3"
  }
 },
 "nbformat": 4,
 "nbformat_minor": 5
}
