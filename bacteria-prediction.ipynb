{
 "cells": [
  {
   "cell_type": "markdown",
   "id": "76204978",
   "metadata": {
    "_cell_guid": "b1076dfc-b9ad-4769-8c92-a6c4dae69d19",
    "_uuid": "8f2839f25d086af736a60e9eeb907d3b93b6e0e5",
    "execution": {
     "iopub.execute_input": "2022-03-02T14:33:46.222715Z",
     "iopub.status.busy": "2022-03-02T14:33:46.221872Z",
     "iopub.status.idle": "2022-03-02T14:33:46.251698Z",
     "shell.execute_reply": "2022-03-02T14:33:46.250819Z",
     "shell.execute_reply.started": "2022-03-02T14:33:46.222522Z"
    },
    "papermill": {
     "duration": 0.035889,
     "end_time": "2022-03-03T16:30:06.543913",
     "exception": false,
     "start_time": "2022-03-03T16:30:06.508024",
     "status": "completed"
    },
    "tags": []
   },
   "source": [
    "# **Bacteria Prediction**"
   ]
  },
  {
   "cell_type": "markdown",
   "id": "1ff43715",
   "metadata": {
    "papermill": {
     "duration": 0.0341,
     "end_time": "2022-03-03T16:30:06.613321",
     "exception": false,
     "start_time": "2022-03-03T16:30:06.579221",
     "status": "completed"
    },
    "tags": []
   },
   "source": [
    "## **Project Imports**"
   ]
  },
  {
   "cell_type": "code",
   "execution_count": 1,
   "id": "2c3e5756",
   "metadata": {
    "execution": {
     "iopub.execute_input": "2022-03-03T16:30:06.691701Z",
     "iopub.status.busy": "2022-03-03T16:30:06.690497Z",
     "iopub.status.idle": "2022-03-03T16:30:06.699300Z",
     "shell.execute_reply": "2022-03-03T16:30:06.699952Z",
     "shell.execute_reply.started": "2022-03-03T16:22:11.313543Z"
    },
    "papermill": {
     "duration": 0.047224,
     "end_time": "2022-03-03T16:30:06.700254",
     "exception": false,
     "start_time": "2022-03-03T16:30:06.653030",
     "status": "completed"
    },
    "tags": []
   },
   "outputs": [],
   "source": [
    "# Imports\n",
    "import os\n",
    "import numpy as np\n",
    "import pandas as pd"
   ]
  },
  {
   "cell_type": "markdown",
   "id": "dc8adbaa",
   "metadata": {
    "papermill": {
     "duration": 0.034261,
     "end_time": "2022-03-03T16:30:06.770325",
     "exception": false,
     "start_time": "2022-03-03T16:30:06.736064",
     "status": "completed"
    },
    "tags": []
   },
   "source": [
    "## **Data Loading**"
   ]
  },
  {
   "cell_type": "code",
   "execution_count": 2,
   "id": "de3ddb61",
   "metadata": {
    "execution": {
     "iopub.execute_input": "2022-03-03T16:30:06.844830Z",
     "iopub.status.busy": "2022-03-03T16:30:06.844147Z",
     "iopub.status.idle": "2022-03-03T16:30:06.850271Z",
     "shell.execute_reply": "2022-03-03T16:30:06.851059Z",
     "shell.execute_reply.started": "2022-03-03T16:22:11.348314Z"
    },
    "papermill": {
     "duration": 0.046356,
     "end_time": "2022-03-03T16:30:06.851284",
     "exception": false,
     "start_time": "2022-03-03T16:30:06.804928",
     "status": "completed"
    },
    "tags": []
   },
   "outputs": [
    {
     "name": "stdout",
     "output_type": "stream",
     "text": [
      "/kaggle/input/tabular-playground-series-feb-2022/sample_submission.csv\n",
      "/kaggle/input/tabular-playground-series-feb-2022/train.csv\n",
      "/kaggle/input/tabular-playground-series-feb-2022/test.csv\n"
     ]
    }
   ],
   "source": [
    "# Print directory structure\n",
    "for dirname, _, filenames in os.walk('/kaggle/input'):\n",
    "    for filename in filenames:\n",
    "        print(os.path.join(dirname, filename))"
   ]
  },
  {
   "cell_type": "code",
   "execution_count": 3,
   "id": "c80aab4e",
   "metadata": {
    "execution": {
     "iopub.execute_input": "2022-03-03T16:30:06.927146Z",
     "iopub.status.busy": "2022-03-03T16:30:06.926412Z",
     "iopub.status.idle": "2022-03-03T16:30:34.301322Z",
     "shell.execute_reply": "2022-03-03T16:30:34.300706Z",
     "shell.execute_reply.started": "2022-03-03T16:22:11.359397Z"
    },
    "papermill": {
     "duration": 27.413319,
     "end_time": "2022-03-03T16:30:34.301488",
     "exception": false,
     "start_time": "2022-03-03T16:30:06.888169",
     "status": "completed"
    },
    "tags": []
   },
   "outputs": [],
   "source": [
    "# Load training set\n",
    "df_train = pd.read_csv(\"/kaggle/input/tabular-playground-series-feb-2022/train.csv\")"
   ]
  },
  {
   "cell_type": "markdown",
   "id": "1a65a300",
   "metadata": {
    "papermill": {
     "duration": 0.035105,
     "end_time": "2022-03-03T16:30:34.372913",
     "exception": false,
     "start_time": "2022-03-03T16:30:34.337808",
     "status": "completed"
    },
    "tags": []
   },
   "source": [
    "## **Exploratory Data Analysis**"
   ]
  },
  {
   "cell_type": "code",
   "execution_count": 4,
   "id": "d067d639",
   "metadata": {
    "execution": {
     "iopub.execute_input": "2022-03-03T16:30:34.452262Z",
     "iopub.status.busy": "2022-03-03T16:30:34.451515Z",
     "iopub.status.idle": "2022-03-03T16:30:34.454802Z",
     "shell.execute_reply": "2022-03-03T16:30:34.455285Z",
     "shell.execute_reply.started": "2022-03-03T16:22:39.056704Z"
    },
    "papermill": {
     "duration": 0.046526,
     "end_time": "2022-03-03T16:30:34.455469",
     "exception": false,
     "start_time": "2022-03-03T16:30:34.408943",
     "status": "completed"
    },
    "tags": []
   },
   "outputs": [
    {
     "data": {
      "text/plain": [
       "(200000, 288)"
      ]
     },
     "execution_count": 4,
     "metadata": {},
     "output_type": "execute_result"
    }
   ],
   "source": [
    "df_train.shape"
   ]
  },
  {
   "cell_type": "code",
   "execution_count": 5,
   "id": "447f5eed",
   "metadata": {
    "execution": {
     "iopub.execute_input": "2022-03-03T16:30:34.530686Z",
     "iopub.status.busy": "2022-03-03T16:30:34.529965Z",
     "iopub.status.idle": "2022-03-03T16:30:34.565140Z",
     "shell.execute_reply": "2022-03-03T16:30:34.564449Z",
     "shell.execute_reply.started": "2022-03-03T16:22:39.069109Z"
    },
    "papermill": {
     "duration": 0.074286,
     "end_time": "2022-03-03T16:30:34.565413",
     "exception": false,
     "start_time": "2022-03-03T16:30:34.491127",
     "status": "completed"
    },
    "tags": []
   },
   "outputs": [
    {
     "data": {
      "text/html": [
       "<div>\n",
       "<style scoped>\n",
       "    .dataframe tbody tr th:only-of-type {\n",
       "        vertical-align: middle;\n",
       "    }\n",
       "\n",
       "    .dataframe tbody tr th {\n",
       "        vertical-align: top;\n",
       "    }\n",
       "\n",
       "    .dataframe thead th {\n",
       "        text-align: right;\n",
       "    }\n",
       "</style>\n",
       "<table border=\"1\" class=\"dataframe\">\n",
       "  <thead>\n",
       "    <tr style=\"text-align: right;\">\n",
       "      <th></th>\n",
       "      <th>row_id</th>\n",
       "      <th>A0T0G0C10</th>\n",
       "      <th>A0T0G1C9</th>\n",
       "      <th>A0T0G2C8</th>\n",
       "      <th>A0T0G3C7</th>\n",
       "      <th>A0T0G4C6</th>\n",
       "      <th>A0T0G5C5</th>\n",
       "      <th>A0T0G6C4</th>\n",
       "      <th>A0T0G7C3</th>\n",
       "      <th>A0T0G8C2</th>\n",
       "      <th>...</th>\n",
       "      <th>A8T0G1C1</th>\n",
       "      <th>A8T0G2C0</th>\n",
       "      <th>A8T1G0C1</th>\n",
       "      <th>A8T1G1C0</th>\n",
       "      <th>A8T2G0C0</th>\n",
       "      <th>A9T0G0C1</th>\n",
       "      <th>A9T0G1C0</th>\n",
       "      <th>A9T1G0C0</th>\n",
       "      <th>A10T0G0C0</th>\n",
       "      <th>target</th>\n",
       "    </tr>\n",
       "  </thead>\n",
       "  <tbody>\n",
       "    <tr>\n",
       "      <th>0</th>\n",
       "      <td>0</td>\n",
       "      <td>-9.536743e-07</td>\n",
       "      <td>-0.000010</td>\n",
       "      <td>-0.000043</td>\n",
       "      <td>-0.000114</td>\n",
       "      <td>-0.000200</td>\n",
       "      <td>-0.000240</td>\n",
       "      <td>-0.000200</td>\n",
       "      <td>-0.000114</td>\n",
       "      <td>-0.000043</td>\n",
       "      <td>...</td>\n",
       "      <td>-0.000086</td>\n",
       "      <td>-0.000043</td>\n",
       "      <td>-0.000086</td>\n",
       "      <td>-0.000086</td>\n",
       "      <td>-0.000043</td>\n",
       "      <td>-0.000010</td>\n",
       "      <td>-0.000010</td>\n",
       "      <td>-0.000010</td>\n",
       "      <td>-9.536743e-07</td>\n",
       "      <td>Streptococcus_pyogenes</td>\n",
       "    </tr>\n",
       "    <tr>\n",
       "      <th>1</th>\n",
       "      <td>1</td>\n",
       "      <td>-9.536743e-07</td>\n",
       "      <td>-0.000010</td>\n",
       "      <td>-0.000043</td>\n",
       "      <td>0.000886</td>\n",
       "      <td>-0.000200</td>\n",
       "      <td>0.000760</td>\n",
       "      <td>-0.000200</td>\n",
       "      <td>-0.000114</td>\n",
       "      <td>-0.000043</td>\n",
       "      <td>...</td>\n",
       "      <td>-0.000086</td>\n",
       "      <td>-0.000043</td>\n",
       "      <td>0.000914</td>\n",
       "      <td>0.000914</td>\n",
       "      <td>-0.000043</td>\n",
       "      <td>-0.000010</td>\n",
       "      <td>-0.000010</td>\n",
       "      <td>-0.000010</td>\n",
       "      <td>-9.536743e-07</td>\n",
       "      <td>Salmonella_enterica</td>\n",
       "    </tr>\n",
       "    <tr>\n",
       "      <th>2</th>\n",
       "      <td>2</td>\n",
       "      <td>-9.536743e-07</td>\n",
       "      <td>-0.000002</td>\n",
       "      <td>0.000007</td>\n",
       "      <td>0.000129</td>\n",
       "      <td>0.000268</td>\n",
       "      <td>0.000270</td>\n",
       "      <td>0.000243</td>\n",
       "      <td>0.000125</td>\n",
       "      <td>0.000001</td>\n",
       "      <td>...</td>\n",
       "      <td>0.000084</td>\n",
       "      <td>0.000048</td>\n",
       "      <td>0.000081</td>\n",
       "      <td>0.000106</td>\n",
       "      <td>0.000072</td>\n",
       "      <td>0.000010</td>\n",
       "      <td>0.000008</td>\n",
       "      <td>0.000019</td>\n",
       "      <td>1.046326e-06</td>\n",
       "      <td>Salmonella_enterica</td>\n",
       "    </tr>\n",
       "    <tr>\n",
       "      <th>3</th>\n",
       "      <td>3</td>\n",
       "      <td>4.632568e-08</td>\n",
       "      <td>-0.000006</td>\n",
       "      <td>0.000012</td>\n",
       "      <td>0.000245</td>\n",
       "      <td>0.000492</td>\n",
       "      <td>0.000522</td>\n",
       "      <td>0.000396</td>\n",
       "      <td>0.000197</td>\n",
       "      <td>-0.000003</td>\n",
       "      <td>...</td>\n",
       "      <td>0.000151</td>\n",
       "      <td>0.000100</td>\n",
       "      <td>0.000180</td>\n",
       "      <td>0.000202</td>\n",
       "      <td>0.000153</td>\n",
       "      <td>0.000021</td>\n",
       "      <td>0.000015</td>\n",
       "      <td>0.000046</td>\n",
       "      <td>-9.536743e-07</td>\n",
       "      <td>Salmonella_enterica</td>\n",
       "    </tr>\n",
       "    <tr>\n",
       "      <th>4</th>\n",
       "      <td>4</td>\n",
       "      <td>-9.536743e-07</td>\n",
       "      <td>-0.000010</td>\n",
       "      <td>-0.000043</td>\n",
       "      <td>-0.000114</td>\n",
       "      <td>-0.000200</td>\n",
       "      <td>-0.000240</td>\n",
       "      <td>-0.000200</td>\n",
       "      <td>-0.000114</td>\n",
       "      <td>-0.000043</td>\n",
       "      <td>...</td>\n",
       "      <td>-0.000086</td>\n",
       "      <td>-0.000043</td>\n",
       "      <td>-0.000086</td>\n",
       "      <td>-0.000086</td>\n",
       "      <td>-0.000043</td>\n",
       "      <td>-0.000010</td>\n",
       "      <td>-0.000010</td>\n",
       "      <td>-0.000010</td>\n",
       "      <td>-9.536743e-07</td>\n",
       "      <td>Enterococcus_hirae</td>\n",
       "    </tr>\n",
       "  </tbody>\n",
       "</table>\n",
       "<p>5 rows × 288 columns</p>\n",
       "</div>"
      ],
      "text/plain": [
       "   row_id     A0T0G0C10  A0T0G1C9  A0T0G2C8  A0T0G3C7  A0T0G4C6  A0T0G5C5  \\\n",
       "0       0 -9.536743e-07 -0.000010 -0.000043 -0.000114 -0.000200 -0.000240   \n",
       "1       1 -9.536743e-07 -0.000010 -0.000043  0.000886 -0.000200  0.000760   \n",
       "2       2 -9.536743e-07 -0.000002  0.000007  0.000129  0.000268  0.000270   \n",
       "3       3  4.632568e-08 -0.000006  0.000012  0.000245  0.000492  0.000522   \n",
       "4       4 -9.536743e-07 -0.000010 -0.000043 -0.000114 -0.000200 -0.000240   \n",
       "\n",
       "   A0T0G6C4  A0T0G7C3  A0T0G8C2  ...  A8T0G1C1  A8T0G2C0  A8T1G0C1  A8T1G1C0  \\\n",
       "0 -0.000200 -0.000114 -0.000043  ... -0.000086 -0.000043 -0.000086 -0.000086   \n",
       "1 -0.000200 -0.000114 -0.000043  ... -0.000086 -0.000043  0.000914  0.000914   \n",
       "2  0.000243  0.000125  0.000001  ...  0.000084  0.000048  0.000081  0.000106   \n",
       "3  0.000396  0.000197 -0.000003  ...  0.000151  0.000100  0.000180  0.000202   \n",
       "4 -0.000200 -0.000114 -0.000043  ... -0.000086 -0.000043 -0.000086 -0.000086   \n",
       "\n",
       "   A8T2G0C0  A9T0G0C1  A9T0G1C0  A9T1G0C0     A10T0G0C0  \\\n",
       "0 -0.000043 -0.000010 -0.000010 -0.000010 -9.536743e-07   \n",
       "1 -0.000043 -0.000010 -0.000010 -0.000010 -9.536743e-07   \n",
       "2  0.000072  0.000010  0.000008  0.000019  1.046326e-06   \n",
       "3  0.000153  0.000021  0.000015  0.000046 -9.536743e-07   \n",
       "4 -0.000043 -0.000010 -0.000010 -0.000010 -9.536743e-07   \n",
       "\n",
       "                   target  \n",
       "0  Streptococcus_pyogenes  \n",
       "1     Salmonella_enterica  \n",
       "2     Salmonella_enterica  \n",
       "3     Salmonella_enterica  \n",
       "4      Enterococcus_hirae  \n",
       "\n",
       "[5 rows x 288 columns]"
      ]
     },
     "execution_count": 5,
     "metadata": {},
     "output_type": "execute_result"
    }
   ],
   "source": [
    "df_train.head()"
   ]
  },
  {
   "cell_type": "code",
   "execution_count": 6,
   "id": "c7cf3fc1",
   "metadata": {
    "execution": {
     "iopub.execute_input": "2022-03-03T16:30:34.646422Z",
     "iopub.status.busy": "2022-03-03T16:30:34.645606Z",
     "iopub.status.idle": "2022-03-03T16:30:34.648884Z",
     "shell.execute_reply": "2022-03-03T16:30:34.649358Z",
     "shell.execute_reply.started": "2022-03-03T16:22:39.118391Z"
    },
    "papermill": {
     "duration": 0.047598,
     "end_time": "2022-03-03T16:30:34.649537",
     "exception": false,
     "start_time": "2022-03-03T16:30:34.601939",
     "status": "completed"
    },
    "tags": []
   },
   "outputs": [
    {
     "data": {
      "text/plain": [
       "row_id         int64\n",
       "A0T0G0C10    float64\n",
       "A0T0G1C9     float64\n",
       "A0T0G2C8     float64\n",
       "A0T0G3C7     float64\n",
       "              ...   \n",
       "A9T0G0C1     float64\n",
       "A9T0G1C0     float64\n",
       "A9T1G0C0     float64\n",
       "A10T0G0C0    float64\n",
       "target        object\n",
       "Length: 288, dtype: object"
      ]
     },
     "execution_count": 6,
     "metadata": {},
     "output_type": "execute_result"
    }
   ],
   "source": [
    "df_train.dtypes"
   ]
  },
  {
   "cell_type": "code",
   "execution_count": 7,
   "id": "837a8faa",
   "metadata": {
    "execution": {
     "iopub.execute_input": "2022-03-03T16:30:34.728178Z",
     "iopub.status.busy": "2022-03-03T16:30:34.727095Z",
     "iopub.status.idle": "2022-03-03T16:30:34.905236Z",
     "shell.execute_reply": "2022-03-03T16:30:34.904591Z",
     "shell.execute_reply.started": "2022-03-03T16:22:39.130306Z"
    },
    "papermill": {
     "duration": 0.218258,
     "end_time": "2022-03-03T16:30:34.905376",
     "exception": false,
     "start_time": "2022-03-03T16:30:34.687118",
     "status": "completed"
    },
    "tags": []
   },
   "outputs": [
    {
     "data": {
      "text/plain": [
       "(200000, 287)"
      ]
     },
     "execution_count": 7,
     "metadata": {},
     "output_type": "execute_result"
    }
   ],
   "source": [
    "df_train.drop(columns=[\"row_id\"], inplace=True)\n",
    "df_train.shape"
   ]
  },
  {
   "cell_type": "code",
   "execution_count": 8,
   "id": "e93aa3bf",
   "metadata": {
    "execution": {
     "iopub.execute_input": "2022-03-03T16:30:34.985655Z",
     "iopub.status.busy": "2022-03-03T16:30:34.984902Z",
     "iopub.status.idle": "2022-03-03T16:30:35.130632Z",
     "shell.execute_reply": "2022-03-03T16:30:35.131196Z",
     "shell.execute_reply.started": "2022-03-03T16:22:39.421782Z"
    },
    "papermill": {
     "duration": 0.188884,
     "end_time": "2022-03-03T16:30:35.131372",
     "exception": false,
     "start_time": "2022-03-03T16:30:34.942488",
     "status": "completed"
    },
    "tags": []
   },
   "outputs": [
    {
     "data": {
      "text/plain": [
       "False"
      ]
     },
     "execution_count": 8,
     "metadata": {},
     "output_type": "execute_result"
    }
   ],
   "source": [
    "# Check the presence of null values\n",
    "df_train.isnull().values.any()"
   ]
  },
  {
   "cell_type": "code",
   "execution_count": 9,
   "id": "95542798",
   "metadata": {
    "execution": {
     "iopub.execute_input": "2022-03-03T16:30:35.211285Z",
     "iopub.status.busy": "2022-03-03T16:30:35.210473Z",
     "iopub.status.idle": "2022-03-03T16:30:35.392494Z",
     "shell.execute_reply": "2022-03-03T16:30:35.391880Z",
     "shell.execute_reply.started": "2022-03-03T16:22:39.640147Z"
    },
    "papermill": {
     "duration": 0.223072,
     "end_time": "2022-03-03T16:30:35.392662",
     "exception": false,
     "start_time": "2022-03-03T16:30:35.169590",
     "status": "completed"
    },
    "tags": []
   },
   "outputs": [
    {
     "data": {
      "text/plain": [
       "True"
      ]
     },
     "execution_count": 9,
     "metadata": {},
     "output_type": "execute_result"
    }
   ],
   "source": [
    "# Check that all the values in the dataframe are not equal to zero\n",
    "df_train.all().all()"
   ]
  },
  {
   "cell_type": "markdown",
   "id": "245fade0",
   "metadata": {
    "papermill": {
     "duration": 0.038341,
     "end_time": "2022-03-03T16:30:35.469547",
     "exception": false,
     "start_time": "2022-03-03T16:30:35.431206",
     "status": "completed"
    },
    "tags": []
   },
   "source": [
    "As we have seen, in the dataframe there aren't null or 0 values."
   ]
  },
  {
   "cell_type": "code",
   "execution_count": 10,
   "id": "4c95e95b",
   "metadata": {
    "execution": {
     "iopub.execute_input": "2022-03-03T16:30:35.551025Z",
     "iopub.status.busy": "2022-03-03T16:30:35.550286Z",
     "iopub.status.idle": "2022-03-03T16:30:38.654947Z",
     "shell.execute_reply": "2022-03-03T16:30:38.654392Z",
     "shell.execute_reply.started": "2022-03-03T16:22:39.873487Z"
    },
    "papermill": {
     "duration": 3.146039,
     "end_time": "2022-03-03T16:30:38.655105",
     "exception": false,
     "start_time": "2022-03-03T16:30:35.509066",
     "status": "completed"
    },
    "tags": []
   },
   "outputs": [
    {
     "data": {
      "text/html": [
       "<div>\n",
       "<style scoped>\n",
       "    .dataframe tbody tr th:only-of-type {\n",
       "        vertical-align: middle;\n",
       "    }\n",
       "\n",
       "    .dataframe tbody tr th {\n",
       "        vertical-align: top;\n",
       "    }\n",
       "\n",
       "    .dataframe thead th {\n",
       "        text-align: right;\n",
       "    }\n",
       "</style>\n",
       "<table border=\"1\" class=\"dataframe\">\n",
       "  <thead>\n",
       "    <tr style=\"text-align: right;\">\n",
       "      <th></th>\n",
       "      <th>A0T0G0C10</th>\n",
       "      <th>A0T0G1C9</th>\n",
       "      <th>A0T0G2C8</th>\n",
       "      <th>A0T0G3C7</th>\n",
       "      <th>A0T0G4C6</th>\n",
       "      <th>A0T0G5C5</th>\n",
       "      <th>A0T0G6C4</th>\n",
       "      <th>A0T0G7C3</th>\n",
       "      <th>A0T0G8C2</th>\n",
       "      <th>A0T0G9C1</th>\n",
       "      <th>...</th>\n",
       "      <th>A8T0G0C2</th>\n",
       "      <th>A8T0G1C1</th>\n",
       "      <th>A8T0G2C0</th>\n",
       "      <th>A8T1G0C1</th>\n",
       "      <th>A8T1G1C0</th>\n",
       "      <th>A8T2G0C0</th>\n",
       "      <th>A9T0G0C1</th>\n",
       "      <th>A9T0G1C0</th>\n",
       "      <th>A9T1G0C0</th>\n",
       "      <th>A10T0G0C0</th>\n",
       "    </tr>\n",
       "  </thead>\n",
       "  <tbody>\n",
       "    <tr>\n",
       "      <th>count</th>\n",
       "      <td>2.000000e+05</td>\n",
       "      <td>200000.000000</td>\n",
       "      <td>200000.000000</td>\n",
       "      <td>200000.000000</td>\n",
       "      <td>200000.000000</td>\n",
       "      <td>200000.000000</td>\n",
       "      <td>200000.000000</td>\n",
       "      <td>200000.000000</td>\n",
       "      <td>200000.000000</td>\n",
       "      <td>200000.000000</td>\n",
       "      <td>...</td>\n",
       "      <td>200000.000000</td>\n",
       "      <td>200000.000000</td>\n",
       "      <td>200000.000000</td>\n",
       "      <td>200000.000000</td>\n",
       "      <td>200000.000000</td>\n",
       "      <td>200000.000000</td>\n",
       "      <td>200000.000000</td>\n",
       "      <td>2.000000e+05</td>\n",
       "      <td>2.000000e+05</td>\n",
       "      <td>2.000000e+05</td>\n",
       "    </tr>\n",
       "    <tr>\n",
       "      <th>mean</th>\n",
       "      <td>6.421457e-07</td>\n",
       "      <td>-0.000003</td>\n",
       "      <td>-0.000014</td>\n",
       "      <td>-0.000010</td>\n",
       "      <td>0.000005</td>\n",
       "      <td>0.000025</td>\n",
       "      <td>0.000014</td>\n",
       "      <td>-0.000009</td>\n",
       "      <td>-0.000028</td>\n",
       "      <td>-0.000008</td>\n",
       "      <td>...</td>\n",
       "      <td>0.000135</td>\n",
       "      <td>0.000348</td>\n",
       "      <td>0.000253</td>\n",
       "      <td>0.000464</td>\n",
       "      <td>0.000581</td>\n",
       "      <td>0.000379</td>\n",
       "      <td>0.000062</td>\n",
       "      <td>8.982134e-05</td>\n",
       "      <td>1.170014e-04</td>\n",
       "      <td>2.215407e-07</td>\n",
       "    </tr>\n",
       "    <tr>\n",
       "      <th>std</th>\n",
       "      <td>8.654927e-05</td>\n",
       "      <td>0.000132</td>\n",
       "      <td>0.000287</td>\n",
       "      <td>0.000436</td>\n",
       "      <td>0.000683</td>\n",
       "      <td>0.000869</td>\n",
       "      <td>0.000775</td>\n",
       "      <td>0.000441</td>\n",
       "      <td>0.000107</td>\n",
       "      <td>0.000083</td>\n",
       "      <td>...</td>\n",
       "      <td>0.000711</td>\n",
       "      <td>0.001117</td>\n",
       "      <td>0.000914</td>\n",
       "      <td>0.001238</td>\n",
       "      <td>0.001528</td>\n",
       "      <td>0.001182</td>\n",
       "      <td>0.000466</td>\n",
       "      <td>5.475606e-04</td>\n",
       "      <td>6.788277e-04</td>\n",
       "      <td>2.050081e-05</td>\n",
       "    </tr>\n",
       "    <tr>\n",
       "      <th>min</th>\n",
       "      <td>-9.536743e-07</td>\n",
       "      <td>-0.000010</td>\n",
       "      <td>-0.000043</td>\n",
       "      <td>-0.000114</td>\n",
       "      <td>-0.000200</td>\n",
       "      <td>-0.000240</td>\n",
       "      <td>-0.000200</td>\n",
       "      <td>-0.000114</td>\n",
       "      <td>-0.000043</td>\n",
       "      <td>-0.000010</td>\n",
       "      <td>...</td>\n",
       "      <td>-0.000043</td>\n",
       "      <td>-0.000086</td>\n",
       "      <td>-0.000043</td>\n",
       "      <td>-0.000086</td>\n",
       "      <td>-0.000086</td>\n",
       "      <td>-0.000043</td>\n",
       "      <td>-0.000010</td>\n",
       "      <td>-9.536743e-06</td>\n",
       "      <td>-9.536743e-06</td>\n",
       "      <td>-9.536743e-07</td>\n",
       "    </tr>\n",
       "    <tr>\n",
       "      <th>25%</th>\n",
       "      <td>-9.536743e-07</td>\n",
       "      <td>-0.000010</td>\n",
       "      <td>-0.000043</td>\n",
       "      <td>-0.000114</td>\n",
       "      <td>-0.000200</td>\n",
       "      <td>-0.000240</td>\n",
       "      <td>-0.000200</td>\n",
       "      <td>-0.000114</td>\n",
       "      <td>-0.000043</td>\n",
       "      <td>-0.000010</td>\n",
       "      <td>...</td>\n",
       "      <td>-0.000043</td>\n",
       "      <td>-0.000086</td>\n",
       "      <td>-0.000043</td>\n",
       "      <td>-0.000086</td>\n",
       "      <td>-0.000086</td>\n",
       "      <td>-0.000043</td>\n",
       "      <td>-0.000010</td>\n",
       "      <td>-9.536743e-06</td>\n",
       "      <td>-9.536743e-06</td>\n",
       "      <td>-9.536743e-07</td>\n",
       "    </tr>\n",
       "    <tr>\n",
       "      <th>50%</th>\n",
       "      <td>-9.536743e-07</td>\n",
       "      <td>-0.000010</td>\n",
       "      <td>-0.000043</td>\n",
       "      <td>-0.000114</td>\n",
       "      <td>-0.000200</td>\n",
       "      <td>-0.000237</td>\n",
       "      <td>-0.000199</td>\n",
       "      <td>-0.000114</td>\n",
       "      <td>-0.000043</td>\n",
       "      <td>-0.000010</td>\n",
       "      <td>...</td>\n",
       "      <td>0.000014</td>\n",
       "      <td>0.000064</td>\n",
       "      <td>0.000047</td>\n",
       "      <td>0.000124</td>\n",
       "      <td>0.000114</td>\n",
       "      <td>0.000043</td>\n",
       "      <td>-0.000010</td>\n",
       "      <td>4.632568e-07</td>\n",
       "      <td>4.632568e-07</td>\n",
       "      <td>-9.536743e-07</td>\n",
       "    </tr>\n",
       "    <tr>\n",
       "      <th>75%</th>\n",
       "      <td>-9.536743e-07</td>\n",
       "      <td>-0.000003</td>\n",
       "      <td>-0.000013</td>\n",
       "      <td>-0.000004</td>\n",
       "      <td>-0.000011</td>\n",
       "      <td>0.000003</td>\n",
       "      <td>-0.000030</td>\n",
       "      <td>0.000004</td>\n",
       "      <td>-0.000028</td>\n",
       "      <td>-0.000010</td>\n",
       "      <td>...</td>\n",
       "      <td>0.000111</td>\n",
       "      <td>0.000463</td>\n",
       "      <td>0.000297</td>\n",
       "      <td>0.000684</td>\n",
       "      <td>0.000774</td>\n",
       "      <td>0.000365</td>\n",
       "      <td>0.000030</td>\n",
       "      <td>6.046326e-05</td>\n",
       "      <td>6.946326e-05</td>\n",
       "      <td>-9.536743e-07</td>\n",
       "    </tr>\n",
       "    <tr>\n",
       "      <th>max</th>\n",
       "      <td>9.999046e-03</td>\n",
       "      <td>0.009990</td>\n",
       "      <td>0.009957</td>\n",
       "      <td>0.009886</td>\n",
       "      <td>0.019800</td>\n",
       "      <td>0.019760</td>\n",
       "      <td>0.019800</td>\n",
       "      <td>0.009886</td>\n",
       "      <td>0.009957</td>\n",
       "      <td>0.009990</td>\n",
       "      <td>...</td>\n",
       "      <td>0.019957</td>\n",
       "      <td>0.019914</td>\n",
       "      <td>0.019957</td>\n",
       "      <td>0.019914</td>\n",
       "      <td>0.019914</td>\n",
       "      <td>0.019957</td>\n",
       "      <td>0.009990</td>\n",
       "      <td>9.990463e-03</td>\n",
       "      <td>1.999046e-02</td>\n",
       "      <td>9.990463e-04</td>\n",
       "    </tr>\n",
       "  </tbody>\n",
       "</table>\n",
       "<p>8 rows × 286 columns</p>\n",
       "</div>"
      ],
      "text/plain": [
       "          A0T0G0C10       A0T0G1C9       A0T0G2C8       A0T0G3C7  \\\n",
       "count  2.000000e+05  200000.000000  200000.000000  200000.000000   \n",
       "mean   6.421457e-07      -0.000003      -0.000014      -0.000010   \n",
       "std    8.654927e-05       0.000132       0.000287       0.000436   \n",
       "min   -9.536743e-07      -0.000010      -0.000043      -0.000114   \n",
       "25%   -9.536743e-07      -0.000010      -0.000043      -0.000114   \n",
       "50%   -9.536743e-07      -0.000010      -0.000043      -0.000114   \n",
       "75%   -9.536743e-07      -0.000003      -0.000013      -0.000004   \n",
       "max    9.999046e-03       0.009990       0.009957       0.009886   \n",
       "\n",
       "            A0T0G4C6       A0T0G5C5       A0T0G6C4       A0T0G7C3  \\\n",
       "count  200000.000000  200000.000000  200000.000000  200000.000000   \n",
       "mean        0.000005       0.000025       0.000014      -0.000009   \n",
       "std         0.000683       0.000869       0.000775       0.000441   \n",
       "min        -0.000200      -0.000240      -0.000200      -0.000114   \n",
       "25%        -0.000200      -0.000240      -0.000200      -0.000114   \n",
       "50%        -0.000200      -0.000237      -0.000199      -0.000114   \n",
       "75%        -0.000011       0.000003      -0.000030       0.000004   \n",
       "max         0.019800       0.019760       0.019800       0.009886   \n",
       "\n",
       "            A0T0G8C2       A0T0G9C1  ...       A8T0G0C2       A8T0G1C1  \\\n",
       "count  200000.000000  200000.000000  ...  200000.000000  200000.000000   \n",
       "mean       -0.000028      -0.000008  ...       0.000135       0.000348   \n",
       "std         0.000107       0.000083  ...       0.000711       0.001117   \n",
       "min        -0.000043      -0.000010  ...      -0.000043      -0.000086   \n",
       "25%        -0.000043      -0.000010  ...      -0.000043      -0.000086   \n",
       "50%        -0.000043      -0.000010  ...       0.000014       0.000064   \n",
       "75%        -0.000028      -0.000010  ...       0.000111       0.000463   \n",
       "max         0.009957       0.009990  ...       0.019957       0.019914   \n",
       "\n",
       "            A8T0G2C0       A8T1G0C1       A8T1G1C0       A8T2G0C0  \\\n",
       "count  200000.000000  200000.000000  200000.000000  200000.000000   \n",
       "mean        0.000253       0.000464       0.000581       0.000379   \n",
       "std         0.000914       0.001238       0.001528       0.001182   \n",
       "min        -0.000043      -0.000086      -0.000086      -0.000043   \n",
       "25%        -0.000043      -0.000086      -0.000086      -0.000043   \n",
       "50%         0.000047       0.000124       0.000114       0.000043   \n",
       "75%         0.000297       0.000684       0.000774       0.000365   \n",
       "max         0.019957       0.019914       0.019914       0.019957   \n",
       "\n",
       "            A9T0G0C1      A9T0G1C0      A9T1G0C0     A10T0G0C0  \n",
       "count  200000.000000  2.000000e+05  2.000000e+05  2.000000e+05  \n",
       "mean        0.000062  8.982134e-05  1.170014e-04  2.215407e-07  \n",
       "std         0.000466  5.475606e-04  6.788277e-04  2.050081e-05  \n",
       "min        -0.000010 -9.536743e-06 -9.536743e-06 -9.536743e-07  \n",
       "25%        -0.000010 -9.536743e-06 -9.536743e-06 -9.536743e-07  \n",
       "50%        -0.000010  4.632568e-07  4.632568e-07 -9.536743e-07  \n",
       "75%         0.000030  6.046326e-05  6.946326e-05 -9.536743e-07  \n",
       "max         0.009990  9.990463e-03  1.999046e-02  9.990463e-04  \n",
       "\n",
       "[8 rows x 286 columns]"
      ]
     },
     "execution_count": 10,
     "metadata": {},
     "output_type": "execute_result"
    }
   ],
   "source": [
    "df_train.describe()"
   ]
  },
  {
   "cell_type": "code",
   "execution_count": 11,
   "id": "6ccd387c",
   "metadata": {
    "execution": {
     "iopub.execute_input": "2022-03-03T16:30:38.774485Z",
     "iopub.status.busy": "2022-03-03T16:30:38.773749Z",
     "iopub.status.idle": "2022-03-03T16:30:39.039315Z",
     "shell.execute_reply": "2022-03-03T16:30:39.038582Z",
     "shell.execute_reply.started": "2022-03-03T16:22:43.269663Z"
    },
    "papermill": {
     "duration": 0.343577,
     "end_time": "2022-03-03T16:30:39.039474",
     "exception": false,
     "start_time": "2022-03-03T16:30:38.695897",
     "status": "completed"
    },
    "tags": []
   },
   "outputs": [
    {
     "data": {
      "image/png": "[encoded data removed]",
      "text/plain": [
       "<Figure size 432x288 with 1 Axes>"
      ]
     },
     "metadata": {
      "needs_background": "light"
     },
     "output_type": "display_data"
    }
   ],
   "source": [
    "# Plot the distribution of values for the target column\n",
    "df_train[\"target\"].value_counts().plot(kind=\"bar\");"
   ]
  },
  {
   "cell_type": "markdown",
   "id": "9649d967",
   "metadata": {
    "papermill": {
     "duration": 0.039754,
     "end_time": "2022-03-03T16:30:39.119935",
     "exception": false,
     "start_time": "2022-03-03T16:30:39.080181",
     "status": "completed"
    },
    "tags": []
   },
   "source": [
    "As we can see, the different classes in the training dataset are balanced."
   ]
  },
  {
   "cell_type": "markdown",
   "id": "4169d966",
   "metadata": {
    "papermill": {
     "duration": 0.039995,
     "end_time": "2022-03-03T16:30:39.200942",
     "exception": false,
     "start_time": "2022-03-03T16:30:39.160947",
     "status": "completed"
    },
    "tags": []
   },
   "source": [
    "## **Dimensionality Reduction** "
   ]
  },
  {
   "cell_type": "code",
   "execution_count": 12,
   "id": "058457a2",
   "metadata": {
    "execution": {
     "iopub.execute_input": "2022-03-03T16:30:39.433856Z",
     "iopub.status.busy": "2022-03-03T16:30:39.433124Z",
     "iopub.status.idle": "2022-03-03T16:30:39.437281Z",
     "shell.execute_reply": "2022-03-03T16:30:39.437855Z",
     "shell.execute_reply.started": "2022-03-03T16:22:43.583531Z"
    },
    "papermill": {
     "duration": 0.194094,
     "end_time": "2022-03-03T16:30:39.438026",
     "exception": false,
     "start_time": "2022-03-03T16:30:39.243932",
     "status": "completed"
    },
    "tags": []
   },
   "outputs": [
    {
     "data": {
      "text/plain": [
       "(200000, 286)"
      ]
     },
     "execution_count": 12,
     "metadata": {},
     "output_type": "execute_result"
    }
   ],
   "source": [
    "X_train_init = df_train.drop(columns=[\"target\"])\n",
    "X_train_init.shape"
   ]
  },
  {
   "cell_type": "code",
   "execution_count": 13,
   "id": "2135fa3b",
   "metadata": {
    "execution": {
     "iopub.execute_input": "2022-03-03T16:30:39.550339Z",
     "iopub.status.busy": "2022-03-03T16:30:39.549169Z",
     "iopub.status.idle": "2022-03-03T16:30:39.555361Z",
     "shell.execute_reply": "2022-03-03T16:30:39.556204Z",
     "shell.execute_reply.started": "2022-03-03T16:22:43.818552Z"
    },
    "papermill": {
     "duration": 0.071519,
     "end_time": "2022-03-03T16:30:39.556468",
     "exception": false,
     "start_time": "2022-03-03T16:30:39.484949",
     "status": "completed"
    },
    "tags": []
   },
   "outputs": [
    {
     "data": {
      "text/plain": [
       "(200000,)"
      ]
     },
     "execution_count": 13,
     "metadata": {},
     "output_type": "execute_result"
    }
   ],
   "source": [
    "Y_train_init = df_train[\"target\"]\n",
    "Y_train_init.shape"
   ]
  },
  {
   "cell_type": "code",
   "execution_count": 14,
   "id": "92046c69",
   "metadata": {
    "execution": {
     "iopub.execute_input": "2022-03-03T16:30:39.655554Z",
     "iopub.status.busy": "2022-03-03T16:30:39.654419Z",
     "iopub.status.idle": "2022-03-03T16:30:40.762011Z",
     "shell.execute_reply": "2022-03-03T16:30:40.762591Z",
     "shell.execute_reply.started": "2022-03-03T16:22:43.834615Z"
    },
    "papermill": {
     "duration": 1.155174,
     "end_time": "2022-03-03T16:30:40.762829",
     "exception": false,
     "start_time": "2022-03-03T16:30:39.607655",
     "status": "completed"
    },
    "tags": []
   },
   "outputs": [
    {
     "data": {
      "text/plain": [
       "array([9, 6, 6, ..., 8, 7, 5])"
      ]
     },
     "execution_count": 14,
     "metadata": {},
     "output_type": "execute_result"
    }
   ],
   "source": [
    "from sklearn.preprocessing import LabelEncoder\n",
    "\n",
    "# Label encoding of the target.\n",
    "# We will map each of the 10 different target classess to an intger in the range 0-9\n",
    "label_encoder = LabelEncoder()\n",
    "Y_train = label_encoder.fit(Y_train_init).transform(Y_train_init)\n",
    "Y_train"
   ]
  },
  {
   "cell_type": "code",
   "execution_count": 15,
   "id": "669bf86a",
   "metadata": {
    "execution": {
     "iopub.execute_input": "2022-03-03T16:30:40.850339Z",
     "iopub.status.busy": "2022-03-03T16:30:40.849221Z",
     "iopub.status.idle": "2022-03-03T16:30:42.170718Z",
     "shell.execute_reply": "2022-03-03T16:30:42.171305Z",
     "shell.execute_reply.started": "2022-03-03T16:22:44.908584Z"
    },
    "papermill": {
     "duration": 1.367758,
     "end_time": "2022-03-03T16:30:42.171524",
     "exception": false,
     "start_time": "2022-03-03T16:30:40.803766",
     "status": "completed"
    },
    "tags": []
   },
   "outputs": [
    {
     "data": {
      "text/plain": [
       "(200000, 286)"
      ]
     },
     "execution_count": 15,
     "metadata": {},
     "output_type": "execute_result"
    }
   ],
   "source": [
    "from sklearn.preprocessing import StandardScaler\n",
    "\n",
    "# Standardize the features. This process is needed before doing the PCA.\n",
    "st_scaler = StandardScaler()\n",
    "st_scaler.fit(X_train_init)\n",
    "X_train_st = st_scaler.transform(X_train_init)\n",
    "X_train_st.shape"
   ]
  },
  {
   "cell_type": "code",
   "execution_count": 16,
   "id": "0f4d1621",
   "metadata": {
    "execution": {
     "iopub.execute_input": "2022-03-03T16:30:42.258946Z",
     "iopub.status.busy": "2022-03-03T16:30:42.257886Z",
     "iopub.status.idle": "2022-03-03T16:30:49.431097Z",
     "shell.execute_reply": "2022-03-03T16:30:49.432214Z",
     "shell.execute_reply.started": "2022-03-03T16:22:46.934949Z"
    },
    "papermill": {
     "duration": 7.219434,
     "end_time": "2022-03-03T16:30:49.432535",
     "exception": false,
     "start_time": "2022-03-03T16:30:42.213101",
     "status": "completed"
    },
    "tags": []
   },
   "outputs": [
    {
     "data": {
      "text/plain": [
       "(200000, 50)"
      ]
     },
     "execution_count": 16,
     "metadata": {},
     "output_type": "execute_result"
    }
   ],
   "source": [
    "from sklearn.decomposition import PCA\n",
    "\n",
    "# Perform PCA\n",
    "pca = PCA(n_components=50)\n",
    "pca.fit(X_train_st)\n",
    "X_train_pca = pca.transform(X_train_st)\n",
    "X_train_pca.shape\n"
   ]
  },
  {
   "cell_type": "markdown",
   "id": "ad43e93f",
   "metadata": {
    "papermill": {
     "duration": 0.055685,
     "end_time": "2022-03-03T16:30:49.568794",
     "exception": false,
     "start_time": "2022-03-03T16:30:49.513109",
     "status": "completed"
    },
    "tags": []
   },
   "source": [
    "## **ML Models Testing**"
   ]
  },
  {
   "cell_type": "code",
   "execution_count": 17,
   "id": "9f956d1d",
   "metadata": {
    "execution": {
     "iopub.execute_input": "2022-03-03T16:30:49.660137Z",
     "iopub.status.busy": "2022-03-03T16:30:49.659158Z",
     "iopub.status.idle": "2022-03-03T16:30:56.221083Z",
     "shell.execute_reply": "2022-03-03T16:30:56.221616Z",
     "shell.execute_reply.started": "2022-03-03T16:22:56.132901Z"
    },
    "papermill": {
     "duration": 6.611645,
     "end_time": "2022-03-03T16:30:56.221806",
     "exception": false,
     "start_time": "2022-03-03T16:30:49.610161",
     "status": "completed"
    },
    "tags": []
   },
   "outputs": [
    {
     "name": "stdout",
     "output_type": "stream",
     "text": [
      "Model: \"dnn_model\"\n",
      "_________________________________________________________________\n",
      "Layer (type)                 Output Shape              Param #   \n",
      "=================================================================\n",
      "input_1 (InputLayer)         [(None, 50)]              0         \n",
      "_________________________________________________________________\n",
      "dense (Dense)                (None, 50)                2550      \n",
      "_________________________________________________________________\n",
      "dense_1 (Dense)              (None, 30)                1530      \n",
      "_________________________________________________________________\n",
      "dense_2 (Dense)              (None, 20)                620       \n",
      "_________________________________________________________________\n",
      "dense_3 (Dense)              (None, 10)                210       \n",
      "=================================================================\n",
      "Total params: 4,910\n",
      "Trainable params: 4,910\n",
      "Non-trainable params: 0\n",
      "_________________________________________________________________\n"
     ]
    },
    {
     "name": "stderr",
     "output_type": "stream",
     "text": [
      "2022-03-03 16:30:56.134660: I tensorflow/core/common_runtime/process_util.cc:146] Creating new thread pool with default inter op setting: 2. Tune using inter_op_parallelism_threads for best performance.\n"
     ]
    }
   ],
   "source": [
    "import tensorflow as tf\n",
    "from tensorflow import keras\n",
    "from tensorflow.keras import layers\n",
    "\n",
    "inputs = keras.Input(shape=(50,))\n",
    "x = layers.Dense(50, activation=\"relu\")(inputs)\n",
    "x = layers.Dense(30, activation=\"relu\")(x)\n",
    "x = layers.Dense(20, activation=\"relu\")(x)\n",
    "outputs = layers.Dense(10, activation=\"softmax\")(x)\n",
    "\n",
    "dnn_model = keras.Model(inputs=inputs, outputs=outputs, name=\"dnn_model\")\n",
    "dnn_model.summary()"
   ]
  },
  {
   "cell_type": "code",
   "execution_count": 18,
   "id": "267aa315",
   "metadata": {
    "execution": {
     "iopub.execute_input": "2022-03-03T16:30:56.319187Z",
     "iopub.status.busy": "2022-03-03T16:30:56.316978Z",
     "iopub.status.idle": "2022-03-03T16:30:56.327850Z",
     "shell.execute_reply": "2022-03-03T16:30:56.327224Z",
     "shell.execute_reply.started": "2022-03-03T16:23:03.259762Z"
    },
    "papermill": {
     "duration": 0.062609,
     "end_time": "2022-03-03T16:30:56.327996",
     "exception": false,
     "start_time": "2022-03-03T16:30:56.265387",
     "status": "completed"
    },
    "tags": []
   },
   "outputs": [],
   "source": [
    "dnn_model.compile(\n",
    "    loss=keras.losses.SparseCategoricalCrossentropy(from_logits=False),\n",
    "    optimizer=keras.optimizers.Adam(),\n",
    "    metrics=[\"accuracy\"]\n",
    ")"
   ]
  },
  {
   "cell_type": "code",
   "execution_count": 19,
   "id": "c57ce288",
   "metadata": {
    "execution": {
     "iopub.execute_input": "2022-03-03T16:30:56.421012Z",
     "iopub.status.busy": "2022-03-03T16:30:56.419748Z",
     "iopub.status.idle": "2022-03-03T16:31:17.563182Z",
     "shell.execute_reply": "2022-03-03T16:31:17.563956Z",
     "shell.execute_reply.started": "2022-03-03T16:23:03.283123Z"
    },
    "papermill": {
     "duration": 21.193086,
     "end_time": "2022-03-03T16:31:17.564167",
     "exception": false,
     "start_time": "2022-03-03T16:30:56.371081",
     "status": "completed"
    },
    "tags": []
   },
   "outputs": [
    {
     "name": "stderr",
     "output_type": "stream",
     "text": [
      "2022-03-03 16:30:56.509908: I tensorflow/compiler/mlir/mlir_graph_optimization_pass.cc:185] None of the MLIR Optimization Passes are enabled (registered 2)\n"
     ]
    },
    {
     "name": "stdout",
     "output_type": "stream",
     "text": [
      "Epoch 1/2\n",
      "2500/2500 [==============================] - 9s 3ms/step - loss: 0.6391 - accuracy: 0.7835 - val_loss: 0.4161 - val_accuracy: 0.8516\n",
      "Epoch 2/2\n",
      "2500/2500 [==============================] - 9s 4ms/step - loss: 0.3682 - accuracy: 0.8622 - val_loss: 0.3464 - val_accuracy: 0.8691\n"
     ]
    }
   ],
   "source": [
    "history = dnn_model.fit(X_train_pca, Y_train, batch_size=64, epochs=2, validation_split=0.2)"
   ]
  },
  {
   "cell_type": "code",
   "execution_count": null,
   "id": "43bf9987",
   "metadata": {
    "papermill": {
     "duration": 0.152141,
     "end_time": "2022-03-03T16:31:17.871624",
     "exception": false,
     "start_time": "2022-03-03T16:31:17.719483",
     "status": "completed"
    },
    "tags": []
   },
   "outputs": [],
   "source": []
  },
  {
   "cell_type": "markdown",
   "id": "4c426e9f",
   "metadata": {
    "papermill": {
     "duration": 0.149301,
     "end_time": "2022-03-03T16:31:18.170652",
     "exception": false,
     "start_time": "2022-03-03T16:31:18.021351",
     "status": "completed"
    },
    "tags": []
   },
   "source": [
    "## **Final Model Evaluation**"
   ]
  },
  {
   "cell_type": "code",
   "execution_count": 20,
   "id": "13542aff",
   "metadata": {
    "execution": {
     "iopub.execute_input": "2022-03-03T16:31:18.479576Z",
     "iopub.status.busy": "2022-03-03T16:31:18.478501Z",
     "iopub.status.idle": "2022-03-03T16:31:18.481126Z",
     "shell.execute_reply": "2022-03-03T16:31:18.480627Z",
     "shell.execute_reply.started": "2022-03-03T16:23:24.524142Z"
    },
    "papermill": {
     "duration": 0.157181,
     "end_time": "2022-03-03T16:31:18.481275",
     "exception": false,
     "start_time": "2022-03-03T16:31:18.324094",
     "status": "completed"
    },
    "tags": []
   },
   "outputs": [],
   "source": [
    "final_model = dnn_model"
   ]
  },
  {
   "cell_type": "code",
   "execution_count": 21,
   "id": "a0205b4d",
   "metadata": {
    "execution": {
     "iopub.execute_input": "2022-03-03T16:31:18.791366Z",
     "iopub.status.busy": "2022-03-03T16:31:18.790695Z",
     "iopub.status.idle": "2022-03-03T16:31:31.812868Z",
     "shell.execute_reply": "2022-03-03T16:31:31.812229Z",
     "shell.execute_reply.started": "2022-03-03T16:23:24.532384Z"
    },
    "papermill": {
     "duration": 13.18183,
     "end_time": "2022-03-03T16:31:31.813021",
     "exception": false,
     "start_time": "2022-03-03T16:31:18.631191",
     "status": "completed"
    },
    "tags": []
   },
   "outputs": [
    {
     "data": {
      "text/html": [
       "<div>\n",
       "<style scoped>\n",
       "    .dataframe tbody tr th:only-of-type {\n",
       "        vertical-align: middle;\n",
       "    }\n",
       "\n",
       "    .dataframe tbody tr th {\n",
       "        vertical-align: top;\n",
       "    }\n",
       "\n",
       "    .dataframe thead th {\n",
       "        text-align: right;\n",
       "    }\n",
       "</style>\n",
       "<table border=\"1\" class=\"dataframe\">\n",
       "  <thead>\n",
       "    <tr style=\"text-align: right;\">\n",
       "      <th></th>\n",
       "      <th>row_id</th>\n",
       "      <th>A0T0G0C10</th>\n",
       "      <th>A0T0G1C9</th>\n",
       "      <th>A0T0G2C8</th>\n",
       "      <th>A0T0G3C7</th>\n",
       "      <th>A0T0G4C6</th>\n",
       "      <th>A0T0G5C5</th>\n",
       "      <th>A0T0G6C4</th>\n",
       "      <th>A0T0G7C3</th>\n",
       "      <th>A0T0G8C2</th>\n",
       "      <th>...</th>\n",
       "      <th>A8T0G0C2</th>\n",
       "      <th>A8T0G1C1</th>\n",
       "      <th>A8T0G2C0</th>\n",
       "      <th>A8T1G0C1</th>\n",
       "      <th>A8T1G1C0</th>\n",
       "      <th>A8T2G0C0</th>\n",
       "      <th>A9T0G0C1</th>\n",
       "      <th>A9T0G1C0</th>\n",
       "      <th>A9T1G0C0</th>\n",
       "      <th>A10T0G0C0</th>\n",
       "    </tr>\n",
       "  </thead>\n",
       "  <tbody>\n",
       "    <tr>\n",
       "      <th>0</th>\n",
       "      <td>200000</td>\n",
       "      <td>-9.536743e-07</td>\n",
       "      <td>-0.000002</td>\n",
       "      <td>-9.153442e-07</td>\n",
       "      <td>0.000024</td>\n",
       "      <td>0.000034</td>\n",
       "      <td>-0.000002</td>\n",
       "      <td>0.000021</td>\n",
       "      <td>0.000024</td>\n",
       "      <td>-0.000009</td>\n",
       "      <td>...</td>\n",
       "      <td>0.000039</td>\n",
       "      <td>0.000085</td>\n",
       "      <td>0.000055</td>\n",
       "      <td>0.000108</td>\n",
       "      <td>0.000090</td>\n",
       "      <td>0.000059</td>\n",
       "      <td>0.000010</td>\n",
       "      <td>0.000006</td>\n",
       "      <td>0.000027</td>\n",
       "      <td>4.632568e-08</td>\n",
       "    </tr>\n",
       "    <tr>\n",
       "      <th>1</th>\n",
       "      <td>200001</td>\n",
       "      <td>-9.536743e-07</td>\n",
       "      <td>-0.000010</td>\n",
       "      <td>-4.291534e-05</td>\n",
       "      <td>-0.000114</td>\n",
       "      <td>0.001800</td>\n",
       "      <td>-0.000240</td>\n",
       "      <td>0.001800</td>\n",
       "      <td>-0.000114</td>\n",
       "      <td>0.000957</td>\n",
       "      <td>...</td>\n",
       "      <td>-0.000043</td>\n",
       "      <td>0.000914</td>\n",
       "      <td>-0.000043</td>\n",
       "      <td>-0.000086</td>\n",
       "      <td>-0.000086</td>\n",
       "      <td>-0.000043</td>\n",
       "      <td>-0.000010</td>\n",
       "      <td>-0.000010</td>\n",
       "      <td>-0.000010</td>\n",
       "      <td>-9.536743e-07</td>\n",
       "    </tr>\n",
       "    <tr>\n",
       "      <th>2</th>\n",
       "      <td>200002</td>\n",
       "      <td>4.632568e-08</td>\n",
       "      <td>0.000003</td>\n",
       "      <td>8.465576e-08</td>\n",
       "      <td>-0.000014</td>\n",
       "      <td>0.000007</td>\n",
       "      <td>-0.000005</td>\n",
       "      <td>-0.000004</td>\n",
       "      <td>0.000003</td>\n",
       "      <td>0.000004</td>\n",
       "      <td>...</td>\n",
       "      <td>0.000041</td>\n",
       "      <td>0.000102</td>\n",
       "      <td>0.000084</td>\n",
       "      <td>0.000111</td>\n",
       "      <td>0.000117</td>\n",
       "      <td>0.000070</td>\n",
       "      <td>0.000020</td>\n",
       "      <td>0.000030</td>\n",
       "      <td>0.000021</td>\n",
       "      <td>4.632568e-08</td>\n",
       "    </tr>\n",
       "    <tr>\n",
       "      <th>3</th>\n",
       "      <td>200003</td>\n",
       "      <td>-9.536743e-07</td>\n",
       "      <td>-0.000008</td>\n",
       "      <td>8.084656e-06</td>\n",
       "      <td>0.000216</td>\n",
       "      <td>0.000420</td>\n",
       "      <td>0.000514</td>\n",
       "      <td>0.000452</td>\n",
       "      <td>0.000187</td>\n",
       "      <td>-0.000005</td>\n",
       "      <td>...</td>\n",
       "      <td>0.000069</td>\n",
       "      <td>0.000158</td>\n",
       "      <td>0.000098</td>\n",
       "      <td>0.000175</td>\n",
       "      <td>0.000217</td>\n",
       "      <td>0.000150</td>\n",
       "      <td>0.000018</td>\n",
       "      <td>0.000016</td>\n",
       "      <td>0.000051</td>\n",
       "      <td>-9.536743e-07</td>\n",
       "    </tr>\n",
       "    <tr>\n",
       "      <th>4</th>\n",
       "      <td>200004</td>\n",
       "      <td>-9.536743e-07</td>\n",
       "      <td>-0.000010</td>\n",
       "      <td>-4.291534e-05</td>\n",
       "      <td>-0.000114</td>\n",
       "      <td>-0.000200</td>\n",
       "      <td>-0.000240</td>\n",
       "      <td>-0.000200</td>\n",
       "      <td>-0.000114</td>\n",
       "      <td>-0.000043</td>\n",
       "      <td>...</td>\n",
       "      <td>-0.000043</td>\n",
       "      <td>-0.000086</td>\n",
       "      <td>-0.000043</td>\n",
       "      <td>-0.000086</td>\n",
       "      <td>0.000914</td>\n",
       "      <td>-0.000043</td>\n",
       "      <td>-0.000010</td>\n",
       "      <td>-0.000010</td>\n",
       "      <td>0.000990</td>\n",
       "      <td>-9.536743e-07</td>\n",
       "    </tr>\n",
       "  </tbody>\n",
       "</table>\n",
       "<p>5 rows × 287 columns</p>\n",
       "</div>"
      ],
      "text/plain": [
       "   row_id     A0T0G0C10  A0T0G1C9      A0T0G2C8  A0T0G3C7  A0T0G4C6  A0T0G5C5  \\\n",
       "0  200000 -9.536743e-07 -0.000002 -9.153442e-07  0.000024  0.000034 -0.000002   \n",
       "1  200001 -9.536743e-07 -0.000010 -4.291534e-05 -0.000114  0.001800 -0.000240   \n",
       "2  200002  4.632568e-08  0.000003  8.465576e-08 -0.000014  0.000007 -0.000005   \n",
       "3  200003 -9.536743e-07 -0.000008  8.084656e-06  0.000216  0.000420  0.000514   \n",
       "4  200004 -9.536743e-07 -0.000010 -4.291534e-05 -0.000114 -0.000200 -0.000240   \n",
       "\n",
       "   A0T0G6C4  A0T0G7C3  A0T0G8C2  ...  A8T0G0C2  A8T0G1C1  A8T0G2C0  A8T1G0C1  \\\n",
       "0  0.000021  0.000024 -0.000009  ...  0.000039  0.000085  0.000055  0.000108   \n",
       "1  0.001800 -0.000114  0.000957  ... -0.000043  0.000914 -0.000043 -0.000086   \n",
       "2 -0.000004  0.000003  0.000004  ...  0.000041  0.000102  0.000084  0.000111   \n",
       "3  0.000452  0.000187 -0.000005  ...  0.000069  0.000158  0.000098  0.000175   \n",
       "4 -0.000200 -0.000114 -0.000043  ... -0.000043 -0.000086 -0.000043 -0.000086   \n",
       "\n",
       "   A8T1G1C0  A8T2G0C0  A9T0G0C1  A9T0G1C0  A9T1G0C0     A10T0G0C0  \n",
       "0  0.000090  0.000059  0.000010  0.000006  0.000027  4.632568e-08  \n",
       "1 -0.000086 -0.000043 -0.000010 -0.000010 -0.000010 -9.536743e-07  \n",
       "2  0.000117  0.000070  0.000020  0.000030  0.000021  4.632568e-08  \n",
       "3  0.000217  0.000150  0.000018  0.000016  0.000051 -9.536743e-07  \n",
       "4  0.000914 -0.000043 -0.000010 -0.000010  0.000990 -9.536743e-07  \n",
       "\n",
       "[5 rows x 287 columns]"
      ]
     },
     "execution_count": 21,
     "metadata": {},
     "output_type": "execute_result"
    }
   ],
   "source": [
    "# Load test set\n",
    "df_test = pd.read_csv(\"/kaggle/input/tabular-playground-series-feb-2022/test.csv\")\n",
    "df_test.head()"
   ]
  },
  {
   "cell_type": "code",
   "execution_count": 22,
   "id": "34e87875",
   "metadata": {
    "execution": {
     "iopub.execute_input": "2022-03-03T16:31:32.130555Z",
     "iopub.status.busy": "2022-03-03T16:31:32.125405Z",
     "iopub.status.idle": "2022-03-03T16:31:32.133614Z",
     "shell.execute_reply": "2022-03-03T16:31:32.134181Z",
     "shell.execute_reply.started": "2022-03-03T16:23:39.819735Z"
    },
    "papermill": {
     "duration": 0.164823,
     "end_time": "2022-03-03T16:31:32.134362",
     "exception": false,
     "start_time": "2022-03-03T16:31:31.969539",
     "status": "completed"
    },
    "tags": []
   },
   "outputs": [
    {
     "data": {
      "text/html": [
       "<div>\n",
       "<style scoped>\n",
       "    .dataframe tbody tr th:only-of-type {\n",
       "        vertical-align: middle;\n",
       "    }\n",
       "\n",
       "    .dataframe tbody tr th {\n",
       "        vertical-align: top;\n",
       "    }\n",
       "\n",
       "    .dataframe thead th {\n",
       "        text-align: right;\n",
       "    }\n",
       "</style>\n",
       "<table border=\"1\" class=\"dataframe\">\n",
       "  <thead>\n",
       "    <tr style=\"text-align: right;\">\n",
       "      <th></th>\n",
       "      <th>row_id</th>\n",
       "    </tr>\n",
       "  </thead>\n",
       "  <tbody>\n",
       "    <tr>\n",
       "      <th>0</th>\n",
       "      <td>200000</td>\n",
       "    </tr>\n",
       "    <tr>\n",
       "      <th>1</th>\n",
       "      <td>200001</td>\n",
       "    </tr>\n",
       "    <tr>\n",
       "      <th>2</th>\n",
       "      <td>200002</td>\n",
       "    </tr>\n",
       "    <tr>\n",
       "      <th>3</th>\n",
       "      <td>200003</td>\n",
       "    </tr>\n",
       "    <tr>\n",
       "      <th>4</th>\n",
       "      <td>200004</td>\n",
       "    </tr>\n",
       "  </tbody>\n",
       "</table>\n",
       "</div>"
      ],
      "text/plain": [
       "   row_id\n",
       "0  200000\n",
       "1  200001\n",
       "2  200002\n",
       "3  200003\n",
       "4  200004"
      ]
     },
     "execution_count": 22,
     "metadata": {},
     "output_type": "execute_result"
    }
   ],
   "source": [
    "df_submission = pd.DataFrame(df_test[\"row_id\"])\n",
    "df_submission.head()"
   ]
  },
  {
   "cell_type": "code",
   "execution_count": 23,
   "id": "786a9ff1",
   "metadata": {
    "execution": {
     "iopub.execute_input": "2022-03-03T16:31:32.536402Z",
     "iopub.status.busy": "2022-03-03T16:31:32.535429Z",
     "iopub.status.idle": "2022-03-03T16:31:32.538831Z",
     "shell.execute_reply": "2022-03-03T16:31:32.538130Z",
     "shell.execute_reply.started": "2022-03-03T16:23:39.833926Z"
    },
    "papermill": {
     "duration": 0.251915,
     "end_time": "2022-03-03T16:31:32.538977",
     "exception": false,
     "start_time": "2022-03-03T16:31:32.287062",
     "status": "completed"
    },
    "tags": []
   },
   "outputs": [],
   "source": [
    "X_test = df_test.drop(columns=\"row_id\")"
   ]
  },
  {
   "cell_type": "code",
   "execution_count": 24,
   "id": "36f9818b",
   "metadata": {
    "execution": {
     "iopub.execute_input": "2022-03-03T16:31:32.860535Z",
     "iopub.status.busy": "2022-03-03T16:31:32.848864Z",
     "iopub.status.idle": "2022-03-03T16:31:33.327943Z",
     "shell.execute_reply": "2022-03-03T16:31:33.328961Z",
     "shell.execute_reply.started": "2022-03-03T16:23:39.952073Z"
    },
    "papermill": {
     "duration": 0.637968,
     "end_time": "2022-03-03T16:31:33.329274",
     "exception": false,
     "start_time": "2022-03-03T16:31:32.691306",
     "status": "completed"
    },
    "tags": []
   },
   "outputs": [
    {
     "data": {
      "text/plain": [
       "(100000, 50)"
      ]
     },
     "execution_count": 24,
     "metadata": {},
     "output_type": "execute_result"
    }
   ],
   "source": [
    "# Standardize test set\n",
    "X_test_st = st_scaler.transform(X_test)\n",
    "X_test_st.shape\n",
    "\n",
    "# PCA transform on test set\n",
    "X_test_pca = pca.transform(X_test_st)\n",
    "X_test_pca.shape"
   ]
  },
  {
   "cell_type": "code",
   "execution_count": 25,
   "id": "321bf61a",
   "metadata": {
    "execution": {
     "iopub.execute_input": "2022-03-03T16:31:33.722421Z",
     "iopub.status.busy": "2022-03-03T16:31:33.721686Z",
     "iopub.status.idle": "2022-03-03T16:31:37.790126Z",
     "shell.execute_reply": "2022-03-03T16:31:37.789532Z",
     "shell.execute_reply.started": "2022-03-03T16:23:40.452085Z"
    },
    "papermill": {
     "duration": 4.240104,
     "end_time": "2022-03-03T16:31:37.790295",
     "exception": false,
     "start_time": "2022-03-03T16:31:33.550191",
     "status": "completed"
    },
    "tags": []
   },
   "outputs": [
    {
     "data": {
      "text/plain": [
       "(100000, 10)"
      ]
     },
     "execution_count": 25,
     "metadata": {},
     "output_type": "execute_result"
    }
   ],
   "source": [
    "Y_test_predicted_p = final_model.predict(X_test_pca)\n",
    "Y_test_predicted_p.shape"
   ]
  },
  {
   "cell_type": "code",
   "execution_count": 26,
   "id": "af769ff5",
   "metadata": {
    "execution": {
     "iopub.execute_input": "2022-03-03T16:31:38.112357Z",
     "iopub.status.busy": "2022-03-03T16:31:38.111507Z",
     "iopub.status.idle": "2022-03-03T16:31:38.123879Z",
     "shell.execute_reply": "2022-03-03T16:31:38.123273Z",
     "shell.execute_reply.started": "2022-03-03T16:23:44.236178Z"
    },
    "papermill": {
     "duration": 0.170772,
     "end_time": "2022-03-03T16:31:38.124020",
     "exception": false,
     "start_time": "2022-03-03T16:31:37.953248",
     "status": "completed"
    },
    "tags": []
   },
   "outputs": [],
   "source": [
    "Y_test_predicted = np.argmax(Y_test_predicted_p, axis=1)\n",
    "Y_test_predicted_labeled = label_encoder.inverse_transform(Y_test_predicted)\n",
    "df_submission[\"target\"] = Y_test_predicted_labeled"
   ]
  },
  {
   "cell_type": "code",
   "execution_count": 27,
   "id": "15cd014e",
   "metadata": {
    "execution": {
     "iopub.execute_input": "2022-03-03T16:31:38.445202Z",
     "iopub.status.busy": "2022-03-03T16:31:38.444489Z",
     "iopub.status.idle": "2022-03-03T16:31:38.451715Z",
     "shell.execute_reply": "2022-03-03T16:31:38.452233Z",
     "shell.execute_reply.started": "2022-03-03T16:23:44.250756Z"
    },
    "papermill": {
     "duration": 0.173376,
     "end_time": "2022-03-03T16:31:38.452404",
     "exception": false,
     "start_time": "2022-03-03T16:31:38.279028",
     "status": "completed"
    },
    "tags": []
   },
   "outputs": [
    {
     "data": {
      "text/html": [
       "<div>\n",
       "<style scoped>\n",
       "    .dataframe tbody tr th:only-of-type {\n",
       "        vertical-align: middle;\n",
       "    }\n",
       "\n",
       "    .dataframe tbody tr th {\n",
       "        vertical-align: top;\n",
       "    }\n",
       "\n",
       "    .dataframe thead th {\n",
       "        text-align: right;\n",
       "    }\n",
       "</style>\n",
       "<table border=\"1\" class=\"dataframe\">\n",
       "  <thead>\n",
       "    <tr style=\"text-align: right;\">\n",
       "      <th></th>\n",
       "      <th>row_id</th>\n",
       "      <th>target</th>\n",
       "    </tr>\n",
       "  </thead>\n",
       "  <tbody>\n",
       "    <tr>\n",
       "      <th>0</th>\n",
       "      <td>200000</td>\n",
       "      <td>Escherichia_fergusonii</td>\n",
       "    </tr>\n",
       "    <tr>\n",
       "      <th>1</th>\n",
       "      <td>200001</td>\n",
       "      <td>Salmonella_enterica</td>\n",
       "    </tr>\n",
       "    <tr>\n",
       "      <th>2</th>\n",
       "      <td>200002</td>\n",
       "      <td>Enterococcus_hirae</td>\n",
       "    </tr>\n",
       "    <tr>\n",
       "      <th>3</th>\n",
       "      <td>200003</td>\n",
       "      <td>Salmonella_enterica</td>\n",
       "    </tr>\n",
       "    <tr>\n",
       "      <th>4</th>\n",
       "      <td>200004</td>\n",
       "      <td>Staphylococcus_aureus</td>\n",
       "    </tr>\n",
       "  </tbody>\n",
       "</table>\n",
       "</div>"
      ],
      "text/plain": [
       "   row_id                  target\n",
       "0  200000  Escherichia_fergusonii\n",
       "1  200001     Salmonella_enterica\n",
       "2  200002      Enterococcus_hirae\n",
       "3  200003     Salmonella_enterica\n",
       "4  200004   Staphylococcus_aureus"
      ]
     },
     "execution_count": 27,
     "metadata": {},
     "output_type": "execute_result"
    }
   ],
   "source": [
    "df_submission.head()"
   ]
  },
  {
   "cell_type": "code",
   "execution_count": 28,
   "id": "83da94ec",
   "metadata": {
    "execution": {
     "iopub.execute_input": "2022-03-03T16:31:38.781632Z",
     "iopub.status.busy": "2022-03-03T16:31:38.780952Z",
     "iopub.status.idle": "2022-03-03T16:31:39.039150Z",
     "shell.execute_reply": "2022-03-03T16:31:39.038430Z",
     "shell.execute_reply.started": "2022-03-03T16:23:44.263549Z"
    },
    "papermill": {
     "duration": 0.418546,
     "end_time": "2022-03-03T16:31:39.039294",
     "exception": false,
     "start_time": "2022-03-03T16:31:38.620748",
     "status": "completed"
    },
    "tags": []
   },
   "outputs": [],
   "source": [
    "df_submission.to_csv(\"submission.csv\", index=False)"
   ]
  },
  {
   "cell_type": "code",
   "execution_count": null,
   "id": "f380d4e7",
   "metadata": {
    "papermill": {
     "duration": 0.151829,
     "end_time": "2022-03-03T16:31:39.344466",
     "exception": false,
     "start_time": "2022-03-03T16:31:39.192637",
     "status": "completed"
    },
    "tags": []
   },
   "outputs": [],
   "source": []
  }
 ],
 "metadata": {
  "kernelspec": {
   "display_name": "Python 3",
   "language": "python",
   "name": "python3"
  },
  "language_info": {
   "codemirror_mode": {
    "name": "ipython",
    "version": 3
   },
   "file_extension": ".py",
   "mimetype": "text/x-python",
   "name": "python",
   "nbconvert_exporter": "python",
   "pygments_lexer": "ipython3",
   "version": "3.7.12"
  },
  "papermill": {
   "default_parameters": {},
   "duration": 106.841435,
   "end_time": "2022-03-03T16:31:42.766285",
   "environment_variables": {},
   "exception": null,
   "input_path": "__notebook__.ipynb",
   "output_path": "__notebook__.ipynb",
   "parameters": {},
   "start_time": "2022-03-03T16:29:55.924850",
   "version": "2.3.3"
  }
 },
 "nbformat": 4,
 "nbformat_minor": 5
}
