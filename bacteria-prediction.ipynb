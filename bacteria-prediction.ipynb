{
 "cells": [
  {
   "cell_type": "code",
   "execution_count": 1,
   "id": "3dc0bb95",
   "metadata": {
    "_cell_guid": "b1076dfc-b9ad-4769-8c92-a6c4dae69d19",
    "_uuid": "8f2839f25d086af736a60e9eeb907d3b93b6e0e5",
    "execution": {
     "iopub.execute_input": "2022-03-02T10:54:55.517966Z",
     "iopub.status.busy": "2022-03-02T10:54:55.512809Z",
     "iopub.status.idle": "2022-03-02T10:54:55.525488Z",
     "shell.execute_reply": "2022-03-02T10:54:55.524918Z",
     "shell.execute_reply.started": "2022-03-02T10:47:52.696694Z"
    },
    "papermill": {
     "duration": 0.024813,
     "end_time": "2022-03-02T10:54:55.525619",
     "exception": false,
     "start_time": "2022-03-02T10:54:55.500806",
     "status": "completed"
    },
    "tags": []
   },
   "outputs": [
    {
     "name": "stdout",
     "output_type": "stream",
     "text": [
      "/kaggle/input/tabular-playground-series-feb-2022/sample_submission.csv\n",
      "/kaggle/input/tabular-playground-series-feb-2022/train.csv\n",
      "/kaggle/input/tabular-playground-series-feb-2022/test.csv\n"
     ]
    }
   ],
   "source": [
    "# This Python 3 environment comes with many helpful analytics libraries installed\n",
    "# It is defined by the kaggle/python Docker image: https://github.com/kaggle/docker-python\n",
    "# For example, here's several helpful packages to load\n",
    "\n",
    "# Input data files are available in the read-only \"../input/\" directory\n",
    "# For example, running this (by clicking run or pressing Shift+Enter) will list all files under the input directory\n",
    "\n",
    "import os\n",
    "for dirname, _, filenames in os.walk('/kaggle/input'):\n",
    "    for filename in filenames:\n",
    "        print(os.path.join(dirname, filename))\n",
    "\n",
    "# You can write up to 20GB to the current directory (/kaggle/working/) that gets preserved as output when you create a version using \"Save & Run All\" \n",
    "# You can also write temporary files to /kaggle/temp/, but they won't be saved outside of the current session"
   ]
  },
  {
   "cell_type": "code",
   "execution_count": 2,
   "id": "9ac09bcd",
   "metadata": {
    "execution": {
     "iopub.execute_input": "2022-03-02T10:54:55.535793Z",
     "iopub.status.busy": "2022-03-02T10:54:55.535241Z",
     "iopub.status.idle": "2022-03-02T10:54:55.538647Z",
     "shell.execute_reply": "2022-03-02T10:54:55.539084Z",
     "shell.execute_reply.started": "2022-03-02T10:52:43.109054Z"
    },
    "papermill": {
     "duration": 0.009622,
     "end_time": "2022-03-02T10:54:55.539241",
     "exception": false,
     "start_time": "2022-03-02T10:54:55.529619",
     "status": "completed"
    },
    "tags": []
   },
   "outputs": [],
   "source": [
    "# Imports\n",
    "import numpy as np\n",
    "import pandas as pd"
   ]
  }
 ],
 "metadata": {
  "kernelspec": {
   "display_name": "Python 3",
   "language": "python",
   "name": "python3"
  },
  "language_info": {
   "codemirror_mode": {
    "name": "ipython",
    "version": 3
   },
   "file_extension": ".py",
   "mimetype": "text/x-python",
   "name": "python",
   "nbconvert_exporter": "python",
   "pygments_lexer": "ipython3",
   "version": "3.7.12"
  },
  "papermill": {
   "default_parameters": {},
   "duration": 9.599586,
   "end_time": "2022-03-02T10:54:56.352973",
   "environment_variables": {},
   "exception": null,
   "input_path": "__notebook__.ipynb",
   "output_path": "__notebook__.ipynb",
   "parameters": {},
   "start_time": "2022-03-02T10:54:46.753387",
   "version": "2.3.3"
  }
 },
 "nbformat": 4,
 "nbformat_minor": 5
}
