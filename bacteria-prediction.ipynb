{
 "cells": [
  {
   "cell_type": "markdown",
   "id": "ef239288",
   "metadata": {
    "_cell_guid": "b1076dfc-b9ad-4769-8c92-a6c4dae69d19",
    "_uuid": "8f2839f25d086af736a60e9eeb907d3b93b6e0e5",
    "execution": {
     "iopub.execute_input": "2022-03-02T14:33:46.222715Z",
     "iopub.status.busy": "2022-03-02T14:33:46.221872Z",
     "iopub.status.idle": "2022-03-02T14:33:46.251698Z",
     "shell.execute_reply": "2022-03-02T14:33:46.250819Z",
     "shell.execute_reply.started": "2022-03-02T14:33:46.222522Z"
    },
    "papermill": {
     "duration": 0.045223,
     "end_time": "2022-03-04T16:20:09.757018",
     "exception": false,
     "start_time": "2022-03-04T16:20:09.711795",
     "status": "completed"
    },
    "tags": []
   },
   "source": [
    "# **Bacteria Prediction**"
   ]
  },
  {
   "cell_type": "markdown",
   "id": "86b45ff5",
   "metadata": {
    "papermill": {
     "duration": 0.04518,
     "end_time": "2022-03-04T16:20:09.844962",
     "exception": false,
     "start_time": "2022-03-04T16:20:09.799782",
     "status": "completed"
    },
    "tags": []
   },
   "source": [
    "## **Data Loading**"
   ]
  },
  {
   "cell_type": "code",
   "execution_count": 1,
   "id": "005542fb",
   "metadata": {
    "execution": {
     "iopub.execute_input": "2022-03-04T16:20:09.934962Z",
     "iopub.status.busy": "2022-03-04T16:20:09.933846Z",
     "iopub.status.idle": "2022-03-04T16:20:09.941587Z",
     "shell.execute_reply": "2022-03-04T16:20:09.941988Z",
     "shell.execute_reply.started": "2022-03-04T16:13:50.871382Z"
    },
    "papermill": {
     "duration": 0.054051,
     "end_time": "2022-03-04T16:20:09.942183",
     "exception": false,
     "start_time": "2022-03-04T16:20:09.888132",
     "status": "completed"
    },
    "tags": []
   },
   "outputs": [],
   "source": [
    "import os\n",
    "import numpy as np\n",
    "import pandas as pd\n",
    "\n",
    "# Global variables\n",
    "random_seed = 42"
   ]
  },
  {
   "cell_type": "code",
   "execution_count": 2,
   "id": "e38006ad",
   "metadata": {
    "execution": {
     "iopub.execute_input": "2022-03-04T16:20:10.032237Z",
     "iopub.status.busy": "2022-03-04T16:20:10.031742Z",
     "iopub.status.idle": "2022-03-04T16:20:10.037723Z",
     "shell.execute_reply": "2022-03-04T16:20:10.038191Z",
     "shell.execute_reply.started": "2022-03-04T16:13:50.900455Z"
    },
    "papermill": {
     "duration": 0.051918,
     "end_time": "2022-03-04T16:20:10.038317",
     "exception": false,
     "start_time": "2022-03-04T16:20:09.986399",
     "status": "completed"
    },
    "tags": []
   },
   "outputs": [
    {
     "name": "stdout",
     "output_type": "stream",
     "text": [
      "/kaggle/input/tabular-playground-series-feb-2022/sample_submission.csv\n",
      "/kaggle/input/tabular-playground-series-feb-2022/train.csv\n",
      "/kaggle/input/tabular-playground-series-feb-2022/test.csv\n"
     ]
    }
   ],
   "source": [
    "# Print directory structure\n",
    "for dirname, _, filenames in os.walk('/kaggle/input'):\n",
    "    for filename in filenames:\n",
    "        print(os.path.join(dirname, filename))"
   ]
  },
  {
   "cell_type": "code",
   "execution_count": 3,
   "id": "b44748bb",
   "metadata": {
    "execution": {
     "iopub.execute_input": "2022-03-04T16:20:10.127522Z",
     "iopub.status.busy": "2022-03-04T16:20:10.127047Z",
     "iopub.status.idle": "2022-03-04T16:20:34.596861Z",
     "shell.execute_reply": "2022-03-04T16:20:34.595848Z",
     "shell.execute_reply.started": "2022-03-04T16:13:50.909709Z"
    },
    "papermill": {
     "duration": 24.514547,
     "end_time": "2022-03-04T16:20:34.597014",
     "exception": false,
     "start_time": "2022-03-04T16:20:10.082467",
     "status": "completed"
    },
    "tags": []
   },
   "outputs": [],
   "source": [
    "# Load training set\n",
    "df = pd.read_csv(\"/kaggle/input/tabular-playground-series-feb-2022/train.csv\")"
   ]
  },
  {
   "cell_type": "markdown",
   "id": "2aa8a703",
   "metadata": {
    "papermill": {
     "duration": 0.042765,
     "end_time": "2022-03-04T16:20:34.684227",
     "exception": false,
     "start_time": "2022-03-04T16:20:34.641462",
     "status": "completed"
    },
    "tags": []
   },
   "source": [
    "## **Data Analysis**"
   ]
  },
  {
   "cell_type": "code",
   "execution_count": 4,
   "id": "9167b28a",
   "metadata": {
    "execution": {
     "iopub.execute_input": "2022-03-04T16:20:34.779892Z",
     "iopub.status.busy": "2022-03-04T16:20:34.779166Z",
     "iopub.status.idle": "2022-03-04T16:20:34.782486Z",
     "shell.execute_reply": "2022-03-04T16:20:34.782943Z",
     "shell.execute_reply.started": "2022-03-04T16:14:17.274724Z"
    },
    "papermill": {
     "duration": 0.05517,
     "end_time": "2022-03-04T16:20:34.783070",
     "exception": false,
     "start_time": "2022-03-04T16:20:34.727900",
     "status": "completed"
    },
    "tags": []
   },
   "outputs": [
    {
     "data": {
      "text/plain": [
       "(200000, 288)"
      ]
     },
     "execution_count": 4,
     "metadata": {},
     "output_type": "execute_result"
    }
   ],
   "source": [
    "df.shape"
   ]
  },
  {
   "cell_type": "code",
   "execution_count": 5,
   "id": "836b375f",
   "metadata": {
    "execution": {
     "iopub.execute_input": "2022-03-04T16:20:34.876637Z",
     "iopub.status.busy": "2022-03-04T16:20:34.875782Z",
     "iopub.status.idle": "2022-03-04T16:20:34.907182Z",
     "shell.execute_reply": "2022-03-04T16:20:34.907930Z",
     "shell.execute_reply.started": "2022-03-04T16:14:17.285197Z"
    },
    "papermill": {
     "duration": 0.080592,
     "end_time": "2022-03-04T16:20:34.908128",
     "exception": false,
     "start_time": "2022-03-04T16:20:34.827536",
     "status": "completed"
    },
    "tags": []
   },
   "outputs": [
    {
     "data": {
      "text/html": [
       "<div>\n",
       "<style scoped>\n",
       "    .dataframe tbody tr th:only-of-type {\n",
       "        vertical-align: middle;\n",
       "    }\n",
       "\n",
       "    .dataframe tbody tr th {\n",
       "        vertical-align: top;\n",
       "    }\n",
       "\n",
       "    .dataframe thead th {\n",
       "        text-align: right;\n",
       "    }\n",
       "</style>\n",
       "<table border=\"1\" class=\"dataframe\">\n",
       "  <thead>\n",
       "    <tr style=\"text-align: right;\">\n",
       "      <th></th>\n",
       "      <th>row_id</th>\n",
       "      <th>A0T0G0C10</th>\n",
       "      <th>A0T0G1C9</th>\n",
       "      <th>A0T0G2C8</th>\n",
       "      <th>A0T0G3C7</th>\n",
       "      <th>A0T0G4C6</th>\n",
       "      <th>A0T0G5C5</th>\n",
       "      <th>A0T0G6C4</th>\n",
       "      <th>A0T0G7C3</th>\n",
       "      <th>A0T0G8C2</th>\n",
       "      <th>...</th>\n",
       "      <th>A8T0G1C1</th>\n",
       "      <th>A8T0G2C0</th>\n",
       "      <th>A8T1G0C1</th>\n",
       "      <th>A8T1G1C0</th>\n",
       "      <th>A8T2G0C0</th>\n",
       "      <th>A9T0G0C1</th>\n",
       "      <th>A9T0G1C0</th>\n",
       "      <th>A9T1G0C0</th>\n",
       "      <th>A10T0G0C0</th>\n",
       "      <th>target</th>\n",
       "    </tr>\n",
       "  </thead>\n",
       "  <tbody>\n",
       "    <tr>\n",
       "      <th>0</th>\n",
       "      <td>0</td>\n",
       "      <td>-9.536743e-07</td>\n",
       "      <td>-0.000010</td>\n",
       "      <td>-0.000043</td>\n",
       "      <td>-0.000114</td>\n",
       "      <td>-0.000200</td>\n",
       "      <td>-0.000240</td>\n",
       "      <td>-0.000200</td>\n",
       "      <td>-0.000114</td>\n",
       "      <td>-0.000043</td>\n",
       "      <td>...</td>\n",
       "      <td>-0.000086</td>\n",
       "      <td>-0.000043</td>\n",
       "      <td>-0.000086</td>\n",
       "      <td>-0.000086</td>\n",
       "      <td>-0.000043</td>\n",
       "      <td>-0.000010</td>\n",
       "      <td>-0.000010</td>\n",
       "      <td>-0.000010</td>\n",
       "      <td>-9.536743e-07</td>\n",
       "      <td>Streptococcus_pyogenes</td>\n",
       "    </tr>\n",
       "    <tr>\n",
       "      <th>1</th>\n",
       "      <td>1</td>\n",
       "      <td>-9.536743e-07</td>\n",
       "      <td>-0.000010</td>\n",
       "      <td>-0.000043</td>\n",
       "      <td>0.000886</td>\n",
       "      <td>-0.000200</td>\n",
       "      <td>0.000760</td>\n",
       "      <td>-0.000200</td>\n",
       "      <td>-0.000114</td>\n",
       "      <td>-0.000043</td>\n",
       "      <td>...</td>\n",
       "      <td>-0.000086</td>\n",
       "      <td>-0.000043</td>\n",
       "      <td>0.000914</td>\n",
       "      <td>0.000914</td>\n",
       "      <td>-0.000043</td>\n",
       "      <td>-0.000010</td>\n",
       "      <td>-0.000010</td>\n",
       "      <td>-0.000010</td>\n",
       "      <td>-9.536743e-07</td>\n",
       "      <td>Salmonella_enterica</td>\n",
       "    </tr>\n",
       "    <tr>\n",
       "      <th>2</th>\n",
       "      <td>2</td>\n",
       "      <td>-9.536743e-07</td>\n",
       "      <td>-0.000002</td>\n",
       "      <td>0.000007</td>\n",
       "      <td>0.000129</td>\n",
       "      <td>0.000268</td>\n",
       "      <td>0.000270</td>\n",
       "      <td>0.000243</td>\n",
       "      <td>0.000125</td>\n",
       "      <td>0.000001</td>\n",
       "      <td>...</td>\n",
       "      <td>0.000084</td>\n",
       "      <td>0.000048</td>\n",
       "      <td>0.000081</td>\n",
       "      <td>0.000106</td>\n",
       "      <td>0.000072</td>\n",
       "      <td>0.000010</td>\n",
       "      <td>0.000008</td>\n",
       "      <td>0.000019</td>\n",
       "      <td>1.046326e-06</td>\n",
       "      <td>Salmonella_enterica</td>\n",
       "    </tr>\n",
       "    <tr>\n",
       "      <th>3</th>\n",
       "      <td>3</td>\n",
       "      <td>4.632568e-08</td>\n",
       "      <td>-0.000006</td>\n",
       "      <td>0.000012</td>\n",
       "      <td>0.000245</td>\n",
       "      <td>0.000492</td>\n",
       "      <td>0.000522</td>\n",
       "      <td>0.000396</td>\n",
       "      <td>0.000197</td>\n",
       "      <td>-0.000003</td>\n",
       "      <td>...</td>\n",
       "      <td>0.000151</td>\n",
       "      <td>0.000100</td>\n",
       "      <td>0.000180</td>\n",
       "      <td>0.000202</td>\n",
       "      <td>0.000153</td>\n",
       "      <td>0.000021</td>\n",
       "      <td>0.000015</td>\n",
       "      <td>0.000046</td>\n",
       "      <td>-9.536743e-07</td>\n",
       "      <td>Salmonella_enterica</td>\n",
       "    </tr>\n",
       "    <tr>\n",
       "      <th>4</th>\n",
       "      <td>4</td>\n",
       "      <td>-9.536743e-07</td>\n",
       "      <td>-0.000010</td>\n",
       "      <td>-0.000043</td>\n",
       "      <td>-0.000114</td>\n",
       "      <td>-0.000200</td>\n",
       "      <td>-0.000240</td>\n",
       "      <td>-0.000200</td>\n",
       "      <td>-0.000114</td>\n",
       "      <td>-0.000043</td>\n",
       "      <td>...</td>\n",
       "      <td>-0.000086</td>\n",
       "      <td>-0.000043</td>\n",
       "      <td>-0.000086</td>\n",
       "      <td>-0.000086</td>\n",
       "      <td>-0.000043</td>\n",
       "      <td>-0.000010</td>\n",
       "      <td>-0.000010</td>\n",
       "      <td>-0.000010</td>\n",
       "      <td>-9.536743e-07</td>\n",
       "      <td>Enterococcus_hirae</td>\n",
       "    </tr>\n",
       "  </tbody>\n",
       "</table>\n",
       "<p>5 rows × 288 columns</p>\n",
       "</div>"
      ],
      "text/plain": [
       "   row_id     A0T0G0C10  A0T0G1C9  A0T0G2C8  A0T0G3C7  A0T0G4C6  A0T0G5C5  \\\n",
       "0       0 -9.536743e-07 -0.000010 -0.000043 -0.000114 -0.000200 -0.000240   \n",
       "1       1 -9.536743e-07 -0.000010 -0.000043  0.000886 -0.000200  0.000760   \n",
       "2       2 -9.536743e-07 -0.000002  0.000007  0.000129  0.000268  0.000270   \n",
       "3       3  4.632568e-08 -0.000006  0.000012  0.000245  0.000492  0.000522   \n",
       "4       4 -9.536743e-07 -0.000010 -0.000043 -0.000114 -0.000200 -0.000240   \n",
       "\n",
       "   A0T0G6C4  A0T0G7C3  A0T0G8C2  ...  A8T0G1C1  A8T0G2C0  A8T1G0C1  A8T1G1C0  \\\n",
       "0 -0.000200 -0.000114 -0.000043  ... -0.000086 -0.000043 -0.000086 -0.000086   \n",
       "1 -0.000200 -0.000114 -0.000043  ... -0.000086 -0.000043  0.000914  0.000914   \n",
       "2  0.000243  0.000125  0.000001  ...  0.000084  0.000048  0.000081  0.000106   \n",
       "3  0.000396  0.000197 -0.000003  ...  0.000151  0.000100  0.000180  0.000202   \n",
       "4 -0.000200 -0.000114 -0.000043  ... -0.000086 -0.000043 -0.000086 -0.000086   \n",
       "\n",
       "   A8T2G0C0  A9T0G0C1  A9T0G1C0  A9T1G0C0     A10T0G0C0  \\\n",
       "0 -0.000043 -0.000010 -0.000010 -0.000010 -9.536743e-07   \n",
       "1 -0.000043 -0.000010 -0.000010 -0.000010 -9.536743e-07   \n",
       "2  0.000072  0.000010  0.000008  0.000019  1.046326e-06   \n",
       "3  0.000153  0.000021  0.000015  0.000046 -9.536743e-07   \n",
       "4 -0.000043 -0.000010 -0.000010 -0.000010 -9.536743e-07   \n",
       "\n",
       "                   target  \n",
       "0  Streptococcus_pyogenes  \n",
       "1     Salmonella_enterica  \n",
       "2     Salmonella_enterica  \n",
       "3     Salmonella_enterica  \n",
       "4      Enterococcus_hirae  \n",
       "\n",
       "[5 rows x 288 columns]"
      ]
     },
     "execution_count": 5,
     "metadata": {},
     "output_type": "execute_result"
    }
   ],
   "source": [
    "df.head()"
   ]
  },
  {
   "cell_type": "code",
   "execution_count": 6,
   "id": "be2868c6",
   "metadata": {
    "execution": {
     "iopub.execute_input": "2022-03-04T16:20:35.015344Z",
     "iopub.status.busy": "2022-03-04T16:20:35.014575Z",
     "iopub.status.idle": "2022-03-04T16:20:35.018133Z",
     "shell.execute_reply": "2022-03-04T16:20:35.017584Z",
     "shell.execute_reply.started": "2022-03-04T16:14:17.337515Z"
    },
    "papermill": {
     "duration": 0.054904,
     "end_time": "2022-03-04T16:20:35.018246",
     "exception": false,
     "start_time": "2022-03-04T16:20:34.963342",
     "status": "completed"
    },
    "tags": []
   },
   "outputs": [
    {
     "data": {
      "text/plain": [
       "row_id         int64\n",
       "A0T0G0C10    float64\n",
       "A0T0G1C9     float64\n",
       "A0T0G2C8     float64\n",
       "A0T0G3C7     float64\n",
       "              ...   \n",
       "A9T0G0C1     float64\n",
       "A9T0G1C0     float64\n",
       "A9T1G0C0     float64\n",
       "A10T0G0C0    float64\n",
       "target        object\n",
       "Length: 288, dtype: object"
      ]
     },
     "execution_count": 6,
     "metadata": {},
     "output_type": "execute_result"
    }
   ],
   "source": [
    "df.dtypes"
   ]
  },
  {
   "cell_type": "code",
   "execution_count": 7,
   "id": "f2339ca4",
   "metadata": {
    "execution": {
     "iopub.execute_input": "2022-03-04T16:20:35.111698Z",
     "iopub.status.busy": "2022-03-04T16:20:35.111091Z",
     "iopub.status.idle": "2022-03-04T16:20:35.278594Z",
     "shell.execute_reply": "2022-03-04T16:20:35.279053Z",
     "shell.execute_reply.started": "2022-03-04T16:14:17.349920Z"
    },
    "papermill": {
     "duration": 0.21574,
     "end_time": "2022-03-04T16:20:35.279203",
     "exception": false,
     "start_time": "2022-03-04T16:20:35.063463",
     "status": "completed"
    },
    "tags": []
   },
   "outputs": [
    {
     "data": {
      "text/plain": [
       "(200000, 287)"
      ]
     },
     "execution_count": 7,
     "metadata": {},
     "output_type": "execute_result"
    }
   ],
   "source": [
    "# We drop the row_id column because we will not use it\n",
    "df.drop(columns=[\"row_id\"], inplace=True)\n",
    "df.shape"
   ]
  },
  {
   "cell_type": "code",
   "execution_count": 8,
   "id": "a737d628",
   "metadata": {
    "execution": {
     "iopub.execute_input": "2022-03-04T16:20:35.376646Z",
     "iopub.status.busy": "2022-03-04T16:20:35.375445Z",
     "iopub.status.idle": "2022-03-04T16:20:35.510381Z",
     "shell.execute_reply": "2022-03-04T16:20:35.510804Z",
     "shell.execute_reply.started": "2022-03-04T16:14:17.597757Z"
    },
    "papermill": {
     "duration": 0.185522,
     "end_time": "2022-03-04T16:20:35.510973",
     "exception": false,
     "start_time": "2022-03-04T16:20:35.325451",
     "status": "completed"
    },
    "tags": []
   },
   "outputs": [
    {
     "data": {
      "text/plain": [
       "False"
      ]
     },
     "execution_count": 8,
     "metadata": {},
     "output_type": "execute_result"
    }
   ],
   "source": [
    "# Check the presence of null values\n",
    "df.isnull().values.any()"
   ]
  },
  {
   "cell_type": "code",
   "execution_count": 9,
   "id": "ea74fb38",
   "metadata": {
    "execution": {
     "iopub.execute_input": "2022-03-04T16:20:35.608729Z",
     "iopub.status.busy": "2022-03-04T16:20:35.607757Z",
     "iopub.status.idle": "2022-03-04T16:20:35.765943Z",
     "shell.execute_reply": "2022-03-04T16:20:35.765470Z",
     "shell.execute_reply.started": "2022-03-04T16:14:17.796170Z"
    },
    "papermill": {
     "duration": 0.208603,
     "end_time": "2022-03-04T16:20:35.766067",
     "exception": false,
     "start_time": "2022-03-04T16:20:35.557464",
     "status": "completed"
    },
    "tags": []
   },
   "outputs": [
    {
     "data": {
      "text/plain": [
       "True"
      ]
     },
     "execution_count": 9,
     "metadata": {},
     "output_type": "execute_result"
    }
   ],
   "source": [
    "# Check that all the values in the dataframe are not equal to zero\n",
    "df.all().all()"
   ]
  },
  {
   "cell_type": "markdown",
   "id": "d44945ca",
   "metadata": {
    "papermill": {
     "duration": 0.046231,
     "end_time": "2022-03-04T16:20:35.857878",
     "exception": false,
     "start_time": "2022-03-04T16:20:35.811647",
     "status": "completed"
    },
    "tags": []
   },
   "source": [
    "As we have seen, in the dataframe there aren't null or 0 values."
   ]
  },
  {
   "cell_type": "code",
   "execution_count": 10,
   "id": "13d73b9b",
   "metadata": {
    "execution": {
     "iopub.execute_input": "2022-03-04T16:20:36.115576Z",
     "iopub.status.busy": "2022-03-04T16:20:36.114970Z",
     "iopub.status.idle": "2022-03-04T16:20:38.453256Z",
     "shell.execute_reply": "2022-03-04T16:20:38.452746Z",
     "shell.execute_reply.started": "2022-03-04T16:14:18.032164Z"
    },
    "papermill": {
     "duration": 2.548492,
     "end_time": "2022-03-04T16:20:38.453395",
     "exception": false,
     "start_time": "2022-03-04T16:20:35.904903",
     "status": "completed"
    },
    "tags": []
   },
   "outputs": [
    {
     "data": {
      "text/html": [
       "<div>\n",
       "<style scoped>\n",
       "    .dataframe tbody tr th:only-of-type {\n",
       "        vertical-align: middle;\n",
       "    }\n",
       "\n",
       "    .dataframe tbody tr th {\n",
       "        vertical-align: top;\n",
       "    }\n",
       "\n",
       "    .dataframe thead th {\n",
       "        text-align: right;\n",
       "    }\n",
       "</style>\n",
       "<table border=\"1\" class=\"dataframe\">\n",
       "  <thead>\n",
       "    <tr style=\"text-align: right;\">\n",
       "      <th></th>\n",
       "      <th>A0T0G0C10</th>\n",
       "      <th>A0T0G1C9</th>\n",
       "      <th>A0T0G2C8</th>\n",
       "      <th>A0T0G3C7</th>\n",
       "      <th>A0T0G4C6</th>\n",
       "      <th>A0T0G5C5</th>\n",
       "      <th>A0T0G6C4</th>\n",
       "      <th>A0T0G7C3</th>\n",
       "      <th>A0T0G8C2</th>\n",
       "      <th>A0T0G9C1</th>\n",
       "      <th>...</th>\n",
       "      <th>A8T0G0C2</th>\n",
       "      <th>A8T0G1C1</th>\n",
       "      <th>A8T0G2C0</th>\n",
       "      <th>A8T1G0C1</th>\n",
       "      <th>A8T1G1C0</th>\n",
       "      <th>A8T2G0C0</th>\n",
       "      <th>A9T0G0C1</th>\n",
       "      <th>A9T0G1C0</th>\n",
       "      <th>A9T1G0C0</th>\n",
       "      <th>A10T0G0C0</th>\n",
       "    </tr>\n",
       "  </thead>\n",
       "  <tbody>\n",
       "    <tr>\n",
       "      <th>count</th>\n",
       "      <td>2.000000e+05</td>\n",
       "      <td>200000.000000</td>\n",
       "      <td>200000.000000</td>\n",
       "      <td>200000.000000</td>\n",
       "      <td>200000.000000</td>\n",
       "      <td>200000.000000</td>\n",
       "      <td>200000.000000</td>\n",
       "      <td>200000.000000</td>\n",
       "      <td>200000.000000</td>\n",
       "      <td>200000.000000</td>\n",
       "      <td>...</td>\n",
       "      <td>200000.000000</td>\n",
       "      <td>200000.000000</td>\n",
       "      <td>200000.000000</td>\n",
       "      <td>200000.000000</td>\n",
       "      <td>200000.000000</td>\n",
       "      <td>200000.000000</td>\n",
       "      <td>200000.000000</td>\n",
       "      <td>2.000000e+05</td>\n",
       "      <td>2.000000e+05</td>\n",
       "      <td>2.000000e+05</td>\n",
       "    </tr>\n",
       "    <tr>\n",
       "      <th>mean</th>\n",
       "      <td>6.421457e-07</td>\n",
       "      <td>-0.000003</td>\n",
       "      <td>-0.000014</td>\n",
       "      <td>-0.000010</td>\n",
       "      <td>0.000005</td>\n",
       "      <td>0.000025</td>\n",
       "      <td>0.000014</td>\n",
       "      <td>-0.000009</td>\n",
       "      <td>-0.000028</td>\n",
       "      <td>-0.000008</td>\n",
       "      <td>...</td>\n",
       "      <td>0.000135</td>\n",
       "      <td>0.000348</td>\n",
       "      <td>0.000253</td>\n",
       "      <td>0.000464</td>\n",
       "      <td>0.000581</td>\n",
       "      <td>0.000379</td>\n",
       "      <td>0.000062</td>\n",
       "      <td>8.982134e-05</td>\n",
       "      <td>1.170014e-04</td>\n",
       "      <td>2.215407e-07</td>\n",
       "    </tr>\n",
       "    <tr>\n",
       "      <th>std</th>\n",
       "      <td>8.654927e-05</td>\n",
       "      <td>0.000132</td>\n",
       "      <td>0.000287</td>\n",
       "      <td>0.000436</td>\n",
       "      <td>0.000683</td>\n",
       "      <td>0.000869</td>\n",
       "      <td>0.000775</td>\n",
       "      <td>0.000441</td>\n",
       "      <td>0.000107</td>\n",
       "      <td>0.000083</td>\n",
       "      <td>...</td>\n",
       "      <td>0.000711</td>\n",
       "      <td>0.001117</td>\n",
       "      <td>0.000914</td>\n",
       "      <td>0.001238</td>\n",
       "      <td>0.001528</td>\n",
       "      <td>0.001182</td>\n",
       "      <td>0.000466</td>\n",
       "      <td>5.475606e-04</td>\n",
       "      <td>6.788277e-04</td>\n",
       "      <td>2.050081e-05</td>\n",
       "    </tr>\n",
       "    <tr>\n",
       "      <th>min</th>\n",
       "      <td>-9.536743e-07</td>\n",
       "      <td>-0.000010</td>\n",
       "      <td>-0.000043</td>\n",
       "      <td>-0.000114</td>\n",
       "      <td>-0.000200</td>\n",
       "      <td>-0.000240</td>\n",
       "      <td>-0.000200</td>\n",
       "      <td>-0.000114</td>\n",
       "      <td>-0.000043</td>\n",
       "      <td>-0.000010</td>\n",
       "      <td>...</td>\n",
       "      <td>-0.000043</td>\n",
       "      <td>-0.000086</td>\n",
       "      <td>-0.000043</td>\n",
       "      <td>-0.000086</td>\n",
       "      <td>-0.000086</td>\n",
       "      <td>-0.000043</td>\n",
       "      <td>-0.000010</td>\n",
       "      <td>-9.536743e-06</td>\n",
       "      <td>-9.536743e-06</td>\n",
       "      <td>-9.536743e-07</td>\n",
       "    </tr>\n",
       "    <tr>\n",
       "      <th>25%</th>\n",
       "      <td>-9.536743e-07</td>\n",
       "      <td>-0.000010</td>\n",
       "      <td>-0.000043</td>\n",
       "      <td>-0.000114</td>\n",
       "      <td>-0.000200</td>\n",
       "      <td>-0.000240</td>\n",
       "      <td>-0.000200</td>\n",
       "      <td>-0.000114</td>\n",
       "      <td>-0.000043</td>\n",
       "      <td>-0.000010</td>\n",
       "      <td>...</td>\n",
       "      <td>-0.000043</td>\n",
       "      <td>-0.000086</td>\n",
       "      <td>-0.000043</td>\n",
       "      <td>-0.000086</td>\n",
       "      <td>-0.000086</td>\n",
       "      <td>-0.000043</td>\n",
       "      <td>-0.000010</td>\n",
       "      <td>-9.536743e-06</td>\n",
       "      <td>-9.536743e-06</td>\n",
       "      <td>-9.536743e-07</td>\n",
       "    </tr>\n",
       "    <tr>\n",
       "      <th>50%</th>\n",
       "      <td>-9.536743e-07</td>\n",
       "      <td>-0.000010</td>\n",
       "      <td>-0.000043</td>\n",
       "      <td>-0.000114</td>\n",
       "      <td>-0.000200</td>\n",
       "      <td>-0.000237</td>\n",
       "      <td>-0.000199</td>\n",
       "      <td>-0.000114</td>\n",
       "      <td>-0.000043</td>\n",
       "      <td>-0.000010</td>\n",
       "      <td>...</td>\n",
       "      <td>0.000014</td>\n",
       "      <td>0.000064</td>\n",
       "      <td>0.000047</td>\n",
       "      <td>0.000124</td>\n",
       "      <td>0.000114</td>\n",
       "      <td>0.000043</td>\n",
       "      <td>-0.000010</td>\n",
       "      <td>4.632568e-07</td>\n",
       "      <td>4.632568e-07</td>\n",
       "      <td>-9.536743e-07</td>\n",
       "    </tr>\n",
       "    <tr>\n",
       "      <th>75%</th>\n",
       "      <td>-9.536743e-07</td>\n",
       "      <td>-0.000003</td>\n",
       "      <td>-0.000013</td>\n",
       "      <td>-0.000004</td>\n",
       "      <td>-0.000011</td>\n",
       "      <td>0.000003</td>\n",
       "      <td>-0.000030</td>\n",
       "      <td>0.000004</td>\n",
       "      <td>-0.000028</td>\n",
       "      <td>-0.000010</td>\n",
       "      <td>...</td>\n",
       "      <td>0.000111</td>\n",
       "      <td>0.000463</td>\n",
       "      <td>0.000297</td>\n",
       "      <td>0.000684</td>\n",
       "      <td>0.000774</td>\n",
       "      <td>0.000365</td>\n",
       "      <td>0.000030</td>\n",
       "      <td>6.046326e-05</td>\n",
       "      <td>6.946326e-05</td>\n",
       "      <td>-9.536743e-07</td>\n",
       "    </tr>\n",
       "    <tr>\n",
       "      <th>max</th>\n",
       "      <td>9.999046e-03</td>\n",
       "      <td>0.009990</td>\n",
       "      <td>0.009957</td>\n",
       "      <td>0.009886</td>\n",
       "      <td>0.019800</td>\n",
       "      <td>0.019760</td>\n",
       "      <td>0.019800</td>\n",
       "      <td>0.009886</td>\n",
       "      <td>0.009957</td>\n",
       "      <td>0.009990</td>\n",
       "      <td>...</td>\n",
       "      <td>0.019957</td>\n",
       "      <td>0.019914</td>\n",
       "      <td>0.019957</td>\n",
       "      <td>0.019914</td>\n",
       "      <td>0.019914</td>\n",
       "      <td>0.019957</td>\n",
       "      <td>0.009990</td>\n",
       "      <td>9.990463e-03</td>\n",
       "      <td>1.999046e-02</td>\n",
       "      <td>9.990463e-04</td>\n",
       "    </tr>\n",
       "  </tbody>\n",
       "</table>\n",
       "<p>8 rows × 286 columns</p>\n",
       "</div>"
      ],
      "text/plain": [
       "          A0T0G0C10       A0T0G1C9       A0T0G2C8       A0T0G3C7  \\\n",
       "count  2.000000e+05  200000.000000  200000.000000  200000.000000   \n",
       "mean   6.421457e-07      -0.000003      -0.000014      -0.000010   \n",
       "std    8.654927e-05       0.000132       0.000287       0.000436   \n",
       "min   -9.536743e-07      -0.000010      -0.000043      -0.000114   \n",
       "25%   -9.536743e-07      -0.000010      -0.000043      -0.000114   \n",
       "50%   -9.536743e-07      -0.000010      -0.000043      -0.000114   \n",
       "75%   -9.536743e-07      -0.000003      -0.000013      -0.000004   \n",
       "max    9.999046e-03       0.009990       0.009957       0.009886   \n",
       "\n",
       "            A0T0G4C6       A0T0G5C5       A0T0G6C4       A0T0G7C3  \\\n",
       "count  200000.000000  200000.000000  200000.000000  200000.000000   \n",
       "mean        0.000005       0.000025       0.000014      -0.000009   \n",
       "std         0.000683       0.000869       0.000775       0.000441   \n",
       "min        -0.000200      -0.000240      -0.000200      -0.000114   \n",
       "25%        -0.000200      -0.000240      -0.000200      -0.000114   \n",
       "50%        -0.000200      -0.000237      -0.000199      -0.000114   \n",
       "75%        -0.000011       0.000003      -0.000030       0.000004   \n",
       "max         0.019800       0.019760       0.019800       0.009886   \n",
       "\n",
       "            A0T0G8C2       A0T0G9C1  ...       A8T0G0C2       A8T0G1C1  \\\n",
       "count  200000.000000  200000.000000  ...  200000.000000  200000.000000   \n",
       "mean       -0.000028      -0.000008  ...       0.000135       0.000348   \n",
       "std         0.000107       0.000083  ...       0.000711       0.001117   \n",
       "min        -0.000043      -0.000010  ...      -0.000043      -0.000086   \n",
       "25%        -0.000043      -0.000010  ...      -0.000043      -0.000086   \n",
       "50%        -0.000043      -0.000010  ...       0.000014       0.000064   \n",
       "75%        -0.000028      -0.000010  ...       0.000111       0.000463   \n",
       "max         0.009957       0.009990  ...       0.019957       0.019914   \n",
       "\n",
       "            A8T0G2C0       A8T1G0C1       A8T1G1C0       A8T2G0C0  \\\n",
       "count  200000.000000  200000.000000  200000.000000  200000.000000   \n",
       "mean        0.000253       0.000464       0.000581       0.000379   \n",
       "std         0.000914       0.001238       0.001528       0.001182   \n",
       "min        -0.000043      -0.000086      -0.000086      -0.000043   \n",
       "25%        -0.000043      -0.000086      -0.000086      -0.000043   \n",
       "50%         0.000047       0.000124       0.000114       0.000043   \n",
       "75%         0.000297       0.000684       0.000774       0.000365   \n",
       "max         0.019957       0.019914       0.019914       0.019957   \n",
       "\n",
       "            A9T0G0C1      A9T0G1C0      A9T1G0C0     A10T0G0C0  \n",
       "count  200000.000000  2.000000e+05  2.000000e+05  2.000000e+05  \n",
       "mean        0.000062  8.982134e-05  1.170014e-04  2.215407e-07  \n",
       "std         0.000466  5.475606e-04  6.788277e-04  2.050081e-05  \n",
       "min        -0.000010 -9.536743e-06 -9.536743e-06 -9.536743e-07  \n",
       "25%        -0.000010 -9.536743e-06 -9.536743e-06 -9.536743e-07  \n",
       "50%        -0.000010  4.632568e-07  4.632568e-07 -9.536743e-07  \n",
       "75%         0.000030  6.046326e-05  6.946326e-05 -9.536743e-07  \n",
       "max         0.009990  9.990463e-03  1.999046e-02  9.990463e-04  \n",
       "\n",
       "[8 rows x 286 columns]"
      ]
     },
     "execution_count": 10,
     "metadata": {},
     "output_type": "execute_result"
    }
   ],
   "source": [
    "df.describe()"
   ]
  },
  {
   "cell_type": "code",
   "execution_count": 11,
   "id": "faeeb713",
   "metadata": {
    "execution": {
     "iopub.execute_input": "2022-03-04T16:20:38.584412Z",
     "iopub.status.busy": "2022-03-04T16:20:38.583903Z",
     "iopub.status.idle": "2022-03-04T16:20:38.848769Z",
     "shell.execute_reply": "2022-03-04T16:20:38.848310Z",
     "shell.execute_reply.started": "2022-03-04T16:14:21.406040Z"
    },
    "papermill": {
     "duration": 0.34697,
     "end_time": "2022-03-04T16:20:38.848920",
     "exception": false,
     "start_time": "2022-03-04T16:20:38.501950",
     "status": "completed"
    },
    "tags": []
   },
   "outputs": [
    {
     "data": {
      "image/png": "[encoded data removed]",
      "text/plain": [
       "<Figure size 432x288 with 1 Axes>"
      ]
     },
     "metadata": {
      "needs_background": "light"
     },
     "output_type": "display_data"
    }
   ],
   "source": [
    "# Plot the distribution of values for the target column\n",
    "df[\"target\"].value_counts().plot(kind=\"bar\");"
   ]
  },
  {
   "cell_type": "markdown",
   "id": "d5c45069",
   "metadata": {
    "papermill": {
     "duration": 0.048297,
     "end_time": "2022-03-04T16:20:38.945338",
     "exception": false,
     "start_time": "2022-03-04T16:20:38.897041",
     "status": "completed"
    },
    "tags": []
   },
   "source": [
    "As we can see, the different classes in the dataset are balanced."
   ]
  },
  {
   "cell_type": "markdown",
   "id": "805e7109",
   "metadata": {
    "papermill": {
     "duration": 0.046545,
     "end_time": "2022-03-04T16:20:39.040012",
     "exception": false,
     "start_time": "2022-03-04T16:20:38.993467",
     "status": "completed"
    },
    "tags": []
   },
   "source": [
    "## **Target Labels Encoding**"
   ]
  },
  {
   "cell_type": "code",
   "execution_count": 12,
   "id": "7752d19b",
   "metadata": {
    "execution": {
     "iopub.execute_input": "2022-03-04T16:20:39.139706Z",
     "iopub.status.busy": "2022-03-04T16:20:39.139193Z",
     "iopub.status.idle": "2022-03-04T16:20:39.824632Z",
     "shell.execute_reply": "2022-03-04T16:20:39.823532Z",
     "shell.execute_reply.started": "2022-03-04T16:14:21.760008Z"
    },
    "papermill": {
     "duration": 0.736681,
     "end_time": "2022-03-04T16:20:39.824766",
     "exception": false,
     "start_time": "2022-03-04T16:20:39.088085",
     "status": "completed"
    },
    "tags": []
   },
   "outputs": [],
   "source": [
    "from sklearn.preprocessing import LabelEncoder"
   ]
  },
  {
   "cell_type": "code",
   "execution_count": 13,
   "id": "07aaba9f",
   "metadata": {
    "execution": {
     "iopub.execute_input": "2022-03-04T16:20:39.983135Z",
     "iopub.status.busy": "2022-03-04T16:20:39.982253Z",
     "iopub.status.idle": "2022-03-04T16:20:40.004907Z",
     "shell.execute_reply": "2022-03-04T16:20:40.004466Z",
     "shell.execute_reply.started": "2022-03-04T16:14:22.756795Z"
    },
    "papermill": {
     "duration": 0.130525,
     "end_time": "2022-03-04T16:20:40.005027",
     "exception": false,
     "start_time": "2022-03-04T16:20:39.874502",
     "status": "completed"
    },
    "tags": []
   },
   "outputs": [
    {
     "data": {
      "text/html": [
       "<div>\n",
       "<style scoped>\n",
       "    .dataframe tbody tr th:only-of-type {\n",
       "        vertical-align: middle;\n",
       "    }\n",
       "\n",
       "    .dataframe tbody tr th {\n",
       "        vertical-align: top;\n",
       "    }\n",
       "\n",
       "    .dataframe thead th {\n",
       "        text-align: right;\n",
       "    }\n",
       "</style>\n",
       "<table border=\"1\" class=\"dataframe\">\n",
       "  <thead>\n",
       "    <tr style=\"text-align: right;\">\n",
       "      <th></th>\n",
       "      <th>A0T0G0C10</th>\n",
       "      <th>A0T0G1C9</th>\n",
       "      <th>A0T0G2C8</th>\n",
       "      <th>A0T0G3C7</th>\n",
       "      <th>A0T0G4C6</th>\n",
       "      <th>A0T0G5C5</th>\n",
       "      <th>A0T0G6C4</th>\n",
       "      <th>A0T0G7C3</th>\n",
       "      <th>A0T0G8C2</th>\n",
       "      <th>A0T0G9C1</th>\n",
       "      <th>...</th>\n",
       "      <th>A8T0G1C1</th>\n",
       "      <th>A8T0G2C0</th>\n",
       "      <th>A8T1G0C1</th>\n",
       "      <th>A8T1G1C0</th>\n",
       "      <th>A8T2G0C0</th>\n",
       "      <th>A9T0G0C1</th>\n",
       "      <th>A9T0G1C0</th>\n",
       "      <th>A9T1G0C0</th>\n",
       "      <th>A10T0G0C0</th>\n",
       "      <th>target</th>\n",
       "    </tr>\n",
       "  </thead>\n",
       "  <tbody>\n",
       "    <tr>\n",
       "      <th>0</th>\n",
       "      <td>-9.536743e-07</td>\n",
       "      <td>-0.000010</td>\n",
       "      <td>-0.000043</td>\n",
       "      <td>-0.000114</td>\n",
       "      <td>-0.000200</td>\n",
       "      <td>-0.000240</td>\n",
       "      <td>-0.000200</td>\n",
       "      <td>-0.000114</td>\n",
       "      <td>-0.000043</td>\n",
       "      <td>-0.000010</td>\n",
       "      <td>...</td>\n",
       "      <td>-0.000086</td>\n",
       "      <td>-0.000043</td>\n",
       "      <td>-0.000086</td>\n",
       "      <td>-0.000086</td>\n",
       "      <td>-0.000043</td>\n",
       "      <td>-0.000010</td>\n",
       "      <td>-0.000010</td>\n",
       "      <td>-0.000010</td>\n",
       "      <td>-9.536743e-07</td>\n",
       "      <td>9</td>\n",
       "    </tr>\n",
       "    <tr>\n",
       "      <th>1</th>\n",
       "      <td>-9.536743e-07</td>\n",
       "      <td>-0.000010</td>\n",
       "      <td>-0.000043</td>\n",
       "      <td>0.000886</td>\n",
       "      <td>-0.000200</td>\n",
       "      <td>0.000760</td>\n",
       "      <td>-0.000200</td>\n",
       "      <td>-0.000114</td>\n",
       "      <td>-0.000043</td>\n",
       "      <td>-0.000010</td>\n",
       "      <td>...</td>\n",
       "      <td>-0.000086</td>\n",
       "      <td>-0.000043</td>\n",
       "      <td>0.000914</td>\n",
       "      <td>0.000914</td>\n",
       "      <td>-0.000043</td>\n",
       "      <td>-0.000010</td>\n",
       "      <td>-0.000010</td>\n",
       "      <td>-0.000010</td>\n",
       "      <td>-9.536743e-07</td>\n",
       "      <td>6</td>\n",
       "    </tr>\n",
       "    <tr>\n",
       "      <th>2</th>\n",
       "      <td>-9.536743e-07</td>\n",
       "      <td>-0.000002</td>\n",
       "      <td>0.000007</td>\n",
       "      <td>0.000129</td>\n",
       "      <td>0.000268</td>\n",
       "      <td>0.000270</td>\n",
       "      <td>0.000243</td>\n",
       "      <td>0.000125</td>\n",
       "      <td>0.000001</td>\n",
       "      <td>-0.000007</td>\n",
       "      <td>...</td>\n",
       "      <td>0.000084</td>\n",
       "      <td>0.000048</td>\n",
       "      <td>0.000081</td>\n",
       "      <td>0.000106</td>\n",
       "      <td>0.000072</td>\n",
       "      <td>0.000010</td>\n",
       "      <td>0.000008</td>\n",
       "      <td>0.000019</td>\n",
       "      <td>1.046326e-06</td>\n",
       "      <td>6</td>\n",
       "    </tr>\n",
       "    <tr>\n",
       "      <th>3</th>\n",
       "      <td>4.632568e-08</td>\n",
       "      <td>-0.000006</td>\n",
       "      <td>0.000012</td>\n",
       "      <td>0.000245</td>\n",
       "      <td>0.000492</td>\n",
       "      <td>0.000522</td>\n",
       "      <td>0.000396</td>\n",
       "      <td>0.000197</td>\n",
       "      <td>-0.000003</td>\n",
       "      <td>-0.000007</td>\n",
       "      <td>...</td>\n",
       "      <td>0.000151</td>\n",
       "      <td>0.000100</td>\n",
       "      <td>0.000180</td>\n",
       "      <td>0.000202</td>\n",
       "      <td>0.000153</td>\n",
       "      <td>0.000021</td>\n",
       "      <td>0.000015</td>\n",
       "      <td>0.000046</td>\n",
       "      <td>-9.536743e-07</td>\n",
       "      <td>6</td>\n",
       "    </tr>\n",
       "    <tr>\n",
       "      <th>4</th>\n",
       "      <td>-9.536743e-07</td>\n",
       "      <td>-0.000010</td>\n",
       "      <td>-0.000043</td>\n",
       "      <td>-0.000114</td>\n",
       "      <td>-0.000200</td>\n",
       "      <td>-0.000240</td>\n",
       "      <td>-0.000200</td>\n",
       "      <td>-0.000114</td>\n",
       "      <td>-0.000043</td>\n",
       "      <td>-0.000010</td>\n",
       "      <td>...</td>\n",
       "      <td>-0.000086</td>\n",
       "      <td>-0.000043</td>\n",
       "      <td>-0.000086</td>\n",
       "      <td>-0.000086</td>\n",
       "      <td>-0.000043</td>\n",
       "      <td>-0.000010</td>\n",
       "      <td>-0.000010</td>\n",
       "      <td>-0.000010</td>\n",
       "      <td>-9.536743e-07</td>\n",
       "      <td>2</td>\n",
       "    </tr>\n",
       "  </tbody>\n",
       "</table>\n",
       "<p>5 rows × 287 columns</p>\n",
       "</div>"
      ],
      "text/plain": [
       "      A0T0G0C10  A0T0G1C9  A0T0G2C8  A0T0G3C7  A0T0G4C6  A0T0G5C5  A0T0G6C4  \\\n",
       "0 -9.536743e-07 -0.000010 -0.000043 -0.000114 -0.000200 -0.000240 -0.000200   \n",
       "1 -9.536743e-07 -0.000010 -0.000043  0.000886 -0.000200  0.000760 -0.000200   \n",
       "2 -9.536743e-07 -0.000002  0.000007  0.000129  0.000268  0.000270  0.000243   \n",
       "3  4.632568e-08 -0.000006  0.000012  0.000245  0.000492  0.000522  0.000396   \n",
       "4 -9.536743e-07 -0.000010 -0.000043 -0.000114 -0.000200 -0.000240 -0.000200   \n",
       "\n",
       "   A0T0G7C3  A0T0G8C2  A0T0G9C1  ...  A8T0G1C1  A8T0G2C0  A8T1G0C1  A8T1G1C0  \\\n",
       "0 -0.000114 -0.000043 -0.000010  ... -0.000086 -0.000043 -0.000086 -0.000086   \n",
       "1 -0.000114 -0.000043 -0.000010  ... -0.000086 -0.000043  0.000914  0.000914   \n",
       "2  0.000125  0.000001 -0.000007  ...  0.000084  0.000048  0.000081  0.000106   \n",
       "3  0.000197 -0.000003 -0.000007  ...  0.000151  0.000100  0.000180  0.000202   \n",
       "4 -0.000114 -0.000043 -0.000010  ... -0.000086 -0.000043 -0.000086 -0.000086   \n",
       "\n",
       "   A8T2G0C0  A9T0G0C1  A9T0G1C0  A9T1G0C0     A10T0G0C0  target  \n",
       "0 -0.000043 -0.000010 -0.000010 -0.000010 -9.536743e-07       9  \n",
       "1 -0.000043 -0.000010 -0.000010 -0.000010 -9.536743e-07       6  \n",
       "2  0.000072  0.000010  0.000008  0.000019  1.046326e-06       6  \n",
       "3  0.000153  0.000021  0.000015  0.000046 -9.536743e-07       6  \n",
       "4 -0.000043 -0.000010 -0.000010 -0.000010 -9.536743e-07       2  \n",
       "\n",
       "[5 rows x 287 columns]"
      ]
     },
     "execution_count": 13,
     "metadata": {},
     "output_type": "execute_result"
    }
   ],
   "source": [
    "# Label encoding of the target.\n",
    "# We will map each of the 10 different target classess to an intger in the range 0-9\n",
    "label_encoder = LabelEncoder()\n",
    "df[\"target\"] = label_encoder.fit(df[\"target\"]).transform(df[\"target\"])\n",
    "df.head()"
   ]
  },
  {
   "cell_type": "markdown",
   "id": "47802ace",
   "metadata": {
    "papermill": {
     "duration": 0.048362,
     "end_time": "2022-03-04T16:20:40.102637",
     "exception": false,
     "start_time": "2022-03-04T16:20:40.054275",
     "status": "completed"
    },
    "tags": []
   },
   "source": [
    "## **Train-Test Split**"
   ]
  },
  {
   "cell_type": "code",
   "execution_count": 14,
   "id": "2592c3d9",
   "metadata": {
    "execution": {
     "iopub.execute_input": "2022-03-04T16:20:40.204420Z",
     "iopub.status.busy": "2022-03-04T16:20:40.203875Z",
     "iopub.status.idle": "2022-03-04T16:20:40.247842Z",
     "shell.execute_reply": "2022-03-04T16:20:40.248266Z",
     "shell.execute_reply.started": "2022-03-04T16:14:22.848016Z"
    },
    "papermill": {
     "duration": 0.096985,
     "end_time": "2022-03-04T16:20:40.248409",
     "exception": false,
     "start_time": "2022-03-04T16:20:40.151424",
     "status": "completed"
    },
    "tags": []
   },
   "outputs": [],
   "source": [
    "# Imports\n",
    "from sklearn.model_selection import train_test_split"
   ]
  },
  {
   "cell_type": "code",
   "execution_count": 15,
   "id": "e5419c67",
   "metadata": {
    "execution": {
     "iopub.execute_input": "2022-03-04T16:20:40.484016Z",
     "iopub.status.busy": "2022-03-04T16:20:40.483380Z",
     "iopub.status.idle": "2022-03-04T16:20:41.061841Z",
     "shell.execute_reply": "2022-03-04T16:20:41.062357Z",
     "shell.execute_reply.started": "2022-03-04T16:14:22.907177Z"
    },
    "papermill": {
     "duration": 0.765877,
     "end_time": "2022-03-04T16:20:41.062521",
     "exception": false,
     "start_time": "2022-03-04T16:20:40.296644",
     "status": "completed"
    },
    "tags": []
   },
   "outputs": [],
   "source": [
    "X_train, X_test, Y_train, Y_test = train_test_split(df.drop(columns=[\"target\"]), df[\"target\"], test_size=0.33, stratify=df[\"target\"], random_state=random_seed)"
   ]
  },
  {
   "cell_type": "code",
   "execution_count": 16,
   "id": "6bdb0a63",
   "metadata": {
    "execution": {
     "iopub.execute_input": "2022-03-04T16:20:41.163619Z",
     "iopub.status.busy": "2022-03-04T16:20:41.162977Z",
     "iopub.status.idle": "2022-03-04T16:20:41.168051Z",
     "shell.execute_reply": "2022-03-04T16:20:41.168451Z",
     "shell.execute_reply.started": "2022-03-04T16:14:23.992564Z"
    },
    "papermill": {
     "duration": 0.057467,
     "end_time": "2022-03-04T16:20:41.168596",
     "exception": false,
     "start_time": "2022-03-04T16:20:41.111129",
     "status": "completed"
    },
    "tags": []
   },
   "outputs": [
    {
     "name": "stdout",
     "output_type": "stream",
     "text": [
      "X_train shape: (134000, 286)\n",
      "Y_train shape: (134000,)\n",
      "X_test shape: (66000, 286)\n",
      "Y_test shape: (66000,)\n"
     ]
    }
   ],
   "source": [
    "print(f\"X_train shape: {X_train.shape}\")\n",
    "print(f\"Y_train shape: {Y_train.shape}\")\n",
    "print(f\"X_test shape: {X_test.shape}\")\n",
    "print(f\"Y_test shape: {Y_test.shape}\")"
   ]
  },
  {
   "cell_type": "markdown",
   "id": "e3de2aa8",
   "metadata": {
    "papermill": {
     "duration": 0.051372,
     "end_time": "2022-03-04T16:20:41.271350",
     "exception": false,
     "start_time": "2022-03-04T16:20:41.219978",
     "status": "completed"
    },
    "tags": []
   },
   "source": [
    "## **Dimensionality Reduction** "
   ]
  },
  {
   "cell_type": "code",
   "execution_count": 17,
   "id": "a61288f1",
   "metadata": {
    "execution": {
     "iopub.execute_input": "2022-03-04T16:20:41.373100Z",
     "iopub.status.busy": "2022-03-04T16:20:41.372487Z",
     "iopub.status.idle": "2022-03-04T16:20:41.461069Z",
     "shell.execute_reply": "2022-03-04T16:20:41.461481Z",
     "shell.execute_reply.started": "2022-03-04T16:14:24.000656Z"
    },
    "papermill": {
     "duration": 0.140347,
     "end_time": "2022-03-04T16:20:41.461634",
     "exception": false,
     "start_time": "2022-03-04T16:20:41.321287",
     "status": "completed"
    },
    "tags": []
   },
   "outputs": [],
   "source": [
    "from sklearn.preprocessing import StandardScaler\n",
    "from sklearn.decomposition import PCA"
   ]
  },
  {
   "cell_type": "code",
   "execution_count": 18,
   "id": "e90d732b",
   "metadata": {
    "execution": {
     "iopub.execute_input": "2022-03-04T16:20:41.561761Z",
     "iopub.status.busy": "2022-03-04T16:20:41.561224Z",
     "iopub.status.idle": "2022-03-04T16:20:42.358859Z",
     "shell.execute_reply": "2022-03-04T16:20:42.358303Z",
     "shell.execute_reply.started": "2022-03-04T16:14:24.121075Z"
    },
    "papermill": {
     "duration": 0.848775,
     "end_time": "2022-03-04T16:20:42.358982",
     "exception": false,
     "start_time": "2022-03-04T16:20:41.510207",
     "status": "completed"
    },
    "tags": []
   },
   "outputs": [
    {
     "data": {
      "text/plain": [
       "(134000, 286)"
      ]
     },
     "execution_count": 18,
     "metadata": {},
     "output_type": "execute_result"
    }
   ],
   "source": [
    "# Standardize the features. This process is needed before doing the PCA.\n",
    "st_scaler = StandardScaler()\n",
    "st_scaler.fit(X_train)\n",
    "X_train_st = st_scaler.transform(X_train)\n",
    "X_train_st.shape"
   ]
  },
  {
   "cell_type": "code",
   "execution_count": 19,
   "id": "e1af9b7d",
   "metadata": {
    "execution": {
     "iopub.execute_input": "2022-03-04T16:20:42.463105Z",
     "iopub.status.busy": "2022-03-04T16:20:42.462462Z",
     "iopub.status.idle": "2022-03-04T16:20:46.774887Z",
     "shell.execute_reply": "2022-03-04T16:20:46.775511Z",
     "shell.execute_reply.started": "2022-03-04T16:14:25.369663Z"
    },
    "papermill": {
     "duration": 4.366561,
     "end_time": "2022-03-04T16:20:46.775756",
     "exception": false,
     "start_time": "2022-03-04T16:20:42.409195",
     "status": "completed"
    },
    "tags": []
   },
   "outputs": [
    {
     "data": {
      "text/plain": [
       "(134000, 50)"
      ]
     },
     "execution_count": 19,
     "metadata": {},
     "output_type": "execute_result"
    }
   ],
   "source": [
    "# Perform PCA\n",
    "pca = PCA(n_components=50)\n",
    "pca.fit(X_train_st)\n",
    "X_train_pca = pca.transform(X_train_st)\n",
    "X_train_pca.shape"
   ]
  },
  {
   "cell_type": "markdown",
   "id": "747ca5e7",
   "metadata": {
    "papermill": {
     "duration": 0.058108,
     "end_time": "2022-03-04T16:20:46.924515",
     "exception": false,
     "start_time": "2022-03-04T16:20:46.866407",
     "status": "completed"
    },
    "tags": []
   },
   "source": [
    "## **ML Models Testing**"
   ]
  },
  {
   "cell_type": "markdown",
   "id": "6e2d300d",
   "metadata": {
    "papermill": {
     "duration": 0.048089,
     "end_time": "2022-03-04T16:20:47.020981",
     "exception": false,
     "start_time": "2022-03-04T16:20:46.972892",
     "status": "completed"
    },
    "tags": []
   },
   "source": [
    "### **Decision Tree Classifier**"
   ]
  },
  {
   "cell_type": "code",
   "execution_count": 20,
   "id": "a111ae05",
   "metadata": {
    "execution": {
     "iopub.execute_input": "2022-03-04T16:20:47.125515Z",
     "iopub.status.busy": "2022-03-04T16:20:47.124827Z",
     "iopub.status.idle": "2022-03-04T16:20:47.177621Z",
     "shell.execute_reply": "2022-03-04T16:20:47.178089Z",
     "shell.execute_reply.started": "2022-03-04T16:14:31.414818Z"
    },
    "papermill": {
     "duration": 0.107587,
     "end_time": "2022-03-04T16:20:47.178245",
     "exception": false,
     "start_time": "2022-03-04T16:20:47.070658",
     "status": "completed"
    },
    "tags": []
   },
   "outputs": [],
   "source": [
    "from sklearn.tree import DecisionTreeClassifier, plot_tree\n",
    "from sklearn.model_selection import cross_val_score\n",
    "from sklearn.model_selection import GridSearchCV"
   ]
  },
  {
   "cell_type": "code",
   "execution_count": 21,
   "id": "c8f8d0de",
   "metadata": {
    "execution": {
     "iopub.execute_input": "2022-03-04T16:20:47.283433Z",
     "iopub.status.busy": "2022-03-04T16:20:47.282465Z",
     "iopub.status.idle": "2022-03-04T16:22:31.153843Z",
     "shell.execute_reply": "2022-03-04T16:22:31.154319Z",
     "shell.execute_reply.started": "2022-03-04T16:14:31.499602Z"
    },
    "papermill": {
     "duration": 103.926677,
     "end_time": "2022-03-04T16:22:31.154511",
     "exception": false,
     "start_time": "2022-03-04T16:20:47.227834",
     "status": "completed"
    },
    "tags": []
   },
   "outputs": [],
   "source": [
    "# Perform a grid search with cross validation to find the best max_depth hyperparameter for the decision tree\n",
    "tree_model_param = {\"max_depth\":[4,8,16,20,24,26]}\n",
    "grid_search = GridSearchCV(estimator=DecisionTreeClassifier(criterion=\"entropy\", random_state=random_seed),\n",
    "                           param_grid=tree_model_param,\n",
    "                           cv=2)\n",
    "grid_search.fit(X_train_pca, Y_train);"
   ]
  },
  {
   "cell_type": "code",
   "execution_count": 22,
   "id": "1f9e5ca1",
   "metadata": {
    "execution": {
     "iopub.execute_input": "2022-03-04T16:22:31.259263Z",
     "iopub.status.busy": "2022-03-04T16:22:31.258442Z",
     "iopub.status.idle": "2022-03-04T16:22:31.265847Z",
     "shell.execute_reply": "2022-03-04T16:22:31.266359Z",
     "shell.execute_reply.started": "2022-03-04T16:16:32.617493Z"
    },
    "papermill": {
     "duration": 0.061108,
     "end_time": "2022-03-04T16:22:31.266504",
     "exception": false,
     "start_time": "2022-03-04T16:22:31.205396",
     "status": "completed"
    },
    "tags": []
   },
   "outputs": [
    {
     "name": "stdout",
     "output_type": "stream",
     "text": [
      "Best parameters set found on train set:\n",
      "{'max_depth': 24}\n",
      "\n",
      "\n",
      "Grid scores on train set:\n",
      "{'max_depth': 4} mean: 0.642 std: +/- 0.001)\n",
      "{'max_depth': 8} mean: 0.780 std: +/- 0.000)\n",
      "{'max_depth': 16} mean: 0.919 std: +/- 0.002)\n",
      "{'max_depth': 20} mean: 0.933 std: +/- 0.004)\n",
      "{'max_depth': 24} mean: 0.935 std: +/- 0.002)\n",
      "{'max_depth': 26} mean: 0.935 std: +/- 0.002)\n",
      "\n",
      "\n"
     ]
    }
   ],
   "source": [
    "# Print grid search results\n",
    "def print_grid_search_results(gscv):\n",
    "    print(\"Best parameters set found on train set:\")\n",
    "    print(gscv.best_params_)\n",
    "    print(\"\\n\")\n",
    "    print(\"Grid scores on train set:\")\n",
    "    for param, mean, std in zip(gscv.cv_results_['params'], gscv.cv_results_['mean_test_score'], gscv.cv_results_['std_test_score']):\n",
    "        print(\"%r mean: %0.3f std: +/- %0.03f)\" % (param, mean, std*2))\n",
    "    print(\"\\n\")\n",
    "\n",
    "print_grid_search_results(grid_search)"
   ]
  },
  {
   "cell_type": "code",
   "execution_count": 23,
   "id": "dbb3b657",
   "metadata": {
    "execution": {
     "iopub.execute_input": "2022-03-04T16:22:31.371343Z",
     "iopub.status.busy": "2022-03-04T16:22:31.370453Z",
     "iopub.status.idle": "2022-03-04T16:22:47.418601Z",
     "shell.execute_reply": "2022-03-04T16:22:47.418116Z",
     "shell.execute_reply.started": "2022-03-04T16:16:32.628164Z"
    },
    "papermill": {
     "duration": 16.101325,
     "end_time": "2022-03-04T16:22:47.418764",
     "exception": false,
     "start_time": "2022-03-04T16:22:31.317439",
     "status": "completed"
    },
    "tags": []
   },
   "outputs": [
    {
     "data": {
      "text/plain": [
       "DecisionTreeClassifier(criterion='entropy', max_depth=24, random_state=42)"
      ]
     },
     "execution_count": 23,
     "metadata": {},
     "output_type": "execute_result"
    }
   ],
   "source": [
    "# Define the final decision tree model with the best parameter found\n",
    "tree_model = DecisionTreeClassifier(criterion=\"entropy\", random_state=random_seed, max_depth=grid_search.best_params_[\"max_depth\"])\n",
    "tree_model.fit(X_train_pca, Y_train)"
   ]
  },
  {
   "cell_type": "markdown",
   "id": "7952f8ea",
   "metadata": {
    "papermill": {
     "duration": 0.048625,
     "end_time": "2022-03-04T16:22:47.516695",
     "exception": false,
     "start_time": "2022-03-04T16:22:47.468070",
     "status": "completed"
    },
    "tags": []
   },
   "source": [
    "### **Deep Neural Network**"
   ]
  },
  {
   "cell_type": "code",
   "execution_count": 24,
   "id": "8b12f21f",
   "metadata": {
    "execution": {
     "iopub.execute_input": "2022-03-04T16:22:47.616434Z",
     "iopub.status.busy": "2022-03-04T16:22:47.615931Z",
     "iopub.status.idle": "2022-03-04T16:22:52.256781Z",
     "shell.execute_reply": "2022-03-04T16:22:52.257258Z",
     "shell.execute_reply.started": "2022-03-04T16:16:51.818476Z"
    },
    "papermill": {
     "duration": 4.691991,
     "end_time": "2022-03-04T16:22:52.257421",
     "exception": false,
     "start_time": "2022-03-04T16:22:47.565430",
     "status": "completed"
    },
    "tags": []
   },
   "outputs": [],
   "source": [
    "import tensorflow as tf\n",
    "from tensorflow import keras\n",
    "from tensorflow.keras import layers"
   ]
  },
  {
   "cell_type": "code",
   "execution_count": 25,
   "id": "4f31a3f2",
   "metadata": {
    "execution": {
     "iopub.execute_input": "2022-03-04T16:22:52.365959Z",
     "iopub.status.busy": "2022-03-04T16:22:52.365106Z",
     "iopub.status.idle": "2022-03-04T16:22:52.475025Z",
     "shell.execute_reply": "2022-03-04T16:22:52.475674Z",
     "shell.execute_reply.started": "2022-03-04T16:16:58.323482Z"
    },
    "papermill": {
     "duration": 0.164178,
     "end_time": "2022-03-04T16:22:52.475873",
     "exception": false,
     "start_time": "2022-03-04T16:22:52.311695",
     "status": "completed"
    },
    "tags": []
   },
   "outputs": [
    {
     "name": "stdout",
     "output_type": "stream",
     "text": [
      "Model: \"dnn_model\"\n",
      "_________________________________________________________________\n",
      "Layer (type)                 Output Shape              Param #   \n",
      "=================================================================\n",
      "input_1 (InputLayer)         [(None, 50)]              0         \n",
      "_________________________________________________________________\n",
      "dense (Dense)                (None, 50)                2550      \n",
      "_________________________________________________________________\n",
      "dense_1 (Dense)              (None, 30)                1530      \n",
      "_________________________________________________________________\n",
      "dense_2 (Dense)              (None, 20)                620       \n",
      "_________________________________________________________________\n",
      "dense_3 (Dense)              (None, 10)                210       \n",
      "=================================================================\n",
      "Total params: 4,910\n",
      "Trainable params: 4,910\n",
      "Non-trainable params: 0\n",
      "_________________________________________________________________\n"
     ]
    },
    {
     "name": "stderr",
     "output_type": "stream",
     "text": [
      "2022-03-04 16:22:52.407303: I tensorflow/core/common_runtime/process_util.cc:146] Creating new thread pool with default inter op setting: 2. Tune using inter_op_parallelism_threads for best performance.\n"
     ]
    }
   ],
   "source": [
    "# Network architecture definition\n",
    "inputs = keras.Input(shape=(50,))\n",
    "x = layers.Dense(50, activation=\"relu\")(inputs)\n",
    "x = layers.Dense(30, activation=\"relu\")(x)\n",
    "x = layers.Dense(20, activation=\"relu\")(x)\n",
    "outputs = layers.Dense(10, activation=\"softmax\")(x)\n",
    "\n",
    "dnn_model = keras.Model(inputs=inputs, outputs=outputs, name=\"dnn_model\")\n",
    "dnn_model.summary()"
   ]
  },
  {
   "cell_type": "code",
   "execution_count": 26,
   "id": "17dc2c7a",
   "metadata": {
    "execution": {
     "iopub.execute_input": "2022-03-04T16:22:52.590523Z",
     "iopub.status.busy": "2022-03-04T16:22:52.589984Z",
     "iopub.status.idle": "2022-03-04T16:22:52.600816Z",
     "shell.execute_reply": "2022-03-04T16:22:52.601277Z",
     "shell.execute_reply.started": "2022-03-04T16:16:58.476568Z"
    },
    "papermill": {
     "duration": 0.074101,
     "end_time": "2022-03-04T16:22:52.601399",
     "exception": false,
     "start_time": "2022-03-04T16:22:52.527298",
     "status": "completed"
    },
    "tags": []
   },
   "outputs": [],
   "source": [
    "dnn_model.compile(\n",
    "    loss=keras.losses.SparseCategoricalCrossentropy(from_logits=False),\n",
    "    optimizer=keras.optimizers.Adam(),\n",
    "    metrics=[\"accuracy\"]\n",
    ")"
   ]
  },
  {
   "cell_type": "code",
   "execution_count": 27,
   "id": "c2268d62",
   "metadata": {
    "execution": {
     "iopub.execute_input": "2022-03-04T16:22:52.708092Z",
     "iopub.status.busy": "2022-03-04T16:22:52.707619Z",
     "iopub.status.idle": "2022-03-04T16:23:13.471748Z",
     "shell.execute_reply": "2022-03-04T16:23:13.471170Z",
     "shell.execute_reply.started": "2022-03-04T16:16:58.496945Z"
    },
    "papermill": {
     "duration": 20.819969,
     "end_time": "2022-03-04T16:23:13.471897",
     "exception": false,
     "start_time": "2022-03-04T16:22:52.651928",
     "status": "completed"
    },
    "tags": []
   },
   "outputs": [
    {
     "name": "stderr",
     "output_type": "stream",
     "text": [
      "2022-03-04 16:22:52.775142: I tensorflow/compiler/mlir/mlir_graph_optimization_pass.cc:185] None of the MLIR Optimization Passes are enabled (registered 2)\n"
     ]
    },
    {
     "name": "stdout",
     "output_type": "stream",
     "text": [
      "Epoch 1/5\n",
      "1675/1675 [==============================] - 5s 2ms/step - loss: 0.7495 - accuracy: 0.7445 - val_loss: 0.4872 - val_accuracy: 0.8281\n",
      "Epoch 2/5\n",
      "1675/1675 [==============================] - 4s 2ms/step - loss: 0.4227 - accuracy: 0.8490 - val_loss: 0.3893 - val_accuracy: 0.8553\n",
      "Epoch 3/5\n",
      "1675/1675 [==============================] - 4s 3ms/step - loss: 0.3546 - accuracy: 0.8668 - val_loss: 0.3499 - val_accuracy: 0.8682\n",
      "Epoch 4/5\n",
      "1675/1675 [==============================] - 4s 2ms/step - loss: 0.3189 - accuracy: 0.8766 - val_loss: 0.3273 - val_accuracy: 0.8770\n",
      "Epoch 5/5\n",
      "1675/1675 [==============================] - 4s 2ms/step - loss: 0.2964 - accuracy: 0.8839 - val_loss: 0.3031 - val_accuracy: 0.8787\n"
     ]
    }
   ],
   "source": [
    "history = dnn_model.fit(X_train_pca, Y_train, batch_size=64, epochs=5, validation_split=0.2)"
   ]
  },
  {
   "cell_type": "code",
   "execution_count": null,
   "id": "b381d277",
   "metadata": {
    "papermill": {
     "duration": 0.163122,
     "end_time": "2022-03-04T16:23:13.801148",
     "exception": false,
     "start_time": "2022-03-04T16:23:13.638026",
     "status": "completed"
    },
    "tags": []
   },
   "outputs": [],
   "source": []
  },
  {
   "cell_type": "markdown",
   "id": "f5915046",
   "metadata": {
    "papermill": {
     "duration": 0.165539,
     "end_time": "2022-03-04T16:23:14.130136",
     "exception": false,
     "start_time": "2022-03-04T16:23:13.964597",
     "status": "completed"
    },
    "tags": []
   },
   "source": [
    "## **Final Model Evaluation**"
   ]
  },
  {
   "cell_type": "code",
   "execution_count": 28,
   "id": "b8d09913",
   "metadata": {
    "execution": {
     "iopub.execute_input": "2022-03-04T16:23:14.463218Z",
     "iopub.status.busy": "2022-03-04T16:23:14.462711Z",
     "iopub.status.idle": "2022-03-04T16:23:14.465375Z",
     "shell.execute_reply": "2022-03-04T16:23:14.465915Z",
     "shell.execute_reply.started": "2022-03-04T16:17:40.184380Z"
    },
    "papermill": {
     "duration": 0.17116,
     "end_time": "2022-03-04T16:23:14.466046",
     "exception": false,
     "start_time": "2022-03-04T16:23:14.294886",
     "status": "completed"
    },
    "tags": []
   },
   "outputs": [],
   "source": [
    "from sklearn.metrics import classification_report"
   ]
  },
  {
   "cell_type": "code",
   "execution_count": 29,
   "id": "16230ab4",
   "metadata": {
    "execution": {
     "iopub.execute_input": "2022-03-04T16:23:14.791348Z",
     "iopub.status.busy": "2022-03-04T16:23:14.790798Z",
     "iopub.status.idle": "2022-03-04T16:23:14.793777Z",
     "shell.execute_reply": "2022-03-04T16:23:14.794258Z",
     "shell.execute_reply.started": "2022-03-04T16:17:40.190849Z"
    },
    "papermill": {
     "duration": 0.16769,
     "end_time": "2022-03-04T16:23:14.794388",
     "exception": false,
     "start_time": "2022-03-04T16:23:14.626698",
     "status": "completed"
    },
    "tags": []
   },
   "outputs": [],
   "source": [
    "final_model = tree_model\n",
    "use_neural_network = False"
   ]
  },
  {
   "cell_type": "code",
   "execution_count": 30,
   "id": "29e9119c",
   "metadata": {
    "execution": {
     "iopub.execute_input": "2022-03-04T16:23:15.128248Z",
     "iopub.status.busy": "2022-03-04T16:23:15.127704Z",
     "iopub.status.idle": "2022-03-04T16:23:15.378402Z",
     "shell.execute_reply": "2022-03-04T16:23:15.377892Z",
     "shell.execute_reply.started": "2022-03-04T16:17:40.210711Z"
    },
    "papermill": {
     "duration": 0.420165,
     "end_time": "2022-03-04T16:23:15.378528",
     "exception": false,
     "start_time": "2022-03-04T16:23:14.958363",
     "status": "completed"
    },
    "tags": []
   },
   "outputs": [],
   "source": [
    "# Preprocess the data\n",
    "\n",
    "# Standardize\n",
    "X_test_st = st_scaler.transform(X_test)\n",
    "# PCA\n",
    "X_test_pca = pca.transform(X_test_st)"
   ]
  },
  {
   "cell_type": "code",
   "execution_count": 31,
   "id": "722c6661",
   "metadata": {
    "execution": {
     "iopub.execute_input": "2022-03-04T16:23:15.762395Z",
     "iopub.status.busy": "2022-03-04T16:23:15.761125Z",
     "iopub.status.idle": "2022-03-04T16:23:15.779958Z",
     "shell.execute_reply": "2022-03-04T16:23:15.779407Z",
     "shell.execute_reply.started": "2022-03-04T16:17:40.596832Z"
    },
    "papermill": {
     "duration": 0.187364,
     "end_time": "2022-03-04T16:23:15.780074",
     "exception": false,
     "start_time": "2022-03-04T16:23:15.592710",
     "status": "completed"
    },
    "tags": []
   },
   "outputs": [],
   "source": [
    "if use_neural_network:\n",
    "    # Predict probabilty distributions over possible labels\n",
    "    Y_test_pred_p = final_model.predict(X_test_pca)\n",
    "    # Store the index of the most probable label\n",
    "    Y_test_pred = np.argmax(Y_test_pred_p, axis=1)\n",
    "else:\n",
    "    Y_test_pred = final_model.predict(X_test_pca)"
   ]
  },
  {
   "cell_type": "code",
   "execution_count": 32,
   "id": "51f336bb",
   "metadata": {
    "execution": {
     "iopub.execute_input": "2022-03-04T16:23:16.114942Z",
     "iopub.status.busy": "2022-03-04T16:23:16.114105Z",
     "iopub.status.idle": "2022-03-04T16:23:16.243251Z",
     "shell.execute_reply": "2022-03-04T16:23:16.243922Z",
     "shell.execute_reply.started": "2022-03-04T16:17:40.640897Z"
    },
    "papermill": {
     "duration": 0.298586,
     "end_time": "2022-03-04T16:23:16.244109",
     "exception": false,
     "start_time": "2022-03-04T16:23:15.945523",
     "status": "completed"
    },
    "tags": []
   },
   "outputs": [
    {
     "name": "stdout",
     "output_type": "stream",
     "text": [
      "                          precision    recall  f1-score   support\n",
      "\n",
      "    Bacteroides_fragilis       0.98      0.99      0.98      6646\n",
      "    Campylobacter_jejuni       0.99      0.99      0.99      6621\n",
      "      Enterococcus_hirae       0.97      0.97      0.97      6583\n",
      "        Escherichia_coli       0.97      0.96      0.96      6586\n",
      "  Escherichia_fergusonii       0.96      0.97      0.97      6579\n",
      "   Klebsiella_pneumoniae       0.99      0.99      0.99      6549\n",
      "     Salmonella_enterica       0.97      0.97      0.97      6610\n",
      "   Staphylococcus_aureus       0.98      0.98      0.98      6577\n",
      "Streptococcus_pneumoniae       0.97      0.97      0.97      6624\n",
      "  Streptococcus_pyogenes       0.97      0.97      0.97      6625\n",
      "\n",
      "                accuracy                           0.98     66000\n",
      "               macro avg       0.98      0.98      0.98     66000\n",
      "            weighted avg       0.98      0.98      0.98     66000\n",
      "\n"
     ]
    }
   ],
   "source": [
    "print(classification_report(Y_test, Y_test_pred, target_names=label_encoder.classes_))"
   ]
  },
  {
   "cell_type": "markdown",
   "id": "1d939ae5",
   "metadata": {
    "papermill": {
     "duration": 0.164259,
     "end_time": "2022-03-04T16:23:16.576320",
     "exception": false,
     "start_time": "2022-03-04T16:23:16.412061",
     "status": "completed"
    },
    "tags": []
   },
   "source": [
    "## **Kaggle Submission Test**"
   ]
  },
  {
   "cell_type": "code",
   "execution_count": 33,
   "id": "37bceb6f",
   "metadata": {
    "execution": {
     "iopub.execute_input": "2022-03-04T16:23:16.909278Z",
     "iopub.status.busy": "2022-03-04T16:23:16.908746Z",
     "iopub.status.idle": "2022-03-04T16:23:28.579977Z",
     "shell.execute_reply": "2022-03-04T16:23:28.579465Z",
     "shell.execute_reply.started": "2022-03-04T16:17:40.823039Z"
    },
    "papermill": {
     "duration": 11.839641,
     "end_time": "2022-03-04T16:23:28.580103",
     "exception": false,
     "start_time": "2022-03-04T16:23:16.740462",
     "status": "completed"
    },
    "tags": []
   },
   "outputs": [
    {
     "data": {
      "text/html": [
       "<div>\n",
       "<style scoped>\n",
       "    .dataframe tbody tr th:only-of-type {\n",
       "        vertical-align: middle;\n",
       "    }\n",
       "\n",
       "    .dataframe tbody tr th {\n",
       "        vertical-align: top;\n",
       "    }\n",
       "\n",
       "    .dataframe thead th {\n",
       "        text-align: right;\n",
       "    }\n",
       "</style>\n",
       "<table border=\"1\" class=\"dataframe\">\n",
       "  <thead>\n",
       "    <tr style=\"text-align: right;\">\n",
       "      <th></th>\n",
       "      <th>row_id</th>\n",
       "      <th>A0T0G0C10</th>\n",
       "      <th>A0T0G1C9</th>\n",
       "      <th>A0T0G2C8</th>\n",
       "      <th>A0T0G3C7</th>\n",
       "      <th>A0T0G4C6</th>\n",
       "      <th>A0T0G5C5</th>\n",
       "      <th>A0T0G6C4</th>\n",
       "      <th>A0T0G7C3</th>\n",
       "      <th>A0T0G8C2</th>\n",
       "      <th>...</th>\n",
       "      <th>A8T0G0C2</th>\n",
       "      <th>A8T0G1C1</th>\n",
       "      <th>A8T0G2C0</th>\n",
       "      <th>A8T1G0C1</th>\n",
       "      <th>A8T1G1C0</th>\n",
       "      <th>A8T2G0C0</th>\n",
       "      <th>A9T0G0C1</th>\n",
       "      <th>A9T0G1C0</th>\n",
       "      <th>A9T1G0C0</th>\n",
       "      <th>A10T0G0C0</th>\n",
       "    </tr>\n",
       "  </thead>\n",
       "  <tbody>\n",
       "    <tr>\n",
       "      <th>0</th>\n",
       "      <td>200000</td>\n",
       "      <td>-9.536743e-07</td>\n",
       "      <td>-0.000002</td>\n",
       "      <td>-9.153442e-07</td>\n",
       "      <td>0.000024</td>\n",
       "      <td>0.000034</td>\n",
       "      <td>-0.000002</td>\n",
       "      <td>0.000021</td>\n",
       "      <td>0.000024</td>\n",
       "      <td>-0.000009</td>\n",
       "      <td>...</td>\n",
       "      <td>0.000039</td>\n",
       "      <td>0.000085</td>\n",
       "      <td>0.000055</td>\n",
       "      <td>0.000108</td>\n",
       "      <td>0.000090</td>\n",
       "      <td>0.000059</td>\n",
       "      <td>0.000010</td>\n",
       "      <td>0.000006</td>\n",
       "      <td>0.000027</td>\n",
       "      <td>4.632568e-08</td>\n",
       "    </tr>\n",
       "    <tr>\n",
       "      <th>1</th>\n",
       "      <td>200001</td>\n",
       "      <td>-9.536743e-07</td>\n",
       "      <td>-0.000010</td>\n",
       "      <td>-4.291534e-05</td>\n",
       "      <td>-0.000114</td>\n",
       "      <td>0.001800</td>\n",
       "      <td>-0.000240</td>\n",
       "      <td>0.001800</td>\n",
       "      <td>-0.000114</td>\n",
       "      <td>0.000957</td>\n",
       "      <td>...</td>\n",
       "      <td>-0.000043</td>\n",
       "      <td>0.000914</td>\n",
       "      <td>-0.000043</td>\n",
       "      <td>-0.000086</td>\n",
       "      <td>-0.000086</td>\n",
       "      <td>-0.000043</td>\n",
       "      <td>-0.000010</td>\n",
       "      <td>-0.000010</td>\n",
       "      <td>-0.000010</td>\n",
       "      <td>-9.536743e-07</td>\n",
       "    </tr>\n",
       "    <tr>\n",
       "      <th>2</th>\n",
       "      <td>200002</td>\n",
       "      <td>4.632568e-08</td>\n",
       "      <td>0.000003</td>\n",
       "      <td>8.465576e-08</td>\n",
       "      <td>-0.000014</td>\n",
       "      <td>0.000007</td>\n",
       "      <td>-0.000005</td>\n",
       "      <td>-0.000004</td>\n",
       "      <td>0.000003</td>\n",
       "      <td>0.000004</td>\n",
       "      <td>...</td>\n",
       "      <td>0.000041</td>\n",
       "      <td>0.000102</td>\n",
       "      <td>0.000084</td>\n",
       "      <td>0.000111</td>\n",
       "      <td>0.000117</td>\n",
       "      <td>0.000070</td>\n",
       "      <td>0.000020</td>\n",
       "      <td>0.000030</td>\n",
       "      <td>0.000021</td>\n",
       "      <td>4.632568e-08</td>\n",
       "    </tr>\n",
       "    <tr>\n",
       "      <th>3</th>\n",
       "      <td>200003</td>\n",
       "      <td>-9.536743e-07</td>\n",
       "      <td>-0.000008</td>\n",
       "      <td>8.084656e-06</td>\n",
       "      <td>0.000216</td>\n",
       "      <td>0.000420</td>\n",
       "      <td>0.000514</td>\n",
       "      <td>0.000452</td>\n",
       "      <td>0.000187</td>\n",
       "      <td>-0.000005</td>\n",
       "      <td>...</td>\n",
       "      <td>0.000069</td>\n",
       "      <td>0.000158</td>\n",
       "      <td>0.000098</td>\n",
       "      <td>0.000175</td>\n",
       "      <td>0.000217</td>\n",
       "      <td>0.000150</td>\n",
       "      <td>0.000018</td>\n",
       "      <td>0.000016</td>\n",
       "      <td>0.000051</td>\n",
       "      <td>-9.536743e-07</td>\n",
       "    </tr>\n",
       "    <tr>\n",
       "      <th>4</th>\n",
       "      <td>200004</td>\n",
       "      <td>-9.536743e-07</td>\n",
       "      <td>-0.000010</td>\n",
       "      <td>-4.291534e-05</td>\n",
       "      <td>-0.000114</td>\n",
       "      <td>-0.000200</td>\n",
       "      <td>-0.000240</td>\n",
       "      <td>-0.000200</td>\n",
       "      <td>-0.000114</td>\n",
       "      <td>-0.000043</td>\n",
       "      <td>...</td>\n",
       "      <td>-0.000043</td>\n",
       "      <td>-0.000086</td>\n",
       "      <td>-0.000043</td>\n",
       "      <td>-0.000086</td>\n",
       "      <td>0.000914</td>\n",
       "      <td>-0.000043</td>\n",
       "      <td>-0.000010</td>\n",
       "      <td>-0.000010</td>\n",
       "      <td>0.000990</td>\n",
       "      <td>-9.536743e-07</td>\n",
       "    </tr>\n",
       "  </tbody>\n",
       "</table>\n",
       "<p>5 rows × 287 columns</p>\n",
       "</div>"
      ],
      "text/plain": [
       "   row_id     A0T0G0C10  A0T0G1C9      A0T0G2C8  A0T0G3C7  A0T0G4C6  A0T0G5C5  \\\n",
       "0  200000 -9.536743e-07 -0.000002 -9.153442e-07  0.000024  0.000034 -0.000002   \n",
       "1  200001 -9.536743e-07 -0.000010 -4.291534e-05 -0.000114  0.001800 -0.000240   \n",
       "2  200002  4.632568e-08  0.000003  8.465576e-08 -0.000014  0.000007 -0.000005   \n",
       "3  200003 -9.536743e-07 -0.000008  8.084656e-06  0.000216  0.000420  0.000514   \n",
       "4  200004 -9.536743e-07 -0.000010 -4.291534e-05 -0.000114 -0.000200 -0.000240   \n",
       "\n",
       "   A0T0G6C4  A0T0G7C3  A0T0G8C2  ...  A8T0G0C2  A8T0G1C1  A8T0G2C0  A8T1G0C1  \\\n",
       "0  0.000021  0.000024 -0.000009  ...  0.000039  0.000085  0.000055  0.000108   \n",
       "1  0.001800 -0.000114  0.000957  ... -0.000043  0.000914 -0.000043 -0.000086   \n",
       "2 -0.000004  0.000003  0.000004  ...  0.000041  0.000102  0.000084  0.000111   \n",
       "3  0.000452  0.000187 -0.000005  ...  0.000069  0.000158  0.000098  0.000175   \n",
       "4 -0.000200 -0.000114 -0.000043  ... -0.000043 -0.000086 -0.000043 -0.000086   \n",
       "\n",
       "   A8T1G1C0  A8T2G0C0  A9T0G0C1  A9T0G1C0  A9T1G0C0     A10T0G0C0  \n",
       "0  0.000090  0.000059  0.000010  0.000006  0.000027  4.632568e-08  \n",
       "1 -0.000086 -0.000043 -0.000010 -0.000010 -0.000010 -9.536743e-07  \n",
       "2  0.000117  0.000070  0.000020  0.000030  0.000021  4.632568e-08  \n",
       "3  0.000217  0.000150  0.000018  0.000016  0.000051 -9.536743e-07  \n",
       "4  0.000914 -0.000043 -0.000010 -0.000010  0.000990 -9.536743e-07  \n",
       "\n",
       "[5 rows x 287 columns]"
      ]
     },
     "execution_count": 33,
     "metadata": {},
     "output_type": "execute_result"
    }
   ],
   "source": [
    "# Load Kaggle's submission test set\n",
    "df_subm = pd.read_csv(\"/kaggle/input/tabular-playground-series-feb-2022/test.csv\")\n",
    "df_subm.head()"
   ]
  },
  {
   "cell_type": "code",
   "execution_count": 34,
   "id": "35dff535",
   "metadata": {
    "execution": {
     "iopub.execute_input": "2022-03-04T16:23:28.916372Z",
     "iopub.status.busy": "2022-03-04T16:23:28.915475Z",
     "iopub.status.idle": "2022-03-04T16:23:28.922581Z",
     "shell.execute_reply": "2022-03-04T16:23:28.922124Z",
     "shell.execute_reply.started": "2022-03-04T16:17:53.250161Z"
    },
    "papermill": {
     "duration": 0.176803,
     "end_time": "2022-03-04T16:23:28.922716",
     "exception": false,
     "start_time": "2022-03-04T16:23:28.745913",
     "status": "completed"
    },
    "tags": []
   },
   "outputs": [
    {
     "data": {
      "text/html": [
       "<div>\n",
       "<style scoped>\n",
       "    .dataframe tbody tr th:only-of-type {\n",
       "        vertical-align: middle;\n",
       "    }\n",
       "\n",
       "    .dataframe tbody tr th {\n",
       "        vertical-align: top;\n",
       "    }\n",
       "\n",
       "    .dataframe thead th {\n",
       "        text-align: right;\n",
       "    }\n",
       "</style>\n",
       "<table border=\"1\" class=\"dataframe\">\n",
       "  <thead>\n",
       "    <tr style=\"text-align: right;\">\n",
       "      <th></th>\n",
       "      <th>row_id</th>\n",
       "    </tr>\n",
       "  </thead>\n",
       "  <tbody>\n",
       "    <tr>\n",
       "      <th>0</th>\n",
       "      <td>200000</td>\n",
       "    </tr>\n",
       "    <tr>\n",
       "      <th>1</th>\n",
       "      <td>200001</td>\n",
       "    </tr>\n",
       "    <tr>\n",
       "      <th>2</th>\n",
       "      <td>200002</td>\n",
       "    </tr>\n",
       "    <tr>\n",
       "      <th>3</th>\n",
       "      <td>200003</td>\n",
       "    </tr>\n",
       "    <tr>\n",
       "      <th>4</th>\n",
       "      <td>200004</td>\n",
       "    </tr>\n",
       "  </tbody>\n",
       "</table>\n",
       "</div>"
      ],
      "text/plain": [
       "   row_id\n",
       "0  200000\n",
       "1  200001\n",
       "2  200002\n",
       "3  200003\n",
       "4  200004"
      ]
     },
     "execution_count": 34,
     "metadata": {},
     "output_type": "execute_result"
    }
   ],
   "source": [
    "df_subm_results = pd.DataFrame(df_subm[\"row_id\"])\n",
    "df_subm_results.head()"
   ]
  },
  {
   "cell_type": "code",
   "execution_count": 35,
   "id": "1c5a4187",
   "metadata": {
    "execution": {
     "iopub.execute_input": "2022-03-04T16:23:29.262615Z",
     "iopub.status.busy": "2022-03-04T16:23:29.262038Z",
     "iopub.status.idle": "2022-03-04T16:23:29.359240Z",
     "shell.execute_reply": "2022-03-04T16:23:29.358740Z",
     "shell.execute_reply.started": "2022-03-04T16:17:53.263938Z"
    },
    "papermill": {
     "duration": 0.26832,
     "end_time": "2022-03-04T16:23:29.359385",
     "exception": false,
     "start_time": "2022-03-04T16:23:29.091065",
     "status": "completed"
    },
    "tags": []
   },
   "outputs": [],
   "source": [
    "X_subm = df_subm.drop(columns=\"row_id\")"
   ]
  },
  {
   "cell_type": "code",
   "execution_count": 36,
   "id": "4c7dddd1",
   "metadata": {
    "execution": {
     "iopub.execute_input": "2022-03-04T16:23:29.703361Z",
     "iopub.status.busy": "2022-03-04T16:23:29.702783Z",
     "iopub.status.idle": "2022-03-04T16:23:30.127149Z",
     "shell.execute_reply": "2022-03-04T16:23:30.127965Z",
     "shell.execute_reply.started": "2022-03-04T16:17:53.364878Z"
    },
    "papermill": {
     "duration": 0.602809,
     "end_time": "2022-03-04T16:23:30.128214",
     "exception": false,
     "start_time": "2022-03-04T16:23:29.525405",
     "status": "completed"
    },
    "tags": []
   },
   "outputs": [
    {
     "data": {
      "text/plain": [
       "(100000, 50)"
      ]
     },
     "execution_count": 36,
     "metadata": {},
     "output_type": "execute_result"
    }
   ],
   "source": [
    "# Standardize test set\n",
    "X_subm_st = st_scaler.transform(X_subm)\n",
    "X_subm_st.shape\n",
    "\n",
    "# PCA transform on test set\n",
    "X_subm_pca = pca.transform(X_subm_st)\n",
    "X_subm_pca.shape"
   ]
  },
  {
   "cell_type": "code",
   "execution_count": 37,
   "id": "5d7329aa",
   "metadata": {
    "execution": {
     "iopub.execute_input": "2022-03-04T16:23:30.521166Z",
     "iopub.status.busy": "2022-03-04T16:23:30.520025Z",
     "iopub.status.idle": "2022-03-04T16:23:30.551278Z",
     "shell.execute_reply": "2022-03-04T16:23:30.550780Z",
     "shell.execute_reply.started": "2022-03-04T16:17:53.852877Z"
    },
    "papermill": {
     "duration": 0.205282,
     "end_time": "2022-03-04T16:23:30.551394",
     "exception": false,
     "start_time": "2022-03-04T16:23:30.346112",
     "status": "completed"
    },
    "tags": []
   },
   "outputs": [],
   "source": [
    "if use_neural_network:\n",
    "    # Predict probabilty distributions over possible labels\n",
    "    Y_subm_predicted_p = final_model.predict(X_subm_pca)\n",
    "    # Store the index of the most probable label\n",
    "    Y_subm_predicted = np.argmax(Y_subm_predicted_p, axis=1)\n",
    "else:\n",
    "    Y_subm_predicted = final_model.predict(X_subm_pca)\n",
    "\n",
    "# Convert label indexes to text\n",
    "Y_subm_predicted_labeled = label_encoder.inverse_transform(Y_subm_predicted)\n",
    "# Store the predicted targets in the dataframe\n",
    "df_subm_results[\"target\"] = Y_subm_predicted_labeled"
   ]
  },
  {
   "cell_type": "code",
   "execution_count": 38,
   "id": "b24af749",
   "metadata": {
    "execution": {
     "iopub.execute_input": "2022-03-04T16:23:30.904319Z",
     "iopub.status.busy": "2022-03-04T16:23:30.903485Z",
     "iopub.status.idle": "2022-03-04T16:23:30.907368Z",
     "shell.execute_reply": "2022-03-04T16:23:30.907946Z",
     "shell.execute_reply.started": "2022-03-04T16:17:53.919904Z"
    },
    "papermill": {
     "duration": 0.188195,
     "end_time": "2022-03-04T16:23:30.908152",
     "exception": false,
     "start_time": "2022-03-04T16:23:30.719957",
     "status": "completed"
    },
    "tags": []
   },
   "outputs": [
    {
     "data": {
      "text/html": [
       "<div>\n",
       "<style scoped>\n",
       "    .dataframe tbody tr th:only-of-type {\n",
       "        vertical-align: middle;\n",
       "    }\n",
       "\n",
       "    .dataframe tbody tr th {\n",
       "        vertical-align: top;\n",
       "    }\n",
       "\n",
       "    .dataframe thead th {\n",
       "        text-align: right;\n",
       "    }\n",
       "</style>\n",
       "<table border=\"1\" class=\"dataframe\">\n",
       "  <thead>\n",
       "    <tr style=\"text-align: right;\">\n",
       "      <th></th>\n",
       "      <th>row_id</th>\n",
       "      <th>target</th>\n",
       "    </tr>\n",
       "  </thead>\n",
       "  <tbody>\n",
       "    <tr>\n",
       "      <th>0</th>\n",
       "      <td>200000</td>\n",
       "      <td>Escherichia_fergusonii</td>\n",
       "    </tr>\n",
       "    <tr>\n",
       "      <th>1</th>\n",
       "      <td>200001</td>\n",
       "      <td>Salmonella_enterica</td>\n",
       "    </tr>\n",
       "    <tr>\n",
       "      <th>2</th>\n",
       "      <td>200002</td>\n",
       "      <td>Enterococcus_hirae</td>\n",
       "    </tr>\n",
       "    <tr>\n",
       "      <th>3</th>\n",
       "      <td>200003</td>\n",
       "      <td>Salmonella_enterica</td>\n",
       "    </tr>\n",
       "    <tr>\n",
       "      <th>4</th>\n",
       "      <td>200004</td>\n",
       "      <td>Staphylococcus_aureus</td>\n",
       "    </tr>\n",
       "  </tbody>\n",
       "</table>\n",
       "</div>"
      ],
      "text/plain": [
       "   row_id                  target\n",
       "0  200000  Escherichia_fergusonii\n",
       "1  200001     Salmonella_enterica\n",
       "2  200002      Enterococcus_hirae\n",
       "3  200003     Salmonella_enterica\n",
       "4  200004   Staphylococcus_aureus"
      ]
     },
     "execution_count": 38,
     "metadata": {},
     "output_type": "execute_result"
    }
   ],
   "source": [
    "df_subm_results.head()"
   ]
  },
  {
   "cell_type": "code",
   "execution_count": 39,
   "id": "8290495f",
   "metadata": {
    "execution": {
     "iopub.execute_input": "2022-03-04T16:23:31.266052Z",
     "iopub.status.busy": "2022-03-04T16:23:31.265401Z",
     "iopub.status.idle": "2022-03-04T16:23:31.495982Z",
     "shell.execute_reply": "2022-03-04T16:23:31.496405Z",
     "shell.execute_reply.started": "2022-03-04T16:17:53.938706Z"
    },
    "papermill": {
     "duration": 0.401815,
     "end_time": "2022-03-04T16:23:31.496617",
     "exception": false,
     "start_time": "2022-03-04T16:23:31.094802",
     "status": "completed"
    },
    "tags": []
   },
   "outputs": [],
   "source": [
    "df_subm_results.to_csv(\"submission.csv\", index=False)"
   ]
  },
  {
   "cell_type": "code",
   "execution_count": null,
   "id": "9c708b86",
   "metadata": {
    "papermill": {
     "duration": 0.163672,
     "end_time": "2022-03-04T16:23:31.828114",
     "exception": false,
     "start_time": "2022-03-04T16:23:31.664442",
     "status": "completed"
    },
    "tags": []
   },
   "outputs": [],
   "source": []
  },
  {
   "cell_type": "code",
   "execution_count": null,
   "id": "91794815",
   "metadata": {
    "papermill": {
     "duration": 0.167157,
     "end_time": "2022-03-04T16:23:32.160085",
     "exception": false,
     "start_time": "2022-03-04T16:23:31.992928",
     "status": "completed"
    },
    "tags": []
   },
   "outputs": [],
   "source": []
  }
 ],
 "metadata": {
  "kernelspec": {
   "display_name": "Python 3",
   "language": "python",
   "name": "python3"
  },
  "language_info": {
   "codemirror_mode": {
    "name": "ipython",
    "version": 3
   },
   "file_extension": ".py",
   "mimetype": "text/x-python",
   "name": "python",
   "nbconvert_exporter": "python",
   "pygments_lexer": "ipython3",
   "version": "3.7.12"
  },
  "papermill": {
   "default_parameters": {},
   "duration": 213.497904,
   "end_time": "2022-03-04T16:23:35.077603",
   "environment_variables": {},
   "exception": null,
   "input_path": "__notebook__.ipynb",
   "output_path": "__notebook__.ipynb",
   "parameters": {},
   "start_time": "2022-03-04T16:20:01.579699",
   "version": "2.3.3"
  }
 },
 "nbformat": 4,
 "nbformat_minor": 5
}
