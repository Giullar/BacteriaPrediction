{
 "cells": [
  {
   "cell_type": "markdown",
   "id": "c99a9106",
   "metadata": {
    "_cell_guid": "b1076dfc-b9ad-4769-8c92-a6c4dae69d19",
    "_uuid": "8f2839f25d086af736a60e9eeb907d3b93b6e0e5",
    "execution": {
     "iopub.execute_input": "2022-03-02T14:33:46.222715Z",
     "iopub.status.busy": "2022-03-02T14:33:46.221872Z",
     "iopub.status.idle": "2022-03-02T14:33:46.251698Z",
     "shell.execute_reply": "2022-03-02T14:33:46.250819Z",
     "shell.execute_reply.started": "2022-03-02T14:33:46.222522Z"
    },
    "papermill": {
     "duration": 0.073934,
     "end_time": "2022-03-09T15:34:28.721720",
     "exception": false,
     "start_time": "2022-03-09T15:34:28.647786",
     "status": "completed"
    },
    "tags": []
   },
   "source": [
    "# **Bacteria Prediction**"
   ]
  },
  {
   "cell_type": "markdown",
   "id": "258ae0e3",
   "metadata": {
    "papermill": {
     "duration": 0.069611,
     "end_time": "2022-03-09T15:34:28.862929",
     "exception": false,
     "start_time": "2022-03-09T15:34:28.793318",
     "status": "completed"
    },
    "tags": []
   },
   "source": [
    "## **Data Loading**"
   ]
  },
  {
   "cell_type": "code",
   "execution_count": 1,
   "id": "5eeeae1e",
   "metadata": {
    "execution": {
     "iopub.execute_input": "2022-03-09T15:34:29.011741Z",
     "iopub.status.busy": "2022-03-09T15:34:29.009925Z",
     "iopub.status.idle": "2022-03-09T15:34:29.021553Z",
     "shell.execute_reply": "2022-03-09T15:34:29.022187Z",
     "shell.execute_reply.started": "2022-03-09T15:15:56.255966Z"
    },
    "papermill": {
     "duration": 0.088628,
     "end_time": "2022-03-09T15:34:29.022491",
     "exception": false,
     "start_time": "2022-03-09T15:34:28.933863",
     "status": "completed"
    },
    "tags": []
   },
   "outputs": [],
   "source": [
    "import os\n",
    "import numpy as np\n",
    "import pandas as pd\n",
    "import matplotlib.pyplot as plt\n",
    "\n",
    "# Global variables\n",
    "random_seed = 42"
   ]
  },
  {
   "cell_type": "code",
   "execution_count": 2,
   "id": "51ac594b",
   "metadata": {
    "execution": {
     "iopub.execute_input": "2022-03-09T15:34:29.169368Z",
     "iopub.status.busy": "2022-03-09T15:34:29.168676Z",
     "iopub.status.idle": "2022-03-09T15:34:29.172455Z",
     "shell.execute_reply": "2022-03-09T15:34:29.173106Z",
     "shell.execute_reply.started": "2022-03-09T15:15:56.263021Z"
    },
    "papermill": {
     "duration": 0.07912,
     "end_time": "2022-03-09T15:34:29.173340",
     "exception": false,
     "start_time": "2022-03-09T15:34:29.094220",
     "status": "completed"
    },
    "tags": []
   },
   "outputs": [
    {
     "name": "stdout",
     "output_type": "stream",
     "text": [
      "/kaggle/input/tabular-playground-series-feb-2022/sample_submission.csv\n",
      "/kaggle/input/tabular-playground-series-feb-2022/train.csv\n",
      "/kaggle/input/tabular-playground-series-feb-2022/test.csv\n"
     ]
    }
   ],
   "source": [
    "# Print directory structure\n",
    "for dirname, _, filenames in os.walk('/kaggle/input'):\n",
    "    for filename in filenames:\n",
    "        print(os.path.join(dirname, filename))"
   ]
  },
  {
   "cell_type": "code",
   "execution_count": 3,
   "id": "c95c274e",
   "metadata": {
    "execution": {
     "iopub.execute_input": "2022-03-09T15:34:29.328112Z",
     "iopub.status.busy": "2022-03-09T15:34:29.327413Z",
     "iopub.status.idle": "2022-03-09T15:34:57.324815Z",
     "shell.execute_reply": "2022-03-09T15:34:57.324253Z",
     "shell.execute_reply.started": "2022-03-09T15:15:56.280486Z"
    },
    "papermill": {
     "duration": 28.073903,
     "end_time": "2022-03-09T15:34:57.325007",
     "exception": false,
     "start_time": "2022-03-09T15:34:29.251104",
     "status": "completed"
    },
    "tags": []
   },
   "outputs": [],
   "source": [
    "# Load training set\n",
    "df = pd.read_csv(\"/kaggle/input/tabular-playground-series-feb-2022/train.csv\")"
   ]
  },
  {
   "cell_type": "markdown",
   "id": "c9c9d379",
   "metadata": {
    "papermill": {
     "duration": 0.070611,
     "end_time": "2022-03-09T15:34:57.466853",
     "exception": false,
     "start_time": "2022-03-09T15:34:57.396242",
     "status": "completed"
    },
    "tags": []
   },
   "source": [
    "## **Data Analysis**"
   ]
  },
  {
   "cell_type": "code",
   "execution_count": 4,
   "id": "ec4ea4ec",
   "metadata": {
    "execution": {
     "iopub.execute_input": "2022-03-09T15:34:57.613529Z",
     "iopub.status.busy": "2022-03-09T15:34:57.612762Z",
     "iopub.status.idle": "2022-03-09T15:34:57.619159Z",
     "shell.execute_reply": "2022-03-09T15:34:57.619756Z",
     "shell.execute_reply.started": "2022-03-09T15:16:19.539089Z"
    },
    "papermill": {
     "duration": 0.081252,
     "end_time": "2022-03-09T15:34:57.619942",
     "exception": false,
     "start_time": "2022-03-09T15:34:57.538690",
     "status": "completed"
    },
    "tags": []
   },
   "outputs": [
    {
     "data": {
      "text/plain": [
       "(200000, 288)"
      ]
     },
     "execution_count": 4,
     "metadata": {},
     "output_type": "execute_result"
    }
   ],
   "source": [
    "df.shape"
   ]
  },
  {
   "cell_type": "code",
   "execution_count": 5,
   "id": "88b36a9e",
   "metadata": {
    "execution": {
     "iopub.execute_input": "2022-03-09T15:34:57.766407Z",
     "iopub.status.busy": "2022-03-09T15:34:57.765729Z",
     "iopub.status.idle": "2022-03-09T15:34:57.800553Z",
     "shell.execute_reply": "2022-03-09T15:34:57.799979Z",
     "shell.execute_reply.started": "2022-03-09T15:16:19.548887Z"
    },
    "papermill": {
     "duration": 0.109659,
     "end_time": "2022-03-09T15:34:57.800704",
     "exception": false,
     "start_time": "2022-03-09T15:34:57.691045",
     "status": "completed"
    },
    "tags": []
   },
   "outputs": [
    {
     "data": {
      "text/html": [
       "<div>\n",
       "<style scoped>\n",
       "    .dataframe tbody tr th:only-of-type {\n",
       "        vertical-align: middle;\n",
       "    }\n",
       "\n",
       "    .dataframe tbody tr th {\n",
       "        vertical-align: top;\n",
       "    }\n",
       "\n",
       "    .dataframe thead th {\n",
       "        text-align: right;\n",
       "    }\n",
       "</style>\n",
       "<table border=\"1\" class=\"dataframe\">\n",
       "  <thead>\n",
       "    <tr style=\"text-align: right;\">\n",
       "      <th></th>\n",
       "      <th>row_id</th>\n",
       "      <th>A0T0G0C10</th>\n",
       "      <th>A0T0G1C9</th>\n",
       "      <th>A0T0G2C8</th>\n",
       "      <th>A0T0G3C7</th>\n",
       "      <th>A0T0G4C6</th>\n",
       "      <th>A0T0G5C5</th>\n",
       "      <th>A0T0G6C4</th>\n",
       "      <th>A0T0G7C3</th>\n",
       "      <th>A0T0G8C2</th>\n",
       "      <th>...</th>\n",
       "      <th>A8T0G1C1</th>\n",
       "      <th>A8T0G2C0</th>\n",
       "      <th>A8T1G0C1</th>\n",
       "      <th>A8T1G1C0</th>\n",
       "      <th>A8T2G0C0</th>\n",
       "      <th>A9T0G0C1</th>\n",
       "      <th>A9T0G1C0</th>\n",
       "      <th>A9T1G0C0</th>\n",
       "      <th>A10T0G0C0</th>\n",
       "      <th>target</th>\n",
       "    </tr>\n",
       "  </thead>\n",
       "  <tbody>\n",
       "    <tr>\n",
       "      <th>0</th>\n",
       "      <td>0</td>\n",
       "      <td>-9.536743e-07</td>\n",
       "      <td>-0.000010</td>\n",
       "      <td>-0.000043</td>\n",
       "      <td>-0.000114</td>\n",
       "      <td>-0.000200</td>\n",
       "      <td>-0.000240</td>\n",
       "      <td>-0.000200</td>\n",
       "      <td>-0.000114</td>\n",
       "      <td>-0.000043</td>\n",
       "      <td>...</td>\n",
       "      <td>-0.000086</td>\n",
       "      <td>-0.000043</td>\n",
       "      <td>-0.000086</td>\n",
       "      <td>-0.000086</td>\n",
       "      <td>-0.000043</td>\n",
       "      <td>-0.000010</td>\n",
       "      <td>-0.000010</td>\n",
       "      <td>-0.000010</td>\n",
       "      <td>-9.536743e-07</td>\n",
       "      <td>Streptococcus_pyogenes</td>\n",
       "    </tr>\n",
       "    <tr>\n",
       "      <th>1</th>\n",
       "      <td>1</td>\n",
       "      <td>-9.536743e-07</td>\n",
       "      <td>-0.000010</td>\n",
       "      <td>-0.000043</td>\n",
       "      <td>0.000886</td>\n",
       "      <td>-0.000200</td>\n",
       "      <td>0.000760</td>\n",
       "      <td>-0.000200</td>\n",
       "      <td>-0.000114</td>\n",
       "      <td>-0.000043</td>\n",
       "      <td>...</td>\n",
       "      <td>-0.000086</td>\n",
       "      <td>-0.000043</td>\n",
       "      <td>0.000914</td>\n",
       "      <td>0.000914</td>\n",
       "      <td>-0.000043</td>\n",
       "      <td>-0.000010</td>\n",
       "      <td>-0.000010</td>\n",
       "      <td>-0.000010</td>\n",
       "      <td>-9.536743e-07</td>\n",
       "      <td>Salmonella_enterica</td>\n",
       "    </tr>\n",
       "    <tr>\n",
       "      <th>2</th>\n",
       "      <td>2</td>\n",
       "      <td>-9.536743e-07</td>\n",
       "      <td>-0.000002</td>\n",
       "      <td>0.000007</td>\n",
       "      <td>0.000129</td>\n",
       "      <td>0.000268</td>\n",
       "      <td>0.000270</td>\n",
       "      <td>0.000243</td>\n",
       "      <td>0.000125</td>\n",
       "      <td>0.000001</td>\n",
       "      <td>...</td>\n",
       "      <td>0.000084</td>\n",
       "      <td>0.000048</td>\n",
       "      <td>0.000081</td>\n",
       "      <td>0.000106</td>\n",
       "      <td>0.000072</td>\n",
       "      <td>0.000010</td>\n",
       "      <td>0.000008</td>\n",
       "      <td>0.000019</td>\n",
       "      <td>1.046326e-06</td>\n",
       "      <td>Salmonella_enterica</td>\n",
       "    </tr>\n",
       "    <tr>\n",
       "      <th>3</th>\n",
       "      <td>3</td>\n",
       "      <td>4.632568e-08</td>\n",
       "      <td>-0.000006</td>\n",
       "      <td>0.000012</td>\n",
       "      <td>0.000245</td>\n",
       "      <td>0.000492</td>\n",
       "      <td>0.000522</td>\n",
       "      <td>0.000396</td>\n",
       "      <td>0.000197</td>\n",
       "      <td>-0.000003</td>\n",
       "      <td>...</td>\n",
       "      <td>0.000151</td>\n",
       "      <td>0.000100</td>\n",
       "      <td>0.000180</td>\n",
       "      <td>0.000202</td>\n",
       "      <td>0.000153</td>\n",
       "      <td>0.000021</td>\n",
       "      <td>0.000015</td>\n",
       "      <td>0.000046</td>\n",
       "      <td>-9.536743e-07</td>\n",
       "      <td>Salmonella_enterica</td>\n",
       "    </tr>\n",
       "    <tr>\n",
       "      <th>4</th>\n",
       "      <td>4</td>\n",
       "      <td>-9.536743e-07</td>\n",
       "      <td>-0.000010</td>\n",
       "      <td>-0.000043</td>\n",
       "      <td>-0.000114</td>\n",
       "      <td>-0.000200</td>\n",
       "      <td>-0.000240</td>\n",
       "      <td>-0.000200</td>\n",
       "      <td>-0.000114</td>\n",
       "      <td>-0.000043</td>\n",
       "      <td>...</td>\n",
       "      <td>-0.000086</td>\n",
       "      <td>-0.000043</td>\n",
       "      <td>-0.000086</td>\n",
       "      <td>-0.000086</td>\n",
       "      <td>-0.000043</td>\n",
       "      <td>-0.000010</td>\n",
       "      <td>-0.000010</td>\n",
       "      <td>-0.000010</td>\n",
       "      <td>-9.536743e-07</td>\n",
       "      <td>Enterococcus_hirae</td>\n",
       "    </tr>\n",
       "  </tbody>\n",
       "</table>\n",
       "<p>5 rows × 288 columns</p>\n",
       "</div>"
      ],
      "text/plain": [
       "   row_id     A0T0G0C10  A0T0G1C9  A0T0G2C8  A0T0G3C7  A0T0G4C6  A0T0G5C5  \\\n",
       "0       0 -9.536743e-07 -0.000010 -0.000043 -0.000114 -0.000200 -0.000240   \n",
       "1       1 -9.536743e-07 -0.000010 -0.000043  0.000886 -0.000200  0.000760   \n",
       "2       2 -9.536743e-07 -0.000002  0.000007  0.000129  0.000268  0.000270   \n",
       "3       3  4.632568e-08 -0.000006  0.000012  0.000245  0.000492  0.000522   \n",
       "4       4 -9.536743e-07 -0.000010 -0.000043 -0.000114 -0.000200 -0.000240   \n",
       "\n",
       "   A0T0G6C4  A0T0G7C3  A0T0G8C2  ...  A8T0G1C1  A8T0G2C0  A8T1G0C1  A8T1G1C0  \\\n",
       "0 -0.000200 -0.000114 -0.000043  ... -0.000086 -0.000043 -0.000086 -0.000086   \n",
       "1 -0.000200 -0.000114 -0.000043  ... -0.000086 -0.000043  0.000914  0.000914   \n",
       "2  0.000243  0.000125  0.000001  ...  0.000084  0.000048  0.000081  0.000106   \n",
       "3  0.000396  0.000197 -0.000003  ...  0.000151  0.000100  0.000180  0.000202   \n",
       "4 -0.000200 -0.000114 -0.000043  ... -0.000086 -0.000043 -0.000086 -0.000086   \n",
       "\n",
       "   A8T2G0C0  A9T0G0C1  A9T0G1C0  A9T1G0C0     A10T0G0C0  \\\n",
       "0 -0.000043 -0.000010 -0.000010 -0.000010 -9.536743e-07   \n",
       "1 -0.000043 -0.000010 -0.000010 -0.000010 -9.536743e-07   \n",
       "2  0.000072  0.000010  0.000008  0.000019  1.046326e-06   \n",
       "3  0.000153  0.000021  0.000015  0.000046 -9.536743e-07   \n",
       "4 -0.000043 -0.000010 -0.000010 -0.000010 -9.536743e-07   \n",
       "\n",
       "                   target  \n",
       "0  Streptococcus_pyogenes  \n",
       "1     Salmonella_enterica  \n",
       "2     Salmonella_enterica  \n",
       "3     Salmonella_enterica  \n",
       "4      Enterococcus_hirae  \n",
       "\n",
       "[5 rows x 288 columns]"
      ]
     },
     "execution_count": 5,
     "metadata": {},
     "output_type": "execute_result"
    }
   ],
   "source": [
    "df.head()"
   ]
  },
  {
   "cell_type": "code",
   "execution_count": 6,
   "id": "e3bbef4a",
   "metadata": {
    "execution": {
     "iopub.execute_input": "2022-03-09T15:34:57.953725Z",
     "iopub.status.busy": "2022-03-09T15:34:57.952923Z",
     "iopub.status.idle": "2022-03-09T15:34:57.956215Z",
     "shell.execute_reply": "2022-03-09T15:34:57.956709Z",
     "shell.execute_reply.started": "2022-03-09T15:16:19.581867Z"
    },
    "papermill": {
     "duration": 0.083419,
     "end_time": "2022-03-09T15:34:57.956908",
     "exception": false,
     "start_time": "2022-03-09T15:34:57.873489",
     "status": "completed"
    },
    "tags": []
   },
   "outputs": [
    {
     "data": {
      "text/plain": [
       "row_id         int64\n",
       "A0T0G0C10    float64\n",
       "A0T0G1C9     float64\n",
       "A0T0G2C8     float64\n",
       "A0T0G3C7     float64\n",
       "              ...   \n",
       "A9T0G0C1     float64\n",
       "A9T0G1C0     float64\n",
       "A9T1G0C0     float64\n",
       "A10T0G0C0    float64\n",
       "target        object\n",
       "Length: 288, dtype: object"
      ]
     },
     "execution_count": 6,
     "metadata": {},
     "output_type": "execute_result"
    }
   ],
   "source": [
    "df.dtypes"
   ]
  },
  {
   "cell_type": "code",
   "execution_count": 7,
   "id": "75da84bd",
   "metadata": {
    "execution": {
     "iopub.execute_input": "2022-03-09T15:34:58.271801Z",
     "iopub.status.busy": "2022-03-09T15:34:58.271137Z",
     "iopub.status.idle": "2022-03-09T15:34:58.278857Z",
     "shell.execute_reply": "2022-03-09T15:34:58.278337Z",
     "shell.execute_reply.started": "2022-03-09T15:16:19.592725Z"
    },
    "papermill": {
     "duration": 0.249309,
     "end_time": "2022-03-09T15:34:58.278998",
     "exception": false,
     "start_time": "2022-03-09T15:34:58.029689",
     "status": "completed"
    },
    "tags": []
   },
   "outputs": [
    {
     "data": {
      "text/plain": [
       "(200000, 287)"
      ]
     },
     "execution_count": 7,
     "metadata": {},
     "output_type": "execute_result"
    }
   ],
   "source": [
    "# We drop the row_id column because we will not use it\n",
    "df.drop(columns=[\"row_id\"], inplace=True)\n",
    "df.shape"
   ]
  },
  {
   "cell_type": "code",
   "execution_count": 8,
   "id": "4c729fa4",
   "metadata": {
    "execution": {
     "iopub.execute_input": "2022-03-09T15:34:58.429651Z",
     "iopub.status.busy": "2022-03-09T15:34:58.429012Z",
     "iopub.status.idle": "2022-03-09T15:34:58.570753Z",
     "shell.execute_reply": "2022-03-09T15:34:58.570246Z",
     "shell.execute_reply.started": "2022-03-09T15:16:19.797809Z"
    },
    "papermill": {
     "duration": 0.2184,
     "end_time": "2022-03-09T15:34:58.570909",
     "exception": false,
     "start_time": "2022-03-09T15:34:58.352509",
     "status": "completed"
    },
    "tags": []
   },
   "outputs": [
    {
     "data": {
      "text/plain": [
       "False"
      ]
     },
     "execution_count": 8,
     "metadata": {},
     "output_type": "execute_result"
    }
   ],
   "source": [
    "# Check the presence of null values\n",
    "df.isnull().values.any()"
   ]
  },
  {
   "cell_type": "code",
   "execution_count": 9,
   "id": "b034c276",
   "metadata": {
    "execution": {
     "iopub.execute_input": "2022-03-09T15:34:58.724169Z",
     "iopub.status.busy": "2022-03-09T15:34:58.723447Z",
     "iopub.status.idle": "2022-03-09T15:34:58.893609Z",
     "shell.execute_reply": "2022-03-09T15:34:58.893089Z",
     "shell.execute_reply.started": "2022-03-09T15:16:19.951635Z"
    },
    "papermill": {
     "duration": 0.248978,
     "end_time": "2022-03-09T15:34:58.893745",
     "exception": false,
     "start_time": "2022-03-09T15:34:58.644767",
     "status": "completed"
    },
    "tags": []
   },
   "outputs": [
    {
     "data": {
      "text/plain": [
       "True"
      ]
     },
     "execution_count": 9,
     "metadata": {},
     "output_type": "execute_result"
    }
   ],
   "source": [
    "# Check the absence of values equals to zero\n",
    "df.all().all()"
   ]
  },
  {
   "cell_type": "markdown",
   "id": "4e385c7e",
   "metadata": {
    "papermill": {
     "duration": 0.073899,
     "end_time": "2022-03-09T15:34:59.041088",
     "exception": false,
     "start_time": "2022-03-09T15:34:58.967189",
     "status": "completed"
    },
    "tags": []
   },
   "source": [
    "As we have seen, in the dataframe there aren't null or 0 values."
   ]
  },
  {
   "cell_type": "code",
   "execution_count": 10,
   "id": "4edcbce3",
   "metadata": {
    "execution": {
     "iopub.execute_input": "2022-03-09T15:34:59.197681Z",
     "iopub.status.busy": "2022-03-09T15:34:59.196661Z",
     "iopub.status.idle": "2022-03-09T15:35:02.158378Z",
     "shell.execute_reply": "2022-03-09T15:35:02.157772Z",
     "shell.execute_reply.started": "2022-03-09T15:16:20.134067Z"
    },
    "papermill": {
     "duration": 3.042769,
     "end_time": "2022-03-09T15:35:02.158524",
     "exception": false,
     "start_time": "2022-03-09T15:34:59.115755",
     "status": "completed"
    },
    "tags": []
   },
   "outputs": [
    {
     "data": {
      "text/html": [
       "<div>\n",
       "<style scoped>\n",
       "    .dataframe tbody tr th:only-of-type {\n",
       "        vertical-align: middle;\n",
       "    }\n",
       "\n",
       "    .dataframe tbody tr th {\n",
       "        vertical-align: top;\n",
       "    }\n",
       "\n",
       "    .dataframe thead th {\n",
       "        text-align: right;\n",
       "    }\n",
       "</style>\n",
       "<table border=\"1\" class=\"dataframe\">\n",
       "  <thead>\n",
       "    <tr style=\"text-align: right;\">\n",
       "      <th></th>\n",
       "      <th>A0T0G0C10</th>\n",
       "      <th>A0T0G1C9</th>\n",
       "      <th>A0T0G2C8</th>\n",
       "      <th>A0T0G3C7</th>\n",
       "      <th>A0T0G4C6</th>\n",
       "      <th>A0T0G5C5</th>\n",
       "      <th>A0T0G6C4</th>\n",
       "      <th>A0T0G7C3</th>\n",
       "      <th>A0T0G8C2</th>\n",
       "      <th>A0T0G9C1</th>\n",
       "      <th>...</th>\n",
       "      <th>A8T0G0C2</th>\n",
       "      <th>A8T0G1C1</th>\n",
       "      <th>A8T0G2C0</th>\n",
       "      <th>A8T1G0C1</th>\n",
       "      <th>A8T1G1C0</th>\n",
       "      <th>A8T2G0C0</th>\n",
       "      <th>A9T0G0C1</th>\n",
       "      <th>A9T0G1C0</th>\n",
       "      <th>A9T1G0C0</th>\n",
       "      <th>A10T0G0C0</th>\n",
       "    </tr>\n",
       "  </thead>\n",
       "  <tbody>\n",
       "    <tr>\n",
       "      <th>count</th>\n",
       "      <td>2.000000e+05</td>\n",
       "      <td>200000.000000</td>\n",
       "      <td>200000.000000</td>\n",
       "      <td>200000.000000</td>\n",
       "      <td>200000.000000</td>\n",
       "      <td>200000.000000</td>\n",
       "      <td>200000.000000</td>\n",
       "      <td>200000.000000</td>\n",
       "      <td>200000.000000</td>\n",
       "      <td>200000.000000</td>\n",
       "      <td>...</td>\n",
       "      <td>200000.000000</td>\n",
       "      <td>200000.000000</td>\n",
       "      <td>200000.000000</td>\n",
       "      <td>200000.000000</td>\n",
       "      <td>200000.000000</td>\n",
       "      <td>200000.000000</td>\n",
       "      <td>200000.000000</td>\n",
       "      <td>2.000000e+05</td>\n",
       "      <td>2.000000e+05</td>\n",
       "      <td>2.000000e+05</td>\n",
       "    </tr>\n",
       "    <tr>\n",
       "      <th>mean</th>\n",
       "      <td>6.421457e-07</td>\n",
       "      <td>-0.000003</td>\n",
       "      <td>-0.000014</td>\n",
       "      <td>-0.000010</td>\n",
       "      <td>0.000005</td>\n",
       "      <td>0.000025</td>\n",
       "      <td>0.000014</td>\n",
       "      <td>-0.000009</td>\n",
       "      <td>-0.000028</td>\n",
       "      <td>-0.000008</td>\n",
       "      <td>...</td>\n",
       "      <td>0.000135</td>\n",
       "      <td>0.000348</td>\n",
       "      <td>0.000253</td>\n",
       "      <td>0.000464</td>\n",
       "      <td>0.000581</td>\n",
       "      <td>0.000379</td>\n",
       "      <td>0.000062</td>\n",
       "      <td>8.982134e-05</td>\n",
       "      <td>1.170014e-04</td>\n",
       "      <td>2.215407e-07</td>\n",
       "    </tr>\n",
       "    <tr>\n",
       "      <th>std</th>\n",
       "      <td>8.654927e-05</td>\n",
       "      <td>0.000132</td>\n",
       "      <td>0.000287</td>\n",
       "      <td>0.000436</td>\n",
       "      <td>0.000683</td>\n",
       "      <td>0.000869</td>\n",
       "      <td>0.000775</td>\n",
       "      <td>0.000441</td>\n",
       "      <td>0.000107</td>\n",
       "      <td>0.000083</td>\n",
       "      <td>...</td>\n",
       "      <td>0.000711</td>\n",
       "      <td>0.001117</td>\n",
       "      <td>0.000914</td>\n",
       "      <td>0.001238</td>\n",
       "      <td>0.001528</td>\n",
       "      <td>0.001182</td>\n",
       "      <td>0.000466</td>\n",
       "      <td>5.475606e-04</td>\n",
       "      <td>6.788277e-04</td>\n",
       "      <td>2.050081e-05</td>\n",
       "    </tr>\n",
       "    <tr>\n",
       "      <th>min</th>\n",
       "      <td>-9.536743e-07</td>\n",
       "      <td>-0.000010</td>\n",
       "      <td>-0.000043</td>\n",
       "      <td>-0.000114</td>\n",
       "      <td>-0.000200</td>\n",
       "      <td>-0.000240</td>\n",
       "      <td>-0.000200</td>\n",
       "      <td>-0.000114</td>\n",
       "      <td>-0.000043</td>\n",
       "      <td>-0.000010</td>\n",
       "      <td>...</td>\n",
       "      <td>-0.000043</td>\n",
       "      <td>-0.000086</td>\n",
       "      <td>-0.000043</td>\n",
       "      <td>-0.000086</td>\n",
       "      <td>-0.000086</td>\n",
       "      <td>-0.000043</td>\n",
       "      <td>-0.000010</td>\n",
       "      <td>-9.536743e-06</td>\n",
       "      <td>-9.536743e-06</td>\n",
       "      <td>-9.536743e-07</td>\n",
       "    </tr>\n",
       "    <tr>\n",
       "      <th>25%</th>\n",
       "      <td>-9.536743e-07</td>\n",
       "      <td>-0.000010</td>\n",
       "      <td>-0.000043</td>\n",
       "      <td>-0.000114</td>\n",
       "      <td>-0.000200</td>\n",
       "      <td>-0.000240</td>\n",
       "      <td>-0.000200</td>\n",
       "      <td>-0.000114</td>\n",
       "      <td>-0.000043</td>\n",
       "      <td>-0.000010</td>\n",
       "      <td>...</td>\n",
       "      <td>-0.000043</td>\n",
       "      <td>-0.000086</td>\n",
       "      <td>-0.000043</td>\n",
       "      <td>-0.000086</td>\n",
       "      <td>-0.000086</td>\n",
       "      <td>-0.000043</td>\n",
       "      <td>-0.000010</td>\n",
       "      <td>-9.536743e-06</td>\n",
       "      <td>-9.536743e-06</td>\n",
       "      <td>-9.536743e-07</td>\n",
       "    </tr>\n",
       "    <tr>\n",
       "      <th>50%</th>\n",
       "      <td>-9.536743e-07</td>\n",
       "      <td>-0.000010</td>\n",
       "      <td>-0.000043</td>\n",
       "      <td>-0.000114</td>\n",
       "      <td>-0.000200</td>\n",
       "      <td>-0.000237</td>\n",
       "      <td>-0.000199</td>\n",
       "      <td>-0.000114</td>\n",
       "      <td>-0.000043</td>\n",
       "      <td>-0.000010</td>\n",
       "      <td>...</td>\n",
       "      <td>0.000014</td>\n",
       "      <td>0.000064</td>\n",
       "      <td>0.000047</td>\n",
       "      <td>0.000124</td>\n",
       "      <td>0.000114</td>\n",
       "      <td>0.000043</td>\n",
       "      <td>-0.000010</td>\n",
       "      <td>4.632568e-07</td>\n",
       "      <td>4.632568e-07</td>\n",
       "      <td>-9.536743e-07</td>\n",
       "    </tr>\n",
       "    <tr>\n",
       "      <th>75%</th>\n",
       "      <td>-9.536743e-07</td>\n",
       "      <td>-0.000003</td>\n",
       "      <td>-0.000013</td>\n",
       "      <td>-0.000004</td>\n",
       "      <td>-0.000011</td>\n",
       "      <td>0.000003</td>\n",
       "      <td>-0.000030</td>\n",
       "      <td>0.000004</td>\n",
       "      <td>-0.000028</td>\n",
       "      <td>-0.000010</td>\n",
       "      <td>...</td>\n",
       "      <td>0.000111</td>\n",
       "      <td>0.000463</td>\n",
       "      <td>0.000297</td>\n",
       "      <td>0.000684</td>\n",
       "      <td>0.000774</td>\n",
       "      <td>0.000365</td>\n",
       "      <td>0.000030</td>\n",
       "      <td>6.046326e-05</td>\n",
       "      <td>6.946326e-05</td>\n",
       "      <td>-9.536743e-07</td>\n",
       "    </tr>\n",
       "    <tr>\n",
       "      <th>max</th>\n",
       "      <td>9.999046e-03</td>\n",
       "      <td>0.009990</td>\n",
       "      <td>0.009957</td>\n",
       "      <td>0.009886</td>\n",
       "      <td>0.019800</td>\n",
       "      <td>0.019760</td>\n",
       "      <td>0.019800</td>\n",
       "      <td>0.009886</td>\n",
       "      <td>0.009957</td>\n",
       "      <td>0.009990</td>\n",
       "      <td>...</td>\n",
       "      <td>0.019957</td>\n",
       "      <td>0.019914</td>\n",
       "      <td>0.019957</td>\n",
       "      <td>0.019914</td>\n",
       "      <td>0.019914</td>\n",
       "      <td>0.019957</td>\n",
       "      <td>0.009990</td>\n",
       "      <td>9.990463e-03</td>\n",
       "      <td>1.999046e-02</td>\n",
       "      <td>9.990463e-04</td>\n",
       "    </tr>\n",
       "  </tbody>\n",
       "</table>\n",
       "<p>8 rows × 286 columns</p>\n",
       "</div>"
      ],
      "text/plain": [
       "          A0T0G0C10       A0T0G1C9       A0T0G2C8       A0T0G3C7  \\\n",
       "count  2.000000e+05  200000.000000  200000.000000  200000.000000   \n",
       "mean   6.421457e-07      -0.000003      -0.000014      -0.000010   \n",
       "std    8.654927e-05       0.000132       0.000287       0.000436   \n",
       "min   -9.536743e-07      -0.000010      -0.000043      -0.000114   \n",
       "25%   -9.536743e-07      -0.000010      -0.000043      -0.000114   \n",
       "50%   -9.536743e-07      -0.000010      -0.000043      -0.000114   \n",
       "75%   -9.536743e-07      -0.000003      -0.000013      -0.000004   \n",
       "max    9.999046e-03       0.009990       0.009957       0.009886   \n",
       "\n",
       "            A0T0G4C6       A0T0G5C5       A0T0G6C4       A0T0G7C3  \\\n",
       "count  200000.000000  200000.000000  200000.000000  200000.000000   \n",
       "mean        0.000005       0.000025       0.000014      -0.000009   \n",
       "std         0.000683       0.000869       0.000775       0.000441   \n",
       "min        -0.000200      -0.000240      -0.000200      -0.000114   \n",
       "25%        -0.000200      -0.000240      -0.000200      -0.000114   \n",
       "50%        -0.000200      -0.000237      -0.000199      -0.000114   \n",
       "75%        -0.000011       0.000003      -0.000030       0.000004   \n",
       "max         0.019800       0.019760       0.019800       0.009886   \n",
       "\n",
       "            A0T0G8C2       A0T0G9C1  ...       A8T0G0C2       A8T0G1C1  \\\n",
       "count  200000.000000  200000.000000  ...  200000.000000  200000.000000   \n",
       "mean       -0.000028      -0.000008  ...       0.000135       0.000348   \n",
       "std         0.000107       0.000083  ...       0.000711       0.001117   \n",
       "min        -0.000043      -0.000010  ...      -0.000043      -0.000086   \n",
       "25%        -0.000043      -0.000010  ...      -0.000043      -0.000086   \n",
       "50%        -0.000043      -0.000010  ...       0.000014       0.000064   \n",
       "75%        -0.000028      -0.000010  ...       0.000111       0.000463   \n",
       "max         0.009957       0.009990  ...       0.019957       0.019914   \n",
       "\n",
       "            A8T0G2C0       A8T1G0C1       A8T1G1C0       A8T2G0C0  \\\n",
       "count  200000.000000  200000.000000  200000.000000  200000.000000   \n",
       "mean        0.000253       0.000464       0.000581       0.000379   \n",
       "std         0.000914       0.001238       0.001528       0.001182   \n",
       "min        -0.000043      -0.000086      -0.000086      -0.000043   \n",
       "25%        -0.000043      -0.000086      -0.000086      -0.000043   \n",
       "50%         0.000047       0.000124       0.000114       0.000043   \n",
       "75%         0.000297       0.000684       0.000774       0.000365   \n",
       "max         0.019957       0.019914       0.019914       0.019957   \n",
       "\n",
       "            A9T0G0C1      A9T0G1C0      A9T1G0C0     A10T0G0C0  \n",
       "count  200000.000000  2.000000e+05  2.000000e+05  2.000000e+05  \n",
       "mean        0.000062  8.982134e-05  1.170014e-04  2.215407e-07  \n",
       "std         0.000466  5.475606e-04  6.788277e-04  2.050081e-05  \n",
       "min        -0.000010 -9.536743e-06 -9.536743e-06 -9.536743e-07  \n",
       "25%        -0.000010 -9.536743e-06 -9.536743e-06 -9.536743e-07  \n",
       "50%        -0.000010  4.632568e-07  4.632568e-07 -9.536743e-07  \n",
       "75%         0.000030  6.046326e-05  6.946326e-05 -9.536743e-07  \n",
       "max         0.009990  9.990463e-03  1.999046e-02  9.990463e-04  \n",
       "\n",
       "[8 rows x 286 columns]"
      ]
     },
     "execution_count": 10,
     "metadata": {},
     "output_type": "execute_result"
    }
   ],
   "source": [
    "df.describe()"
   ]
  },
  {
   "cell_type": "code",
   "execution_count": 11,
   "id": "6105ced7",
   "metadata": {
    "execution": {
     "iopub.execute_input": "2022-03-09T15:35:02.346911Z",
     "iopub.status.busy": "2022-03-09T15:35:02.346242Z",
     "iopub.status.idle": "2022-03-09T15:35:02.642973Z",
     "shell.execute_reply": "2022-03-09T15:35:02.643506Z",
     "shell.execute_reply.started": "2022-03-09T15:16:23.036017Z"
    },
    "papermill": {
     "duration": 0.409372,
     "end_time": "2022-03-09T15:35:02.643674",
     "exception": false,
     "start_time": "2022-03-09T15:35:02.234302",
     "status": "completed"
    },
    "tags": []
   },
   "outputs": [
    {
     "data": {
      "image/png": "[encoded data removed]",
      "text/plain": [
       "<Figure size 432x288 with 1 Axes>"
      ]
     },
     "metadata": {
      "needs_background": "light"
     },
     "output_type": "display_data"
    }
   ],
   "source": [
    "# Plot the distribution of values for the target column\n",
    "df[\"target\"].value_counts().plot(kind=\"bar\");"
   ]
  },
  {
   "cell_type": "markdown",
   "id": "b478dd92",
   "metadata": {
    "papermill": {
     "duration": 0.075517,
     "end_time": "2022-03-09T15:35:02.794591",
     "exception": false,
     "start_time": "2022-03-09T15:35:02.719074",
     "status": "completed"
    },
    "tags": []
   },
   "source": [
    "As we can see, the different classes in the dataset are balanced."
   ]
  },
  {
   "cell_type": "markdown",
   "id": "efdbcf11",
   "metadata": {
    "papermill": {
     "duration": 0.075769,
     "end_time": "2022-03-09T15:35:02.946442",
     "exception": false,
     "start_time": "2022-03-09T15:35:02.870673",
     "status": "completed"
    },
    "tags": []
   },
   "source": [
    "## **Target Labels Encoding**"
   ]
  },
  {
   "cell_type": "code",
   "execution_count": 12,
   "id": "03eb7368",
   "metadata": {
    "execution": {
     "iopub.execute_input": "2022-03-09T15:35:03.101263Z",
     "iopub.status.busy": "2022-03-09T15:35:03.100633Z",
     "iopub.status.idle": "2022-03-09T15:35:04.059410Z",
     "shell.execute_reply": "2022-03-09T15:35:04.058805Z",
     "shell.execute_reply.started": "2022-03-09T15:16:23.330760Z"
    },
    "papermill": {
     "duration": 1.037178,
     "end_time": "2022-03-09T15:35:04.059572",
     "exception": false,
     "start_time": "2022-03-09T15:35:03.022394",
     "status": "completed"
    },
    "tags": []
   },
   "outputs": [],
   "source": [
    "from sklearn.preprocessing import LabelEncoder"
   ]
  },
  {
   "cell_type": "code",
   "execution_count": 13,
   "id": "284499af",
   "metadata": {
    "execution": {
     "iopub.execute_input": "2022-03-09T15:35:04.218446Z",
     "iopub.status.busy": "2022-03-09T15:35:04.217813Z",
     "iopub.status.idle": "2022-03-09T15:35:04.304980Z",
     "shell.execute_reply": "2022-03-09T15:35:04.304384Z",
     "shell.execute_reply.started": "2022-03-09T15:16:23.339808Z"
    },
    "papermill": {
     "duration": 0.167048,
     "end_time": "2022-03-09T15:35:04.305120",
     "exception": false,
     "start_time": "2022-03-09T15:35:04.138072",
     "status": "completed"
    },
    "tags": []
   },
   "outputs": [
    {
     "data": {
      "text/html": [
       "<div>\n",
       "<style scoped>\n",
       "    .dataframe tbody tr th:only-of-type {\n",
       "        vertical-align: middle;\n",
       "    }\n",
       "\n",
       "    .dataframe tbody tr th {\n",
       "        vertical-align: top;\n",
       "    }\n",
       "\n",
       "    .dataframe thead th {\n",
       "        text-align: right;\n",
       "    }\n",
       "</style>\n",
       "<table border=\"1\" class=\"dataframe\">\n",
       "  <thead>\n",
       "    <tr style=\"text-align: right;\">\n",
       "      <th></th>\n",
       "      <th>A0T0G0C10</th>\n",
       "      <th>A0T0G1C9</th>\n",
       "      <th>A0T0G2C8</th>\n",
       "      <th>A0T0G3C7</th>\n",
       "      <th>A0T0G4C6</th>\n",
       "      <th>A0T0G5C5</th>\n",
       "      <th>A0T0G6C4</th>\n",
       "      <th>A0T0G7C3</th>\n",
       "      <th>A0T0G8C2</th>\n",
       "      <th>A0T0G9C1</th>\n",
       "      <th>...</th>\n",
       "      <th>A8T0G1C1</th>\n",
       "      <th>A8T0G2C0</th>\n",
       "      <th>A8T1G0C1</th>\n",
       "      <th>A8T1G1C0</th>\n",
       "      <th>A8T2G0C0</th>\n",
       "      <th>A9T0G0C1</th>\n",
       "      <th>A9T0G1C0</th>\n",
       "      <th>A9T1G0C0</th>\n",
       "      <th>A10T0G0C0</th>\n",
       "      <th>target</th>\n",
       "    </tr>\n",
       "  </thead>\n",
       "  <tbody>\n",
       "    <tr>\n",
       "      <th>0</th>\n",
       "      <td>-9.536743e-07</td>\n",
       "      <td>-0.000010</td>\n",
       "      <td>-0.000043</td>\n",
       "      <td>-0.000114</td>\n",
       "      <td>-0.000200</td>\n",
       "      <td>-0.000240</td>\n",
       "      <td>-0.000200</td>\n",
       "      <td>-0.000114</td>\n",
       "      <td>-0.000043</td>\n",
       "      <td>-0.000010</td>\n",
       "      <td>...</td>\n",
       "      <td>-0.000086</td>\n",
       "      <td>-0.000043</td>\n",
       "      <td>-0.000086</td>\n",
       "      <td>-0.000086</td>\n",
       "      <td>-0.000043</td>\n",
       "      <td>-0.000010</td>\n",
       "      <td>-0.000010</td>\n",
       "      <td>-0.000010</td>\n",
       "      <td>-9.536743e-07</td>\n",
       "      <td>9</td>\n",
       "    </tr>\n",
       "    <tr>\n",
       "      <th>1</th>\n",
       "      <td>-9.536743e-07</td>\n",
       "      <td>-0.000010</td>\n",
       "      <td>-0.000043</td>\n",
       "      <td>0.000886</td>\n",
       "      <td>-0.000200</td>\n",
       "      <td>0.000760</td>\n",
       "      <td>-0.000200</td>\n",
       "      <td>-0.000114</td>\n",
       "      <td>-0.000043</td>\n",
       "      <td>-0.000010</td>\n",
       "      <td>...</td>\n",
       "      <td>-0.000086</td>\n",
       "      <td>-0.000043</td>\n",
       "      <td>0.000914</td>\n",
       "      <td>0.000914</td>\n",
       "      <td>-0.000043</td>\n",
       "      <td>-0.000010</td>\n",
       "      <td>-0.000010</td>\n",
       "      <td>-0.000010</td>\n",
       "      <td>-9.536743e-07</td>\n",
       "      <td>6</td>\n",
       "    </tr>\n",
       "    <tr>\n",
       "      <th>2</th>\n",
       "      <td>-9.536743e-07</td>\n",
       "      <td>-0.000002</td>\n",
       "      <td>0.000007</td>\n",
       "      <td>0.000129</td>\n",
       "      <td>0.000268</td>\n",
       "      <td>0.000270</td>\n",
       "      <td>0.000243</td>\n",
       "      <td>0.000125</td>\n",
       "      <td>0.000001</td>\n",
       "      <td>-0.000007</td>\n",
       "      <td>...</td>\n",
       "      <td>0.000084</td>\n",
       "      <td>0.000048</td>\n",
       "      <td>0.000081</td>\n",
       "      <td>0.000106</td>\n",
       "      <td>0.000072</td>\n",
       "      <td>0.000010</td>\n",
       "      <td>0.000008</td>\n",
       "      <td>0.000019</td>\n",
       "      <td>1.046326e-06</td>\n",
       "      <td>6</td>\n",
       "    </tr>\n",
       "    <tr>\n",
       "      <th>3</th>\n",
       "      <td>4.632568e-08</td>\n",
       "      <td>-0.000006</td>\n",
       "      <td>0.000012</td>\n",
       "      <td>0.000245</td>\n",
       "      <td>0.000492</td>\n",
       "      <td>0.000522</td>\n",
       "      <td>0.000396</td>\n",
       "      <td>0.000197</td>\n",
       "      <td>-0.000003</td>\n",
       "      <td>-0.000007</td>\n",
       "      <td>...</td>\n",
       "      <td>0.000151</td>\n",
       "      <td>0.000100</td>\n",
       "      <td>0.000180</td>\n",
       "      <td>0.000202</td>\n",
       "      <td>0.000153</td>\n",
       "      <td>0.000021</td>\n",
       "      <td>0.000015</td>\n",
       "      <td>0.000046</td>\n",
       "      <td>-9.536743e-07</td>\n",
       "      <td>6</td>\n",
       "    </tr>\n",
       "    <tr>\n",
       "      <th>4</th>\n",
       "      <td>-9.536743e-07</td>\n",
       "      <td>-0.000010</td>\n",
       "      <td>-0.000043</td>\n",
       "      <td>-0.000114</td>\n",
       "      <td>-0.000200</td>\n",
       "      <td>-0.000240</td>\n",
       "      <td>-0.000200</td>\n",
       "      <td>-0.000114</td>\n",
       "      <td>-0.000043</td>\n",
       "      <td>-0.000010</td>\n",
       "      <td>...</td>\n",
       "      <td>-0.000086</td>\n",
       "      <td>-0.000043</td>\n",
       "      <td>-0.000086</td>\n",
       "      <td>-0.000086</td>\n",
       "      <td>-0.000043</td>\n",
       "      <td>-0.000010</td>\n",
       "      <td>-0.000010</td>\n",
       "      <td>-0.000010</td>\n",
       "      <td>-9.536743e-07</td>\n",
       "      <td>2</td>\n",
       "    </tr>\n",
       "  </tbody>\n",
       "</table>\n",
       "<p>5 rows × 287 columns</p>\n",
       "</div>"
      ],
      "text/plain": [
       "      A0T0G0C10  A0T0G1C9  A0T0G2C8  A0T0G3C7  A0T0G4C6  A0T0G5C5  A0T0G6C4  \\\n",
       "0 -9.536743e-07 -0.000010 -0.000043 -0.000114 -0.000200 -0.000240 -0.000200   \n",
       "1 -9.536743e-07 -0.000010 -0.000043  0.000886 -0.000200  0.000760 -0.000200   \n",
       "2 -9.536743e-07 -0.000002  0.000007  0.000129  0.000268  0.000270  0.000243   \n",
       "3  4.632568e-08 -0.000006  0.000012  0.000245  0.000492  0.000522  0.000396   \n",
       "4 -9.536743e-07 -0.000010 -0.000043 -0.000114 -0.000200 -0.000240 -0.000200   \n",
       "\n",
       "   A0T0G7C3  A0T0G8C2  A0T0G9C1  ...  A8T0G1C1  A8T0G2C0  A8T1G0C1  A8T1G1C0  \\\n",
       "0 -0.000114 -0.000043 -0.000010  ... -0.000086 -0.000043 -0.000086 -0.000086   \n",
       "1 -0.000114 -0.000043 -0.000010  ... -0.000086 -0.000043  0.000914  0.000914   \n",
       "2  0.000125  0.000001 -0.000007  ...  0.000084  0.000048  0.000081  0.000106   \n",
       "3  0.000197 -0.000003 -0.000007  ...  0.000151  0.000100  0.000180  0.000202   \n",
       "4 -0.000114 -0.000043 -0.000010  ... -0.000086 -0.000043 -0.000086 -0.000086   \n",
       "\n",
       "   A8T2G0C0  A9T0G0C1  A9T0G1C0  A9T1G0C0     A10T0G0C0  target  \n",
       "0 -0.000043 -0.000010 -0.000010 -0.000010 -9.536743e-07       9  \n",
       "1 -0.000043 -0.000010 -0.000010 -0.000010 -9.536743e-07       6  \n",
       "2  0.000072  0.000010  0.000008  0.000019  1.046326e-06       6  \n",
       "3  0.000153  0.000021  0.000015  0.000046 -9.536743e-07       6  \n",
       "4 -0.000043 -0.000010 -0.000010 -0.000010 -9.536743e-07       2  \n",
       "\n",
       "[5 rows x 287 columns]"
      ]
     },
     "execution_count": 13,
     "metadata": {},
     "output_type": "execute_result"
    }
   ],
   "source": [
    "# Label encoding of the target.\n",
    "# We will map each of the 10 different target classess to an intger in the range 0-9\n",
    "label_encoder = LabelEncoder()\n",
    "df[\"target\"] = label_encoder.fit(df[\"target\"]).transform(df[\"target\"])\n",
    "df.head()"
   ]
  },
  {
   "cell_type": "markdown",
   "id": "bfa7777a",
   "metadata": {
    "papermill": {
     "duration": 0.075893,
     "end_time": "2022-03-09T15:35:04.457905",
     "exception": false,
     "start_time": "2022-03-09T15:35:04.382012",
     "status": "completed"
    },
    "tags": []
   },
   "source": [
    "## **Train-Test Split**"
   ]
  },
  {
   "cell_type": "code",
   "execution_count": 14,
   "id": "a32f1201",
   "metadata": {
    "execution": {
     "iopub.execute_input": "2022-03-09T15:35:04.614352Z",
     "iopub.status.busy": "2022-03-09T15:35:04.613669Z",
     "iopub.status.idle": "2022-03-09T15:35:04.667879Z",
     "shell.execute_reply": "2022-03-09T15:35:04.668396Z",
     "shell.execute_reply.started": "2022-03-09T15:16:23.436713Z"
    },
    "papermill": {
     "duration": 0.13488,
     "end_time": "2022-03-09T15:35:04.668591",
     "exception": false,
     "start_time": "2022-03-09T15:35:04.533711",
     "status": "completed"
    },
    "tags": []
   },
   "outputs": [],
   "source": [
    "# Imports\n",
    "from sklearn.model_selection import train_test_split"
   ]
  },
  {
   "cell_type": "code",
   "execution_count": 15,
   "id": "d83d4c26",
   "metadata": {
    "execution": {
     "iopub.execute_input": "2022-03-09T15:35:04.969893Z",
     "iopub.status.busy": "2022-03-09T15:35:04.969160Z",
     "iopub.status.idle": "2022-03-09T15:35:05.582431Z",
     "shell.execute_reply": "2022-03-09T15:35:05.581885Z",
     "shell.execute_reply.started": "2022-03-09T15:16:23.441888Z"
    },
    "papermill": {
     "duration": 0.835329,
     "end_time": "2022-03-09T15:35:05.582575",
     "exception": false,
     "start_time": "2022-03-09T15:35:04.747246",
     "status": "completed"
    },
    "tags": []
   },
   "outputs": [],
   "source": [
    "X_train, X_test, Y_train, Y_test = train_test_split(df.drop(columns=[\"target\"]), df[\"target\"], test_size=0.33, stratify=df[\"target\"], random_state=random_seed)"
   ]
  },
  {
   "cell_type": "code",
   "execution_count": 16,
   "id": "2991678f",
   "metadata": {
    "execution": {
     "iopub.execute_input": "2022-03-09T15:35:05.738497Z",
     "iopub.status.busy": "2022-03-09T15:35:05.737718Z",
     "iopub.status.idle": "2022-03-09T15:35:05.745171Z",
     "shell.execute_reply": "2022-03-09T15:35:05.744249Z",
     "shell.execute_reply.started": "2022-03-09T15:16:24.212536Z"
    },
    "papermill": {
     "duration": 0.08641,
     "end_time": "2022-03-09T15:35:05.745437",
     "exception": false,
     "start_time": "2022-03-09T15:35:05.659027",
     "status": "completed"
    },
    "tags": []
   },
   "outputs": [
    {
     "name": "stdout",
     "output_type": "stream",
     "text": [
      "X_train shape: (134000, 286)\n",
      "Y_train shape: (134000,)\n",
      "X_test shape: (66000, 286)\n",
      "Y_test shape: (66000,)\n"
     ]
    }
   ],
   "source": [
    "print(f\"X_train shape: {X_train.shape}\")\n",
    "print(f\"Y_train shape: {Y_train.shape}\")\n",
    "print(f\"X_test shape: {X_test.shape}\")\n",
    "print(f\"Y_test shape: {Y_test.shape}\")"
   ]
  },
  {
   "cell_type": "markdown",
   "id": "85a7172d",
   "metadata": {
    "papermill": {
     "duration": 0.077531,
     "end_time": "2022-03-09T15:35:05.907703",
     "exception": false,
     "start_time": "2022-03-09T15:35:05.830172",
     "status": "completed"
    },
    "tags": []
   },
   "source": [
    "## **Utility Functions Definition**"
   ]
  },
  {
   "cell_type": "code",
   "execution_count": 17,
   "id": "ebe3db49",
   "metadata": {
    "execution": {
     "iopub.execute_input": "2022-03-09T15:35:06.067031Z",
     "iopub.status.busy": "2022-03-09T15:35:06.066048Z",
     "iopub.status.idle": "2022-03-09T15:35:06.183533Z",
     "shell.execute_reply": "2022-03-09T15:35:06.182799Z",
     "shell.execute_reply.started": "2022-03-09T15:16:24.219072Z"
    },
    "papermill": {
     "duration": 0.198329,
     "end_time": "2022-03-09T15:35:06.183680",
     "exception": false,
     "start_time": "2022-03-09T15:35:05.985351",
     "status": "completed"
    },
    "tags": []
   },
   "outputs": [],
   "source": [
    "from sklearn.preprocessing import StandardScaler\n",
    "from sklearn.decomposition import PCA\n",
    "from sklearn.pipeline import Pipeline"
   ]
  },
  {
   "cell_type": "code",
   "execution_count": 18,
   "id": "2d1544a4",
   "metadata": {
    "execution": {
     "iopub.execute_input": "2022-03-09T15:35:06.348296Z",
     "iopub.status.busy": "2022-03-09T15:35:06.343472Z",
     "iopub.status.idle": "2022-03-09T15:35:06.351012Z",
     "shell.execute_reply": "2022-03-09T15:35:06.351912Z",
     "shell.execute_reply.started": "2022-03-09T15:16:24.233267Z"
    },
    "papermill": {
     "duration": 0.091706,
     "end_time": "2022-03-09T15:35:06.352151",
     "exception": false,
     "start_time": "2022-03-09T15:35:06.260445",
     "status": "completed"
    },
    "tags": []
   },
   "outputs": [],
   "source": [
    "# Print grid search results\n",
    "def print_grid_search_results(gscv):\n",
    "    print(\"Best parameters set found on train set:\")\n",
    "    print(gscv.best_params_)\n",
    "    print(\"\\n\")\n",
    "    print(\"Grid scores on train set:\")\n",
    "    for param, mean, std in zip(gscv.cv_results_['params'], gscv.cv_results_['mean_test_score'], gscv.cv_results_['std_test_score']):\n",
    "        print(\"%r mean: %0.3f std: +/- %0.03f)\" % (param, mean, std))\n",
    "    print(\"\\n\")"
   ]
  },
  {
   "cell_type": "code",
   "execution_count": 19,
   "id": "3f67c5ba",
   "metadata": {
    "execution": {
     "iopub.execute_input": "2022-03-09T15:35:06.513244Z",
     "iopub.status.busy": "2022-03-09T15:35:06.512453Z",
     "iopub.status.idle": "2022-03-09T15:35:06.515019Z",
     "shell.execute_reply": "2022-03-09T15:35:06.514479Z",
     "shell.execute_reply.started": "2022-03-09T15:16:24.246804Z"
    },
    "papermill": {
     "duration": 0.085547,
     "end_time": "2022-03-09T15:35:06.515161",
     "exception": false,
     "start_time": "2022-03-09T15:35:06.429614",
     "status": "completed"
    },
    "tags": []
   },
   "outputs": [],
   "source": [
    "# Show x-y curve plot\n",
    "def show_curve(x, y, x_label, y_label, title):\n",
    "    plt.figure(figsize=(10,5))\n",
    "    plt.plot(x, y, '-o', linewidth=5, markersize=24)\n",
    "    plt.xlabel(x_label)\n",
    "    plt.ylabel(y_label)\n",
    "    plt.title(title, fontsize = 10)\n",
    "    plt.show();"
   ]
  },
  {
   "cell_type": "code",
   "execution_count": 20,
   "id": "65b13162",
   "metadata": {
    "execution": {
     "iopub.execute_input": "2022-03-09T15:35:06.671209Z",
     "iopub.status.busy": "2022-03-09T15:35:06.670576Z",
     "iopub.status.idle": "2022-03-09T15:35:06.674921Z",
     "shell.execute_reply": "2022-03-09T15:35:06.675554Z",
     "shell.execute_reply.started": "2022-03-09T15:16:24.258951Z"
    },
    "papermill": {
     "duration": 0.083964,
     "end_time": "2022-03-09T15:35:06.675732",
     "exception": false,
     "start_time": "2022-03-09T15:35:06.591768",
     "status": "completed"
    },
    "tags": []
   },
   "outputs": [],
   "source": [
    "# Construct a ML pipeline with initial PCA\n",
    "def build_PCA_pipeline(classifier, pca_n_components=None):\n",
    "    st_scaler = StandardScaler()\n",
    "    pca = PCA(n_components=pca_n_components)\n",
    "    pipe = Pipeline(steps=[(\"st_scaler\", st_scaler), (\"pca\", pca), (\"classifier\", classifier)])\n",
    "    return pipe"
   ]
  },
  {
   "cell_type": "markdown",
   "id": "4be6687e",
   "metadata": {
    "papermill": {
     "duration": 0.077192,
     "end_time": "2022-03-09T15:35:06.829887",
     "exception": false,
     "start_time": "2022-03-09T15:35:06.752695",
     "status": "completed"
    },
    "tags": []
   },
   "source": [
    "## **Dimensionality Reduction** "
   ]
  },
  {
   "cell_type": "markdown",
   "id": "4e215f48",
   "metadata": {
    "papermill": {
     "duration": 0.077693,
     "end_time": "2022-03-09T15:35:06.984815",
     "exception": false,
     "start_time": "2022-03-09T15:35:06.907122",
     "status": "completed"
    },
    "tags": []
   },
   "source": [
    "### **Grid Search with Cross Validation to find the best value for n_components of PCA**"
   ]
  },
  {
   "cell_type": "code",
   "execution_count": 21,
   "id": "2081ab8d",
   "metadata": {
    "execution": {
     "iopub.execute_input": "2022-03-09T15:35:07.143340Z",
     "iopub.status.busy": "2022-03-09T15:35:07.142650Z",
     "iopub.status.idle": "2022-03-09T15:35:07.215730Z",
     "shell.execute_reply": "2022-03-09T15:35:07.215190Z",
     "shell.execute_reply.started": "2022-03-09T15:16:24.274505Z"
    },
    "papermill": {
     "duration": 0.153153,
     "end_time": "2022-03-09T15:35:07.215944",
     "exception": false,
     "start_time": "2022-03-09T15:35:07.062791",
     "status": "completed"
    },
    "tags": []
   },
   "outputs": [],
   "source": [
    "from sklearn.tree import DecisionTreeClassifier\n",
    "from sklearn.model_selection import GridSearchCV"
   ]
  },
  {
   "cell_type": "code",
   "execution_count": 22,
   "id": "2fba3bd5",
   "metadata": {
    "execution": {
     "iopub.execute_input": "2022-03-09T15:35:07.376057Z",
     "iopub.status.busy": "2022-03-09T15:35:07.375023Z",
     "iopub.status.idle": "2022-03-09T15:35:07.377615Z",
     "shell.execute_reply": "2022-03-09T15:35:07.377100Z",
     "shell.execute_reply.started": "2022-03-09T15:16:24.288008Z"
    },
    "papermill": {
     "duration": 0.084613,
     "end_time": "2022-03-09T15:35:07.377774",
     "exception": false,
     "start_time": "2022-03-09T15:35:07.293161",
     "status": "completed"
    },
    "tags": []
   },
   "outputs": [],
   "source": [
    "classifier = DecisionTreeClassifier(criterion=\"entropy\", random_state=random_seed)\n",
    "pipe = build_PCA_pipeline(classifier)"
   ]
  },
  {
   "cell_type": "code",
   "execution_count": 23,
   "id": "61f0b4bb",
   "metadata": {
    "execution": {
     "iopub.execute_input": "2022-03-09T15:35:07.536876Z",
     "iopub.status.busy": "2022-03-09T15:35:07.536205Z",
     "iopub.status.idle": "2022-03-09T15:35:07.537836Z",
     "shell.execute_reply": "2022-03-09T15:35:07.538282Z",
     "shell.execute_reply.started": "2022-03-09T15:16:24.300029Z"
    },
    "papermill": {
     "duration": 0.084124,
     "end_time": "2022-03-09T15:35:07.538451",
     "exception": false,
     "start_time": "2022-03-09T15:35:07.454327",
     "status": "completed"
    },
    "tags": []
   },
   "outputs": [],
   "source": [
    "param_grid = {\n",
    "    \"pca__n_components\": [3, 5, 8, 10, 20, 50]\n",
    "}"
   ]
  },
  {
   "cell_type": "code",
   "execution_count": 24,
   "id": "836b25e5",
   "metadata": {
    "execution": {
     "iopub.execute_input": "2022-03-09T15:35:07.695036Z",
     "iopub.status.busy": "2022-03-09T15:35:07.694394Z",
     "iopub.status.idle": "2022-03-09T15:36:30.394859Z",
     "shell.execute_reply": "2022-03-09T15:36:30.395449Z",
     "shell.execute_reply.started": "2022-03-09T15:16:24.311865Z"
    },
    "papermill": {
     "duration": 82.780657,
     "end_time": "2022-03-09T15:36:30.395811",
     "exception": false,
     "start_time": "2022-03-09T15:35:07.615154",
     "status": "completed"
    },
    "tags": []
   },
   "outputs": [
    {
     "name": "stdout",
     "output_type": "stream",
     "text": [
      "Fitting 2 folds for each of 6 candidates, totalling 12 fits\n",
      "[CV] pca__n_components=3 .............................................\n"
     ]
    },
    {
     "name": "stderr",
     "output_type": "stream",
     "text": [
      "[Parallel(n_jobs=1)]: Using backend SequentialBackend with 1 concurrent workers.\n"
     ]
    },
    {
     "name": "stdout",
     "output_type": "stream",
     "text": [
      "[CV] .............................. pca__n_components=3, total=   3.5s\n",
      "[CV] pca__n_components=3 .............................................\n"
     ]
    },
    {
     "name": "stderr",
     "output_type": "stream",
     "text": [
      "[Parallel(n_jobs=1)]: Done   1 out of   1 | elapsed:    3.5s remaining:    0.0s\n"
     ]
    },
    {
     "name": "stdout",
     "output_type": "stream",
     "text": [
      "[CV] .............................. pca__n_components=3, total=   3.7s\n",
      "[CV] pca__n_components=5 .............................................\n",
      "[CV] .............................. pca__n_components=5, total=   4.2s\n",
      "[CV] pca__n_components=5 .............................................\n",
      "[CV] .............................. pca__n_components=5, total=   5.8s\n",
      "[CV] pca__n_components=8 .............................................\n",
      "[CV] .............................. pca__n_components=8, total=   4.8s\n",
      "[CV] pca__n_components=8 .............................................\n",
      "[CV] .............................. pca__n_components=8, total=   4.5s\n",
      "[CV] pca__n_components=10 ............................................\n",
      "[CV] ............................. pca__n_components=10, total=   4.9s\n",
      "[CV] pca__n_components=10 ............................................\n",
      "[CV] ............................. pca__n_components=10, total=   4.8s\n",
      "[CV] pca__n_components=20 ............................................\n",
      "[CV] ............................. pca__n_components=20, total=   7.2s\n",
      "[CV] pca__n_components=20 ............................................\n",
      "[CV] ............................. pca__n_components=20, total=   7.3s\n",
      "[CV] pca__n_components=50 ............................................\n",
      "[CV] ............................. pca__n_components=50, total=  12.7s\n",
      "[CV] pca__n_components=50 ............................................\n",
      "[CV] ............................. pca__n_components=50, total=  12.6s\n"
     ]
    },
    {
     "name": "stderr",
     "output_type": "stream",
     "text": [
      "[Parallel(n_jobs=1)]: Done  12 out of  12 | elapsed:  1.3min finished\n"
     ]
    }
   ],
   "source": [
    "grid_search = GridSearchCV(pipe, param_grid, cv=2, verbose=2)\n",
    "grid_search.fit(X_train, Y_train);"
   ]
  },
  {
   "cell_type": "code",
   "execution_count": 25,
   "id": "41dfc697",
   "metadata": {
    "execution": {
     "iopub.execute_input": "2022-03-09T15:36:30.571572Z",
     "iopub.status.busy": "2022-03-09T15:36:30.570671Z",
     "iopub.status.idle": "2022-03-09T15:36:30.573658Z",
     "shell.execute_reply": "2022-03-09T15:36:30.574303Z",
     "shell.execute_reply.started": "2022-03-09T15:17:29.516109Z"
    },
    "papermill": {
     "duration": 0.093119,
     "end_time": "2022-03-09T15:36:30.574475",
     "exception": false,
     "start_time": "2022-03-09T15:36:30.481356",
     "status": "completed"
    },
    "tags": []
   },
   "outputs": [
    {
     "name": "stdout",
     "output_type": "stream",
     "text": [
      "Best parameters set found on train set:\n",
      "{'pca__n_components': 5}\n",
      "\n",
      "\n",
      "Grid scores on train set:\n",
      "{'pca__n_components': 3} mean: 0.920 std: +/- 0.000)\n",
      "{'pca__n_components': 5} mean: 0.928 std: +/- 0.001)\n",
      "{'pca__n_components': 8} mean: 0.924 std: +/- 0.001)\n",
      "{'pca__n_components': 10} mean: 0.920 std: +/- 0.001)\n",
      "{'pca__n_components': 20} mean: 0.919 std: +/- 0.001)\n",
      "{'pca__n_components': 50} mean: 0.909 std: +/- 0.000)\n",
      "\n",
      "\n"
     ]
    }
   ],
   "source": [
    "print_grid_search_results(grid_search)"
   ]
  },
  {
   "cell_type": "code",
   "execution_count": 26,
   "id": "91731fb0",
   "metadata": {
    "execution": {
     "iopub.execute_input": "2022-03-09T15:36:30.748081Z",
     "iopub.status.busy": "2022-03-09T15:36:30.747352Z",
     "iopub.status.idle": "2022-03-09T15:36:30.962012Z",
     "shell.execute_reply": "2022-03-09T15:36:30.962499Z",
     "shell.execute_reply.started": "2022-03-09T15:17:29.524320Z"
    },
    "papermill": {
     "duration": 0.303179,
     "end_time": "2022-03-09T15:36:30.962664",
     "exception": false,
     "start_time": "2022-03-09T15:36:30.659485",
     "status": "completed"
    },
    "tags": []
   },
   "outputs": [
    {
     "data": {
      "image/png": "[encoded data removed]",
      "text/plain": [
       "<Figure size 720x360 with 1 Axes>"
      ]
     },
     "metadata": {
      "needs_background": "light"
     },
     "output_type": "display_data"
    }
   ],
   "source": [
    "show_curve(param_grid[\"pca__n_components\"],\n",
    "           grid_search.cv_results_['mean_test_score'],\n",
    "           \"n_components\",\n",
    "           \"accuracy\",\n",
    "           \"Mean score with CV varying n_components of PCA\")"
   ]
  },
  {
   "cell_type": "code",
   "execution_count": 27,
   "id": "818ff626",
   "metadata": {
    "execution": {
     "iopub.execute_input": "2022-03-09T15:36:31.136094Z",
     "iopub.status.busy": "2022-03-09T15:36:31.135360Z",
     "iopub.status.idle": "2022-03-09T15:36:31.139043Z",
     "shell.execute_reply": "2022-03-09T15:36:31.139589Z",
     "shell.execute_reply.started": "2022-03-09T15:17:29.725743Z"
    },
    "papermill": {
     "duration": 0.092151,
     "end_time": "2022-03-09T15:36:31.139764",
     "exception": false,
     "start_time": "2022-03-09T15:36:31.047613",
     "status": "completed"
    },
    "tags": []
   },
   "outputs": [],
   "source": [
    "pca_n_components = grid_search.best_params_[\"pca__n_components\"]"
   ]
  },
  {
   "cell_type": "markdown",
   "id": "712de1f6",
   "metadata": {
    "papermill": {
     "duration": 0.084284,
     "end_time": "2022-03-09T15:36:31.310677",
     "exception": false,
     "start_time": "2022-03-09T15:36:31.226393",
     "status": "completed"
    },
    "tags": []
   },
   "source": [
    "## **ML Models Testing**"
   ]
  },
  {
   "cell_type": "markdown",
   "id": "d9e80de4",
   "metadata": {
    "papermill": {
     "duration": 0.083998,
     "end_time": "2022-03-09T15:36:31.479058",
     "exception": false,
     "start_time": "2022-03-09T15:36:31.395060",
     "status": "completed"
    },
    "tags": []
   },
   "source": [
    "### **Decision Tree Classifier**"
   ]
  },
  {
   "cell_type": "code",
   "execution_count": 28,
   "id": "c5905259",
   "metadata": {
    "execution": {
     "iopub.execute_input": "2022-03-09T15:36:31.652187Z",
     "iopub.status.busy": "2022-03-09T15:36:31.651507Z",
     "iopub.status.idle": "2022-03-09T15:36:31.654792Z",
     "shell.execute_reply": "2022-03-09T15:36:31.655366Z",
     "shell.execute_reply.started": "2022-03-09T15:17:29.732620Z"
    },
    "papermill": {
     "duration": 0.091327,
     "end_time": "2022-03-09T15:36:31.655542",
     "exception": false,
     "start_time": "2022-03-09T15:36:31.564215",
     "status": "completed"
    },
    "tags": []
   },
   "outputs": [],
   "source": [
    "from sklearn.tree import DecisionTreeClassifier"
   ]
  },
  {
   "cell_type": "code",
   "execution_count": 29,
   "id": "e637a23f",
   "metadata": {
    "execution": {
     "iopub.execute_input": "2022-03-09T15:36:31.831959Z",
     "iopub.status.busy": "2022-03-09T15:36:31.831300Z",
     "iopub.status.idle": "2022-03-09T15:37:23.142252Z",
     "shell.execute_reply": "2022-03-09T15:37:23.141646Z",
     "shell.execute_reply.started": "2022-03-09T15:17:29.744672Z"
    },
    "papermill": {
     "duration": 51.400703,
     "end_time": "2022-03-09T15:37:23.142416",
     "exception": false,
     "start_time": "2022-03-09T15:36:31.741713",
     "status": "completed"
    },
    "tags": []
   },
   "outputs": [
    {
     "name": "stdout",
     "output_type": "stream",
     "text": [
      "Fitting 2 folds for each of 6 candidates, totalling 12 fits\n",
      "[CV] classifier__max_depth=4 .........................................\n"
     ]
    },
    {
     "name": "stderr",
     "output_type": "stream",
     "text": [
      "[Parallel(n_jobs=1)]: Using backend SequentialBackend with 1 concurrent workers.\n"
     ]
    },
    {
     "name": "stdout",
     "output_type": "stream",
     "text": [
      "[CV] .......................... classifier__max_depth=4, total=   3.3s\n",
      "[CV] classifier__max_depth=4 .........................................\n"
     ]
    },
    {
     "name": "stderr",
     "output_type": "stream",
     "text": [
      "[Parallel(n_jobs=1)]: Done   1 out of   1 | elapsed:    3.3s remaining:    0.0s\n"
     ]
    },
    {
     "name": "stdout",
     "output_type": "stream",
     "text": [
      "[CV] .......................... classifier__max_depth=4, total=   3.4s\n",
      "[CV] classifier__max_depth=8 .........................................\n",
      "[CV] .......................... classifier__max_depth=8, total=   3.8s\n",
      "[CV] classifier__max_depth=8 .........................................\n",
      "[CV] .......................... classifier__max_depth=8, total=   3.7s\n",
      "[CV] classifier__max_depth=16 ........................................\n",
      "[CV] ......................... classifier__max_depth=16, total=   3.9s\n",
      "[CV] classifier__max_depth=16 ........................................\n",
      "[CV] ......................... classifier__max_depth=16, total=   4.0s\n",
      "[CV] classifier__max_depth=20 ........................................\n",
      "[CV] ......................... classifier__max_depth=20, total=   3.9s\n",
      "[CV] classifier__max_depth=20 ........................................\n",
      "[CV] ......................... classifier__max_depth=20, total=   3.8s\n",
      "[CV] classifier__max_depth=24 ........................................\n",
      "[CV] ......................... classifier__max_depth=24, total=   3.8s\n",
      "[CV] classifier__max_depth=24 ........................................\n",
      "[CV] ......................... classifier__max_depth=24, total=   3.8s\n",
      "[CV] classifier__max_depth=26 ........................................\n",
      "[CV] ......................... classifier__max_depth=26, total=   3.8s\n",
      "[CV] classifier__max_depth=26 ........................................\n",
      "[CV] ......................... classifier__max_depth=26, total=   3.8s\n"
     ]
    },
    {
     "name": "stderr",
     "output_type": "stream",
     "text": [
      "[Parallel(n_jobs=1)]: Done  12 out of  12 | elapsed:   45.1s finished\n"
     ]
    }
   ],
   "source": [
    "classifier = DecisionTreeClassifier(criterion=\"entropy\", random_state=random_seed)\n",
    "pipe = build_PCA_pipeline(classifier, pca_n_components)\n",
    "\n",
    "param_grid = {\n",
    "    \"classifier__max_depth\": [4,8,16,20,24,26]\n",
    "}\n",
    "\n",
    "grid_search = GridSearchCV(pipe, param_grid, cv=2, verbose=2)\n",
    "grid_search.fit(X_train, Y_train);"
   ]
  },
  {
   "cell_type": "code",
   "execution_count": 30,
   "id": "1e90e3c7",
   "metadata": {
    "execution": {
     "iopub.execute_input": "2022-03-09T15:37:23.327790Z",
     "iopub.status.busy": "2022-03-09T15:37:23.327112Z",
     "iopub.status.idle": "2022-03-09T15:37:23.333071Z",
     "shell.execute_reply": "2022-03-09T15:37:23.332528Z",
     "shell.execute_reply.started": "2022-03-09T15:18:34.605879Z"
    },
    "papermill": {
     "duration": 0.099124,
     "end_time": "2022-03-09T15:37:23.333224",
     "exception": false,
     "start_time": "2022-03-09T15:37:23.234100",
     "status": "completed"
    },
    "tags": []
   },
   "outputs": [
    {
     "name": "stdout",
     "output_type": "stream",
     "text": [
      "Best parameters set found on train set:\n",
      "{'classifier__max_depth': 24}\n",
      "\n",
      "\n",
      "Grid scores on train set:\n",
      "{'classifier__max_depth': 4} mean: 0.595 std: +/- 0.012)\n",
      "{'classifier__max_depth': 8} mean: 0.763 std: +/- 0.004)\n",
      "{'classifier__max_depth': 16} mean: 0.899 std: +/- 0.000)\n",
      "{'classifier__max_depth': 20} mean: 0.921 std: +/- 0.002)\n",
      "{'classifier__max_depth': 24} mean: 0.927 std: +/- 0.001)\n",
      "{'classifier__max_depth': 26} mean: 0.927 std: +/- 0.000)\n",
      "\n",
      "\n"
     ]
    }
   ],
   "source": [
    "print_grid_search_results(grid_search)"
   ]
  },
  {
   "cell_type": "code",
   "execution_count": 31,
   "id": "2223d7bb",
   "metadata": {
    "execution": {
     "iopub.execute_input": "2022-03-09T15:37:23.519758Z",
     "iopub.status.busy": "2022-03-09T15:37:23.519123Z",
     "iopub.status.idle": "2022-03-09T15:37:23.668753Z",
     "shell.execute_reply": "2022-03-09T15:37:23.667947Z",
     "shell.execute_reply.started": "2022-03-09T15:18:34.616001Z"
    },
    "papermill": {
     "duration": 0.24437,
     "end_time": "2022-03-09T15:37:23.668931",
     "exception": false,
     "start_time": "2022-03-09T15:37:23.424561",
     "status": "completed"
    },
    "tags": []
   },
   "outputs": [
    {
     "data": {
      "image/png": "[encoded data removed]",
      "text/plain": [
       "<Figure size 720x360 with 1 Axes>"
      ]
     },
     "metadata": {
      "needs_background": "light"
     },
     "output_type": "display_data"
    }
   ],
   "source": [
    "show_curve(param_grid[\"classifier__max_depth\"],\n",
    "           grid_search.cv_results_['mean_test_score'],\n",
    "           \"max_depth\",\n",
    "           \"accuracy\",\n",
    "           \"Mean score with CV varying max_depth of Decision Tree\")"
   ]
  },
  {
   "cell_type": "code",
   "execution_count": 32,
   "id": "7459925f",
   "metadata": {
    "execution": {
     "iopub.execute_input": "2022-03-09T15:37:23.857192Z",
     "iopub.status.busy": "2022-03-09T15:37:23.856171Z",
     "iopub.status.idle": "2022-03-09T15:37:23.861126Z",
     "shell.execute_reply": "2022-03-09T15:37:23.861857Z",
     "shell.execute_reply.started": "2022-03-09T15:18:34.965122Z"
    },
    "papermill": {
     "duration": 0.101117,
     "end_time": "2022-03-09T15:37:23.862051",
     "exception": false,
     "start_time": "2022-03-09T15:37:23.760934",
     "status": "completed"
    },
    "tags": []
   },
   "outputs": [],
   "source": [
    "# Define the final model with the best parameter found\n",
    "best_max_depth = grid_search.best_params_[\"classifier__max_depth\"]\n",
    "tree_model = DecisionTreeClassifier(criterion=\"entropy\", random_state=random_seed, max_depth=best_max_depth)"
   ]
  },
  {
   "cell_type": "markdown",
   "id": "48e61b24",
   "metadata": {
    "papermill": {
     "duration": 0.095095,
     "end_time": "2022-03-09T15:37:24.048989",
     "exception": false,
     "start_time": "2022-03-09T15:37:23.953894",
     "status": "completed"
    },
    "tags": []
   },
   "source": [
    "## **Random Forest**"
   ]
  },
  {
   "cell_type": "code",
   "execution_count": 33,
   "id": "5032ceb7",
   "metadata": {
    "execution": {
     "iopub.execute_input": "2022-03-09T15:37:24.238463Z",
     "iopub.status.busy": "2022-03-09T15:37:24.237491Z",
     "iopub.status.idle": "2022-03-09T15:37:24.273518Z",
     "shell.execute_reply": "2022-03-09T15:37:24.274106Z",
     "shell.execute_reply.started": "2022-03-09T15:18:34.971291Z"
    },
    "papermill": {
     "duration": 0.13276,
     "end_time": "2022-03-09T15:37:24.274302",
     "exception": false,
     "start_time": "2022-03-09T15:37:24.141542",
     "status": "completed"
    },
    "tags": []
   },
   "outputs": [],
   "source": [
    "from sklearn.ensemble import RandomForestClassifier"
   ]
  },
  {
   "cell_type": "code",
   "execution_count": 34,
   "id": "92cc4ea5",
   "metadata": {
    "execution": {
     "iopub.execute_input": "2022-03-09T15:37:24.485656Z",
     "iopub.status.busy": "2022-03-09T15:37:24.484660Z",
     "iopub.status.idle": "2022-03-09T15:40:40.460486Z",
     "shell.execute_reply": "2022-03-09T15:40:40.459721Z",
     "shell.execute_reply.started": "2022-03-09T15:18:34.977185Z"
    },
    "papermill": {
     "duration": 196.088529,
     "end_time": "2022-03-09T15:40:40.460750",
     "exception": false,
     "start_time": "2022-03-09T15:37:24.372221",
     "status": "completed"
    },
    "tags": []
   },
   "outputs": [
    {
     "name": "stdout",
     "output_type": "stream",
     "text": [
      "Fitting 2 folds for each of 2 candidates, totalling 4 fits\n",
      "[CV] classifier__n_estimators=10 .....................................\n"
     ]
    },
    {
     "name": "stderr",
     "output_type": "stream",
     "text": [
      "[Parallel(n_jobs=1)]: Using backend SequentialBackend with 1 concurrent workers.\n"
     ]
    },
    {
     "name": "stdout",
     "output_type": "stream",
     "text": [
      "[CV] ...................... classifier__n_estimators=10, total=   6.2s\n",
      "[CV] classifier__n_estimators=10 .....................................\n"
     ]
    },
    {
     "name": "stderr",
     "output_type": "stream",
     "text": [
      "[Parallel(n_jobs=1)]: Done   1 out of   1 | elapsed:    6.2s remaining:    0.0s\n"
     ]
    },
    {
     "name": "stdout",
     "output_type": "stream",
     "text": [
      "[CV] ...................... classifier__n_estimators=10, total=   5.9s\n",
      "[CV] classifier__n_estimators=150 ....................................\n",
      "[CV] ..................... classifier__n_estimators=150, total=  47.2s\n",
      "[CV] classifier__n_estimators=150 ....................................\n",
      "[CV] ..................... classifier__n_estimators=150, total=  46.8s\n"
     ]
    },
    {
     "name": "stderr",
     "output_type": "stream",
     "text": [
      "[Parallel(n_jobs=1)]: Done   4 out of   4 | elapsed:  1.8min finished\n"
     ]
    }
   ],
   "source": [
    "classifier = RandomForestClassifier(criterion=\"entropy\", random_state=random_seed)\n",
    "pipe = build_PCA_pipeline(classifier, pca_n_components)\n",
    "\n",
    "param_grid = {\n",
    "    #\"classifier__n_estimators\": [5,10,20,50,100,150]\n",
    "    \"classifier__n_estimators\": [10,150]\n",
    "}\n",
    "\n",
    "grid_search = GridSearchCV(pipe, param_grid, cv=2, verbose=2)\n",
    "grid_search.fit(X_train, Y_train);"
   ]
  },
  {
   "cell_type": "code",
   "execution_count": 35,
   "id": "87fdaaa0",
   "metadata": {
    "execution": {
     "iopub.execute_input": "2022-03-09T15:40:40.661357Z",
     "iopub.status.busy": "2022-03-09T15:40:40.660651Z",
     "iopub.status.idle": "2022-03-09T15:40:40.665068Z",
     "shell.execute_reply": "2022-03-09T15:40:40.664161Z",
     "shell.execute_reply.started": "2022-03-09T15:23:15.504987Z"
    },
    "papermill": {
     "duration": 0.105961,
     "end_time": "2022-03-09T15:40:40.665260",
     "exception": false,
     "start_time": "2022-03-09T15:40:40.559299",
     "status": "completed"
    },
    "tags": []
   },
   "outputs": [
    {
     "name": "stdout",
     "output_type": "stream",
     "text": [
      "Best parameters set found on train set:\n",
      "{'classifier__n_estimators': 150}\n",
      "\n",
      "\n",
      "Grid scores on train set:\n",
      "{'classifier__n_estimators': 10} mean: 0.934 std: +/- 0.001)\n",
      "{'classifier__n_estimators': 150} mean: 0.940 std: +/- 0.000)\n",
      "\n",
      "\n"
     ]
    }
   ],
   "source": [
    "print_grid_search_results(grid_search)"
   ]
  },
  {
   "cell_type": "code",
   "execution_count": 36,
   "id": "9b08a7bd",
   "metadata": {
    "execution": {
     "iopub.execute_input": "2022-03-09T15:40:40.883287Z",
     "iopub.status.busy": "2022-03-09T15:40:40.877122Z",
     "iopub.status.idle": "2022-03-09T15:40:41.028532Z",
     "shell.execute_reply": "2022-03-09T15:40:41.027967Z",
     "shell.execute_reply.started": "2022-03-09T15:23:15.516785Z"
    },
    "papermill": {
     "duration": 0.266397,
     "end_time": "2022-03-09T15:40:41.028676",
     "exception": false,
     "start_time": "2022-03-09T15:40:40.762279",
     "status": "completed"
    },
    "tags": []
   },
   "outputs": [
    {
     "data": {
      "image/png": "[encoded data removed]",
      "text/plain": [
       "<Figure size 720x360 with 1 Axes>"
      ]
     },
     "metadata": {
      "needs_background": "light"
     },
     "output_type": "display_data"
    }
   ],
   "source": [
    "show_curve(param_grid[\"classifier__n_estimators\"],\n",
    "           grid_search.cv_results_['mean_test_score'],\n",
    "           \"n_estimators\",\n",
    "           \"accuracy\",\n",
    "           \"Mean score with CV varying n_estimators of Random Forest\")"
   ]
  },
  {
   "cell_type": "code",
   "execution_count": 37,
   "id": "f591bbf0",
   "metadata": {
    "execution": {
     "iopub.execute_input": "2022-03-09T15:40:41.230305Z",
     "iopub.status.busy": "2022-03-09T15:40:41.227990Z",
     "iopub.status.idle": "2022-03-09T15:40:41.232469Z",
     "shell.execute_reply": "2022-03-09T15:40:41.233048Z",
     "shell.execute_reply.started": "2022-03-09T15:23:15.730489Z"
    },
    "papermill": {
     "duration": 0.106513,
     "end_time": "2022-03-09T15:40:41.233242",
     "exception": false,
     "start_time": "2022-03-09T15:40:41.126729",
     "status": "completed"
    },
    "tags": []
   },
   "outputs": [],
   "source": [
    "# Define the final model with the best parameter found\n",
    "best_n_estimators = grid_search.best_params_[\"classifier__n_estimators\"]\n",
    "rnd_forest_model = RandomForestClassifier(criterion=\"entropy\", n_estimators=best_n_estimators, random_state=random_seed)"
   ]
  },
  {
   "cell_type": "markdown",
   "id": "fa2b988e",
   "metadata": {
    "papermill": {
     "duration": 0.098573,
     "end_time": "2022-03-09T15:40:41.429356",
     "exception": false,
     "start_time": "2022-03-09T15:40:41.330783",
     "status": "completed"
    },
    "tags": []
   },
   "source": [
    "### **Extremely Randomized Trees**"
   ]
  },
  {
   "cell_type": "code",
   "execution_count": 38,
   "id": "209ee670",
   "metadata": {
    "execution": {
     "iopub.execute_input": "2022-03-09T15:40:41.626619Z",
     "iopub.status.busy": "2022-03-09T15:40:41.625915Z",
     "iopub.status.idle": "2022-03-09T15:40:41.629301Z",
     "shell.execute_reply": "2022-03-09T15:40:41.629921Z",
     "shell.execute_reply.started": "2022-03-09T15:23:15.737252Z"
    },
    "papermill": {
     "duration": 0.103841,
     "end_time": "2022-03-09T15:40:41.630102",
     "exception": false,
     "start_time": "2022-03-09T15:40:41.526261",
     "status": "completed"
    },
    "tags": []
   },
   "outputs": [],
   "source": [
    "from sklearn.ensemble import ExtraTreesClassifier"
   ]
  },
  {
   "cell_type": "code",
   "execution_count": 39,
   "id": "bb2d6ef8",
   "metadata": {
    "execution": {
     "iopub.execute_input": "2022-03-09T15:40:41.833854Z",
     "iopub.status.busy": "2022-03-09T15:40:41.833138Z",
     "iopub.status.idle": "2022-03-09T15:41:34.060368Z",
     "shell.execute_reply": "2022-03-09T15:41:34.059699Z",
     "shell.execute_reply.started": "2022-03-09T15:23:15.751947Z"
    },
    "papermill": {
     "duration": 52.332713,
     "end_time": "2022-03-09T15:41:34.060521",
     "exception": false,
     "start_time": "2022-03-09T15:40:41.727808",
     "status": "completed"
    },
    "tags": []
   },
   "outputs": [
    {
     "name": "stdout",
     "output_type": "stream",
     "text": [
      "Fitting 2 folds for each of 2 candidates, totalling 4 fits\n",
      "[CV] classifier__n_estimators=10 .....................................\n"
     ]
    },
    {
     "name": "stderr",
     "output_type": "stream",
     "text": [
      "[Parallel(n_jobs=1)]: Using backend SequentialBackend with 1 concurrent workers.\n"
     ]
    },
    {
     "name": "stdout",
     "output_type": "stream",
     "text": [
      "[CV] ...................... classifier__n_estimators=10, total=   3.7s\n",
      "[CV] classifier__n_estimators=10 .....................................\n"
     ]
    },
    {
     "name": "stderr",
     "output_type": "stream",
     "text": [
      "[Parallel(n_jobs=1)]: Done   1 out of   1 | elapsed:    3.7s remaining:    0.0s\n"
     ]
    },
    {
     "name": "stdout",
     "output_type": "stream",
     "text": [
      "[CV] ...................... classifier__n_estimators=10, total=   3.4s\n",
      "[CV] classifier__n_estimators=150 ....................................\n",
      "[CV] ..................... classifier__n_estimators=150, total=  13.2s\n",
      "[CV] classifier__n_estimators=150 ....................................\n",
      "[CV] ..................... classifier__n_estimators=150, total=  13.1s\n"
     ]
    },
    {
     "name": "stderr",
     "output_type": "stream",
     "text": [
      "[Parallel(n_jobs=1)]: Done   4 out of   4 | elapsed:   33.5s finished\n"
     ]
    }
   ],
   "source": [
    "classifier = ExtraTreesClassifier(criterion=\"entropy\", random_state=random_seed)\n",
    "pipe = build_PCA_pipeline(classifier, pca_n_components)\n",
    "\n",
    "param_grid = {\n",
    "    #\"classifier__n_estimators\": [5,10,20,50,100,150]\n",
    "    \"classifier__n_estimators\": [10,150]\n",
    "}\n",
    "\n",
    "grid_search = GridSearchCV(pipe, param_grid, cv=2, verbose=2)\n",
    "grid_search.fit(X_train, Y_train);"
   ]
  },
  {
   "cell_type": "code",
   "execution_count": 40,
   "id": "41f77ed8",
   "metadata": {
    "execution": {
     "iopub.execute_input": "2022-03-09T15:41:34.265603Z",
     "iopub.status.busy": "2022-03-09T15:41:34.264985Z",
     "iopub.status.idle": "2022-03-09T15:41:34.269611Z",
     "shell.execute_reply": "2022-03-09T15:41:34.270138Z",
     "shell.execute_reply.started": "2022-03-09T15:24:15.447623Z"
    },
    "papermill": {
     "duration": 0.109163,
     "end_time": "2022-03-09T15:41:34.270312",
     "exception": false,
     "start_time": "2022-03-09T15:41:34.161149",
     "status": "completed"
    },
    "tags": []
   },
   "outputs": [
    {
     "name": "stdout",
     "output_type": "stream",
     "text": [
      "Best parameters set found on train set:\n",
      "{'classifier__n_estimators': 150}\n",
      "\n",
      "\n",
      "Grid scores on train set:\n",
      "{'classifier__n_estimators': 10} mean: 0.938 std: +/- 0.001)\n",
      "{'classifier__n_estimators': 150} mean: 0.942 std: +/- 0.000)\n",
      "\n",
      "\n"
     ]
    }
   ],
   "source": [
    "print_grid_search_results(grid_search)"
   ]
  },
  {
   "cell_type": "code",
   "execution_count": 41,
   "id": "5f092c30",
   "metadata": {
    "execution": {
     "iopub.execute_input": "2022-03-09T15:41:34.474976Z",
     "iopub.status.busy": "2022-03-09T15:41:34.474267Z",
     "iopub.status.idle": "2022-03-09T15:41:34.622365Z",
     "shell.execute_reply": "2022-03-09T15:41:34.621800Z",
     "shell.execute_reply.started": "2022-03-09T15:24:15.456605Z"
    },
    "papermill": {
     "duration": 0.252259,
     "end_time": "2022-03-09T15:41:34.622515",
     "exception": false,
     "start_time": "2022-03-09T15:41:34.370256",
     "status": "completed"
    },
    "tags": []
   },
   "outputs": [
    {
     "data": {
      "image/png": "[encoded data removed]",
      "text/plain": [
       "<Figure size 720x360 with 1 Axes>"
      ]
     },
     "metadata": {
      "needs_background": "light"
     },
     "output_type": "display_data"
    }
   ],
   "source": [
    "show_curve(param_grid[\"classifier__n_estimators\"],\n",
    "           grid_search.cv_results_['mean_test_score'],\n",
    "           \"n_estimators\",\n",
    "           \"accuracy\",\n",
    "           \"Mean score with CV varying n_estimators of Extremely Randomized Trees\")"
   ]
  },
  {
   "cell_type": "code",
   "execution_count": 42,
   "id": "2ecae6c1",
   "metadata": {
    "execution": {
     "iopub.execute_input": "2022-03-09T15:41:34.830772Z",
     "iopub.status.busy": "2022-03-09T15:41:34.829801Z",
     "iopub.status.idle": "2022-03-09T15:41:34.831489Z",
     "shell.execute_reply": "2022-03-09T15:41:34.832006Z",
     "shell.execute_reply.started": "2022-03-09T15:24:15.624377Z"
    },
    "papermill": {
     "duration": 0.10905,
     "end_time": "2022-03-09T15:41:34.832191",
     "exception": false,
     "start_time": "2022-03-09T15:41:34.723141",
     "status": "completed"
    },
    "tags": []
   },
   "outputs": [],
   "source": [
    "# Define the final model with the best parameter found\n",
    "best_n_estimators = grid_search.best_params_[\"classifier__n_estimators\"]\n",
    "ext_rnd_trees_model = ExtraTreesClassifier(criterion=\"entropy\", n_estimators=best_n_estimators, random_state=random_seed)"
   ]
  },
  {
   "cell_type": "markdown",
   "id": "64c445e3",
   "metadata": {
    "papermill": {
     "duration": 0.102266,
     "end_time": "2022-03-09T15:41:35.036500",
     "exception": false,
     "start_time": "2022-03-09T15:41:34.934234",
     "status": "completed"
    },
    "tags": []
   },
   "source": [
    "### **Deep Neural Network**"
   ]
  },
  {
   "cell_type": "code",
   "execution_count": 43,
   "id": "46d4b469",
   "metadata": {
    "execution": {
     "iopub.execute_input": "2022-03-09T15:41:35.244785Z",
     "iopub.status.busy": "2022-03-09T15:41:35.244079Z",
     "iopub.status.idle": "2022-03-09T15:41:41.866311Z",
     "shell.execute_reply": "2022-03-09T15:41:41.865575Z",
     "shell.execute_reply.started": "2022-03-09T15:24:15.631773Z"
    },
    "papermill": {
     "duration": 6.728171,
     "end_time": "2022-03-09T15:41:41.866462",
     "exception": false,
     "start_time": "2022-03-09T15:41:35.138291",
     "status": "completed"
    },
    "tags": []
   },
   "outputs": [],
   "source": [
    "import tensorflow as tf\n",
    "from tensorflow import keras\n",
    "from tensorflow.keras import layers"
   ]
  },
  {
   "cell_type": "code",
   "execution_count": 44,
   "id": "eae3fb68",
   "metadata": {
    "execution": {
     "iopub.execute_input": "2022-03-09T15:41:42.079980Z",
     "iopub.status.busy": "2022-03-09T15:41:42.079280Z",
     "iopub.status.idle": "2022-03-09T15:41:42.234382Z",
     "shell.execute_reply": "2022-03-09T15:41:42.233814Z",
     "shell.execute_reply.started": "2022-03-09T15:24:22.044351Z"
    },
    "papermill": {
     "duration": 0.264902,
     "end_time": "2022-03-09T15:41:42.234523",
     "exception": false,
     "start_time": "2022-03-09T15:41:41.969621",
     "status": "completed"
    },
    "tags": []
   },
   "outputs": [
    {
     "name": "stdout",
     "output_type": "stream",
     "text": [
      "Model: \"dnn_model\"\n",
      "_________________________________________________________________\n",
      "Layer (type)                 Output Shape              Param #   \n",
      "=================================================================\n",
      "input_1 (InputLayer)         [(None, 5)]               0         \n",
      "_________________________________________________________________\n",
      "dense (Dense)                (None, 30)                180       \n",
      "_________________________________________________________________\n",
      "dense_1 (Dense)              (None, 50)                1550      \n",
      "_________________________________________________________________\n",
      "dense_2 (Dense)              (None, 50)                2550      \n",
      "_________________________________________________________________\n",
      "dense_3 (Dense)              (None, 30)                1530      \n",
      "_________________________________________________________________\n",
      "dense_4 (Dense)              (None, 20)                620       \n",
      "_________________________________________________________________\n",
      "dense_5 (Dense)              (None, 10)                210       \n",
      "=================================================================\n",
      "Total params: 6,640\n",
      "Trainable params: 6,640\n",
      "Non-trainable params: 0\n",
      "_________________________________________________________________\n"
     ]
    },
    {
     "name": "stderr",
     "output_type": "stream",
     "text": [
      "2022-03-09 15:41:42.133124: I tensorflow/core/common_runtime/process_util.cc:146] Creating new thread pool with default inter op setting: 2. Tune using inter_op_parallelism_threads for best performance.\n"
     ]
    }
   ],
   "source": [
    "# Network architecture definition\n",
    "inputs = keras.Input(shape=(pca_n_components,))\n",
    "x = layers.Dense(30, activation=\"relu\")(inputs)\n",
    "x = layers.Dense(50, activation=\"relu\")(x)\n",
    "x = layers.Dense(50, activation=\"relu\")(x)\n",
    "x = layers.Dense(30, activation=\"relu\")(x)\n",
    "x = layers.Dense(20, activation=\"relu\")(x)\n",
    "outputs = layers.Dense(10, activation=\"softmax\")(x)\n",
    "\n",
    "dnn_model = keras.Model(inputs=inputs, outputs=outputs, name=\"dnn_model\")\n",
    "dnn_model.summary()"
   ]
  },
  {
   "cell_type": "code",
   "execution_count": 45,
   "id": "1886c2ed",
   "metadata": {
    "execution": {
     "iopub.execute_input": "2022-03-09T15:41:42.442026Z",
     "iopub.status.busy": "2022-03-09T15:41:42.441295Z",
     "iopub.status.idle": "2022-03-09T15:41:42.455702Z",
     "shell.execute_reply": "2022-03-09T15:41:42.455093Z",
     "shell.execute_reply.started": "2022-03-09T15:24:22.219801Z"
    },
    "papermill": {
     "duration": 0.119901,
     "end_time": "2022-03-09T15:41:42.455939",
     "exception": false,
     "start_time": "2022-03-09T15:41:42.336038",
     "status": "completed"
    },
    "tags": []
   },
   "outputs": [],
   "source": [
    "dnn_model.compile(\n",
    "    loss=keras.losses.SparseCategoricalCrossentropy(from_logits=False),\n",
    "    optimizer=keras.optimizers.Adam(),\n",
    "    metrics=[\"accuracy\"]\n",
    ")"
   ]
  },
  {
   "cell_type": "code",
   "execution_count": 46,
   "id": "2551bfb6",
   "metadata": {
    "execution": {
     "iopub.execute_input": "2022-03-09T15:41:42.671072Z",
     "iopub.status.busy": "2022-03-09T15:41:42.670335Z",
     "iopub.status.idle": "2022-03-09T15:41:47.037501Z",
     "shell.execute_reply": "2022-03-09T15:41:47.038413Z",
     "shell.execute_reply.started": "2022-03-09T15:24:22.237289Z"
    },
    "papermill": {
     "duration": 4.477944,
     "end_time": "2022-03-09T15:41:47.038694",
     "exception": false,
     "start_time": "2022-03-09T15:41:42.560750",
     "status": "completed"
    },
    "tags": []
   },
   "outputs": [
    {
     "name": "stdout",
     "output_type": "stream",
     "text": [
      "Shape of X_train_t_pca: (107200, 5)\n",
      "Shape of X_train_val_pca: (26800, 5)\n"
     ]
    }
   ],
   "source": [
    "# Preprocess training set\n",
    "\n",
    "# Further split the training set in training and validation sets\n",
    "X_train_t, X_train_val, Y_train_t, Y_train_val = train_test_split(X_train, Y_train, test_size=0.20, stratify=Y_train, random_state=random_seed)\n",
    "\n",
    "# Standardize the features\n",
    "st_scaler_dnn = StandardScaler()\n",
    "st_scaler_dnn.fit(X_train_t)\n",
    "X_train_t = st_scaler_dnn.transform(X_train_t)\n",
    "X_train_val = st_scaler_dnn.transform(X_train_val)\n",
    "\n",
    "# Perform PCA\n",
    "pca_dnn = PCA(n_components=pca_n_components)\n",
    "pca_dnn.fit(X_train_t)\n",
    "X_train_t_pca = pca_dnn.transform(X_train_t)\n",
    "X_train_val_pca = pca_dnn.transform(X_train_val)\n",
    "\n",
    "print(f\"Shape of X_train_t_pca: {X_train_t_pca.shape}\")\n",
    "print(f\"Shape of X_train_val_pca: {X_train_val_pca.shape}\")"
   ]
  },
  {
   "cell_type": "code",
   "execution_count": 47,
   "id": "372540fc",
   "metadata": {
    "execution": {
     "iopub.execute_input": "2022-03-09T15:41:47.304619Z",
     "iopub.status.busy": "2022-03-09T15:41:47.303591Z",
     "iopub.status.idle": "2022-03-09T15:42:17.853375Z",
     "shell.execute_reply": "2022-03-09T15:42:17.854192Z",
     "shell.execute_reply.started": "2022-03-09T15:24:26.870516Z"
    },
    "papermill": {
     "duration": 30.659825,
     "end_time": "2022-03-09T15:42:17.854436",
     "exception": false,
     "start_time": "2022-03-09T15:41:47.194611",
     "status": "completed"
    },
    "tags": []
   },
   "outputs": [
    {
     "name": "stderr",
     "output_type": "stream",
     "text": [
      "2022-03-09 15:41:47.389899: I tensorflow/compiler/mlir/mlir_graph_optimization_pass.cc:185] None of the MLIR Optimization Passes are enabled (registered 2)\n"
     ]
    },
    {
     "name": "stdout",
     "output_type": "stream",
     "text": [
      "Epoch 1/5\n",
      "1675/1675 [==============================] - 7s 4ms/step - loss: 0.8775 - accuracy: 0.6737 - val_loss: 0.6165 - val_accuracy: 0.7907\n",
      "Epoch 2/5\n",
      "1675/1675 [==============================] - 6s 3ms/step - loss: 0.5656 - accuracy: 0.7908 - val_loss: 0.5097 - val_accuracy: 0.8130\n",
      "Epoch 3/5\n",
      "1675/1675 [==============================] - 6s 3ms/step - loss: 0.4957 - accuracy: 0.8068 - val_loss: 0.4672 - val_accuracy: 0.8144\n",
      "Epoch 4/5\n",
      "1675/1675 [==============================] - 6s 4ms/step - loss: 0.4608 - accuracy: 0.8149 - val_loss: 0.5018 - val_accuracy: 0.8066\n",
      "Epoch 5/5\n",
      "1675/1675 [==============================] - 6s 3ms/step - loss: 0.4433 - accuracy: 0.8191 - val_loss: 0.4272 - val_accuracy: 0.8257\n"
     ]
    }
   ],
   "source": [
    "history = dnn_model.fit(X_train_t_pca, Y_train_t, batch_size=64, epochs=5, validation_data=(X_train_val_pca, Y_train_val))"
   ]
  },
  {
   "cell_type": "markdown",
   "id": "6712dff9",
   "metadata": {
    "papermill": {
     "duration": 0.289039,
     "end_time": "2022-03-09T15:42:18.436207",
     "exception": false,
     "start_time": "2022-03-09T15:42:18.147168",
     "status": "completed"
    },
    "tags": []
   },
   "source": [
    "## **Final Model Evaluation**"
   ]
  },
  {
   "cell_type": "code",
   "execution_count": 48,
   "id": "76b614f7",
   "metadata": {
    "execution": {
     "iopub.execute_input": "2022-03-09T15:42:19.017357Z",
     "iopub.status.busy": "2022-03-09T15:42:19.016310Z",
     "iopub.status.idle": "2022-03-09T15:42:19.018464Z",
     "shell.execute_reply": "2022-03-09T15:42:19.019008Z",
     "shell.execute_reply.started": "2022-03-09T15:25:08.620374Z"
    },
    "papermill": {
     "duration": 0.295988,
     "end_time": "2022-03-09T15:42:19.019181",
     "exception": false,
     "start_time": "2022-03-09T15:42:18.723193",
     "status": "completed"
    },
    "tags": []
   },
   "outputs": [],
   "source": [
    "from sklearn.metrics import classification_report"
   ]
  },
  {
   "cell_type": "code",
   "execution_count": 49,
   "id": "afe757e4",
   "metadata": {
    "execution": {
     "iopub.execute_input": "2022-03-09T15:42:19.599422Z",
     "iopub.status.busy": "2022-03-09T15:42:19.598644Z",
     "iopub.status.idle": "2022-03-09T15:42:19.601486Z",
     "shell.execute_reply": "2022-03-09T15:42:19.600963Z",
     "shell.execute_reply.started": "2022-03-09T15:25:08.628433Z"
    },
    "papermill": {
     "duration": 0.296323,
     "end_time": "2022-03-09T15:42:19.601626",
     "exception": false,
     "start_time": "2022-03-09T15:42:19.305303",
     "status": "completed"
    },
    "tags": []
   },
   "outputs": [],
   "source": [
    "final_model = rnd_forest_model\n",
    "use_neural_network = False"
   ]
  },
  {
   "cell_type": "code",
   "execution_count": 50,
   "id": "08dd1e91",
   "metadata": {
    "execution": {
     "iopub.execute_input": "2022-03-09T15:42:20.185283Z",
     "iopub.status.busy": "2022-03-09T15:42:20.184589Z",
     "iopub.status.idle": "2022-03-09T15:42:20.186629Z",
     "shell.execute_reply": "2022-03-09T15:42:20.187170Z",
     "shell.execute_reply.started": "2022-03-09T15:25:08.644263Z"
    },
    "papermill": {
     "duration": 0.295332,
     "end_time": "2022-03-09T15:42:20.187352",
     "exception": false,
     "start_time": "2022-03-09T15:42:19.892020",
     "status": "completed"
    },
    "tags": []
   },
   "outputs": [],
   "source": [
    "if use_neural_network:\n",
    "    # Preprocess test data\n",
    "    # Standardize\n",
    "    X_test = st_scaler_dnn.transform(X_test)\n",
    "    # PCA\n",
    "    X_test = pca_dnn.transform(X_test)"
   ]
  },
  {
   "cell_type": "code",
   "execution_count": 51,
   "id": "b638fd9e",
   "metadata": {
    "execution": {
     "iopub.execute_input": "2022-03-09T15:42:20.776766Z",
     "iopub.status.busy": "2022-03-09T15:42:20.776065Z",
     "iopub.status.idle": "2022-03-09T15:43:51.849399Z",
     "shell.execute_reply": "2022-03-09T15:43:51.848781Z",
     "shell.execute_reply.started": "2022-03-09T15:25:08.659291Z"
    },
    "papermill": {
     "duration": 91.367628,
     "end_time": "2022-03-09T15:43:51.849572",
     "exception": false,
     "start_time": "2022-03-09T15:42:20.481944",
     "status": "completed"
    },
    "tags": []
   },
   "outputs": [],
   "source": [
    "if use_neural_network:\n",
    "    # Predict probabilty distributions over possible labels\n",
    "    Y_test_pred_p = final_model.predict(X_test)\n",
    "    # Store the index of the most probable label\n",
    "    Y_test_pred = np.argmax(Y_test_pred_p, axis=1)\n",
    "else:\n",
    "    # Train the full model on the complete training set\n",
    "    final_pipe = build_PCA_pipeline(final_model, pca_n_components)\n",
    "    final_pipe.fit(X_train, Y_train)\n",
    "    # Directly predict labels\n",
    "    Y_test_pred = final_pipe.predict(X_test)"
   ]
  },
  {
   "cell_type": "code",
   "execution_count": 52,
   "id": "3572afa5",
   "metadata": {
    "execution": {
     "iopub.execute_input": "2022-03-09T15:43:52.432318Z",
     "iopub.status.busy": "2022-03-09T15:43:52.431607Z",
     "iopub.status.idle": "2022-03-09T15:43:52.577329Z",
     "shell.execute_reply": "2022-03-09T15:43:52.578055Z",
     "shell.execute_reply.started": "2022-03-09T15:27:20.360764Z"
    },
    "papermill": {
     "duration": 0.438323,
     "end_time": "2022-03-09T15:43:52.578308",
     "exception": false,
     "start_time": "2022-03-09T15:43:52.139985",
     "status": "completed"
    },
    "tags": []
   },
   "outputs": [
    {
     "name": "stdout",
     "output_type": "stream",
     "text": [
      "                          precision    recall  f1-score   support\n",
      "\n",
      "    Bacteroides_fragilis       0.99      0.99      0.99      6646\n",
      "    Campylobacter_jejuni       0.99      0.99      0.99      6621\n",
      "      Enterococcus_hirae       0.97      0.97      0.97      6583\n",
      "        Escherichia_coli       0.97      0.96      0.96      6586\n",
      "  Escherichia_fergusonii       0.96      0.97      0.97      6579\n",
      "   Klebsiella_pneumoniae       0.99      0.99      0.99      6549\n",
      "     Salmonella_enterica       0.98      0.98      0.98      6610\n",
      "   Staphylococcus_aureus       0.98      0.98      0.98      6577\n",
      "Streptococcus_pneumoniae       0.98      0.97      0.97      6624\n",
      "  Streptococcus_pyogenes       0.97      0.97      0.97      6625\n",
      "\n",
      "                accuracy                           0.98     66000\n",
      "               macro avg       0.98      0.98      0.98     66000\n",
      "            weighted avg       0.98      0.98      0.98     66000\n",
      "\n"
     ]
    }
   ],
   "source": [
    "print(classification_report(Y_test, Y_test_pred, target_names=label_encoder.classes_))"
   ]
  },
  {
   "cell_type": "markdown",
   "id": "42452de0",
   "metadata": {
    "papermill": {
     "duration": 0.297173,
     "end_time": "2022-03-09T15:43:53.164043",
     "exception": false,
     "start_time": "2022-03-09T15:43:52.866870",
     "status": "completed"
    },
    "tags": []
   },
   "source": [
    "## **Kaggle Submission Test**"
   ]
  },
  {
   "cell_type": "code",
   "execution_count": 53,
   "id": "44112aab",
   "metadata": {
    "execution": {
     "iopub.execute_input": "2022-03-09T15:43:53.761485Z",
     "iopub.status.busy": "2022-03-09T15:43:53.760686Z",
     "iopub.status.idle": "2022-03-09T15:44:07.194488Z",
     "shell.execute_reply": "2022-03-09T15:44:07.193912Z",
     "shell.execute_reply.started": "2022-03-09T15:27:20.507997Z"
    },
    "papermill": {
     "duration": 13.731455,
     "end_time": "2022-03-09T15:44:07.194628",
     "exception": false,
     "start_time": "2022-03-09T15:43:53.463173",
     "status": "completed"
    },
    "tags": []
   },
   "outputs": [
    {
     "data": {
      "text/html": [
       "<div>\n",
       "<style scoped>\n",
       "    .dataframe tbody tr th:only-of-type {\n",
       "        vertical-align: middle;\n",
       "    }\n",
       "\n",
       "    .dataframe tbody tr th {\n",
       "        vertical-align: top;\n",
       "    }\n",
       "\n",
       "    .dataframe thead th {\n",
       "        text-align: right;\n",
       "    }\n",
       "</style>\n",
       "<table border=\"1\" class=\"dataframe\">\n",
       "  <thead>\n",
       "    <tr style=\"text-align: right;\">\n",
       "      <th></th>\n",
       "      <th>row_id</th>\n",
       "      <th>A0T0G0C10</th>\n",
       "      <th>A0T0G1C9</th>\n",
       "      <th>A0T0G2C8</th>\n",
       "      <th>A0T0G3C7</th>\n",
       "      <th>A0T0G4C6</th>\n",
       "      <th>A0T0G5C5</th>\n",
       "      <th>A0T0G6C4</th>\n",
       "      <th>A0T0G7C3</th>\n",
       "      <th>A0T0G8C2</th>\n",
       "      <th>...</th>\n",
       "      <th>A8T0G0C2</th>\n",
       "      <th>A8T0G1C1</th>\n",
       "      <th>A8T0G2C0</th>\n",
       "      <th>A8T1G0C1</th>\n",
       "      <th>A8T1G1C0</th>\n",
       "      <th>A8T2G0C0</th>\n",
       "      <th>A9T0G0C1</th>\n",
       "      <th>A9T0G1C0</th>\n",
       "      <th>A9T1G0C0</th>\n",
       "      <th>A10T0G0C0</th>\n",
       "    </tr>\n",
       "  </thead>\n",
       "  <tbody>\n",
       "    <tr>\n",
       "      <th>0</th>\n",
       "      <td>200000</td>\n",
       "      <td>-9.536743e-07</td>\n",
       "      <td>-0.000002</td>\n",
       "      <td>-9.153442e-07</td>\n",
       "      <td>0.000024</td>\n",
       "      <td>0.000034</td>\n",
       "      <td>-0.000002</td>\n",
       "      <td>0.000021</td>\n",
       "      <td>0.000024</td>\n",
       "      <td>-0.000009</td>\n",
       "      <td>...</td>\n",
       "      <td>0.000039</td>\n",
       "      <td>0.000085</td>\n",
       "      <td>0.000055</td>\n",
       "      <td>0.000108</td>\n",
       "      <td>0.000090</td>\n",
       "      <td>0.000059</td>\n",
       "      <td>0.000010</td>\n",
       "      <td>0.000006</td>\n",
       "      <td>0.000027</td>\n",
       "      <td>4.632568e-08</td>\n",
       "    </tr>\n",
       "    <tr>\n",
       "      <th>1</th>\n",
       "      <td>200001</td>\n",
       "      <td>-9.536743e-07</td>\n",
       "      <td>-0.000010</td>\n",
       "      <td>-4.291534e-05</td>\n",
       "      <td>-0.000114</td>\n",
       "      <td>0.001800</td>\n",
       "      <td>-0.000240</td>\n",
       "      <td>0.001800</td>\n",
       "      <td>-0.000114</td>\n",
       "      <td>0.000957</td>\n",
       "      <td>...</td>\n",
       "      <td>-0.000043</td>\n",
       "      <td>0.000914</td>\n",
       "      <td>-0.000043</td>\n",
       "      <td>-0.000086</td>\n",
       "      <td>-0.000086</td>\n",
       "      <td>-0.000043</td>\n",
       "      <td>-0.000010</td>\n",
       "      <td>-0.000010</td>\n",
       "      <td>-0.000010</td>\n",
       "      <td>-9.536743e-07</td>\n",
       "    </tr>\n",
       "    <tr>\n",
       "      <th>2</th>\n",
       "      <td>200002</td>\n",
       "      <td>4.632568e-08</td>\n",
       "      <td>0.000003</td>\n",
       "      <td>8.465576e-08</td>\n",
       "      <td>-0.000014</td>\n",
       "      <td>0.000007</td>\n",
       "      <td>-0.000005</td>\n",
       "      <td>-0.000004</td>\n",
       "      <td>0.000003</td>\n",
       "      <td>0.000004</td>\n",
       "      <td>...</td>\n",
       "      <td>0.000041</td>\n",
       "      <td>0.000102</td>\n",
       "      <td>0.000084</td>\n",
       "      <td>0.000111</td>\n",
       "      <td>0.000117</td>\n",
       "      <td>0.000070</td>\n",
       "      <td>0.000020</td>\n",
       "      <td>0.000030</td>\n",
       "      <td>0.000021</td>\n",
       "      <td>4.632568e-08</td>\n",
       "    </tr>\n",
       "    <tr>\n",
       "      <th>3</th>\n",
       "      <td>200003</td>\n",
       "      <td>-9.536743e-07</td>\n",
       "      <td>-0.000008</td>\n",
       "      <td>8.084656e-06</td>\n",
       "      <td>0.000216</td>\n",
       "      <td>0.000420</td>\n",
       "      <td>0.000514</td>\n",
       "      <td>0.000452</td>\n",
       "      <td>0.000187</td>\n",
       "      <td>-0.000005</td>\n",
       "      <td>...</td>\n",
       "      <td>0.000069</td>\n",
       "      <td>0.000158</td>\n",
       "      <td>0.000098</td>\n",
       "      <td>0.000175</td>\n",
       "      <td>0.000217</td>\n",
       "      <td>0.000150</td>\n",
       "      <td>0.000018</td>\n",
       "      <td>0.000016</td>\n",
       "      <td>0.000051</td>\n",
       "      <td>-9.536743e-07</td>\n",
       "    </tr>\n",
       "    <tr>\n",
       "      <th>4</th>\n",
       "      <td>200004</td>\n",
       "      <td>-9.536743e-07</td>\n",
       "      <td>-0.000010</td>\n",
       "      <td>-4.291534e-05</td>\n",
       "      <td>-0.000114</td>\n",
       "      <td>-0.000200</td>\n",
       "      <td>-0.000240</td>\n",
       "      <td>-0.000200</td>\n",
       "      <td>-0.000114</td>\n",
       "      <td>-0.000043</td>\n",
       "      <td>...</td>\n",
       "      <td>-0.000043</td>\n",
       "      <td>-0.000086</td>\n",
       "      <td>-0.000043</td>\n",
       "      <td>-0.000086</td>\n",
       "      <td>0.000914</td>\n",
       "      <td>-0.000043</td>\n",
       "      <td>-0.000010</td>\n",
       "      <td>-0.000010</td>\n",
       "      <td>0.000990</td>\n",
       "      <td>-9.536743e-07</td>\n",
       "    </tr>\n",
       "  </tbody>\n",
       "</table>\n",
       "<p>5 rows × 287 columns</p>\n",
       "</div>"
      ],
      "text/plain": [
       "   row_id     A0T0G0C10  A0T0G1C9      A0T0G2C8  A0T0G3C7  A0T0G4C6  A0T0G5C5  \\\n",
       "0  200000 -9.536743e-07 -0.000002 -9.153442e-07  0.000024  0.000034 -0.000002   \n",
       "1  200001 -9.536743e-07 -0.000010 -4.291534e-05 -0.000114  0.001800 -0.000240   \n",
       "2  200002  4.632568e-08  0.000003  8.465576e-08 -0.000014  0.000007 -0.000005   \n",
       "3  200003 -9.536743e-07 -0.000008  8.084656e-06  0.000216  0.000420  0.000514   \n",
       "4  200004 -9.536743e-07 -0.000010 -4.291534e-05 -0.000114 -0.000200 -0.000240   \n",
       "\n",
       "   A0T0G6C4  A0T0G7C3  A0T0G8C2  ...  A8T0G0C2  A8T0G1C1  A8T0G2C0  A8T1G0C1  \\\n",
       "0  0.000021  0.000024 -0.000009  ...  0.000039  0.000085  0.000055  0.000108   \n",
       "1  0.001800 -0.000114  0.000957  ... -0.000043  0.000914 -0.000043 -0.000086   \n",
       "2 -0.000004  0.000003  0.000004  ...  0.000041  0.000102  0.000084  0.000111   \n",
       "3  0.000452  0.000187 -0.000005  ...  0.000069  0.000158  0.000098  0.000175   \n",
       "4 -0.000200 -0.000114 -0.000043  ... -0.000043 -0.000086 -0.000043 -0.000086   \n",
       "\n",
       "   A8T1G1C0  A8T2G0C0  A9T0G0C1  A9T0G1C0  A9T1G0C0     A10T0G0C0  \n",
       "0  0.000090  0.000059  0.000010  0.000006  0.000027  4.632568e-08  \n",
       "1 -0.000086 -0.000043 -0.000010 -0.000010 -0.000010 -9.536743e-07  \n",
       "2  0.000117  0.000070  0.000020  0.000030  0.000021  4.632568e-08  \n",
       "3  0.000217  0.000150  0.000018  0.000016  0.000051 -9.536743e-07  \n",
       "4  0.000914 -0.000043 -0.000010 -0.000010  0.000990 -9.536743e-07  \n",
       "\n",
       "[5 rows x 287 columns]"
      ]
     },
     "execution_count": 53,
     "metadata": {},
     "output_type": "execute_result"
    }
   ],
   "source": [
    "# Load Kaggle's submission test set\n",
    "df_subm = pd.read_csv(\"/kaggle/input/tabular-playground-series-feb-2022/test.csv\")\n",
    "df_subm.head()"
   ]
  },
  {
   "cell_type": "code",
   "execution_count": 54,
   "id": "82036dd2",
   "metadata": {
    "execution": {
     "iopub.execute_input": "2022-03-09T15:44:07.781040Z",
     "iopub.status.busy": "2022-03-09T15:44:07.780414Z",
     "iopub.status.idle": "2022-03-09T15:44:07.790285Z",
     "shell.execute_reply": "2022-03-09T15:44:07.789758Z",
     "shell.execute_reply.started": "2022-03-09T15:27:28.417093Z"
    },
    "papermill": {
     "duration": 0.305179,
     "end_time": "2022-03-09T15:44:07.790441",
     "exception": false,
     "start_time": "2022-03-09T15:44:07.485262",
     "status": "completed"
    },
    "tags": []
   },
   "outputs": [
    {
     "data": {
      "text/html": [
       "<div>\n",
       "<style scoped>\n",
       "    .dataframe tbody tr th:only-of-type {\n",
       "        vertical-align: middle;\n",
       "    }\n",
       "\n",
       "    .dataframe tbody tr th {\n",
       "        vertical-align: top;\n",
       "    }\n",
       "\n",
       "    .dataframe thead th {\n",
       "        text-align: right;\n",
       "    }\n",
       "</style>\n",
       "<table border=\"1\" class=\"dataframe\">\n",
       "  <thead>\n",
       "    <tr style=\"text-align: right;\">\n",
       "      <th></th>\n",
       "      <th>row_id</th>\n",
       "    </tr>\n",
       "  </thead>\n",
       "  <tbody>\n",
       "    <tr>\n",
       "      <th>0</th>\n",
       "      <td>200000</td>\n",
       "    </tr>\n",
       "    <tr>\n",
       "      <th>1</th>\n",
       "      <td>200001</td>\n",
       "    </tr>\n",
       "    <tr>\n",
       "      <th>2</th>\n",
       "      <td>200002</td>\n",
       "    </tr>\n",
       "    <tr>\n",
       "      <th>3</th>\n",
       "      <td>200003</td>\n",
       "    </tr>\n",
       "    <tr>\n",
       "      <th>4</th>\n",
       "      <td>200004</td>\n",
       "    </tr>\n",
       "  </tbody>\n",
       "</table>\n",
       "</div>"
      ],
      "text/plain": [
       "   row_id\n",
       "0  200000\n",
       "1  200001\n",
       "2  200002\n",
       "3  200003\n",
       "4  200004"
      ]
     },
     "execution_count": 54,
     "metadata": {},
     "output_type": "execute_result"
    }
   ],
   "source": [
    "df_subm_results = pd.DataFrame(df_subm[\"row_id\"])\n",
    "df_subm_results.head()"
   ]
  },
  {
   "cell_type": "code",
   "execution_count": 55,
   "id": "aee6d9b0",
   "metadata": {
    "execution": {
     "iopub.execute_input": "2022-03-09T15:44:08.446712Z",
     "iopub.status.busy": "2022-03-09T15:44:08.445691Z",
     "iopub.status.idle": "2022-03-09T15:44:08.448760Z",
     "shell.execute_reply": "2022-03-09T15:44:08.448123Z",
     "shell.execute_reply.started": "2022-03-09T15:27:28.431502Z"
    },
    "papermill": {
     "duration": 0.36735,
     "end_time": "2022-03-09T15:44:08.448939",
     "exception": false,
     "start_time": "2022-03-09T15:44:08.081589",
     "status": "completed"
    },
    "tags": []
   },
   "outputs": [],
   "source": [
    "X_subm = df_subm.drop(columns=\"row_id\")"
   ]
  },
  {
   "cell_type": "markdown",
   "id": "7fd2d727",
   "metadata": {
    "papermill": {
     "duration": 0.288771,
     "end_time": "2022-03-09T15:44:09.030233",
     "exception": false,
     "start_time": "2022-03-09T15:44:08.741462",
     "status": "completed"
    },
    "tags": []
   },
   "source": [
    "This time in the code i will directly assume to use a non-deep model, because we have seen that they perform better on the task ."
   ]
  },
  {
   "cell_type": "code",
   "execution_count": 56,
   "id": "932ff2e2",
   "metadata": {
    "execution": {
     "iopub.execute_input": "2022-03-09T15:44:09.788918Z",
     "iopub.status.busy": "2022-03-09T15:44:09.788179Z",
     "iopub.status.idle": "2022-03-09T15:46:19.940172Z",
     "shell.execute_reply": "2022-03-09T15:46:19.940688Z",
     "shell.execute_reply.started": "2022-03-09T15:27:28.515880Z"
    },
    "papermill": {
     "duration": 130.619934,
     "end_time": "2022-03-09T15:46:19.940884",
     "exception": false,
     "start_time": "2022-03-09T15:44:09.320950",
     "status": "completed"
    },
    "tags": []
   },
   "outputs": [
    {
     "data": {
      "text/plain": [
       "Pipeline(steps=[('st_scaler', StandardScaler()), ('pca', PCA(n_components=5)),\n",
       "                ('classifier',\n",
       "                 RandomForestClassifier(criterion='entropy', n_estimators=150,\n",
       "                                        random_state=42))])"
      ]
     },
     "execution_count": 56,
     "metadata": {},
     "output_type": "execute_result"
    }
   ],
   "source": [
    "# Build pipeline with final model\n",
    "final_pipe = build_PCA_pipeline(final_model, pca_n_components)\n",
    "# Retrain model on full dataset\n",
    "final_pipe.fit(df.drop(columns=[\"target\"]), df[\"target\"])"
   ]
  },
  {
   "cell_type": "code",
   "execution_count": 57,
   "id": "90db07fa",
   "metadata": {
    "execution": {
     "iopub.execute_input": "2022-03-09T15:46:20.524538Z",
     "iopub.status.busy": "2022-03-09T15:46:20.523531Z",
     "iopub.status.idle": "2022-03-09T15:46:24.472686Z",
     "shell.execute_reply": "2022-03-09T15:46:24.472019Z",
     "shell.execute_reply.started": "2022-03-09T15:30:46.162881Z"
    },
    "papermill": {
     "duration": 4.241694,
     "end_time": "2022-03-09T15:46:24.472883",
     "exception": false,
     "start_time": "2022-03-09T15:46:20.231189",
     "status": "completed"
    },
    "tags": []
   },
   "outputs": [],
   "source": [
    "# predict labels\n",
    "Y_subm_predicted = final_pipe.predict(X_subm)\n",
    "# Convert label indexes to text\n",
    "Y_subm_predicted_labeled = label_encoder.inverse_transform(Y_subm_predicted)\n",
    "# Store the predicted targets in the dataframe\n",
    "df_subm_results[\"target\"] = Y_subm_predicted_labeled"
   ]
  },
  {
   "cell_type": "code",
   "execution_count": 58,
   "id": "4956fb81",
   "metadata": {
    "execution": {
     "iopub.execute_input": "2022-03-09T15:46:25.095300Z",
     "iopub.status.busy": "2022-03-09T15:46:25.094265Z",
     "iopub.status.idle": "2022-03-09T15:46:25.104949Z",
     "shell.execute_reply": "2022-03-09T15:46:25.105621Z",
     "shell.execute_reply.started": "2022-03-09T15:30:49.969623Z"
    },
    "papermill": {
     "duration": 0.324425,
     "end_time": "2022-03-09T15:46:25.105845",
     "exception": false,
     "start_time": "2022-03-09T15:46:24.781420",
     "status": "completed"
    },
    "tags": []
   },
   "outputs": [
    {
     "data": {
      "text/html": [
       "<div>\n",
       "<style scoped>\n",
       "    .dataframe tbody tr th:only-of-type {\n",
       "        vertical-align: middle;\n",
       "    }\n",
       "\n",
       "    .dataframe tbody tr th {\n",
       "        vertical-align: top;\n",
       "    }\n",
       "\n",
       "    .dataframe thead th {\n",
       "        text-align: right;\n",
       "    }\n",
       "</style>\n",
       "<table border=\"1\" class=\"dataframe\">\n",
       "  <thead>\n",
       "    <tr style=\"text-align: right;\">\n",
       "      <th></th>\n",
       "      <th>row_id</th>\n",
       "      <th>target</th>\n",
       "    </tr>\n",
       "  </thead>\n",
       "  <tbody>\n",
       "    <tr>\n",
       "      <th>0</th>\n",
       "      <td>200000</td>\n",
       "      <td>Escherichia_fergusonii</td>\n",
       "    </tr>\n",
       "    <tr>\n",
       "      <th>1</th>\n",
       "      <td>200001</td>\n",
       "      <td>Salmonella_enterica</td>\n",
       "    </tr>\n",
       "    <tr>\n",
       "      <th>2</th>\n",
       "      <td>200002</td>\n",
       "      <td>Enterococcus_hirae</td>\n",
       "    </tr>\n",
       "    <tr>\n",
       "      <th>3</th>\n",
       "      <td>200003</td>\n",
       "      <td>Salmonella_enterica</td>\n",
       "    </tr>\n",
       "    <tr>\n",
       "      <th>4</th>\n",
       "      <td>200004</td>\n",
       "      <td>Staphylococcus_aureus</td>\n",
       "    </tr>\n",
       "  </tbody>\n",
       "</table>\n",
       "</div>"
      ],
      "text/plain": [
       "   row_id                  target\n",
       "0  200000  Escherichia_fergusonii\n",
       "1  200001     Salmonella_enterica\n",
       "2  200002      Enterococcus_hirae\n",
       "3  200003     Salmonella_enterica\n",
       "4  200004   Staphylococcus_aureus"
      ]
     },
     "execution_count": 58,
     "metadata": {},
     "output_type": "execute_result"
    }
   ],
   "source": [
    "df_subm_results.head()"
   ]
  },
  {
   "cell_type": "code",
   "execution_count": 59,
   "id": "e16ed41b",
   "metadata": {
    "execution": {
     "iopub.execute_input": "2022-03-09T15:46:25.732558Z",
     "iopub.status.busy": "2022-03-09T15:46:25.731905Z",
     "iopub.status.idle": "2022-03-09T15:46:26.003696Z",
     "shell.execute_reply": "2022-03-09T15:46:26.004292Z",
     "shell.execute_reply.started": "2022-03-09T15:30:49.982153Z"
    },
    "papermill": {
     "duration": 0.576509,
     "end_time": "2022-03-09T15:46:26.004476",
     "exception": false,
     "start_time": "2022-03-09T15:46:25.427967",
     "status": "completed"
    },
    "tags": []
   },
   "outputs": [],
   "source": [
    "df_subm_results.to_csv(\"submission.csv\", index=False)"
   ]
  },
  {
   "cell_type": "code",
   "execution_count": null,
   "id": "068ddc9c",
   "metadata": {
    "papermill": {
     "duration": 0.30793,
     "end_time": "2022-03-09T15:46:26.604325",
     "exception": false,
     "start_time": "2022-03-09T15:46:26.296395",
     "status": "completed"
    },
    "tags": []
   },
   "outputs": [],
   "source": []
  },
  {
   "cell_type": "code",
   "execution_count": null,
   "id": "353cdb6e",
   "metadata": {
    "papermill": {
     "duration": 0.301796,
     "end_time": "2022-03-09T15:46:27.213702",
     "exception": false,
     "start_time": "2022-03-09T15:46:26.911906",
     "status": "completed"
    },
    "tags": []
   },
   "outputs": [],
   "source": []
  }
 ],
 "metadata": {
  "kernelspec": {
   "display_name": "Python 3",
   "language": "python",
   "name": "python3"
  },
  "language_info": {
   "codemirror_mode": {
    "name": "ipython",
    "version": 3
   },
   "file_extension": ".py",
   "mimetype": "text/x-python",
   "name": "python",
   "nbconvert_exporter": "python",
   "pygments_lexer": "ipython3",
   "version": "3.7.12"
  },
  "papermill": {
   "default_parameters": {},
   "duration": 732.337744,
   "end_time": "2022-03-09T15:46:30.690278",
   "environment_variables": {},
   "exception": null,
   "input_path": "__notebook__.ipynb",
   "output_path": "__notebook__.ipynb",
   "parameters": {},
   "start_time": "2022-03-09T15:34:18.352534",
   "version": "2.3.3"
  }
 },
 "nbformat": 4,
 "nbformat_minor": 5
}
