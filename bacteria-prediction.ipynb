{
 "cells": [
  {
   "cell_type": "markdown",
   "id": "d02c9c79",
   "metadata": {
    "_cell_guid": "b1076dfc-b9ad-4769-8c92-a6c4dae69d19",
    "_uuid": "8f2839f25d086af736a60e9eeb907d3b93b6e0e5",
    "execution": {
     "iopub.execute_input": "2022-03-02T14:33:46.222715Z",
     "iopub.status.busy": "2022-03-02T14:33:46.221872Z",
     "iopub.status.idle": "2022-03-02T14:33:46.251698Z",
     "shell.execute_reply": "2022-03-02T14:33:46.250819Z",
     "shell.execute_reply.started": "2022-03-02T14:33:46.222522Z"
    },
    "papermill": {
     "duration": 0.058542,
     "end_time": "2022-03-08T11:22:10.894142",
     "exception": false,
     "start_time": "2022-03-08T11:22:10.835600",
     "status": "completed"
    },
    "tags": []
   },
   "source": [
    "# **Bacteria Prediction**"
   ]
  },
  {
   "cell_type": "markdown",
   "id": "c0c9a198",
   "metadata": {
    "papermill": {
     "duration": 0.056338,
     "end_time": "2022-03-08T11:22:11.009524",
     "exception": false,
     "start_time": "2022-03-08T11:22:10.953186",
     "status": "completed"
    },
    "tags": []
   },
   "source": [
    "## **Data Loading**"
   ]
  },
  {
   "cell_type": "code",
   "execution_count": 1,
   "id": "68b8142a",
   "metadata": {
    "execution": {
     "iopub.execute_input": "2022-03-08T11:22:11.133720Z",
     "iopub.status.busy": "2022-03-08T11:22:11.133050Z",
     "iopub.status.idle": "2022-03-08T11:22:11.136942Z",
     "shell.execute_reply": "2022-03-08T11:22:11.136219Z",
     "shell.execute_reply.started": "2022-03-08T11:01:05.679075Z"
    },
    "papermill": {
     "duration": 0.070691,
     "end_time": "2022-03-08T11:22:11.137113",
     "exception": false,
     "start_time": "2022-03-08T11:22:11.066422",
     "status": "completed"
    },
    "tags": []
   },
   "outputs": [],
   "source": [
    "import os\n",
    "import numpy as np\n",
    "import pandas as pd\n",
    "\n",
    "# Global variables\n",
    "random_seed = 42"
   ]
  },
  {
   "cell_type": "code",
   "execution_count": 2,
   "id": "c2e3315a",
   "metadata": {
    "execution": {
     "iopub.execute_input": "2022-03-08T11:22:11.255165Z",
     "iopub.status.busy": "2022-03-08T11:22:11.254411Z",
     "iopub.status.idle": "2022-03-08T11:22:11.259598Z",
     "shell.execute_reply": "2022-03-08T11:22:11.260086Z",
     "shell.execute_reply.started": "2022-03-08T11:01:05.686464Z"
    },
    "papermill": {
     "duration": 0.066486,
     "end_time": "2022-03-08T11:22:11.260258",
     "exception": false,
     "start_time": "2022-03-08T11:22:11.193772",
     "status": "completed"
    },
    "tags": []
   },
   "outputs": [
    {
     "name": "stdout",
     "output_type": "stream",
     "text": [
      "/kaggle/input/tabular-playground-series-feb-2022/sample_submission.csv\n",
      "/kaggle/input/tabular-playground-series-feb-2022/train.csv\n",
      "/kaggle/input/tabular-playground-series-feb-2022/test.csv\n"
     ]
    }
   ],
   "source": [
    "# Print directory structure\n",
    "for dirname, _, filenames in os.walk('/kaggle/input'):\n",
    "    for filename in filenames:\n",
    "        print(os.path.join(dirname, filename))"
   ]
  },
  {
   "cell_type": "code",
   "execution_count": 3,
   "id": "5fb1f5cf",
   "metadata": {
    "execution": {
     "iopub.execute_input": "2022-03-08T11:22:11.382918Z",
     "iopub.status.busy": "2022-03-08T11:22:11.382086Z",
     "iopub.status.idle": "2022-03-08T11:22:37.915342Z",
     "shell.execute_reply": "2022-03-08T11:22:37.914747Z",
     "shell.execute_reply.started": "2022-03-08T11:01:05.708263Z"
    },
    "papermill": {
     "duration": 26.596091,
     "end_time": "2022-03-08T11:22:37.915488",
     "exception": false,
     "start_time": "2022-03-08T11:22:11.319397",
     "status": "completed"
    },
    "tags": []
   },
   "outputs": [],
   "source": [
    "# Load training set\n",
    "df = pd.read_csv(\"/kaggle/input/tabular-playground-series-feb-2022/train.csv\")"
   ]
  },
  {
   "cell_type": "markdown",
   "id": "486489cf",
   "metadata": {
    "papermill": {
     "duration": 0.060334,
     "end_time": "2022-03-08T11:22:38.033032",
     "exception": false,
     "start_time": "2022-03-08T11:22:37.972698",
     "status": "completed"
    },
    "tags": []
   },
   "source": [
    "## **Data Analysis**"
   ]
  },
  {
   "cell_type": "code",
   "execution_count": 4,
   "id": "08360ddf",
   "metadata": {
    "execution": {
     "iopub.execute_input": "2022-03-08T11:22:38.155412Z",
     "iopub.status.busy": "2022-03-08T11:22:38.154726Z",
     "iopub.status.idle": "2022-03-08T11:22:38.158210Z",
     "shell.execute_reply": "2022-03-08T11:22:38.158725Z",
     "shell.execute_reply.started": "2022-03-08T11:01:18.295128Z"
    },
    "papermill": {
     "duration": 0.067903,
     "end_time": "2022-03-08T11:22:38.158897",
     "exception": false,
     "start_time": "2022-03-08T11:22:38.090994",
     "status": "completed"
    },
    "tags": []
   },
   "outputs": [
    {
     "data": {
      "text/plain": [
       "(200000, 288)"
      ]
     },
     "execution_count": 4,
     "metadata": {},
     "output_type": "execute_result"
    }
   ],
   "source": [
    "df.shape"
   ]
  },
  {
   "cell_type": "code",
   "execution_count": 5,
   "id": "d9ada6d8",
   "metadata": {
    "execution": {
     "iopub.execute_input": "2022-03-08T11:22:38.277867Z",
     "iopub.status.busy": "2022-03-08T11:22:38.277179Z",
     "iopub.status.idle": "2022-03-08T11:22:38.314164Z",
     "shell.execute_reply": "2022-03-08T11:22:38.313602Z",
     "shell.execute_reply.started": "2022-03-08T11:01:18.303146Z"
    },
    "papermill": {
     "duration": 0.09745,
     "end_time": "2022-03-08T11:22:38.314303",
     "exception": false,
     "start_time": "2022-03-08T11:22:38.216853",
     "status": "completed"
    },
    "tags": []
   },
   "outputs": [
    {
     "data": {
      "text/html": [
       "<div>\n",
       "<style scoped>\n",
       "    .dataframe tbody tr th:only-of-type {\n",
       "        vertical-align: middle;\n",
       "    }\n",
       "\n",
       "    .dataframe tbody tr th {\n",
       "        vertical-align: top;\n",
       "    }\n",
       "\n",
       "    .dataframe thead th {\n",
       "        text-align: right;\n",
       "    }\n",
       "</style>\n",
       "<table border=\"1\" class=\"dataframe\">\n",
       "  <thead>\n",
       "    <tr style=\"text-align: right;\">\n",
       "      <th></th>\n",
       "      <th>row_id</th>\n",
       "      <th>A0T0G0C10</th>\n",
       "      <th>A0T0G1C9</th>\n",
       "      <th>A0T0G2C8</th>\n",
       "      <th>A0T0G3C7</th>\n",
       "      <th>A0T0G4C6</th>\n",
       "      <th>A0T0G5C5</th>\n",
       "      <th>A0T0G6C4</th>\n",
       "      <th>A0T0G7C3</th>\n",
       "      <th>A0T0G8C2</th>\n",
       "      <th>...</th>\n",
       "      <th>A8T0G1C1</th>\n",
       "      <th>A8T0G2C0</th>\n",
       "      <th>A8T1G0C1</th>\n",
       "      <th>A8T1G1C0</th>\n",
       "      <th>A8T2G0C0</th>\n",
       "      <th>A9T0G0C1</th>\n",
       "      <th>A9T0G1C0</th>\n",
       "      <th>A9T1G0C0</th>\n",
       "      <th>A10T0G0C0</th>\n",
       "      <th>target</th>\n",
       "    </tr>\n",
       "  </thead>\n",
       "  <tbody>\n",
       "    <tr>\n",
       "      <th>0</th>\n",
       "      <td>0</td>\n",
       "      <td>-9.536743e-07</td>\n",
       "      <td>-0.000010</td>\n",
       "      <td>-0.000043</td>\n",
       "      <td>-0.000114</td>\n",
       "      <td>-0.000200</td>\n",
       "      <td>-0.000240</td>\n",
       "      <td>-0.000200</td>\n",
       "      <td>-0.000114</td>\n",
       "      <td>-0.000043</td>\n",
       "      <td>...</td>\n",
       "      <td>-0.000086</td>\n",
       "      <td>-0.000043</td>\n",
       "      <td>-0.000086</td>\n",
       "      <td>-0.000086</td>\n",
       "      <td>-0.000043</td>\n",
       "      <td>-0.000010</td>\n",
       "      <td>-0.000010</td>\n",
       "      <td>-0.000010</td>\n",
       "      <td>-9.536743e-07</td>\n",
       "      <td>Streptococcus_pyogenes</td>\n",
       "    </tr>\n",
       "    <tr>\n",
       "      <th>1</th>\n",
       "      <td>1</td>\n",
       "      <td>-9.536743e-07</td>\n",
       "      <td>-0.000010</td>\n",
       "      <td>-0.000043</td>\n",
       "      <td>0.000886</td>\n",
       "      <td>-0.000200</td>\n",
       "      <td>0.000760</td>\n",
       "      <td>-0.000200</td>\n",
       "      <td>-0.000114</td>\n",
       "      <td>-0.000043</td>\n",
       "      <td>...</td>\n",
       "      <td>-0.000086</td>\n",
       "      <td>-0.000043</td>\n",
       "      <td>0.000914</td>\n",
       "      <td>0.000914</td>\n",
       "      <td>-0.000043</td>\n",
       "      <td>-0.000010</td>\n",
       "      <td>-0.000010</td>\n",
       "      <td>-0.000010</td>\n",
       "      <td>-9.536743e-07</td>\n",
       "      <td>Salmonella_enterica</td>\n",
       "    </tr>\n",
       "    <tr>\n",
       "      <th>2</th>\n",
       "      <td>2</td>\n",
       "      <td>-9.536743e-07</td>\n",
       "      <td>-0.000002</td>\n",
       "      <td>0.000007</td>\n",
       "      <td>0.000129</td>\n",
       "      <td>0.000268</td>\n",
       "      <td>0.000270</td>\n",
       "      <td>0.000243</td>\n",
       "      <td>0.000125</td>\n",
       "      <td>0.000001</td>\n",
       "      <td>...</td>\n",
       "      <td>0.000084</td>\n",
       "      <td>0.000048</td>\n",
       "      <td>0.000081</td>\n",
       "      <td>0.000106</td>\n",
       "      <td>0.000072</td>\n",
       "      <td>0.000010</td>\n",
       "      <td>0.000008</td>\n",
       "      <td>0.000019</td>\n",
       "      <td>1.046326e-06</td>\n",
       "      <td>Salmonella_enterica</td>\n",
       "    </tr>\n",
       "    <tr>\n",
       "      <th>3</th>\n",
       "      <td>3</td>\n",
       "      <td>4.632568e-08</td>\n",
       "      <td>-0.000006</td>\n",
       "      <td>0.000012</td>\n",
       "      <td>0.000245</td>\n",
       "      <td>0.000492</td>\n",
       "      <td>0.000522</td>\n",
       "      <td>0.000396</td>\n",
       "      <td>0.000197</td>\n",
       "      <td>-0.000003</td>\n",
       "      <td>...</td>\n",
       "      <td>0.000151</td>\n",
       "      <td>0.000100</td>\n",
       "      <td>0.000180</td>\n",
       "      <td>0.000202</td>\n",
       "      <td>0.000153</td>\n",
       "      <td>0.000021</td>\n",
       "      <td>0.000015</td>\n",
       "      <td>0.000046</td>\n",
       "      <td>-9.536743e-07</td>\n",
       "      <td>Salmonella_enterica</td>\n",
       "    </tr>\n",
       "    <tr>\n",
       "      <th>4</th>\n",
       "      <td>4</td>\n",
       "      <td>-9.536743e-07</td>\n",
       "      <td>-0.000010</td>\n",
       "      <td>-0.000043</td>\n",
       "      <td>-0.000114</td>\n",
       "      <td>-0.000200</td>\n",
       "      <td>-0.000240</td>\n",
       "      <td>-0.000200</td>\n",
       "      <td>-0.000114</td>\n",
       "      <td>-0.000043</td>\n",
       "      <td>...</td>\n",
       "      <td>-0.000086</td>\n",
       "      <td>-0.000043</td>\n",
       "      <td>-0.000086</td>\n",
       "      <td>-0.000086</td>\n",
       "      <td>-0.000043</td>\n",
       "      <td>-0.000010</td>\n",
       "      <td>-0.000010</td>\n",
       "      <td>-0.000010</td>\n",
       "      <td>-9.536743e-07</td>\n",
       "      <td>Enterococcus_hirae</td>\n",
       "    </tr>\n",
       "  </tbody>\n",
       "</table>\n",
       "<p>5 rows × 288 columns</p>\n",
       "</div>"
      ],
      "text/plain": [
       "   row_id     A0T0G0C10  A0T0G1C9  A0T0G2C8  A0T0G3C7  A0T0G4C6  A0T0G5C5  \\\n",
       "0       0 -9.536743e-07 -0.000010 -0.000043 -0.000114 -0.000200 -0.000240   \n",
       "1       1 -9.536743e-07 -0.000010 -0.000043  0.000886 -0.000200  0.000760   \n",
       "2       2 -9.536743e-07 -0.000002  0.000007  0.000129  0.000268  0.000270   \n",
       "3       3  4.632568e-08 -0.000006  0.000012  0.000245  0.000492  0.000522   \n",
       "4       4 -9.536743e-07 -0.000010 -0.000043 -0.000114 -0.000200 -0.000240   \n",
       "\n",
       "   A0T0G6C4  A0T0G7C3  A0T0G8C2  ...  A8T0G1C1  A8T0G2C0  A8T1G0C1  A8T1G1C0  \\\n",
       "0 -0.000200 -0.000114 -0.000043  ... -0.000086 -0.000043 -0.000086 -0.000086   \n",
       "1 -0.000200 -0.000114 -0.000043  ... -0.000086 -0.000043  0.000914  0.000914   \n",
       "2  0.000243  0.000125  0.000001  ...  0.000084  0.000048  0.000081  0.000106   \n",
       "3  0.000396  0.000197 -0.000003  ...  0.000151  0.000100  0.000180  0.000202   \n",
       "4 -0.000200 -0.000114 -0.000043  ... -0.000086 -0.000043 -0.000086 -0.000086   \n",
       "\n",
       "   A8T2G0C0  A9T0G0C1  A9T0G1C0  A9T1G0C0     A10T0G0C0  \\\n",
       "0 -0.000043 -0.000010 -0.000010 -0.000010 -9.536743e-07   \n",
       "1 -0.000043 -0.000010 -0.000010 -0.000010 -9.536743e-07   \n",
       "2  0.000072  0.000010  0.000008  0.000019  1.046326e-06   \n",
       "3  0.000153  0.000021  0.000015  0.000046 -9.536743e-07   \n",
       "4 -0.000043 -0.000010 -0.000010 -0.000010 -9.536743e-07   \n",
       "\n",
       "                   target  \n",
       "0  Streptococcus_pyogenes  \n",
       "1     Salmonella_enterica  \n",
       "2     Salmonella_enterica  \n",
       "3     Salmonella_enterica  \n",
       "4      Enterococcus_hirae  \n",
       "\n",
       "[5 rows x 288 columns]"
      ]
     },
     "execution_count": 5,
     "metadata": {},
     "output_type": "execute_result"
    }
   ],
   "source": [
    "df.head()"
   ]
  },
  {
   "cell_type": "code",
   "execution_count": 6,
   "id": "f74240aa",
   "metadata": {
    "execution": {
     "iopub.execute_input": "2022-03-08T11:22:38.437549Z",
     "iopub.status.busy": "2022-03-08T11:22:38.436631Z",
     "iopub.status.idle": "2022-03-08T11:22:38.443605Z",
     "shell.execute_reply": "2022-03-08T11:22:38.444251Z",
     "shell.execute_reply.started": "2022-03-08T11:01:18.338058Z"
    },
    "papermill": {
     "duration": 0.070016,
     "end_time": "2022-03-08T11:22:38.444428",
     "exception": false,
     "start_time": "2022-03-08T11:22:38.374412",
     "status": "completed"
    },
    "tags": []
   },
   "outputs": [
    {
     "data": {
      "text/plain": [
       "row_id         int64\n",
       "A0T0G0C10    float64\n",
       "A0T0G1C9     float64\n",
       "A0T0G2C8     float64\n",
       "A0T0G3C7     float64\n",
       "              ...   \n",
       "A9T0G0C1     float64\n",
       "A9T0G1C0     float64\n",
       "A9T1G0C0     float64\n",
       "A10T0G0C0    float64\n",
       "target        object\n",
       "Length: 288, dtype: object"
      ]
     },
     "execution_count": 6,
     "metadata": {},
     "output_type": "execute_result"
    }
   ],
   "source": [
    "df.dtypes"
   ]
  },
  {
   "cell_type": "code",
   "execution_count": 7,
   "id": "3f641d13",
   "metadata": {
    "execution": {
     "iopub.execute_input": "2022-03-08T11:22:38.570530Z",
     "iopub.status.busy": "2022-03-08T11:22:38.569809Z",
     "iopub.status.idle": "2022-03-08T11:22:38.738169Z",
     "shell.execute_reply": "2022-03-08T11:22:38.738667Z",
     "shell.execute_reply.started": "2022-03-08T11:01:18.345746Z"
    },
    "papermill": {
     "duration": 0.235863,
     "end_time": "2022-03-08T11:22:38.738832",
     "exception": false,
     "start_time": "2022-03-08T11:22:38.502969",
     "status": "completed"
    },
    "tags": []
   },
   "outputs": [
    {
     "data": {
      "text/plain": [
       "(200000, 287)"
      ]
     },
     "execution_count": 7,
     "metadata": {},
     "output_type": "execute_result"
    }
   ],
   "source": [
    "# We drop the row_id column because we will not use it\n",
    "df.drop(columns=[\"row_id\"], inplace=True)\n",
    "df.shape"
   ]
  },
  {
   "cell_type": "code",
   "execution_count": 8,
   "id": "2b39a856",
   "metadata": {
    "execution": {
     "iopub.execute_input": "2022-03-08T11:22:38.866222Z",
     "iopub.status.busy": "2022-03-08T11:22:38.865497Z",
     "iopub.status.idle": "2022-03-08T11:22:39.014341Z",
     "shell.execute_reply": "2022-03-08T11:22:39.013708Z",
     "shell.execute_reply.started": "2022-03-08T11:01:18.497939Z"
    },
    "papermill": {
     "duration": 0.213489,
     "end_time": "2022-03-08T11:22:39.014502",
     "exception": false,
     "start_time": "2022-03-08T11:22:38.801013",
     "status": "completed"
    },
    "tags": []
   },
   "outputs": [
    {
     "data": {
      "text/plain": [
       "False"
      ]
     },
     "execution_count": 8,
     "metadata": {},
     "output_type": "execute_result"
    }
   ],
   "source": [
    "# Check the presence of null values\n",
    "df.isnull().values.any()"
   ]
  },
  {
   "cell_type": "code",
   "execution_count": 9,
   "id": "91455b9e",
   "metadata": {
    "execution": {
     "iopub.execute_input": "2022-03-08T11:22:39.140272Z",
     "iopub.status.busy": "2022-03-08T11:22:39.139609Z",
     "iopub.status.idle": "2022-03-08T11:22:39.320002Z",
     "shell.execute_reply": "2022-03-08T11:22:39.320523Z",
     "shell.execute_reply.started": "2022-03-08T11:01:18.650322Z"
    },
    "papermill": {
     "duration": 0.244523,
     "end_time": "2022-03-08T11:22:39.320734",
     "exception": false,
     "start_time": "2022-03-08T11:22:39.076211",
     "status": "completed"
    },
    "tags": []
   },
   "outputs": [
    {
     "data": {
      "text/plain": [
       "True"
      ]
     },
     "execution_count": 9,
     "metadata": {},
     "output_type": "execute_result"
    }
   ],
   "source": [
    "# Check that all the values in the dataframe are not equal to zero\n",
    "df.all().all()"
   ]
  },
  {
   "cell_type": "markdown",
   "id": "5ea5c275",
   "metadata": {
    "papermill": {
     "duration": 0.060388,
     "end_time": "2022-03-08T11:22:39.443154",
     "exception": false,
     "start_time": "2022-03-08T11:22:39.382766",
     "status": "completed"
    },
    "tags": []
   },
   "source": [
    "As we have seen, in the dataframe there aren't null or 0 values."
   ]
  },
  {
   "cell_type": "code",
   "execution_count": 10,
   "id": "6517182e",
   "metadata": {
    "execution": {
     "iopub.execute_input": "2022-03-08T11:22:39.740370Z",
     "iopub.status.busy": "2022-03-08T11:22:39.739696Z",
     "iopub.status.idle": "2022-03-08T11:22:42.707386Z",
     "shell.execute_reply": "2022-03-08T11:22:42.706753Z",
     "shell.execute_reply.started": "2022-03-08T11:01:18.807428Z"
    },
    "papermill": {
     "duration": 3.204291,
     "end_time": "2022-03-08T11:22:42.707534",
     "exception": false,
     "start_time": "2022-03-08T11:22:39.503243",
     "status": "completed"
    },
    "tags": []
   },
   "outputs": [
    {
     "data": {
      "text/html": [
       "<div>\n",
       "<style scoped>\n",
       "    .dataframe tbody tr th:only-of-type {\n",
       "        vertical-align: middle;\n",
       "    }\n",
       "\n",
       "    .dataframe tbody tr th {\n",
       "        vertical-align: top;\n",
       "    }\n",
       "\n",
       "    .dataframe thead th {\n",
       "        text-align: right;\n",
       "    }\n",
       "</style>\n",
       "<table border=\"1\" class=\"dataframe\">\n",
       "  <thead>\n",
       "    <tr style=\"text-align: right;\">\n",
       "      <th></th>\n",
       "      <th>A0T0G0C10</th>\n",
       "      <th>A0T0G1C9</th>\n",
       "      <th>A0T0G2C8</th>\n",
       "      <th>A0T0G3C7</th>\n",
       "      <th>A0T0G4C6</th>\n",
       "      <th>A0T0G5C5</th>\n",
       "      <th>A0T0G6C4</th>\n",
       "      <th>A0T0G7C3</th>\n",
       "      <th>A0T0G8C2</th>\n",
       "      <th>A0T0G9C1</th>\n",
       "      <th>...</th>\n",
       "      <th>A8T0G0C2</th>\n",
       "      <th>A8T0G1C1</th>\n",
       "      <th>A8T0G2C0</th>\n",
       "      <th>A8T1G0C1</th>\n",
       "      <th>A8T1G1C0</th>\n",
       "      <th>A8T2G0C0</th>\n",
       "      <th>A9T0G0C1</th>\n",
       "      <th>A9T0G1C0</th>\n",
       "      <th>A9T1G0C0</th>\n",
       "      <th>A10T0G0C0</th>\n",
       "    </tr>\n",
       "  </thead>\n",
       "  <tbody>\n",
       "    <tr>\n",
       "      <th>count</th>\n",
       "      <td>2.000000e+05</td>\n",
       "      <td>200000.000000</td>\n",
       "      <td>200000.000000</td>\n",
       "      <td>200000.000000</td>\n",
       "      <td>200000.000000</td>\n",
       "      <td>200000.000000</td>\n",
       "      <td>200000.000000</td>\n",
       "      <td>200000.000000</td>\n",
       "      <td>200000.000000</td>\n",
       "      <td>200000.000000</td>\n",
       "      <td>...</td>\n",
       "      <td>200000.000000</td>\n",
       "      <td>200000.000000</td>\n",
       "      <td>200000.000000</td>\n",
       "      <td>200000.000000</td>\n",
       "      <td>200000.000000</td>\n",
       "      <td>200000.000000</td>\n",
       "      <td>200000.000000</td>\n",
       "      <td>2.000000e+05</td>\n",
       "      <td>2.000000e+05</td>\n",
       "      <td>2.000000e+05</td>\n",
       "    </tr>\n",
       "    <tr>\n",
       "      <th>mean</th>\n",
       "      <td>6.421457e-07</td>\n",
       "      <td>-0.000003</td>\n",
       "      <td>-0.000014</td>\n",
       "      <td>-0.000010</td>\n",
       "      <td>0.000005</td>\n",
       "      <td>0.000025</td>\n",
       "      <td>0.000014</td>\n",
       "      <td>-0.000009</td>\n",
       "      <td>-0.000028</td>\n",
       "      <td>-0.000008</td>\n",
       "      <td>...</td>\n",
       "      <td>0.000135</td>\n",
       "      <td>0.000348</td>\n",
       "      <td>0.000253</td>\n",
       "      <td>0.000464</td>\n",
       "      <td>0.000581</td>\n",
       "      <td>0.000379</td>\n",
       "      <td>0.000062</td>\n",
       "      <td>8.982134e-05</td>\n",
       "      <td>1.170014e-04</td>\n",
       "      <td>2.215407e-07</td>\n",
       "    </tr>\n",
       "    <tr>\n",
       "      <th>std</th>\n",
       "      <td>8.654927e-05</td>\n",
       "      <td>0.000132</td>\n",
       "      <td>0.000287</td>\n",
       "      <td>0.000436</td>\n",
       "      <td>0.000683</td>\n",
       "      <td>0.000869</td>\n",
       "      <td>0.000775</td>\n",
       "      <td>0.000441</td>\n",
       "      <td>0.000107</td>\n",
       "      <td>0.000083</td>\n",
       "      <td>...</td>\n",
       "      <td>0.000711</td>\n",
       "      <td>0.001117</td>\n",
       "      <td>0.000914</td>\n",
       "      <td>0.001238</td>\n",
       "      <td>0.001528</td>\n",
       "      <td>0.001182</td>\n",
       "      <td>0.000466</td>\n",
       "      <td>5.475606e-04</td>\n",
       "      <td>6.788277e-04</td>\n",
       "      <td>2.050081e-05</td>\n",
       "    </tr>\n",
       "    <tr>\n",
       "      <th>min</th>\n",
       "      <td>-9.536743e-07</td>\n",
       "      <td>-0.000010</td>\n",
       "      <td>-0.000043</td>\n",
       "      <td>-0.000114</td>\n",
       "      <td>-0.000200</td>\n",
       "      <td>-0.000240</td>\n",
       "      <td>-0.000200</td>\n",
       "      <td>-0.000114</td>\n",
       "      <td>-0.000043</td>\n",
       "      <td>-0.000010</td>\n",
       "      <td>...</td>\n",
       "      <td>-0.000043</td>\n",
       "      <td>-0.000086</td>\n",
       "      <td>-0.000043</td>\n",
       "      <td>-0.000086</td>\n",
       "      <td>-0.000086</td>\n",
       "      <td>-0.000043</td>\n",
       "      <td>-0.000010</td>\n",
       "      <td>-9.536743e-06</td>\n",
       "      <td>-9.536743e-06</td>\n",
       "      <td>-9.536743e-07</td>\n",
       "    </tr>\n",
       "    <tr>\n",
       "      <th>25%</th>\n",
       "      <td>-9.536743e-07</td>\n",
       "      <td>-0.000010</td>\n",
       "      <td>-0.000043</td>\n",
       "      <td>-0.000114</td>\n",
       "      <td>-0.000200</td>\n",
       "      <td>-0.000240</td>\n",
       "      <td>-0.000200</td>\n",
       "      <td>-0.000114</td>\n",
       "      <td>-0.000043</td>\n",
       "      <td>-0.000010</td>\n",
       "      <td>...</td>\n",
       "      <td>-0.000043</td>\n",
       "      <td>-0.000086</td>\n",
       "      <td>-0.000043</td>\n",
       "      <td>-0.000086</td>\n",
       "      <td>-0.000086</td>\n",
       "      <td>-0.000043</td>\n",
       "      <td>-0.000010</td>\n",
       "      <td>-9.536743e-06</td>\n",
       "      <td>-9.536743e-06</td>\n",
       "      <td>-9.536743e-07</td>\n",
       "    </tr>\n",
       "    <tr>\n",
       "      <th>50%</th>\n",
       "      <td>-9.536743e-07</td>\n",
       "      <td>-0.000010</td>\n",
       "      <td>-0.000043</td>\n",
       "      <td>-0.000114</td>\n",
       "      <td>-0.000200</td>\n",
       "      <td>-0.000237</td>\n",
       "      <td>-0.000199</td>\n",
       "      <td>-0.000114</td>\n",
       "      <td>-0.000043</td>\n",
       "      <td>-0.000010</td>\n",
       "      <td>...</td>\n",
       "      <td>0.000014</td>\n",
       "      <td>0.000064</td>\n",
       "      <td>0.000047</td>\n",
       "      <td>0.000124</td>\n",
       "      <td>0.000114</td>\n",
       "      <td>0.000043</td>\n",
       "      <td>-0.000010</td>\n",
       "      <td>4.632568e-07</td>\n",
       "      <td>4.632568e-07</td>\n",
       "      <td>-9.536743e-07</td>\n",
       "    </tr>\n",
       "    <tr>\n",
       "      <th>75%</th>\n",
       "      <td>-9.536743e-07</td>\n",
       "      <td>-0.000003</td>\n",
       "      <td>-0.000013</td>\n",
       "      <td>-0.000004</td>\n",
       "      <td>-0.000011</td>\n",
       "      <td>0.000003</td>\n",
       "      <td>-0.000030</td>\n",
       "      <td>0.000004</td>\n",
       "      <td>-0.000028</td>\n",
       "      <td>-0.000010</td>\n",
       "      <td>...</td>\n",
       "      <td>0.000111</td>\n",
       "      <td>0.000463</td>\n",
       "      <td>0.000297</td>\n",
       "      <td>0.000684</td>\n",
       "      <td>0.000774</td>\n",
       "      <td>0.000365</td>\n",
       "      <td>0.000030</td>\n",
       "      <td>6.046326e-05</td>\n",
       "      <td>6.946326e-05</td>\n",
       "      <td>-9.536743e-07</td>\n",
       "    </tr>\n",
       "    <tr>\n",
       "      <th>max</th>\n",
       "      <td>9.999046e-03</td>\n",
       "      <td>0.009990</td>\n",
       "      <td>0.009957</td>\n",
       "      <td>0.009886</td>\n",
       "      <td>0.019800</td>\n",
       "      <td>0.019760</td>\n",
       "      <td>0.019800</td>\n",
       "      <td>0.009886</td>\n",
       "      <td>0.009957</td>\n",
       "      <td>0.009990</td>\n",
       "      <td>...</td>\n",
       "      <td>0.019957</td>\n",
       "      <td>0.019914</td>\n",
       "      <td>0.019957</td>\n",
       "      <td>0.019914</td>\n",
       "      <td>0.019914</td>\n",
       "      <td>0.019957</td>\n",
       "      <td>0.009990</td>\n",
       "      <td>9.990463e-03</td>\n",
       "      <td>1.999046e-02</td>\n",
       "      <td>9.990463e-04</td>\n",
       "    </tr>\n",
       "  </tbody>\n",
       "</table>\n",
       "<p>8 rows × 286 columns</p>\n",
       "</div>"
      ],
      "text/plain": [
       "          A0T0G0C10       A0T0G1C9       A0T0G2C8       A0T0G3C7  \\\n",
       "count  2.000000e+05  200000.000000  200000.000000  200000.000000   \n",
       "mean   6.421457e-07      -0.000003      -0.000014      -0.000010   \n",
       "std    8.654927e-05       0.000132       0.000287       0.000436   \n",
       "min   -9.536743e-07      -0.000010      -0.000043      -0.000114   \n",
       "25%   -9.536743e-07      -0.000010      -0.000043      -0.000114   \n",
       "50%   -9.536743e-07      -0.000010      -0.000043      -0.000114   \n",
       "75%   -9.536743e-07      -0.000003      -0.000013      -0.000004   \n",
       "max    9.999046e-03       0.009990       0.009957       0.009886   \n",
       "\n",
       "            A0T0G4C6       A0T0G5C5       A0T0G6C4       A0T0G7C3  \\\n",
       "count  200000.000000  200000.000000  200000.000000  200000.000000   \n",
       "mean        0.000005       0.000025       0.000014      -0.000009   \n",
       "std         0.000683       0.000869       0.000775       0.000441   \n",
       "min        -0.000200      -0.000240      -0.000200      -0.000114   \n",
       "25%        -0.000200      -0.000240      -0.000200      -0.000114   \n",
       "50%        -0.000200      -0.000237      -0.000199      -0.000114   \n",
       "75%        -0.000011       0.000003      -0.000030       0.000004   \n",
       "max         0.019800       0.019760       0.019800       0.009886   \n",
       "\n",
       "            A0T0G8C2       A0T0G9C1  ...       A8T0G0C2       A8T0G1C1  \\\n",
       "count  200000.000000  200000.000000  ...  200000.000000  200000.000000   \n",
       "mean       -0.000028      -0.000008  ...       0.000135       0.000348   \n",
       "std         0.000107       0.000083  ...       0.000711       0.001117   \n",
       "min        -0.000043      -0.000010  ...      -0.000043      -0.000086   \n",
       "25%        -0.000043      -0.000010  ...      -0.000043      -0.000086   \n",
       "50%        -0.000043      -0.000010  ...       0.000014       0.000064   \n",
       "75%        -0.000028      -0.000010  ...       0.000111       0.000463   \n",
       "max         0.009957       0.009990  ...       0.019957       0.019914   \n",
       "\n",
       "            A8T0G2C0       A8T1G0C1       A8T1G1C0       A8T2G0C0  \\\n",
       "count  200000.000000  200000.000000  200000.000000  200000.000000   \n",
       "mean        0.000253       0.000464       0.000581       0.000379   \n",
       "std         0.000914       0.001238       0.001528       0.001182   \n",
       "min        -0.000043      -0.000086      -0.000086      -0.000043   \n",
       "25%        -0.000043      -0.000086      -0.000086      -0.000043   \n",
       "50%         0.000047       0.000124       0.000114       0.000043   \n",
       "75%         0.000297       0.000684       0.000774       0.000365   \n",
       "max         0.019957       0.019914       0.019914       0.019957   \n",
       "\n",
       "            A9T0G0C1      A9T0G1C0      A9T1G0C0     A10T0G0C0  \n",
       "count  200000.000000  2.000000e+05  2.000000e+05  2.000000e+05  \n",
       "mean        0.000062  8.982134e-05  1.170014e-04  2.215407e-07  \n",
       "std         0.000466  5.475606e-04  6.788277e-04  2.050081e-05  \n",
       "min        -0.000010 -9.536743e-06 -9.536743e-06 -9.536743e-07  \n",
       "25%        -0.000010 -9.536743e-06 -9.536743e-06 -9.536743e-07  \n",
       "50%        -0.000010  4.632568e-07  4.632568e-07 -9.536743e-07  \n",
       "75%         0.000030  6.046326e-05  6.946326e-05 -9.536743e-07  \n",
       "max         0.009990  9.990463e-03  1.999046e-02  9.990463e-04  \n",
       "\n",
       "[8 rows x 286 columns]"
      ]
     },
     "execution_count": 10,
     "metadata": {},
     "output_type": "execute_result"
    }
   ],
   "source": [
    "df.describe()"
   ]
  },
  {
   "cell_type": "code",
   "execution_count": 11,
   "id": "255c2b65",
   "metadata": {
    "execution": {
     "iopub.execute_input": "2022-03-08T11:22:42.870011Z",
     "iopub.status.busy": "2022-03-08T11:22:42.869212Z",
     "iopub.status.idle": "2022-03-08T11:22:43.176871Z",
     "shell.execute_reply": "2022-03-08T11:22:43.176342Z",
     "shell.execute_reply.started": "2022-03-08T11:01:21.794595Z"
    },
    "papermill": {
     "duration": 0.408489,
     "end_time": "2022-03-08T11:22:43.177015",
     "exception": false,
     "start_time": "2022-03-08T11:22:42.768526",
     "status": "completed"
    },
    "tags": []
   },
   "outputs": [
    {
     "data": {
      "image/png": "[encoded data removed]",
      "text/plain": [
       "<Figure size 432x288 with 1 Axes>"
      ]
     },
     "metadata": {
      "needs_background": "light"
     },
     "output_type": "display_data"
    }
   ],
   "source": [
    "# Plot the distribution of values for the target column\n",
    "df[\"target\"].value_counts().plot(kind=\"bar\");"
   ]
  },
  {
   "cell_type": "markdown",
   "id": "505e94c7",
   "metadata": {
    "papermill": {
     "duration": 0.062648,
     "end_time": "2022-03-08T11:22:43.302407",
     "exception": false,
     "start_time": "2022-03-08T11:22:43.239759",
     "status": "completed"
    },
    "tags": []
   },
   "source": [
    "As we can see, the different classes in the dataset are balanced."
   ]
  },
  {
   "cell_type": "markdown",
   "id": "dc508a1c",
   "metadata": {
    "papermill": {
     "duration": 0.061721,
     "end_time": "2022-03-08T11:22:43.426009",
     "exception": false,
     "start_time": "2022-03-08T11:22:43.364288",
     "status": "completed"
    },
    "tags": []
   },
   "source": [
    "## **Target Labels Encoding**"
   ]
  },
  {
   "cell_type": "code",
   "execution_count": 12,
   "id": "33d9068e",
   "metadata": {
    "execution": {
     "iopub.execute_input": "2022-03-08T11:22:43.555906Z",
     "iopub.status.busy": "2022-03-08T11:22:43.555214Z",
     "iopub.status.idle": "2022-03-08T11:22:44.607504Z",
     "shell.execute_reply": "2022-03-08T11:22:44.606483Z",
     "shell.execute_reply.started": "2022-03-08T11:01:22.050176Z"
    },
    "papermill": {
     "duration": 1.119218,
     "end_time": "2022-03-08T11:22:44.607691",
     "exception": false,
     "start_time": "2022-03-08T11:22:43.488473",
     "status": "completed"
    },
    "tags": []
   },
   "outputs": [],
   "source": [
    "from sklearn.preprocessing import LabelEncoder"
   ]
  },
  {
   "cell_type": "code",
   "execution_count": 13,
   "id": "6cc4b683",
   "metadata": {
    "execution": {
     "iopub.execute_input": "2022-03-08T11:22:44.739049Z",
     "iopub.status.busy": "2022-03-08T11:22:44.737794Z",
     "iopub.status.idle": "2022-03-08T11:22:44.821477Z",
     "shell.execute_reply": "2022-03-08T11:22:44.822062Z",
     "shell.execute_reply.started": "2022-03-08T11:01:22.058190Z"
    },
    "papermill": {
     "duration": 0.151358,
     "end_time": "2022-03-08T11:22:44.822249",
     "exception": false,
     "start_time": "2022-03-08T11:22:44.670891",
     "status": "completed"
    },
    "tags": []
   },
   "outputs": [
    {
     "data": {
      "text/html": [
       "<div>\n",
       "<style scoped>\n",
       "    .dataframe tbody tr th:only-of-type {\n",
       "        vertical-align: middle;\n",
       "    }\n",
       "\n",
       "    .dataframe tbody tr th {\n",
       "        vertical-align: top;\n",
       "    }\n",
       "\n",
       "    .dataframe thead th {\n",
       "        text-align: right;\n",
       "    }\n",
       "</style>\n",
       "<table border=\"1\" class=\"dataframe\">\n",
       "  <thead>\n",
       "    <tr style=\"text-align: right;\">\n",
       "      <th></th>\n",
       "      <th>A0T0G0C10</th>\n",
       "      <th>A0T0G1C9</th>\n",
       "      <th>A0T0G2C8</th>\n",
       "      <th>A0T0G3C7</th>\n",
       "      <th>A0T0G4C6</th>\n",
       "      <th>A0T0G5C5</th>\n",
       "      <th>A0T0G6C4</th>\n",
       "      <th>A0T0G7C3</th>\n",
       "      <th>A0T0G8C2</th>\n",
       "      <th>A0T0G9C1</th>\n",
       "      <th>...</th>\n",
       "      <th>A8T0G1C1</th>\n",
       "      <th>A8T0G2C0</th>\n",
       "      <th>A8T1G0C1</th>\n",
       "      <th>A8T1G1C0</th>\n",
       "      <th>A8T2G0C0</th>\n",
       "      <th>A9T0G0C1</th>\n",
       "      <th>A9T0G1C0</th>\n",
       "      <th>A9T1G0C0</th>\n",
       "      <th>A10T0G0C0</th>\n",
       "      <th>target</th>\n",
       "    </tr>\n",
       "  </thead>\n",
       "  <tbody>\n",
       "    <tr>\n",
       "      <th>0</th>\n",
       "      <td>-9.536743e-07</td>\n",
       "      <td>-0.000010</td>\n",
       "      <td>-0.000043</td>\n",
       "      <td>-0.000114</td>\n",
       "      <td>-0.000200</td>\n",
       "      <td>-0.000240</td>\n",
       "      <td>-0.000200</td>\n",
       "      <td>-0.000114</td>\n",
       "      <td>-0.000043</td>\n",
       "      <td>-0.000010</td>\n",
       "      <td>...</td>\n",
       "      <td>-0.000086</td>\n",
       "      <td>-0.000043</td>\n",
       "      <td>-0.000086</td>\n",
       "      <td>-0.000086</td>\n",
       "      <td>-0.000043</td>\n",
       "      <td>-0.000010</td>\n",
       "      <td>-0.000010</td>\n",
       "      <td>-0.000010</td>\n",
       "      <td>-9.536743e-07</td>\n",
       "      <td>9</td>\n",
       "    </tr>\n",
       "    <tr>\n",
       "      <th>1</th>\n",
       "      <td>-9.536743e-07</td>\n",
       "      <td>-0.000010</td>\n",
       "      <td>-0.000043</td>\n",
       "      <td>0.000886</td>\n",
       "      <td>-0.000200</td>\n",
       "      <td>0.000760</td>\n",
       "      <td>-0.000200</td>\n",
       "      <td>-0.000114</td>\n",
       "      <td>-0.000043</td>\n",
       "      <td>-0.000010</td>\n",
       "      <td>...</td>\n",
       "      <td>-0.000086</td>\n",
       "      <td>-0.000043</td>\n",
       "      <td>0.000914</td>\n",
       "      <td>0.000914</td>\n",
       "      <td>-0.000043</td>\n",
       "      <td>-0.000010</td>\n",
       "      <td>-0.000010</td>\n",
       "      <td>-0.000010</td>\n",
       "      <td>-9.536743e-07</td>\n",
       "      <td>6</td>\n",
       "    </tr>\n",
       "    <tr>\n",
       "      <th>2</th>\n",
       "      <td>-9.536743e-07</td>\n",
       "      <td>-0.000002</td>\n",
       "      <td>0.000007</td>\n",
       "      <td>0.000129</td>\n",
       "      <td>0.000268</td>\n",
       "      <td>0.000270</td>\n",
       "      <td>0.000243</td>\n",
       "      <td>0.000125</td>\n",
       "      <td>0.000001</td>\n",
       "      <td>-0.000007</td>\n",
       "      <td>...</td>\n",
       "      <td>0.000084</td>\n",
       "      <td>0.000048</td>\n",
       "      <td>0.000081</td>\n",
       "      <td>0.000106</td>\n",
       "      <td>0.000072</td>\n",
       "      <td>0.000010</td>\n",
       "      <td>0.000008</td>\n",
       "      <td>0.000019</td>\n",
       "      <td>1.046326e-06</td>\n",
       "      <td>6</td>\n",
       "    </tr>\n",
       "    <tr>\n",
       "      <th>3</th>\n",
       "      <td>4.632568e-08</td>\n",
       "      <td>-0.000006</td>\n",
       "      <td>0.000012</td>\n",
       "      <td>0.000245</td>\n",
       "      <td>0.000492</td>\n",
       "      <td>0.000522</td>\n",
       "      <td>0.000396</td>\n",
       "      <td>0.000197</td>\n",
       "      <td>-0.000003</td>\n",
       "      <td>-0.000007</td>\n",
       "      <td>...</td>\n",
       "      <td>0.000151</td>\n",
       "      <td>0.000100</td>\n",
       "      <td>0.000180</td>\n",
       "      <td>0.000202</td>\n",
       "      <td>0.000153</td>\n",
       "      <td>0.000021</td>\n",
       "      <td>0.000015</td>\n",
       "      <td>0.000046</td>\n",
       "      <td>-9.536743e-07</td>\n",
       "      <td>6</td>\n",
       "    </tr>\n",
       "    <tr>\n",
       "      <th>4</th>\n",
       "      <td>-9.536743e-07</td>\n",
       "      <td>-0.000010</td>\n",
       "      <td>-0.000043</td>\n",
       "      <td>-0.000114</td>\n",
       "      <td>-0.000200</td>\n",
       "      <td>-0.000240</td>\n",
       "      <td>-0.000200</td>\n",
       "      <td>-0.000114</td>\n",
       "      <td>-0.000043</td>\n",
       "      <td>-0.000010</td>\n",
       "      <td>...</td>\n",
       "      <td>-0.000086</td>\n",
       "      <td>-0.000043</td>\n",
       "      <td>-0.000086</td>\n",
       "      <td>-0.000086</td>\n",
       "      <td>-0.000043</td>\n",
       "      <td>-0.000010</td>\n",
       "      <td>-0.000010</td>\n",
       "      <td>-0.000010</td>\n",
       "      <td>-9.536743e-07</td>\n",
       "      <td>2</td>\n",
       "    </tr>\n",
       "  </tbody>\n",
       "</table>\n",
       "<p>5 rows × 287 columns</p>\n",
       "</div>"
      ],
      "text/plain": [
       "      A0T0G0C10  A0T0G1C9  A0T0G2C8  A0T0G3C7  A0T0G4C6  A0T0G5C5  A0T0G6C4  \\\n",
       "0 -9.536743e-07 -0.000010 -0.000043 -0.000114 -0.000200 -0.000240 -0.000200   \n",
       "1 -9.536743e-07 -0.000010 -0.000043  0.000886 -0.000200  0.000760 -0.000200   \n",
       "2 -9.536743e-07 -0.000002  0.000007  0.000129  0.000268  0.000270  0.000243   \n",
       "3  4.632568e-08 -0.000006  0.000012  0.000245  0.000492  0.000522  0.000396   \n",
       "4 -9.536743e-07 -0.000010 -0.000043 -0.000114 -0.000200 -0.000240 -0.000200   \n",
       "\n",
       "   A0T0G7C3  A0T0G8C2  A0T0G9C1  ...  A8T0G1C1  A8T0G2C0  A8T1G0C1  A8T1G1C0  \\\n",
       "0 -0.000114 -0.000043 -0.000010  ... -0.000086 -0.000043 -0.000086 -0.000086   \n",
       "1 -0.000114 -0.000043 -0.000010  ... -0.000086 -0.000043  0.000914  0.000914   \n",
       "2  0.000125  0.000001 -0.000007  ...  0.000084  0.000048  0.000081  0.000106   \n",
       "3  0.000197 -0.000003 -0.000007  ...  0.000151  0.000100  0.000180  0.000202   \n",
       "4 -0.000114 -0.000043 -0.000010  ... -0.000086 -0.000043 -0.000086 -0.000086   \n",
       "\n",
       "   A8T2G0C0  A9T0G0C1  A9T0G1C0  A9T1G0C0     A10T0G0C0  target  \n",
       "0 -0.000043 -0.000010 -0.000010 -0.000010 -9.536743e-07       9  \n",
       "1 -0.000043 -0.000010 -0.000010 -0.000010 -9.536743e-07       6  \n",
       "2  0.000072  0.000010  0.000008  0.000019  1.046326e-06       6  \n",
       "3  0.000153  0.000021  0.000015  0.000046 -9.536743e-07       6  \n",
       "4 -0.000043 -0.000010 -0.000010 -0.000010 -9.536743e-07       2  \n",
       "\n",
       "[5 rows x 287 columns]"
      ]
     },
     "execution_count": 13,
     "metadata": {},
     "output_type": "execute_result"
    }
   ],
   "source": [
    "# Label encoding of the target.\n",
    "# We will map each of the 10 different target classess to an intger in the range 0-9\n",
    "label_encoder = LabelEncoder()\n",
    "df[\"target\"] = label_encoder.fit(df[\"target\"]).transform(df[\"target\"])\n",
    "df.head()"
   ]
  },
  {
   "cell_type": "markdown",
   "id": "b5560250",
   "metadata": {
    "papermill": {
     "duration": 0.064408,
     "end_time": "2022-03-08T11:22:44.949839",
     "exception": false,
     "start_time": "2022-03-08T11:22:44.885431",
     "status": "completed"
    },
    "tags": []
   },
   "source": [
    "## **Train-Test Split**"
   ]
  },
  {
   "cell_type": "code",
   "execution_count": 14,
   "id": "cd9e2aa9",
   "metadata": {
    "execution": {
     "iopub.execute_input": "2022-03-08T11:22:45.089969Z",
     "iopub.status.busy": "2022-03-08T11:22:45.089215Z",
     "iopub.status.idle": "2022-03-08T11:22:45.155091Z",
     "shell.execute_reply": "2022-03-08T11:22:45.155620Z",
     "shell.execute_reply.started": "2022-03-08T11:01:22.123300Z"
    },
    "papermill": {
     "duration": 0.137475,
     "end_time": "2022-03-08T11:22:45.155812",
     "exception": false,
     "start_time": "2022-03-08T11:22:45.018337",
     "status": "completed"
    },
    "tags": []
   },
   "outputs": [],
   "source": [
    "# Imports\n",
    "from sklearn.model_selection import train_test_split"
   ]
  },
  {
   "cell_type": "code",
   "execution_count": 15,
   "id": "d9cee5b6",
   "metadata": {
    "execution": {
     "iopub.execute_input": "2022-03-08T11:22:45.288103Z",
     "iopub.status.busy": "2022-03-08T11:22:45.287403Z",
     "iopub.status.idle": "2022-03-08T11:22:46.070746Z",
     "shell.execute_reply": "2022-03-08T11:22:46.069993Z",
     "shell.execute_reply.started": "2022-03-08T11:01:22.129063Z"
    },
    "papermill": {
     "duration": 0.852495,
     "end_time": "2022-03-08T11:22:46.070900",
     "exception": false,
     "start_time": "2022-03-08T11:22:45.218405",
     "status": "completed"
    },
    "tags": []
   },
   "outputs": [],
   "source": [
    "X_train, X_test, Y_train, Y_test = train_test_split(df.drop(columns=[\"target\"]), df[\"target\"], test_size=0.33, stratify=df[\"target\"], random_state=random_seed)"
   ]
  },
  {
   "cell_type": "code",
   "execution_count": 16,
   "id": "f164f289",
   "metadata": {
    "execution": {
     "iopub.execute_input": "2022-03-08T11:22:46.203276Z",
     "iopub.status.busy": "2022-03-08T11:22:46.200211Z",
     "iopub.status.idle": "2022-03-08T11:22:46.207064Z",
     "shell.execute_reply": "2022-03-08T11:22:46.206418Z",
     "shell.execute_reply.started": "2022-03-08T11:01:22.812945Z"
    },
    "papermill": {
     "duration": 0.07235,
     "end_time": "2022-03-08T11:22:46.207223",
     "exception": false,
     "start_time": "2022-03-08T11:22:46.134873",
     "status": "completed"
    },
    "tags": []
   },
   "outputs": [
    {
     "name": "stdout",
     "output_type": "stream",
     "text": [
      "X_train shape: (134000, 286)\n",
      "Y_train shape: (134000,)\n",
      "X_test shape: (66000, 286)\n",
      "Y_test shape: (66000,)\n"
     ]
    }
   ],
   "source": [
    "print(f\"X_train shape: {X_train.shape}\")\n",
    "print(f\"Y_train shape: {Y_train.shape}\")\n",
    "print(f\"X_test shape: {X_test.shape}\")\n",
    "print(f\"Y_test shape: {Y_test.shape}\")"
   ]
  },
  {
   "cell_type": "code",
   "execution_count": 17,
   "id": "979ae644",
   "metadata": {
    "execution": {
     "iopub.execute_input": "2022-03-08T11:22:46.338281Z",
     "iopub.status.busy": "2022-03-08T11:22:46.337430Z",
     "iopub.status.idle": "2022-03-08T11:22:46.340381Z",
     "shell.execute_reply": "2022-03-08T11:22:46.339826Z",
     "shell.execute_reply.started": "2022-03-08T11:01:22.819030Z"
    },
    "papermill": {
     "duration": 0.070169,
     "end_time": "2022-03-08T11:22:46.340517",
     "exception": false,
     "start_time": "2022-03-08T11:22:46.270348",
     "status": "completed"
    },
    "tags": []
   },
   "outputs": [],
   "source": [
    "# Further split the training set in training and validation sets\n",
    "#X_train_t, X_train_val, Y_train_t, Y_train_val = train_test_split(X_train, Y_train, test_size=0.20, stratify=Y_train, random_state=random_seed)"
   ]
  },
  {
   "cell_type": "markdown",
   "id": "6a29c8b7",
   "metadata": {
    "papermill": {
     "duration": 0.063685,
     "end_time": "2022-03-08T11:22:46.470296",
     "exception": false,
     "start_time": "2022-03-08T11:22:46.406611",
     "status": "completed"
    },
    "tags": []
   },
   "source": [
    "## **Dimensionality Reduction** "
   ]
  },
  {
   "cell_type": "code",
   "execution_count": 18,
   "id": "047b212d",
   "metadata": {
    "execution": {
     "iopub.execute_input": "2022-03-08T11:22:46.606491Z",
     "iopub.status.busy": "2022-03-08T11:22:46.605825Z",
     "iopub.status.idle": "2022-03-08T11:22:46.793251Z",
     "shell.execute_reply": "2022-03-08T11:22:46.792634Z",
     "shell.execute_reply.started": "2022-03-08T11:01:22.831788Z"
    },
    "papermill": {
     "duration": 0.25884,
     "end_time": "2022-03-08T11:22:46.793602",
     "exception": false,
     "start_time": "2022-03-08T11:22:46.534762",
     "status": "completed"
    },
    "tags": []
   },
   "outputs": [],
   "source": [
    "# Imports for PCA\n",
    "from sklearn.preprocessing import StandardScaler\n",
    "from sklearn.decomposition import PCA\n",
    "\n",
    "# Imports for PCA n_components tuning\n",
    "from sklearn.pipeline import Pipeline\n",
    "from sklearn.tree import DecisionTreeClassifier\n",
    "from sklearn.model_selection import GridSearchCV"
   ]
  },
  {
   "cell_type": "code",
   "execution_count": 19,
   "id": "185073da",
   "metadata": {
    "execution": {
     "iopub.execute_input": "2022-03-08T11:22:46.928411Z",
     "iopub.status.busy": "2022-03-08T11:22:46.927554Z",
     "iopub.status.idle": "2022-03-08T11:22:46.930677Z",
     "shell.execute_reply": "2022-03-08T11:22:46.930110Z",
     "shell.execute_reply.started": "2022-03-08T11:01:22.842813Z"
    },
    "papermill": {
     "duration": 0.073701,
     "end_time": "2022-03-08T11:22:46.930858",
     "exception": false,
     "start_time": "2022-03-08T11:22:46.857157",
     "status": "completed"
    },
    "tags": []
   },
   "outputs": [],
   "source": [
    "st_scaler = StandardScaler()\n",
    "pca = PCA()\n",
    "classifier = DecisionTreeClassifier(criterion=\"entropy\", random_state=random_seed)\n",
    "pipe = Pipeline(steps=[(\"st_scaler\", st_scaler), (\"pca\", pca), (\"classifier\", classifier)])"
   ]
  },
  {
   "cell_type": "code",
   "execution_count": 20,
   "id": "6385686a",
   "metadata": {
    "execution": {
     "iopub.execute_input": "2022-03-08T11:22:47.064603Z",
     "iopub.status.busy": "2022-03-08T11:22:47.063887Z",
     "iopub.status.idle": "2022-03-08T11:22:47.067434Z",
     "shell.execute_reply": "2022-03-08T11:22:47.066770Z",
     "shell.execute_reply.started": "2022-03-08T11:01:22.854869Z"
    },
    "papermill": {
     "duration": 0.072668,
     "end_time": "2022-03-08T11:22:47.067577",
     "exception": false,
     "start_time": "2022-03-08T11:22:46.994909",
     "status": "completed"
    },
    "tags": []
   },
   "outputs": [],
   "source": [
    "param_grid = {\n",
    "    \"pca__n_components\": [3, 10, 20, 50]\n",
    "}"
   ]
  },
  {
   "cell_type": "code",
   "execution_count": 21,
   "id": "35623b0b",
   "metadata": {
    "execution": {
     "iopub.execute_input": "2022-03-08T11:22:47.199829Z",
     "iopub.status.busy": "2022-03-08T11:22:47.199143Z",
     "iopub.status.idle": "2022-03-08T11:23:53.929946Z",
     "shell.execute_reply": "2022-03-08T11:23:53.929059Z",
     "shell.execute_reply.started": "2022-03-08T11:01:22.870386Z"
    },
    "papermill": {
     "duration": 66.798587,
     "end_time": "2022-03-08T11:23:53.930106",
     "exception": false,
     "start_time": "2022-03-08T11:22:47.131519",
     "status": "completed"
    },
    "tags": []
   },
   "outputs": [
    {
     "name": "stdout",
     "output_type": "stream",
     "text": [
      "Fitting 2 folds for each of 4 candidates, totalling 8 fits\n",
      "[CV] pca__n_components=3 .............................................\n"
     ]
    },
    {
     "name": "stderr",
     "output_type": "stream",
     "text": [
      "[Parallel(n_jobs=1)]: Using backend SequentialBackend with 1 concurrent workers.\n"
     ]
    },
    {
     "name": "stdout",
     "output_type": "stream",
     "text": [
      "[CV] .............................. pca__n_components=3, total=   3.6s\n",
      "[CV] pca__n_components=3 .............................................\n"
     ]
    },
    {
     "name": "stderr",
     "output_type": "stream",
     "text": [
      "[Parallel(n_jobs=1)]: Done   1 out of   1 | elapsed:    3.6s remaining:    0.0s\n"
     ]
    },
    {
     "name": "stdout",
     "output_type": "stream",
     "text": [
      "[CV] .............................. pca__n_components=3, total=   3.6s\n",
      "[CV] pca__n_components=10 ............................................\n",
      "[CV] ............................. pca__n_components=10, total=   5.0s\n",
      "[CV] pca__n_components=10 ............................................\n",
      "[CV] ............................. pca__n_components=10, total=   4.9s\n",
      "[CV] pca__n_components=20 ............................................\n",
      "[CV] ............................. pca__n_components=20, total=   7.4s\n",
      "[CV] pca__n_components=20 ............................................\n",
      "[CV] ............................. pca__n_components=20, total=   7.8s\n",
      "[CV] pca__n_components=50 ............................................\n",
      "[CV] ............................. pca__n_components=50, total=  12.8s\n",
      "[CV] pca__n_components=50 ............................................\n",
      "[CV] ............................. pca__n_components=50, total=  12.9s\n"
     ]
    },
    {
     "name": "stderr",
     "output_type": "stream",
     "text": [
      "[Parallel(n_jobs=1)]: Done   8 out of   8 | elapsed:   58.2s finished\n"
     ]
    }
   ],
   "source": [
    "grid_search = GridSearchCV(pipe, param_grid, cv=2, verbose=2)\n",
    "grid_search.fit(X_train, Y_train);"
   ]
  },
  {
   "cell_type": "code",
   "execution_count": 22,
   "id": "2031aeae",
   "metadata": {
    "execution": {
     "iopub.execute_input": "2022-03-08T11:23:54.076865Z",
     "iopub.status.busy": "2022-03-08T11:23:54.076115Z",
     "iopub.status.idle": "2022-03-08T11:23:54.080278Z",
     "shell.execute_reply": "2022-03-08T11:23:54.079707Z",
     "shell.execute_reply.started": "2022-03-08T11:02:26.424247Z"
    },
    "papermill": {
     "duration": 0.082258,
     "end_time": "2022-03-08T11:23:54.080418",
     "exception": false,
     "start_time": "2022-03-08T11:23:53.998160",
     "status": "completed"
    },
    "tags": []
   },
   "outputs": [
    {
     "name": "stdout",
     "output_type": "stream",
     "text": [
      "Best parameters set found on train set:\n",
      "{'pca__n_components': 10}\n",
      "\n",
      "\n",
      "Grid scores on train set:\n",
      "{'pca__n_components': 3} mean: 0.920 std: +/- 0.001)\n",
      "{'pca__n_components': 10} mean: 0.923 std: +/- 0.002)\n",
      "{'pca__n_components': 20} mean: 0.918 std: +/- 0.005)\n",
      "{'pca__n_components': 50} mean: 0.910 std: +/- 0.002)\n",
      "\n",
      "\n"
     ]
    }
   ],
   "source": [
    "# Print grid search results\n",
    "def print_grid_search_results(gscv):\n",
    "    print(\"Best parameters set found on train set:\")\n",
    "    print(gscv.best_params_)\n",
    "    print(\"\\n\")\n",
    "    print(\"Grid scores on train set:\")\n",
    "    for param, mean, std in zip(gscv.cv_results_['params'], gscv.cv_results_['mean_test_score'], gscv.cv_results_['std_test_score']):\n",
    "        print(\"%r mean: %0.3f std: +/- %0.03f)\" % (param, mean, std*2))\n",
    "    print(\"\\n\")\n",
    "\n",
    "print_grid_search_results(grid_search)"
   ]
  },
  {
   "cell_type": "code",
   "execution_count": 23,
   "id": "b8c55236",
   "metadata": {
    "execution": {
     "iopub.execute_input": "2022-03-08T11:23:54.223296Z",
     "iopub.status.busy": "2022-03-08T11:23:54.222489Z",
     "iopub.status.idle": "2022-03-08T11:23:54.225363Z",
     "shell.execute_reply": "2022-03-08T11:23:54.224828Z",
     "shell.execute_reply.started": "2022-03-08T11:02:26.435090Z"
    },
    "papermill": {
     "duration": 0.075782,
     "end_time": "2022-03-08T11:23:54.225500",
     "exception": false,
     "start_time": "2022-03-08T11:23:54.149718",
     "status": "completed"
    },
    "tags": []
   },
   "outputs": [],
   "source": [
    "pca_components = grid_search.best_params_[\"pca__n_components\"]"
   ]
  },
  {
   "cell_type": "code",
   "execution_count": 24,
   "id": "f2b6c8e7",
   "metadata": {
    "execution": {
     "iopub.execute_input": "2022-03-08T11:23:54.367486Z",
     "iopub.status.busy": "2022-03-08T11:23:54.366329Z",
     "iopub.status.idle": "2022-03-08T11:23:55.232366Z",
     "shell.execute_reply": "2022-03-08T11:23:55.231816Z",
     "shell.execute_reply.started": "2022-03-08T11:02:26.444619Z"
    },
    "papermill": {
     "duration": 0.937572,
     "end_time": "2022-03-08T11:23:55.232509",
     "exception": false,
     "start_time": "2022-03-08T11:23:54.294937",
     "status": "completed"
    },
    "tags": []
   },
   "outputs": [
    {
     "data": {
      "text/plain": [
       "(134000, 286)"
      ]
     },
     "execution_count": 24,
     "metadata": {},
     "output_type": "execute_result"
    }
   ],
   "source": [
    "# Standardize the features. This process is needed before doing the PCA.\n",
    "st_scaler = StandardScaler()\n",
    "st_scaler.fit(X_train)\n",
    "X_train_st = st_scaler.transform(X_train)\n",
    "X_train_st.shape"
   ]
  },
  {
   "cell_type": "code",
   "execution_count": 25,
   "id": "a285442b",
   "metadata": {
    "execution": {
     "iopub.execute_input": "2022-03-08T11:23:55.376802Z",
     "iopub.status.busy": "2022-03-08T11:23:55.376058Z",
     "iopub.status.idle": "2022-03-08T11:23:59.542740Z",
     "shell.execute_reply": "2022-03-08T11:23:59.541410Z",
     "shell.execute_reply.started": "2022-03-08T11:02:27.294195Z"
    },
    "papermill": {
     "duration": 4.240811,
     "end_time": "2022-03-08T11:23:59.543059",
     "exception": false,
     "start_time": "2022-03-08T11:23:55.302248",
     "status": "completed"
    },
    "tags": []
   },
   "outputs": [
    {
     "data": {
      "text/plain": [
       "(134000, 10)"
      ]
     },
     "execution_count": 25,
     "metadata": {},
     "output_type": "execute_result"
    }
   ],
   "source": [
    "# Perform PCA\n",
    "pca = PCA(n_components=pca_components)\n",
    "pca.fit(X_train_st)\n",
    "X_train_pca = pca.transform(X_train_st)\n",
    "X_train_pca.shape"
   ]
  },
  {
   "cell_type": "markdown",
   "id": "12a06055",
   "metadata": {
    "papermill": {
     "duration": 0.071843,
     "end_time": "2022-03-08T11:23:59.737669",
     "exception": false,
     "start_time": "2022-03-08T11:23:59.665826",
     "status": "completed"
    },
    "tags": []
   },
   "source": [
    "## **ML Models Testing**"
   ]
  },
  {
   "cell_type": "markdown",
   "id": "d6873312",
   "metadata": {
    "papermill": {
     "duration": 0.072408,
     "end_time": "2022-03-08T11:23:59.880799",
     "exception": false,
     "start_time": "2022-03-08T11:23:59.808391",
     "status": "completed"
    },
    "tags": []
   },
   "source": [
    "### **Decision Tree Classifier**"
   ]
  },
  {
   "cell_type": "code",
   "execution_count": 26,
   "id": "1f93f6a5",
   "metadata": {
    "execution": {
     "iopub.execute_input": "2022-03-08T11:24:00.025599Z",
     "iopub.status.busy": "2022-03-08T11:24:00.023915Z",
     "iopub.status.idle": "2022-03-08T11:24:00.028852Z",
     "shell.execute_reply": "2022-03-08T11:24:00.028309Z",
     "shell.execute_reply.started": "2022-03-08T11:02:31.198013Z"
    },
    "papermill": {
     "duration": 0.078026,
     "end_time": "2022-03-08T11:24:00.029000",
     "exception": false,
     "start_time": "2022-03-08T11:23:59.950974",
     "status": "completed"
    },
    "tags": []
   },
   "outputs": [],
   "source": [
    "from sklearn.tree import DecisionTreeClassifier\n",
    "from sklearn.model_selection import GridSearchCV"
   ]
  },
  {
   "cell_type": "code",
   "execution_count": 27,
   "id": "471c70ff",
   "metadata": {
    "execution": {
     "iopub.execute_input": "2022-03-08T11:24:00.173611Z",
     "iopub.status.busy": "2022-03-08T11:24:00.172975Z",
     "iopub.status.idle": "2022-03-08T11:24:24.007556Z",
     "shell.execute_reply": "2022-03-08T11:24:24.006981Z",
     "shell.execute_reply.started": "2022-03-08T11:02:31.206716Z"
    },
    "papermill": {
     "duration": 23.909244,
     "end_time": "2022-03-08T11:24:24.007728",
     "exception": false,
     "start_time": "2022-03-08T11:24:00.098484",
     "status": "completed"
    },
    "tags": []
   },
   "outputs": [
    {
     "name": "stdout",
     "output_type": "stream",
     "text": [
      "Fitting 2 folds for each of 6 candidates, totalling 12 fits\n",
      "[CV] max_depth=4 .....................................................\n"
     ]
    },
    {
     "name": "stderr",
     "output_type": "stream",
     "text": [
      "[Parallel(n_jobs=1)]: Using backend SequentialBackend with 1 concurrent workers.\n"
     ]
    },
    {
     "name": "stdout",
     "output_type": "stream",
     "text": [
      "[CV] ...................................... max_depth=4, total=   0.9s\n",
      "[CV] max_depth=4 .....................................................\n"
     ]
    },
    {
     "name": "stderr",
     "output_type": "stream",
     "text": [
      "[Parallel(n_jobs=1)]: Done   1 out of   1 | elapsed:    0.9s remaining:    0.0s\n"
     ]
    },
    {
     "name": "stdout",
     "output_type": "stream",
     "text": [
      "[CV] ...................................... max_depth=4, total=   0.9s\n",
      "[CV] max_depth=8 .....................................................\n",
      "[CV] ...................................... max_depth=8, total=   1.5s\n",
      "[CV] max_depth=8 .....................................................\n",
      "[CV] ...................................... max_depth=8, total=   1.5s\n",
      "[CV] max_depth=16 ....................................................\n",
      "[CV] ..................................... max_depth=16, total=   1.9s\n",
      "[CV] max_depth=16 ....................................................\n",
      "[CV] ..................................... max_depth=16, total=   1.9s\n",
      "[CV] max_depth=20 ....................................................\n",
      "[CV] ..................................... max_depth=20, total=   1.9s\n",
      "[CV] max_depth=20 ....................................................\n",
      "[CV] ..................................... max_depth=20, total=   1.9s\n",
      "[CV] max_depth=24 ....................................................\n",
      "[CV] ..................................... max_depth=24, total=   1.9s\n",
      "[CV] max_depth=24 ....................................................\n",
      "[CV] ..................................... max_depth=24, total=   1.9s\n",
      "[CV] max_depth=26 ....................................................\n",
      "[CV] ..................................... max_depth=26, total=   2.0s\n",
      "[CV] max_depth=26 ....................................................\n",
      "[CV] ..................................... max_depth=26, total=   1.9s\n"
     ]
    },
    {
     "name": "stderr",
     "output_type": "stream",
     "text": [
      "[Parallel(n_jobs=1)]: Done  12 out of  12 | elapsed:   20.1s finished\n"
     ]
    }
   ],
   "source": [
    "# Perform a grid search with cross validation to find the best max_depth hyperparameter for the decision tree\n",
    "tree_model_param = {\"max_depth\":[4,8,16,20,24,26]}\n",
    "grid_search = GridSearchCV(estimator=DecisionTreeClassifier(criterion=\"entropy\", random_state=random_seed),\n",
    "                           param_grid=tree_model_param,\n",
    "                           cv=2,\n",
    "                           verbose=2)\n",
    "grid_search.fit(X_train_pca, Y_train);"
   ]
  },
  {
   "cell_type": "code",
   "execution_count": 28,
   "id": "129272ff",
   "metadata": {
    "execution": {
     "iopub.execute_input": "2022-03-08T11:24:24.166390Z",
     "iopub.status.busy": "2022-03-08T11:24:24.165627Z",
     "iopub.status.idle": "2022-03-08T11:24:24.169777Z",
     "shell.execute_reply": "2022-03-08T11:24:24.169275Z",
     "shell.execute_reply.started": "2022-03-08T11:02:54.553767Z"
    },
    "papermill": {
     "duration": 0.084889,
     "end_time": "2022-03-08T11:24:24.169917",
     "exception": false,
     "start_time": "2022-03-08T11:24:24.085028",
     "status": "completed"
    },
    "tags": []
   },
   "outputs": [
    {
     "name": "stdout",
     "output_type": "stream",
     "text": [
      "Best parameters set found on train set:\n",
      "{'max_depth': 26}\n",
      "\n",
      "\n",
      "Grid scores on train set:\n",
      "{'max_depth': 4} mean: 0.634 std: +/- 0.002)\n",
      "{'max_depth': 8} mean: 0.779 std: +/- 0.004)\n",
      "{'max_depth': 16} mean: 0.911 std: +/- 0.001)\n",
      "{'max_depth': 20} mean: 0.931 std: +/- 0.001)\n",
      "{'max_depth': 24} mean: 0.934 std: +/- 0.001)\n",
      "{'max_depth': 26} mean: 0.934 std: +/- 0.001)\n",
      "\n",
      "\n"
     ]
    }
   ],
   "source": [
    "# Print grid search results\n",
    "def print_grid_search_results(gscv):\n",
    "    print(\"Best parameters set found on train set:\")\n",
    "    print(gscv.best_params_)\n",
    "    print(\"\\n\")\n",
    "    print(\"Grid scores on train set:\")\n",
    "    for param, mean, std in zip(gscv.cv_results_['params'], gscv.cv_results_['mean_test_score'], gscv.cv_results_['std_test_score']):\n",
    "        print(\"%r mean: %0.3f std: +/- %0.03f)\" % (param, mean, std*2))\n",
    "    print(\"\\n\")\n",
    "\n",
    "print_grid_search_results(grid_search)"
   ]
  },
  {
   "cell_type": "code",
   "execution_count": 29,
   "id": "20efa111",
   "metadata": {
    "execution": {
     "iopub.execute_input": "2022-03-08T11:24:24.328963Z",
     "iopub.status.busy": "2022-03-08T11:24:24.328240Z",
     "iopub.status.idle": "2022-03-08T11:24:27.995848Z",
     "shell.execute_reply": "2022-03-08T11:24:27.995167Z",
     "shell.execute_reply.started": "2022-03-08T11:02:54.561653Z"
    },
    "papermill": {
     "duration": 3.750555,
     "end_time": "2022-03-08T11:24:27.995994",
     "exception": false,
     "start_time": "2022-03-08T11:24:24.245439",
     "status": "completed"
    },
    "tags": []
   },
   "outputs": [
    {
     "data": {
      "text/plain": [
       "DecisionTreeClassifier(criterion='entropy', max_depth=26, random_state=42)"
      ]
     },
     "execution_count": 29,
     "metadata": {},
     "output_type": "execute_result"
    }
   ],
   "source": [
    "# Define the final decision tree model with the best parameter found\n",
    "tree_model = DecisionTreeClassifier(criterion=\"entropy\", random_state=random_seed, max_depth=grid_search.best_params_[\"max_depth\"])\n",
    "tree_model.fit(X_train_pca, Y_train)"
   ]
  },
  {
   "cell_type": "markdown",
   "id": "a2d182de",
   "metadata": {
    "papermill": {
     "duration": 0.075275,
     "end_time": "2022-03-08T11:24:28.148486",
     "exception": false,
     "start_time": "2022-03-08T11:24:28.073211",
     "status": "completed"
    },
    "tags": []
   },
   "source": [
    "## **Random Forest**"
   ]
  },
  {
   "cell_type": "code",
   "execution_count": 30,
   "id": "b32073d0",
   "metadata": {
    "execution": {
     "iopub.execute_input": "2022-03-08T11:24:28.303067Z",
     "iopub.status.busy": "2022-03-08T11:24:28.302405Z",
     "iopub.status.idle": "2022-03-08T11:24:28.336735Z",
     "shell.execute_reply": "2022-03-08T11:24:28.337245Z",
     "shell.execute_reply.started": "2022-03-08T11:02:58.184496Z"
    },
    "papermill": {
     "duration": 0.113335,
     "end_time": "2022-03-08T11:24:28.337418",
     "exception": false,
     "start_time": "2022-03-08T11:24:28.224083",
     "status": "completed"
    },
    "tags": []
   },
   "outputs": [],
   "source": [
    "from sklearn.ensemble import RandomForestClassifier"
   ]
  },
  {
   "cell_type": "code",
   "execution_count": 31,
   "id": "79f40625",
   "metadata": {
    "execution": {
     "iopub.execute_input": "2022-03-08T11:24:28.491953Z",
     "iopub.status.busy": "2022-03-08T11:24:28.491300Z",
     "iopub.status.idle": "2022-03-08T11:24:28.494872Z",
     "shell.execute_reply": "2022-03-08T11:24:28.495449Z",
     "shell.execute_reply.started": "2022-03-08T11:02:58.227174Z"
    },
    "papermill": {
     "duration": 0.082063,
     "end_time": "2022-03-08T11:24:28.495618",
     "exception": false,
     "start_time": "2022-03-08T11:24:28.413555",
     "status": "completed"
    },
    "tags": []
   },
   "outputs": [],
   "source": [
    "random_forest_model = RandomForestClassifier(n_estimators=10)"
   ]
  },
  {
   "cell_type": "code",
   "execution_count": null,
   "id": "f67849a9",
   "metadata": {
    "papermill": {
     "duration": 0.075634,
     "end_time": "2022-03-08T11:24:28.646528",
     "exception": false,
     "start_time": "2022-03-08T11:24:28.570894",
     "status": "completed"
    },
    "tags": []
   },
   "outputs": [],
   "source": []
  },
  {
   "cell_type": "markdown",
   "id": "d87a3953",
   "metadata": {
    "papermill": {
     "duration": 0.078129,
     "end_time": "2022-03-08T11:24:28.801202",
     "exception": false,
     "start_time": "2022-03-08T11:24:28.723073",
     "status": "completed"
    },
    "tags": []
   },
   "source": [
    "### **Deep Neural Network**"
   ]
  },
  {
   "cell_type": "code",
   "execution_count": 32,
   "id": "c02468cf",
   "metadata": {
    "execution": {
     "iopub.execute_input": "2022-03-08T11:24:28.957508Z",
     "iopub.status.busy": "2022-03-08T11:24:28.956788Z",
     "iopub.status.idle": "2022-03-08T11:24:35.428854Z",
     "shell.execute_reply": "2022-03-08T11:24:35.428268Z",
     "shell.execute_reply.started": "2022-03-08T11:02:58.234097Z"
    },
    "papermill": {
     "duration": 6.550957,
     "end_time": "2022-03-08T11:24:35.429000",
     "exception": false,
     "start_time": "2022-03-08T11:24:28.878043",
     "status": "completed"
    },
    "tags": []
   },
   "outputs": [],
   "source": [
    "import tensorflow as tf\n",
    "from tensorflow import keras\n",
    "from tensorflow.keras import layers"
   ]
  },
  {
   "cell_type": "code",
   "execution_count": 33,
   "id": "98f51e70",
   "metadata": {
    "execution": {
     "iopub.execute_input": "2022-03-08T11:24:35.582088Z",
     "iopub.status.busy": "2022-03-08T11:24:35.581396Z",
     "iopub.status.idle": "2022-03-08T11:24:35.718136Z",
     "shell.execute_reply": "2022-03-08T11:24:35.718862Z",
     "shell.execute_reply.started": "2022-03-08T11:04:04.617154Z"
    },
    "papermill": {
     "duration": 0.214254,
     "end_time": "2022-03-08T11:24:35.719099",
     "exception": false,
     "start_time": "2022-03-08T11:24:35.504845",
     "status": "completed"
    },
    "tags": []
   },
   "outputs": [
    {
     "name": "stdout",
     "output_type": "stream",
     "text": [
      "Model: \"dnn_model\"\n",
      "_________________________________________________________________\n",
      "Layer (type)                 Output Shape              Param #   \n",
      "=================================================================\n",
      "input_1 (InputLayer)         [(None, 10)]              0         \n",
      "_________________________________________________________________\n",
      "dense (Dense)                (None, 50)                550       \n",
      "_________________________________________________________________\n",
      "dense_1 (Dense)              (None, 30)                1530      \n",
      "_________________________________________________________________\n",
      "dense_2 (Dense)              (None, 20)                620       \n",
      "_________________________________________________________________\n",
      "dense_3 (Dense)              (None, 10)                210       \n",
      "=================================================================\n",
      "Total params: 2,910\n",
      "Trainable params: 2,910\n",
      "Non-trainable params: 0\n",
      "_________________________________________________________________\n"
     ]
    },
    {
     "name": "stderr",
     "output_type": "stream",
     "text": [
      "2022-03-08 11:24:35.635578: I tensorflow/core/common_runtime/process_util.cc:146] Creating new thread pool with default inter op setting: 2. Tune using inter_op_parallelism_threads for best performance.\n"
     ]
    }
   ],
   "source": [
    "# Network architecture definition\n",
    "inputs = keras.Input(shape=(pca_components,))\n",
    "x = layers.Dense(50, activation=\"relu\")(inputs)\n",
    "x = layers.Dense(30, activation=\"relu\")(x)\n",
    "x = layers.Dense(20, activation=\"relu\")(x)\n",
    "outputs = layers.Dense(10, activation=\"softmax\")(x)\n",
    "\n",
    "dnn_model = keras.Model(inputs=inputs, outputs=outputs, name=\"dnn_model\")\n",
    "dnn_model.summary()"
   ]
  },
  {
   "cell_type": "code",
   "execution_count": 34,
   "id": "9012af80",
   "metadata": {
    "execution": {
     "iopub.execute_input": "2022-03-08T11:24:35.885479Z",
     "iopub.status.busy": "2022-03-08T11:24:35.884823Z",
     "iopub.status.idle": "2022-03-08T11:24:35.886747Z",
     "shell.execute_reply": "2022-03-08T11:24:35.887236Z",
     "shell.execute_reply.started": "2022-03-08T11:04:08.371156Z"
    },
    "papermill": {
     "duration": 0.091885,
     "end_time": "2022-03-08T11:24:35.887405",
     "exception": false,
     "start_time": "2022-03-08T11:24:35.795520",
     "status": "completed"
    },
    "tags": []
   },
   "outputs": [],
   "source": [
    "dnn_model.compile(\n",
    "    loss=keras.losses.SparseCategoricalCrossentropy(from_logits=False),\n",
    "    optimizer=keras.optimizers.Adam(),\n",
    "    metrics=[\"accuracy\"]\n",
    ")"
   ]
  },
  {
   "cell_type": "code",
   "execution_count": 35,
   "id": "eae2b786",
   "metadata": {
    "execution": {
     "iopub.execute_input": "2022-03-08T11:24:36.041429Z",
     "iopub.status.busy": "2022-03-08T11:24:36.040820Z",
     "iopub.status.idle": "2022-03-08T11:25:17.633154Z",
     "shell.execute_reply": "2022-03-08T11:25:17.633683Z",
     "shell.execute_reply.started": "2022-03-08T11:04:10.538573Z"
    },
    "papermill": {
     "duration": 41.670884,
     "end_time": "2022-03-08T11:25:17.633882",
     "exception": false,
     "start_time": "2022-03-08T11:24:35.962998",
     "status": "completed"
    },
    "tags": []
   },
   "outputs": [
    {
     "name": "stderr",
     "output_type": "stream",
     "text": [
      "2022-03-08 11:24:36.122994: I tensorflow/compiler/mlir/mlir_graph_optimization_pass.cc:185] None of the MLIR Optimization Passes are enabled (registered 2)\n"
     ]
    },
    {
     "name": "stdout",
     "output_type": "stream",
     "text": [
      "Epoch 1/5\n",
      "1675/1675 [==============================] - 5s 3ms/step - loss: 0.7923 - accuracy: 0.7322 - val_loss: 0.5792 - val_accuracy: 0.8062\n",
      "Epoch 2/5\n",
      "1675/1675 [==============================] - 5s 3ms/step - loss: 0.5271 - accuracy: 0.8149 - val_loss: 0.4993 - val_accuracy: 0.8166\n",
      "Epoch 3/5\n",
      "1675/1675 [==============================] - 5s 3ms/step - loss: 0.4662 - accuracy: 0.8285 - val_loss: 0.4477 - val_accuracy: 0.8312\n",
      "Epoch 4/5\n",
      "1675/1675 [==============================] - 5s 3ms/step - loss: 0.4296 - accuracy: 0.8363 - val_loss: 0.4198 - val_accuracy: 0.8368\n",
      "Epoch 5/5\n",
      "1675/1675 [==============================] - 5s 3ms/step - loss: 0.4061 - accuracy: 0.8413 - val_loss: 0.3998 - val_accuracy: 0.8419\n"
     ]
    }
   ],
   "source": [
    "history = dnn_model.fit(X_train_pca, Y_train, batch_size=64, epochs=5, validation_split=0.2)"
   ]
  },
  {
   "cell_type": "markdown",
   "id": "d4106e05",
   "metadata": {
    "papermill": {
     "duration": 0.234421,
     "end_time": "2022-03-08T11:25:18.101317",
     "exception": false,
     "start_time": "2022-03-08T11:25:17.866896",
     "status": "completed"
    },
    "tags": []
   },
   "source": [
    "## **Final Model Evaluation**"
   ]
  },
  {
   "cell_type": "code",
   "execution_count": 36,
   "id": "eb8f70d1",
   "metadata": {
    "execution": {
     "iopub.execute_input": "2022-03-08T11:25:18.564954Z",
     "iopub.status.busy": "2022-03-08T11:25:18.564194Z",
     "iopub.status.idle": "2022-03-08T11:25:18.567212Z",
     "shell.execute_reply": "2022-03-08T11:25:18.567785Z",
     "shell.execute_reply.started": "2022-03-08T11:04:42.685147Z"
    },
    "papermill": {
     "duration": 0.234864,
     "end_time": "2022-03-08T11:25:18.567963",
     "exception": false,
     "start_time": "2022-03-08T11:25:18.333099",
     "status": "completed"
    },
    "tags": []
   },
   "outputs": [],
   "source": [
    "from sklearn.metrics import classification_report"
   ]
  },
  {
   "cell_type": "code",
   "execution_count": 37,
   "id": "3763dcbe",
   "metadata": {
    "execution": {
     "iopub.execute_input": "2022-03-08T11:25:19.049179Z",
     "iopub.status.busy": "2022-03-08T11:25:19.048491Z",
     "iopub.status.idle": "2022-03-08T11:25:19.051597Z",
     "shell.execute_reply": "2022-03-08T11:25:19.052143Z",
     "shell.execute_reply.started": "2022-03-08T11:04:45.723919Z"
    },
    "papermill": {
     "duration": 0.241261,
     "end_time": "2022-03-08T11:25:19.052339",
     "exception": false,
     "start_time": "2022-03-08T11:25:18.811078",
     "status": "completed"
    },
    "tags": []
   },
   "outputs": [],
   "source": [
    "final_model = tree_model\n",
    "use_neural_network = False"
   ]
  },
  {
   "cell_type": "code",
   "execution_count": 38,
   "id": "eb6cf830",
   "metadata": {
    "execution": {
     "iopub.execute_input": "2022-03-08T11:25:19.521258Z",
     "iopub.status.busy": "2022-03-08T11:25:19.520251Z",
     "iopub.status.idle": "2022-03-08T11:25:19.775426Z",
     "shell.execute_reply": "2022-03-08T11:25:19.776827Z",
     "shell.execute_reply.started": "2022-03-08T11:04:47.949592Z"
    },
    "papermill": {
     "duration": 0.497158,
     "end_time": "2022-03-08T11:25:19.777163",
     "exception": false,
     "start_time": "2022-03-08T11:25:19.280005",
     "status": "completed"
    },
    "tags": []
   },
   "outputs": [],
   "source": [
    "# Preprocess the data\n",
    "\n",
    "# Standardize\n",
    "X_test_st = st_scaler.transform(X_test)\n",
    "# PCA\n",
    "X_test_pca = pca.transform(X_test_st)"
   ]
  },
  {
   "cell_type": "code",
   "execution_count": 39,
   "id": "c235e104",
   "metadata": {
    "execution": {
     "iopub.execute_input": "2022-03-08T11:25:20.314810Z",
     "iopub.status.busy": "2022-03-08T11:25:20.313756Z",
     "iopub.status.idle": "2022-03-08T11:25:20.330461Z",
     "shell.execute_reply": "2022-03-08T11:25:20.329908Z",
     "shell.execute_reply.started": "2022-03-08T11:04:51.138727Z"
    },
    "papermill": {
     "duration": 0.257262,
     "end_time": "2022-03-08T11:25:20.330628",
     "exception": false,
     "start_time": "2022-03-08T11:25:20.073366",
     "status": "completed"
    },
    "tags": []
   },
   "outputs": [],
   "source": [
    "if use_neural_network:\n",
    "    # Predict probabilty distributions over possible labels\n",
    "    Y_test_pred_p = final_model.predict(X_test_pca)\n",
    "    # Store the index of the most probable label\n",
    "    Y_test_pred = np.argmax(Y_test_pred_p, axis=1)\n",
    "else:\n",
    "    Y_test_pred = final_model.predict(X_test_pca)"
   ]
  },
  {
   "cell_type": "code",
   "execution_count": 40,
   "id": "412e6537",
   "metadata": {
    "execution": {
     "iopub.execute_input": "2022-03-08T11:25:20.790421Z",
     "iopub.status.busy": "2022-03-08T11:25:20.789354Z",
     "iopub.status.idle": "2022-03-08T11:25:20.952027Z",
     "shell.execute_reply": "2022-03-08T11:25:20.952888Z",
     "shell.execute_reply.started": "2022-03-08T11:04:53.872502Z"
    },
    "papermill": {
     "duration": 0.399357,
     "end_time": "2022-03-08T11:25:20.953135",
     "exception": false,
     "start_time": "2022-03-08T11:25:20.553778",
     "status": "completed"
    },
    "tags": []
   },
   "outputs": [
    {
     "name": "stdout",
     "output_type": "stream",
     "text": [
      "                          precision    recall  f1-score   support\n",
      "\n",
      "    Bacteroides_fragilis       0.98      0.98      0.98      6646\n",
      "    Campylobacter_jejuni       0.98      0.99      0.99      6621\n",
      "      Enterococcus_hirae       0.97      0.97      0.97      6583\n",
      "        Escherichia_coli       0.96      0.96      0.96      6586\n",
      "  Escherichia_fergusonii       0.97      0.97      0.97      6579\n",
      "   Klebsiella_pneumoniae       0.99      0.99      0.99      6549\n",
      "     Salmonella_enterica       0.97      0.97      0.97      6610\n",
      "   Staphylococcus_aureus       0.98      0.98      0.98      6577\n",
      "Streptococcus_pneumoniae       0.97      0.97      0.97      6624\n",
      "  Streptococcus_pyogenes       0.97      0.97      0.97      6625\n",
      "\n",
      "                accuracy                           0.98     66000\n",
      "               macro avg       0.98      0.98      0.98     66000\n",
      "            weighted avg       0.98      0.98      0.98     66000\n",
      "\n"
     ]
    }
   ],
   "source": [
    "print(classification_report(Y_test, Y_test_pred, target_names=label_encoder.classes_))"
   ]
  },
  {
   "cell_type": "markdown",
   "id": "476e4482",
   "metadata": {
    "papermill": {
     "duration": 0.226739,
     "end_time": "2022-03-08T11:25:21.451993",
     "exception": false,
     "start_time": "2022-03-08T11:25:21.225254",
     "status": "completed"
    },
    "tags": []
   },
   "source": [
    "## **Kaggle Submission Test**"
   ]
  },
  {
   "cell_type": "code",
   "execution_count": 41,
   "id": "278fb62a",
   "metadata": {
    "execution": {
     "iopub.execute_input": "2022-03-08T11:25:21.915419Z",
     "iopub.status.busy": "2022-03-08T11:25:21.914744Z",
     "iopub.status.idle": "2022-03-08T11:25:34.529960Z",
     "shell.execute_reply": "2022-03-08T11:25:34.529295Z",
     "shell.execute_reply.started": "2022-03-08T11:05:00.976977Z"
    },
    "papermill": {
     "duration": 12.847786,
     "end_time": "2022-03-08T11:25:34.530137",
     "exception": false,
     "start_time": "2022-03-08T11:25:21.682351",
     "status": "completed"
    },
    "tags": []
   },
   "outputs": [
    {
     "data": {
      "text/html": [
       "<div>\n",
       "<style scoped>\n",
       "    .dataframe tbody tr th:only-of-type {\n",
       "        vertical-align: middle;\n",
       "    }\n",
       "\n",
       "    .dataframe tbody tr th {\n",
       "        vertical-align: top;\n",
       "    }\n",
       "\n",
       "    .dataframe thead th {\n",
       "        text-align: right;\n",
       "    }\n",
       "</style>\n",
       "<table border=\"1\" class=\"dataframe\">\n",
       "  <thead>\n",
       "    <tr style=\"text-align: right;\">\n",
       "      <th></th>\n",
       "      <th>row_id</th>\n",
       "      <th>A0T0G0C10</th>\n",
       "      <th>A0T0G1C9</th>\n",
       "      <th>A0T0G2C8</th>\n",
       "      <th>A0T0G3C7</th>\n",
       "      <th>A0T0G4C6</th>\n",
       "      <th>A0T0G5C5</th>\n",
       "      <th>A0T0G6C4</th>\n",
       "      <th>A0T0G7C3</th>\n",
       "      <th>A0T0G8C2</th>\n",
       "      <th>...</th>\n",
       "      <th>A8T0G0C2</th>\n",
       "      <th>A8T0G1C1</th>\n",
       "      <th>A8T0G2C0</th>\n",
       "      <th>A8T1G0C1</th>\n",
       "      <th>A8T1G1C0</th>\n",
       "      <th>A8T2G0C0</th>\n",
       "      <th>A9T0G0C1</th>\n",
       "      <th>A9T0G1C0</th>\n",
       "      <th>A9T1G0C0</th>\n",
       "      <th>A10T0G0C0</th>\n",
       "    </tr>\n",
       "  </thead>\n",
       "  <tbody>\n",
       "    <tr>\n",
       "      <th>0</th>\n",
       "      <td>200000</td>\n",
       "      <td>-9.536743e-07</td>\n",
       "      <td>-0.000002</td>\n",
       "      <td>-9.153442e-07</td>\n",
       "      <td>0.000024</td>\n",
       "      <td>0.000034</td>\n",
       "      <td>-0.000002</td>\n",
       "      <td>0.000021</td>\n",
       "      <td>0.000024</td>\n",
       "      <td>-0.000009</td>\n",
       "      <td>...</td>\n",
       "      <td>0.000039</td>\n",
       "      <td>0.000085</td>\n",
       "      <td>0.000055</td>\n",
       "      <td>0.000108</td>\n",
       "      <td>0.000090</td>\n",
       "      <td>0.000059</td>\n",
       "      <td>0.000010</td>\n",
       "      <td>0.000006</td>\n",
       "      <td>0.000027</td>\n",
       "      <td>4.632568e-08</td>\n",
       "    </tr>\n",
       "    <tr>\n",
       "      <th>1</th>\n",
       "      <td>200001</td>\n",
       "      <td>-9.536743e-07</td>\n",
       "      <td>-0.000010</td>\n",
       "      <td>-4.291534e-05</td>\n",
       "      <td>-0.000114</td>\n",
       "      <td>0.001800</td>\n",
       "      <td>-0.000240</td>\n",
       "      <td>0.001800</td>\n",
       "      <td>-0.000114</td>\n",
       "      <td>0.000957</td>\n",
       "      <td>...</td>\n",
       "      <td>-0.000043</td>\n",
       "      <td>0.000914</td>\n",
       "      <td>-0.000043</td>\n",
       "      <td>-0.000086</td>\n",
       "      <td>-0.000086</td>\n",
       "      <td>-0.000043</td>\n",
       "      <td>-0.000010</td>\n",
       "      <td>-0.000010</td>\n",
       "      <td>-0.000010</td>\n",
       "      <td>-9.536743e-07</td>\n",
       "    </tr>\n",
       "    <tr>\n",
       "      <th>2</th>\n",
       "      <td>200002</td>\n",
       "      <td>4.632568e-08</td>\n",
       "      <td>0.000003</td>\n",
       "      <td>8.465576e-08</td>\n",
       "      <td>-0.000014</td>\n",
       "      <td>0.000007</td>\n",
       "      <td>-0.000005</td>\n",
       "      <td>-0.000004</td>\n",
       "      <td>0.000003</td>\n",
       "      <td>0.000004</td>\n",
       "      <td>...</td>\n",
       "      <td>0.000041</td>\n",
       "      <td>0.000102</td>\n",
       "      <td>0.000084</td>\n",
       "      <td>0.000111</td>\n",
       "      <td>0.000117</td>\n",
       "      <td>0.000070</td>\n",
       "      <td>0.000020</td>\n",
       "      <td>0.000030</td>\n",
       "      <td>0.000021</td>\n",
       "      <td>4.632568e-08</td>\n",
       "    </tr>\n",
       "    <tr>\n",
       "      <th>3</th>\n",
       "      <td>200003</td>\n",
       "      <td>-9.536743e-07</td>\n",
       "      <td>-0.000008</td>\n",
       "      <td>8.084656e-06</td>\n",
       "      <td>0.000216</td>\n",
       "      <td>0.000420</td>\n",
       "      <td>0.000514</td>\n",
       "      <td>0.000452</td>\n",
       "      <td>0.000187</td>\n",
       "      <td>-0.000005</td>\n",
       "      <td>...</td>\n",
       "      <td>0.000069</td>\n",
       "      <td>0.000158</td>\n",
       "      <td>0.000098</td>\n",
       "      <td>0.000175</td>\n",
       "      <td>0.000217</td>\n",
       "      <td>0.000150</td>\n",
       "      <td>0.000018</td>\n",
       "      <td>0.000016</td>\n",
       "      <td>0.000051</td>\n",
       "      <td>-9.536743e-07</td>\n",
       "    </tr>\n",
       "    <tr>\n",
       "      <th>4</th>\n",
       "      <td>200004</td>\n",
       "      <td>-9.536743e-07</td>\n",
       "      <td>-0.000010</td>\n",
       "      <td>-4.291534e-05</td>\n",
       "      <td>-0.000114</td>\n",
       "      <td>-0.000200</td>\n",
       "      <td>-0.000240</td>\n",
       "      <td>-0.000200</td>\n",
       "      <td>-0.000114</td>\n",
       "      <td>-0.000043</td>\n",
       "      <td>...</td>\n",
       "      <td>-0.000043</td>\n",
       "      <td>-0.000086</td>\n",
       "      <td>-0.000043</td>\n",
       "      <td>-0.000086</td>\n",
       "      <td>0.000914</td>\n",
       "      <td>-0.000043</td>\n",
       "      <td>-0.000010</td>\n",
       "      <td>-0.000010</td>\n",
       "      <td>0.000990</td>\n",
       "      <td>-9.536743e-07</td>\n",
       "    </tr>\n",
       "  </tbody>\n",
       "</table>\n",
       "<p>5 rows × 287 columns</p>\n",
       "</div>"
      ],
      "text/plain": [
       "   row_id     A0T0G0C10  A0T0G1C9      A0T0G2C8  A0T0G3C7  A0T0G4C6  A0T0G5C5  \\\n",
       "0  200000 -9.536743e-07 -0.000002 -9.153442e-07  0.000024  0.000034 -0.000002   \n",
       "1  200001 -9.536743e-07 -0.000010 -4.291534e-05 -0.000114  0.001800 -0.000240   \n",
       "2  200002  4.632568e-08  0.000003  8.465576e-08 -0.000014  0.000007 -0.000005   \n",
       "3  200003 -9.536743e-07 -0.000008  8.084656e-06  0.000216  0.000420  0.000514   \n",
       "4  200004 -9.536743e-07 -0.000010 -4.291534e-05 -0.000114 -0.000200 -0.000240   \n",
       "\n",
       "   A0T0G6C4  A0T0G7C3  A0T0G8C2  ...  A8T0G0C2  A8T0G1C1  A8T0G2C0  A8T1G0C1  \\\n",
       "0  0.000021  0.000024 -0.000009  ...  0.000039  0.000085  0.000055  0.000108   \n",
       "1  0.001800 -0.000114  0.000957  ... -0.000043  0.000914 -0.000043 -0.000086   \n",
       "2 -0.000004  0.000003  0.000004  ...  0.000041  0.000102  0.000084  0.000111   \n",
       "3  0.000452  0.000187 -0.000005  ...  0.000069  0.000158  0.000098  0.000175   \n",
       "4 -0.000200 -0.000114 -0.000043  ... -0.000043 -0.000086 -0.000043 -0.000086   \n",
       "\n",
       "   A8T1G1C0  A8T2G0C0  A9T0G0C1  A9T0G1C0  A9T1G0C0     A10T0G0C0  \n",
       "0  0.000090  0.000059  0.000010  0.000006  0.000027  4.632568e-08  \n",
       "1 -0.000086 -0.000043 -0.000010 -0.000010 -0.000010 -9.536743e-07  \n",
       "2  0.000117  0.000070  0.000020  0.000030  0.000021  4.632568e-08  \n",
       "3  0.000217  0.000150  0.000018  0.000016  0.000051 -9.536743e-07  \n",
       "4  0.000914 -0.000043 -0.000010 -0.000010  0.000990 -9.536743e-07  \n",
       "\n",
       "[5 rows x 287 columns]"
      ]
     },
     "execution_count": 41,
     "metadata": {},
     "output_type": "execute_result"
    }
   ],
   "source": [
    "# Load Kaggle's submission test set\n",
    "df_subm = pd.read_csv(\"/kaggle/input/tabular-playground-series-feb-2022/test.csv\")\n",
    "df_subm.head()"
   ]
  },
  {
   "cell_type": "code",
   "execution_count": 42,
   "id": "8911ddf5",
   "metadata": {
    "execution": {
     "iopub.execute_input": "2022-03-08T11:25:34.992989Z",
     "iopub.status.busy": "2022-03-08T11:25:34.992300Z",
     "iopub.status.idle": "2022-03-08T11:25:35.000775Z",
     "shell.execute_reply": "2022-03-08T11:25:35.001272Z",
     "shell.execute_reply.started": "2022-03-08T11:05:11.683017Z"
    },
    "papermill": {
     "duration": 0.243347,
     "end_time": "2022-03-08T11:25:35.001451",
     "exception": false,
     "start_time": "2022-03-08T11:25:34.758104",
     "status": "completed"
    },
    "tags": []
   },
   "outputs": [
    {
     "data": {
      "text/html": [
       "<div>\n",
       "<style scoped>\n",
       "    .dataframe tbody tr th:only-of-type {\n",
       "        vertical-align: middle;\n",
       "    }\n",
       "\n",
       "    .dataframe tbody tr th {\n",
       "        vertical-align: top;\n",
       "    }\n",
       "\n",
       "    .dataframe thead th {\n",
       "        text-align: right;\n",
       "    }\n",
       "</style>\n",
       "<table border=\"1\" class=\"dataframe\">\n",
       "  <thead>\n",
       "    <tr style=\"text-align: right;\">\n",
       "      <th></th>\n",
       "      <th>row_id</th>\n",
       "    </tr>\n",
       "  </thead>\n",
       "  <tbody>\n",
       "    <tr>\n",
       "      <th>0</th>\n",
       "      <td>200000</td>\n",
       "    </tr>\n",
       "    <tr>\n",
       "      <th>1</th>\n",
       "      <td>200001</td>\n",
       "    </tr>\n",
       "    <tr>\n",
       "      <th>2</th>\n",
       "      <td>200002</td>\n",
       "    </tr>\n",
       "    <tr>\n",
       "      <th>3</th>\n",
       "      <td>200003</td>\n",
       "    </tr>\n",
       "    <tr>\n",
       "      <th>4</th>\n",
       "      <td>200004</td>\n",
       "    </tr>\n",
       "  </tbody>\n",
       "</table>\n",
       "</div>"
      ],
      "text/plain": [
       "   row_id\n",
       "0  200000\n",
       "1  200001\n",
       "2  200002\n",
       "3  200003\n",
       "4  200004"
      ]
     },
     "execution_count": 42,
     "metadata": {},
     "output_type": "execute_result"
    }
   ],
   "source": [
    "df_subm_results = pd.DataFrame(df_subm[\"row_id\"])\n",
    "df_subm_results.head()"
   ]
  },
  {
   "cell_type": "code",
   "execution_count": 43,
   "id": "0a484707",
   "metadata": {
    "execution": {
     "iopub.execute_input": "2022-03-08T11:25:35.460726Z",
     "iopub.status.busy": "2022-03-08T11:25:35.460032Z",
     "iopub.status.idle": "2022-03-08T11:25:35.557377Z",
     "shell.execute_reply": "2022-03-08T11:25:35.556848Z",
     "shell.execute_reply.started": "2022-03-08T11:05:11.694742Z"
    },
    "papermill": {
     "duration": 0.328308,
     "end_time": "2022-03-08T11:25:35.557533",
     "exception": false,
     "start_time": "2022-03-08T11:25:35.229225",
     "status": "completed"
    },
    "tags": []
   },
   "outputs": [],
   "source": [
    "X_subm = df_subm.drop(columns=\"row_id\")"
   ]
  },
  {
   "cell_type": "code",
   "execution_count": 44,
   "id": "47b3c640",
   "metadata": {
    "execution": {
     "iopub.execute_input": "2022-03-08T11:25:36.026746Z",
     "iopub.status.busy": "2022-03-08T11:25:36.026023Z",
     "iopub.status.idle": "2022-03-08T11:25:36.442836Z",
     "shell.execute_reply": "2022-03-08T11:25:36.443862Z",
     "shell.execute_reply.started": "2022-03-08T11:05:11.826614Z"
    },
    "papermill": {
     "duration": 0.658718,
     "end_time": "2022-03-08T11:25:36.444131",
     "exception": false,
     "start_time": "2022-03-08T11:25:35.785413",
     "status": "completed"
    },
    "tags": []
   },
   "outputs": [
    {
     "data": {
      "text/plain": [
       "(100000, 10)"
      ]
     },
     "execution_count": 44,
     "metadata": {},
     "output_type": "execute_result"
    }
   ],
   "source": [
    "# Standardize test set\n",
    "X_subm_st = st_scaler.transform(X_subm)\n",
    "X_subm_st.shape\n",
    "\n",
    "# PCA transform on test set\n",
    "X_subm_pca = pca.transform(X_subm_st)\n",
    "X_subm_pca.shape"
   ]
  },
  {
   "cell_type": "code",
   "execution_count": 45,
   "id": "53f1180c",
   "metadata": {
    "execution": {
     "iopub.execute_input": "2022-03-08T11:25:36.961745Z",
     "iopub.status.busy": "2022-03-08T11:25:36.960980Z",
     "iopub.status.idle": "2022-03-08T11:25:36.989113Z",
     "shell.execute_reply": "2022-03-08T11:25:36.989874Z",
     "shell.execute_reply.started": "2022-03-08T11:05:13.802456Z"
    },
    "papermill": {
     "duration": 0.266527,
     "end_time": "2022-03-08T11:25:36.990154",
     "exception": false,
     "start_time": "2022-03-08T11:25:36.723627",
     "status": "completed"
    },
    "tags": []
   },
   "outputs": [],
   "source": [
    "if use_neural_network:\n",
    "    # Predict probabilty distributions over possible labels\n",
    "    Y_subm_predicted_p = final_model.predict(X_subm_pca)\n",
    "    # Store the index of the most probable label\n",
    "    Y_subm_predicted = np.argmax(Y_subm_predicted_p, axis=1)\n",
    "else:\n",
    "    Y_subm_predicted = final_model.predict(X_subm_pca)\n",
    "\n",
    "# Convert label indexes to text\n",
    "Y_subm_predicted_labeled = label_encoder.inverse_transform(Y_subm_predicted)\n",
    "# Store the predicted targets in the dataframe\n",
    "df_subm_results[\"target\"] = Y_subm_predicted_labeled"
   ]
  },
  {
   "cell_type": "code",
   "execution_count": 46,
   "id": "6ab6c1c8",
   "metadata": {
    "execution": {
     "iopub.execute_input": "2022-03-08T11:25:37.466229Z",
     "iopub.status.busy": "2022-03-08T11:25:37.465372Z",
     "iopub.status.idle": "2022-03-08T11:25:37.470944Z",
     "shell.execute_reply": "2022-03-08T11:25:37.470414Z",
     "shell.execute_reply.started": "2022-03-08T11:05:16.081107Z"
    },
    "papermill": {
     "duration": 0.246497,
     "end_time": "2022-03-08T11:25:37.471092",
     "exception": false,
     "start_time": "2022-03-08T11:25:37.224595",
     "status": "completed"
    },
    "tags": []
   },
   "outputs": [
    {
     "data": {
      "text/html": [
       "<div>\n",
       "<style scoped>\n",
       "    .dataframe tbody tr th:only-of-type {\n",
       "        vertical-align: middle;\n",
       "    }\n",
       "\n",
       "    .dataframe tbody tr th {\n",
       "        vertical-align: top;\n",
       "    }\n",
       "\n",
       "    .dataframe thead th {\n",
       "        text-align: right;\n",
       "    }\n",
       "</style>\n",
       "<table border=\"1\" class=\"dataframe\">\n",
       "  <thead>\n",
       "    <tr style=\"text-align: right;\">\n",
       "      <th></th>\n",
       "      <th>row_id</th>\n",
       "      <th>target</th>\n",
       "    </tr>\n",
       "  </thead>\n",
       "  <tbody>\n",
       "    <tr>\n",
       "      <th>0</th>\n",
       "      <td>200000</td>\n",
       "      <td>Escherichia_fergusonii</td>\n",
       "    </tr>\n",
       "    <tr>\n",
       "      <th>1</th>\n",
       "      <td>200001</td>\n",
       "      <td>Salmonella_enterica</td>\n",
       "    </tr>\n",
       "    <tr>\n",
       "      <th>2</th>\n",
       "      <td>200002</td>\n",
       "      <td>Enterococcus_hirae</td>\n",
       "    </tr>\n",
       "    <tr>\n",
       "      <th>3</th>\n",
       "      <td>200003</td>\n",
       "      <td>Salmonella_enterica</td>\n",
       "    </tr>\n",
       "    <tr>\n",
       "      <th>4</th>\n",
       "      <td>200004</td>\n",
       "      <td>Staphylococcus_aureus</td>\n",
       "    </tr>\n",
       "  </tbody>\n",
       "</table>\n",
       "</div>"
      ],
      "text/plain": [
       "   row_id                  target\n",
       "0  200000  Escherichia_fergusonii\n",
       "1  200001     Salmonella_enterica\n",
       "2  200002      Enterococcus_hirae\n",
       "3  200003     Salmonella_enterica\n",
       "4  200004   Staphylococcus_aureus"
      ]
     },
     "execution_count": 46,
     "metadata": {},
     "output_type": "execute_result"
    }
   ],
   "source": [
    "df_subm_results.head()"
   ]
  },
  {
   "cell_type": "code",
   "execution_count": 47,
   "id": "1adff1ad",
   "metadata": {
    "execution": {
     "iopub.execute_input": "2022-03-08T11:25:37.972711Z",
     "iopub.status.busy": "2022-03-08T11:25:37.972037Z",
     "iopub.status.idle": "2022-03-08T11:25:38.226198Z",
     "shell.execute_reply": "2022-03-08T11:25:38.225509Z",
     "shell.execute_reply.started": "2022-03-08T11:05:19.429923Z"
    },
    "papermill": {
     "duration": 0.490475,
     "end_time": "2022-03-08T11:25:38.226341",
     "exception": false,
     "start_time": "2022-03-08T11:25:37.735866",
     "status": "completed"
    },
    "tags": []
   },
   "outputs": [],
   "source": [
    "df_subm_results.to_csv(\"submission.csv\", index=False)"
   ]
  },
  {
   "cell_type": "code",
   "execution_count": null,
   "id": "c027fda4",
   "metadata": {
    "papermill": {
     "duration": 0.231133,
     "end_time": "2022-03-08T11:25:38.684264",
     "exception": false,
     "start_time": "2022-03-08T11:25:38.453131",
     "status": "completed"
    },
    "tags": []
   },
   "outputs": [],
   "source": []
  },
  {
   "cell_type": "code",
   "execution_count": null,
   "id": "1b7f3d59",
   "metadata": {
    "papermill": {
     "duration": 0.23066,
     "end_time": "2022-03-08T11:25:39.146718",
     "exception": false,
     "start_time": "2022-03-08T11:25:38.916058",
     "status": "completed"
    },
    "tags": []
   },
   "outputs": [],
   "source": []
  }
 ],
 "metadata": {
  "kernelspec": {
   "display_name": "Python 3",
   "language": "python",
   "name": "python3"
  },
  "language_info": {
   "codemirror_mode": {
    "name": "ipython",
    "version": 3
   },
   "file_extension": ".py",
   "mimetype": "text/x-python",
   "name": "python",
   "nbconvert_exporter": "python",
   "pygments_lexer": "ipython3",
   "version": "3.7.12"
  },
  "papermill": {
   "default_parameters": {},
   "duration": 223.069155,
   "end_time": "2022-03-08T11:25:42.973630",
   "environment_variables": {},
   "exception": null,
   "input_path": "__notebook__.ipynb",
   "output_path": "__notebook__.ipynb",
   "parameters": {},
   "start_time": "2022-03-08T11:21:59.904475",
   "version": "2.3.3"
  }
 },
 "nbformat": 4,
 "nbformat_minor": 5
}
