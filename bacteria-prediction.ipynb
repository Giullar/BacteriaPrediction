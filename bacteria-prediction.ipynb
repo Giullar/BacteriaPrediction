{
 "cells": [
  {
   "cell_type": "markdown",
   "id": "8421c385",
   "metadata": {
    "_cell_guid": "b1076dfc-b9ad-4769-8c92-a6c4dae69d19",
    "_uuid": "8f2839f25d086af736a60e9eeb907d3b93b6e0e5",
    "execution": {
     "iopub.execute_input": "2022-03-02T14:33:46.222715Z",
     "iopub.status.busy": "2022-03-02T14:33:46.221872Z",
     "iopub.status.idle": "2022-03-02T14:33:46.251698Z",
     "shell.execute_reply": "2022-03-02T14:33:46.250819Z",
     "shell.execute_reply.started": "2022-03-02T14:33:46.222522Z"
    },
    "papermill": {
     "duration": 0.059865,
     "end_time": "2022-03-08T12:33:53.912819",
     "exception": false,
     "start_time": "2022-03-08T12:33:53.852954",
     "status": "completed"
    },
    "tags": []
   },
   "source": [
    "# **Bacteria Prediction**"
   ]
  },
  {
   "cell_type": "markdown",
   "id": "e1e05fc7",
   "metadata": {
    "papermill": {
     "duration": 0.058369,
     "end_time": "2022-03-08T12:33:54.031962",
     "exception": false,
     "start_time": "2022-03-08T12:33:53.973593",
     "status": "completed"
    },
    "tags": []
   },
   "source": [
    "## **Data Loading**"
   ]
  },
  {
   "cell_type": "code",
   "execution_count": 1,
   "id": "05df9aa1",
   "metadata": {
    "execution": {
     "iopub.execute_input": "2022-03-08T12:33:54.154147Z",
     "iopub.status.busy": "2022-03-08T12:33:54.152939Z",
     "iopub.status.idle": "2022-03-08T12:33:54.162072Z",
     "shell.execute_reply": "2022-03-08T12:33:54.162592Z",
     "shell.execute_reply.started": "2022-03-08T12:05:07.928598Z"
    },
    "papermill": {
     "duration": 0.071556,
     "end_time": "2022-03-08T12:33:54.162967",
     "exception": false,
     "start_time": "2022-03-08T12:33:54.091411",
     "status": "completed"
    },
    "tags": []
   },
   "outputs": [],
   "source": [
    "import os\n",
    "import numpy as np\n",
    "import pandas as pd\n",
    "import matplotlib.pyplot as plt\n",
    "\n",
    "# Global variables\n",
    "random_seed = 42"
   ]
  },
  {
   "cell_type": "code",
   "execution_count": 2,
   "id": "8a8b49d3",
   "metadata": {
    "execution": {
     "iopub.execute_input": "2022-03-08T12:33:54.284555Z",
     "iopub.status.busy": "2022-03-08T12:33:54.283883Z",
     "iopub.status.idle": "2022-03-08T12:33:54.289938Z",
     "shell.execute_reply": "2022-03-08T12:33:54.290863Z",
     "shell.execute_reply.started": "2022-03-08T12:05:07.947237Z"
    },
    "papermill": {
     "duration": 0.069256,
     "end_time": "2022-03-08T12:33:54.291096",
     "exception": false,
     "start_time": "2022-03-08T12:33:54.221840",
     "status": "completed"
    },
    "tags": []
   },
   "outputs": [
    {
     "name": "stdout",
     "output_type": "stream",
     "text": [
      "/kaggle/input/tabular-playground-series-feb-2022/sample_submission.csv\n",
      "/kaggle/input/tabular-playground-series-feb-2022/train.csv\n",
      "/kaggle/input/tabular-playground-series-feb-2022/test.csv\n"
     ]
    }
   ],
   "source": [
    "# Print directory structure\n",
    "for dirname, _, filenames in os.walk('/kaggle/input'):\n",
    "    for filename in filenames:\n",
    "        print(os.path.join(dirname, filename))"
   ]
  },
  {
   "cell_type": "code",
   "execution_count": 3,
   "id": "f590d5bf",
   "metadata": {
    "execution": {
     "iopub.execute_input": "2022-03-08T12:33:54.413118Z",
     "iopub.status.busy": "2022-03-08T12:33:54.412403Z",
     "iopub.status.idle": "2022-03-08T12:34:21.032845Z",
     "shell.execute_reply": "2022-03-08T12:34:21.033672Z",
     "shell.execute_reply.started": "2022-03-08T12:05:07.964777Z"
    },
    "papermill": {
     "duration": 26.682649,
     "end_time": "2022-03-08T12:34:21.033882",
     "exception": false,
     "start_time": "2022-03-08T12:33:54.351233",
     "status": "completed"
    },
    "tags": []
   },
   "outputs": [],
   "source": [
    "# Load training set\n",
    "df = pd.read_csv(\"/kaggle/input/tabular-playground-series-feb-2022/train.csv\")"
   ]
  },
  {
   "cell_type": "markdown",
   "id": "8b9cc2c1",
   "metadata": {
    "papermill": {
     "duration": 0.058972,
     "end_time": "2022-03-08T12:34:21.154278",
     "exception": false,
     "start_time": "2022-03-08T12:34:21.095306",
     "status": "completed"
    },
    "tags": []
   },
   "source": [
    "## **Data Analysis**"
   ]
  },
  {
   "cell_type": "code",
   "execution_count": 4,
   "id": "f5aba838",
   "metadata": {
    "execution": {
     "iopub.execute_input": "2022-03-08T12:34:21.276343Z",
     "iopub.status.busy": "2022-03-08T12:34:21.275705Z",
     "iopub.status.idle": "2022-03-08T12:34:21.282537Z",
     "shell.execute_reply": "2022-03-08T12:34:21.283085Z",
     "shell.execute_reply.started": "2022-03-08T12:05:20.555347Z"
    },
    "papermill": {
     "duration": 0.069188,
     "end_time": "2022-03-08T12:34:21.283253",
     "exception": false,
     "start_time": "2022-03-08T12:34:21.214065",
     "status": "completed"
    },
    "tags": []
   },
   "outputs": [
    {
     "data": {
      "text/plain": [
       "(200000, 288)"
      ]
     },
     "execution_count": 4,
     "metadata": {},
     "output_type": "execute_result"
    }
   ],
   "source": [
    "df.shape"
   ]
  },
  {
   "cell_type": "code",
   "execution_count": 5,
   "id": "2d6abebb",
   "metadata": {
    "execution": {
     "iopub.execute_input": "2022-03-08T12:34:21.414203Z",
     "iopub.status.busy": "2022-03-08T12:34:21.413504Z",
     "iopub.status.idle": "2022-03-08T12:34:21.438765Z",
     "shell.execute_reply": "2022-03-08T12:34:21.439339Z",
     "shell.execute_reply.started": "2022-03-08T12:05:20.563841Z"
    },
    "papermill": {
     "duration": 0.097668,
     "end_time": "2022-03-08T12:34:21.439508",
     "exception": false,
     "start_time": "2022-03-08T12:34:21.341840",
     "status": "completed"
    },
    "tags": []
   },
   "outputs": [
    {
     "data": {
      "text/html": [
       "<div>\n",
       "<style scoped>\n",
       "    .dataframe tbody tr th:only-of-type {\n",
       "        vertical-align: middle;\n",
       "    }\n",
       "\n",
       "    .dataframe tbody tr th {\n",
       "        vertical-align: top;\n",
       "    }\n",
       "\n",
       "    .dataframe thead th {\n",
       "        text-align: right;\n",
       "    }\n",
       "</style>\n",
       "<table border=\"1\" class=\"dataframe\">\n",
       "  <thead>\n",
       "    <tr style=\"text-align: right;\">\n",
       "      <th></th>\n",
       "      <th>row_id</th>\n",
       "      <th>A0T0G0C10</th>\n",
       "      <th>A0T0G1C9</th>\n",
       "      <th>A0T0G2C8</th>\n",
       "      <th>A0T0G3C7</th>\n",
       "      <th>A0T0G4C6</th>\n",
       "      <th>A0T0G5C5</th>\n",
       "      <th>A0T0G6C4</th>\n",
       "      <th>A0T0G7C3</th>\n",
       "      <th>A0T0G8C2</th>\n",
       "      <th>...</th>\n",
       "      <th>A8T0G1C1</th>\n",
       "      <th>A8T0G2C0</th>\n",
       "      <th>A8T1G0C1</th>\n",
       "      <th>A8T1G1C0</th>\n",
       "      <th>A8T2G0C0</th>\n",
       "      <th>A9T0G0C1</th>\n",
       "      <th>A9T0G1C0</th>\n",
       "      <th>A9T1G0C0</th>\n",
       "      <th>A10T0G0C0</th>\n",
       "      <th>target</th>\n",
       "    </tr>\n",
       "  </thead>\n",
       "  <tbody>\n",
       "    <tr>\n",
       "      <th>0</th>\n",
       "      <td>0</td>\n",
       "      <td>-9.536743e-07</td>\n",
       "      <td>-0.000010</td>\n",
       "      <td>-0.000043</td>\n",
       "      <td>-0.000114</td>\n",
       "      <td>-0.000200</td>\n",
       "      <td>-0.000240</td>\n",
       "      <td>-0.000200</td>\n",
       "      <td>-0.000114</td>\n",
       "      <td>-0.000043</td>\n",
       "      <td>...</td>\n",
       "      <td>-0.000086</td>\n",
       "      <td>-0.000043</td>\n",
       "      <td>-0.000086</td>\n",
       "      <td>-0.000086</td>\n",
       "      <td>-0.000043</td>\n",
       "      <td>-0.000010</td>\n",
       "      <td>-0.000010</td>\n",
       "      <td>-0.000010</td>\n",
       "      <td>-9.536743e-07</td>\n",
       "      <td>Streptococcus_pyogenes</td>\n",
       "    </tr>\n",
       "    <tr>\n",
       "      <th>1</th>\n",
       "      <td>1</td>\n",
       "      <td>-9.536743e-07</td>\n",
       "      <td>-0.000010</td>\n",
       "      <td>-0.000043</td>\n",
       "      <td>0.000886</td>\n",
       "      <td>-0.000200</td>\n",
       "      <td>0.000760</td>\n",
       "      <td>-0.000200</td>\n",
       "      <td>-0.000114</td>\n",
       "      <td>-0.000043</td>\n",
       "      <td>...</td>\n",
       "      <td>-0.000086</td>\n",
       "      <td>-0.000043</td>\n",
       "      <td>0.000914</td>\n",
       "      <td>0.000914</td>\n",
       "      <td>-0.000043</td>\n",
       "      <td>-0.000010</td>\n",
       "      <td>-0.000010</td>\n",
       "      <td>-0.000010</td>\n",
       "      <td>-9.536743e-07</td>\n",
       "      <td>Salmonella_enterica</td>\n",
       "    </tr>\n",
       "    <tr>\n",
       "      <th>2</th>\n",
       "      <td>2</td>\n",
       "      <td>-9.536743e-07</td>\n",
       "      <td>-0.000002</td>\n",
       "      <td>0.000007</td>\n",
       "      <td>0.000129</td>\n",
       "      <td>0.000268</td>\n",
       "      <td>0.000270</td>\n",
       "      <td>0.000243</td>\n",
       "      <td>0.000125</td>\n",
       "      <td>0.000001</td>\n",
       "      <td>...</td>\n",
       "      <td>0.000084</td>\n",
       "      <td>0.000048</td>\n",
       "      <td>0.000081</td>\n",
       "      <td>0.000106</td>\n",
       "      <td>0.000072</td>\n",
       "      <td>0.000010</td>\n",
       "      <td>0.000008</td>\n",
       "      <td>0.000019</td>\n",
       "      <td>1.046326e-06</td>\n",
       "      <td>Salmonella_enterica</td>\n",
       "    </tr>\n",
       "    <tr>\n",
       "      <th>3</th>\n",
       "      <td>3</td>\n",
       "      <td>4.632568e-08</td>\n",
       "      <td>-0.000006</td>\n",
       "      <td>0.000012</td>\n",
       "      <td>0.000245</td>\n",
       "      <td>0.000492</td>\n",
       "      <td>0.000522</td>\n",
       "      <td>0.000396</td>\n",
       "      <td>0.000197</td>\n",
       "      <td>-0.000003</td>\n",
       "      <td>...</td>\n",
       "      <td>0.000151</td>\n",
       "      <td>0.000100</td>\n",
       "      <td>0.000180</td>\n",
       "      <td>0.000202</td>\n",
       "      <td>0.000153</td>\n",
       "      <td>0.000021</td>\n",
       "      <td>0.000015</td>\n",
       "      <td>0.000046</td>\n",
       "      <td>-9.536743e-07</td>\n",
       "      <td>Salmonella_enterica</td>\n",
       "    </tr>\n",
       "    <tr>\n",
       "      <th>4</th>\n",
       "      <td>4</td>\n",
       "      <td>-9.536743e-07</td>\n",
       "      <td>-0.000010</td>\n",
       "      <td>-0.000043</td>\n",
       "      <td>-0.000114</td>\n",
       "      <td>-0.000200</td>\n",
       "      <td>-0.000240</td>\n",
       "      <td>-0.000200</td>\n",
       "      <td>-0.000114</td>\n",
       "      <td>-0.000043</td>\n",
       "      <td>...</td>\n",
       "      <td>-0.000086</td>\n",
       "      <td>-0.000043</td>\n",
       "      <td>-0.000086</td>\n",
       "      <td>-0.000086</td>\n",
       "      <td>-0.000043</td>\n",
       "      <td>-0.000010</td>\n",
       "      <td>-0.000010</td>\n",
       "      <td>-0.000010</td>\n",
       "      <td>-9.536743e-07</td>\n",
       "      <td>Enterococcus_hirae</td>\n",
       "    </tr>\n",
       "  </tbody>\n",
       "</table>\n",
       "<p>5 rows × 288 columns</p>\n",
       "</div>"
      ],
      "text/plain": [
       "   row_id     A0T0G0C10  A0T0G1C9  A0T0G2C8  A0T0G3C7  A0T0G4C6  A0T0G5C5  \\\n",
       "0       0 -9.536743e-07 -0.000010 -0.000043 -0.000114 -0.000200 -0.000240   \n",
       "1       1 -9.536743e-07 -0.000010 -0.000043  0.000886 -0.000200  0.000760   \n",
       "2       2 -9.536743e-07 -0.000002  0.000007  0.000129  0.000268  0.000270   \n",
       "3       3  4.632568e-08 -0.000006  0.000012  0.000245  0.000492  0.000522   \n",
       "4       4 -9.536743e-07 -0.000010 -0.000043 -0.000114 -0.000200 -0.000240   \n",
       "\n",
       "   A0T0G6C4  A0T0G7C3  A0T0G8C2  ...  A8T0G1C1  A8T0G2C0  A8T1G0C1  A8T1G1C0  \\\n",
       "0 -0.000200 -0.000114 -0.000043  ... -0.000086 -0.000043 -0.000086 -0.000086   \n",
       "1 -0.000200 -0.000114 -0.000043  ... -0.000086 -0.000043  0.000914  0.000914   \n",
       "2  0.000243  0.000125  0.000001  ...  0.000084  0.000048  0.000081  0.000106   \n",
       "3  0.000396  0.000197 -0.000003  ...  0.000151  0.000100  0.000180  0.000202   \n",
       "4 -0.000200 -0.000114 -0.000043  ... -0.000086 -0.000043 -0.000086 -0.000086   \n",
       "\n",
       "   A8T2G0C0  A9T0G0C1  A9T0G1C0  A9T1G0C0     A10T0G0C0  \\\n",
       "0 -0.000043 -0.000010 -0.000010 -0.000010 -9.536743e-07   \n",
       "1 -0.000043 -0.000010 -0.000010 -0.000010 -9.536743e-07   \n",
       "2  0.000072  0.000010  0.000008  0.000019  1.046326e-06   \n",
       "3  0.000153  0.000021  0.000015  0.000046 -9.536743e-07   \n",
       "4 -0.000043 -0.000010 -0.000010 -0.000010 -9.536743e-07   \n",
       "\n",
       "                   target  \n",
       "0  Streptococcus_pyogenes  \n",
       "1     Salmonella_enterica  \n",
       "2     Salmonella_enterica  \n",
       "3     Salmonella_enterica  \n",
       "4      Enterococcus_hirae  \n",
       "\n",
       "[5 rows x 288 columns]"
      ]
     },
     "execution_count": 5,
     "metadata": {},
     "output_type": "execute_result"
    }
   ],
   "source": [
    "df.head()"
   ]
  },
  {
   "cell_type": "code",
   "execution_count": 6,
   "id": "76426a03",
   "metadata": {
    "execution": {
     "iopub.execute_input": "2022-03-08T12:34:21.562037Z",
     "iopub.status.busy": "2022-03-08T12:34:21.561359Z",
     "iopub.status.idle": "2022-03-08T12:34:21.568359Z",
     "shell.execute_reply": "2022-03-08T12:34:21.568941Z",
     "shell.execute_reply.started": "2022-03-08T12:05:20.595779Z"
    },
    "papermill": {
     "duration": 0.070133,
     "end_time": "2022-03-08T12:34:21.569117",
     "exception": false,
     "start_time": "2022-03-08T12:34:21.498984",
     "status": "completed"
    },
    "tags": []
   },
   "outputs": [
    {
     "data": {
      "text/plain": [
       "row_id         int64\n",
       "A0T0G0C10    float64\n",
       "A0T0G1C9     float64\n",
       "A0T0G2C8     float64\n",
       "A0T0G3C7     float64\n",
       "              ...   \n",
       "A9T0G0C1     float64\n",
       "A9T0G1C0     float64\n",
       "A9T1G0C0     float64\n",
       "A10T0G0C0    float64\n",
       "target        object\n",
       "Length: 288, dtype: object"
      ]
     },
     "execution_count": 6,
     "metadata": {},
     "output_type": "execute_result"
    }
   ],
   "source": [
    "df.dtypes"
   ]
  },
  {
   "cell_type": "code",
   "execution_count": 7,
   "id": "da3c0b0a",
   "metadata": {
    "execution": {
     "iopub.execute_input": "2022-03-08T12:34:21.693917Z",
     "iopub.status.busy": "2022-03-08T12:34:21.693213Z",
     "iopub.status.idle": "2022-03-08T12:34:21.872064Z",
     "shell.execute_reply": "2022-03-08T12:34:21.871442Z",
     "shell.execute_reply.started": "2022-03-08T12:05:20.609589Z"
    },
    "papermill": {
     "duration": 0.242527,
     "end_time": "2022-03-08T12:34:21.872223",
     "exception": false,
     "start_time": "2022-03-08T12:34:21.629696",
     "status": "completed"
    },
    "tags": []
   },
   "outputs": [
    {
     "data": {
      "text/plain": [
       "(200000, 287)"
      ]
     },
     "execution_count": 7,
     "metadata": {},
     "output_type": "execute_result"
    }
   ],
   "source": [
    "# We drop the row_id column because we will not use it\n",
    "df.drop(columns=[\"row_id\"], inplace=True)\n",
    "df.shape"
   ]
  },
  {
   "cell_type": "code",
   "execution_count": 8,
   "id": "9253c844",
   "metadata": {
    "execution": {
     "iopub.execute_input": "2022-03-08T12:34:22.000804Z",
     "iopub.status.busy": "2022-03-08T12:34:22.000079Z",
     "iopub.status.idle": "2022-03-08T12:34:22.133227Z",
     "shell.execute_reply": "2022-03-08T12:34:22.132621Z",
     "shell.execute_reply.started": "2022-03-08T12:05:20.802513Z"
    },
    "papermill": {
     "duration": 0.199533,
     "end_time": "2022-03-08T12:34:22.133378",
     "exception": false,
     "start_time": "2022-03-08T12:34:21.933845",
     "status": "completed"
    },
    "tags": []
   },
   "outputs": [
    {
     "data": {
      "text/plain": [
       "False"
      ]
     },
     "execution_count": 8,
     "metadata": {},
     "output_type": "execute_result"
    }
   ],
   "source": [
    "# Check the presence of null values\n",
    "df.isnull().values.any()"
   ]
  },
  {
   "cell_type": "code",
   "execution_count": 9,
   "id": "8356e976",
   "metadata": {
    "execution": {
     "iopub.execute_input": "2022-03-08T12:34:22.262179Z",
     "iopub.status.busy": "2022-03-08T12:34:22.259609Z",
     "iopub.status.idle": "2022-03-08T12:34:22.428540Z",
     "shell.execute_reply": "2022-03-08T12:34:22.427877Z",
     "shell.execute_reply.started": "2022-03-08T12:05:20.935236Z"
    },
    "papermill": {
     "duration": 0.233253,
     "end_time": "2022-03-08T12:34:22.428699",
     "exception": false,
     "start_time": "2022-03-08T12:34:22.195446",
     "status": "completed"
    },
    "tags": []
   },
   "outputs": [
    {
     "data": {
      "text/plain": [
       "True"
      ]
     },
     "execution_count": 9,
     "metadata": {},
     "output_type": "execute_result"
    }
   ],
   "source": [
    "# Check that all the values in the dataframe are not equal to zero\n",
    "df.all().all()"
   ]
  },
  {
   "cell_type": "markdown",
   "id": "0cd8c537",
   "metadata": {
    "papermill": {
     "duration": 0.063865,
     "end_time": "2022-03-08T12:34:22.554728",
     "exception": false,
     "start_time": "2022-03-08T12:34:22.490863",
     "status": "completed"
    },
    "tags": []
   },
   "source": [
    "As we have seen, in the dataframe there aren't null or 0 values."
   ]
  },
  {
   "cell_type": "code",
   "execution_count": 10,
   "id": "2bc699ea",
   "metadata": {
    "execution": {
     "iopub.execute_input": "2022-03-08T12:34:22.687107Z",
     "iopub.status.busy": "2022-03-08T12:34:22.686401Z",
     "iopub.status.idle": "2022-03-08T12:34:25.873378Z",
     "shell.execute_reply": "2022-03-08T12:34:25.873959Z",
     "shell.execute_reply.started": "2022-03-08T12:05:21.090719Z"
    },
    "papermill": {
     "duration": 3.256676,
     "end_time": "2022-03-08T12:34:25.874148",
     "exception": false,
     "start_time": "2022-03-08T12:34:22.617472",
     "status": "completed"
    },
    "tags": []
   },
   "outputs": [
    {
     "data": {
      "text/html": [
       "<div>\n",
       "<style scoped>\n",
       "    .dataframe tbody tr th:only-of-type {\n",
       "        vertical-align: middle;\n",
       "    }\n",
       "\n",
       "    .dataframe tbody tr th {\n",
       "        vertical-align: top;\n",
       "    }\n",
       "\n",
       "    .dataframe thead th {\n",
       "        text-align: right;\n",
       "    }\n",
       "</style>\n",
       "<table border=\"1\" class=\"dataframe\">\n",
       "  <thead>\n",
       "    <tr style=\"text-align: right;\">\n",
       "      <th></th>\n",
       "      <th>A0T0G0C10</th>\n",
       "      <th>A0T0G1C9</th>\n",
       "      <th>A0T0G2C8</th>\n",
       "      <th>A0T0G3C7</th>\n",
       "      <th>A0T0G4C6</th>\n",
       "      <th>A0T0G5C5</th>\n",
       "      <th>A0T0G6C4</th>\n",
       "      <th>A0T0G7C3</th>\n",
       "      <th>A0T0G8C2</th>\n",
       "      <th>A0T0G9C1</th>\n",
       "      <th>...</th>\n",
       "      <th>A8T0G0C2</th>\n",
       "      <th>A8T0G1C1</th>\n",
       "      <th>A8T0G2C0</th>\n",
       "      <th>A8T1G0C1</th>\n",
       "      <th>A8T1G1C0</th>\n",
       "      <th>A8T2G0C0</th>\n",
       "      <th>A9T0G0C1</th>\n",
       "      <th>A9T0G1C0</th>\n",
       "      <th>A9T1G0C0</th>\n",
       "      <th>A10T0G0C0</th>\n",
       "    </tr>\n",
       "  </thead>\n",
       "  <tbody>\n",
       "    <tr>\n",
       "      <th>count</th>\n",
       "      <td>2.000000e+05</td>\n",
       "      <td>200000.000000</td>\n",
       "      <td>200000.000000</td>\n",
       "      <td>200000.000000</td>\n",
       "      <td>200000.000000</td>\n",
       "      <td>200000.000000</td>\n",
       "      <td>200000.000000</td>\n",
       "      <td>200000.000000</td>\n",
       "      <td>200000.000000</td>\n",
       "      <td>200000.000000</td>\n",
       "      <td>...</td>\n",
       "      <td>200000.000000</td>\n",
       "      <td>200000.000000</td>\n",
       "      <td>200000.000000</td>\n",
       "      <td>200000.000000</td>\n",
       "      <td>200000.000000</td>\n",
       "      <td>200000.000000</td>\n",
       "      <td>200000.000000</td>\n",
       "      <td>2.000000e+05</td>\n",
       "      <td>2.000000e+05</td>\n",
       "      <td>2.000000e+05</td>\n",
       "    </tr>\n",
       "    <tr>\n",
       "      <th>mean</th>\n",
       "      <td>6.421457e-07</td>\n",
       "      <td>-0.000003</td>\n",
       "      <td>-0.000014</td>\n",
       "      <td>-0.000010</td>\n",
       "      <td>0.000005</td>\n",
       "      <td>0.000025</td>\n",
       "      <td>0.000014</td>\n",
       "      <td>-0.000009</td>\n",
       "      <td>-0.000028</td>\n",
       "      <td>-0.000008</td>\n",
       "      <td>...</td>\n",
       "      <td>0.000135</td>\n",
       "      <td>0.000348</td>\n",
       "      <td>0.000253</td>\n",
       "      <td>0.000464</td>\n",
       "      <td>0.000581</td>\n",
       "      <td>0.000379</td>\n",
       "      <td>0.000062</td>\n",
       "      <td>8.982134e-05</td>\n",
       "      <td>1.170014e-04</td>\n",
       "      <td>2.215407e-07</td>\n",
       "    </tr>\n",
       "    <tr>\n",
       "      <th>std</th>\n",
       "      <td>8.654927e-05</td>\n",
       "      <td>0.000132</td>\n",
       "      <td>0.000287</td>\n",
       "      <td>0.000436</td>\n",
       "      <td>0.000683</td>\n",
       "      <td>0.000869</td>\n",
       "      <td>0.000775</td>\n",
       "      <td>0.000441</td>\n",
       "      <td>0.000107</td>\n",
       "      <td>0.000083</td>\n",
       "      <td>...</td>\n",
       "      <td>0.000711</td>\n",
       "      <td>0.001117</td>\n",
       "      <td>0.000914</td>\n",
       "      <td>0.001238</td>\n",
       "      <td>0.001528</td>\n",
       "      <td>0.001182</td>\n",
       "      <td>0.000466</td>\n",
       "      <td>5.475606e-04</td>\n",
       "      <td>6.788277e-04</td>\n",
       "      <td>2.050081e-05</td>\n",
       "    </tr>\n",
       "    <tr>\n",
       "      <th>min</th>\n",
       "      <td>-9.536743e-07</td>\n",
       "      <td>-0.000010</td>\n",
       "      <td>-0.000043</td>\n",
       "      <td>-0.000114</td>\n",
       "      <td>-0.000200</td>\n",
       "      <td>-0.000240</td>\n",
       "      <td>-0.000200</td>\n",
       "      <td>-0.000114</td>\n",
       "      <td>-0.000043</td>\n",
       "      <td>-0.000010</td>\n",
       "      <td>...</td>\n",
       "      <td>-0.000043</td>\n",
       "      <td>-0.000086</td>\n",
       "      <td>-0.000043</td>\n",
       "      <td>-0.000086</td>\n",
       "      <td>-0.000086</td>\n",
       "      <td>-0.000043</td>\n",
       "      <td>-0.000010</td>\n",
       "      <td>-9.536743e-06</td>\n",
       "      <td>-9.536743e-06</td>\n",
       "      <td>-9.536743e-07</td>\n",
       "    </tr>\n",
       "    <tr>\n",
       "      <th>25%</th>\n",
       "      <td>-9.536743e-07</td>\n",
       "      <td>-0.000010</td>\n",
       "      <td>-0.000043</td>\n",
       "      <td>-0.000114</td>\n",
       "      <td>-0.000200</td>\n",
       "      <td>-0.000240</td>\n",
       "      <td>-0.000200</td>\n",
       "      <td>-0.000114</td>\n",
       "      <td>-0.000043</td>\n",
       "      <td>-0.000010</td>\n",
       "      <td>...</td>\n",
       "      <td>-0.000043</td>\n",
       "      <td>-0.000086</td>\n",
       "      <td>-0.000043</td>\n",
       "      <td>-0.000086</td>\n",
       "      <td>-0.000086</td>\n",
       "      <td>-0.000043</td>\n",
       "      <td>-0.000010</td>\n",
       "      <td>-9.536743e-06</td>\n",
       "      <td>-9.536743e-06</td>\n",
       "      <td>-9.536743e-07</td>\n",
       "    </tr>\n",
       "    <tr>\n",
       "      <th>50%</th>\n",
       "      <td>-9.536743e-07</td>\n",
       "      <td>-0.000010</td>\n",
       "      <td>-0.000043</td>\n",
       "      <td>-0.000114</td>\n",
       "      <td>-0.000200</td>\n",
       "      <td>-0.000237</td>\n",
       "      <td>-0.000199</td>\n",
       "      <td>-0.000114</td>\n",
       "      <td>-0.000043</td>\n",
       "      <td>-0.000010</td>\n",
       "      <td>...</td>\n",
       "      <td>0.000014</td>\n",
       "      <td>0.000064</td>\n",
       "      <td>0.000047</td>\n",
       "      <td>0.000124</td>\n",
       "      <td>0.000114</td>\n",
       "      <td>0.000043</td>\n",
       "      <td>-0.000010</td>\n",
       "      <td>4.632568e-07</td>\n",
       "      <td>4.632568e-07</td>\n",
       "      <td>-9.536743e-07</td>\n",
       "    </tr>\n",
       "    <tr>\n",
       "      <th>75%</th>\n",
       "      <td>-9.536743e-07</td>\n",
       "      <td>-0.000003</td>\n",
       "      <td>-0.000013</td>\n",
       "      <td>-0.000004</td>\n",
       "      <td>-0.000011</td>\n",
       "      <td>0.000003</td>\n",
       "      <td>-0.000030</td>\n",
       "      <td>0.000004</td>\n",
       "      <td>-0.000028</td>\n",
       "      <td>-0.000010</td>\n",
       "      <td>...</td>\n",
       "      <td>0.000111</td>\n",
       "      <td>0.000463</td>\n",
       "      <td>0.000297</td>\n",
       "      <td>0.000684</td>\n",
       "      <td>0.000774</td>\n",
       "      <td>0.000365</td>\n",
       "      <td>0.000030</td>\n",
       "      <td>6.046326e-05</td>\n",
       "      <td>6.946326e-05</td>\n",
       "      <td>-9.536743e-07</td>\n",
       "    </tr>\n",
       "    <tr>\n",
       "      <th>max</th>\n",
       "      <td>9.999046e-03</td>\n",
       "      <td>0.009990</td>\n",
       "      <td>0.009957</td>\n",
       "      <td>0.009886</td>\n",
       "      <td>0.019800</td>\n",
       "      <td>0.019760</td>\n",
       "      <td>0.019800</td>\n",
       "      <td>0.009886</td>\n",
       "      <td>0.009957</td>\n",
       "      <td>0.009990</td>\n",
       "      <td>...</td>\n",
       "      <td>0.019957</td>\n",
       "      <td>0.019914</td>\n",
       "      <td>0.019957</td>\n",
       "      <td>0.019914</td>\n",
       "      <td>0.019914</td>\n",
       "      <td>0.019957</td>\n",
       "      <td>0.009990</td>\n",
       "      <td>9.990463e-03</td>\n",
       "      <td>1.999046e-02</td>\n",
       "      <td>9.990463e-04</td>\n",
       "    </tr>\n",
       "  </tbody>\n",
       "</table>\n",
       "<p>8 rows × 286 columns</p>\n",
       "</div>"
      ],
      "text/plain": [
       "          A0T0G0C10       A0T0G1C9       A0T0G2C8       A0T0G3C7  \\\n",
       "count  2.000000e+05  200000.000000  200000.000000  200000.000000   \n",
       "mean   6.421457e-07      -0.000003      -0.000014      -0.000010   \n",
       "std    8.654927e-05       0.000132       0.000287       0.000436   \n",
       "min   -9.536743e-07      -0.000010      -0.000043      -0.000114   \n",
       "25%   -9.536743e-07      -0.000010      -0.000043      -0.000114   \n",
       "50%   -9.536743e-07      -0.000010      -0.000043      -0.000114   \n",
       "75%   -9.536743e-07      -0.000003      -0.000013      -0.000004   \n",
       "max    9.999046e-03       0.009990       0.009957       0.009886   \n",
       "\n",
       "            A0T0G4C6       A0T0G5C5       A0T0G6C4       A0T0G7C3  \\\n",
       "count  200000.000000  200000.000000  200000.000000  200000.000000   \n",
       "mean        0.000005       0.000025       0.000014      -0.000009   \n",
       "std         0.000683       0.000869       0.000775       0.000441   \n",
       "min        -0.000200      -0.000240      -0.000200      -0.000114   \n",
       "25%        -0.000200      -0.000240      -0.000200      -0.000114   \n",
       "50%        -0.000200      -0.000237      -0.000199      -0.000114   \n",
       "75%        -0.000011       0.000003      -0.000030       0.000004   \n",
       "max         0.019800       0.019760       0.019800       0.009886   \n",
       "\n",
       "            A0T0G8C2       A0T0G9C1  ...       A8T0G0C2       A8T0G1C1  \\\n",
       "count  200000.000000  200000.000000  ...  200000.000000  200000.000000   \n",
       "mean       -0.000028      -0.000008  ...       0.000135       0.000348   \n",
       "std         0.000107       0.000083  ...       0.000711       0.001117   \n",
       "min        -0.000043      -0.000010  ...      -0.000043      -0.000086   \n",
       "25%        -0.000043      -0.000010  ...      -0.000043      -0.000086   \n",
       "50%        -0.000043      -0.000010  ...       0.000014       0.000064   \n",
       "75%        -0.000028      -0.000010  ...       0.000111       0.000463   \n",
       "max         0.009957       0.009990  ...       0.019957       0.019914   \n",
       "\n",
       "            A8T0G2C0       A8T1G0C1       A8T1G1C0       A8T2G0C0  \\\n",
       "count  200000.000000  200000.000000  200000.000000  200000.000000   \n",
       "mean        0.000253       0.000464       0.000581       0.000379   \n",
       "std         0.000914       0.001238       0.001528       0.001182   \n",
       "min        -0.000043      -0.000086      -0.000086      -0.000043   \n",
       "25%        -0.000043      -0.000086      -0.000086      -0.000043   \n",
       "50%         0.000047       0.000124       0.000114       0.000043   \n",
       "75%         0.000297       0.000684       0.000774       0.000365   \n",
       "max         0.019957       0.019914       0.019914       0.019957   \n",
       "\n",
       "            A9T0G0C1      A9T0G1C0      A9T1G0C0     A10T0G0C0  \n",
       "count  200000.000000  2.000000e+05  2.000000e+05  2.000000e+05  \n",
       "mean        0.000062  8.982134e-05  1.170014e-04  2.215407e-07  \n",
       "std         0.000466  5.475606e-04  6.788277e-04  2.050081e-05  \n",
       "min        -0.000010 -9.536743e-06 -9.536743e-06 -9.536743e-07  \n",
       "25%        -0.000010 -9.536743e-06 -9.536743e-06 -9.536743e-07  \n",
       "50%        -0.000010  4.632568e-07  4.632568e-07 -9.536743e-07  \n",
       "75%         0.000030  6.046326e-05  6.946326e-05 -9.536743e-07  \n",
       "max         0.009990  9.990463e-03  1.999046e-02  9.990463e-04  \n",
       "\n",
       "[8 rows x 286 columns]"
      ]
     },
     "execution_count": 10,
     "metadata": {},
     "output_type": "execute_result"
    }
   ],
   "source": [
    "df.describe()"
   ]
  },
  {
   "cell_type": "code",
   "execution_count": 11,
   "id": "bd03abd2",
   "metadata": {
    "execution": {
     "iopub.execute_input": "2022-03-08T12:34:26.039011Z",
     "iopub.status.busy": "2022-03-08T12:34:26.038213Z",
     "iopub.status.idle": "2022-03-08T12:34:26.350326Z",
     "shell.execute_reply": "2022-03-08T12:34:26.349788Z",
     "shell.execute_reply.started": "2022-03-08T12:05:23.782308Z"
    },
    "papermill": {
     "duration": 0.411626,
     "end_time": "2022-03-08T12:34:26.350465",
     "exception": false,
     "start_time": "2022-03-08T12:34:25.938839",
     "status": "completed"
    },
    "tags": []
   },
   "outputs": [
    {
     "data": {
      "image/png": "[encoded data removed]",
      "text/plain": [
       "<Figure size 432x288 with 1 Axes>"
      ]
     },
     "metadata": {
      "needs_background": "light"
     },
     "output_type": "display_data"
    }
   ],
   "source": [
    "# Plot the distribution of values for the target column\n",
    "df[\"target\"].value_counts().plot(kind=\"bar\");"
   ]
  },
  {
   "cell_type": "markdown",
   "id": "d3841ce5",
   "metadata": {
    "papermill": {
     "duration": 0.064477,
     "end_time": "2022-03-08T12:34:26.480761",
     "exception": false,
     "start_time": "2022-03-08T12:34:26.416284",
     "status": "completed"
    },
    "tags": []
   },
   "source": [
    "As we can see, the different classes in the dataset are balanced."
   ]
  },
  {
   "cell_type": "markdown",
   "id": "daeb21d1",
   "metadata": {
    "papermill": {
     "duration": 0.063304,
     "end_time": "2022-03-08T12:34:26.610138",
     "exception": false,
     "start_time": "2022-03-08T12:34:26.546834",
     "status": "completed"
    },
    "tags": []
   },
   "source": [
    "## **Target Labels Encoding**"
   ]
  },
  {
   "cell_type": "code",
   "execution_count": 12,
   "id": "9a5d862f",
   "metadata": {
    "execution": {
     "iopub.execute_input": "2022-03-08T12:34:26.740715Z",
     "iopub.status.busy": "2022-03-08T12:34:26.740052Z",
     "iopub.status.idle": "2022-03-08T12:34:27.715848Z",
     "shell.execute_reply": "2022-03-08T12:34:27.715176Z",
     "shell.execute_reply.started": "2022-03-08T12:05:24.010181Z"
    },
    "papermill": {
     "duration": 1.042105,
     "end_time": "2022-03-08T12:34:27.716002",
     "exception": false,
     "start_time": "2022-03-08T12:34:26.673897",
     "status": "completed"
    },
    "tags": []
   },
   "outputs": [],
   "source": [
    "from sklearn.preprocessing import LabelEncoder"
   ]
  },
  {
   "cell_type": "code",
   "execution_count": 13,
   "id": "4d1f3745",
   "metadata": {
    "execution": {
     "iopub.execute_input": "2022-03-08T12:34:27.862961Z",
     "iopub.status.busy": "2022-03-08T12:34:27.862181Z",
     "iopub.status.idle": "2022-03-08T12:34:27.933146Z",
     "shell.execute_reply": "2022-03-08T12:34:27.933655Z",
     "shell.execute_reply.started": "2022-03-08T12:05:24.015507Z"
    },
    "papermill": {
     "duration": 0.152137,
     "end_time": "2022-03-08T12:34:27.933837",
     "exception": false,
     "start_time": "2022-03-08T12:34:27.781700",
     "status": "completed"
    },
    "tags": []
   },
   "outputs": [
    {
     "data": {
      "text/html": [
       "<div>\n",
       "<style scoped>\n",
       "    .dataframe tbody tr th:only-of-type {\n",
       "        vertical-align: middle;\n",
       "    }\n",
       "\n",
       "    .dataframe tbody tr th {\n",
       "        vertical-align: top;\n",
       "    }\n",
       "\n",
       "    .dataframe thead th {\n",
       "        text-align: right;\n",
       "    }\n",
       "</style>\n",
       "<table border=\"1\" class=\"dataframe\">\n",
       "  <thead>\n",
       "    <tr style=\"text-align: right;\">\n",
       "      <th></th>\n",
       "      <th>A0T0G0C10</th>\n",
       "      <th>A0T0G1C9</th>\n",
       "      <th>A0T0G2C8</th>\n",
       "      <th>A0T0G3C7</th>\n",
       "      <th>A0T0G4C6</th>\n",
       "      <th>A0T0G5C5</th>\n",
       "      <th>A0T0G6C4</th>\n",
       "      <th>A0T0G7C3</th>\n",
       "      <th>A0T0G8C2</th>\n",
       "      <th>A0T0G9C1</th>\n",
       "      <th>...</th>\n",
       "      <th>A8T0G1C1</th>\n",
       "      <th>A8T0G2C0</th>\n",
       "      <th>A8T1G0C1</th>\n",
       "      <th>A8T1G1C0</th>\n",
       "      <th>A8T2G0C0</th>\n",
       "      <th>A9T0G0C1</th>\n",
       "      <th>A9T0G1C0</th>\n",
       "      <th>A9T1G0C0</th>\n",
       "      <th>A10T0G0C0</th>\n",
       "      <th>target</th>\n",
       "    </tr>\n",
       "  </thead>\n",
       "  <tbody>\n",
       "    <tr>\n",
       "      <th>0</th>\n",
       "      <td>-9.536743e-07</td>\n",
       "      <td>-0.000010</td>\n",
       "      <td>-0.000043</td>\n",
       "      <td>-0.000114</td>\n",
       "      <td>-0.000200</td>\n",
       "      <td>-0.000240</td>\n",
       "      <td>-0.000200</td>\n",
       "      <td>-0.000114</td>\n",
       "      <td>-0.000043</td>\n",
       "      <td>-0.000010</td>\n",
       "      <td>...</td>\n",
       "      <td>-0.000086</td>\n",
       "      <td>-0.000043</td>\n",
       "      <td>-0.000086</td>\n",
       "      <td>-0.000086</td>\n",
       "      <td>-0.000043</td>\n",
       "      <td>-0.000010</td>\n",
       "      <td>-0.000010</td>\n",
       "      <td>-0.000010</td>\n",
       "      <td>-9.536743e-07</td>\n",
       "      <td>9</td>\n",
       "    </tr>\n",
       "    <tr>\n",
       "      <th>1</th>\n",
       "      <td>-9.536743e-07</td>\n",
       "      <td>-0.000010</td>\n",
       "      <td>-0.000043</td>\n",
       "      <td>0.000886</td>\n",
       "      <td>-0.000200</td>\n",
       "      <td>0.000760</td>\n",
       "      <td>-0.000200</td>\n",
       "      <td>-0.000114</td>\n",
       "      <td>-0.000043</td>\n",
       "      <td>-0.000010</td>\n",
       "      <td>...</td>\n",
       "      <td>-0.000086</td>\n",
       "      <td>-0.000043</td>\n",
       "      <td>0.000914</td>\n",
       "      <td>0.000914</td>\n",
       "      <td>-0.000043</td>\n",
       "      <td>-0.000010</td>\n",
       "      <td>-0.000010</td>\n",
       "      <td>-0.000010</td>\n",
       "      <td>-9.536743e-07</td>\n",
       "      <td>6</td>\n",
       "    </tr>\n",
       "    <tr>\n",
       "      <th>2</th>\n",
       "      <td>-9.536743e-07</td>\n",
       "      <td>-0.000002</td>\n",
       "      <td>0.000007</td>\n",
       "      <td>0.000129</td>\n",
       "      <td>0.000268</td>\n",
       "      <td>0.000270</td>\n",
       "      <td>0.000243</td>\n",
       "      <td>0.000125</td>\n",
       "      <td>0.000001</td>\n",
       "      <td>-0.000007</td>\n",
       "      <td>...</td>\n",
       "      <td>0.000084</td>\n",
       "      <td>0.000048</td>\n",
       "      <td>0.000081</td>\n",
       "      <td>0.000106</td>\n",
       "      <td>0.000072</td>\n",
       "      <td>0.000010</td>\n",
       "      <td>0.000008</td>\n",
       "      <td>0.000019</td>\n",
       "      <td>1.046326e-06</td>\n",
       "      <td>6</td>\n",
       "    </tr>\n",
       "    <tr>\n",
       "      <th>3</th>\n",
       "      <td>4.632568e-08</td>\n",
       "      <td>-0.000006</td>\n",
       "      <td>0.000012</td>\n",
       "      <td>0.000245</td>\n",
       "      <td>0.000492</td>\n",
       "      <td>0.000522</td>\n",
       "      <td>0.000396</td>\n",
       "      <td>0.000197</td>\n",
       "      <td>-0.000003</td>\n",
       "      <td>-0.000007</td>\n",
       "      <td>...</td>\n",
       "      <td>0.000151</td>\n",
       "      <td>0.000100</td>\n",
       "      <td>0.000180</td>\n",
       "      <td>0.000202</td>\n",
       "      <td>0.000153</td>\n",
       "      <td>0.000021</td>\n",
       "      <td>0.000015</td>\n",
       "      <td>0.000046</td>\n",
       "      <td>-9.536743e-07</td>\n",
       "      <td>6</td>\n",
       "    </tr>\n",
       "    <tr>\n",
       "      <th>4</th>\n",
       "      <td>-9.536743e-07</td>\n",
       "      <td>-0.000010</td>\n",
       "      <td>-0.000043</td>\n",
       "      <td>-0.000114</td>\n",
       "      <td>-0.000200</td>\n",
       "      <td>-0.000240</td>\n",
       "      <td>-0.000200</td>\n",
       "      <td>-0.000114</td>\n",
       "      <td>-0.000043</td>\n",
       "      <td>-0.000010</td>\n",
       "      <td>...</td>\n",
       "      <td>-0.000086</td>\n",
       "      <td>-0.000043</td>\n",
       "      <td>-0.000086</td>\n",
       "      <td>-0.000086</td>\n",
       "      <td>-0.000043</td>\n",
       "      <td>-0.000010</td>\n",
       "      <td>-0.000010</td>\n",
       "      <td>-0.000010</td>\n",
       "      <td>-9.536743e-07</td>\n",
       "      <td>2</td>\n",
       "    </tr>\n",
       "  </tbody>\n",
       "</table>\n",
       "<p>5 rows × 287 columns</p>\n",
       "</div>"
      ],
      "text/plain": [
       "      A0T0G0C10  A0T0G1C9  A0T0G2C8  A0T0G3C7  A0T0G4C6  A0T0G5C5  A0T0G6C4  \\\n",
       "0 -9.536743e-07 -0.000010 -0.000043 -0.000114 -0.000200 -0.000240 -0.000200   \n",
       "1 -9.536743e-07 -0.000010 -0.000043  0.000886 -0.000200  0.000760 -0.000200   \n",
       "2 -9.536743e-07 -0.000002  0.000007  0.000129  0.000268  0.000270  0.000243   \n",
       "3  4.632568e-08 -0.000006  0.000012  0.000245  0.000492  0.000522  0.000396   \n",
       "4 -9.536743e-07 -0.000010 -0.000043 -0.000114 -0.000200 -0.000240 -0.000200   \n",
       "\n",
       "   A0T0G7C3  A0T0G8C2  A0T0G9C1  ...  A8T0G1C1  A8T0G2C0  A8T1G0C1  A8T1G1C0  \\\n",
       "0 -0.000114 -0.000043 -0.000010  ... -0.000086 -0.000043 -0.000086 -0.000086   \n",
       "1 -0.000114 -0.000043 -0.000010  ... -0.000086 -0.000043  0.000914  0.000914   \n",
       "2  0.000125  0.000001 -0.000007  ...  0.000084  0.000048  0.000081  0.000106   \n",
       "3  0.000197 -0.000003 -0.000007  ...  0.000151  0.000100  0.000180  0.000202   \n",
       "4 -0.000114 -0.000043 -0.000010  ... -0.000086 -0.000043 -0.000086 -0.000086   \n",
       "\n",
       "   A8T2G0C0  A9T0G0C1  A9T0G1C0  A9T1G0C0     A10T0G0C0  target  \n",
       "0 -0.000043 -0.000010 -0.000010 -0.000010 -9.536743e-07       9  \n",
       "1 -0.000043 -0.000010 -0.000010 -0.000010 -9.536743e-07       6  \n",
       "2  0.000072  0.000010  0.000008  0.000019  1.046326e-06       6  \n",
       "3  0.000153  0.000021  0.000015  0.000046 -9.536743e-07       6  \n",
       "4 -0.000043 -0.000010 -0.000010 -0.000010 -9.536743e-07       2  \n",
       "\n",
       "[5 rows x 287 columns]"
      ]
     },
     "execution_count": 13,
     "metadata": {},
     "output_type": "execute_result"
    }
   ],
   "source": [
    "# Label encoding of the target.\n",
    "# We will map each of the 10 different target classess to an intger in the range 0-9\n",
    "label_encoder = LabelEncoder()\n",
    "df[\"target\"] = label_encoder.fit(df[\"target\"]).transform(df[\"target\"])\n",
    "df.head()"
   ]
  },
  {
   "cell_type": "markdown",
   "id": "0dad671b",
   "metadata": {
    "papermill": {
     "duration": 0.064239,
     "end_time": "2022-03-08T12:34:28.063132",
     "exception": false,
     "start_time": "2022-03-08T12:34:27.998893",
     "status": "completed"
    },
    "tags": []
   },
   "source": [
    "## **Train-Test Split**"
   ]
  },
  {
   "cell_type": "code",
   "execution_count": 14,
   "id": "0ba9905c",
   "metadata": {
    "execution": {
     "iopub.execute_input": "2022-03-08T12:34:28.195204Z",
     "iopub.status.busy": "2022-03-08T12:34:28.194500Z",
     "iopub.status.idle": "2022-03-08T12:34:28.256760Z",
     "shell.execute_reply": "2022-03-08T12:34:28.257329Z",
     "shell.execute_reply.started": "2022-03-08T12:05:24.081958Z"
    },
    "papermill": {
     "duration": 0.130339,
     "end_time": "2022-03-08T12:34:28.257517",
     "exception": false,
     "start_time": "2022-03-08T12:34:28.127178",
     "status": "completed"
    },
    "tags": []
   },
   "outputs": [],
   "source": [
    "# Imports\n",
    "from sklearn.model_selection import train_test_split"
   ]
  },
  {
   "cell_type": "code",
   "execution_count": 15,
   "id": "324df138",
   "metadata": {
    "execution": {
     "iopub.execute_input": "2022-03-08T12:34:28.397923Z",
     "iopub.status.busy": "2022-03-08T12:34:28.397131Z",
     "iopub.status.idle": "2022-03-08T12:34:29.189463Z",
     "shell.execute_reply": "2022-03-08T12:34:29.188706Z",
     "shell.execute_reply.started": "2022-03-08T12:05:24.087418Z"
    },
    "papermill": {
     "duration": 0.861245,
     "end_time": "2022-03-08T12:34:29.189610",
     "exception": false,
     "start_time": "2022-03-08T12:34:28.328365",
     "status": "completed"
    },
    "tags": []
   },
   "outputs": [],
   "source": [
    "X_train, X_test, Y_train, Y_test = train_test_split(df.drop(columns=[\"target\"]), df[\"target\"], test_size=0.33, stratify=df[\"target\"], random_state=random_seed)"
   ]
  },
  {
   "cell_type": "code",
   "execution_count": 16,
   "id": "a87f23c9",
   "metadata": {
    "execution": {
     "iopub.execute_input": "2022-03-08T12:34:29.322550Z",
     "iopub.status.busy": "2022-03-08T12:34:29.321855Z",
     "iopub.status.idle": "2022-03-08T12:34:29.326715Z",
     "shell.execute_reply": "2022-03-08T12:34:29.326106Z",
     "shell.execute_reply.started": "2022-03-08T12:05:24.861261Z"
    },
    "papermill": {
     "duration": 0.073198,
     "end_time": "2022-03-08T12:34:29.326861",
     "exception": false,
     "start_time": "2022-03-08T12:34:29.253663",
     "status": "completed"
    },
    "tags": []
   },
   "outputs": [
    {
     "name": "stdout",
     "output_type": "stream",
     "text": [
      "X_train shape: (134000, 286)\n",
      "Y_train shape: (134000,)\n",
      "X_test shape: (66000, 286)\n",
      "Y_test shape: (66000,)\n"
     ]
    }
   ],
   "source": [
    "print(f\"X_train shape: {X_train.shape}\")\n",
    "print(f\"Y_train shape: {Y_train.shape}\")\n",
    "print(f\"X_test shape: {X_test.shape}\")\n",
    "print(f\"Y_test shape: {Y_test.shape}\")"
   ]
  },
  {
   "cell_type": "code",
   "execution_count": 17,
   "id": "90850a92",
   "metadata": {
    "execution": {
     "iopub.execute_input": "2022-03-08T12:34:29.463445Z",
     "iopub.status.busy": "2022-03-08T12:34:29.462717Z",
     "iopub.status.idle": "2022-03-08T12:34:29.818412Z",
     "shell.execute_reply": "2022-03-08T12:34:29.817715Z",
     "shell.execute_reply.started": "2022-03-08T12:05:24.870256Z"
    },
    "papermill": {
     "duration": 0.427269,
     "end_time": "2022-03-08T12:34:29.818567",
     "exception": false,
     "start_time": "2022-03-08T12:34:29.391298",
     "status": "completed"
    },
    "tags": []
   },
   "outputs": [],
   "source": [
    "# Further split the training set in training and validation sets\n",
    "X_train_t, X_train_val, Y_train_t, Y_train_val = train_test_split(X_train, Y_train, test_size=0.20, stratify=Y_train, random_state=random_seed)"
   ]
  },
  {
   "cell_type": "markdown",
   "id": "c1ff939a",
   "metadata": {
    "papermill": {
     "duration": 0.065697,
     "end_time": "2022-03-08T12:34:29.949873",
     "exception": false,
     "start_time": "2022-03-08T12:34:29.884176",
     "status": "completed"
    },
    "tags": []
   },
   "source": [
    "## **Dimensionality Reduction** "
   ]
  },
  {
   "cell_type": "markdown",
   "id": "392c9753",
   "metadata": {
    "papermill": {
     "duration": 0.063916,
     "end_time": "2022-03-08T12:34:30.078078",
     "exception": false,
     "start_time": "2022-03-08T12:34:30.014162",
     "status": "completed"
    },
    "tags": []
   },
   "source": [
    "### **Grid Search with Cross Validation to find the best value for n_components of PCA**"
   ]
  },
  {
   "cell_type": "code",
   "execution_count": 18,
   "id": "2f87b9f6",
   "metadata": {
    "execution": {
     "iopub.execute_input": "2022-03-08T12:34:30.212336Z",
     "iopub.status.busy": "2022-03-08T12:34:30.211585Z",
     "iopub.status.idle": "2022-03-08T12:34:30.406379Z",
     "shell.execute_reply": "2022-03-08T12:34:30.405776Z",
     "shell.execute_reply.started": "2022-03-08T12:05:25.234524Z"
    },
    "papermill": {
     "duration": 0.263935,
     "end_time": "2022-03-08T12:34:30.406536",
     "exception": false,
     "start_time": "2022-03-08T12:34:30.142601",
     "status": "completed"
    },
    "tags": []
   },
   "outputs": [],
   "source": [
    "# Imports for PCA\n",
    "from sklearn.preprocessing import StandardScaler\n",
    "from sklearn.decomposition import PCA\n",
    "\n",
    "# Imports for PCA n_components tuning\n",
    "from sklearn.pipeline import Pipeline\n",
    "from sklearn.tree import DecisionTreeClassifier\n",
    "from sklearn.model_selection import GridSearchCV"
   ]
  },
  {
   "cell_type": "code",
   "execution_count": 19,
   "id": "7563cd5f",
   "metadata": {
    "execution": {
     "iopub.execute_input": "2022-03-08T12:34:30.542755Z",
     "iopub.status.busy": "2022-03-08T12:34:30.542034Z",
     "iopub.status.idle": "2022-03-08T12:34:30.545119Z",
     "shell.execute_reply": "2022-03-08T12:34:30.544509Z",
     "shell.execute_reply.started": "2022-03-08T12:05:25.243160Z"
    },
    "papermill": {
     "duration": 0.073719,
     "end_time": "2022-03-08T12:34:30.545260",
     "exception": false,
     "start_time": "2022-03-08T12:34:30.471541",
     "status": "completed"
    },
    "tags": []
   },
   "outputs": [],
   "source": [
    "st_scaler = StandardScaler()\n",
    "pca = PCA()\n",
    "classifier = DecisionTreeClassifier(criterion=\"entropy\", random_state=random_seed)\n",
    "pipe = Pipeline(steps=[(\"st_scaler\", st_scaler), (\"pca\", pca), (\"classifier\", classifier)])"
   ]
  },
  {
   "cell_type": "code",
   "execution_count": 20,
   "id": "67e04cd5",
   "metadata": {
    "execution": {
     "iopub.execute_input": "2022-03-08T12:34:30.680423Z",
     "iopub.status.busy": "2022-03-08T12:34:30.679618Z",
     "iopub.status.idle": "2022-03-08T12:34:30.682836Z",
     "shell.execute_reply": "2022-03-08T12:34:30.683346Z",
     "shell.execute_reply.started": "2022-03-08T12:05:25.253569Z"
    },
    "papermill": {
     "duration": 0.072051,
     "end_time": "2022-03-08T12:34:30.683532",
     "exception": false,
     "start_time": "2022-03-08T12:34:30.611481",
     "status": "completed"
    },
    "tags": []
   },
   "outputs": [],
   "source": [
    "param_grid = {\n",
    "    \"pca__n_components\": [3, 10, 20, 50]\n",
    "}"
   ]
  },
  {
   "cell_type": "code",
   "execution_count": 21,
   "id": "5f1f1ac6",
   "metadata": {
    "execution": {
     "iopub.execute_input": "2022-03-08T12:34:30.818478Z",
     "iopub.status.busy": "2022-03-08T12:34:30.817782Z",
     "iopub.status.idle": "2022-03-08T12:35:36.387262Z",
     "shell.execute_reply": "2022-03-08T12:35:36.386583Z",
     "shell.execute_reply.started": "2022-03-08T12:05:25.265381Z"
    },
    "papermill": {
     "duration": 65.638556,
     "end_time": "2022-03-08T12:35:36.387409",
     "exception": false,
     "start_time": "2022-03-08T12:34:30.748853",
     "status": "completed"
    },
    "tags": []
   },
   "outputs": [
    {
     "name": "stdout",
     "output_type": "stream",
     "text": [
      "Fitting 2 folds for each of 4 candidates, totalling 8 fits\n",
      "[CV] pca__n_components=3 .............................................\n"
     ]
    },
    {
     "name": "stderr",
     "output_type": "stream",
     "text": [
      "[Parallel(n_jobs=1)]: Using backend SequentialBackend with 1 concurrent workers.\n"
     ]
    },
    {
     "name": "stdout",
     "output_type": "stream",
     "text": [
      "[CV] .............................. pca__n_components=3, total=   3.7s\n",
      "[CV] pca__n_components=3 .............................................\n"
     ]
    },
    {
     "name": "stderr",
     "output_type": "stream",
     "text": [
      "[Parallel(n_jobs=1)]: Done   1 out of   1 | elapsed:    3.7s remaining:    0.0s\n"
     ]
    },
    {
     "name": "stdout",
     "output_type": "stream",
     "text": [
      "[CV] .............................. pca__n_components=3, total=   3.5s\n",
      "[CV] pca__n_components=10 ............................................\n",
      "[CV] ............................. pca__n_components=10, total=   5.0s\n",
      "[CV] pca__n_components=10 ............................................\n",
      "[CV] ............................. pca__n_components=10, total=   5.0s\n",
      "[CV] pca__n_components=20 ............................................\n",
      "[CV] ............................. pca__n_components=20, total=   7.2s\n",
      "[CV] pca__n_components=20 ............................................\n",
      "[CV] ............................. pca__n_components=20, total=   7.2s\n",
      "[CV] pca__n_components=50 ............................................\n",
      "[CV] ............................. pca__n_components=50, total=  12.7s\n",
      "[CV] pca__n_components=50 ............................................\n",
      "[CV] ............................. pca__n_components=50, total=  12.7s\n"
     ]
    },
    {
     "name": "stderr",
     "output_type": "stream",
     "text": [
      "[Parallel(n_jobs=1)]: Done   8 out of   8 | elapsed:   57.1s finished\n"
     ]
    }
   ],
   "source": [
    "grid_search = GridSearchCV(pipe, param_grid, cv=2, verbose=2)\n",
    "grid_search.fit(X_train, Y_train);"
   ]
  },
  {
   "cell_type": "code",
   "execution_count": 22,
   "id": "8059a63a",
   "metadata": {
    "execution": {
     "iopub.execute_input": "2022-03-08T12:35:36.530102Z",
     "iopub.status.busy": "2022-03-08T12:35:36.529359Z",
     "iopub.status.idle": "2022-03-08T12:35:36.537054Z",
     "shell.execute_reply": "2022-03-08T12:35:36.537652Z",
     "shell.execute_reply.started": "2022-03-08T12:06:29.899373Z"
    },
    "papermill": {
     "duration": 0.081004,
     "end_time": "2022-03-08T12:35:36.537850",
     "exception": false,
     "start_time": "2022-03-08T12:35:36.456846",
     "status": "completed"
    },
    "tags": []
   },
   "outputs": [
    {
     "name": "stdout",
     "output_type": "stream",
     "text": [
      "Best parameters set found on train set:\n",
      "{'pca__n_components': 10}\n",
      "\n",
      "\n",
      "Grid scores on train set:\n",
      "{'pca__n_components': 3} mean: 0.920 std: +/- 0.001)\n",
      "{'pca__n_components': 10} mean: 0.920 std: +/- 0.000)\n",
      "{'pca__n_components': 20} mean: 0.918 std: +/- 0.001)\n",
      "{'pca__n_components': 50} mean: 0.909 std: +/- 0.001)\n",
      "\n",
      "\n"
     ]
    }
   ],
   "source": [
    "# Print grid search results\n",
    "def print_grid_search_results(gscv):\n",
    "    print(\"Best parameters set found on train set:\")\n",
    "    print(gscv.best_params_)\n",
    "    print(\"\\n\")\n",
    "    print(\"Grid scores on train set:\")\n",
    "    for param, mean, std in zip(gscv.cv_results_['params'], gscv.cv_results_['mean_test_score'], gscv.cv_results_['std_test_score']):\n",
    "        print(\"%r mean: %0.3f std: +/- %0.03f)\" % (param, mean, std*2))\n",
    "    print(\"\\n\")\n",
    "\n",
    "print_grid_search_results(grid_search)"
   ]
  },
  {
   "cell_type": "code",
   "execution_count": 23,
   "id": "33901351",
   "metadata": {
    "execution": {
     "iopub.execute_input": "2022-03-08T12:35:36.679901Z",
     "iopub.status.busy": "2022-03-08T12:35:36.679144Z",
     "iopub.status.idle": "2022-03-08T12:35:36.682401Z",
     "shell.execute_reply": "2022-03-08T12:35:36.683114Z",
     "shell.execute_reply.started": "2022-03-08T12:06:29.907382Z"
    },
    "papermill": {
     "duration": 0.076377,
     "end_time": "2022-03-08T12:35:36.683300",
     "exception": false,
     "start_time": "2022-03-08T12:35:36.606923",
     "status": "completed"
    },
    "tags": []
   },
   "outputs": [],
   "source": [
    "pca_components = grid_search.best_params_[\"pca__n_components\"]"
   ]
  },
  {
   "cell_type": "markdown",
   "id": "91c008ce",
   "metadata": {
    "papermill": {
     "duration": 0.069347,
     "end_time": "2022-03-08T12:35:36.823438",
     "exception": false,
     "start_time": "2022-03-08T12:35:36.754091",
     "status": "completed"
    },
    "tags": []
   },
   "source": [
    "### **Compute PCA with the best hyper-parameter found**"
   ]
  },
  {
   "cell_type": "code",
   "execution_count": 24,
   "id": "349a7ea3",
   "metadata": {
    "execution": {
     "iopub.execute_input": "2022-03-08T12:35:36.967758Z",
     "iopub.status.busy": "2022-03-08T12:35:36.967050Z",
     "iopub.status.idle": "2022-03-08T12:35:37.664780Z",
     "shell.execute_reply": "2022-03-08T12:35:37.664092Z",
     "shell.execute_reply.started": "2022-03-08T12:06:29.921141Z"
    },
    "papermill": {
     "duration": 0.77149,
     "end_time": "2022-03-08T12:35:37.664931",
     "exception": false,
     "start_time": "2022-03-08T12:35:36.893441",
     "status": "completed"
    },
    "tags": []
   },
   "outputs": [
    {
     "name": "stdout",
     "output_type": "stream",
     "text": [
      "Shape of X_train_t_st: (107200, 286)\n",
      "Shape of X_train_val_st: (26800, 286)\n"
     ]
    }
   ],
   "source": [
    "# Standardize the features. This process is needed before doing the PCA.\n",
    "st_scaler_t = StandardScaler()\n",
    "st_scaler_t.fit(X_train_t)\n",
    "X_train_t_st = st_scaler_t.transform(X_train_t)\n",
    "X_train_val_st = st_scaler_t.transform(X_train_val)\n",
    "\n",
    "print(f\"Shape of X_train_t_st: {X_train_t_st.shape}\")\n",
    "print(f\"Shape of X_train_val_st: {X_train_val_st.shape}\")"
   ]
  },
  {
   "cell_type": "code",
   "execution_count": 25,
   "id": "578e3a05",
   "metadata": {
    "execution": {
     "iopub.execute_input": "2022-03-08T12:35:37.812447Z",
     "iopub.status.busy": "2022-03-08T12:35:37.811771Z",
     "iopub.status.idle": "2022-03-08T12:35:41.347580Z",
     "shell.execute_reply": "2022-03-08T12:35:41.349243Z",
     "shell.execute_reply.started": "2022-03-08T12:06:30.645727Z"
    },
    "papermill": {
     "duration": 3.613846,
     "end_time": "2022-03-08T12:35:41.349668",
     "exception": false,
     "start_time": "2022-03-08T12:35:37.735822",
     "status": "completed"
    },
    "tags": []
   },
   "outputs": [
    {
     "name": "stdout",
     "output_type": "stream",
     "text": [
      "Shape of X_train_t_pca: (107200, 10)\n",
      "Shape of X_train_val_pca: (26800, 10)\n"
     ]
    }
   ],
   "source": [
    "# Perform PCA\n",
    "pca_t = PCA(n_components=pca_components)\n",
    "pca_t.fit(X_train_t_st)\n",
    "X_train_t_pca = pca_t.transform(X_train_t_st)\n",
    "X_train_val_pca = pca_t.transform(X_train_val_st)\n",
    "\n",
    "print(f\"Shape of X_train_t_pca: {X_train_t_pca.shape}\")\n",
    "print(f\"Shape of X_train_val_pca: {X_train_val_pca.shape}\")"
   ]
  },
  {
   "cell_type": "code",
   "execution_count": 26,
   "id": "f3b6ac5c",
   "metadata": {
    "execution": {
     "iopub.execute_input": "2022-03-08T12:35:41.553448Z",
     "iopub.status.busy": "2022-03-08T12:35:41.552204Z",
     "iopub.status.idle": "2022-03-08T12:35:46.551550Z",
     "shell.execute_reply": "2022-03-08T12:35:46.552477Z"
    },
    "papermill": {
     "duration": 5.081542,
     "end_time": "2022-03-08T12:35:46.552789",
     "exception": false,
     "start_time": "2022-03-08T12:35:41.471247",
     "status": "completed"
    },
    "tags": []
   },
   "outputs": [
    {
     "name": "stdout",
     "output_type": "stream",
     "text": [
      "Shape of X_train_pca: (134000, 10)\n"
     ]
    }
   ],
   "source": [
    "# Transform also the full training set\n",
    "\n",
    "# Standardize the features\n",
    "st_scaler = StandardScaler()\n",
    "st_scaler.fit(X_train)\n",
    "X_train_st = st_scaler.transform(X_train)\n",
    "\n",
    "# Perform PCA\n",
    "pca = PCA(n_components=pca_components)\n",
    "pca.fit(X_train_st)\n",
    "X_train_pca = pca.transform(X_train_st)\n",
    "\n",
    "print(f\"Shape of X_train_pca: {X_train_pca.shape}\")"
   ]
  },
  {
   "cell_type": "markdown",
   "id": "01dbe8a2",
   "metadata": {
    "papermill": {
     "duration": 0.073161,
     "end_time": "2022-03-08T12:35:46.750571",
     "exception": false,
     "start_time": "2022-03-08T12:35:46.677410",
     "status": "completed"
    },
    "tags": []
   },
   "source": [
    "## **ML Models Testing**"
   ]
  },
  {
   "cell_type": "markdown",
   "id": "10beff16",
   "metadata": {
    "papermill": {
     "duration": 0.07124,
     "end_time": "2022-03-08T12:35:46.893429",
     "exception": false,
     "start_time": "2022-03-08T12:35:46.822189",
     "status": "completed"
    },
    "tags": []
   },
   "source": [
    "### **Decision Tree Classifier**"
   ]
  },
  {
   "cell_type": "code",
   "execution_count": 27,
   "id": "a166681e",
   "metadata": {
    "execution": {
     "iopub.execute_input": "2022-03-08T12:35:47.040623Z",
     "iopub.status.busy": "2022-03-08T12:35:47.039982Z",
     "iopub.status.idle": "2022-03-08T12:35:47.042473Z",
     "shell.execute_reply": "2022-03-08T12:35:47.041883Z",
     "shell.execute_reply.started": "2022-03-08T12:06:33.987321Z"
    },
    "papermill": {
     "duration": 0.078797,
     "end_time": "2022-03-08T12:35:47.042606",
     "exception": false,
     "start_time": "2022-03-08T12:35:46.963809",
     "status": "completed"
    },
    "tags": []
   },
   "outputs": [],
   "source": [
    "from sklearn.tree import DecisionTreeClassifier\n",
    "from sklearn.metrics import accuracy_score"
   ]
  },
  {
   "cell_type": "code",
   "execution_count": 28,
   "id": "2ff88e62",
   "metadata": {
    "execution": {
     "iopub.execute_input": "2022-03-08T12:35:47.191879Z",
     "iopub.status.busy": "2022-03-08T12:35:47.190708Z",
     "iopub.status.idle": "2022-03-08T12:36:02.687463Z",
     "shell.execute_reply": "2022-03-08T12:36:02.686876Z",
     "shell.execute_reply.started": "2022-03-08T12:08:05.113336Z"
    },
    "papermill": {
     "duration": 15.573907,
     "end_time": "2022-03-08T12:36:02.687626",
     "exception": false,
     "start_time": "2022-03-08T12:35:47.113719",
     "status": "completed"
    },
    "tags": []
   },
   "outputs": [],
   "source": [
    "# Hyper-parameter tuning for max_depth of the decision tree\n",
    "max_depth_list = [4,8,16,20,24,26]\n",
    "scores = []\n",
    "\n",
    "for par in max_depth_list:\n",
    "    tree = DecisionTreeClassifier(criterion=\"entropy\", random_state=random_seed, max_depth=par)\n",
    "    tree.fit(X_train_t_pca, Y_train_t)\n",
    "    Y_predicted_val = tree.predict(X_train_val_pca)\n",
    "    score =  accuracy_score(Y_train_val, Y_predicted_val)\n",
    "    scores.append(score)"
   ]
  },
  {
   "cell_type": "code",
   "execution_count": 29,
   "id": "9bf4573c",
   "metadata": {
    "execution": {
     "iopub.execute_input": "2022-03-08T12:36:02.834755Z",
     "iopub.status.busy": "2022-03-08T12:36:02.833606Z",
     "iopub.status.idle": "2022-03-08T12:36:03.028141Z",
     "shell.execute_reply": "2022-03-08T12:36:03.028670Z",
     "shell.execute_reply.started": "2022-03-08T12:08:26.215811Z"
    },
    "papermill": {
     "duration": 0.269136,
     "end_time": "2022-03-08T12:36:03.028850",
     "exception": false,
     "start_time": "2022-03-08T12:36:02.759714",
     "status": "completed"
    },
    "tags": []
   },
   "outputs": [
    {
     "data": {
      "image/png": "[encoded data removed]",
      "text/plain": [
       "<Figure size 1440x720 with 1 Axes>"
      ]
     },
     "metadata": {
      "needs_background": "light"
     },
     "output_type": "display_data"
    }
   ],
   "source": [
    "plt.figure(figsize=(20,10))\n",
    "plt.plot(max_depth_list, scores, '-o', linewidth=5, markersize=24)\n",
    "plt.xlabel('max_depth')\n",
    "plt.ylabel('accuracy')\n",
    "plt.title(\"Score with validation varying max_depth of tree\", fontsize = 24)\n",
    "plt.show();"
   ]
  },
  {
   "cell_type": "code",
   "execution_count": 30,
   "id": "e9852dae",
   "metadata": {
    "execution": {
     "iopub.execute_input": "2022-03-08T12:36:03.177101Z",
     "iopub.status.busy": "2022-03-08T12:36:03.176042Z",
     "iopub.status.idle": "2022-03-08T12:36:06.836021Z",
     "shell.execute_reply": "2022-03-08T12:36:06.836573Z",
     "shell.execute_reply.started": "2022-03-08T12:09:01.448898Z"
    },
    "papermill": {
     "duration": 3.735826,
     "end_time": "2022-03-08T12:36:06.836791",
     "exception": false,
     "start_time": "2022-03-08T12:36:03.100965",
     "status": "completed"
    },
    "tags": []
   },
   "outputs": [
    {
     "data": {
      "text/plain": [
       "DecisionTreeClassifier(criterion='entropy', max_depth=26, random_state=42)"
      ]
     },
     "execution_count": 30,
     "metadata": {},
     "output_type": "execute_result"
    }
   ],
   "source": [
    "# Define the final decision tree model with the best parameter found\n",
    "best_max_depth = max_depth_list[np.argmax(scores)]\n",
    "tree_model = DecisionTreeClassifier(criterion=\"entropy\", random_state=random_seed, max_depth=best_max_depth)\n",
    "tree_model.fit(X_train_pca, Y_train)"
   ]
  },
  {
   "cell_type": "markdown",
   "id": "3d01d8fd",
   "metadata": {
    "papermill": {
     "duration": 0.073147,
     "end_time": "2022-03-08T12:36:06.983069",
     "exception": false,
     "start_time": "2022-03-08T12:36:06.909922",
     "status": "completed"
    },
    "tags": []
   },
   "source": [
    "## **Random Forest**"
   ]
  },
  {
   "cell_type": "code",
   "execution_count": 31,
   "id": "fbbd1ce4",
   "metadata": {
    "execution": {
     "iopub.execute_input": "2022-03-08T12:36:07.133842Z",
     "iopub.status.busy": "2022-03-08T12:36:07.132351Z",
     "iopub.status.idle": "2022-03-08T12:36:07.163560Z",
     "shell.execute_reply": "2022-03-08T12:36:07.162931Z",
     "shell.execute_reply.started": "2022-03-08T12:06:35.386351Z"
    },
    "papermill": {
     "duration": 0.106403,
     "end_time": "2022-03-08T12:36:07.163730",
     "exception": false,
     "start_time": "2022-03-08T12:36:07.057327",
     "status": "completed"
    },
    "tags": []
   },
   "outputs": [],
   "source": [
    "from sklearn.ensemble import RandomForestClassifier"
   ]
  },
  {
   "cell_type": "code",
   "execution_count": 32,
   "id": "cde86c6e",
   "metadata": {
    "execution": {
     "iopub.execute_input": "2022-03-08T12:36:07.315370Z",
     "iopub.status.busy": "2022-03-08T12:36:07.314541Z",
     "iopub.status.idle": "2022-03-08T12:36:07.317504Z",
     "shell.execute_reply": "2022-03-08T12:36:07.316952Z",
     "shell.execute_reply.started": "2022-03-08T12:06:35.388360Z"
    },
    "papermill": {
     "duration": 0.080355,
     "end_time": "2022-03-08T12:36:07.317669",
     "exception": false,
     "start_time": "2022-03-08T12:36:07.237314",
     "status": "completed"
    },
    "tags": []
   },
   "outputs": [],
   "source": [
    "random_forest_model = RandomForestClassifier(n_estimators=10)"
   ]
  },
  {
   "cell_type": "code",
   "execution_count": null,
   "id": "92aa9b6d",
   "metadata": {
    "papermill": {
     "duration": 0.072786,
     "end_time": "2022-03-08T12:36:07.463342",
     "exception": false,
     "start_time": "2022-03-08T12:36:07.390556",
     "status": "completed"
    },
    "tags": []
   },
   "outputs": [],
   "source": []
  },
  {
   "cell_type": "markdown",
   "id": "f172f2d2",
   "metadata": {
    "papermill": {
     "duration": 0.073413,
     "end_time": "2022-03-08T12:36:07.609720",
     "exception": false,
     "start_time": "2022-03-08T12:36:07.536307",
     "status": "completed"
    },
    "tags": []
   },
   "source": [
    "### **Deep Neural Network**"
   ]
  },
  {
   "cell_type": "code",
   "execution_count": 33,
   "id": "21220b00",
   "metadata": {
    "execution": {
     "iopub.execute_input": "2022-03-08T12:36:07.761311Z",
     "iopub.status.busy": "2022-03-08T12:36:07.760622Z",
     "iopub.status.idle": "2022-03-08T12:36:13.733739Z",
     "shell.execute_reply": "2022-03-08T12:36:13.733156Z",
     "shell.execute_reply.started": "2022-03-08T12:06:35.390274Z"
    },
    "papermill": {
     "duration": 6.048959,
     "end_time": "2022-03-08T12:36:13.733924",
     "exception": false,
     "start_time": "2022-03-08T12:36:07.684965",
     "status": "completed"
    },
    "tags": []
   },
   "outputs": [],
   "source": [
    "import tensorflow as tf\n",
    "from tensorflow import keras\n",
    "from tensorflow.keras import layers"
   ]
  },
  {
   "cell_type": "code",
   "execution_count": 34,
   "id": "d1bc6a63",
   "metadata": {
    "execution": {
     "iopub.execute_input": "2022-03-08T12:36:13.890179Z",
     "iopub.status.busy": "2022-03-08T12:36:13.889422Z",
     "iopub.status.idle": "2022-03-08T12:36:14.021028Z",
     "shell.execute_reply": "2022-03-08T12:36:14.021539Z",
     "shell.execute_reply.started": "2022-03-08T12:06:35.392210Z"
    },
    "papermill": {
     "duration": 0.21275,
     "end_time": "2022-03-08T12:36:14.021736",
     "exception": false,
     "start_time": "2022-03-08T12:36:13.808986",
     "status": "completed"
    },
    "tags": []
   },
   "outputs": [
    {
     "name": "stdout",
     "output_type": "stream",
     "text": [
      "Model: \"dnn_model\"\n",
      "_________________________________________________________________\n",
      "Layer (type)                 Output Shape              Param #   \n",
      "=================================================================\n",
      "input_1 (InputLayer)         [(None, 10)]              0         \n",
      "_________________________________________________________________\n",
      "dense (Dense)                (None, 50)                550       \n",
      "_________________________________________________________________\n",
      "dense_1 (Dense)              (None, 30)                1530      \n",
      "_________________________________________________________________\n",
      "dense_2 (Dense)              (None, 20)                620       \n",
      "_________________________________________________________________\n",
      "dense_3 (Dense)              (None, 10)                210       \n",
      "=================================================================\n",
      "Total params: 2,910\n",
      "Trainable params: 2,910\n",
      "Non-trainable params: 0\n",
      "_________________________________________________________________\n"
     ]
    },
    {
     "name": "stderr",
     "output_type": "stream",
     "text": [
      "2022-03-08 12:36:13.937251: I tensorflow/core/common_runtime/process_util.cc:146] Creating new thread pool with default inter op setting: 2. Tune using inter_op_parallelism_threads for best performance.\n"
     ]
    }
   ],
   "source": [
    "# Network architecture definition\n",
    "inputs = keras.Input(shape=(pca_components,))\n",
    "x = layers.Dense(50, activation=\"relu\")(inputs)\n",
    "x = layers.Dense(30, activation=\"relu\")(x)\n",
    "x = layers.Dense(20, activation=\"relu\")(x)\n",
    "outputs = layers.Dense(10, activation=\"softmax\")(x)\n",
    "\n",
    "dnn_model = keras.Model(inputs=inputs, outputs=outputs, name=\"dnn_model\")\n",
    "dnn_model.summary()"
   ]
  },
  {
   "cell_type": "code",
   "execution_count": 35,
   "id": "4a79b98b",
   "metadata": {
    "execution": {
     "iopub.execute_input": "2022-03-08T12:36:14.176847Z",
     "iopub.status.busy": "2022-03-08T12:36:14.176128Z",
     "iopub.status.idle": "2022-03-08T12:36:14.190779Z",
     "shell.execute_reply": "2022-03-08T12:36:14.191289Z",
     "shell.execute_reply.started": "2022-03-08T12:06:35.394272Z"
    },
    "papermill": {
     "duration": 0.094988,
     "end_time": "2022-03-08T12:36:14.191484",
     "exception": false,
     "start_time": "2022-03-08T12:36:14.096496",
     "status": "completed"
    },
    "tags": []
   },
   "outputs": [],
   "source": [
    "dnn_model.compile(\n",
    "    loss=keras.losses.SparseCategoricalCrossentropy(from_logits=False),\n",
    "    optimizer=keras.optimizers.Adam(),\n",
    "    metrics=[\"accuracy\"]\n",
    ")"
   ]
  },
  {
   "cell_type": "code",
   "execution_count": 36,
   "id": "37945539",
   "metadata": {
    "execution": {
     "iopub.execute_input": "2022-03-08T12:36:14.346304Z",
     "iopub.status.busy": "2022-03-08T12:36:14.345555Z",
     "iopub.status.idle": "2022-03-08T12:36:40.667764Z",
     "shell.execute_reply": "2022-03-08T12:36:40.668277Z",
     "shell.execute_reply.started": "2022-03-08T12:06:35.396157Z"
    },
    "papermill": {
     "duration": 26.402999,
     "end_time": "2022-03-08T12:36:40.668462",
     "exception": false,
     "start_time": "2022-03-08T12:36:14.265463",
     "status": "completed"
    },
    "tags": []
   },
   "outputs": [
    {
     "name": "stderr",
     "output_type": "stream",
     "text": [
      "2022-03-08 12:36:14.419367: I tensorflow/compiler/mlir/mlir_graph_optimization_pass.cc:185] None of the MLIR Optimization Passes are enabled (registered 2)\n"
     ]
    },
    {
     "name": "stdout",
     "output_type": "stream",
     "text": [
      "Epoch 1/5\n",
      "1675/1675 [==============================] - 6s 3ms/step - loss: 0.7915 - accuracy: 0.7329 - val_loss: 0.5800 - val_accuracy: 0.8103\n",
      "Epoch 2/5\n",
      "1675/1675 [==============================] - 5s 3ms/step - loss: 0.5250 - accuracy: 0.8166 - val_loss: 0.4962 - val_accuracy: 0.8235\n",
      "Epoch 3/5\n",
      "1675/1675 [==============================] - 5s 3ms/step - loss: 0.4660 - accuracy: 0.8301 - val_loss: 0.4564 - val_accuracy: 0.8337\n",
      "Epoch 4/5\n",
      "1675/1675 [==============================] - 5s 3ms/step - loss: 0.4347 - accuracy: 0.8355 - val_loss: 0.4346 - val_accuracy: 0.8380\n",
      "Epoch 5/5\n",
      "1675/1675 [==============================] - 5s 3ms/step - loss: 0.4142 - accuracy: 0.8413 - val_loss: 0.4108 - val_accuracy: 0.8432\n"
     ]
    }
   ],
   "source": [
    "history = dnn_model.fit(X_train_pca, Y_train, batch_size=64, epochs=5, validation_split=0.2)"
   ]
  },
  {
   "cell_type": "markdown",
   "id": "b52791b7",
   "metadata": {
    "papermill": {
     "duration": 0.233497,
     "end_time": "2022-03-08T12:36:41.139311",
     "exception": false,
     "start_time": "2022-03-08T12:36:40.905814",
     "status": "completed"
    },
    "tags": []
   },
   "source": [
    "## **Final Model Evaluation**"
   ]
  },
  {
   "cell_type": "code",
   "execution_count": 37,
   "id": "70f568eb",
   "metadata": {
    "execution": {
     "iopub.execute_input": "2022-03-08T12:36:41.611495Z",
     "iopub.status.busy": "2022-03-08T12:36:41.610417Z",
     "iopub.status.idle": "2022-03-08T12:36:41.612333Z",
     "shell.execute_reply": "2022-03-08T12:36:41.612949Z",
     "shell.execute_reply.started": "2022-03-08T12:06:35.397939Z"
    },
    "papermill": {
     "duration": 0.23919,
     "end_time": "2022-03-08T12:36:41.613116",
     "exception": false,
     "start_time": "2022-03-08T12:36:41.373926",
     "status": "completed"
    },
    "tags": []
   },
   "outputs": [],
   "source": [
    "from sklearn.metrics import classification_report"
   ]
  },
  {
   "cell_type": "code",
   "execution_count": 38,
   "id": "6da41767",
   "metadata": {
    "execution": {
     "iopub.execute_input": "2022-03-08T12:36:42.085464Z",
     "iopub.status.busy": "2022-03-08T12:36:42.084769Z",
     "iopub.status.idle": "2022-03-08T12:36:42.087248Z",
     "shell.execute_reply": "2022-03-08T12:36:42.086731Z",
     "shell.execute_reply.started": "2022-03-08T12:06:35.400022Z"
    },
    "papermill": {
     "duration": 0.240551,
     "end_time": "2022-03-08T12:36:42.087392",
     "exception": false,
     "start_time": "2022-03-08T12:36:41.846841",
     "status": "completed"
    },
    "tags": []
   },
   "outputs": [],
   "source": [
    "final_model = tree_model\n",
    "use_neural_network = False"
   ]
  },
  {
   "cell_type": "code",
   "execution_count": 39,
   "id": "f9d5b055",
   "metadata": {
    "execution": {
     "iopub.execute_input": "2022-03-08T12:36:42.570517Z",
     "iopub.status.busy": "2022-03-08T12:36:42.564022Z",
     "iopub.status.idle": "2022-03-08T12:36:42.812546Z",
     "shell.execute_reply": "2022-03-08T12:36:42.813514Z",
     "shell.execute_reply.started": "2022-03-08T12:06:35.401608Z"
    },
    "papermill": {
     "duration": 0.492108,
     "end_time": "2022-03-08T12:36:42.813828",
     "exception": false,
     "start_time": "2022-03-08T12:36:42.321720",
     "status": "completed"
    },
    "tags": []
   },
   "outputs": [],
   "source": [
    "# Preprocess the data\n",
    "\n",
    "# Standardize\n",
    "X_test_st = st_scaler.transform(X_test)\n",
    "# PCA\n",
    "X_test_pca = pca.transform(X_test_st)"
   ]
  },
  {
   "cell_type": "code",
   "execution_count": 40,
   "id": "04fb105f",
   "metadata": {
    "execution": {
     "iopub.execute_input": "2022-03-08T12:36:43.348470Z",
     "iopub.status.busy": "2022-03-08T12:36:43.347429Z",
     "iopub.status.idle": "2022-03-08T12:36:43.363723Z",
     "shell.execute_reply": "2022-03-08T12:36:43.363053Z",
     "shell.execute_reply.started": "2022-03-08T12:06:35.403114Z"
    },
    "papermill": {
     "duration": 0.259612,
     "end_time": "2022-03-08T12:36:43.363874",
     "exception": false,
     "start_time": "2022-03-08T12:36:43.104262",
     "status": "completed"
    },
    "tags": []
   },
   "outputs": [],
   "source": [
    "if use_neural_network:\n",
    "    # Predict probabilty distributions over possible labels\n",
    "    Y_test_pred_p = final_model.predict(X_test_pca)\n",
    "    # Store the index of the most probable label\n",
    "    Y_test_pred = np.argmax(Y_test_pred_p, axis=1)\n",
    "else:\n",
    "    Y_test_pred = final_model.predict(X_test_pca)"
   ]
  },
  {
   "cell_type": "code",
   "execution_count": 41,
   "id": "0ec1600d",
   "metadata": {
    "execution": {
     "iopub.execute_input": "2022-03-08T12:36:43.837803Z",
     "iopub.status.busy": "2022-03-08T12:36:43.836760Z",
     "iopub.status.idle": "2022-03-08T12:36:43.983262Z",
     "shell.execute_reply": "2022-03-08T12:36:43.982489Z",
     "shell.execute_reply.started": "2022-03-08T12:06:35.404863Z"
    },
    "papermill": {
     "duration": 0.386328,
     "end_time": "2022-03-08T12:36:43.983447",
     "exception": false,
     "start_time": "2022-03-08T12:36:43.597119",
     "status": "completed"
    },
    "tags": []
   },
   "outputs": [
    {
     "name": "stdout",
     "output_type": "stream",
     "text": [
      "                          precision    recall  f1-score   support\n",
      "\n",
      "    Bacteroides_fragilis       0.98      0.99      0.99      6646\n",
      "    Campylobacter_jejuni       0.98      0.99      0.99      6621\n",
      "      Enterococcus_hirae       0.97      0.97      0.97      6583\n",
      "        Escherichia_coli       0.96      0.96      0.96      6586\n",
      "  Escherichia_fergusonii       0.97      0.97      0.97      6579\n",
      "   Klebsiella_pneumoniae       0.99      0.99      0.99      6549\n",
      "     Salmonella_enterica       0.97      0.97      0.97      6610\n",
      "   Staphylococcus_aureus       0.98      0.98      0.98      6577\n",
      "Streptococcus_pneumoniae       0.97      0.96      0.97      6624\n",
      "  Streptococcus_pyogenes       0.97      0.97      0.97      6625\n",
      "\n",
      "                accuracy                           0.98     66000\n",
      "               macro avg       0.98      0.98      0.98     66000\n",
      "            weighted avg       0.98      0.98      0.98     66000\n",
      "\n"
     ]
    }
   ],
   "source": [
    "print(classification_report(Y_test, Y_test_pred, target_names=label_encoder.classes_))"
   ]
  },
  {
   "cell_type": "markdown",
   "id": "80682509",
   "metadata": {
    "papermill": {
     "duration": 0.234565,
     "end_time": "2022-03-08T12:36:44.455165",
     "exception": false,
     "start_time": "2022-03-08T12:36:44.220600",
     "status": "completed"
    },
    "tags": []
   },
   "source": [
    "## **Kaggle Submission Test**"
   ]
  },
  {
   "cell_type": "code",
   "execution_count": 42,
   "id": "0cfaf537",
   "metadata": {
    "execution": {
     "iopub.execute_input": "2022-03-08T12:36:44.928718Z",
     "iopub.status.busy": "2022-03-08T12:36:44.927909Z",
     "iopub.status.idle": "2022-03-08T12:36:57.519157Z",
     "shell.execute_reply": "2022-03-08T12:36:57.518218Z",
     "shell.execute_reply.started": "2022-03-08T12:06:35.406149Z"
    },
    "papermill": {
     "duration": 12.830889,
     "end_time": "2022-03-08T12:36:57.519311",
     "exception": false,
     "start_time": "2022-03-08T12:36:44.688422",
     "status": "completed"
    },
    "tags": []
   },
   "outputs": [
    {
     "data": {
      "text/html": [
       "<div>\n",
       "<style scoped>\n",
       "    .dataframe tbody tr th:only-of-type {\n",
       "        vertical-align: middle;\n",
       "    }\n",
       "\n",
       "    .dataframe tbody tr th {\n",
       "        vertical-align: top;\n",
       "    }\n",
       "\n",
       "    .dataframe thead th {\n",
       "        text-align: right;\n",
       "    }\n",
       "</style>\n",
       "<table border=\"1\" class=\"dataframe\">\n",
       "  <thead>\n",
       "    <tr style=\"text-align: right;\">\n",
       "      <th></th>\n",
       "      <th>row_id</th>\n",
       "      <th>A0T0G0C10</th>\n",
       "      <th>A0T0G1C9</th>\n",
       "      <th>A0T0G2C8</th>\n",
       "      <th>A0T0G3C7</th>\n",
       "      <th>A0T0G4C6</th>\n",
       "      <th>A0T0G5C5</th>\n",
       "      <th>A0T0G6C4</th>\n",
       "      <th>A0T0G7C3</th>\n",
       "      <th>A0T0G8C2</th>\n",
       "      <th>...</th>\n",
       "      <th>A8T0G0C2</th>\n",
       "      <th>A8T0G1C1</th>\n",
       "      <th>A8T0G2C0</th>\n",
       "      <th>A8T1G0C1</th>\n",
       "      <th>A8T1G1C0</th>\n",
       "      <th>A8T2G0C0</th>\n",
       "      <th>A9T0G0C1</th>\n",
       "      <th>A9T0G1C0</th>\n",
       "      <th>A9T1G0C0</th>\n",
       "      <th>A10T0G0C0</th>\n",
       "    </tr>\n",
       "  </thead>\n",
       "  <tbody>\n",
       "    <tr>\n",
       "      <th>0</th>\n",
       "      <td>200000</td>\n",
       "      <td>-9.536743e-07</td>\n",
       "      <td>-0.000002</td>\n",
       "      <td>-9.153442e-07</td>\n",
       "      <td>0.000024</td>\n",
       "      <td>0.000034</td>\n",
       "      <td>-0.000002</td>\n",
       "      <td>0.000021</td>\n",
       "      <td>0.000024</td>\n",
       "      <td>-0.000009</td>\n",
       "      <td>...</td>\n",
       "      <td>0.000039</td>\n",
       "      <td>0.000085</td>\n",
       "      <td>0.000055</td>\n",
       "      <td>0.000108</td>\n",
       "      <td>0.000090</td>\n",
       "      <td>0.000059</td>\n",
       "      <td>0.000010</td>\n",
       "      <td>0.000006</td>\n",
       "      <td>0.000027</td>\n",
       "      <td>4.632568e-08</td>\n",
       "    </tr>\n",
       "    <tr>\n",
       "      <th>1</th>\n",
       "      <td>200001</td>\n",
       "      <td>-9.536743e-07</td>\n",
       "      <td>-0.000010</td>\n",
       "      <td>-4.291534e-05</td>\n",
       "      <td>-0.000114</td>\n",
       "      <td>0.001800</td>\n",
       "      <td>-0.000240</td>\n",
       "      <td>0.001800</td>\n",
       "      <td>-0.000114</td>\n",
       "      <td>0.000957</td>\n",
       "      <td>...</td>\n",
       "      <td>-0.000043</td>\n",
       "      <td>0.000914</td>\n",
       "      <td>-0.000043</td>\n",
       "      <td>-0.000086</td>\n",
       "      <td>-0.000086</td>\n",
       "      <td>-0.000043</td>\n",
       "      <td>-0.000010</td>\n",
       "      <td>-0.000010</td>\n",
       "      <td>-0.000010</td>\n",
       "      <td>-9.536743e-07</td>\n",
       "    </tr>\n",
       "    <tr>\n",
       "      <th>2</th>\n",
       "      <td>200002</td>\n",
       "      <td>4.632568e-08</td>\n",
       "      <td>0.000003</td>\n",
       "      <td>8.465576e-08</td>\n",
       "      <td>-0.000014</td>\n",
       "      <td>0.000007</td>\n",
       "      <td>-0.000005</td>\n",
       "      <td>-0.000004</td>\n",
       "      <td>0.000003</td>\n",
       "      <td>0.000004</td>\n",
       "      <td>...</td>\n",
       "      <td>0.000041</td>\n",
       "      <td>0.000102</td>\n",
       "      <td>0.000084</td>\n",
       "      <td>0.000111</td>\n",
       "      <td>0.000117</td>\n",
       "      <td>0.000070</td>\n",
       "      <td>0.000020</td>\n",
       "      <td>0.000030</td>\n",
       "      <td>0.000021</td>\n",
       "      <td>4.632568e-08</td>\n",
       "    </tr>\n",
       "    <tr>\n",
       "      <th>3</th>\n",
       "      <td>200003</td>\n",
       "      <td>-9.536743e-07</td>\n",
       "      <td>-0.000008</td>\n",
       "      <td>8.084656e-06</td>\n",
       "      <td>0.000216</td>\n",
       "      <td>0.000420</td>\n",
       "      <td>0.000514</td>\n",
       "      <td>0.000452</td>\n",
       "      <td>0.000187</td>\n",
       "      <td>-0.000005</td>\n",
       "      <td>...</td>\n",
       "      <td>0.000069</td>\n",
       "      <td>0.000158</td>\n",
       "      <td>0.000098</td>\n",
       "      <td>0.000175</td>\n",
       "      <td>0.000217</td>\n",
       "      <td>0.000150</td>\n",
       "      <td>0.000018</td>\n",
       "      <td>0.000016</td>\n",
       "      <td>0.000051</td>\n",
       "      <td>-9.536743e-07</td>\n",
       "    </tr>\n",
       "    <tr>\n",
       "      <th>4</th>\n",
       "      <td>200004</td>\n",
       "      <td>-9.536743e-07</td>\n",
       "      <td>-0.000010</td>\n",
       "      <td>-4.291534e-05</td>\n",
       "      <td>-0.000114</td>\n",
       "      <td>-0.000200</td>\n",
       "      <td>-0.000240</td>\n",
       "      <td>-0.000200</td>\n",
       "      <td>-0.000114</td>\n",
       "      <td>-0.000043</td>\n",
       "      <td>...</td>\n",
       "      <td>-0.000043</td>\n",
       "      <td>-0.000086</td>\n",
       "      <td>-0.000043</td>\n",
       "      <td>-0.000086</td>\n",
       "      <td>0.000914</td>\n",
       "      <td>-0.000043</td>\n",
       "      <td>-0.000010</td>\n",
       "      <td>-0.000010</td>\n",
       "      <td>0.000990</td>\n",
       "      <td>-9.536743e-07</td>\n",
       "    </tr>\n",
       "  </tbody>\n",
       "</table>\n",
       "<p>5 rows × 287 columns</p>\n",
       "</div>"
      ],
      "text/plain": [
       "   row_id     A0T0G0C10  A0T0G1C9      A0T0G2C8  A0T0G3C7  A0T0G4C6  A0T0G5C5  \\\n",
       "0  200000 -9.536743e-07 -0.000002 -9.153442e-07  0.000024  0.000034 -0.000002   \n",
       "1  200001 -9.536743e-07 -0.000010 -4.291534e-05 -0.000114  0.001800 -0.000240   \n",
       "2  200002  4.632568e-08  0.000003  8.465576e-08 -0.000014  0.000007 -0.000005   \n",
       "3  200003 -9.536743e-07 -0.000008  8.084656e-06  0.000216  0.000420  0.000514   \n",
       "4  200004 -9.536743e-07 -0.000010 -4.291534e-05 -0.000114 -0.000200 -0.000240   \n",
       "\n",
       "   A0T0G6C4  A0T0G7C3  A0T0G8C2  ...  A8T0G0C2  A8T0G1C1  A8T0G2C0  A8T1G0C1  \\\n",
       "0  0.000021  0.000024 -0.000009  ...  0.000039  0.000085  0.000055  0.000108   \n",
       "1  0.001800 -0.000114  0.000957  ... -0.000043  0.000914 -0.000043 -0.000086   \n",
       "2 -0.000004  0.000003  0.000004  ...  0.000041  0.000102  0.000084  0.000111   \n",
       "3  0.000452  0.000187 -0.000005  ...  0.000069  0.000158  0.000098  0.000175   \n",
       "4 -0.000200 -0.000114 -0.000043  ... -0.000043 -0.000086 -0.000043 -0.000086   \n",
       "\n",
       "   A8T1G1C0  A8T2G0C0  A9T0G0C1  A9T0G1C0  A9T1G0C0     A10T0G0C0  \n",
       "0  0.000090  0.000059  0.000010  0.000006  0.000027  4.632568e-08  \n",
       "1 -0.000086 -0.000043 -0.000010 -0.000010 -0.000010 -9.536743e-07  \n",
       "2  0.000117  0.000070  0.000020  0.000030  0.000021  4.632568e-08  \n",
       "3  0.000217  0.000150  0.000018  0.000016  0.000051 -9.536743e-07  \n",
       "4  0.000914 -0.000043 -0.000010 -0.000010  0.000990 -9.536743e-07  \n",
       "\n",
       "[5 rows x 287 columns]"
      ]
     },
     "execution_count": 42,
     "metadata": {},
     "output_type": "execute_result"
    }
   ],
   "source": [
    "# Load Kaggle's submission test set\n",
    "df_subm = pd.read_csv(\"/kaggle/input/tabular-playground-series-feb-2022/test.csv\")\n",
    "df_subm.head()"
   ]
  },
  {
   "cell_type": "code",
   "execution_count": 43,
   "id": "495f4c72",
   "metadata": {
    "execution": {
     "iopub.execute_input": "2022-03-08T12:36:57.999450Z",
     "iopub.status.busy": "2022-03-08T12:36:57.998779Z",
     "iopub.status.idle": "2022-03-08T12:36:58.002703Z",
     "shell.execute_reply": "2022-03-08T12:36:58.002061Z",
     "shell.execute_reply.started": "2022-03-08T12:06:35.407421Z"
    },
    "papermill": {
     "duration": 0.249464,
     "end_time": "2022-03-08T12:36:58.002845",
     "exception": false,
     "start_time": "2022-03-08T12:36:57.753381",
     "status": "completed"
    },
    "tags": []
   },
   "outputs": [
    {
     "data": {
      "text/html": [
       "<div>\n",
       "<style scoped>\n",
       "    .dataframe tbody tr th:only-of-type {\n",
       "        vertical-align: middle;\n",
       "    }\n",
       "\n",
       "    .dataframe tbody tr th {\n",
       "        vertical-align: top;\n",
       "    }\n",
       "\n",
       "    .dataframe thead th {\n",
       "        text-align: right;\n",
       "    }\n",
       "</style>\n",
       "<table border=\"1\" class=\"dataframe\">\n",
       "  <thead>\n",
       "    <tr style=\"text-align: right;\">\n",
       "      <th></th>\n",
       "      <th>row_id</th>\n",
       "    </tr>\n",
       "  </thead>\n",
       "  <tbody>\n",
       "    <tr>\n",
       "      <th>0</th>\n",
       "      <td>200000</td>\n",
       "    </tr>\n",
       "    <tr>\n",
       "      <th>1</th>\n",
       "      <td>200001</td>\n",
       "    </tr>\n",
       "    <tr>\n",
       "      <th>2</th>\n",
       "      <td>200002</td>\n",
       "    </tr>\n",
       "    <tr>\n",
       "      <th>3</th>\n",
       "      <td>200003</td>\n",
       "    </tr>\n",
       "    <tr>\n",
       "      <th>4</th>\n",
       "      <td>200004</td>\n",
       "    </tr>\n",
       "  </tbody>\n",
       "</table>\n",
       "</div>"
      ],
      "text/plain": [
       "   row_id\n",
       "0  200000\n",
       "1  200001\n",
       "2  200002\n",
       "3  200003\n",
       "4  200004"
      ]
     },
     "execution_count": 43,
     "metadata": {},
     "output_type": "execute_result"
    }
   ],
   "source": [
    "df_subm_results = pd.DataFrame(df_subm[\"row_id\"])\n",
    "df_subm_results.head()"
   ]
  },
  {
   "cell_type": "code",
   "execution_count": 44,
   "id": "61ba7d0c",
   "metadata": {
    "execution": {
     "iopub.execute_input": "2022-03-08T12:36:58.572000Z",
     "iopub.status.busy": "2022-03-08T12:36:58.570986Z",
     "iopub.status.idle": "2022-03-08T12:36:58.574047Z",
     "shell.execute_reply": "2022-03-08T12:36:58.573479Z",
     "shell.execute_reply.started": "2022-03-08T12:06:35.408711Z"
    },
    "papermill": {
     "duration": 0.335457,
     "end_time": "2022-03-08T12:36:58.574194",
     "exception": false,
     "start_time": "2022-03-08T12:36:58.238737",
     "status": "completed"
    },
    "tags": []
   },
   "outputs": [],
   "source": [
    "X_subm = df_subm.drop(columns=\"row_id\")"
   ]
  },
  {
   "cell_type": "code",
   "execution_count": 45,
   "id": "1eddb909",
   "metadata": {
    "execution": {
     "iopub.execute_input": "2022-03-08T12:36:59.059358Z",
     "iopub.status.busy": "2022-03-08T12:36:59.058499Z",
     "iopub.status.idle": "2022-03-08T12:36:59.465852Z",
     "shell.execute_reply": "2022-03-08T12:36:59.467293Z",
     "shell.execute_reply.started": "2022-03-08T12:06:35.409962Z"
    },
    "papermill": {
     "duration": 0.656195,
     "end_time": "2022-03-08T12:36:59.467592",
     "exception": false,
     "start_time": "2022-03-08T12:36:58.811397",
     "status": "completed"
    },
    "tags": []
   },
   "outputs": [
    {
     "data": {
      "text/plain": [
       "(100000, 10)"
      ]
     },
     "execution_count": 45,
     "metadata": {},
     "output_type": "execute_result"
    }
   ],
   "source": [
    "# Standardize test set\n",
    "X_subm_st = st_scaler.transform(X_subm)\n",
    "X_subm_st.shape\n",
    "\n",
    "# PCA transform on test set\n",
    "X_subm_pca = pca.transform(X_subm_st)\n",
    "X_subm_pca.shape"
   ]
  },
  {
   "cell_type": "code",
   "execution_count": 46,
   "id": "4cf0ba95",
   "metadata": {
    "execution": {
     "iopub.execute_input": "2022-03-08T12:36:59.999135Z",
     "iopub.status.busy": "2022-03-08T12:36:59.997936Z",
     "iopub.status.idle": "2022-03-08T12:37:00.025009Z",
     "shell.execute_reply": "2022-03-08T12:37:00.024288Z",
     "shell.execute_reply.started": "2022-03-08T12:06:35.411281Z"
    },
    "papermill": {
     "duration": 0.270794,
     "end_time": "2022-03-08T12:37:00.025161",
     "exception": false,
     "start_time": "2022-03-08T12:36:59.754367",
     "status": "completed"
    },
    "tags": []
   },
   "outputs": [],
   "source": [
    "if use_neural_network:\n",
    "    # Predict probabilty distributions over possible labels\n",
    "    Y_subm_predicted_p = final_model.predict(X_subm_pca)\n",
    "    # Store the index of the most probable label\n",
    "    Y_subm_predicted = np.argmax(Y_subm_predicted_p, axis=1)\n",
    "else:\n",
    "    Y_subm_predicted = final_model.predict(X_subm_pca)\n",
    "\n",
    "# Convert label indexes to text\n",
    "Y_subm_predicted_labeled = label_encoder.inverse_transform(Y_subm_predicted)\n",
    "# Store the predicted targets in the dataframe\n",
    "df_subm_results[\"target\"] = Y_subm_predicted_labeled"
   ]
  },
  {
   "cell_type": "code",
   "execution_count": 47,
   "id": "71bff6cc",
   "metadata": {
    "execution": {
     "iopub.execute_input": "2022-03-08T12:37:00.504724Z",
     "iopub.status.busy": "2022-03-08T12:37:00.504014Z",
     "iopub.status.idle": "2022-03-08T12:37:00.507954Z",
     "shell.execute_reply": "2022-03-08T12:37:00.507434Z",
     "shell.execute_reply.started": "2022-03-08T12:06:35.412595Z"
    },
    "papermill": {
     "duration": 0.248579,
     "end_time": "2022-03-08T12:37:00.508107",
     "exception": false,
     "start_time": "2022-03-08T12:37:00.259528",
     "status": "completed"
    },
    "tags": []
   },
   "outputs": [
    {
     "data": {
      "text/html": [
       "<div>\n",
       "<style scoped>\n",
       "    .dataframe tbody tr th:only-of-type {\n",
       "        vertical-align: middle;\n",
       "    }\n",
       "\n",
       "    .dataframe tbody tr th {\n",
       "        vertical-align: top;\n",
       "    }\n",
       "\n",
       "    .dataframe thead th {\n",
       "        text-align: right;\n",
       "    }\n",
       "</style>\n",
       "<table border=\"1\" class=\"dataframe\">\n",
       "  <thead>\n",
       "    <tr style=\"text-align: right;\">\n",
       "      <th></th>\n",
       "      <th>row_id</th>\n",
       "      <th>target</th>\n",
       "    </tr>\n",
       "  </thead>\n",
       "  <tbody>\n",
       "    <tr>\n",
       "      <th>0</th>\n",
       "      <td>200000</td>\n",
       "      <td>Escherichia_fergusonii</td>\n",
       "    </tr>\n",
       "    <tr>\n",
       "      <th>1</th>\n",
       "      <td>200001</td>\n",
       "      <td>Salmonella_enterica</td>\n",
       "    </tr>\n",
       "    <tr>\n",
       "      <th>2</th>\n",
       "      <td>200002</td>\n",
       "      <td>Enterococcus_hirae</td>\n",
       "    </tr>\n",
       "    <tr>\n",
       "      <th>3</th>\n",
       "      <td>200003</td>\n",
       "      <td>Salmonella_enterica</td>\n",
       "    </tr>\n",
       "    <tr>\n",
       "      <th>4</th>\n",
       "      <td>200004</td>\n",
       "      <td>Staphylococcus_aureus</td>\n",
       "    </tr>\n",
       "  </tbody>\n",
       "</table>\n",
       "</div>"
      ],
      "text/plain": [
       "   row_id                  target\n",
       "0  200000  Escherichia_fergusonii\n",
       "1  200001     Salmonella_enterica\n",
       "2  200002      Enterococcus_hirae\n",
       "3  200003     Salmonella_enterica\n",
       "4  200004   Staphylococcus_aureus"
      ]
     },
     "execution_count": 47,
     "metadata": {},
     "output_type": "execute_result"
    }
   ],
   "source": [
    "df_subm_results.head()"
   ]
  },
  {
   "cell_type": "code",
   "execution_count": 48,
   "id": "e5a464e6",
   "metadata": {
    "execution": {
     "iopub.execute_input": "2022-03-08T12:37:00.989293Z",
     "iopub.status.busy": "2022-03-08T12:37:00.988247Z",
     "iopub.status.idle": "2022-03-08T12:37:01.241158Z",
     "shell.execute_reply": "2022-03-08T12:37:01.240443Z",
     "shell.execute_reply.started": "2022-03-08T12:06:35.413882Z"
    },
    "papermill": {
     "duration": 0.497064,
     "end_time": "2022-03-08T12:37:01.241316",
     "exception": false,
     "start_time": "2022-03-08T12:37:00.744252",
     "status": "completed"
    },
    "tags": []
   },
   "outputs": [],
   "source": [
    "df_subm_results.to_csv(\"submission.csv\", index=False)"
   ]
  },
  {
   "cell_type": "code",
   "execution_count": null,
   "id": "a44e7fc0",
   "metadata": {
    "papermill": {
     "duration": 0.271729,
     "end_time": "2022-03-08T12:37:01.751477",
     "exception": false,
     "start_time": "2022-03-08T12:37:01.479748",
     "status": "completed"
    },
    "tags": []
   },
   "outputs": [],
   "source": []
  },
  {
   "cell_type": "code",
   "execution_count": null,
   "id": "984e5c39",
   "metadata": {
    "papermill": {
     "duration": 0.240058,
     "end_time": "2022-03-08T12:37:02.235174",
     "exception": false,
     "start_time": "2022-03-08T12:37:01.995116",
     "status": "completed"
    },
    "tags": []
   },
   "outputs": [],
   "source": []
  }
 ],
 "metadata": {
  "kernelspec": {
   "display_name": "Python 3",
   "language": "python",
   "name": "python3"
  },
  "language_info": {
   "codemirror_mode": {
    "name": "ipython",
    "version": 3
   },
   "file_extension": ".py",
   "mimetype": "text/x-python",
   "name": "python",
   "nbconvert_exporter": "python",
   "pygments_lexer": "ipython3",
   "version": "3.7.12"
  },
  "papermill": {
   "default_parameters": {},
   "duration": 201.919812,
   "end_time": "2022-03-08T12:37:05.929688",
   "environment_variables": {},
   "exception": null,
   "input_path": "__notebook__.ipynb",
   "output_path": "__notebook__.ipynb",
   "parameters": {},
   "start_time": "2022-03-08T12:33:44.009876",
   "version": "2.3.3"
  }
 },
 "nbformat": 4,
 "nbformat_minor": 5
}
