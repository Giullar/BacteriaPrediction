{
 "cells": [
  {
   "cell_type": "markdown",
   "id": "07cf80e1",
   "metadata": {
    "_cell_guid": "b1076dfc-b9ad-4769-8c92-a6c4dae69d19",
    "_uuid": "8f2839f25d086af736a60e9eeb907d3b93b6e0e5",
    "execution": {
     "iopub.execute_input": "2022-03-02T14:33:46.222715Z",
     "iopub.status.busy": "2022-03-02T14:33:46.221872Z",
     "iopub.status.idle": "2022-03-02T14:33:46.251698Z",
     "shell.execute_reply": "2022-03-02T14:33:46.250819Z",
     "shell.execute_reply.started": "2022-03-02T14:33:46.222522Z"
    },
    "papermill": {
     "duration": 0.072946,
     "end_time": "2022-03-09T08:55:02.141114",
     "exception": false,
     "start_time": "2022-03-09T08:55:02.068168",
     "status": "completed"
    },
    "tags": []
   },
   "source": [
    "# **Bacteria Prediction**"
   ]
  },
  {
   "cell_type": "markdown",
   "id": "2afe5b5e",
   "metadata": {
    "papermill": {
     "duration": 0.068644,
     "end_time": "2022-03-09T08:55:02.278208",
     "exception": false,
     "start_time": "2022-03-09T08:55:02.209564",
     "status": "completed"
    },
    "tags": []
   },
   "source": [
    "## **Data Loading**"
   ]
  },
  {
   "cell_type": "code",
   "execution_count": 1,
   "id": "513ab9fc",
   "metadata": {
    "execution": {
     "iopub.execute_input": "2022-03-09T08:55:02.419423Z",
     "iopub.status.busy": "2022-03-09T08:55:02.418269Z",
     "iopub.status.idle": "2022-03-09T08:55:02.427119Z",
     "shell.execute_reply": "2022-03-09T08:55:02.427592Z",
     "shell.execute_reply.started": "2022-03-08T15:16:10.869085Z"
    },
    "papermill": {
     "duration": 0.080838,
     "end_time": "2022-03-09T08:55:02.427886",
     "exception": false,
     "start_time": "2022-03-09T08:55:02.347048",
     "status": "completed"
    },
    "tags": []
   },
   "outputs": [],
   "source": [
    "import os\n",
    "import numpy as np\n",
    "import pandas as pd\n",
    "import matplotlib.pyplot as plt\n",
    "\n",
    "# Global variables\n",
    "random_seed = 42"
   ]
  },
  {
   "cell_type": "code",
   "execution_count": 2,
   "id": "99a46ba3",
   "metadata": {
    "execution": {
     "iopub.execute_input": "2022-03-09T08:55:02.568653Z",
     "iopub.status.busy": "2022-03-09T08:55:02.567705Z",
     "iopub.status.idle": "2022-03-09T08:55:02.574972Z",
     "shell.execute_reply": "2022-03-09T08:55:02.575524Z",
     "shell.execute_reply.started": "2022-03-08T15:16:10.880029Z"
    },
    "papermill": {
     "duration": 0.079364,
     "end_time": "2022-03-09T08:55:02.575695",
     "exception": false,
     "start_time": "2022-03-09T08:55:02.496331",
     "status": "completed"
    },
    "tags": []
   },
   "outputs": [
    {
     "name": "stdout",
     "output_type": "stream",
     "text": [
      "/kaggle/input/tabular-playground-series-feb-2022/sample_submission.csv\n",
      "/kaggle/input/tabular-playground-series-feb-2022/train.csv\n",
      "/kaggle/input/tabular-playground-series-feb-2022/test.csv\n"
     ]
    }
   ],
   "source": [
    "# Print directory structure\n",
    "for dirname, _, filenames in os.walk('/kaggle/input'):\n",
    "    for filename in filenames:\n",
    "        print(os.path.join(dirname, filename))"
   ]
  },
  {
   "cell_type": "code",
   "execution_count": 3,
   "id": "c6bca93c",
   "metadata": {
    "execution": {
     "iopub.execute_input": "2022-03-09T08:55:02.717725Z",
     "iopub.status.busy": "2022-03-09T08:55:02.716777Z",
     "iopub.status.idle": "2022-03-09T08:55:31.564534Z",
     "shell.execute_reply": "2022-03-09T08:55:31.563912Z",
     "shell.execute_reply.started": "2022-03-08T15:16:10.901572Z"
    },
    "papermill": {
     "duration": 28.91957,
     "end_time": "2022-03-09T08:55:31.564687",
     "exception": false,
     "start_time": "2022-03-09T08:55:02.645117",
     "status": "completed"
    },
    "tags": []
   },
   "outputs": [],
   "source": [
    "# Load training set\n",
    "df = pd.read_csv(\"/kaggle/input/tabular-playground-series-feb-2022/train.csv\")"
   ]
  },
  {
   "cell_type": "markdown",
   "id": "27b7f5dc",
   "metadata": {
    "papermill": {
     "duration": 0.068604,
     "end_time": "2022-03-09T08:55:31.702896",
     "exception": false,
     "start_time": "2022-03-09T08:55:31.634292",
     "status": "completed"
    },
    "tags": []
   },
   "source": [
    "## **Data Analysis**"
   ]
  },
  {
   "cell_type": "code",
   "execution_count": 4,
   "id": "5835d7dc",
   "metadata": {
    "execution": {
     "iopub.execute_input": "2022-03-09T08:55:31.850372Z",
     "iopub.status.busy": "2022-03-09T08:55:31.849692Z",
     "iopub.status.idle": "2022-03-09T08:55:31.853680Z",
     "shell.execute_reply": "2022-03-09T08:55:31.853154Z",
     "shell.execute_reply.started": "2022-03-08T15:16:26.043492Z"
    },
    "papermill": {
     "duration": 0.082103,
     "end_time": "2022-03-09T08:55:31.853823",
     "exception": false,
     "start_time": "2022-03-09T08:55:31.771720",
     "status": "completed"
    },
    "tags": []
   },
   "outputs": [
    {
     "data": {
      "text/plain": [
       "(200000, 288)"
      ]
     },
     "execution_count": 4,
     "metadata": {},
     "output_type": "execute_result"
    }
   ],
   "source": [
    "df.shape"
   ]
  },
  {
   "cell_type": "code",
   "execution_count": 5,
   "id": "a2702731",
   "metadata": {
    "execution": {
     "iopub.execute_input": "2022-03-09T08:55:31.998817Z",
     "iopub.status.busy": "2022-03-09T08:55:31.998167Z",
     "iopub.status.idle": "2022-03-09T08:55:32.026851Z",
     "shell.execute_reply": "2022-03-09T08:55:32.027370Z",
     "shell.execute_reply.started": "2022-03-08T15:16:26.052993Z"
    },
    "papermill": {
     "duration": 0.104029,
     "end_time": "2022-03-09T08:55:32.027541",
     "exception": false,
     "start_time": "2022-03-09T08:55:31.923512",
     "status": "completed"
    },
    "tags": []
   },
   "outputs": [
    {
     "data": {
      "text/html": [
       "<div>\n",
       "<style scoped>\n",
       "    .dataframe tbody tr th:only-of-type {\n",
       "        vertical-align: middle;\n",
       "    }\n",
       "\n",
       "    .dataframe tbody tr th {\n",
       "        vertical-align: top;\n",
       "    }\n",
       "\n",
       "    .dataframe thead th {\n",
       "        text-align: right;\n",
       "    }\n",
       "</style>\n",
       "<table border=\"1\" class=\"dataframe\">\n",
       "  <thead>\n",
       "    <tr style=\"text-align: right;\">\n",
       "      <th></th>\n",
       "      <th>row_id</th>\n",
       "      <th>A0T0G0C10</th>\n",
       "      <th>A0T0G1C9</th>\n",
       "      <th>A0T0G2C8</th>\n",
       "      <th>A0T0G3C7</th>\n",
       "      <th>A0T0G4C6</th>\n",
       "      <th>A0T0G5C5</th>\n",
       "      <th>A0T0G6C4</th>\n",
       "      <th>A0T0G7C3</th>\n",
       "      <th>A0T0G8C2</th>\n",
       "      <th>...</th>\n",
       "      <th>A8T0G1C1</th>\n",
       "      <th>A8T0G2C0</th>\n",
       "      <th>A8T1G0C1</th>\n",
       "      <th>A8T1G1C0</th>\n",
       "      <th>A8T2G0C0</th>\n",
       "      <th>A9T0G0C1</th>\n",
       "      <th>A9T0G1C0</th>\n",
       "      <th>A9T1G0C0</th>\n",
       "      <th>A10T0G0C0</th>\n",
       "      <th>target</th>\n",
       "    </tr>\n",
       "  </thead>\n",
       "  <tbody>\n",
       "    <tr>\n",
       "      <th>0</th>\n",
       "      <td>0</td>\n",
       "      <td>-9.536743e-07</td>\n",
       "      <td>-0.000010</td>\n",
       "      <td>-0.000043</td>\n",
       "      <td>-0.000114</td>\n",
       "      <td>-0.000200</td>\n",
       "      <td>-0.000240</td>\n",
       "      <td>-0.000200</td>\n",
       "      <td>-0.000114</td>\n",
       "      <td>-0.000043</td>\n",
       "      <td>...</td>\n",
       "      <td>-0.000086</td>\n",
       "      <td>-0.000043</td>\n",
       "      <td>-0.000086</td>\n",
       "      <td>-0.000086</td>\n",
       "      <td>-0.000043</td>\n",
       "      <td>-0.000010</td>\n",
       "      <td>-0.000010</td>\n",
       "      <td>-0.000010</td>\n",
       "      <td>-9.536743e-07</td>\n",
       "      <td>Streptococcus_pyogenes</td>\n",
       "    </tr>\n",
       "    <tr>\n",
       "      <th>1</th>\n",
       "      <td>1</td>\n",
       "      <td>-9.536743e-07</td>\n",
       "      <td>-0.000010</td>\n",
       "      <td>-0.000043</td>\n",
       "      <td>0.000886</td>\n",
       "      <td>-0.000200</td>\n",
       "      <td>0.000760</td>\n",
       "      <td>-0.000200</td>\n",
       "      <td>-0.000114</td>\n",
       "      <td>-0.000043</td>\n",
       "      <td>...</td>\n",
       "      <td>-0.000086</td>\n",
       "      <td>-0.000043</td>\n",
       "      <td>0.000914</td>\n",
       "      <td>0.000914</td>\n",
       "      <td>-0.000043</td>\n",
       "      <td>-0.000010</td>\n",
       "      <td>-0.000010</td>\n",
       "      <td>-0.000010</td>\n",
       "      <td>-9.536743e-07</td>\n",
       "      <td>Salmonella_enterica</td>\n",
       "    </tr>\n",
       "    <tr>\n",
       "      <th>2</th>\n",
       "      <td>2</td>\n",
       "      <td>-9.536743e-07</td>\n",
       "      <td>-0.000002</td>\n",
       "      <td>0.000007</td>\n",
       "      <td>0.000129</td>\n",
       "      <td>0.000268</td>\n",
       "      <td>0.000270</td>\n",
       "      <td>0.000243</td>\n",
       "      <td>0.000125</td>\n",
       "      <td>0.000001</td>\n",
       "      <td>...</td>\n",
       "      <td>0.000084</td>\n",
       "      <td>0.000048</td>\n",
       "      <td>0.000081</td>\n",
       "      <td>0.000106</td>\n",
       "      <td>0.000072</td>\n",
       "      <td>0.000010</td>\n",
       "      <td>0.000008</td>\n",
       "      <td>0.000019</td>\n",
       "      <td>1.046326e-06</td>\n",
       "      <td>Salmonella_enterica</td>\n",
       "    </tr>\n",
       "    <tr>\n",
       "      <th>3</th>\n",
       "      <td>3</td>\n",
       "      <td>4.632568e-08</td>\n",
       "      <td>-0.000006</td>\n",
       "      <td>0.000012</td>\n",
       "      <td>0.000245</td>\n",
       "      <td>0.000492</td>\n",
       "      <td>0.000522</td>\n",
       "      <td>0.000396</td>\n",
       "      <td>0.000197</td>\n",
       "      <td>-0.000003</td>\n",
       "      <td>...</td>\n",
       "      <td>0.000151</td>\n",
       "      <td>0.000100</td>\n",
       "      <td>0.000180</td>\n",
       "      <td>0.000202</td>\n",
       "      <td>0.000153</td>\n",
       "      <td>0.000021</td>\n",
       "      <td>0.000015</td>\n",
       "      <td>0.000046</td>\n",
       "      <td>-9.536743e-07</td>\n",
       "      <td>Salmonella_enterica</td>\n",
       "    </tr>\n",
       "    <tr>\n",
       "      <th>4</th>\n",
       "      <td>4</td>\n",
       "      <td>-9.536743e-07</td>\n",
       "      <td>-0.000010</td>\n",
       "      <td>-0.000043</td>\n",
       "      <td>-0.000114</td>\n",
       "      <td>-0.000200</td>\n",
       "      <td>-0.000240</td>\n",
       "      <td>-0.000200</td>\n",
       "      <td>-0.000114</td>\n",
       "      <td>-0.000043</td>\n",
       "      <td>...</td>\n",
       "      <td>-0.000086</td>\n",
       "      <td>-0.000043</td>\n",
       "      <td>-0.000086</td>\n",
       "      <td>-0.000086</td>\n",
       "      <td>-0.000043</td>\n",
       "      <td>-0.000010</td>\n",
       "      <td>-0.000010</td>\n",
       "      <td>-0.000010</td>\n",
       "      <td>-9.536743e-07</td>\n",
       "      <td>Enterococcus_hirae</td>\n",
       "    </tr>\n",
       "  </tbody>\n",
       "</table>\n",
       "<p>5 rows × 288 columns</p>\n",
       "</div>"
      ],
      "text/plain": [
       "   row_id     A0T0G0C10  A0T0G1C9  A0T0G2C8  A0T0G3C7  A0T0G4C6  A0T0G5C5  \\\n",
       "0       0 -9.536743e-07 -0.000010 -0.000043 -0.000114 -0.000200 -0.000240   \n",
       "1       1 -9.536743e-07 -0.000010 -0.000043  0.000886 -0.000200  0.000760   \n",
       "2       2 -9.536743e-07 -0.000002  0.000007  0.000129  0.000268  0.000270   \n",
       "3       3  4.632568e-08 -0.000006  0.000012  0.000245  0.000492  0.000522   \n",
       "4       4 -9.536743e-07 -0.000010 -0.000043 -0.000114 -0.000200 -0.000240   \n",
       "\n",
       "   A0T0G6C4  A0T0G7C3  A0T0G8C2  ...  A8T0G1C1  A8T0G2C0  A8T1G0C1  A8T1G1C0  \\\n",
       "0 -0.000200 -0.000114 -0.000043  ... -0.000086 -0.000043 -0.000086 -0.000086   \n",
       "1 -0.000200 -0.000114 -0.000043  ... -0.000086 -0.000043  0.000914  0.000914   \n",
       "2  0.000243  0.000125  0.000001  ...  0.000084  0.000048  0.000081  0.000106   \n",
       "3  0.000396  0.000197 -0.000003  ...  0.000151  0.000100  0.000180  0.000202   \n",
       "4 -0.000200 -0.000114 -0.000043  ... -0.000086 -0.000043 -0.000086 -0.000086   \n",
       "\n",
       "   A8T2G0C0  A9T0G0C1  A9T0G1C0  A9T1G0C0     A10T0G0C0  \\\n",
       "0 -0.000043 -0.000010 -0.000010 -0.000010 -9.536743e-07   \n",
       "1 -0.000043 -0.000010 -0.000010 -0.000010 -9.536743e-07   \n",
       "2  0.000072  0.000010  0.000008  0.000019  1.046326e-06   \n",
       "3  0.000153  0.000021  0.000015  0.000046 -9.536743e-07   \n",
       "4 -0.000043 -0.000010 -0.000010 -0.000010 -9.536743e-07   \n",
       "\n",
       "                   target  \n",
       "0  Streptococcus_pyogenes  \n",
       "1     Salmonella_enterica  \n",
       "2     Salmonella_enterica  \n",
       "3     Salmonella_enterica  \n",
       "4      Enterococcus_hirae  \n",
       "\n",
       "[5 rows x 288 columns]"
      ]
     },
     "execution_count": 5,
     "metadata": {},
     "output_type": "execute_result"
    }
   ],
   "source": [
    "df.head()"
   ]
  },
  {
   "cell_type": "code",
   "execution_count": 6,
   "id": "d28f9a00",
   "metadata": {
    "execution": {
     "iopub.execute_input": "2022-03-09T08:55:32.169813Z",
     "iopub.status.busy": "2022-03-09T08:55:32.169227Z",
     "iopub.status.idle": "2022-03-09T08:55:32.175692Z",
     "shell.execute_reply": "2022-03-09T08:55:32.176188Z",
     "shell.execute_reply.started": "2022-03-08T15:16:26.086655Z"
    },
    "papermill": {
     "duration": 0.079222,
     "end_time": "2022-03-09T08:55:32.176357",
     "exception": false,
     "start_time": "2022-03-09T08:55:32.097135",
     "status": "completed"
    },
    "tags": []
   },
   "outputs": [
    {
     "data": {
      "text/plain": [
       "row_id         int64\n",
       "A0T0G0C10    float64\n",
       "A0T0G1C9     float64\n",
       "A0T0G2C8     float64\n",
       "A0T0G3C7     float64\n",
       "              ...   \n",
       "A9T0G0C1     float64\n",
       "A9T0G1C0     float64\n",
       "A9T1G0C0     float64\n",
       "A10T0G0C0    float64\n",
       "target        object\n",
       "Length: 288, dtype: object"
      ]
     },
     "execution_count": 6,
     "metadata": {},
     "output_type": "execute_result"
    }
   ],
   "source": [
    "df.dtypes"
   ]
  },
  {
   "cell_type": "code",
   "execution_count": 7,
   "id": "771cdc8f",
   "metadata": {
    "execution": {
     "iopub.execute_input": "2022-03-09T08:55:32.319685Z",
     "iopub.status.busy": "2022-03-09T08:55:32.319095Z",
     "iopub.status.idle": "2022-03-09T08:55:32.493379Z",
     "shell.execute_reply": "2022-03-09T08:55:32.492858Z",
     "shell.execute_reply.started": "2022-03-08T15:16:26.10437Z"
    },
    "papermill": {
     "duration": 0.247008,
     "end_time": "2022-03-09T08:55:32.493541",
     "exception": false,
     "start_time": "2022-03-09T08:55:32.246533",
     "status": "completed"
    },
    "tags": []
   },
   "outputs": [
    {
     "data": {
      "text/plain": [
       "(200000, 287)"
      ]
     },
     "execution_count": 7,
     "metadata": {},
     "output_type": "execute_result"
    }
   ],
   "source": [
    "# We drop the row_id column because we will not use it\n",
    "df.drop(columns=[\"row_id\"], inplace=True)\n",
    "df.shape"
   ]
  },
  {
   "cell_type": "code",
   "execution_count": 8,
   "id": "9f5df495",
   "metadata": {
    "execution": {
     "iopub.execute_input": "2022-03-09T08:55:32.637967Z",
     "iopub.status.busy": "2022-03-09T08:55:32.637320Z",
     "iopub.status.idle": "2022-03-09T08:55:32.786471Z",
     "shell.execute_reply": "2022-03-09T08:55:32.785737Z",
     "shell.execute_reply.started": "2022-03-08T15:16:26.267529Z"
    },
    "papermill": {
     "duration": 0.22218,
     "end_time": "2022-03-09T08:55:32.786627",
     "exception": false,
     "start_time": "2022-03-09T08:55:32.564447",
     "status": "completed"
    },
    "tags": []
   },
   "outputs": [
    {
     "data": {
      "text/plain": [
       "False"
      ]
     },
     "execution_count": 8,
     "metadata": {},
     "output_type": "execute_result"
    }
   ],
   "source": [
    "# Check the presence of null values\n",
    "df.isnull().values.any()"
   ]
  },
  {
   "cell_type": "code",
   "execution_count": 9,
   "id": "cc74c596",
   "metadata": {
    "execution": {
     "iopub.execute_input": "2022-03-09T08:55:32.949909Z",
     "iopub.status.busy": "2022-03-09T08:55:32.948959Z",
     "iopub.status.idle": "2022-03-09T08:55:33.125829Z",
     "shell.execute_reply": "2022-03-09T08:55:33.125215Z",
     "shell.execute_reply.started": "2022-03-08T15:16:26.399872Z"
    },
    "papermill": {
     "duration": 0.264981,
     "end_time": "2022-03-09T08:55:33.125986",
     "exception": false,
     "start_time": "2022-03-09T08:55:32.861005",
     "status": "completed"
    },
    "tags": []
   },
   "outputs": [
    {
     "data": {
      "text/plain": [
       "True"
      ]
     },
     "execution_count": 9,
     "metadata": {},
     "output_type": "execute_result"
    }
   ],
   "source": [
    "# Check that all the values in the dataframe are not equal to zero\n",
    "df.all().all()"
   ]
  },
  {
   "cell_type": "markdown",
   "id": "2ade99f0",
   "metadata": {
    "papermill": {
     "duration": 0.07224,
     "end_time": "2022-03-09T08:55:33.269869",
     "exception": false,
     "start_time": "2022-03-09T08:55:33.197629",
     "status": "completed"
    },
    "tags": []
   },
   "source": [
    "As we have seen, in the dataframe there aren't null or 0 values."
   ]
  },
  {
   "cell_type": "code",
   "execution_count": 10,
   "id": "a19f4b50",
   "metadata": {
    "execution": {
     "iopub.execute_input": "2022-03-09T08:55:33.423181Z",
     "iopub.status.busy": "2022-03-09T08:55:33.422198Z",
     "iopub.status.idle": "2022-03-09T08:55:36.340406Z",
     "shell.execute_reply": "2022-03-09T08:55:36.340975Z",
     "shell.execute_reply.started": "2022-03-08T15:16:26.575899Z"
    },
    "papermill": {
     "duration": 2.998959,
     "end_time": "2022-03-09T08:55:36.341175",
     "exception": false,
     "start_time": "2022-03-09T08:55:33.342216",
     "status": "completed"
    },
    "tags": []
   },
   "outputs": [
    {
     "data": {
      "text/html": [
       "<div>\n",
       "<style scoped>\n",
       "    .dataframe tbody tr th:only-of-type {\n",
       "        vertical-align: middle;\n",
       "    }\n",
       "\n",
       "    .dataframe tbody tr th {\n",
       "        vertical-align: top;\n",
       "    }\n",
       "\n",
       "    .dataframe thead th {\n",
       "        text-align: right;\n",
       "    }\n",
       "</style>\n",
       "<table border=\"1\" class=\"dataframe\">\n",
       "  <thead>\n",
       "    <tr style=\"text-align: right;\">\n",
       "      <th></th>\n",
       "      <th>A0T0G0C10</th>\n",
       "      <th>A0T0G1C9</th>\n",
       "      <th>A0T0G2C8</th>\n",
       "      <th>A0T0G3C7</th>\n",
       "      <th>A0T0G4C6</th>\n",
       "      <th>A0T0G5C5</th>\n",
       "      <th>A0T0G6C4</th>\n",
       "      <th>A0T0G7C3</th>\n",
       "      <th>A0T0G8C2</th>\n",
       "      <th>A0T0G9C1</th>\n",
       "      <th>...</th>\n",
       "      <th>A8T0G0C2</th>\n",
       "      <th>A8T0G1C1</th>\n",
       "      <th>A8T0G2C0</th>\n",
       "      <th>A8T1G0C1</th>\n",
       "      <th>A8T1G1C0</th>\n",
       "      <th>A8T2G0C0</th>\n",
       "      <th>A9T0G0C1</th>\n",
       "      <th>A9T0G1C0</th>\n",
       "      <th>A9T1G0C0</th>\n",
       "      <th>A10T0G0C0</th>\n",
       "    </tr>\n",
       "  </thead>\n",
       "  <tbody>\n",
       "    <tr>\n",
       "      <th>count</th>\n",
       "      <td>2.000000e+05</td>\n",
       "      <td>200000.000000</td>\n",
       "      <td>200000.000000</td>\n",
       "      <td>200000.000000</td>\n",
       "      <td>200000.000000</td>\n",
       "      <td>200000.000000</td>\n",
       "      <td>200000.000000</td>\n",
       "      <td>200000.000000</td>\n",
       "      <td>200000.000000</td>\n",
       "      <td>200000.000000</td>\n",
       "      <td>...</td>\n",
       "      <td>200000.000000</td>\n",
       "      <td>200000.000000</td>\n",
       "      <td>200000.000000</td>\n",
       "      <td>200000.000000</td>\n",
       "      <td>200000.000000</td>\n",
       "      <td>200000.000000</td>\n",
       "      <td>200000.000000</td>\n",
       "      <td>2.000000e+05</td>\n",
       "      <td>2.000000e+05</td>\n",
       "      <td>2.000000e+05</td>\n",
       "    </tr>\n",
       "    <tr>\n",
       "      <th>mean</th>\n",
       "      <td>6.421457e-07</td>\n",
       "      <td>-0.000003</td>\n",
       "      <td>-0.000014</td>\n",
       "      <td>-0.000010</td>\n",
       "      <td>0.000005</td>\n",
       "      <td>0.000025</td>\n",
       "      <td>0.000014</td>\n",
       "      <td>-0.000009</td>\n",
       "      <td>-0.000028</td>\n",
       "      <td>-0.000008</td>\n",
       "      <td>...</td>\n",
       "      <td>0.000135</td>\n",
       "      <td>0.000348</td>\n",
       "      <td>0.000253</td>\n",
       "      <td>0.000464</td>\n",
       "      <td>0.000581</td>\n",
       "      <td>0.000379</td>\n",
       "      <td>0.000062</td>\n",
       "      <td>8.982134e-05</td>\n",
       "      <td>1.170014e-04</td>\n",
       "      <td>2.215407e-07</td>\n",
       "    </tr>\n",
       "    <tr>\n",
       "      <th>std</th>\n",
       "      <td>8.654927e-05</td>\n",
       "      <td>0.000132</td>\n",
       "      <td>0.000287</td>\n",
       "      <td>0.000436</td>\n",
       "      <td>0.000683</td>\n",
       "      <td>0.000869</td>\n",
       "      <td>0.000775</td>\n",
       "      <td>0.000441</td>\n",
       "      <td>0.000107</td>\n",
       "      <td>0.000083</td>\n",
       "      <td>...</td>\n",
       "      <td>0.000711</td>\n",
       "      <td>0.001117</td>\n",
       "      <td>0.000914</td>\n",
       "      <td>0.001238</td>\n",
       "      <td>0.001528</td>\n",
       "      <td>0.001182</td>\n",
       "      <td>0.000466</td>\n",
       "      <td>5.475606e-04</td>\n",
       "      <td>6.788277e-04</td>\n",
       "      <td>2.050081e-05</td>\n",
       "    </tr>\n",
       "    <tr>\n",
       "      <th>min</th>\n",
       "      <td>-9.536743e-07</td>\n",
       "      <td>-0.000010</td>\n",
       "      <td>-0.000043</td>\n",
       "      <td>-0.000114</td>\n",
       "      <td>-0.000200</td>\n",
       "      <td>-0.000240</td>\n",
       "      <td>-0.000200</td>\n",
       "      <td>-0.000114</td>\n",
       "      <td>-0.000043</td>\n",
       "      <td>-0.000010</td>\n",
       "      <td>...</td>\n",
       "      <td>-0.000043</td>\n",
       "      <td>-0.000086</td>\n",
       "      <td>-0.000043</td>\n",
       "      <td>-0.000086</td>\n",
       "      <td>-0.000086</td>\n",
       "      <td>-0.000043</td>\n",
       "      <td>-0.000010</td>\n",
       "      <td>-9.536743e-06</td>\n",
       "      <td>-9.536743e-06</td>\n",
       "      <td>-9.536743e-07</td>\n",
       "    </tr>\n",
       "    <tr>\n",
       "      <th>25%</th>\n",
       "      <td>-9.536743e-07</td>\n",
       "      <td>-0.000010</td>\n",
       "      <td>-0.000043</td>\n",
       "      <td>-0.000114</td>\n",
       "      <td>-0.000200</td>\n",
       "      <td>-0.000240</td>\n",
       "      <td>-0.000200</td>\n",
       "      <td>-0.000114</td>\n",
       "      <td>-0.000043</td>\n",
       "      <td>-0.000010</td>\n",
       "      <td>...</td>\n",
       "      <td>-0.000043</td>\n",
       "      <td>-0.000086</td>\n",
       "      <td>-0.000043</td>\n",
       "      <td>-0.000086</td>\n",
       "      <td>-0.000086</td>\n",
       "      <td>-0.000043</td>\n",
       "      <td>-0.000010</td>\n",
       "      <td>-9.536743e-06</td>\n",
       "      <td>-9.536743e-06</td>\n",
       "      <td>-9.536743e-07</td>\n",
       "    </tr>\n",
       "    <tr>\n",
       "      <th>50%</th>\n",
       "      <td>-9.536743e-07</td>\n",
       "      <td>-0.000010</td>\n",
       "      <td>-0.000043</td>\n",
       "      <td>-0.000114</td>\n",
       "      <td>-0.000200</td>\n",
       "      <td>-0.000237</td>\n",
       "      <td>-0.000199</td>\n",
       "      <td>-0.000114</td>\n",
       "      <td>-0.000043</td>\n",
       "      <td>-0.000010</td>\n",
       "      <td>...</td>\n",
       "      <td>0.000014</td>\n",
       "      <td>0.000064</td>\n",
       "      <td>0.000047</td>\n",
       "      <td>0.000124</td>\n",
       "      <td>0.000114</td>\n",
       "      <td>0.000043</td>\n",
       "      <td>-0.000010</td>\n",
       "      <td>4.632568e-07</td>\n",
       "      <td>4.632568e-07</td>\n",
       "      <td>-9.536743e-07</td>\n",
       "    </tr>\n",
       "    <tr>\n",
       "      <th>75%</th>\n",
       "      <td>-9.536743e-07</td>\n",
       "      <td>-0.000003</td>\n",
       "      <td>-0.000013</td>\n",
       "      <td>-0.000004</td>\n",
       "      <td>-0.000011</td>\n",
       "      <td>0.000003</td>\n",
       "      <td>-0.000030</td>\n",
       "      <td>0.000004</td>\n",
       "      <td>-0.000028</td>\n",
       "      <td>-0.000010</td>\n",
       "      <td>...</td>\n",
       "      <td>0.000111</td>\n",
       "      <td>0.000463</td>\n",
       "      <td>0.000297</td>\n",
       "      <td>0.000684</td>\n",
       "      <td>0.000774</td>\n",
       "      <td>0.000365</td>\n",
       "      <td>0.000030</td>\n",
       "      <td>6.046326e-05</td>\n",
       "      <td>6.946326e-05</td>\n",
       "      <td>-9.536743e-07</td>\n",
       "    </tr>\n",
       "    <tr>\n",
       "      <th>max</th>\n",
       "      <td>9.999046e-03</td>\n",
       "      <td>0.009990</td>\n",
       "      <td>0.009957</td>\n",
       "      <td>0.009886</td>\n",
       "      <td>0.019800</td>\n",
       "      <td>0.019760</td>\n",
       "      <td>0.019800</td>\n",
       "      <td>0.009886</td>\n",
       "      <td>0.009957</td>\n",
       "      <td>0.009990</td>\n",
       "      <td>...</td>\n",
       "      <td>0.019957</td>\n",
       "      <td>0.019914</td>\n",
       "      <td>0.019957</td>\n",
       "      <td>0.019914</td>\n",
       "      <td>0.019914</td>\n",
       "      <td>0.019957</td>\n",
       "      <td>0.009990</td>\n",
       "      <td>9.990463e-03</td>\n",
       "      <td>1.999046e-02</td>\n",
       "      <td>9.990463e-04</td>\n",
       "    </tr>\n",
       "  </tbody>\n",
       "</table>\n",
       "<p>8 rows × 286 columns</p>\n",
       "</div>"
      ],
      "text/plain": [
       "          A0T0G0C10       A0T0G1C9       A0T0G2C8       A0T0G3C7  \\\n",
       "count  2.000000e+05  200000.000000  200000.000000  200000.000000   \n",
       "mean   6.421457e-07      -0.000003      -0.000014      -0.000010   \n",
       "std    8.654927e-05       0.000132       0.000287       0.000436   \n",
       "min   -9.536743e-07      -0.000010      -0.000043      -0.000114   \n",
       "25%   -9.536743e-07      -0.000010      -0.000043      -0.000114   \n",
       "50%   -9.536743e-07      -0.000010      -0.000043      -0.000114   \n",
       "75%   -9.536743e-07      -0.000003      -0.000013      -0.000004   \n",
       "max    9.999046e-03       0.009990       0.009957       0.009886   \n",
       "\n",
       "            A0T0G4C6       A0T0G5C5       A0T0G6C4       A0T0G7C3  \\\n",
       "count  200000.000000  200000.000000  200000.000000  200000.000000   \n",
       "mean        0.000005       0.000025       0.000014      -0.000009   \n",
       "std         0.000683       0.000869       0.000775       0.000441   \n",
       "min        -0.000200      -0.000240      -0.000200      -0.000114   \n",
       "25%        -0.000200      -0.000240      -0.000200      -0.000114   \n",
       "50%        -0.000200      -0.000237      -0.000199      -0.000114   \n",
       "75%        -0.000011       0.000003      -0.000030       0.000004   \n",
       "max         0.019800       0.019760       0.019800       0.009886   \n",
       "\n",
       "            A0T0G8C2       A0T0G9C1  ...       A8T0G0C2       A8T0G1C1  \\\n",
       "count  200000.000000  200000.000000  ...  200000.000000  200000.000000   \n",
       "mean       -0.000028      -0.000008  ...       0.000135       0.000348   \n",
       "std         0.000107       0.000083  ...       0.000711       0.001117   \n",
       "min        -0.000043      -0.000010  ...      -0.000043      -0.000086   \n",
       "25%        -0.000043      -0.000010  ...      -0.000043      -0.000086   \n",
       "50%        -0.000043      -0.000010  ...       0.000014       0.000064   \n",
       "75%        -0.000028      -0.000010  ...       0.000111       0.000463   \n",
       "max         0.009957       0.009990  ...       0.019957       0.019914   \n",
       "\n",
       "            A8T0G2C0       A8T1G0C1       A8T1G1C0       A8T2G0C0  \\\n",
       "count  200000.000000  200000.000000  200000.000000  200000.000000   \n",
       "mean        0.000253       0.000464       0.000581       0.000379   \n",
       "std         0.000914       0.001238       0.001528       0.001182   \n",
       "min        -0.000043      -0.000086      -0.000086      -0.000043   \n",
       "25%        -0.000043      -0.000086      -0.000086      -0.000043   \n",
       "50%         0.000047       0.000124       0.000114       0.000043   \n",
       "75%         0.000297       0.000684       0.000774       0.000365   \n",
       "max         0.019957       0.019914       0.019914       0.019957   \n",
       "\n",
       "            A9T0G0C1      A9T0G1C0      A9T1G0C0     A10T0G0C0  \n",
       "count  200000.000000  2.000000e+05  2.000000e+05  2.000000e+05  \n",
       "mean        0.000062  8.982134e-05  1.170014e-04  2.215407e-07  \n",
       "std         0.000466  5.475606e-04  6.788277e-04  2.050081e-05  \n",
       "min        -0.000010 -9.536743e-06 -9.536743e-06 -9.536743e-07  \n",
       "25%        -0.000010 -9.536743e-06 -9.536743e-06 -9.536743e-07  \n",
       "50%        -0.000010  4.632568e-07  4.632568e-07 -9.536743e-07  \n",
       "75%         0.000030  6.046326e-05  6.946326e-05 -9.536743e-07  \n",
       "max         0.009990  9.990463e-03  1.999046e-02  9.990463e-04  \n",
       "\n",
       "[8 rows x 286 columns]"
      ]
     },
     "execution_count": 10,
     "metadata": {},
     "output_type": "execute_result"
    }
   ],
   "source": [
    "df.describe()"
   ]
  },
  {
   "cell_type": "code",
   "execution_count": 11,
   "id": "7cf70d63",
   "metadata": {
    "execution": {
     "iopub.execute_input": "2022-03-09T08:55:36.496157Z",
     "iopub.status.busy": "2022-03-09T08:55:36.495452Z",
     "iopub.status.idle": "2022-03-09T08:55:36.834195Z",
     "shell.execute_reply": "2022-03-09T08:55:36.834714Z",
     "shell.execute_reply.started": "2022-03-08T15:16:29.438076Z"
    },
    "papermill": {
     "duration": 0.417384,
     "end_time": "2022-03-09T08:55:36.834895",
     "exception": false,
     "start_time": "2022-03-09T08:55:36.417511",
     "status": "completed"
    },
    "tags": []
   },
   "outputs": [
    {
     "data": {
      "image/png": "[encoded data removed]",
      "text/plain": [
       "<Figure size 432x288 with 1 Axes>"
      ]
     },
     "metadata": {
      "needs_background": "light"
     },
     "output_type": "display_data"
    }
   ],
   "source": [
    "# Plot the distribution of values for the target column\n",
    "df[\"target\"].value_counts().plot(kind=\"bar\");"
   ]
  },
  {
   "cell_type": "markdown",
   "id": "0b7da972",
   "metadata": {
    "papermill": {
     "duration": 0.073215,
     "end_time": "2022-03-09T08:55:36.983760",
     "exception": false,
     "start_time": "2022-03-09T08:55:36.910545",
     "status": "completed"
    },
    "tags": []
   },
   "source": [
    "As we can see, the different classes in the dataset are balanced."
   ]
  },
  {
   "cell_type": "markdown",
   "id": "c0a328e0",
   "metadata": {
    "papermill": {
     "duration": 0.074026,
     "end_time": "2022-03-09T08:55:37.132900",
     "exception": false,
     "start_time": "2022-03-09T08:55:37.058874",
     "status": "completed"
    },
    "tags": []
   },
   "source": [
    "## **Target Labels Encoding**"
   ]
  },
  {
   "cell_type": "code",
   "execution_count": 12,
   "id": "f3590fdc",
   "metadata": {
    "execution": {
     "iopub.execute_input": "2022-03-09T08:55:37.284591Z",
     "iopub.status.busy": "2022-03-09T08:55:37.283626Z",
     "iopub.status.idle": "2022-03-09T08:55:38.159522Z",
     "shell.execute_reply": "2022-03-09T08:55:38.158926Z",
     "shell.execute_reply.started": "2022-03-08T15:16:29.736776Z"
    },
    "papermill": {
     "duration": 0.953187,
     "end_time": "2022-03-09T08:55:38.159672",
     "exception": false,
     "start_time": "2022-03-09T08:55:37.206485",
     "status": "completed"
    },
    "tags": []
   },
   "outputs": [],
   "source": [
    "from sklearn.preprocessing import LabelEncoder"
   ]
  },
  {
   "cell_type": "code",
   "execution_count": 13,
   "id": "289c104f",
   "metadata": {
    "execution": {
     "iopub.execute_input": "2022-03-09T08:55:38.369622Z",
     "iopub.status.busy": "2022-03-09T08:55:38.338275Z",
     "iopub.status.idle": "2022-03-09T08:55:38.394504Z",
     "shell.execute_reply": "2022-03-09T08:55:38.394989Z",
     "shell.execute_reply.started": "2022-03-08T15:16:29.742468Z"
    },
    "papermill": {
     "duration": 0.161283,
     "end_time": "2022-03-09T08:55:38.395171",
     "exception": false,
     "start_time": "2022-03-09T08:55:38.233888",
     "status": "completed"
    },
    "tags": []
   },
   "outputs": [
    {
     "data": {
      "text/html": [
       "<div>\n",
       "<style scoped>\n",
       "    .dataframe tbody tr th:only-of-type {\n",
       "        vertical-align: middle;\n",
       "    }\n",
       "\n",
       "    .dataframe tbody tr th {\n",
       "        vertical-align: top;\n",
       "    }\n",
       "\n",
       "    .dataframe thead th {\n",
       "        text-align: right;\n",
       "    }\n",
       "</style>\n",
       "<table border=\"1\" class=\"dataframe\">\n",
       "  <thead>\n",
       "    <tr style=\"text-align: right;\">\n",
       "      <th></th>\n",
       "      <th>A0T0G0C10</th>\n",
       "      <th>A0T0G1C9</th>\n",
       "      <th>A0T0G2C8</th>\n",
       "      <th>A0T0G3C7</th>\n",
       "      <th>A0T0G4C6</th>\n",
       "      <th>A0T0G5C5</th>\n",
       "      <th>A0T0G6C4</th>\n",
       "      <th>A0T0G7C3</th>\n",
       "      <th>A0T0G8C2</th>\n",
       "      <th>A0T0G9C1</th>\n",
       "      <th>...</th>\n",
       "      <th>A8T0G1C1</th>\n",
       "      <th>A8T0G2C0</th>\n",
       "      <th>A8T1G0C1</th>\n",
       "      <th>A8T1G1C0</th>\n",
       "      <th>A8T2G0C0</th>\n",
       "      <th>A9T0G0C1</th>\n",
       "      <th>A9T0G1C0</th>\n",
       "      <th>A9T1G0C0</th>\n",
       "      <th>A10T0G0C0</th>\n",
       "      <th>target</th>\n",
       "    </tr>\n",
       "  </thead>\n",
       "  <tbody>\n",
       "    <tr>\n",
       "      <th>0</th>\n",
       "      <td>-9.536743e-07</td>\n",
       "      <td>-0.000010</td>\n",
       "      <td>-0.000043</td>\n",
       "      <td>-0.000114</td>\n",
       "      <td>-0.000200</td>\n",
       "      <td>-0.000240</td>\n",
       "      <td>-0.000200</td>\n",
       "      <td>-0.000114</td>\n",
       "      <td>-0.000043</td>\n",
       "      <td>-0.000010</td>\n",
       "      <td>...</td>\n",
       "      <td>-0.000086</td>\n",
       "      <td>-0.000043</td>\n",
       "      <td>-0.000086</td>\n",
       "      <td>-0.000086</td>\n",
       "      <td>-0.000043</td>\n",
       "      <td>-0.000010</td>\n",
       "      <td>-0.000010</td>\n",
       "      <td>-0.000010</td>\n",
       "      <td>-9.536743e-07</td>\n",
       "      <td>9</td>\n",
       "    </tr>\n",
       "    <tr>\n",
       "      <th>1</th>\n",
       "      <td>-9.536743e-07</td>\n",
       "      <td>-0.000010</td>\n",
       "      <td>-0.000043</td>\n",
       "      <td>0.000886</td>\n",
       "      <td>-0.000200</td>\n",
       "      <td>0.000760</td>\n",
       "      <td>-0.000200</td>\n",
       "      <td>-0.000114</td>\n",
       "      <td>-0.000043</td>\n",
       "      <td>-0.000010</td>\n",
       "      <td>...</td>\n",
       "      <td>-0.000086</td>\n",
       "      <td>-0.000043</td>\n",
       "      <td>0.000914</td>\n",
       "      <td>0.000914</td>\n",
       "      <td>-0.000043</td>\n",
       "      <td>-0.000010</td>\n",
       "      <td>-0.000010</td>\n",
       "      <td>-0.000010</td>\n",
       "      <td>-9.536743e-07</td>\n",
       "      <td>6</td>\n",
       "    </tr>\n",
       "    <tr>\n",
       "      <th>2</th>\n",
       "      <td>-9.536743e-07</td>\n",
       "      <td>-0.000002</td>\n",
       "      <td>0.000007</td>\n",
       "      <td>0.000129</td>\n",
       "      <td>0.000268</td>\n",
       "      <td>0.000270</td>\n",
       "      <td>0.000243</td>\n",
       "      <td>0.000125</td>\n",
       "      <td>0.000001</td>\n",
       "      <td>-0.000007</td>\n",
       "      <td>...</td>\n",
       "      <td>0.000084</td>\n",
       "      <td>0.000048</td>\n",
       "      <td>0.000081</td>\n",
       "      <td>0.000106</td>\n",
       "      <td>0.000072</td>\n",
       "      <td>0.000010</td>\n",
       "      <td>0.000008</td>\n",
       "      <td>0.000019</td>\n",
       "      <td>1.046326e-06</td>\n",
       "      <td>6</td>\n",
       "    </tr>\n",
       "    <tr>\n",
       "      <th>3</th>\n",
       "      <td>4.632568e-08</td>\n",
       "      <td>-0.000006</td>\n",
       "      <td>0.000012</td>\n",
       "      <td>0.000245</td>\n",
       "      <td>0.000492</td>\n",
       "      <td>0.000522</td>\n",
       "      <td>0.000396</td>\n",
       "      <td>0.000197</td>\n",
       "      <td>-0.000003</td>\n",
       "      <td>-0.000007</td>\n",
       "      <td>...</td>\n",
       "      <td>0.000151</td>\n",
       "      <td>0.000100</td>\n",
       "      <td>0.000180</td>\n",
       "      <td>0.000202</td>\n",
       "      <td>0.000153</td>\n",
       "      <td>0.000021</td>\n",
       "      <td>0.000015</td>\n",
       "      <td>0.000046</td>\n",
       "      <td>-9.536743e-07</td>\n",
       "      <td>6</td>\n",
       "    </tr>\n",
       "    <tr>\n",
       "      <th>4</th>\n",
       "      <td>-9.536743e-07</td>\n",
       "      <td>-0.000010</td>\n",
       "      <td>-0.000043</td>\n",
       "      <td>-0.000114</td>\n",
       "      <td>-0.000200</td>\n",
       "      <td>-0.000240</td>\n",
       "      <td>-0.000200</td>\n",
       "      <td>-0.000114</td>\n",
       "      <td>-0.000043</td>\n",
       "      <td>-0.000010</td>\n",
       "      <td>...</td>\n",
       "      <td>-0.000086</td>\n",
       "      <td>-0.000043</td>\n",
       "      <td>-0.000086</td>\n",
       "      <td>-0.000086</td>\n",
       "      <td>-0.000043</td>\n",
       "      <td>-0.000010</td>\n",
       "      <td>-0.000010</td>\n",
       "      <td>-0.000010</td>\n",
       "      <td>-9.536743e-07</td>\n",
       "      <td>2</td>\n",
       "    </tr>\n",
       "  </tbody>\n",
       "</table>\n",
       "<p>5 rows × 287 columns</p>\n",
       "</div>"
      ],
      "text/plain": [
       "      A0T0G0C10  A0T0G1C9  A0T0G2C8  A0T0G3C7  A0T0G4C6  A0T0G5C5  A0T0G6C4  \\\n",
       "0 -9.536743e-07 -0.000010 -0.000043 -0.000114 -0.000200 -0.000240 -0.000200   \n",
       "1 -9.536743e-07 -0.000010 -0.000043  0.000886 -0.000200  0.000760 -0.000200   \n",
       "2 -9.536743e-07 -0.000002  0.000007  0.000129  0.000268  0.000270  0.000243   \n",
       "3  4.632568e-08 -0.000006  0.000012  0.000245  0.000492  0.000522  0.000396   \n",
       "4 -9.536743e-07 -0.000010 -0.000043 -0.000114 -0.000200 -0.000240 -0.000200   \n",
       "\n",
       "   A0T0G7C3  A0T0G8C2  A0T0G9C1  ...  A8T0G1C1  A8T0G2C0  A8T1G0C1  A8T1G1C0  \\\n",
       "0 -0.000114 -0.000043 -0.000010  ... -0.000086 -0.000043 -0.000086 -0.000086   \n",
       "1 -0.000114 -0.000043 -0.000010  ... -0.000086 -0.000043  0.000914  0.000914   \n",
       "2  0.000125  0.000001 -0.000007  ...  0.000084  0.000048  0.000081  0.000106   \n",
       "3  0.000197 -0.000003 -0.000007  ...  0.000151  0.000100  0.000180  0.000202   \n",
       "4 -0.000114 -0.000043 -0.000010  ... -0.000086 -0.000043 -0.000086 -0.000086   \n",
       "\n",
       "   A8T2G0C0  A9T0G0C1  A9T0G1C0  A9T1G0C0     A10T0G0C0  target  \n",
       "0 -0.000043 -0.000010 -0.000010 -0.000010 -9.536743e-07       9  \n",
       "1 -0.000043 -0.000010 -0.000010 -0.000010 -9.536743e-07       6  \n",
       "2  0.000072  0.000010  0.000008  0.000019  1.046326e-06       6  \n",
       "3  0.000153  0.000021  0.000015  0.000046 -9.536743e-07       6  \n",
       "4 -0.000043 -0.000010 -0.000010 -0.000010 -9.536743e-07       2  \n",
       "\n",
       "[5 rows x 287 columns]"
      ]
     },
     "execution_count": 13,
     "metadata": {},
     "output_type": "execute_result"
    }
   ],
   "source": [
    "# Label encoding of the target.\n",
    "# We will map each of the 10 different target classess to an intger in the range 0-9\n",
    "label_encoder = LabelEncoder()\n",
    "df[\"target\"] = label_encoder.fit(df[\"target\"]).transform(df[\"target\"])\n",
    "df.head()"
   ]
  },
  {
   "cell_type": "markdown",
   "id": "daf74e6d",
   "metadata": {
    "papermill": {
     "duration": 0.074048,
     "end_time": "2022-03-09T08:55:38.543327",
     "exception": false,
     "start_time": "2022-03-09T08:55:38.469279",
     "status": "completed"
    },
    "tags": []
   },
   "source": [
    "## **Train-Test Split**"
   ]
  },
  {
   "cell_type": "code",
   "execution_count": 14,
   "id": "c8a91db4",
   "metadata": {
    "execution": {
     "iopub.execute_input": "2022-03-09T08:55:38.696714Z",
     "iopub.status.busy": "2022-03-09T08:55:38.695967Z",
     "iopub.status.idle": "2022-03-09T08:55:38.745631Z",
     "shell.execute_reply": "2022-03-09T08:55:38.745111Z",
     "shell.execute_reply.started": "2022-03-08T15:16:29.84101Z"
    },
    "papermill": {
     "duration": 0.127917,
     "end_time": "2022-03-09T08:55:38.745781",
     "exception": false,
     "start_time": "2022-03-09T08:55:38.617864",
     "status": "completed"
    },
    "tags": []
   },
   "outputs": [],
   "source": [
    "# Imports\n",
    "from sklearn.model_selection import train_test_split"
   ]
  },
  {
   "cell_type": "code",
   "execution_count": 15,
   "id": "6e6c7233",
   "metadata": {
    "execution": {
     "iopub.execute_input": "2022-03-09T08:55:38.899483Z",
     "iopub.status.busy": "2022-03-09T08:55:38.898804Z",
     "iopub.status.idle": "2022-03-09T08:55:39.681828Z",
     "shell.execute_reply": "2022-03-09T08:55:39.682662Z",
     "shell.execute_reply.started": "2022-03-08T15:16:29.847424Z"
    },
    "papermill": {
     "duration": 0.862266,
     "end_time": "2022-03-09T08:55:39.682909",
     "exception": false,
     "start_time": "2022-03-09T08:55:38.820643",
     "status": "completed"
    },
    "tags": []
   },
   "outputs": [],
   "source": [
    "X_train, X_test, Y_train, Y_test = train_test_split(df.drop(columns=[\"target\"]), df[\"target\"], test_size=0.33, stratify=df[\"target\"], random_state=random_seed)"
   ]
  },
  {
   "cell_type": "code",
   "execution_count": 16,
   "id": "652e35e3",
   "metadata": {
    "execution": {
     "iopub.execute_input": "2022-03-09T08:55:39.843131Z",
     "iopub.status.busy": "2022-03-09T08:55:39.842112Z",
     "iopub.status.idle": "2022-03-09T08:55:39.848488Z",
     "shell.execute_reply": "2022-03-09T08:55:39.848940Z",
     "shell.execute_reply.started": "2022-03-08T15:16:30.644591Z"
    },
    "papermill": {
     "duration": 0.085512,
     "end_time": "2022-03-09T08:55:39.849141",
     "exception": false,
     "start_time": "2022-03-09T08:55:39.763629",
     "status": "completed"
    },
    "tags": []
   },
   "outputs": [
    {
     "name": "stdout",
     "output_type": "stream",
     "text": [
      "X_train shape: (134000, 286)\n",
      "Y_train shape: (134000,)\n",
      "X_test shape: (66000, 286)\n",
      "Y_test shape: (66000,)\n"
     ]
    }
   ],
   "source": [
    "print(f\"X_train shape: {X_train.shape}\")\n",
    "print(f\"Y_train shape: {Y_train.shape}\")\n",
    "print(f\"X_test shape: {X_test.shape}\")\n",
    "print(f\"Y_test shape: {Y_test.shape}\")"
   ]
  },
  {
   "cell_type": "code",
   "execution_count": 17,
   "id": "74826ab6",
   "metadata": {
    "execution": {
     "iopub.execute_input": "2022-03-09T08:55:40.004788Z",
     "iopub.status.busy": "2022-03-09T08:55:40.004132Z",
     "iopub.status.idle": "2022-03-09T08:55:40.351725Z",
     "shell.execute_reply": "2022-03-09T08:55:40.352229Z",
     "shell.execute_reply.started": "2022-03-08T15:16:30.65305Z"
    },
    "papermill": {
     "duration": 0.427157,
     "end_time": "2022-03-09T08:55:40.352459",
     "exception": false,
     "start_time": "2022-03-09T08:55:39.925302",
     "status": "completed"
    },
    "tags": []
   },
   "outputs": [],
   "source": [
    "# Further split the training set in training and validation sets\n",
    "X_train_t, X_train_val, Y_train_t, Y_train_val = train_test_split(X_train, Y_train, test_size=0.20, stratify=Y_train, random_state=random_seed)"
   ]
  },
  {
   "cell_type": "code",
   "execution_count": 18,
   "id": "33289ddc",
   "metadata": {
    "execution": {
     "iopub.execute_input": "2022-03-09T08:55:40.507363Z",
     "iopub.status.busy": "2022-03-09T08:55:40.506705Z",
     "iopub.status.idle": "2022-03-09T08:55:40.511928Z",
     "shell.execute_reply": "2022-03-09T08:55:40.512531Z",
     "shell.execute_reply.started": "2022-03-08T15:16:31.017023Z"
    },
    "papermill": {
     "duration": 0.083662,
     "end_time": "2022-03-09T08:55:40.512693",
     "exception": false,
     "start_time": "2022-03-09T08:55:40.429031",
     "status": "completed"
    },
    "tags": []
   },
   "outputs": [
    {
     "name": "stdout",
     "output_type": "stream",
     "text": [
      "X_train_t shape: (107200, 286)\n",
      "Y_train_t shape: (107200,)\n",
      "X_train_val shape: (26800, 286)\n",
      "Y_train_val shape: (26800,)\n"
     ]
    }
   ],
   "source": [
    "print(f\"X_train_t shape: {X_train_t.shape}\")\n",
    "print(f\"Y_train_t shape: {Y_train_t.shape}\")\n",
    "print(f\"X_train_val shape: {X_train_val.shape}\")\n",
    "print(f\"Y_train_val shape: {Y_train_val.shape}\")"
   ]
  },
  {
   "cell_type": "markdown",
   "id": "2a27a8d1",
   "metadata": {
    "papermill": {
     "duration": 0.074871,
     "end_time": "2022-03-09T08:55:40.663710",
     "exception": false,
     "start_time": "2022-03-09T08:55:40.588839",
     "status": "completed"
    },
    "tags": []
   },
   "source": [
    "## **Dimensionality Reduction** "
   ]
  },
  {
   "cell_type": "markdown",
   "id": "6a97de3b",
   "metadata": {
    "papermill": {
     "duration": 0.075135,
     "end_time": "2022-03-09T08:55:40.814552",
     "exception": false,
     "start_time": "2022-03-09T08:55:40.739417",
     "status": "completed"
    },
    "tags": []
   },
   "source": [
    "### **Grid Search with Cross Validation to find the best value for n_components of PCA**"
   ]
  },
  {
   "cell_type": "code",
   "execution_count": 19,
   "id": "d35211de",
   "metadata": {
    "execution": {
     "iopub.execute_input": "2022-03-09T08:55:40.971507Z",
     "iopub.status.busy": "2022-03-09T08:55:40.970724Z",
     "iopub.status.idle": "2022-03-09T08:55:41.132988Z",
     "shell.execute_reply": "2022-03-09T08:55:41.132314Z",
     "shell.execute_reply.started": "2022-03-08T15:16:31.024851Z"
    },
    "papermill": {
     "duration": 0.243049,
     "end_time": "2022-03-09T08:55:41.133167",
     "exception": false,
     "start_time": "2022-03-09T08:55:40.890118",
     "status": "completed"
    },
    "tags": []
   },
   "outputs": [],
   "source": [
    "# Imports for PCA\n",
    "from sklearn.preprocessing import StandardScaler\n",
    "from sklearn.decomposition import PCA\n",
    "\n",
    "# Imports for PCA n_components tuning\n",
    "from sklearn.pipeline import Pipeline\n",
    "from sklearn.tree import DecisionTreeClassifier\n",
    "from sklearn.model_selection import GridSearchCV"
   ]
  },
  {
   "cell_type": "code",
   "execution_count": 20,
   "id": "70969855",
   "metadata": {
    "execution": {
     "iopub.execute_input": "2022-03-09T08:55:41.291080Z",
     "iopub.status.busy": "2022-03-09T08:55:41.290422Z",
     "iopub.status.idle": "2022-03-09T08:55:41.292123Z",
     "shell.execute_reply": "2022-03-09T08:55:41.292559Z",
     "shell.execute_reply.started": "2022-03-08T15:16:31.037609Z"
    },
    "papermill": {
     "duration": 0.083355,
     "end_time": "2022-03-09T08:55:41.292734",
     "exception": false,
     "start_time": "2022-03-09T08:55:41.209379",
     "status": "completed"
    },
    "tags": []
   },
   "outputs": [],
   "source": [
    "st_scaler = StandardScaler()\n",
    "pca = PCA()\n",
    "classifier = DecisionTreeClassifier(criterion=\"entropy\", random_state=random_seed)\n",
    "pipe = Pipeline(steps=[(\"st_scaler\", st_scaler), (\"pca\", pca), (\"classifier\", classifier)])"
   ]
  },
  {
   "cell_type": "code",
   "execution_count": 21,
   "id": "6b330aae",
   "metadata": {
    "execution": {
     "iopub.execute_input": "2022-03-09T08:55:41.446296Z",
     "iopub.status.busy": "2022-03-09T08:55:41.445591Z",
     "iopub.status.idle": "2022-03-09T08:55:41.448523Z",
     "shell.execute_reply": "2022-03-09T08:55:41.449003Z",
     "shell.execute_reply.started": "2022-03-08T15:16:31.050448Z"
    },
    "papermill": {
     "duration": 0.081584,
     "end_time": "2022-03-09T08:55:41.449229",
     "exception": false,
     "start_time": "2022-03-09T08:55:41.367645",
     "status": "completed"
    },
    "tags": []
   },
   "outputs": [],
   "source": [
    "param_grid = {\n",
    "    \"pca__n_components\": [3, 10, 20, 50]\n",
    "}"
   ]
  },
  {
   "cell_type": "code",
   "execution_count": 22,
   "id": "6636b959",
   "metadata": {
    "execution": {
     "iopub.execute_input": "2022-03-09T08:55:41.604399Z",
     "iopub.status.busy": "2022-03-09T08:55:41.603730Z",
     "iopub.status.idle": "2022-03-09T08:56:46.051924Z",
     "shell.execute_reply": "2022-03-09T08:56:46.051322Z",
     "shell.execute_reply.started": "2022-03-08T15:16:31.062788Z"
    },
    "papermill": {
     "duration": 64.526431,
     "end_time": "2022-03-09T08:56:46.052105",
     "exception": false,
     "start_time": "2022-03-09T08:55:41.525674",
     "status": "completed"
    },
    "tags": []
   },
   "outputs": [
    {
     "name": "stdout",
     "output_type": "stream",
     "text": [
      "Fitting 2 folds for each of 4 candidates, totalling 8 fits\n",
      "[CV] pca__n_components=3 .............................................\n"
     ]
    },
    {
     "name": "stderr",
     "output_type": "stream",
     "text": [
      "[Parallel(n_jobs=1)]: Using backend SequentialBackend with 1 concurrent workers.\n"
     ]
    },
    {
     "name": "stdout",
     "output_type": "stream",
     "text": [
      "[CV] .............................. pca__n_components=3, total=   3.6s\n",
      "[CV] pca__n_components=3 .............................................\n"
     ]
    },
    {
     "name": "stderr",
     "output_type": "stream",
     "text": [
      "[Parallel(n_jobs=1)]: Done   1 out of   1 | elapsed:    3.6s remaining:    0.0s\n"
     ]
    },
    {
     "name": "stdout",
     "output_type": "stream",
     "text": [
      "[CV] .............................. pca__n_components=3, total=   3.5s\n",
      "[CV] pca__n_components=10 ............................................\n",
      "[CV] ............................. pca__n_components=10, total=   4.9s\n",
      "[CV] pca__n_components=10 ............................................\n",
      "[CV] ............................. pca__n_components=10, total=   4.8s\n",
      "[CV] pca__n_components=20 ............................................\n",
      "[CV] ............................. pca__n_components=20, total=   7.1s\n",
      "[CV] pca__n_components=20 ............................................\n",
      "[CV] ............................. pca__n_components=20, total=   7.2s\n",
      "[CV] pca__n_components=50 ............................................\n",
      "[CV] ............................. pca__n_components=50, total=  12.5s\n",
      "[CV] pca__n_components=50 ............................................\n",
      "[CV] ............................. pca__n_components=50, total=  12.5s\n"
     ]
    },
    {
     "name": "stderr",
     "output_type": "stream",
     "text": [
      "[Parallel(n_jobs=1)]: Done   8 out of   8 | elapsed:   56.1s finished\n"
     ]
    }
   ],
   "source": [
    "grid_search = GridSearchCV(pipe, param_grid, cv=2, verbose=2)\n",
    "grid_search.fit(X_train, Y_train);"
   ]
  },
  {
   "cell_type": "code",
   "execution_count": 23,
   "id": "5b833076",
   "metadata": {
    "execution": {
     "iopub.execute_input": "2022-03-09T08:56:46.218239Z",
     "iopub.status.busy": "2022-03-09T08:56:46.217590Z",
     "iopub.status.idle": "2022-03-09T08:56:46.222974Z",
     "shell.execute_reply": "2022-03-09T08:56:46.222319Z",
     "shell.execute_reply.started": "2022-03-08T15:17:36.400914Z"
    },
    "papermill": {
     "duration": 0.091203,
     "end_time": "2022-03-09T08:56:46.223148",
     "exception": false,
     "start_time": "2022-03-09T08:56:46.131945",
     "status": "completed"
    },
    "tags": []
   },
   "outputs": [
    {
     "name": "stdout",
     "output_type": "stream",
     "text": [
      "Best parameters set found on train set:\n",
      "{'pca__n_components': 10}\n",
      "\n",
      "\n",
      "Grid scores on train set:\n",
      "{'pca__n_components': 3} mean: 0.920 std: +/- 0.000)\n",
      "{'pca__n_components': 10} mean: 0.923 std: +/- 0.002)\n",
      "{'pca__n_components': 20} mean: 0.918 std: +/- 0.001)\n",
      "{'pca__n_components': 50} mean: 0.910 std: +/- 0.000)\n",
      "\n",
      "\n"
     ]
    }
   ],
   "source": [
    "# Print grid search results\n",
    "def print_grid_search_results(gscv):\n",
    "    print(\"Best parameters set found on train set:\")\n",
    "    print(gscv.best_params_)\n",
    "    print(\"\\n\")\n",
    "    print(\"Grid scores on train set:\")\n",
    "    for param, mean, std in zip(gscv.cv_results_['params'], gscv.cv_results_['mean_test_score'], gscv.cv_results_['std_test_score']):\n",
    "        print(\"%r mean: %0.3f std: +/- %0.03f)\" % (param, mean, std))\n",
    "    print(\"\\n\")\n",
    "\n",
    "print_grid_search_results(grid_search)"
   ]
  },
  {
   "cell_type": "code",
   "execution_count": 24,
   "id": "928d5674",
   "metadata": {
    "execution": {
     "iopub.execute_input": "2022-03-09T08:56:46.422825Z",
     "iopub.status.busy": "2022-03-09T08:56:46.418069Z",
     "iopub.status.idle": "2022-03-09T08:56:46.539787Z",
     "shell.execute_reply": "2022-03-09T08:56:46.540311Z",
     "shell.execute_reply.started": "2022-03-08T15:17:36.411707Z"
    },
    "papermill": {
     "duration": 0.237005,
     "end_time": "2022-03-09T08:56:46.540484",
     "exception": false,
     "start_time": "2022-03-09T08:56:46.303479",
     "status": "completed"
    },
    "tags": []
   },
   "outputs": [
    {
     "data": {
      "image/png": "[encoded data removed]",
      "text/plain": [
       "<Figure size 720x360 with 1 Axes>"
      ]
     },
     "metadata": {
      "needs_background": "light"
     },
     "output_type": "display_data"
    }
   ],
   "source": [
    "plt.figure(figsize=(10,5))\n",
    "plt.plot(param_grid[\"pca__n_components\"], grid_search.cv_results_['mean_test_score'], '-o', linewidth=5, markersize=24)\n",
    "plt.xlabel('n_components')\n",
    "plt.ylabel('accuracy')\n",
    "plt.title(\"Mean score with CV varying n_components of PCA\", fontsize = 10)\n",
    "plt.show();"
   ]
  },
  {
   "cell_type": "code",
   "execution_count": 25,
   "id": "91ff55cc",
   "metadata": {
    "execution": {
     "iopub.execute_input": "2022-03-09T08:56:46.707539Z",
     "iopub.status.busy": "2022-03-09T08:56:46.706641Z",
     "iopub.status.idle": "2022-03-09T08:56:46.709469Z",
     "shell.execute_reply": "2022-03-09T08:56:46.708833Z",
     "shell.execute_reply.started": "2022-03-08T15:17:36.617607Z"
    },
    "papermill": {
     "duration": 0.088327,
     "end_time": "2022-03-09T08:56:46.709604",
     "exception": false,
     "start_time": "2022-03-09T08:56:46.621277",
     "status": "completed"
    },
    "tags": []
   },
   "outputs": [],
   "source": [
    "pca_components = grid_search.best_params_[\"pca__n_components\"]"
   ]
  },
  {
   "cell_type": "markdown",
   "id": "42ad7694",
   "metadata": {
    "papermill": {
     "duration": 0.080588,
     "end_time": "2022-03-09T08:56:46.871017",
     "exception": false,
     "start_time": "2022-03-09T08:56:46.790429",
     "status": "completed"
    },
    "tags": []
   },
   "source": [
    "### **Compute PCA with the best hyper-parameter found**"
   ]
  },
  {
   "cell_type": "code",
   "execution_count": 26,
   "id": "7230f105",
   "metadata": {
    "execution": {
     "iopub.execute_input": "2022-03-09T08:56:47.038710Z",
     "iopub.status.busy": "2022-03-09T08:56:47.037724Z",
     "iopub.status.idle": "2022-03-09T08:56:47.732615Z",
     "shell.execute_reply": "2022-03-09T08:56:47.733399Z",
     "shell.execute_reply.started": "2022-03-08T15:17:36.623933Z"
    },
    "papermill": {
     "duration": 0.779829,
     "end_time": "2022-03-09T08:56:47.733646",
     "exception": false,
     "start_time": "2022-03-09T08:56:46.953817",
     "status": "completed"
    },
    "tags": []
   },
   "outputs": [
    {
     "name": "stdout",
     "output_type": "stream",
     "text": [
      "Shape of X_train_t_st: (107200, 286)\n",
      "Shape of X_train_val_st: (26800, 286)\n"
     ]
    }
   ],
   "source": [
    "# Standardize the features. This process is needed before doing the PCA.\n",
    "st_scaler_t = StandardScaler()\n",
    "st_scaler_t.fit(X_train_t)\n",
    "X_train_t = st_scaler_t.transform(X_train_t)\n",
    "X_train_val = st_scaler_t.transform(X_train_val)\n",
    "\n",
    "print(f\"Shape of X_train_t_st: {X_train_t.shape}\")\n",
    "print(f\"Shape of X_train_val_st: {X_train_val.shape}\")"
   ]
  },
  {
   "cell_type": "code",
   "execution_count": 27,
   "id": "3fdaf524",
   "metadata": {
    "execution": {
     "iopub.execute_input": "2022-03-09T08:56:47.904062Z",
     "iopub.status.busy": "2022-03-09T08:56:47.903378Z",
     "iopub.status.idle": "2022-03-09T08:56:51.345918Z",
     "shell.execute_reply": "2022-03-09T08:56:51.347650Z",
     "shell.execute_reply.started": "2022-03-08T15:17:37.322203Z"
    },
    "papermill": {
     "duration": 3.53082,
     "end_time": "2022-03-09T08:56:51.348004",
     "exception": false,
     "start_time": "2022-03-09T08:56:47.817184",
     "status": "completed"
    },
    "tags": []
   },
   "outputs": [
    {
     "name": "stdout",
     "output_type": "stream",
     "text": [
      "Shape of X_train_t_pca: (107200, 10)\n",
      "Shape of X_train_val_pca: (26800, 10)\n"
     ]
    }
   ],
   "source": [
    "# Perform PCA\n",
    "pca_t = PCA(n_components=pca_components)\n",
    "pca_t.fit(X_train_t)\n",
    "X_train_t = pca_t.transform(X_train_t)\n",
    "X_train_val = pca_t.transform(X_train_val)\n",
    "\n",
    "print(f\"Shape of X_train_t_pca: {X_train_t.shape}\")\n",
    "print(f\"Shape of X_train_val_pca: {X_train_val.shape}\")"
   ]
  },
  {
   "cell_type": "code",
   "execution_count": 28,
   "id": "fc24a631",
   "metadata": {
    "execution": {
     "iopub.execute_input": "2022-03-09T08:56:51.611398Z",
     "iopub.status.busy": "2022-03-09T08:56:51.610096Z",
     "iopub.status.idle": "2022-03-09T08:56:56.341180Z",
     "shell.execute_reply": "2022-03-09T08:56:56.342061Z",
     "shell.execute_reply.started": "2022-03-08T15:17:40.753448Z"
    },
    "papermill": {
     "duration": 4.829017,
     "end_time": "2022-03-09T08:56:56.342353",
     "exception": false,
     "start_time": "2022-03-09T08:56:51.513336",
     "status": "completed"
    },
    "tags": []
   },
   "outputs": [
    {
     "name": "stdout",
     "output_type": "stream",
     "text": [
      "Shape of X_train_pca: (134000, 10)\n"
     ]
    }
   ],
   "source": [
    "# Transform also the full training set\n",
    "\n",
    "# Standardize the features\n",
    "st_scaler = StandardScaler()\n",
    "st_scaler.fit(X_train)\n",
    "X_train = st_scaler.transform(X_train)\n",
    "\n",
    "# Perform PCA\n",
    "pca = PCA(n_components=pca_components)\n",
    "pca.fit(X_train)\n",
    "X_train = pca.transform(X_train)\n",
    "\n",
    "print(f\"Shape of X_train_pca: {X_train.shape}\")"
   ]
  },
  {
   "cell_type": "markdown",
   "id": "796d4a22",
   "metadata": {
    "papermill": {
     "duration": 0.082203,
     "end_time": "2022-03-09T08:56:56.561348",
     "exception": false,
     "start_time": "2022-03-09T08:56:56.479145",
     "status": "completed"
    },
    "tags": []
   },
   "source": [
    "## **ML Models Testing**"
   ]
  },
  {
   "cell_type": "code",
   "execution_count": 29,
   "id": "94263f60",
   "metadata": {
    "execution": {
     "iopub.execute_input": "2022-03-09T08:56:56.730830Z",
     "iopub.status.busy": "2022-03-09T08:56:56.729789Z",
     "iopub.status.idle": "2022-03-09T08:56:56.732598Z",
     "shell.execute_reply": "2022-03-09T08:56:56.732087Z",
     "shell.execute_reply.started": "2022-03-08T15:17:45.748423Z"
    },
    "papermill": {
     "duration": 0.088872,
     "end_time": "2022-03-09T08:56:56.732739",
     "exception": false,
     "start_time": "2022-03-09T08:56:56.643867",
     "status": "completed"
    },
    "tags": []
   },
   "outputs": [],
   "source": [
    "from sklearn.metrics import classification_report"
   ]
  },
  {
   "cell_type": "markdown",
   "id": "0ac00c8e",
   "metadata": {
    "papermill": {
     "duration": 0.08144,
     "end_time": "2022-03-09T08:56:56.895836",
     "exception": false,
     "start_time": "2022-03-09T08:56:56.814396",
     "status": "completed"
    },
    "tags": []
   },
   "source": [
    "### **Decision Tree Classifier**"
   ]
  },
  {
   "cell_type": "code",
   "execution_count": 30,
   "id": "a49a45f1",
   "metadata": {
    "execution": {
     "iopub.execute_input": "2022-03-09T08:56:57.070396Z",
     "iopub.status.busy": "2022-03-09T08:56:57.068556Z",
     "iopub.status.idle": "2022-03-09T08:56:57.072700Z",
     "shell.execute_reply": "2022-03-09T08:56:57.071998Z",
     "shell.execute_reply.started": "2022-03-08T15:17:45.756735Z"
    },
    "papermill": {
     "duration": 0.091556,
     "end_time": "2022-03-09T08:56:57.072844",
     "exception": false,
     "start_time": "2022-03-09T08:56:56.981288",
     "status": "completed"
    },
    "tags": []
   },
   "outputs": [],
   "source": [
    "from sklearn.tree import DecisionTreeClassifier\n",
    "from sklearn.metrics import accuracy_score"
   ]
  },
  {
   "cell_type": "code",
   "execution_count": 31,
   "id": "b71069bd",
   "metadata": {
    "execution": {
     "iopub.execute_input": "2022-03-09T08:56:57.241967Z",
     "iopub.status.busy": "2022-03-09T08:56:57.241302Z",
     "iopub.status.idle": "2022-03-09T08:57:13.043755Z",
     "shell.execute_reply": "2022-03-09T08:57:13.043052Z",
     "shell.execute_reply.started": "2022-03-08T15:17:45.770069Z"
    },
    "papermill": {
     "duration": 15.888949,
     "end_time": "2022-03-09T08:57:13.043895",
     "exception": false,
     "start_time": "2022-03-09T08:56:57.154946",
     "status": "completed"
    },
    "tags": []
   },
   "outputs": [],
   "source": [
    "# Hyper-parameter tuning for max_depth of the decision tree\n",
    "max_depth_list = [4,8,16,20,24,26]\n",
    "scores = []\n",
    "\n",
    "for par in max_depth_list:\n",
    "    tree = DecisionTreeClassifier(criterion=\"entropy\", random_state=random_seed, max_depth=par)\n",
    "    tree.fit(X_train_t, Y_train_t)\n",
    "    Y_predicted_val = tree.predict(X_train_val)\n",
    "    score =  accuracy_score(Y_train_val, Y_predicted_val)\n",
    "    scores.append(score)"
   ]
  },
  {
   "cell_type": "code",
   "execution_count": 32,
   "id": "c274e68c",
   "metadata": {
    "execution": {
     "iopub.execute_input": "2022-03-09T08:57:13.227109Z",
     "iopub.status.busy": "2022-03-09T08:57:13.225886Z",
     "iopub.status.idle": "2022-03-09T08:57:13.421897Z",
     "shell.execute_reply": "2022-03-09T08:57:13.421003Z",
     "shell.execute_reply.started": "2022-03-08T15:18:00.90601Z"
    },
    "papermill": {
     "duration": 0.296342,
     "end_time": "2022-03-09T08:57:13.422105",
     "exception": false,
     "start_time": "2022-03-09T08:57:13.125763",
     "status": "completed"
    },
    "tags": []
   },
   "outputs": [
    {
     "data": {
      "image/png": "[encoded data removed]",
      "text/plain": [
       "<Figure size 720x360 with 1 Axes>"
      ]
     },
     "metadata": {
      "needs_background": "light"
     },
     "output_type": "display_data"
    }
   ],
   "source": [
    "plt.figure(figsize=(10,5))\n",
    "plt.plot(max_depth_list, scores, '-o', linewidth=5, markersize=24)\n",
    "plt.xlabel('max_depth')\n",
    "plt.ylabel('accuracy')\n",
    "plt.title(\"Score with validation set varying max_depth of tree\", fontsize = 10)\n",
    "plt.show();"
   ]
  },
  {
   "cell_type": "code",
   "execution_count": 33,
   "id": "87fd02cd",
   "metadata": {
    "execution": {
     "iopub.execute_input": "2022-03-09T08:57:13.606755Z",
     "iopub.status.busy": "2022-03-09T08:57:13.606094Z",
     "iopub.status.idle": "2022-03-09T08:57:16.738456Z",
     "shell.execute_reply": "2022-03-09T08:57:16.738916Z",
     "shell.execute_reply.started": "2022-03-08T15:18:01.067741Z"
    },
    "papermill": {
     "duration": 3.222381,
     "end_time": "2022-03-09T08:57:16.739159",
     "exception": false,
     "start_time": "2022-03-09T08:57:13.516778",
     "status": "completed"
    },
    "tags": []
   },
   "outputs": [
    {
     "name": "stdout",
     "output_type": "stream",
     "text": [
      "                          precision    recall  f1-score   support\n",
      "\n",
      "    Bacteroides_fragilis       0.97      0.98      0.98      2699\n",
      "    Campylobacter_jejuni       0.98      0.98      0.98      2688\n",
      "      Enterococcus_hirae       0.96      0.96      0.96      2673\n",
      "        Escherichia_coli       0.94      0.95      0.95      2674\n",
      "  Escherichia_fergusonii       0.96      0.96      0.96      2672\n",
      "   Klebsiella_pneumoniae       0.98      0.99      0.99      2660\n",
      "     Salmonella_enterica       0.96      0.95      0.96      2684\n",
      "   Staphylococcus_aureus       0.98      0.97      0.97      2670\n",
      "Streptococcus_pneumoniae       0.96      0.96      0.96      2690\n",
      "  Streptococcus_pyogenes       0.94      0.95      0.95      2690\n",
      "\n",
      "                accuracy                           0.96     26800\n",
      "               macro avg       0.96      0.96      0.96     26800\n",
      "            weighted avg       0.96      0.96      0.96     26800\n",
      "\n"
     ]
    }
   ],
   "source": [
    "# Test the tree model with the validation set using the best parameter found\n",
    "best_max_depth = max_depth_list[np.argmax(scores)]\n",
    "tree_model = DecisionTreeClassifier(criterion=\"entropy\", random_state=random_seed, max_depth=best_max_depth)\n",
    "tree_model.fit(X_train_t, Y_train_t)\n",
    "Y_predicted = tree_model.predict(X_train_val)\n",
    "print(classification_report(Y_train_val, Y_predicted, target_names=label_encoder.classes_))"
   ]
  },
  {
   "cell_type": "code",
   "execution_count": 34,
   "id": "57f5062a",
   "metadata": {
    "execution": {
     "iopub.execute_input": "2022-03-09T08:57:16.912685Z",
     "iopub.status.busy": "2022-03-09T08:57:16.912034Z",
     "iopub.status.idle": "2022-03-09T08:57:16.915939Z",
     "shell.execute_reply": "2022-03-09T08:57:16.916450Z"
    },
    "papermill": {
     "duration": 0.090655,
     "end_time": "2022-03-09T08:57:16.916628",
     "exception": false,
     "start_time": "2022-03-09T08:57:16.825973",
     "status": "completed"
    },
    "tags": []
   },
   "outputs": [],
   "source": [
    "# Define the final model with the best parameter found\n",
    "best_max_depth = max_depth_list[np.argmax(scores)]\n",
    "tree_model = DecisionTreeClassifier(criterion=\"entropy\", random_state=random_seed, max_depth=best_max_depth)"
   ]
  },
  {
   "cell_type": "markdown",
   "id": "9b31b161",
   "metadata": {
    "papermill": {
     "duration": 0.08399,
     "end_time": "2022-03-09T08:57:17.085942",
     "exception": false,
     "start_time": "2022-03-09T08:57:17.001952",
     "status": "completed"
    },
    "tags": []
   },
   "source": [
    "## **Random Forest**"
   ]
  },
  {
   "cell_type": "code",
   "execution_count": 35,
   "id": "e94c0f3f",
   "metadata": {
    "execution": {
     "iopub.execute_input": "2022-03-09T08:57:17.255956Z",
     "iopub.status.busy": "2022-03-09T08:57:17.255284Z",
     "iopub.status.idle": "2022-03-09T08:57:17.283506Z",
     "shell.execute_reply": "2022-03-09T08:57:17.282894Z",
     "shell.execute_reply.started": "2022-03-08T15:18:04.015871Z"
    },
    "papermill": {
     "duration": 0.114122,
     "end_time": "2022-03-09T08:57:17.283677",
     "exception": false,
     "start_time": "2022-03-09T08:57:17.169555",
     "status": "completed"
    },
    "tags": []
   },
   "outputs": [],
   "source": [
    "from sklearn.ensemble import RandomForestClassifier"
   ]
  },
  {
   "cell_type": "code",
   "execution_count": 36,
   "id": "c837a9f3",
   "metadata": {
    "execution": {
     "iopub.execute_input": "2022-03-09T08:57:17.454343Z",
     "iopub.status.busy": "2022-03-09T08:57:17.453719Z",
     "iopub.status.idle": "2022-03-09T09:00:59.211550Z",
     "shell.execute_reply": "2022-03-09T09:00:59.212405Z",
     "shell.execute_reply.started": "2022-03-08T15:51:00.558846Z"
    },
    "papermill": {
     "duration": 221.845198,
     "end_time": "2022-03-09T09:00:59.212687",
     "exception": false,
     "start_time": "2022-03-09T08:57:17.367489",
     "status": "completed"
    },
    "tags": []
   },
   "outputs": [],
   "source": [
    "# Hyper-parameter tuning for n_estimators of the random forest\n",
    "n_estimators_list = [5,10,20,50,100,150]\n",
    "scores = []\n",
    "\n",
    "for par in n_estimators_list:\n",
    "    forest = RandomForestClassifier(criterion=\"entropy\", n_estimators=par, random_state=random_seed)\n",
    "    forest.fit(X_train_t, Y_train_t)\n",
    "    Y_predicted_val = forest.predict(X_train_val)\n",
    "    score =  accuracy_score(Y_train_val, Y_predicted_val)\n",
    "    scores.append(score)"
   ]
  },
  {
   "cell_type": "code",
   "execution_count": 37,
   "id": "1499b29f",
   "metadata": {
    "execution": {
     "iopub.execute_input": "2022-03-09T09:00:59.416030Z",
     "iopub.status.busy": "2022-03-09T09:00:59.415047Z",
     "iopub.status.idle": "2022-03-09T09:00:59.611659Z",
     "shell.execute_reply": "2022-03-09T09:00:59.610888Z",
     "shell.execute_reply.started": "2022-03-08T15:54:41.243433Z"
    },
    "papermill": {
     "duration": 0.290434,
     "end_time": "2022-03-09T09:00:59.611850",
     "exception": false,
     "start_time": "2022-03-09T09:00:59.321416",
     "status": "completed"
    },
    "tags": []
   },
   "outputs": [
    {
     "data": {
      "image/png": "[encoded data removed]",
      "text/plain": [
       "<Figure size 720x360 with 1 Axes>"
      ]
     },
     "metadata": {
      "needs_background": "light"
     },
     "output_type": "display_data"
    }
   ],
   "source": [
    "plt.figure(figsize=(10,5))\n",
    "plt.plot(n_estimators_list, scores, '-o', linewidth=5, markersize=24)\n",
    "plt.xlabel('n_estimators')\n",
    "plt.ylabel('accuracy')\n",
    "plt.title(\"Score with validation set varying n_estimators of random forest\", fontsize = 10)\n",
    "plt.show();"
   ]
  },
  {
   "cell_type": "code",
   "execution_count": 38,
   "id": "e309672f",
   "metadata": {
    "execution": {
     "iopub.execute_input": "2022-03-09T09:00:59.794127Z",
     "iopub.status.busy": "2022-03-09T09:00:59.791103Z",
     "iopub.status.idle": "2022-03-09T09:02:06.964994Z",
     "shell.execute_reply": "2022-03-09T09:02:06.965615Z",
     "shell.execute_reply.started": "2022-03-08T15:35:21.870752Z"
    },
    "papermill": {
     "duration": 67.264271,
     "end_time": "2022-03-09T09:02:06.965948",
     "exception": false,
     "start_time": "2022-03-09T09:00:59.701677",
     "status": "completed"
    },
    "tags": []
   },
   "outputs": [
    {
     "name": "stdout",
     "output_type": "stream",
     "text": [
      "                          precision    recall  f1-score   support\n",
      "\n",
      "    Bacteroides_fragilis       0.98      0.99      0.98      2699\n",
      "    Campylobacter_jejuni       0.98      0.99      0.98      2688\n",
      "      Enterococcus_hirae       0.97      0.97      0.97      2673\n",
      "        Escherichia_coli       0.96      0.96      0.96      2674\n",
      "  Escherichia_fergusonii       0.97      0.97      0.97      2672\n",
      "   Klebsiella_pneumoniae       0.99      0.99      0.99      2660\n",
      "     Salmonella_enterica       0.97      0.97      0.97      2684\n",
      "   Staphylococcus_aureus       0.98      0.98      0.98      2670\n",
      "Streptococcus_pneumoniae       0.97      0.97      0.97      2690\n",
      "  Streptococcus_pyogenes       0.96      0.96      0.96      2690\n",
      "\n",
      "                accuracy                           0.97     26800\n",
      "               macro avg       0.97      0.97      0.97     26800\n",
      "            weighted avg       0.97      0.97      0.97     26800\n",
      "\n"
     ]
    }
   ],
   "source": [
    "# Test the tree model with the validation set using the best parameter found\n",
    "best_n_estimators = n_estimators_list[np.argmax(scores)]\n",
    "rnd_forest_model = RandomForestClassifier(criterion=\"entropy\", n_estimators=best_n_estimators, random_state=random_seed)\n",
    "rnd_forest_model.fit(X_train_t, Y_train_t)\n",
    "Y_predicted = rnd_forest_model.predict(X_train_val)\n",
    "print(classification_report(Y_train_val, Y_predicted, target_names=label_encoder.classes_))"
   ]
  },
  {
   "cell_type": "code",
   "execution_count": 39,
   "id": "cb1c5970",
   "metadata": {
    "execution": {
     "iopub.execute_input": "2022-03-09T09:02:07.145063Z",
     "iopub.status.busy": "2022-03-09T09:02:07.144055Z",
     "iopub.status.idle": "2022-03-09T09:02:07.154985Z",
     "shell.execute_reply": "2022-03-09T09:02:07.155502Z"
    },
    "papermill": {
     "duration": 0.103119,
     "end_time": "2022-03-09T09:02:07.155678",
     "exception": false,
     "start_time": "2022-03-09T09:02:07.052559",
     "status": "completed"
    },
    "tags": []
   },
   "outputs": [],
   "source": [
    "# Define the final model with the best parameter found\n",
    "best_n_estimators = n_estimators_list[np.argmax(scores)]\n",
    "rnd_forest_model = RandomForestClassifier(criterion=\"entropy\", n_estimators=best_n_estimators, random_state=random_seed)"
   ]
  },
  {
   "cell_type": "markdown",
   "id": "e431b790",
   "metadata": {
    "papermill": {
     "duration": 0.085437,
     "end_time": "2022-03-09T09:02:07.327395",
     "exception": false,
     "start_time": "2022-03-09T09:02:07.241958",
     "status": "completed"
    },
    "tags": []
   },
   "source": [
    "### **Extremely Randomized Trees**"
   ]
  },
  {
   "cell_type": "code",
   "execution_count": 40,
   "id": "f1b0f8c4",
   "metadata": {
    "execution": {
     "iopub.execute_input": "2022-03-09T09:02:07.503333Z",
     "iopub.status.busy": "2022-03-09T09:02:07.502344Z",
     "iopub.status.idle": "2022-03-09T09:02:07.506240Z",
     "shell.execute_reply": "2022-03-09T09:02:07.506690Z",
     "shell.execute_reply.started": "2022-03-08T15:48:37.883954Z"
    },
    "papermill": {
     "duration": 0.093281,
     "end_time": "2022-03-09T09:02:07.506859",
     "exception": false,
     "start_time": "2022-03-09T09:02:07.413578",
     "status": "completed"
    },
    "tags": []
   },
   "outputs": [],
   "source": [
    "from sklearn.ensemble import ExtraTreesClassifier"
   ]
  },
  {
   "cell_type": "code",
   "execution_count": 41,
   "id": "66bcb008",
   "metadata": {
    "execution": {
     "iopub.execute_input": "2022-03-09T09:02:07.682067Z",
     "iopub.status.busy": "2022-03-09T09:02:07.681105Z",
     "iopub.status.idle": "2022-03-09T09:02:41.319851Z",
     "shell.execute_reply": "2022-03-09T09:02:41.319040Z",
     "shell.execute_reply.started": "2022-03-08T15:49:35.108773Z"
    },
    "papermill": {
     "duration": 33.727303,
     "end_time": "2022-03-09T09:02:41.320043",
     "exception": false,
     "start_time": "2022-03-09T09:02:07.592740",
     "status": "completed"
    },
    "tags": []
   },
   "outputs": [],
   "source": [
    "# Hyper-parameter tuning for n_estimators of the extremely randomized trees\n",
    "n_estimators_list = [5,10,20,50,100,150]\n",
    "scores = []\n",
    "\n",
    "for par in n_estimators_list:\n",
    "    forest = ExtraTreesClassifier(criterion=\"entropy\", n_estimators=par, random_state=random_seed)\n",
    "    forest.fit(X_train_t, Y_train_t)\n",
    "    Y_predicted_val = forest.predict(X_train_val)\n",
    "    score =  accuracy_score(Y_train_val, Y_predicted_val)\n",
    "    scores.append(score)"
   ]
  },
  {
   "cell_type": "code",
   "execution_count": 42,
   "id": "b8cf731e",
   "metadata": {
    "execution": {
     "iopub.execute_input": "2022-03-09T09:02:41.524930Z",
     "iopub.status.busy": "2022-03-09T09:02:41.517532Z",
     "iopub.status.idle": "2022-03-09T09:02:41.719532Z",
     "shell.execute_reply": "2022-03-09T09:02:41.720082Z",
     "shell.execute_reply.started": "2022-03-08T15:50:07.592035Z"
    },
    "papermill": {
     "duration": 0.313023,
     "end_time": "2022-03-09T09:02:41.720284",
     "exception": false,
     "start_time": "2022-03-09T09:02:41.407261",
     "status": "completed"
    },
    "tags": []
   },
   "outputs": [
    {
     "data": {
      "image/png": "[encoded data removed]",
      "text/plain": [
       "<Figure size 720x360 with 1 Axes>"
      ]
     },
     "metadata": {
      "needs_background": "light"
     },
     "output_type": "display_data"
    }
   ],
   "source": [
    "plt.figure(figsize=(10,5))\n",
    "plt.plot(n_estimators_list, scores, '-o', linewidth=5, markersize=24)\n",
    "plt.xlabel('n_estimators')\n",
    "plt.ylabel('accuracy')\n",
    "plt.title(\"Score with validation set varying n_estimators of extremely randomized trees\", fontsize = 10)\n",
    "plt.show();"
   ]
  },
  {
   "cell_type": "code",
   "execution_count": 43,
   "id": "565c1659",
   "metadata": {
    "execution": {
     "iopub.execute_input": "2022-03-09T09:02:41.903566Z",
     "iopub.status.busy": "2022-03-09T09:02:41.902468Z",
     "iopub.status.idle": "2022-03-09T09:02:58.328664Z",
     "shell.execute_reply": "2022-03-09T09:02:58.329366Z",
     "shell.execute_reply.started": "2022-03-08T15:50:07.790508Z"
    },
    "papermill": {
     "duration": 16.520544,
     "end_time": "2022-03-09T09:02:58.329643",
     "exception": false,
     "start_time": "2022-03-09T09:02:41.809099",
     "status": "completed"
    },
    "tags": []
   },
   "outputs": [
    {
     "name": "stdout",
     "output_type": "stream",
     "text": [
      "                          precision    recall  f1-score   support\n",
      "\n",
      "    Bacteroides_fragilis       0.98      0.99      0.99      2699\n",
      "    Campylobacter_jejuni       0.98      0.99      0.99      2688\n",
      "      Enterococcus_hirae       0.97      0.97      0.97      2673\n",
      "        Escherichia_coli       0.96      0.96      0.96      2674\n",
      "  Escherichia_fergusonii       0.97      0.96      0.97      2672\n",
      "   Klebsiella_pneumoniae       0.99      0.99      0.99      2660\n",
      "     Salmonella_enterica       0.97      0.97      0.97      2684\n",
      "   Staphylococcus_aureus       0.98      0.98      0.98      2670\n",
      "Streptococcus_pneumoniae       0.97      0.97      0.97      2690\n",
      "  Streptococcus_pyogenes       0.97      0.96      0.97      2690\n",
      "\n",
      "                accuracy                           0.97     26800\n",
      "               macro avg       0.97      0.97      0.97     26800\n",
      "            weighted avg       0.97      0.97      0.97     26800\n",
      "\n"
     ]
    }
   ],
   "source": [
    "# Test the model with the validation set using the best parameter found\n",
    "best_n_estimators = n_estimators_list[np.argmax(scores)]\n",
    "ext_rnd_trees_model = ExtraTreesClassifier(criterion=\"entropy\", n_estimators=best_n_estimators, random_state=random_seed)\n",
    "ext_rnd_trees_model.fit(X_train_t, Y_train_t)\n",
    "Y_predicted = ext_rnd_trees_model.predict(X_train_val)\n",
    "print(classification_report(Y_train_val, Y_predicted, target_names=label_encoder.classes_))"
   ]
  },
  {
   "cell_type": "code",
   "execution_count": 44,
   "id": "f2d0fee1",
   "metadata": {
    "execution": {
     "iopub.execute_input": "2022-03-09T09:02:58.527248Z",
     "iopub.status.busy": "2022-03-09T09:02:58.526496Z",
     "iopub.status.idle": "2022-03-09T09:02:58.537618Z",
     "shell.execute_reply": "2022-03-09T09:02:58.538268Z"
    },
    "papermill": {
     "duration": 0.113269,
     "end_time": "2022-03-09T09:02:58.538490",
     "exception": false,
     "start_time": "2022-03-09T09:02:58.425221",
     "status": "completed"
    },
    "tags": []
   },
   "outputs": [],
   "source": [
    "# Define the final model with the best parameter found\n",
    "best_n_estimators = n_estimators_list[np.argmax(scores)]\n",
    "ext_rnd_trees_model = ExtraTreesClassifier(criterion=\"entropy\", n_estimators=best_n_estimators, random_state=random_seed)"
   ]
  },
  {
   "cell_type": "markdown",
   "id": "d8f7bdf0",
   "metadata": {
    "papermill": {
     "duration": 0.094556,
     "end_time": "2022-03-09T09:02:58.727828",
     "exception": false,
     "start_time": "2022-03-09T09:02:58.633272",
     "status": "completed"
    },
    "tags": []
   },
   "source": [
    "### **Deep Neural Network**"
   ]
  },
  {
   "cell_type": "code",
   "execution_count": 45,
   "id": "a0337dbb",
   "metadata": {
    "execution": {
     "iopub.execute_input": "2022-03-09T09:02:58.925893Z",
     "iopub.status.busy": "2022-03-09T09:02:58.924900Z",
     "iopub.status.idle": "2022-03-09T09:03:05.306245Z",
     "shell.execute_reply": "2022-03-09T09:03:05.305612Z",
     "shell.execute_reply.started": "2022-03-08T15:18:08.274691Z"
    },
    "papermill": {
     "duration": 6.481988,
     "end_time": "2022-03-09T09:03:05.306420",
     "exception": false,
     "start_time": "2022-03-09T09:02:58.824432",
     "status": "completed"
    },
    "tags": []
   },
   "outputs": [],
   "source": [
    "import tensorflow as tf\n",
    "from tensorflow import keras\n",
    "from tensorflow.keras import layers"
   ]
  },
  {
   "cell_type": "code",
   "execution_count": 46,
   "id": "6eba93f8",
   "metadata": {
    "execution": {
     "iopub.execute_input": "2022-03-09T09:03:05.519027Z",
     "iopub.status.busy": "2022-03-09T09:03:05.514313Z",
     "iopub.status.idle": "2022-03-09T09:03:05.663908Z",
     "shell.execute_reply": "2022-03-09T09:03:05.662656Z",
     "shell.execute_reply.started": "2022-03-08T15:18:08.276145Z"
    },
    "papermill": {
     "duration": 0.26508,
     "end_time": "2022-03-09T09:03:05.664120",
     "exception": false,
     "start_time": "2022-03-09T09:03:05.399040",
     "status": "completed"
    },
    "tags": []
   },
   "outputs": [
    {
     "name": "stdout",
     "output_type": "stream",
     "text": [
      "Model: \"dnn_model\"\n",
      "_________________________________________________________________\n",
      "Layer (type)                 Output Shape              Param #   \n",
      "=================================================================\n",
      "input_1 (InputLayer)         [(None, 10)]              0         \n",
      "_________________________________________________________________\n",
      "dense (Dense)                (None, 30)                330       \n",
      "_________________________________________________________________\n",
      "dense_1 (Dense)              (None, 50)                1550      \n",
      "_________________________________________________________________\n",
      "dense_2 (Dense)              (None, 50)                2550      \n",
      "_________________________________________________________________\n",
      "dense_3 (Dense)              (None, 30)                1530      \n",
      "_________________________________________________________________\n",
      "dense_4 (Dense)              (None, 20)                620       \n",
      "_________________________________________________________________\n",
      "dense_5 (Dense)              (None, 10)                210       \n",
      "=================================================================\n",
      "Total params: 6,790\n",
      "Trainable params: 6,790\n",
      "Non-trainable params: 0\n",
      "_________________________________________________________________\n"
     ]
    },
    {
     "name": "stderr",
     "output_type": "stream",
     "text": [
      "2022-03-09 09:03:05.571500: I tensorflow/core/common_runtime/process_util.cc:146] Creating new thread pool with default inter op setting: 2. Tune using inter_op_parallelism_threads for best performance.\n"
     ]
    }
   ],
   "source": [
    "# Network architecture definition\n",
    "inputs = keras.Input(shape=(pca_components,))\n",
    "x = layers.Dense(30, activation=\"relu\")(inputs)\n",
    "x = layers.Dense(50, activation=\"relu\")(x)\n",
    "x = layers.Dense(50, activation=\"relu\")(x)\n",
    "x = layers.Dense(30, activation=\"relu\")(x)\n",
    "x = layers.Dense(20, activation=\"relu\")(x)\n",
    "outputs = layers.Dense(10, activation=\"softmax\")(x)\n",
    "\n",
    "dnn_model = keras.Model(inputs=inputs, outputs=outputs, name=\"dnn_model\")\n",
    "dnn_model.summary()"
   ]
  },
  {
   "cell_type": "code",
   "execution_count": 47,
   "id": "3915b8f5",
   "metadata": {
    "execution": {
     "iopub.execute_input": "2022-03-09T09:03:05.853347Z",
     "iopub.status.busy": "2022-03-09T09:03:05.850100Z",
     "iopub.status.idle": "2022-03-09T09:03:05.862915Z",
     "shell.execute_reply": "2022-03-09T09:03:05.862272Z",
     "shell.execute_reply.started": "2022-03-08T15:18:08.2777Z"
    },
    "papermill": {
     "duration": 0.11067,
     "end_time": "2022-03-09T09:03:05.863149",
     "exception": false,
     "start_time": "2022-03-09T09:03:05.752479",
     "status": "completed"
    },
    "tags": []
   },
   "outputs": [],
   "source": [
    "dnn_model.compile(\n",
    "    loss=keras.losses.SparseCategoricalCrossentropy(from_logits=False),\n",
    "    optimizer=keras.optimizers.Adam(),\n",
    "    metrics=[\"accuracy\"]\n",
    ")"
   ]
  },
  {
   "cell_type": "code",
   "execution_count": 48,
   "id": "ae183f4e",
   "metadata": {
    "execution": {
     "iopub.execute_input": "2022-03-09T09:03:06.051547Z",
     "iopub.status.busy": "2022-03-09T09:03:06.050742Z",
     "iopub.status.idle": "2022-03-09T09:03:47.890829Z",
     "shell.execute_reply": "2022-03-09T09:03:47.891421Z",
     "shell.execute_reply.started": "2022-03-08T15:18:08.278973Z"
    },
    "papermill": {
     "duration": 41.937265,
     "end_time": "2022-03-09T09:03:47.891667",
     "exception": false,
     "start_time": "2022-03-09T09:03:05.954402",
     "status": "completed"
    },
    "tags": []
   },
   "outputs": [
    {
     "name": "stderr",
     "output_type": "stream",
     "text": [
      "2022-03-09 09:03:06.125601: I tensorflow/compiler/mlir/mlir_graph_optimization_pass.cc:185] None of the MLIR Optimization Passes are enabled (registered 2)\n"
     ]
    },
    {
     "name": "stdout",
     "output_type": "stream",
     "text": [
      "Epoch 1/5\n",
      "1675/1675 [==============================] - 8s 4ms/step - loss: 0.7184 - accuracy: 0.7380 - val_loss: 0.4990 - val_accuracy: 0.8204\n",
      "Epoch 2/5\n",
      "1675/1675 [==============================] - 7s 4ms/step - loss: 0.4633 - accuracy: 0.8224 - val_loss: 0.4212 - val_accuracy: 0.8381\n",
      "Epoch 3/5\n",
      "1675/1675 [==============================] - 7s 4ms/step - loss: 0.4149 - accuracy: 0.8345 - val_loss: 0.3975 - val_accuracy: 0.8432\n",
      "Epoch 4/5\n",
      "1675/1675 [==============================] - 6s 4ms/step - loss: 0.3909 - accuracy: 0.8404 - val_loss: 0.3765 - val_accuracy: 0.8496\n",
      "Epoch 5/5\n",
      "1675/1675 [==============================] - 7s 4ms/step - loss: 0.3751 - accuracy: 0.8460 - val_loss: 0.3644 - val_accuracy: 0.8538\n"
     ]
    }
   ],
   "source": [
    "history = dnn_model.fit(X_train_t, Y_train_t, batch_size=64, epochs=5, validation_data=(X_train_val, Y_train_val))"
   ]
  },
  {
   "cell_type": "markdown",
   "id": "300babbd",
   "metadata": {
    "papermill": {
     "duration": 0.306375,
     "end_time": "2022-03-09T09:03:48.504300",
     "exception": false,
     "start_time": "2022-03-09T09:03:48.197925",
     "status": "completed"
    },
    "tags": []
   },
   "source": [
    "## **Final Model Evaluation**"
   ]
  },
  {
   "cell_type": "code",
   "execution_count": 49,
   "id": "aded88ef",
   "metadata": {
    "execution": {
     "iopub.execute_input": "2022-03-09T09:03:49.113892Z",
     "iopub.status.busy": "2022-03-09T09:03:49.113223Z",
     "iopub.status.idle": "2022-03-09T09:03:49.116606Z",
     "shell.execute_reply": "2022-03-09T09:03:49.115925Z",
     "shell.execute_reply.started": "2022-03-08T15:18:08.281088Z"
    },
    "papermill": {
     "duration": 0.310299,
     "end_time": "2022-03-09T09:03:49.116751",
     "exception": false,
     "start_time": "2022-03-09T09:03:48.806452",
     "status": "completed"
    },
    "tags": []
   },
   "outputs": [],
   "source": [
    "from sklearn.metrics import classification_report"
   ]
  },
  {
   "cell_type": "code",
   "execution_count": 50,
   "id": "60bbecb1",
   "metadata": {
    "execution": {
     "iopub.execute_input": "2022-03-09T09:03:49.753642Z",
     "iopub.status.busy": "2022-03-09T09:03:49.752350Z",
     "iopub.status.idle": "2022-03-09T09:03:49.754418Z",
     "shell.execute_reply": "2022-03-09T09:03:49.754910Z",
     "shell.execute_reply.started": "2022-03-08T15:18:08.282664Z"
    },
    "papermill": {
     "duration": 0.316991,
     "end_time": "2022-03-09T09:03:49.755163",
     "exception": false,
     "start_time": "2022-03-09T09:03:49.438172",
     "status": "completed"
    },
    "tags": []
   },
   "outputs": [],
   "source": [
    "final_model = rnd_forest_model\n",
    "use_neural_network = False"
   ]
  },
  {
   "cell_type": "code",
   "execution_count": 51,
   "id": "4011f19b",
   "metadata": {
    "execution": {
     "iopub.execute_input": "2022-03-09T09:03:50.375909Z",
     "iopub.status.busy": "2022-03-09T09:03:50.374900Z",
     "iopub.status.idle": "2022-03-09T09:03:50.688510Z",
     "shell.execute_reply": "2022-03-09T09:03:50.689429Z",
     "shell.execute_reply.started": "2022-03-08T15:18:08.284218Z"
    },
    "papermill": {
     "duration": 0.626164,
     "end_time": "2022-03-09T09:03:50.689748",
     "exception": false,
     "start_time": "2022-03-09T09:03:50.063584",
     "status": "completed"
    },
    "tags": []
   },
   "outputs": [],
   "source": [
    "# Preprocess the data\n",
    "\n",
    "# Standardize\n",
    "X_test = st_scaler.transform(X_test)\n",
    "# PCA\n",
    "X_test = pca.transform(X_test)"
   ]
  },
  {
   "cell_type": "code",
   "execution_count": 52,
   "id": "f78464a1",
   "metadata": {
    "execution": {
     "iopub.execute_input": "2022-03-09T09:03:51.358548Z",
     "iopub.status.busy": "2022-03-09T09:03:51.357284Z",
     "iopub.status.idle": "2022-03-09T09:05:16.761936Z",
     "shell.execute_reply": "2022-03-09T09:05:16.761381Z",
     "shell.execute_reply.started": "2022-03-08T15:18:08.285783Z"
    },
    "papermill": {
     "duration": 85.713907,
     "end_time": "2022-03-09T09:05:16.762121",
     "exception": false,
     "start_time": "2022-03-09T09:03:51.048214",
     "status": "completed"
    },
    "tags": []
   },
   "outputs": [],
   "source": [
    "if use_neural_network:\n",
    "    # Predict probabilty distributions over possible labels\n",
    "    Y_test_pred_p = final_model.predict(X_test)\n",
    "    # Store the index of the most probable label\n",
    "    Y_test_pred = np.argmax(Y_test_pred_p, axis=1)\n",
    "else:\n",
    "    # Train the model on the full training set\n",
    "    final_model.fit(X_train, Y_train)\n",
    "    # Directly predict labels\n",
    "    Y_test_pred = final_model.predict(X_test)"
   ]
  },
  {
   "cell_type": "code",
   "execution_count": 53,
   "id": "f31e05af",
   "metadata": {
    "execution": {
     "iopub.execute_input": "2022-03-09T09:05:17.369763Z",
     "iopub.status.busy": "2022-03-09T09:05:17.368833Z",
     "iopub.status.idle": "2022-03-09T09:05:17.535642Z",
     "shell.execute_reply": "2022-03-09T09:05:17.534986Z",
     "shell.execute_reply.started": "2022-03-08T15:18:08.287285Z"
    },
    "papermill": {
     "duration": 0.474871,
     "end_time": "2022-03-09T09:05:17.535789",
     "exception": false,
     "start_time": "2022-03-09T09:05:17.060918",
     "status": "completed"
    },
    "tags": []
   },
   "outputs": [
    {
     "name": "stdout",
     "output_type": "stream",
     "text": [
      "                          precision    recall  f1-score   support\n",
      "\n",
      "    Bacteroides_fragilis       0.99      0.99      0.99      6646\n",
      "    Campylobacter_jejuni       0.99      0.99      0.99      6621\n",
      "      Enterococcus_hirae       0.98      0.98      0.98      6583\n",
      "        Escherichia_coli       0.97      0.97      0.97      6586\n",
      "  Escherichia_fergusonii       0.97      0.98      0.97      6579\n",
      "   Klebsiella_pneumoniae       1.00      0.99      0.99      6549\n",
      "     Salmonella_enterica       0.98      0.98      0.98      6610\n",
      "   Staphylococcus_aureus       0.99      0.99      0.99      6577\n",
      "Streptococcus_pneumoniae       0.98      0.97      0.98      6624\n",
      "  Streptococcus_pyogenes       0.98      0.97      0.98      6625\n",
      "\n",
      "                accuracy                           0.98     66000\n",
      "               macro avg       0.98      0.98      0.98     66000\n",
      "            weighted avg       0.98      0.98      0.98     66000\n",
      "\n"
     ]
    }
   ],
   "source": [
    "print(classification_report(Y_test, Y_test_pred, target_names=label_encoder.classes_))"
   ]
  },
  {
   "cell_type": "markdown",
   "id": "7d82e1c1",
   "metadata": {
    "papermill": {
     "duration": 0.303928,
     "end_time": "2022-03-09T09:05:18.141219",
     "exception": false,
     "start_time": "2022-03-09T09:05:17.837291",
     "status": "completed"
    },
    "tags": []
   },
   "source": [
    "## **Kaggle Submission Test**"
   ]
  },
  {
   "cell_type": "code",
   "execution_count": 54,
   "id": "1cd81dea",
   "metadata": {
    "execution": {
     "iopub.execute_input": "2022-03-09T09:05:18.748579Z",
     "iopub.status.busy": "2022-03-09T09:05:18.747807Z",
     "iopub.status.idle": "2022-03-09T09:05:33.568746Z",
     "shell.execute_reply": "2022-03-09T09:05:33.568182Z",
     "shell.execute_reply.started": "2022-03-08T15:18:08.289486Z"
    },
    "papermill": {
     "duration": 15.126602,
     "end_time": "2022-03-09T09:05:33.568912",
     "exception": false,
     "start_time": "2022-03-09T09:05:18.442310",
     "status": "completed"
    },
    "tags": []
   },
   "outputs": [
    {
     "data": {
      "text/html": [
       "<div>\n",
       "<style scoped>\n",
       "    .dataframe tbody tr th:only-of-type {\n",
       "        vertical-align: middle;\n",
       "    }\n",
       "\n",
       "    .dataframe tbody tr th {\n",
       "        vertical-align: top;\n",
       "    }\n",
       "\n",
       "    .dataframe thead th {\n",
       "        text-align: right;\n",
       "    }\n",
       "</style>\n",
       "<table border=\"1\" class=\"dataframe\">\n",
       "  <thead>\n",
       "    <tr style=\"text-align: right;\">\n",
       "      <th></th>\n",
       "      <th>row_id</th>\n",
       "      <th>A0T0G0C10</th>\n",
       "      <th>A0T0G1C9</th>\n",
       "      <th>A0T0G2C8</th>\n",
       "      <th>A0T0G3C7</th>\n",
       "      <th>A0T0G4C6</th>\n",
       "      <th>A0T0G5C5</th>\n",
       "      <th>A0T0G6C4</th>\n",
       "      <th>A0T0G7C3</th>\n",
       "      <th>A0T0G8C2</th>\n",
       "      <th>...</th>\n",
       "      <th>A8T0G0C2</th>\n",
       "      <th>A8T0G1C1</th>\n",
       "      <th>A8T0G2C0</th>\n",
       "      <th>A8T1G0C1</th>\n",
       "      <th>A8T1G1C0</th>\n",
       "      <th>A8T2G0C0</th>\n",
       "      <th>A9T0G0C1</th>\n",
       "      <th>A9T0G1C0</th>\n",
       "      <th>A9T1G0C0</th>\n",
       "      <th>A10T0G0C0</th>\n",
       "    </tr>\n",
       "  </thead>\n",
       "  <tbody>\n",
       "    <tr>\n",
       "      <th>0</th>\n",
       "      <td>200000</td>\n",
       "      <td>-9.536743e-07</td>\n",
       "      <td>-0.000002</td>\n",
       "      <td>-9.153442e-07</td>\n",
       "      <td>0.000024</td>\n",
       "      <td>0.000034</td>\n",
       "      <td>-0.000002</td>\n",
       "      <td>0.000021</td>\n",
       "      <td>0.000024</td>\n",
       "      <td>-0.000009</td>\n",
       "      <td>...</td>\n",
       "      <td>0.000039</td>\n",
       "      <td>0.000085</td>\n",
       "      <td>0.000055</td>\n",
       "      <td>0.000108</td>\n",
       "      <td>0.000090</td>\n",
       "      <td>0.000059</td>\n",
       "      <td>0.000010</td>\n",
       "      <td>0.000006</td>\n",
       "      <td>0.000027</td>\n",
       "      <td>4.632568e-08</td>\n",
       "    </tr>\n",
       "    <tr>\n",
       "      <th>1</th>\n",
       "      <td>200001</td>\n",
       "      <td>-9.536743e-07</td>\n",
       "      <td>-0.000010</td>\n",
       "      <td>-4.291534e-05</td>\n",
       "      <td>-0.000114</td>\n",
       "      <td>0.001800</td>\n",
       "      <td>-0.000240</td>\n",
       "      <td>0.001800</td>\n",
       "      <td>-0.000114</td>\n",
       "      <td>0.000957</td>\n",
       "      <td>...</td>\n",
       "      <td>-0.000043</td>\n",
       "      <td>0.000914</td>\n",
       "      <td>-0.000043</td>\n",
       "      <td>-0.000086</td>\n",
       "      <td>-0.000086</td>\n",
       "      <td>-0.000043</td>\n",
       "      <td>-0.000010</td>\n",
       "      <td>-0.000010</td>\n",
       "      <td>-0.000010</td>\n",
       "      <td>-9.536743e-07</td>\n",
       "    </tr>\n",
       "    <tr>\n",
       "      <th>2</th>\n",
       "      <td>200002</td>\n",
       "      <td>4.632568e-08</td>\n",
       "      <td>0.000003</td>\n",
       "      <td>8.465576e-08</td>\n",
       "      <td>-0.000014</td>\n",
       "      <td>0.000007</td>\n",
       "      <td>-0.000005</td>\n",
       "      <td>-0.000004</td>\n",
       "      <td>0.000003</td>\n",
       "      <td>0.000004</td>\n",
       "      <td>...</td>\n",
       "      <td>0.000041</td>\n",
       "      <td>0.000102</td>\n",
       "      <td>0.000084</td>\n",
       "      <td>0.000111</td>\n",
       "      <td>0.000117</td>\n",
       "      <td>0.000070</td>\n",
       "      <td>0.000020</td>\n",
       "      <td>0.000030</td>\n",
       "      <td>0.000021</td>\n",
       "      <td>4.632568e-08</td>\n",
       "    </tr>\n",
       "    <tr>\n",
       "      <th>3</th>\n",
       "      <td>200003</td>\n",
       "      <td>-9.536743e-07</td>\n",
       "      <td>-0.000008</td>\n",
       "      <td>8.084656e-06</td>\n",
       "      <td>0.000216</td>\n",
       "      <td>0.000420</td>\n",
       "      <td>0.000514</td>\n",
       "      <td>0.000452</td>\n",
       "      <td>0.000187</td>\n",
       "      <td>-0.000005</td>\n",
       "      <td>...</td>\n",
       "      <td>0.000069</td>\n",
       "      <td>0.000158</td>\n",
       "      <td>0.000098</td>\n",
       "      <td>0.000175</td>\n",
       "      <td>0.000217</td>\n",
       "      <td>0.000150</td>\n",
       "      <td>0.000018</td>\n",
       "      <td>0.000016</td>\n",
       "      <td>0.000051</td>\n",
       "      <td>-9.536743e-07</td>\n",
       "    </tr>\n",
       "    <tr>\n",
       "      <th>4</th>\n",
       "      <td>200004</td>\n",
       "      <td>-9.536743e-07</td>\n",
       "      <td>-0.000010</td>\n",
       "      <td>-4.291534e-05</td>\n",
       "      <td>-0.000114</td>\n",
       "      <td>-0.000200</td>\n",
       "      <td>-0.000240</td>\n",
       "      <td>-0.000200</td>\n",
       "      <td>-0.000114</td>\n",
       "      <td>-0.000043</td>\n",
       "      <td>...</td>\n",
       "      <td>-0.000043</td>\n",
       "      <td>-0.000086</td>\n",
       "      <td>-0.000043</td>\n",
       "      <td>-0.000086</td>\n",
       "      <td>0.000914</td>\n",
       "      <td>-0.000043</td>\n",
       "      <td>-0.000010</td>\n",
       "      <td>-0.000010</td>\n",
       "      <td>0.000990</td>\n",
       "      <td>-9.536743e-07</td>\n",
       "    </tr>\n",
       "  </tbody>\n",
       "</table>\n",
       "<p>5 rows × 287 columns</p>\n",
       "</div>"
      ],
      "text/plain": [
       "   row_id     A0T0G0C10  A0T0G1C9      A0T0G2C8  A0T0G3C7  A0T0G4C6  A0T0G5C5  \\\n",
       "0  200000 -9.536743e-07 -0.000002 -9.153442e-07  0.000024  0.000034 -0.000002   \n",
       "1  200001 -9.536743e-07 -0.000010 -4.291534e-05 -0.000114  0.001800 -0.000240   \n",
       "2  200002  4.632568e-08  0.000003  8.465576e-08 -0.000014  0.000007 -0.000005   \n",
       "3  200003 -9.536743e-07 -0.000008  8.084656e-06  0.000216  0.000420  0.000514   \n",
       "4  200004 -9.536743e-07 -0.000010 -4.291534e-05 -0.000114 -0.000200 -0.000240   \n",
       "\n",
       "   A0T0G6C4  A0T0G7C3  A0T0G8C2  ...  A8T0G0C2  A8T0G1C1  A8T0G2C0  A8T1G0C1  \\\n",
       "0  0.000021  0.000024 -0.000009  ...  0.000039  0.000085  0.000055  0.000108   \n",
       "1  0.001800 -0.000114  0.000957  ... -0.000043  0.000914 -0.000043 -0.000086   \n",
       "2 -0.000004  0.000003  0.000004  ...  0.000041  0.000102  0.000084  0.000111   \n",
       "3  0.000452  0.000187 -0.000005  ...  0.000069  0.000158  0.000098  0.000175   \n",
       "4 -0.000200 -0.000114 -0.000043  ... -0.000043 -0.000086 -0.000043 -0.000086   \n",
       "\n",
       "   A8T1G1C0  A8T2G0C0  A9T0G0C1  A9T0G1C0  A9T1G0C0     A10T0G0C0  \n",
       "0  0.000090  0.000059  0.000010  0.000006  0.000027  4.632568e-08  \n",
       "1 -0.000086 -0.000043 -0.000010 -0.000010 -0.000010 -9.536743e-07  \n",
       "2  0.000117  0.000070  0.000020  0.000030  0.000021  4.632568e-08  \n",
       "3  0.000217  0.000150  0.000018  0.000016  0.000051 -9.536743e-07  \n",
       "4  0.000914 -0.000043 -0.000010 -0.000010  0.000990 -9.536743e-07  \n",
       "\n",
       "[5 rows x 287 columns]"
      ]
     },
     "execution_count": 54,
     "metadata": {},
     "output_type": "execute_result"
    }
   ],
   "source": [
    "# Load Kaggle's submission test set\n",
    "df_subm = pd.read_csv(\"/kaggle/input/tabular-playground-series-feb-2022/test.csv\")\n",
    "df_subm.head()"
   ]
  },
  {
   "cell_type": "code",
   "execution_count": 55,
   "id": "f39a5aa7",
   "metadata": {
    "execution": {
     "iopub.execute_input": "2022-03-09T09:05:34.210809Z",
     "iopub.status.busy": "2022-03-09T09:05:34.210156Z",
     "iopub.status.idle": "2022-03-09T09:05:34.216431Z",
     "shell.execute_reply": "2022-03-09T09:05:34.215860Z",
     "shell.execute_reply.started": "2022-03-08T15:18:08.291173Z"
    },
    "papermill": {
     "duration": 0.343539,
     "end_time": "2022-03-09T09:05:34.216581",
     "exception": false,
     "start_time": "2022-03-09T09:05:33.873042",
     "status": "completed"
    },
    "tags": []
   },
   "outputs": [
    {
     "data": {
      "text/html": [
       "<div>\n",
       "<style scoped>\n",
       "    .dataframe tbody tr th:only-of-type {\n",
       "        vertical-align: middle;\n",
       "    }\n",
       "\n",
       "    .dataframe tbody tr th {\n",
       "        vertical-align: top;\n",
       "    }\n",
       "\n",
       "    .dataframe thead th {\n",
       "        text-align: right;\n",
       "    }\n",
       "</style>\n",
       "<table border=\"1\" class=\"dataframe\">\n",
       "  <thead>\n",
       "    <tr style=\"text-align: right;\">\n",
       "      <th></th>\n",
       "      <th>row_id</th>\n",
       "    </tr>\n",
       "  </thead>\n",
       "  <tbody>\n",
       "    <tr>\n",
       "      <th>0</th>\n",
       "      <td>200000</td>\n",
       "    </tr>\n",
       "    <tr>\n",
       "      <th>1</th>\n",
       "      <td>200001</td>\n",
       "    </tr>\n",
       "    <tr>\n",
       "      <th>2</th>\n",
       "      <td>200002</td>\n",
       "    </tr>\n",
       "    <tr>\n",
       "      <th>3</th>\n",
       "      <td>200003</td>\n",
       "    </tr>\n",
       "    <tr>\n",
       "      <th>4</th>\n",
       "      <td>200004</td>\n",
       "    </tr>\n",
       "  </tbody>\n",
       "</table>\n",
       "</div>"
      ],
      "text/plain": [
       "   row_id\n",
       "0  200000\n",
       "1  200001\n",
       "2  200002\n",
       "3  200003\n",
       "4  200004"
      ]
     },
     "execution_count": 55,
     "metadata": {},
     "output_type": "execute_result"
    }
   ],
   "source": [
    "df_subm_results = pd.DataFrame(df_subm[\"row_id\"])\n",
    "df_subm_results.head()"
   ]
  },
  {
   "cell_type": "code",
   "execution_count": 56,
   "id": "131db1fa",
   "metadata": {
    "execution": {
     "iopub.execute_input": "2022-03-09T09:05:34.826594Z",
     "iopub.status.busy": "2022-03-09T09:05:34.825945Z",
     "iopub.status.idle": "2022-03-09T09:05:34.972766Z",
     "shell.execute_reply": "2022-03-09T09:05:34.973292Z",
     "shell.execute_reply.started": "2022-03-08T15:18:08.292645Z"
    },
    "papermill": {
     "duration": 0.454254,
     "end_time": "2022-03-09T09:05:34.973512",
     "exception": false,
     "start_time": "2022-03-09T09:05:34.519258",
     "status": "completed"
    },
    "tags": []
   },
   "outputs": [],
   "source": [
    "X_subm = df_subm.drop(columns=\"row_id\")"
   ]
  },
  {
   "cell_type": "code",
   "execution_count": 57,
   "id": "2d668b97",
   "metadata": {
    "execution": {
     "iopub.execute_input": "2022-03-09T09:05:35.597756Z",
     "iopub.status.busy": "2022-03-09T09:05:35.597095Z",
     "iopub.status.idle": "2022-03-09T09:05:36.174040Z",
     "shell.execute_reply": "2022-03-09T09:05:36.175082Z",
     "shell.execute_reply.started": "2022-03-08T15:18:08.29409Z"
    },
    "papermill": {
     "duration": 0.880271,
     "end_time": "2022-03-09T09:05:36.175359",
     "exception": false,
     "start_time": "2022-03-09T09:05:35.295088",
     "status": "completed"
    },
    "tags": []
   },
   "outputs": [
    {
     "data": {
      "text/plain": [
       "(100000, 10)"
      ]
     },
     "execution_count": 57,
     "metadata": {},
     "output_type": "execute_result"
    }
   ],
   "source": [
    "# Standardize test set\n",
    "X_subm = st_scaler.transform(X_subm)\n",
    "X_subm.shape\n",
    "\n",
    "# PCA transform on test set\n",
    "X_subm = pca.transform(X_subm)\n",
    "X_subm.shape"
   ]
  },
  {
   "cell_type": "code",
   "execution_count": 58,
   "id": "3b0ff11d",
   "metadata": {
    "execution": {
     "iopub.execute_input": "2022-03-09T09:05:36.835231Z",
     "iopub.status.busy": "2022-03-09T09:05:36.834591Z",
     "iopub.status.idle": "2022-03-09T09:05:39.024048Z",
     "shell.execute_reply": "2022-03-09T09:05:39.023353Z",
     "shell.execute_reply.started": "2022-03-08T15:18:08.29558Z"
    },
    "papermill": {
     "duration": 2.498112,
     "end_time": "2022-03-09T09:05:39.024193",
     "exception": false,
     "start_time": "2022-03-09T09:05:36.526081",
     "status": "completed"
    },
    "tags": []
   },
   "outputs": [],
   "source": [
    "if use_neural_network:\n",
    "    # Predict probabilty distributions over possible labels\n",
    "    Y_subm_predicted_p = final_model.predict(X_subm)\n",
    "    # Store the index of the most probable label\n",
    "    Y_subm_predicted = np.argmax(Y_subm_predicted_p, axis=1)\n",
    "else:\n",
    "    Y_subm_predicted = final_model.predict(X_subm)\n",
    "\n",
    "# Convert label indexes to text\n",
    "Y_subm_predicted_labeled = label_encoder.inverse_transform(Y_subm_predicted)\n",
    "# Store the predicted targets in the dataframe\n",
    "df_subm_results[\"target\"] = Y_subm_predicted_labeled"
   ]
  },
  {
   "cell_type": "code",
   "execution_count": 59,
   "id": "83b2a671",
   "metadata": {
    "execution": {
     "iopub.execute_input": "2022-03-09T09:05:39.672734Z",
     "iopub.status.busy": "2022-03-09T09:05:39.671953Z",
     "iopub.status.idle": "2022-03-09T09:05:39.674841Z",
     "shell.execute_reply": "2022-03-09T09:05:39.675329Z",
     "shell.execute_reply.started": "2022-03-08T15:18:08.297014Z"
    },
    "papermill": {
     "duration": 0.349856,
     "end_time": "2022-03-09T09:05:39.675502",
     "exception": false,
     "start_time": "2022-03-09T09:05:39.325646",
     "status": "completed"
    },
    "tags": []
   },
   "outputs": [
    {
     "data": {
      "text/html": [
       "<div>\n",
       "<style scoped>\n",
       "    .dataframe tbody tr th:only-of-type {\n",
       "        vertical-align: middle;\n",
       "    }\n",
       "\n",
       "    .dataframe tbody tr th {\n",
       "        vertical-align: top;\n",
       "    }\n",
       "\n",
       "    .dataframe thead th {\n",
       "        text-align: right;\n",
       "    }\n",
       "</style>\n",
       "<table border=\"1\" class=\"dataframe\">\n",
       "  <thead>\n",
       "    <tr style=\"text-align: right;\">\n",
       "      <th></th>\n",
       "      <th>row_id</th>\n",
       "      <th>target</th>\n",
       "    </tr>\n",
       "  </thead>\n",
       "  <tbody>\n",
       "    <tr>\n",
       "      <th>0</th>\n",
       "      <td>200000</td>\n",
       "      <td>Escherichia_fergusonii</td>\n",
       "    </tr>\n",
       "    <tr>\n",
       "      <th>1</th>\n",
       "      <td>200001</td>\n",
       "      <td>Salmonella_enterica</td>\n",
       "    </tr>\n",
       "    <tr>\n",
       "      <th>2</th>\n",
       "      <td>200002</td>\n",
       "      <td>Enterococcus_hirae</td>\n",
       "    </tr>\n",
       "    <tr>\n",
       "      <th>3</th>\n",
       "      <td>200003</td>\n",
       "      <td>Salmonella_enterica</td>\n",
       "    </tr>\n",
       "    <tr>\n",
       "      <th>4</th>\n",
       "      <td>200004</td>\n",
       "      <td>Staphylococcus_aureus</td>\n",
       "    </tr>\n",
       "  </tbody>\n",
       "</table>\n",
       "</div>"
      ],
      "text/plain": [
       "   row_id                  target\n",
       "0  200000  Escherichia_fergusonii\n",
       "1  200001     Salmonella_enterica\n",
       "2  200002      Enterococcus_hirae\n",
       "3  200003     Salmonella_enterica\n",
       "4  200004   Staphylococcus_aureus"
      ]
     },
     "execution_count": 59,
     "metadata": {},
     "output_type": "execute_result"
    }
   ],
   "source": [
    "df_subm_results.head()"
   ]
  },
  {
   "cell_type": "code",
   "execution_count": 60,
   "id": "9485e395",
   "metadata": {
    "execution": {
     "iopub.execute_input": "2022-03-09T09:05:40.340750Z",
     "iopub.status.busy": "2022-03-09T09:05:40.340123Z",
     "iopub.status.idle": "2022-03-09T09:05:40.602983Z",
     "shell.execute_reply": "2022-03-09T09:05:40.603522Z",
     "shell.execute_reply.started": "2022-03-08T15:18:08.298528Z"
    },
    "papermill": {
     "duration": 0.568577,
     "end_time": "2022-03-09T09:05:40.603708",
     "exception": false,
     "start_time": "2022-03-09T09:05:40.035131",
     "status": "completed"
    },
    "tags": []
   },
   "outputs": [],
   "source": [
    "df_subm_results.to_csv(\"submission.csv\", index=False)"
   ]
  },
  {
   "cell_type": "code",
   "execution_count": null,
   "id": "be150b44",
   "metadata": {
    "papermill": {
     "duration": 0.301824,
     "end_time": "2022-03-09T09:05:41.212476",
     "exception": false,
     "start_time": "2022-03-09T09:05:40.910652",
     "status": "completed"
    },
    "tags": []
   },
   "outputs": [],
   "source": []
  },
  {
   "cell_type": "code",
   "execution_count": null,
   "id": "49813d33",
   "metadata": {
    "papermill": {
     "duration": 0.300329,
     "end_time": "2022-03-09T09:05:41.816069",
     "exception": false,
     "start_time": "2022-03-09T09:05:41.515740",
     "status": "completed"
    },
    "tags": []
   },
   "outputs": [],
   "source": []
  }
 ],
 "metadata": {
  "kernelspec": {
   "display_name": "Python 3",
   "language": "python",
   "name": "python3"
  },
  "language_info": {
   "codemirror_mode": {
    "name": "ipython",
    "version": 3
   },
   "file_extension": ".py",
   "mimetype": "text/x-python",
   "name": "python",
   "nbconvert_exporter": "python",
   "pygments_lexer": "ipython3",
   "version": "3.7.12"
  },
  "papermill": {
   "default_parameters": {},
   "duration": 653.208104,
   "end_time": "2022-03-09T09:05:45.386000",
   "environment_variables": {},
   "exception": null,
   "input_path": "__notebook__.ipynb",
   "output_path": "__notebook__.ipynb",
   "parameters": {},
   "start_time": "2022-03-09T08:54:52.177896",
   "version": "2.3.3"
  }
 },
 "nbformat": 4,
 "nbformat_minor": 5
}
