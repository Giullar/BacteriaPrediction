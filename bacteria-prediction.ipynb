{
 "cells": [
  {
   "cell_type": "markdown",
   "id": "16f59275",
   "metadata": {
    "_cell_guid": "b1076dfc-b9ad-4769-8c92-a6c4dae69d19",
    "_uuid": "8f2839f25d086af736a60e9eeb907d3b93b6e0e5",
    "execution": {
     "iopub.execute_input": "2022-03-02T14:33:46.222715Z",
     "iopub.status.busy": "2022-03-02T14:33:46.221872Z",
     "iopub.status.idle": "2022-03-02T14:33:46.251698Z",
     "shell.execute_reply": "2022-03-02T14:33:46.250819Z",
     "shell.execute_reply.started": "2022-03-02T14:33:46.222522Z"
    },
    "papermill": {
     "duration": 0.067392,
     "end_time": "2022-03-08T16:02:45.664436",
     "exception": false,
     "start_time": "2022-03-08T16:02:45.597044",
     "status": "completed"
    },
    "tags": []
   },
   "source": [
    "# **Bacteria Prediction**"
   ]
  },
  {
   "cell_type": "markdown",
   "id": "acd74e51",
   "metadata": {
    "papermill": {
     "duration": 0.066616,
     "end_time": "2022-03-08T16:02:45.797459",
     "exception": false,
     "start_time": "2022-03-08T16:02:45.730843",
     "status": "completed"
    },
    "tags": []
   },
   "source": [
    "## **Data Loading**"
   ]
  },
  {
   "cell_type": "code",
   "execution_count": 1,
   "id": "46651da5",
   "metadata": {
    "execution": {
     "iopub.execute_input": "2022-03-08T16:02:45.933208Z",
     "iopub.status.busy": "2022-03-08T16:02:45.931478Z",
     "iopub.status.idle": "2022-03-08T16:02:45.941908Z",
     "shell.execute_reply": "2022-03-08T16:02:45.942395Z",
     "shell.execute_reply.started": "2022-03-08T15:16:10.869085Z"
    },
    "papermill": {
     "duration": 0.078008,
     "end_time": "2022-03-08T16:02:45.942683",
     "exception": false,
     "start_time": "2022-03-08T16:02:45.864675",
     "status": "completed"
    },
    "tags": []
   },
   "outputs": [],
   "source": [
    "import os\n",
    "import numpy as np\n",
    "import pandas as pd\n",
    "import matplotlib.pyplot as plt\n",
    "\n",
    "# Global variables\n",
    "random_seed = 42"
   ]
  },
  {
   "cell_type": "code",
   "execution_count": 2,
   "id": "a87af4d0",
   "metadata": {
    "execution": {
     "iopub.execute_input": "2022-03-08T16:02:46.079384Z",
     "iopub.status.busy": "2022-03-08T16:02:46.078500Z",
     "iopub.status.idle": "2022-03-08T16:02:46.084868Z",
     "shell.execute_reply": "2022-03-08T16:02:46.085371Z",
     "shell.execute_reply.started": "2022-03-08T15:16:10.880029Z"
    },
    "papermill": {
     "duration": 0.077264,
     "end_time": "2022-03-08T16:02:46.085541",
     "exception": false,
     "start_time": "2022-03-08T16:02:46.008277",
     "status": "completed"
    },
    "tags": []
   },
   "outputs": [
    {
     "name": "stdout",
     "output_type": "stream",
     "text": [
      "/kaggle/input/tabular-playground-series-feb-2022/sample_submission.csv\n",
      "/kaggle/input/tabular-playground-series-feb-2022/train.csv\n",
      "/kaggle/input/tabular-playground-series-feb-2022/test.csv\n"
     ]
    }
   ],
   "source": [
    "# Print directory structure\n",
    "for dirname, _, filenames in os.walk('/kaggle/input'):\n",
    "    for filename in filenames:\n",
    "        print(os.path.join(dirname, filename))"
   ]
  },
  {
   "cell_type": "code",
   "execution_count": 3,
   "id": "45dc4cf3",
   "metadata": {
    "execution": {
     "iopub.execute_input": "2022-03-08T16:02:46.219007Z",
     "iopub.status.busy": "2022-03-08T16:02:46.218079Z",
     "iopub.status.idle": "2022-03-08T16:03:12.159315Z",
     "shell.execute_reply": "2022-03-08T16:03:12.159801Z",
     "shell.execute_reply.started": "2022-03-08T15:16:10.901572Z"
    },
    "papermill": {
     "duration": 26.008897,
     "end_time": "2022-03-08T16:03:12.159979",
     "exception": false,
     "start_time": "2022-03-08T16:02:46.151082",
     "status": "completed"
    },
    "tags": []
   },
   "outputs": [],
   "source": [
    "# Load training set\n",
    "df = pd.read_csv(\"/kaggle/input/tabular-playground-series-feb-2022/train.csv\")"
   ]
  },
  {
   "cell_type": "markdown",
   "id": "ddefd0a0",
   "metadata": {
    "papermill": {
     "duration": 0.062689,
     "end_time": "2022-03-08T16:03:12.287282",
     "exception": false,
     "start_time": "2022-03-08T16:03:12.224593",
     "status": "completed"
    },
    "tags": []
   },
   "source": [
    "## **Data Analysis**"
   ]
  },
  {
   "cell_type": "code",
   "execution_count": 4,
   "id": "74a736cf",
   "metadata": {
    "execution": {
     "iopub.execute_input": "2022-03-08T16:03:12.414685Z",
     "iopub.status.busy": "2022-03-08T16:03:12.414009Z",
     "iopub.status.idle": "2022-03-08T16:03:12.420241Z",
     "shell.execute_reply": "2022-03-08T16:03:12.420842Z",
     "shell.execute_reply.started": "2022-03-08T15:16:26.043492Z"
    },
    "papermill": {
     "duration": 0.071355,
     "end_time": "2022-03-08T16:03:12.421005",
     "exception": false,
     "start_time": "2022-03-08T16:03:12.349650",
     "status": "completed"
    },
    "tags": []
   },
   "outputs": [
    {
     "data": {
      "text/plain": [
       "(200000, 288)"
      ]
     },
     "execution_count": 4,
     "metadata": {},
     "output_type": "execute_result"
    }
   ],
   "source": [
    "df.shape"
   ]
  },
  {
   "cell_type": "code",
   "execution_count": 5,
   "id": "d1b2fa24",
   "metadata": {
    "execution": {
     "iopub.execute_input": "2022-03-08T16:03:12.552112Z",
     "iopub.status.busy": "2022-03-08T16:03:12.551573Z",
     "iopub.status.idle": "2022-03-08T16:03:12.581151Z",
     "shell.execute_reply": "2022-03-08T16:03:12.581692Z",
     "shell.execute_reply.started": "2022-03-08T15:16:26.052993Z"
    },
    "papermill": {
     "duration": 0.096856,
     "end_time": "2022-03-08T16:03:12.581859",
     "exception": false,
     "start_time": "2022-03-08T16:03:12.485003",
     "status": "completed"
    },
    "tags": []
   },
   "outputs": [
    {
     "data": {
      "text/html": [
       "<div>\n",
       "<style scoped>\n",
       "    .dataframe tbody tr th:only-of-type {\n",
       "        vertical-align: middle;\n",
       "    }\n",
       "\n",
       "    .dataframe tbody tr th {\n",
       "        vertical-align: top;\n",
       "    }\n",
       "\n",
       "    .dataframe thead th {\n",
       "        text-align: right;\n",
       "    }\n",
       "</style>\n",
       "<table border=\"1\" class=\"dataframe\">\n",
       "  <thead>\n",
       "    <tr style=\"text-align: right;\">\n",
       "      <th></th>\n",
       "      <th>row_id</th>\n",
       "      <th>A0T0G0C10</th>\n",
       "      <th>A0T0G1C9</th>\n",
       "      <th>A0T0G2C8</th>\n",
       "      <th>A0T0G3C7</th>\n",
       "      <th>A0T0G4C6</th>\n",
       "      <th>A0T0G5C5</th>\n",
       "      <th>A0T0G6C4</th>\n",
       "      <th>A0T0G7C3</th>\n",
       "      <th>A0T0G8C2</th>\n",
       "      <th>...</th>\n",
       "      <th>A8T0G1C1</th>\n",
       "      <th>A8T0G2C0</th>\n",
       "      <th>A8T1G0C1</th>\n",
       "      <th>A8T1G1C0</th>\n",
       "      <th>A8T2G0C0</th>\n",
       "      <th>A9T0G0C1</th>\n",
       "      <th>A9T0G1C0</th>\n",
       "      <th>A9T1G0C0</th>\n",
       "      <th>A10T0G0C0</th>\n",
       "      <th>target</th>\n",
       "    </tr>\n",
       "  </thead>\n",
       "  <tbody>\n",
       "    <tr>\n",
       "      <th>0</th>\n",
       "      <td>0</td>\n",
       "      <td>-9.536743e-07</td>\n",
       "      <td>-0.000010</td>\n",
       "      <td>-0.000043</td>\n",
       "      <td>-0.000114</td>\n",
       "      <td>-0.000200</td>\n",
       "      <td>-0.000240</td>\n",
       "      <td>-0.000200</td>\n",
       "      <td>-0.000114</td>\n",
       "      <td>-0.000043</td>\n",
       "      <td>...</td>\n",
       "      <td>-0.000086</td>\n",
       "      <td>-0.000043</td>\n",
       "      <td>-0.000086</td>\n",
       "      <td>-0.000086</td>\n",
       "      <td>-0.000043</td>\n",
       "      <td>-0.000010</td>\n",
       "      <td>-0.000010</td>\n",
       "      <td>-0.000010</td>\n",
       "      <td>-9.536743e-07</td>\n",
       "      <td>Streptococcus_pyogenes</td>\n",
       "    </tr>\n",
       "    <tr>\n",
       "      <th>1</th>\n",
       "      <td>1</td>\n",
       "      <td>-9.536743e-07</td>\n",
       "      <td>-0.000010</td>\n",
       "      <td>-0.000043</td>\n",
       "      <td>0.000886</td>\n",
       "      <td>-0.000200</td>\n",
       "      <td>0.000760</td>\n",
       "      <td>-0.000200</td>\n",
       "      <td>-0.000114</td>\n",
       "      <td>-0.000043</td>\n",
       "      <td>...</td>\n",
       "      <td>-0.000086</td>\n",
       "      <td>-0.000043</td>\n",
       "      <td>0.000914</td>\n",
       "      <td>0.000914</td>\n",
       "      <td>-0.000043</td>\n",
       "      <td>-0.000010</td>\n",
       "      <td>-0.000010</td>\n",
       "      <td>-0.000010</td>\n",
       "      <td>-9.536743e-07</td>\n",
       "      <td>Salmonella_enterica</td>\n",
       "    </tr>\n",
       "    <tr>\n",
       "      <th>2</th>\n",
       "      <td>2</td>\n",
       "      <td>-9.536743e-07</td>\n",
       "      <td>-0.000002</td>\n",
       "      <td>0.000007</td>\n",
       "      <td>0.000129</td>\n",
       "      <td>0.000268</td>\n",
       "      <td>0.000270</td>\n",
       "      <td>0.000243</td>\n",
       "      <td>0.000125</td>\n",
       "      <td>0.000001</td>\n",
       "      <td>...</td>\n",
       "      <td>0.000084</td>\n",
       "      <td>0.000048</td>\n",
       "      <td>0.000081</td>\n",
       "      <td>0.000106</td>\n",
       "      <td>0.000072</td>\n",
       "      <td>0.000010</td>\n",
       "      <td>0.000008</td>\n",
       "      <td>0.000019</td>\n",
       "      <td>1.046326e-06</td>\n",
       "      <td>Salmonella_enterica</td>\n",
       "    </tr>\n",
       "    <tr>\n",
       "      <th>3</th>\n",
       "      <td>3</td>\n",
       "      <td>4.632568e-08</td>\n",
       "      <td>-0.000006</td>\n",
       "      <td>0.000012</td>\n",
       "      <td>0.000245</td>\n",
       "      <td>0.000492</td>\n",
       "      <td>0.000522</td>\n",
       "      <td>0.000396</td>\n",
       "      <td>0.000197</td>\n",
       "      <td>-0.000003</td>\n",
       "      <td>...</td>\n",
       "      <td>0.000151</td>\n",
       "      <td>0.000100</td>\n",
       "      <td>0.000180</td>\n",
       "      <td>0.000202</td>\n",
       "      <td>0.000153</td>\n",
       "      <td>0.000021</td>\n",
       "      <td>0.000015</td>\n",
       "      <td>0.000046</td>\n",
       "      <td>-9.536743e-07</td>\n",
       "      <td>Salmonella_enterica</td>\n",
       "    </tr>\n",
       "    <tr>\n",
       "      <th>4</th>\n",
       "      <td>4</td>\n",
       "      <td>-9.536743e-07</td>\n",
       "      <td>-0.000010</td>\n",
       "      <td>-0.000043</td>\n",
       "      <td>-0.000114</td>\n",
       "      <td>-0.000200</td>\n",
       "      <td>-0.000240</td>\n",
       "      <td>-0.000200</td>\n",
       "      <td>-0.000114</td>\n",
       "      <td>-0.000043</td>\n",
       "      <td>...</td>\n",
       "      <td>-0.000086</td>\n",
       "      <td>-0.000043</td>\n",
       "      <td>-0.000086</td>\n",
       "      <td>-0.000086</td>\n",
       "      <td>-0.000043</td>\n",
       "      <td>-0.000010</td>\n",
       "      <td>-0.000010</td>\n",
       "      <td>-0.000010</td>\n",
       "      <td>-9.536743e-07</td>\n",
       "      <td>Enterococcus_hirae</td>\n",
       "    </tr>\n",
       "  </tbody>\n",
       "</table>\n",
       "<p>5 rows × 288 columns</p>\n",
       "</div>"
      ],
      "text/plain": [
       "   row_id     A0T0G0C10  A0T0G1C9  A0T0G2C8  A0T0G3C7  A0T0G4C6  A0T0G5C5  \\\n",
       "0       0 -9.536743e-07 -0.000010 -0.000043 -0.000114 -0.000200 -0.000240   \n",
       "1       1 -9.536743e-07 -0.000010 -0.000043  0.000886 -0.000200  0.000760   \n",
       "2       2 -9.536743e-07 -0.000002  0.000007  0.000129  0.000268  0.000270   \n",
       "3       3  4.632568e-08 -0.000006  0.000012  0.000245  0.000492  0.000522   \n",
       "4       4 -9.536743e-07 -0.000010 -0.000043 -0.000114 -0.000200 -0.000240   \n",
       "\n",
       "   A0T0G6C4  A0T0G7C3  A0T0G8C2  ...  A8T0G1C1  A8T0G2C0  A8T1G0C1  A8T1G1C0  \\\n",
       "0 -0.000200 -0.000114 -0.000043  ... -0.000086 -0.000043 -0.000086 -0.000086   \n",
       "1 -0.000200 -0.000114 -0.000043  ... -0.000086 -0.000043  0.000914  0.000914   \n",
       "2  0.000243  0.000125  0.000001  ...  0.000084  0.000048  0.000081  0.000106   \n",
       "3  0.000396  0.000197 -0.000003  ...  0.000151  0.000100  0.000180  0.000202   \n",
       "4 -0.000200 -0.000114 -0.000043  ... -0.000086 -0.000043 -0.000086 -0.000086   \n",
       "\n",
       "   A8T2G0C0  A9T0G0C1  A9T0G1C0  A9T1G0C0     A10T0G0C0  \\\n",
       "0 -0.000043 -0.000010 -0.000010 -0.000010 -9.536743e-07   \n",
       "1 -0.000043 -0.000010 -0.000010 -0.000010 -9.536743e-07   \n",
       "2  0.000072  0.000010  0.000008  0.000019  1.046326e-06   \n",
       "3  0.000153  0.000021  0.000015  0.000046 -9.536743e-07   \n",
       "4 -0.000043 -0.000010 -0.000010 -0.000010 -9.536743e-07   \n",
       "\n",
       "                   target  \n",
       "0  Streptococcus_pyogenes  \n",
       "1     Salmonella_enterica  \n",
       "2     Salmonella_enterica  \n",
       "3     Salmonella_enterica  \n",
       "4      Enterococcus_hirae  \n",
       "\n",
       "[5 rows x 288 columns]"
      ]
     },
     "execution_count": 5,
     "metadata": {},
     "output_type": "execute_result"
    }
   ],
   "source": [
    "df.head()"
   ]
  },
  {
   "cell_type": "code",
   "execution_count": 6,
   "id": "669efd30",
   "metadata": {
    "execution": {
     "iopub.execute_input": "2022-03-08T16:03:12.711659Z",
     "iopub.status.busy": "2022-03-08T16:03:12.711121Z",
     "iopub.status.idle": "2022-03-08T16:03:12.718065Z",
     "shell.execute_reply": "2022-03-08T16:03:12.717553Z",
     "shell.execute_reply.started": "2022-03-08T15:16:26.086655Z"
    },
    "papermill": {
     "duration": 0.073604,
     "end_time": "2022-03-08T16:03:12.718191",
     "exception": false,
     "start_time": "2022-03-08T16:03:12.644587",
     "status": "completed"
    },
    "tags": []
   },
   "outputs": [
    {
     "data": {
      "text/plain": [
       "row_id         int64\n",
       "A0T0G0C10    float64\n",
       "A0T0G1C9     float64\n",
       "A0T0G2C8     float64\n",
       "A0T0G3C7     float64\n",
       "              ...   \n",
       "A9T0G0C1     float64\n",
       "A9T0G1C0     float64\n",
       "A9T1G0C0     float64\n",
       "A10T0G0C0    float64\n",
       "target        object\n",
       "Length: 288, dtype: object"
      ]
     },
     "execution_count": 6,
     "metadata": {},
     "output_type": "execute_result"
    }
   ],
   "source": [
    "df.dtypes"
   ]
  },
  {
   "cell_type": "code",
   "execution_count": 7,
   "id": "ff9985a0",
   "metadata": {
    "execution": {
     "iopub.execute_input": "2022-03-08T16:03:12.849311Z",
     "iopub.status.busy": "2022-03-08T16:03:12.848492Z",
     "iopub.status.idle": "2022-03-08T16:03:12.991230Z",
     "shell.execute_reply": "2022-03-08T16:03:12.991690Z",
     "shell.execute_reply.started": "2022-03-08T15:16:26.104370Z"
    },
    "papermill": {
     "duration": 0.210313,
     "end_time": "2022-03-08T16:03:12.991861",
     "exception": false,
     "start_time": "2022-03-08T16:03:12.781548",
     "status": "completed"
    },
    "tags": []
   },
   "outputs": [
    {
     "data": {
      "text/plain": [
       "(200000, 287)"
      ]
     },
     "execution_count": 7,
     "metadata": {},
     "output_type": "execute_result"
    }
   ],
   "source": [
    "# We drop the row_id column because we will not use it\n",
    "df.drop(columns=[\"row_id\"], inplace=True)\n",
    "df.shape"
   ]
  },
  {
   "cell_type": "code",
   "execution_count": 8,
   "id": "6b64c29e",
   "metadata": {
    "execution": {
     "iopub.execute_input": "2022-03-08T16:03:13.128684Z",
     "iopub.status.busy": "2022-03-08T16:03:13.127719Z",
     "iopub.status.idle": "2022-03-08T16:03:13.249145Z",
     "shell.execute_reply": "2022-03-08T16:03:13.248634Z",
     "shell.execute_reply.started": "2022-03-08T15:16:26.267529Z"
    },
    "papermill": {
     "duration": 0.191302,
     "end_time": "2022-03-08T16:03:13.249276",
     "exception": false,
     "start_time": "2022-03-08T16:03:13.057974",
     "status": "completed"
    },
    "tags": []
   },
   "outputs": [
    {
     "data": {
      "text/plain": [
       "False"
      ]
     },
     "execution_count": 8,
     "metadata": {},
     "output_type": "execute_result"
    }
   ],
   "source": [
    "# Check the presence of null values\n",
    "df.isnull().values.any()"
   ]
  },
  {
   "cell_type": "code",
   "execution_count": 9,
   "id": "0221c9d9",
   "metadata": {
    "execution": {
     "iopub.execute_input": "2022-03-08T16:03:13.387084Z",
     "iopub.status.busy": "2022-03-08T16:03:13.385951Z",
     "iopub.status.idle": "2022-03-08T16:03:13.546111Z",
     "shell.execute_reply": "2022-03-08T16:03:13.545581Z",
     "shell.execute_reply.started": "2022-03-08T15:16:26.399872Z"
    },
    "papermill": {
     "duration": 0.231216,
     "end_time": "2022-03-08T16:03:13.546259",
     "exception": false,
     "start_time": "2022-03-08T16:03:13.315043",
     "status": "completed"
    },
    "tags": []
   },
   "outputs": [
    {
     "data": {
      "text/plain": [
       "True"
      ]
     },
     "execution_count": 9,
     "metadata": {},
     "output_type": "execute_result"
    }
   ],
   "source": [
    "# Check that all the values in the dataframe are not equal to zero\n",
    "df.all().all()"
   ]
  },
  {
   "cell_type": "markdown",
   "id": "6ba9201e",
   "metadata": {
    "papermill": {
     "duration": 0.064242,
     "end_time": "2022-03-08T16:03:13.676086",
     "exception": false,
     "start_time": "2022-03-08T16:03:13.611844",
     "status": "completed"
    },
    "tags": []
   },
   "source": [
    "As we have seen, in the dataframe there aren't null or 0 values."
   ]
  },
  {
   "cell_type": "code",
   "execution_count": 10,
   "id": "adcf906e",
   "metadata": {
    "execution": {
     "iopub.execute_input": "2022-03-08T16:03:13.958597Z",
     "iopub.status.busy": "2022-03-08T16:03:13.957948Z",
     "iopub.status.idle": "2022-03-08T16:03:16.409398Z",
     "shell.execute_reply": "2022-03-08T16:03:16.409848Z",
     "shell.execute_reply.started": "2022-03-08T15:16:26.575899Z"
    },
    "papermill": {
     "duration": 2.667756,
     "end_time": "2022-03-08T16:03:16.410016",
     "exception": false,
     "start_time": "2022-03-08T16:03:13.742260",
     "status": "completed"
    },
    "tags": []
   },
   "outputs": [
    {
     "data": {
      "text/html": [
       "<div>\n",
       "<style scoped>\n",
       "    .dataframe tbody tr th:only-of-type {\n",
       "        vertical-align: middle;\n",
       "    }\n",
       "\n",
       "    .dataframe tbody tr th {\n",
       "        vertical-align: top;\n",
       "    }\n",
       "\n",
       "    .dataframe thead th {\n",
       "        text-align: right;\n",
       "    }\n",
       "</style>\n",
       "<table border=\"1\" class=\"dataframe\">\n",
       "  <thead>\n",
       "    <tr style=\"text-align: right;\">\n",
       "      <th></th>\n",
       "      <th>A0T0G0C10</th>\n",
       "      <th>A0T0G1C9</th>\n",
       "      <th>A0T0G2C8</th>\n",
       "      <th>A0T0G3C7</th>\n",
       "      <th>A0T0G4C6</th>\n",
       "      <th>A0T0G5C5</th>\n",
       "      <th>A0T0G6C4</th>\n",
       "      <th>A0T0G7C3</th>\n",
       "      <th>A0T0G8C2</th>\n",
       "      <th>A0T0G9C1</th>\n",
       "      <th>...</th>\n",
       "      <th>A8T0G0C2</th>\n",
       "      <th>A8T0G1C1</th>\n",
       "      <th>A8T0G2C0</th>\n",
       "      <th>A8T1G0C1</th>\n",
       "      <th>A8T1G1C0</th>\n",
       "      <th>A8T2G0C0</th>\n",
       "      <th>A9T0G0C1</th>\n",
       "      <th>A9T0G1C0</th>\n",
       "      <th>A9T1G0C0</th>\n",
       "      <th>A10T0G0C0</th>\n",
       "    </tr>\n",
       "  </thead>\n",
       "  <tbody>\n",
       "    <tr>\n",
       "      <th>count</th>\n",
       "      <td>2.000000e+05</td>\n",
       "      <td>200000.000000</td>\n",
       "      <td>200000.000000</td>\n",
       "      <td>200000.000000</td>\n",
       "      <td>200000.000000</td>\n",
       "      <td>200000.000000</td>\n",
       "      <td>200000.000000</td>\n",
       "      <td>200000.000000</td>\n",
       "      <td>200000.000000</td>\n",
       "      <td>200000.000000</td>\n",
       "      <td>...</td>\n",
       "      <td>200000.000000</td>\n",
       "      <td>200000.000000</td>\n",
       "      <td>200000.000000</td>\n",
       "      <td>200000.000000</td>\n",
       "      <td>200000.000000</td>\n",
       "      <td>200000.000000</td>\n",
       "      <td>200000.000000</td>\n",
       "      <td>2.000000e+05</td>\n",
       "      <td>2.000000e+05</td>\n",
       "      <td>2.000000e+05</td>\n",
       "    </tr>\n",
       "    <tr>\n",
       "      <th>mean</th>\n",
       "      <td>6.421457e-07</td>\n",
       "      <td>-0.000003</td>\n",
       "      <td>-0.000014</td>\n",
       "      <td>-0.000010</td>\n",
       "      <td>0.000005</td>\n",
       "      <td>0.000025</td>\n",
       "      <td>0.000014</td>\n",
       "      <td>-0.000009</td>\n",
       "      <td>-0.000028</td>\n",
       "      <td>-0.000008</td>\n",
       "      <td>...</td>\n",
       "      <td>0.000135</td>\n",
       "      <td>0.000348</td>\n",
       "      <td>0.000253</td>\n",
       "      <td>0.000464</td>\n",
       "      <td>0.000581</td>\n",
       "      <td>0.000379</td>\n",
       "      <td>0.000062</td>\n",
       "      <td>8.982134e-05</td>\n",
       "      <td>1.170014e-04</td>\n",
       "      <td>2.215407e-07</td>\n",
       "    </tr>\n",
       "    <tr>\n",
       "      <th>std</th>\n",
       "      <td>8.654927e-05</td>\n",
       "      <td>0.000132</td>\n",
       "      <td>0.000287</td>\n",
       "      <td>0.000436</td>\n",
       "      <td>0.000683</td>\n",
       "      <td>0.000869</td>\n",
       "      <td>0.000775</td>\n",
       "      <td>0.000441</td>\n",
       "      <td>0.000107</td>\n",
       "      <td>0.000083</td>\n",
       "      <td>...</td>\n",
       "      <td>0.000711</td>\n",
       "      <td>0.001117</td>\n",
       "      <td>0.000914</td>\n",
       "      <td>0.001238</td>\n",
       "      <td>0.001528</td>\n",
       "      <td>0.001182</td>\n",
       "      <td>0.000466</td>\n",
       "      <td>5.475606e-04</td>\n",
       "      <td>6.788277e-04</td>\n",
       "      <td>2.050081e-05</td>\n",
       "    </tr>\n",
       "    <tr>\n",
       "      <th>min</th>\n",
       "      <td>-9.536743e-07</td>\n",
       "      <td>-0.000010</td>\n",
       "      <td>-0.000043</td>\n",
       "      <td>-0.000114</td>\n",
       "      <td>-0.000200</td>\n",
       "      <td>-0.000240</td>\n",
       "      <td>-0.000200</td>\n",
       "      <td>-0.000114</td>\n",
       "      <td>-0.000043</td>\n",
       "      <td>-0.000010</td>\n",
       "      <td>...</td>\n",
       "      <td>-0.000043</td>\n",
       "      <td>-0.000086</td>\n",
       "      <td>-0.000043</td>\n",
       "      <td>-0.000086</td>\n",
       "      <td>-0.000086</td>\n",
       "      <td>-0.000043</td>\n",
       "      <td>-0.000010</td>\n",
       "      <td>-9.536743e-06</td>\n",
       "      <td>-9.536743e-06</td>\n",
       "      <td>-9.536743e-07</td>\n",
       "    </tr>\n",
       "    <tr>\n",
       "      <th>25%</th>\n",
       "      <td>-9.536743e-07</td>\n",
       "      <td>-0.000010</td>\n",
       "      <td>-0.000043</td>\n",
       "      <td>-0.000114</td>\n",
       "      <td>-0.000200</td>\n",
       "      <td>-0.000240</td>\n",
       "      <td>-0.000200</td>\n",
       "      <td>-0.000114</td>\n",
       "      <td>-0.000043</td>\n",
       "      <td>-0.000010</td>\n",
       "      <td>...</td>\n",
       "      <td>-0.000043</td>\n",
       "      <td>-0.000086</td>\n",
       "      <td>-0.000043</td>\n",
       "      <td>-0.000086</td>\n",
       "      <td>-0.000086</td>\n",
       "      <td>-0.000043</td>\n",
       "      <td>-0.000010</td>\n",
       "      <td>-9.536743e-06</td>\n",
       "      <td>-9.536743e-06</td>\n",
       "      <td>-9.536743e-07</td>\n",
       "    </tr>\n",
       "    <tr>\n",
       "      <th>50%</th>\n",
       "      <td>-9.536743e-07</td>\n",
       "      <td>-0.000010</td>\n",
       "      <td>-0.000043</td>\n",
       "      <td>-0.000114</td>\n",
       "      <td>-0.000200</td>\n",
       "      <td>-0.000237</td>\n",
       "      <td>-0.000199</td>\n",
       "      <td>-0.000114</td>\n",
       "      <td>-0.000043</td>\n",
       "      <td>-0.000010</td>\n",
       "      <td>...</td>\n",
       "      <td>0.000014</td>\n",
       "      <td>0.000064</td>\n",
       "      <td>0.000047</td>\n",
       "      <td>0.000124</td>\n",
       "      <td>0.000114</td>\n",
       "      <td>0.000043</td>\n",
       "      <td>-0.000010</td>\n",
       "      <td>4.632568e-07</td>\n",
       "      <td>4.632568e-07</td>\n",
       "      <td>-9.536743e-07</td>\n",
       "    </tr>\n",
       "    <tr>\n",
       "      <th>75%</th>\n",
       "      <td>-9.536743e-07</td>\n",
       "      <td>-0.000003</td>\n",
       "      <td>-0.000013</td>\n",
       "      <td>-0.000004</td>\n",
       "      <td>-0.000011</td>\n",
       "      <td>0.000003</td>\n",
       "      <td>-0.000030</td>\n",
       "      <td>0.000004</td>\n",
       "      <td>-0.000028</td>\n",
       "      <td>-0.000010</td>\n",
       "      <td>...</td>\n",
       "      <td>0.000111</td>\n",
       "      <td>0.000463</td>\n",
       "      <td>0.000297</td>\n",
       "      <td>0.000684</td>\n",
       "      <td>0.000774</td>\n",
       "      <td>0.000365</td>\n",
       "      <td>0.000030</td>\n",
       "      <td>6.046326e-05</td>\n",
       "      <td>6.946326e-05</td>\n",
       "      <td>-9.536743e-07</td>\n",
       "    </tr>\n",
       "    <tr>\n",
       "      <th>max</th>\n",
       "      <td>9.999046e-03</td>\n",
       "      <td>0.009990</td>\n",
       "      <td>0.009957</td>\n",
       "      <td>0.009886</td>\n",
       "      <td>0.019800</td>\n",
       "      <td>0.019760</td>\n",
       "      <td>0.019800</td>\n",
       "      <td>0.009886</td>\n",
       "      <td>0.009957</td>\n",
       "      <td>0.009990</td>\n",
       "      <td>...</td>\n",
       "      <td>0.019957</td>\n",
       "      <td>0.019914</td>\n",
       "      <td>0.019957</td>\n",
       "      <td>0.019914</td>\n",
       "      <td>0.019914</td>\n",
       "      <td>0.019957</td>\n",
       "      <td>0.009990</td>\n",
       "      <td>9.990463e-03</td>\n",
       "      <td>1.999046e-02</td>\n",
       "      <td>9.990463e-04</td>\n",
       "    </tr>\n",
       "  </tbody>\n",
       "</table>\n",
       "<p>8 rows × 286 columns</p>\n",
       "</div>"
      ],
      "text/plain": [
       "          A0T0G0C10       A0T0G1C9       A0T0G2C8       A0T0G3C7  \\\n",
       "count  2.000000e+05  200000.000000  200000.000000  200000.000000   \n",
       "mean   6.421457e-07      -0.000003      -0.000014      -0.000010   \n",
       "std    8.654927e-05       0.000132       0.000287       0.000436   \n",
       "min   -9.536743e-07      -0.000010      -0.000043      -0.000114   \n",
       "25%   -9.536743e-07      -0.000010      -0.000043      -0.000114   \n",
       "50%   -9.536743e-07      -0.000010      -0.000043      -0.000114   \n",
       "75%   -9.536743e-07      -0.000003      -0.000013      -0.000004   \n",
       "max    9.999046e-03       0.009990       0.009957       0.009886   \n",
       "\n",
       "            A0T0G4C6       A0T0G5C5       A0T0G6C4       A0T0G7C3  \\\n",
       "count  200000.000000  200000.000000  200000.000000  200000.000000   \n",
       "mean        0.000005       0.000025       0.000014      -0.000009   \n",
       "std         0.000683       0.000869       0.000775       0.000441   \n",
       "min        -0.000200      -0.000240      -0.000200      -0.000114   \n",
       "25%        -0.000200      -0.000240      -0.000200      -0.000114   \n",
       "50%        -0.000200      -0.000237      -0.000199      -0.000114   \n",
       "75%        -0.000011       0.000003      -0.000030       0.000004   \n",
       "max         0.019800       0.019760       0.019800       0.009886   \n",
       "\n",
       "            A0T0G8C2       A0T0G9C1  ...       A8T0G0C2       A8T0G1C1  \\\n",
       "count  200000.000000  200000.000000  ...  200000.000000  200000.000000   \n",
       "mean       -0.000028      -0.000008  ...       0.000135       0.000348   \n",
       "std         0.000107       0.000083  ...       0.000711       0.001117   \n",
       "min        -0.000043      -0.000010  ...      -0.000043      -0.000086   \n",
       "25%        -0.000043      -0.000010  ...      -0.000043      -0.000086   \n",
       "50%        -0.000043      -0.000010  ...       0.000014       0.000064   \n",
       "75%        -0.000028      -0.000010  ...       0.000111       0.000463   \n",
       "max         0.009957       0.009990  ...       0.019957       0.019914   \n",
       "\n",
       "            A8T0G2C0       A8T1G0C1       A8T1G1C0       A8T2G0C0  \\\n",
       "count  200000.000000  200000.000000  200000.000000  200000.000000   \n",
       "mean        0.000253       0.000464       0.000581       0.000379   \n",
       "std         0.000914       0.001238       0.001528       0.001182   \n",
       "min        -0.000043      -0.000086      -0.000086      -0.000043   \n",
       "25%        -0.000043      -0.000086      -0.000086      -0.000043   \n",
       "50%         0.000047       0.000124       0.000114       0.000043   \n",
       "75%         0.000297       0.000684       0.000774       0.000365   \n",
       "max         0.019957       0.019914       0.019914       0.019957   \n",
       "\n",
       "            A9T0G0C1      A9T0G1C0      A9T1G0C0     A10T0G0C0  \n",
       "count  200000.000000  2.000000e+05  2.000000e+05  2.000000e+05  \n",
       "mean        0.000062  8.982134e-05  1.170014e-04  2.215407e-07  \n",
       "std         0.000466  5.475606e-04  6.788277e-04  2.050081e-05  \n",
       "min        -0.000010 -9.536743e-06 -9.536743e-06 -9.536743e-07  \n",
       "25%        -0.000010 -9.536743e-06 -9.536743e-06 -9.536743e-07  \n",
       "50%        -0.000010  4.632568e-07  4.632568e-07 -9.536743e-07  \n",
       "75%         0.000030  6.046326e-05  6.946326e-05 -9.536743e-07  \n",
       "max         0.009990  9.990463e-03  1.999046e-02  9.990463e-04  \n",
       "\n",
       "[8 rows x 286 columns]"
      ]
     },
     "execution_count": 10,
     "metadata": {},
     "output_type": "execute_result"
    }
   ],
   "source": [
    "df.describe()"
   ]
  },
  {
   "cell_type": "code",
   "execution_count": 11,
   "id": "de71379c",
   "metadata": {
    "execution": {
     "iopub.execute_input": "2022-03-08T16:03:16.548934Z",
     "iopub.status.busy": "2022-03-08T16:03:16.548305Z",
     "iopub.status.idle": "2022-03-08T16:03:16.867246Z",
     "shell.execute_reply": "2022-03-08T16:03:16.867773Z",
     "shell.execute_reply.started": "2022-03-08T15:16:29.438076Z"
    },
    "papermill": {
     "duration": 0.39027,
     "end_time": "2022-03-08T16:03:16.867933",
     "exception": false,
     "start_time": "2022-03-08T16:03:16.477663",
     "status": "completed"
    },
    "tags": []
   },
   "outputs": [
    {
     "data": {
      "image/png": "[encoded data removed]",
      "text/plain": [
       "<Figure size 432x288 with 1 Axes>"
      ]
     },
     "metadata": {
      "needs_background": "light"
     },
     "output_type": "display_data"
    }
   ],
   "source": [
    "# Plot the distribution of values for the target column\n",
    "df[\"target\"].value_counts().plot(kind=\"bar\");"
   ]
  },
  {
   "cell_type": "markdown",
   "id": "f4f8a8e1",
   "metadata": {
    "papermill": {
     "duration": 0.06883,
     "end_time": "2022-03-08T16:03:17.006177",
     "exception": false,
     "start_time": "2022-03-08T16:03:16.937347",
     "status": "completed"
    },
    "tags": []
   },
   "source": [
    "As we can see, the different classes in the dataset are balanced."
   ]
  },
  {
   "cell_type": "markdown",
   "id": "ec9d272c",
   "metadata": {
    "papermill": {
     "duration": 0.066755,
     "end_time": "2022-03-08T16:03:17.141990",
     "exception": false,
     "start_time": "2022-03-08T16:03:17.075235",
     "status": "completed"
    },
    "tags": []
   },
   "source": [
    "## **Target Labels Encoding**"
   ]
  },
  {
   "cell_type": "code",
   "execution_count": 12,
   "id": "03dd379d",
   "metadata": {
    "execution": {
     "iopub.execute_input": "2022-03-08T16:03:17.285247Z",
     "iopub.status.busy": "2022-03-08T16:03:17.284541Z",
     "iopub.status.idle": "2022-03-08T16:03:18.067021Z",
     "shell.execute_reply": "2022-03-08T16:03:18.065910Z",
     "shell.execute_reply.started": "2022-03-08T15:16:29.736776Z"
    },
    "papermill": {
     "duration": 0.855691,
     "end_time": "2022-03-08T16:03:18.067174",
     "exception": false,
     "start_time": "2022-03-08T16:03:17.211483",
     "status": "completed"
    },
    "tags": []
   },
   "outputs": [],
   "source": [
    "from sklearn.preprocessing import LabelEncoder"
   ]
  },
  {
   "cell_type": "code",
   "execution_count": 13,
   "id": "ffdf2916",
   "metadata": {
    "execution": {
     "iopub.execute_input": "2022-03-08T16:03:18.210088Z",
     "iopub.status.busy": "2022-03-08T16:03:18.209463Z",
     "iopub.status.idle": "2022-03-08T16:03:18.287468Z",
     "shell.execute_reply": "2022-03-08T16:03:18.288046Z",
     "shell.execute_reply.started": "2022-03-08T15:16:29.742468Z"
    },
    "papermill": {
     "duration": 0.150998,
     "end_time": "2022-03-08T16:03:18.288253",
     "exception": false,
     "start_time": "2022-03-08T16:03:18.137255",
     "status": "completed"
    },
    "tags": []
   },
   "outputs": [
    {
     "data": {
      "text/html": [
       "<div>\n",
       "<style scoped>\n",
       "    .dataframe tbody tr th:only-of-type {\n",
       "        vertical-align: middle;\n",
       "    }\n",
       "\n",
       "    .dataframe tbody tr th {\n",
       "        vertical-align: top;\n",
       "    }\n",
       "\n",
       "    .dataframe thead th {\n",
       "        text-align: right;\n",
       "    }\n",
       "</style>\n",
       "<table border=\"1\" class=\"dataframe\">\n",
       "  <thead>\n",
       "    <tr style=\"text-align: right;\">\n",
       "      <th></th>\n",
       "      <th>A0T0G0C10</th>\n",
       "      <th>A0T0G1C9</th>\n",
       "      <th>A0T0G2C8</th>\n",
       "      <th>A0T0G3C7</th>\n",
       "      <th>A0T0G4C6</th>\n",
       "      <th>A0T0G5C5</th>\n",
       "      <th>A0T0G6C4</th>\n",
       "      <th>A0T0G7C3</th>\n",
       "      <th>A0T0G8C2</th>\n",
       "      <th>A0T0G9C1</th>\n",
       "      <th>...</th>\n",
       "      <th>A8T0G1C1</th>\n",
       "      <th>A8T0G2C0</th>\n",
       "      <th>A8T1G0C1</th>\n",
       "      <th>A8T1G1C0</th>\n",
       "      <th>A8T2G0C0</th>\n",
       "      <th>A9T0G0C1</th>\n",
       "      <th>A9T0G1C0</th>\n",
       "      <th>A9T1G0C0</th>\n",
       "      <th>A10T0G0C0</th>\n",
       "      <th>target</th>\n",
       "    </tr>\n",
       "  </thead>\n",
       "  <tbody>\n",
       "    <tr>\n",
       "      <th>0</th>\n",
       "      <td>-9.536743e-07</td>\n",
       "      <td>-0.000010</td>\n",
       "      <td>-0.000043</td>\n",
       "      <td>-0.000114</td>\n",
       "      <td>-0.000200</td>\n",
       "      <td>-0.000240</td>\n",
       "      <td>-0.000200</td>\n",
       "      <td>-0.000114</td>\n",
       "      <td>-0.000043</td>\n",
       "      <td>-0.000010</td>\n",
       "      <td>...</td>\n",
       "      <td>-0.000086</td>\n",
       "      <td>-0.000043</td>\n",
       "      <td>-0.000086</td>\n",
       "      <td>-0.000086</td>\n",
       "      <td>-0.000043</td>\n",
       "      <td>-0.000010</td>\n",
       "      <td>-0.000010</td>\n",
       "      <td>-0.000010</td>\n",
       "      <td>-9.536743e-07</td>\n",
       "      <td>9</td>\n",
       "    </tr>\n",
       "    <tr>\n",
       "      <th>1</th>\n",
       "      <td>-9.536743e-07</td>\n",
       "      <td>-0.000010</td>\n",
       "      <td>-0.000043</td>\n",
       "      <td>0.000886</td>\n",
       "      <td>-0.000200</td>\n",
       "      <td>0.000760</td>\n",
       "      <td>-0.000200</td>\n",
       "      <td>-0.000114</td>\n",
       "      <td>-0.000043</td>\n",
       "      <td>-0.000010</td>\n",
       "      <td>...</td>\n",
       "      <td>-0.000086</td>\n",
       "      <td>-0.000043</td>\n",
       "      <td>0.000914</td>\n",
       "      <td>0.000914</td>\n",
       "      <td>-0.000043</td>\n",
       "      <td>-0.000010</td>\n",
       "      <td>-0.000010</td>\n",
       "      <td>-0.000010</td>\n",
       "      <td>-9.536743e-07</td>\n",
       "      <td>6</td>\n",
       "    </tr>\n",
       "    <tr>\n",
       "      <th>2</th>\n",
       "      <td>-9.536743e-07</td>\n",
       "      <td>-0.000002</td>\n",
       "      <td>0.000007</td>\n",
       "      <td>0.000129</td>\n",
       "      <td>0.000268</td>\n",
       "      <td>0.000270</td>\n",
       "      <td>0.000243</td>\n",
       "      <td>0.000125</td>\n",
       "      <td>0.000001</td>\n",
       "      <td>-0.000007</td>\n",
       "      <td>...</td>\n",
       "      <td>0.000084</td>\n",
       "      <td>0.000048</td>\n",
       "      <td>0.000081</td>\n",
       "      <td>0.000106</td>\n",
       "      <td>0.000072</td>\n",
       "      <td>0.000010</td>\n",
       "      <td>0.000008</td>\n",
       "      <td>0.000019</td>\n",
       "      <td>1.046326e-06</td>\n",
       "      <td>6</td>\n",
       "    </tr>\n",
       "    <tr>\n",
       "      <th>3</th>\n",
       "      <td>4.632568e-08</td>\n",
       "      <td>-0.000006</td>\n",
       "      <td>0.000012</td>\n",
       "      <td>0.000245</td>\n",
       "      <td>0.000492</td>\n",
       "      <td>0.000522</td>\n",
       "      <td>0.000396</td>\n",
       "      <td>0.000197</td>\n",
       "      <td>-0.000003</td>\n",
       "      <td>-0.000007</td>\n",
       "      <td>...</td>\n",
       "      <td>0.000151</td>\n",
       "      <td>0.000100</td>\n",
       "      <td>0.000180</td>\n",
       "      <td>0.000202</td>\n",
       "      <td>0.000153</td>\n",
       "      <td>0.000021</td>\n",
       "      <td>0.000015</td>\n",
       "      <td>0.000046</td>\n",
       "      <td>-9.536743e-07</td>\n",
       "      <td>6</td>\n",
       "    </tr>\n",
       "    <tr>\n",
       "      <th>4</th>\n",
       "      <td>-9.536743e-07</td>\n",
       "      <td>-0.000010</td>\n",
       "      <td>-0.000043</td>\n",
       "      <td>-0.000114</td>\n",
       "      <td>-0.000200</td>\n",
       "      <td>-0.000240</td>\n",
       "      <td>-0.000200</td>\n",
       "      <td>-0.000114</td>\n",
       "      <td>-0.000043</td>\n",
       "      <td>-0.000010</td>\n",
       "      <td>...</td>\n",
       "      <td>-0.000086</td>\n",
       "      <td>-0.000043</td>\n",
       "      <td>-0.000086</td>\n",
       "      <td>-0.000086</td>\n",
       "      <td>-0.000043</td>\n",
       "      <td>-0.000010</td>\n",
       "      <td>-0.000010</td>\n",
       "      <td>-0.000010</td>\n",
       "      <td>-9.536743e-07</td>\n",
       "      <td>2</td>\n",
       "    </tr>\n",
       "  </tbody>\n",
       "</table>\n",
       "<p>5 rows × 287 columns</p>\n",
       "</div>"
      ],
      "text/plain": [
       "      A0T0G0C10  A0T0G1C9  A0T0G2C8  A0T0G3C7  A0T0G4C6  A0T0G5C5  A0T0G6C4  \\\n",
       "0 -9.536743e-07 -0.000010 -0.000043 -0.000114 -0.000200 -0.000240 -0.000200   \n",
       "1 -9.536743e-07 -0.000010 -0.000043  0.000886 -0.000200  0.000760 -0.000200   \n",
       "2 -9.536743e-07 -0.000002  0.000007  0.000129  0.000268  0.000270  0.000243   \n",
       "3  4.632568e-08 -0.000006  0.000012  0.000245  0.000492  0.000522  0.000396   \n",
       "4 -9.536743e-07 -0.000010 -0.000043 -0.000114 -0.000200 -0.000240 -0.000200   \n",
       "\n",
       "   A0T0G7C3  A0T0G8C2  A0T0G9C1  ...  A8T0G1C1  A8T0G2C0  A8T1G0C1  A8T1G1C0  \\\n",
       "0 -0.000114 -0.000043 -0.000010  ... -0.000086 -0.000043 -0.000086 -0.000086   \n",
       "1 -0.000114 -0.000043 -0.000010  ... -0.000086 -0.000043  0.000914  0.000914   \n",
       "2  0.000125  0.000001 -0.000007  ...  0.000084  0.000048  0.000081  0.000106   \n",
       "3  0.000197 -0.000003 -0.000007  ...  0.000151  0.000100  0.000180  0.000202   \n",
       "4 -0.000114 -0.000043 -0.000010  ... -0.000086 -0.000043 -0.000086 -0.000086   \n",
       "\n",
       "   A8T2G0C0  A9T0G0C1  A9T0G1C0  A9T1G0C0     A10T0G0C0  target  \n",
       "0 -0.000043 -0.000010 -0.000010 -0.000010 -9.536743e-07       9  \n",
       "1 -0.000043 -0.000010 -0.000010 -0.000010 -9.536743e-07       6  \n",
       "2  0.000072  0.000010  0.000008  0.000019  1.046326e-06       6  \n",
       "3  0.000153  0.000021  0.000015  0.000046 -9.536743e-07       6  \n",
       "4 -0.000043 -0.000010 -0.000010 -0.000010 -9.536743e-07       2  \n",
       "\n",
       "[5 rows x 287 columns]"
      ]
     },
     "execution_count": 13,
     "metadata": {},
     "output_type": "execute_result"
    }
   ],
   "source": [
    "# Label encoding of the target.\n",
    "# We will map each of the 10 different target classess to an intger in the range 0-9\n",
    "label_encoder = LabelEncoder()\n",
    "df[\"target\"] = label_encoder.fit(df[\"target\"]).transform(df[\"target\"])\n",
    "df.head()"
   ]
  },
  {
   "cell_type": "markdown",
   "id": "87e525b4",
   "metadata": {
    "papermill": {
     "duration": 0.069233,
     "end_time": "2022-03-08T16:03:18.428968",
     "exception": false,
     "start_time": "2022-03-08T16:03:18.359735",
     "status": "completed"
    },
    "tags": []
   },
   "source": [
    "## **Train-Test Split**"
   ]
  },
  {
   "cell_type": "code",
   "execution_count": 14,
   "id": "87d1b52f",
   "metadata": {
    "execution": {
     "iopub.execute_input": "2022-03-08T16:03:18.570915Z",
     "iopub.status.busy": "2022-03-08T16:03:18.570075Z",
     "iopub.status.idle": "2022-03-08T16:03:18.616702Z",
     "shell.execute_reply": "2022-03-08T16:03:18.617267Z",
     "shell.execute_reply.started": "2022-03-08T15:16:29.841010Z"
    },
    "papermill": {
     "duration": 0.119288,
     "end_time": "2022-03-08T16:03:18.617432",
     "exception": false,
     "start_time": "2022-03-08T16:03:18.498144",
     "status": "completed"
    },
    "tags": []
   },
   "outputs": [],
   "source": [
    "# Imports\n",
    "from sklearn.model_selection import train_test_split"
   ]
  },
  {
   "cell_type": "code",
   "execution_count": 15,
   "id": "695f88cf",
   "metadata": {
    "execution": {
     "iopub.execute_input": "2022-03-08T16:03:18.759427Z",
     "iopub.status.busy": "2022-03-08T16:03:18.758559Z",
     "iopub.status.idle": "2022-03-08T16:03:19.510484Z",
     "shell.execute_reply": "2022-03-08T16:03:19.509372Z",
     "shell.execute_reply.started": "2022-03-08T15:16:29.847424Z"
    },
    "papermill": {
     "duration": 0.824297,
     "end_time": "2022-03-08T16:03:19.510641",
     "exception": false,
     "start_time": "2022-03-08T16:03:18.686344",
     "status": "completed"
    },
    "tags": []
   },
   "outputs": [],
   "source": [
    "X_train, X_test, Y_train, Y_test = train_test_split(df.drop(columns=[\"target\"]), df[\"target\"], test_size=0.33, stratify=df[\"target\"], random_state=random_seed)"
   ]
  },
  {
   "cell_type": "code",
   "execution_count": 16,
   "id": "5ae6709b",
   "metadata": {
    "execution": {
     "iopub.execute_input": "2022-03-08T16:03:19.653794Z",
     "iopub.status.busy": "2022-03-08T16:03:19.652802Z",
     "iopub.status.idle": "2022-03-08T16:03:19.655902Z",
     "shell.execute_reply": "2022-03-08T16:03:19.656752Z",
     "shell.execute_reply.started": "2022-03-08T15:16:30.644591Z"
    },
    "papermill": {
     "duration": 0.077192,
     "end_time": "2022-03-08T16:03:19.657027",
     "exception": false,
     "start_time": "2022-03-08T16:03:19.579835",
     "status": "completed"
    },
    "tags": []
   },
   "outputs": [
    {
     "name": "stdout",
     "output_type": "stream",
     "text": [
      "X_train shape: (134000, 286)\n",
      "Y_train shape: (134000,)\n",
      "X_test shape: (66000, 286)\n",
      "Y_test shape: (66000,)\n"
     ]
    }
   ],
   "source": [
    "print(f\"X_train shape: {X_train.shape}\")\n",
    "print(f\"Y_train shape: {Y_train.shape}\")\n",
    "print(f\"X_test shape: {X_test.shape}\")\n",
    "print(f\"Y_test shape: {Y_test.shape}\")"
   ]
  },
  {
   "cell_type": "code",
   "execution_count": 17,
   "id": "db429a42",
   "metadata": {
    "execution": {
     "iopub.execute_input": "2022-03-08T16:03:19.808358Z",
     "iopub.status.busy": "2022-03-08T16:03:19.807737Z",
     "iopub.status.idle": "2022-03-08T16:03:20.150499Z",
     "shell.execute_reply": "2022-03-08T16:03:20.150996Z",
     "shell.execute_reply.started": "2022-03-08T15:16:30.653050Z"
    },
    "papermill": {
     "duration": 0.420381,
     "end_time": "2022-03-08T16:03:20.151185",
     "exception": false,
     "start_time": "2022-03-08T16:03:19.730804",
     "status": "completed"
    },
    "tags": []
   },
   "outputs": [],
   "source": [
    "# Further split the training set in training and validation sets\n",
    "X_train_t, X_train_val, Y_train_t, Y_train_val = train_test_split(X_train, Y_train, test_size=0.20, stratify=Y_train, random_state=random_seed)"
   ]
  },
  {
   "cell_type": "code",
   "execution_count": 18,
   "id": "69c84da8",
   "metadata": {
    "execution": {
     "iopub.execute_input": "2022-03-08T16:03:20.298574Z",
     "iopub.status.busy": "2022-03-08T16:03:20.297965Z",
     "iopub.status.idle": "2022-03-08T16:03:20.304408Z",
     "shell.execute_reply": "2022-03-08T16:03:20.303908Z",
     "shell.execute_reply.started": "2022-03-08T15:16:31.017023Z"
    },
    "papermill": {
     "duration": 0.080444,
     "end_time": "2022-03-08T16:03:20.304530",
     "exception": false,
     "start_time": "2022-03-08T16:03:20.224086",
     "status": "completed"
    },
    "tags": []
   },
   "outputs": [
    {
     "name": "stdout",
     "output_type": "stream",
     "text": [
      "X_train_t shape: (107200, 286)\n",
      "Y_train_t shape: (107200,)\n",
      "X_train_val shape: (26800, 286)\n",
      "Y_train_val shape: (26800,)\n"
     ]
    }
   ],
   "source": [
    "print(f\"X_train_t shape: {X_train_t.shape}\")\n",
    "print(f\"Y_train_t shape: {Y_train_t.shape}\")\n",
    "print(f\"X_train_val shape: {X_train_val.shape}\")\n",
    "print(f\"Y_train_val shape: {Y_train_val.shape}\")"
   ]
  },
  {
   "cell_type": "markdown",
   "id": "e5b96d0b",
   "metadata": {
    "papermill": {
     "duration": 0.071817,
     "end_time": "2022-03-08T16:03:20.448252",
     "exception": false,
     "start_time": "2022-03-08T16:03:20.376435",
     "status": "completed"
    },
    "tags": []
   },
   "source": [
    "## **Dimensionality Reduction** "
   ]
  },
  {
   "cell_type": "markdown",
   "id": "117b96c9",
   "metadata": {
    "papermill": {
     "duration": 0.070183,
     "end_time": "2022-03-08T16:03:20.589565",
     "exception": false,
     "start_time": "2022-03-08T16:03:20.519382",
     "status": "completed"
    },
    "tags": []
   },
   "source": [
    "### **Grid Search with Cross Validation to find the best value for n_components of PCA**"
   ]
  },
  {
   "cell_type": "code",
   "execution_count": 19,
   "id": "b7dd0496",
   "metadata": {
    "execution": {
     "iopub.execute_input": "2022-03-08T16:03:20.735298Z",
     "iopub.status.busy": "2022-03-08T16:03:20.734671Z",
     "iopub.status.idle": "2022-03-08T16:03:20.883057Z",
     "shell.execute_reply": "2022-03-08T16:03:20.882360Z",
     "shell.execute_reply.started": "2022-03-08T15:16:31.024851Z"
    },
    "papermill": {
     "duration": 0.223409,
     "end_time": "2022-03-08T16:03:20.883203",
     "exception": false,
     "start_time": "2022-03-08T16:03:20.659794",
     "status": "completed"
    },
    "tags": []
   },
   "outputs": [],
   "source": [
    "# Imports for PCA\n",
    "from sklearn.preprocessing import StandardScaler\n",
    "from sklearn.decomposition import PCA\n",
    "\n",
    "# Imports for PCA n_components tuning\n",
    "from sklearn.pipeline import Pipeline\n",
    "from sklearn.tree import DecisionTreeClassifier\n",
    "from sklearn.model_selection import GridSearchCV"
   ]
  },
  {
   "cell_type": "code",
   "execution_count": 20,
   "id": "76e54327",
   "metadata": {
    "execution": {
     "iopub.execute_input": "2022-03-08T16:03:21.034657Z",
     "iopub.status.busy": "2022-03-08T16:03:21.033766Z",
     "iopub.status.idle": "2022-03-08T16:03:21.038635Z",
     "shell.execute_reply": "2022-03-08T16:03:21.039158Z",
     "shell.execute_reply.started": "2022-03-08T15:16:31.037609Z"
    },
    "papermill": {
     "duration": 0.082152,
     "end_time": "2022-03-08T16:03:21.039308",
     "exception": false,
     "start_time": "2022-03-08T16:03:20.957156",
     "status": "completed"
    },
    "tags": []
   },
   "outputs": [],
   "source": [
    "st_scaler = StandardScaler()\n",
    "pca = PCA()\n",
    "classifier = DecisionTreeClassifier(criterion=\"entropy\", random_state=random_seed)\n",
    "pipe = Pipeline(steps=[(\"st_scaler\", st_scaler), (\"pca\", pca), (\"classifier\", classifier)])"
   ]
  },
  {
   "cell_type": "code",
   "execution_count": 21,
   "id": "77d54796",
   "metadata": {
    "execution": {
     "iopub.execute_input": "2022-03-08T16:03:21.189437Z",
     "iopub.status.busy": "2022-03-08T16:03:21.188539Z",
     "iopub.status.idle": "2022-03-08T16:03:21.192859Z",
     "shell.execute_reply": "2022-03-08T16:03:21.192364Z",
     "shell.execute_reply.started": "2022-03-08T15:16:31.050448Z"
    },
    "papermill": {
     "duration": 0.080294,
     "end_time": "2022-03-08T16:03:21.192993",
     "exception": false,
     "start_time": "2022-03-08T16:03:21.112699",
     "status": "completed"
    },
    "tags": []
   },
   "outputs": [],
   "source": [
    "param_grid = {\n",
    "    \"pca__n_components\": [3, 10, 20, 50]\n",
    "}"
   ]
  },
  {
   "cell_type": "code",
   "execution_count": 22,
   "id": "f96e0efc",
   "metadata": {
    "execution": {
     "iopub.execute_input": "2022-03-08T16:03:21.338892Z",
     "iopub.status.busy": "2022-03-08T16:03:21.337981Z",
     "iopub.status.idle": "2022-03-08T16:04:39.978124Z",
     "shell.execute_reply": "2022-03-08T16:04:39.978835Z",
     "shell.execute_reply.started": "2022-03-08T15:16:31.062788Z"
    },
    "papermill": {
     "duration": 78.715707,
     "end_time": "2022-03-08T16:04:39.979036",
     "exception": false,
     "start_time": "2022-03-08T16:03:21.263329",
     "status": "completed"
    },
    "tags": []
   },
   "outputs": [
    {
     "name": "stdout",
     "output_type": "stream",
     "text": [
      "Fitting 2 folds for each of 4 candidates, totalling 8 fits\n",
      "[CV] pca__n_components=3 .............................................\n"
     ]
    },
    {
     "name": "stderr",
     "output_type": "stream",
     "text": [
      "[Parallel(n_jobs=1)]: Using backend SequentialBackend with 1 concurrent workers.\n"
     ]
    },
    {
     "name": "stdout",
     "output_type": "stream",
     "text": [
      "[CV] .............................. pca__n_components=3, total=   3.6s\n",
      "[CV] pca__n_components=3 .............................................\n"
     ]
    },
    {
     "name": "stderr",
     "output_type": "stream",
     "text": [
      "[Parallel(n_jobs=1)]: Done   1 out of   1 | elapsed:    3.6s remaining:    0.0s\n"
     ]
    },
    {
     "name": "stdout",
     "output_type": "stream",
     "text": [
      "[CV] .............................. pca__n_components=3, total=   3.7s\n",
      "[CV] pca__n_components=10 ............................................\n",
      "[CV] ............................. pca__n_components=10, total=   5.4s\n",
      "[CV] pca__n_components=10 ............................................\n",
      "[CV] ............................. pca__n_components=10, total=   5.1s\n",
      "[CV] pca__n_components=20 ............................................\n",
      "[CV] ............................. pca__n_components=20, total=   8.1s\n",
      "[CV] pca__n_components=20 ............................................\n",
      "[CV] ............................. pca__n_components=20, total=   7.9s\n",
      "[CV] pca__n_components=50 ............................................\n",
      "[CV] ............................. pca__n_components=50, total=  15.6s\n",
      "[CV] pca__n_components=50 ............................................\n",
      "[CV] ............................. pca__n_components=50, total=  14.8s\n"
     ]
    },
    {
     "name": "stderr",
     "output_type": "stream",
     "text": [
      "[Parallel(n_jobs=1)]: Done   8 out of   8 | elapsed:  1.1min finished\n"
     ]
    }
   ],
   "source": [
    "grid_search = GridSearchCV(pipe, param_grid, cv=2, verbose=2)\n",
    "grid_search.fit(X_train, Y_train);"
   ]
  },
  {
   "cell_type": "code",
   "execution_count": 23,
   "id": "f90333b1",
   "metadata": {
    "execution": {
     "iopub.execute_input": "2022-03-08T16:04:40.138850Z",
     "iopub.status.busy": "2022-03-08T16:04:40.134283Z",
     "iopub.status.idle": "2022-03-08T16:04:40.141286Z",
     "shell.execute_reply": "2022-03-08T16:04:40.141735Z",
     "shell.execute_reply.started": "2022-03-08T15:17:36.400914Z"
    },
    "papermill": {
     "duration": 0.08743,
     "end_time": "2022-03-08T16:04:40.141910",
     "exception": false,
     "start_time": "2022-03-08T16:04:40.054480",
     "status": "completed"
    },
    "tags": []
   },
   "outputs": [
    {
     "name": "stdout",
     "output_type": "stream",
     "text": [
      "Best parameters set found on train set:\n",
      "{'pca__n_components': 20}\n",
      "\n",
      "\n",
      "Grid scores on train set:\n",
      "{'pca__n_components': 3} mean: 0.920 std: +/- 0.000)\n",
      "{'pca__n_components': 10} mean: 0.920 std: +/- 0.002)\n",
      "{'pca__n_components': 20} mean: 0.921 std: +/- 0.001)\n",
      "{'pca__n_components': 50} mean: 0.909 std: +/- 0.001)\n",
      "\n",
      "\n"
     ]
    }
   ],
   "source": [
    "# Print grid search results\n",
    "def print_grid_search_results(gscv):\n",
    "    print(\"Best parameters set found on train set:\")\n",
    "    print(gscv.best_params_)\n",
    "    print(\"\\n\")\n",
    "    print(\"Grid scores on train set:\")\n",
    "    for param, mean, std in zip(gscv.cv_results_['params'], gscv.cv_results_['mean_test_score'], gscv.cv_results_['std_test_score']):\n",
    "        print(\"%r mean: %0.3f std: +/- %0.03f)\" % (param, mean, std))\n",
    "    print(\"\\n\")\n",
    "\n",
    "print_grid_search_results(grid_search)"
   ]
  },
  {
   "cell_type": "code",
   "execution_count": 24,
   "id": "e0689184",
   "metadata": {
    "execution": {
     "iopub.execute_input": "2022-03-08T16:04:40.299831Z",
     "iopub.status.busy": "2022-03-08T16:04:40.299233Z",
     "iopub.status.idle": "2022-03-08T16:04:40.487145Z",
     "shell.execute_reply": "2022-03-08T16:04:40.486642Z",
     "shell.execute_reply.started": "2022-03-08T15:17:36.411707Z"
    },
    "papermill": {
     "duration": 0.266745,
     "end_time": "2022-03-08T16:04:40.487289",
     "exception": false,
     "start_time": "2022-03-08T16:04:40.220544",
     "status": "completed"
    },
    "tags": []
   },
   "outputs": [
    {
     "data": {
      "image/png": "[encoded data removed]",
      "text/plain": [
       "<Figure size 720x360 with 1 Axes>"
      ]
     },
     "metadata": {
      "needs_background": "light"
     },
     "output_type": "display_data"
    }
   ],
   "source": [
    "plt.figure(figsize=(10,5))\n",
    "plt.plot(param_grid[\"pca__n_components\"], grid_search.cv_results_['mean_test_score'], '-o', linewidth=5, markersize=24)\n",
    "plt.xlabel('n_components')\n",
    "plt.ylabel('accuracy')\n",
    "plt.title(\"Mean score with CV varying n_components of PCA\", fontsize = 15)\n",
    "plt.show();"
   ]
  },
  {
   "cell_type": "code",
   "execution_count": 25,
   "id": "67e0677f",
   "metadata": {
    "execution": {
     "iopub.execute_input": "2022-03-08T16:04:40.647408Z",
     "iopub.status.busy": "2022-03-08T16:04:40.646824Z",
     "iopub.status.idle": "2022-03-08T16:04:40.648932Z",
     "shell.execute_reply": "2022-03-08T16:04:40.648348Z",
     "shell.execute_reply.started": "2022-03-08T15:17:36.617607Z"
    },
    "papermill": {
     "duration": 0.08393,
     "end_time": "2022-03-08T16:04:40.649062",
     "exception": false,
     "start_time": "2022-03-08T16:04:40.565132",
     "status": "completed"
    },
    "tags": []
   },
   "outputs": [],
   "source": [
    "pca_components = grid_search.best_params_[\"pca__n_components\"]"
   ]
  },
  {
   "cell_type": "markdown",
   "id": "863bf705",
   "metadata": {
    "papermill": {
     "duration": 0.075387,
     "end_time": "2022-03-08T16:04:40.800886",
     "exception": false,
     "start_time": "2022-03-08T16:04:40.725499",
     "status": "completed"
    },
    "tags": []
   },
   "source": [
    "### **Compute PCA with the best hyper-parameter found**"
   ]
  },
  {
   "cell_type": "code",
   "execution_count": 26,
   "id": "6915c339",
   "metadata": {
    "execution": {
     "iopub.execute_input": "2022-03-08T16:04:40.959992Z",
     "iopub.status.busy": "2022-03-08T16:04:40.959366Z",
     "iopub.status.idle": "2022-03-08T16:04:41.653025Z",
     "shell.execute_reply": "2022-03-08T16:04:41.652382Z",
     "shell.execute_reply.started": "2022-03-08T15:17:36.623933Z"
    },
    "papermill": {
     "duration": 0.775274,
     "end_time": "2022-03-08T16:04:41.653185",
     "exception": false,
     "start_time": "2022-03-08T16:04:40.877911",
     "status": "completed"
    },
    "tags": []
   },
   "outputs": [
    {
     "name": "stdout",
     "output_type": "stream",
     "text": [
      "Shape of X_train_t_st: (107200, 286)\n",
      "Shape of X_train_val_st: (26800, 286)\n"
     ]
    }
   ],
   "source": [
    "# Standardize the features. This process is needed before doing the PCA.\n",
    "st_scaler_t = StandardScaler()\n",
    "st_scaler_t.fit(X_train_t)\n",
    "X_train_t = st_scaler_t.transform(X_train_t)\n",
    "X_train_val = st_scaler_t.transform(X_train_val)\n",
    "\n",
    "print(f\"Shape of X_train_t_st: {X_train_t.shape}\")\n",
    "print(f\"Shape of X_train_val_st: {X_train_val.shape}\")"
   ]
  },
  {
   "cell_type": "code",
   "execution_count": 27,
   "id": "1b707fb7",
   "metadata": {
    "execution": {
     "iopub.execute_input": "2022-03-08T16:04:41.813464Z",
     "iopub.status.busy": "2022-03-08T16:04:41.812824Z",
     "iopub.status.idle": "2022-03-08T16:04:45.815296Z",
     "shell.execute_reply": "2022-03-08T16:04:45.816166Z",
     "shell.execute_reply.started": "2022-03-08T15:17:37.322203Z"
    },
    "papermill": {
     "duration": 4.08477,
     "end_time": "2022-03-08T16:04:45.816421",
     "exception": false,
     "start_time": "2022-03-08T16:04:41.731651",
     "status": "completed"
    },
    "tags": []
   },
   "outputs": [
    {
     "name": "stdout",
     "output_type": "stream",
     "text": [
      "Shape of X_train_t_pca: (107200, 20)\n",
      "Shape of X_train_val_pca: (26800, 20)\n"
     ]
    }
   ],
   "source": [
    "# Perform PCA\n",
    "pca_t = PCA(n_components=pca_components)\n",
    "pca_t.fit(X_train_t)\n",
    "X_train_t = pca_t.transform(X_train_t)\n",
    "X_train_val = pca_t.transform(X_train_val)\n",
    "\n",
    "print(f\"Shape of X_train_t_pca: {X_train_t.shape}\")\n",
    "print(f\"Shape of X_train_val_pca: {X_train_val.shape}\")"
   ]
  },
  {
   "cell_type": "code",
   "execution_count": 28,
   "id": "6b66188d",
   "metadata": {
    "execution": {
     "iopub.execute_input": "2022-03-08T16:04:46.036715Z",
     "iopub.status.busy": "2022-03-08T16:04:46.036141Z",
     "iopub.status.idle": "2022-03-08T16:04:51.516949Z",
     "shell.execute_reply": "2022-03-08T16:04:51.518832Z",
     "shell.execute_reply.started": "2022-03-08T15:17:40.753448Z"
    },
    "papermill": {
     "duration": 5.572586,
     "end_time": "2022-03-08T16:04:51.519384",
     "exception": false,
     "start_time": "2022-03-08T16:04:45.946798",
     "status": "completed"
    },
    "tags": []
   },
   "outputs": [
    {
     "name": "stdout",
     "output_type": "stream",
     "text": [
      "Shape of X_train_pca: (134000, 20)\n"
     ]
    }
   ],
   "source": [
    "# Transform also the full training set\n",
    "\n",
    "# Standardize the features\n",
    "st_scaler = StandardScaler()\n",
    "st_scaler.fit(X_train)\n",
    "X_train = st_scaler.transform(X_train)\n",
    "\n",
    "# Perform PCA\n",
    "pca = PCA(n_components=pca_components)\n",
    "pca.fit(X_train)\n",
    "X_train = pca.transform(X_train)\n",
    "\n",
    "print(f\"Shape of X_train_pca: {X_train.shape}\")"
   ]
  },
  {
   "cell_type": "markdown",
   "id": "0ca2948e",
   "metadata": {
    "papermill": {
     "duration": 0.076745,
     "end_time": "2022-03-08T16:04:51.728810",
     "exception": false,
     "start_time": "2022-03-08T16:04:51.652065",
     "status": "completed"
    },
    "tags": []
   },
   "source": [
    "## **ML Models Testing**"
   ]
  },
  {
   "cell_type": "code",
   "execution_count": 29,
   "id": "bf169564",
   "metadata": {
    "execution": {
     "iopub.execute_input": "2022-03-08T16:04:51.886717Z",
     "iopub.status.busy": "2022-03-08T16:04:51.886089Z",
     "iopub.status.idle": "2022-03-08T16:04:51.888740Z",
     "shell.execute_reply": "2022-03-08T16:04:51.888247Z",
     "shell.execute_reply.started": "2022-03-08T15:17:45.748423Z"
    },
    "papermill": {
     "duration": 0.083562,
     "end_time": "2022-03-08T16:04:51.888879",
     "exception": false,
     "start_time": "2022-03-08T16:04:51.805317",
     "status": "completed"
    },
    "tags": []
   },
   "outputs": [],
   "source": [
    "from sklearn.metrics import classification_report"
   ]
  },
  {
   "cell_type": "markdown",
   "id": "8120e22a",
   "metadata": {
    "papermill": {
     "duration": 0.076294,
     "end_time": "2022-03-08T16:04:52.043231",
     "exception": false,
     "start_time": "2022-03-08T16:04:51.966937",
     "status": "completed"
    },
    "tags": []
   },
   "source": [
    "### **Decision Tree Classifier**"
   ]
  },
  {
   "cell_type": "code",
   "execution_count": 30,
   "id": "420871d1",
   "metadata": {
    "execution": {
     "iopub.execute_input": "2022-03-08T16:04:52.198391Z",
     "iopub.status.busy": "2022-03-08T16:04:52.197832Z",
     "iopub.status.idle": "2022-03-08T16:04:52.200589Z",
     "shell.execute_reply": "2022-03-08T16:04:52.201016Z",
     "shell.execute_reply.started": "2022-03-08T15:17:45.756735Z"
    },
    "papermill": {
     "duration": 0.082325,
     "end_time": "2022-03-08T16:04:52.201164",
     "exception": false,
     "start_time": "2022-03-08T16:04:52.118839",
     "status": "completed"
    },
    "tags": []
   },
   "outputs": [],
   "source": [
    "from sklearn.tree import DecisionTreeClassifier\n",
    "from sklearn.metrics import accuracy_score"
   ]
  },
  {
   "cell_type": "code",
   "execution_count": 31,
   "id": "6a326815",
   "metadata": {
    "execution": {
     "iopub.execute_input": "2022-03-08T16:04:52.354435Z",
     "iopub.status.busy": "2022-03-08T16:04:52.353861Z",
     "iopub.status.idle": "2022-03-08T16:05:30.283305Z",
     "shell.execute_reply": "2022-03-08T16:05:30.282652Z",
     "shell.execute_reply.started": "2022-03-08T15:17:45.770069Z"
    },
    "papermill": {
     "duration": 38.006231,
     "end_time": "2022-03-08T16:05:30.283445",
     "exception": false,
     "start_time": "2022-03-08T16:04:52.277214",
     "status": "completed"
    },
    "tags": []
   },
   "outputs": [],
   "source": [
    "# Hyper-parameter tuning for max_depth of the decision tree\n",
    "max_depth_list = [4,8,16,20,24,26]\n",
    "scores = []\n",
    "\n",
    "for par in max_depth_list:\n",
    "    tree = DecisionTreeClassifier(criterion=\"entropy\", random_state=random_seed, max_depth=par)\n",
    "    tree.fit(X_train_t, Y_train_t)\n",
    "    Y_predicted_val = tree.predict(X_train_val)\n",
    "    score =  accuracy_score(Y_train_val, Y_predicted_val)\n",
    "    scores.append(score)"
   ]
  },
  {
   "cell_type": "code",
   "execution_count": 32,
   "id": "b5973762",
   "metadata": {
    "execution": {
     "iopub.execute_input": "2022-03-08T16:05:30.453697Z",
     "iopub.status.busy": "2022-03-08T16:05:30.452640Z",
     "iopub.status.idle": "2022-03-08T16:05:30.630084Z",
     "shell.execute_reply": "2022-03-08T16:05:30.629569Z",
     "shell.execute_reply.started": "2022-03-08T15:18:00.906010Z"
    },
    "papermill": {
     "duration": 0.268857,
     "end_time": "2022-03-08T16:05:30.630220",
     "exception": false,
     "start_time": "2022-03-08T16:05:30.361363",
     "status": "completed"
    },
    "tags": []
   },
   "outputs": [
    {
     "data": {
      "image/png": "[encoded data removed]",
      "text/plain": [
       "<Figure size 720x360 with 1 Axes>"
      ]
     },
     "metadata": {
      "needs_background": "light"
     },
     "output_type": "display_data"
    }
   ],
   "source": [
    "plt.figure(figsize=(10,5))\n",
    "plt.plot(max_depth_list, scores, '-o', linewidth=5, markersize=24)\n",
    "plt.xlabel('max_depth')\n",
    "plt.ylabel('accuracy')\n",
    "plt.title(\"Score with validation set varying max_depth of tree\", fontsize = 15)\n",
    "plt.show();"
   ]
  },
  {
   "cell_type": "code",
   "execution_count": 33,
   "id": "c7be31a7",
   "metadata": {
    "execution": {
     "iopub.execute_input": "2022-03-08T16:05:30.791185Z",
     "iopub.status.busy": "2022-03-08T16:05:30.789981Z",
     "iopub.status.idle": "2022-03-08T16:05:30.793666Z",
     "shell.execute_reply": "2022-03-08T16:05:30.793217Z",
     "shell.execute_reply.started": "2022-03-08T15:18:01.061709Z"
    },
    "papermill": {
     "duration": 0.085317,
     "end_time": "2022-03-08T16:05:30.793805",
     "exception": false,
     "start_time": "2022-03-08T16:05:30.708488",
     "status": "completed"
    },
    "tags": []
   },
   "outputs": [],
   "source": [
    "# Define the final decision tree model with the best parameter found\n",
    "#best_max_depth = max_depth_list[np.argmax(scores)]\n",
    "#tree_model = DecisionTreeClassifier(criterion=\"entropy\", random_state=random_seed, max_depth=best_max_depth)\n",
    "#tree_model.fit(X_train, Y_train)"
   ]
  },
  {
   "cell_type": "code",
   "execution_count": 34,
   "id": "b7e0c6b1",
   "metadata": {
    "execution": {
     "iopub.execute_input": "2022-03-08T16:05:30.957784Z",
     "iopub.status.busy": "2022-03-08T16:05:30.957160Z",
     "iopub.status.idle": "2022-03-08T16:05:38.471969Z",
     "shell.execute_reply": "2022-03-08T16:05:38.472456Z",
     "shell.execute_reply.started": "2022-03-08T15:18:01.067741Z"
    },
    "papermill": {
     "duration": 7.600031,
     "end_time": "2022-03-08T16:05:38.472639",
     "exception": false,
     "start_time": "2022-03-08T16:05:30.872608",
     "status": "completed"
    },
    "tags": []
   },
   "outputs": [
    {
     "name": "stdout",
     "output_type": "stream",
     "text": [
      "                          precision    recall  f1-score   support\n",
      "\n",
      "    Bacteroides_fragilis       0.97      0.98      0.98      2699\n",
      "    Campylobacter_jejuni       0.98      0.98      0.98      2688\n",
      "      Enterococcus_hirae       0.96      0.95      0.95      2673\n",
      "        Escherichia_coli       0.96      0.94      0.95      2674\n",
      "  Escherichia_fergusonii       0.95      0.95      0.95      2672\n",
      "   Klebsiella_pneumoniae       0.98      0.98      0.98      2660\n",
      "     Salmonella_enterica       0.96      0.96      0.96      2684\n",
      "   Staphylococcus_aureus       0.98      0.97      0.97      2670\n",
      "Streptococcus_pneumoniae       0.95      0.96      0.96      2690\n",
      "  Streptococcus_pyogenes       0.95      0.94      0.95      2690\n",
      "\n",
      "                accuracy                           0.96     26800\n",
      "               macro avg       0.96      0.96      0.96     26800\n",
      "            weighted avg       0.96      0.96      0.96     26800\n",
      "\n"
     ]
    }
   ],
   "source": [
    "# Test the tree model with the validation set using the best parameter found\n",
    "best_max_depth = max_depth_list[np.argmax(scores)]\n",
    "tree_model = DecisionTreeClassifier(criterion=\"entropy\", random_state=random_seed, max_depth=best_max_depth)\n",
    "tree_model.fit(X_train_t, Y_train_t)\n",
    "Y_predicted = tree_model.predict(X_train_val)\n",
    "print(classification_report(Y_train_val, Y_predicted, target_names=label_encoder.classes_))"
   ]
  },
  {
   "cell_type": "markdown",
   "id": "4ec964b1",
   "metadata": {
    "papermill": {
     "duration": 0.080978,
     "end_time": "2022-03-08T16:05:38.632685",
     "exception": false,
     "start_time": "2022-03-08T16:05:38.551707",
     "status": "completed"
    },
    "tags": []
   },
   "source": [
    "## **Random Forest**"
   ]
  },
  {
   "cell_type": "code",
   "execution_count": 35,
   "id": "8de21329",
   "metadata": {
    "execution": {
     "iopub.execute_input": "2022-03-08T16:05:38.793973Z",
     "iopub.status.busy": "2022-03-08T16:05:38.792513Z",
     "iopub.status.idle": "2022-03-08T16:05:38.819872Z",
     "shell.execute_reply": "2022-03-08T16:05:38.820390Z",
     "shell.execute_reply.started": "2022-03-08T15:18:04.015871Z"
    },
    "papermill": {
     "duration": 0.109467,
     "end_time": "2022-03-08T16:05:38.820596",
     "exception": false,
     "start_time": "2022-03-08T16:05:38.711129",
     "status": "completed"
    },
    "tags": []
   },
   "outputs": [],
   "source": [
    "from sklearn.ensemble import RandomForestClassifier"
   ]
  },
  {
   "cell_type": "code",
   "execution_count": 36,
   "id": "cbeef1ca",
   "metadata": {
    "execution": {
     "iopub.execute_input": "2022-03-08T16:05:38.986276Z",
     "iopub.status.busy": "2022-03-08T16:05:38.985375Z",
     "iopub.status.idle": "2022-03-08T16:11:57.472441Z",
     "shell.execute_reply": "2022-03-08T16:11:57.472988Z",
     "shell.execute_reply.started": "2022-03-08T15:51:00.558846Z"
    },
    "papermill": {
     "duration": 378.571872,
     "end_time": "2022-03-08T16:11:57.473176",
     "exception": false,
     "start_time": "2022-03-08T16:05:38.901304",
     "status": "completed"
    },
    "tags": []
   },
   "outputs": [],
   "source": [
    "# Hyper-parameter tuning for n_estimators of the random forest\n",
    "n_estimators_list = [5,10,20,50,100,150]\n",
    "scores = []\n",
    "\n",
    "for par in n_estimators_list:\n",
    "    forest = RandomForestClassifier(criterion=\"entropy\", n_estimators=par, random_state=random_seed)\n",
    "    forest.fit(X_train_t, Y_train_t)\n",
    "    Y_predicted_val = forest.predict(X_train_val)\n",
    "    score =  accuracy_score(Y_train_val, Y_predicted_val)\n",
    "    scores.append(score)"
   ]
  },
  {
   "cell_type": "code",
   "execution_count": 37,
   "id": "6a279b60",
   "metadata": {
    "execution": {
     "iopub.execute_input": "2022-03-08T16:11:57.636792Z",
     "iopub.status.busy": "2022-03-08T16:11:57.633342Z",
     "iopub.status.idle": "2022-03-08T16:11:57.827435Z",
     "shell.execute_reply": "2022-03-08T16:11:57.827933Z",
     "shell.execute_reply.started": "2022-03-08T15:54:41.243433Z"
    },
    "papermill": {
     "duration": 0.27728,
     "end_time": "2022-03-08T16:11:57.828076",
     "exception": false,
     "start_time": "2022-03-08T16:11:57.550796",
     "status": "completed"
    },
    "tags": []
   },
   "outputs": [
    {
     "data": {
      "image/png": "[encoded data removed]",
      "text/plain": [
       "<Figure size 720x360 with 1 Axes>"
      ]
     },
     "metadata": {
      "needs_background": "light"
     },
     "output_type": "display_data"
    }
   ],
   "source": [
    "plt.figure(figsize=(10,5))\n",
    "plt.plot(n_estimators_list, scores, '-o', linewidth=5, markersize=24)\n",
    "plt.xlabel('n_estimators')\n",
    "plt.ylabel('accuracy')\n",
    "plt.title(\"Score with validation set varying n_estimators of random forest\", fontsize = 15)\n",
    "plt.show();"
   ]
  },
  {
   "cell_type": "code",
   "execution_count": 38,
   "id": "472add9c",
   "metadata": {
    "execution": {
     "iopub.execute_input": "2022-03-08T16:11:57.986115Z",
     "iopub.status.busy": "2022-03-08T16:11:57.985535Z",
     "iopub.status.idle": "2022-03-08T16:14:44.400814Z",
     "shell.execute_reply": "2022-03-08T16:14:44.401333Z",
     "shell.execute_reply.started": "2022-03-08T15:35:21.870752Z"
    },
    "papermill": {
     "duration": 166.497962,
     "end_time": "2022-03-08T16:14:44.401504",
     "exception": false,
     "start_time": "2022-03-08T16:11:57.903542",
     "status": "completed"
    },
    "tags": []
   },
   "outputs": [
    {
     "name": "stdout",
     "output_type": "stream",
     "text": [
      "                          precision    recall  f1-score   support\n",
      "\n",
      "    Bacteroides_fragilis       0.98      0.99      0.99      2699\n",
      "    Campylobacter_jejuni       0.98      0.99      0.98      2688\n",
      "      Enterococcus_hirae       0.97      0.98      0.98      2673\n",
      "        Escherichia_coli       0.97      0.96      0.97      2674\n",
      "  Escherichia_fergusonii       0.97      0.97      0.97      2672\n",
      "   Klebsiella_pneumoniae       0.99      0.99      0.99      2660\n",
      "     Salmonella_enterica       0.98      0.97      0.97      2684\n",
      "   Staphylococcus_aureus       0.98      0.98      0.98      2670\n",
      "Streptococcus_pneumoniae       0.97      0.97      0.97      2690\n",
      "  Streptococcus_pyogenes       0.97      0.96      0.97      2690\n",
      "\n",
      "                accuracy                           0.98     26800\n",
      "               macro avg       0.98      0.98      0.98     26800\n",
      "            weighted avg       0.98      0.98      0.98     26800\n",
      "\n"
     ]
    }
   ],
   "source": [
    "# Test the tree model with the validation set using the best parameter found\n",
    "best_n_estimators = n_estimators_list[np.argmax(scores)]\n",
    "rnd_forest_model = RandomForestClassifier(criterion=\"entropy\", n_estimators=best_n_estimators, random_state=random_seed)\n",
    "rnd_forest_model.fit(X_train_t, Y_train_t)\n",
    "Y_predicted = rnd_forest_model.predict(X_train_val)\n",
    "print(classification_report(Y_train_val, Y_predicted, target_names=label_encoder.classes_))"
   ]
  },
  {
   "cell_type": "markdown",
   "id": "f0055249",
   "metadata": {
    "papermill": {
     "duration": 0.07789,
     "end_time": "2022-03-08T16:14:44.556956",
     "exception": false,
     "start_time": "2022-03-08T16:14:44.479066",
     "status": "completed"
    },
    "tags": []
   },
   "source": [
    "### **Extremely Randomized Trees**"
   ]
  },
  {
   "cell_type": "code",
   "execution_count": 39,
   "id": "d9156e8d",
   "metadata": {
    "execution": {
     "iopub.execute_input": "2022-03-08T16:14:44.718525Z",
     "iopub.status.busy": "2022-03-08T16:14:44.718023Z",
     "iopub.status.idle": "2022-03-08T16:14:44.719810Z",
     "shell.execute_reply": "2022-03-08T16:14:44.720226Z",
     "shell.execute_reply.started": "2022-03-08T15:48:37.883954Z"
    },
    "papermill": {
     "duration": 0.084166,
     "end_time": "2022-03-08T16:14:44.720368",
     "exception": false,
     "start_time": "2022-03-08T16:14:44.636202",
     "status": "completed"
    },
    "tags": []
   },
   "outputs": [],
   "source": [
    "from sklearn.ensemble import ExtraTreesClassifier"
   ]
  },
  {
   "cell_type": "code",
   "execution_count": 40,
   "id": "2db46f11",
   "metadata": {
    "execution": {
     "iopub.execute_input": "2022-03-08T16:14:44.885543Z",
     "iopub.status.busy": "2022-03-08T16:14:44.884405Z",
     "iopub.status.idle": "2022-03-08T16:15:24.665349Z",
     "shell.execute_reply": "2022-03-08T16:15:24.665969Z",
     "shell.execute_reply.started": "2022-03-08T15:49:35.108773Z"
    },
    "papermill": {
     "duration": 39.86789,
     "end_time": "2022-03-08T16:15:24.666129",
     "exception": false,
     "start_time": "2022-03-08T16:14:44.798239",
     "status": "completed"
    },
    "tags": []
   },
   "outputs": [],
   "source": [
    "# Hyper-parameter tuning for n_estimators of the extremely randomized trees\n",
    "n_estimators_list = [5,10,20,50,100,150]\n",
    "scores = []\n",
    "\n",
    "for par in n_estimators_list:\n",
    "    forest = ExtraTreesClassifier(criterion=\"entropy\", n_estimators=par, random_state=random_seed)\n",
    "    forest.fit(X_train_t, Y_train_t)\n",
    "    Y_predicted_val = forest.predict(X_train_val)\n",
    "    score =  accuracy_score(Y_train_val, Y_predicted_val)\n",
    "    scores.append(score)"
   ]
  },
  {
   "cell_type": "code",
   "execution_count": 41,
   "id": "76a9652b",
   "metadata": {
    "execution": {
     "iopub.execute_input": "2022-03-08T16:15:24.825238Z",
     "iopub.status.busy": "2022-03-08T16:15:24.824674Z",
     "iopub.status.idle": "2022-03-08T16:15:25.024194Z",
     "shell.execute_reply": "2022-03-08T16:15:25.024585Z",
     "shell.execute_reply.started": "2022-03-08T15:50:07.592035Z"
    },
    "papermill": {
     "duration": 0.278473,
     "end_time": "2022-03-08T16:15:25.024766",
     "exception": false,
     "start_time": "2022-03-08T16:15:24.746293",
     "status": "completed"
    },
    "tags": []
   },
   "outputs": [
    {
     "data": {
      "image/png": "[encoded data removed]",
      "text/plain": [
       "<Figure size 720x360 with 1 Axes>"
      ]
     },
     "metadata": {
      "needs_background": "light"
     },
     "output_type": "display_data"
    }
   ],
   "source": [
    "plt.figure(figsize=(10,5))\n",
    "plt.plot(n_estimators_list, scores, '-o', linewidth=5, markersize=24)\n",
    "plt.xlabel('n_estimators')\n",
    "plt.ylabel('accuracy')\n",
    "plt.title(\"Score with validation set varying n_estimators of extremely randomized trees\", fontsize = 15)\n",
    "plt.show();"
   ]
  },
  {
   "cell_type": "code",
   "execution_count": 42,
   "id": "d6b5738a",
   "metadata": {
    "execution": {
     "iopub.execute_input": "2022-03-08T16:15:25.185609Z",
     "iopub.status.busy": "2022-03-08T16:15:25.185046Z",
     "iopub.status.idle": "2022-03-08T16:15:43.119737Z",
     "shell.execute_reply": "2022-03-08T16:15:43.120160Z",
     "shell.execute_reply.started": "2022-03-08T15:50:07.790508Z"
    },
    "papermill": {
     "duration": 18.016962,
     "end_time": "2022-03-08T16:15:43.120311",
     "exception": false,
     "start_time": "2022-03-08T16:15:25.103349",
     "status": "completed"
    },
    "tags": []
   },
   "outputs": [
    {
     "name": "stdout",
     "output_type": "stream",
     "text": [
      "                          precision    recall  f1-score   support\n",
      "\n",
      "    Bacteroides_fragilis       0.98      0.99      0.99      2699\n",
      "    Campylobacter_jejuni       0.99      0.99      0.99      2688\n",
      "      Enterococcus_hirae       0.98      0.98      0.98      2673\n",
      "        Escherichia_coli       0.97      0.96      0.96      2674\n",
      "  Escherichia_fergusonii       0.97      0.97      0.97      2672\n",
      "   Klebsiella_pneumoniae       0.99      0.99      0.99      2660\n",
      "     Salmonella_enterica       0.97      0.97      0.97      2684\n",
      "   Staphylococcus_aureus       0.98      0.99      0.98      2670\n",
      "Streptococcus_pneumoniae       0.97      0.98      0.98      2690\n",
      "  Streptococcus_pyogenes       0.98      0.97      0.97      2690\n",
      "\n",
      "                accuracy                           0.98     26800\n",
      "               macro avg       0.98      0.98      0.98     26800\n",
      "            weighted avg       0.98      0.98      0.98     26800\n",
      "\n"
     ]
    }
   ],
   "source": [
    "# Test the model with the validation set using the best parameter found\n",
    "best_n_estimators = n_estimators_list[np.argmax(scores)]\n",
    "ext_rnd_trees_model = ExtraTreesClassifier(criterion=\"entropy\", n_estimators=best_n_estimators, random_state=random_seed)\n",
    "ext_rnd_trees_model.fit(X_train_t, Y_train_t)\n",
    "Y_predicted = ext_rnd_trees_model.predict(X_train_val)\n",
    "print(classification_report(Y_train_val, Y_predicted, target_names=label_encoder.classes_))"
   ]
  },
  {
   "cell_type": "markdown",
   "id": "9857ab93",
   "metadata": {
    "papermill": {
     "duration": 0.078847,
     "end_time": "2022-03-08T16:15:43.278845",
     "exception": false,
     "start_time": "2022-03-08T16:15:43.199998",
     "status": "completed"
    },
    "tags": []
   },
   "source": [
    "### **Deep Neural Network**"
   ]
  },
  {
   "cell_type": "code",
   "execution_count": 43,
   "id": "298688d8",
   "metadata": {
    "execution": {
     "iopub.execute_input": "2022-03-08T16:15:43.437254Z",
     "iopub.status.busy": "2022-03-08T16:15:43.436686Z",
     "iopub.status.idle": "2022-03-08T16:15:48.357227Z",
     "shell.execute_reply": "2022-03-08T16:15:48.356707Z",
     "shell.execute_reply.started": "2022-03-08T15:18:08.274691Z"
    },
    "papermill": {
     "duration": 5.001089,
     "end_time": "2022-03-08T16:15:48.357365",
     "exception": false,
     "start_time": "2022-03-08T16:15:43.356276",
     "status": "completed"
    },
    "tags": []
   },
   "outputs": [],
   "source": [
    "import tensorflow as tf\n",
    "from tensorflow import keras\n",
    "from tensorflow.keras import layers"
   ]
  },
  {
   "cell_type": "code",
   "execution_count": 44,
   "id": "5b00ae39",
   "metadata": {
    "execution": {
     "iopub.execute_input": "2022-03-08T16:15:48.521460Z",
     "iopub.status.busy": "2022-03-08T16:15:48.520863Z",
     "iopub.status.idle": "2022-03-08T16:15:48.643595Z",
     "shell.execute_reply": "2022-03-08T16:15:48.644133Z",
     "shell.execute_reply.started": "2022-03-08T15:18:08.276145Z"
    },
    "papermill": {
     "duration": 0.207759,
     "end_time": "2022-03-08T16:15:48.644294",
     "exception": false,
     "start_time": "2022-03-08T16:15:48.436535",
     "status": "completed"
    },
    "tags": []
   },
   "outputs": [
    {
     "name": "stdout",
     "output_type": "stream",
     "text": [
      "Model: \"dnn_model\"\n",
      "_________________________________________________________________\n",
      "Layer (type)                 Output Shape              Param #   \n",
      "=================================================================\n",
      "input_1 (InputLayer)         [(None, 20)]              0         \n",
      "_________________________________________________________________\n",
      "dense (Dense)                (None, 30)                630       \n",
      "_________________________________________________________________\n",
      "dense_1 (Dense)              (None, 50)                1550      \n",
      "_________________________________________________________________\n",
      "dense_2 (Dense)              (None, 50)                2550      \n",
      "_________________________________________________________________\n",
      "dense_3 (Dense)              (None, 30)                1530      \n",
      "_________________________________________________________________\n",
      "dense_4 (Dense)              (None, 20)                620       \n",
      "_________________________________________________________________\n",
      "dense_5 (Dense)              (None, 10)                210       \n",
      "=================================================================\n",
      "Total params: 7,090\n",
      "Trainable params: 7,090\n",
      "Non-trainable params: 0\n",
      "_________________________________________________________________\n"
     ]
    },
    {
     "name": "stderr",
     "output_type": "stream",
     "text": [
      "2022-03-08 16:15:48.564442: I tensorflow/core/common_runtime/process_util.cc:146] Creating new thread pool with default inter op setting: 2. Tune using inter_op_parallelism_threads for best performance.\n"
     ]
    }
   ],
   "source": [
    "# Network architecture definition\n",
    "inputs = keras.Input(shape=(pca_components,))\n",
    "x = layers.Dense(30, activation=\"relu\")(inputs)\n",
    "x = layers.Dense(50, activation=\"relu\")(x)\n",
    "x = layers.Dense(50, activation=\"relu\")(x)\n",
    "x = layers.Dense(30, activation=\"relu\")(x)\n",
    "x = layers.Dense(20, activation=\"relu\")(x)\n",
    "outputs = layers.Dense(10, activation=\"softmax\")(x)\n",
    "\n",
    "dnn_model = keras.Model(inputs=inputs, outputs=outputs, name=\"dnn_model\")\n",
    "dnn_model.summary()"
   ]
  },
  {
   "cell_type": "code",
   "execution_count": 45,
   "id": "49ebed57",
   "metadata": {
    "execution": {
     "iopub.execute_input": "2022-03-08T16:15:48.812366Z",
     "iopub.status.busy": "2022-03-08T16:15:48.811657Z",
     "iopub.status.idle": "2022-03-08T16:15:48.817345Z",
     "shell.execute_reply": "2022-03-08T16:15:48.817954Z",
     "shell.execute_reply.started": "2022-03-08T15:18:08.277700Z"
    },
    "papermill": {
     "duration": 0.094372,
     "end_time": "2022-03-08T16:15:48.818163",
     "exception": false,
     "start_time": "2022-03-08T16:15:48.723791",
     "status": "completed"
    },
    "tags": []
   },
   "outputs": [],
   "source": [
    "dnn_model.compile(\n",
    "    loss=keras.losses.SparseCategoricalCrossentropy(from_logits=False),\n",
    "    optimizer=keras.optimizers.Adam(),\n",
    "    metrics=[\"accuracy\"]\n",
    ")"
   ]
  },
  {
   "cell_type": "code",
   "execution_count": 46,
   "id": "a4b5a20d",
   "metadata": {
    "execution": {
     "iopub.execute_input": "2022-03-08T16:15:48.980010Z",
     "iopub.status.busy": "2022-03-08T16:15:48.979458Z",
     "iopub.status.idle": "2022-03-08T16:16:30.739260Z",
     "shell.execute_reply": "2022-03-08T16:16:30.738733Z",
     "shell.execute_reply.started": "2022-03-08T15:18:08.278973Z"
    },
    "papermill": {
     "duration": 41.84155,
     "end_time": "2022-03-08T16:16:30.739392",
     "exception": false,
     "start_time": "2022-03-08T16:15:48.897842",
     "status": "completed"
    },
    "tags": []
   },
   "outputs": [
    {
     "name": "stderr",
     "output_type": "stream",
     "text": [
      "2022-03-08 16:15:49.215809: I tensorflow/compiler/mlir/mlir_graph_optimization_pass.cc:185] None of the MLIR Optimization Passes are enabled (registered 2)\n"
     ]
    },
    {
     "name": "stdout",
     "output_type": "stream",
     "text": [
      "Epoch 1/5\n",
      "1675/1675 [==============================] - 6s 3ms/step - loss: 0.6928 - accuracy: 0.7472 - val_loss: 0.4822 - val_accuracy: 0.8160\n",
      "Epoch 2/5\n",
      "1675/1675 [==============================] - 5s 3ms/step - loss: 0.4275 - accuracy: 0.8322 - val_loss: 0.3867 - val_accuracy: 0.8462\n",
      "Epoch 3/5\n",
      "1675/1675 [==============================] - 5s 3ms/step - loss: 0.3759 - accuracy: 0.8469 - val_loss: 0.3543 - val_accuracy: 0.8538\n",
      "Epoch 4/5\n",
      "1675/1675 [==============================] - 5s 3ms/step - loss: 0.3523 - accuracy: 0.8543 - val_loss: 0.3449 - val_accuracy: 0.8581\n",
      "Epoch 5/5\n",
      "1675/1675 [==============================] - 5s 3ms/step - loss: 0.3394 - accuracy: 0.8582 - val_loss: 0.3505 - val_accuracy: 0.8550\n"
     ]
    }
   ],
   "source": [
    "history = dnn_model.fit(X_train_t, Y_train_t, batch_size=64, epochs=5, validation_data=(X_train_val, Y_train_val))"
   ]
  },
  {
   "cell_type": "markdown",
   "id": "d57a514e",
   "metadata": {
    "papermill": {
     "duration": 0.238107,
     "end_time": "2022-03-08T16:16:31.215737",
     "exception": false,
     "start_time": "2022-03-08T16:16:30.977630",
     "status": "completed"
    },
    "tags": []
   },
   "source": [
    "## **Final Model Evaluation**"
   ]
  },
  {
   "cell_type": "code",
   "execution_count": 47,
   "id": "62d53ee6",
   "metadata": {
    "execution": {
     "iopub.execute_input": "2022-03-08T16:16:31.722984Z",
     "iopub.status.busy": "2022-03-08T16:16:31.722067Z",
     "iopub.status.idle": "2022-03-08T16:16:31.725261Z",
     "shell.execute_reply": "2022-03-08T16:16:31.725725Z",
     "shell.execute_reply.started": "2022-03-08T15:18:08.281088Z"
    },
    "papermill": {
     "duration": 0.242347,
     "end_time": "2022-03-08T16:16:31.725887",
     "exception": false,
     "start_time": "2022-03-08T16:16:31.483540",
     "status": "completed"
    },
    "tags": []
   },
   "outputs": [],
   "source": [
    "from sklearn.metrics import classification_report"
   ]
  },
  {
   "cell_type": "code",
   "execution_count": 48,
   "id": "320375c3",
   "metadata": {
    "execution": {
     "iopub.execute_input": "2022-03-08T16:16:32.190035Z",
     "iopub.status.busy": "2022-03-08T16:16:32.189431Z",
     "iopub.status.idle": "2022-03-08T16:16:32.192287Z",
     "shell.execute_reply": "2022-03-08T16:16:32.192717Z",
     "shell.execute_reply.started": "2022-03-08T15:18:08.282664Z"
    },
    "papermill": {
     "duration": 0.233213,
     "end_time": "2022-03-08T16:16:32.192873",
     "exception": false,
     "start_time": "2022-03-08T16:16:31.959660",
     "status": "completed"
    },
    "tags": []
   },
   "outputs": [],
   "source": [
    "final_model = rnd_forest_model\n",
    "use_neural_network = False"
   ]
  },
  {
   "cell_type": "code",
   "execution_count": 49,
   "id": "cec34142",
   "metadata": {
    "execution": {
     "iopub.execute_input": "2022-03-08T16:16:32.662559Z",
     "iopub.status.busy": "2022-03-08T16:16:32.662003Z",
     "iopub.status.idle": "2022-03-08T16:16:32.916857Z",
     "shell.execute_reply": "2022-03-08T16:16:32.917370Z",
     "shell.execute_reply.started": "2022-03-08T15:18:08.284218Z"
    },
    "papermill": {
     "duration": 0.491996,
     "end_time": "2022-03-08T16:16:32.917531",
     "exception": false,
     "start_time": "2022-03-08T16:16:32.425535",
     "status": "completed"
    },
    "tags": []
   },
   "outputs": [],
   "source": [
    "# Preprocess the data\n",
    "\n",
    "# Standardize\n",
    "X_test = st_scaler.transform(X_test)\n",
    "# PCA\n",
    "X_test = pca.transform(X_test)"
   ]
  },
  {
   "cell_type": "code",
   "execution_count": 50,
   "id": "9e12dbef",
   "metadata": {
    "execution": {
     "iopub.execute_input": "2022-03-08T16:16:33.457905Z",
     "iopub.status.busy": "2022-03-08T16:16:33.456761Z",
     "iopub.status.idle": "2022-03-08T16:16:35.637172Z",
     "shell.execute_reply": "2022-03-08T16:16:35.636563Z",
     "shell.execute_reply.started": "2022-03-08T15:18:08.285783Z"
    },
    "papermill": {
     "duration": 2.427379,
     "end_time": "2022-03-08T16:16:35.637326",
     "exception": false,
     "start_time": "2022-03-08T16:16:33.209947",
     "status": "completed"
    },
    "tags": []
   },
   "outputs": [],
   "source": [
    "if use_neural_network:\n",
    "    # Predict probabilty distributions over possible labels\n",
    "    Y_test_pred_p = final_model.predict(X_test)\n",
    "    # Store the index of the most probable label\n",
    "    Y_test_pred = np.argmax(Y_test_pred_p, axis=1)\n",
    "else:\n",
    "    Y_test_pred = final_model.predict(X_test)"
   ]
  },
  {
   "cell_type": "code",
   "execution_count": 51,
   "id": "b3468ba5",
   "metadata": {
    "execution": {
     "iopub.execute_input": "2022-03-08T16:16:36.128782Z",
     "iopub.status.busy": "2022-03-08T16:16:36.127544Z",
     "iopub.status.idle": "2022-03-08T16:16:36.270375Z",
     "shell.execute_reply": "2022-03-08T16:16:36.271011Z",
     "shell.execute_reply.started": "2022-03-08T15:18:08.287285Z"
    },
    "papermill": {
     "duration": 0.390438,
     "end_time": "2022-03-08T16:16:36.271182",
     "exception": false,
     "start_time": "2022-03-08T16:16:35.880744",
     "status": "completed"
    },
    "tags": []
   },
   "outputs": [
    {
     "name": "stdout",
     "output_type": "stream",
     "text": [
      "                          precision    recall  f1-score   support\n",
      "\n",
      "    Bacteroides_fragilis       0.73      0.82      0.77      6646\n",
      "    Campylobacter_jejuni       0.87      0.67      0.76      6621\n",
      "      Enterococcus_hirae       0.81      0.77      0.79      6583\n",
      "        Escherichia_coli       0.71      0.79      0.75      6586\n",
      "  Escherichia_fergusonii       0.82      0.82      0.82      6579\n",
      "   Klebsiella_pneumoniae       0.95      0.86      0.90      6549\n",
      "     Salmonella_enterica       0.80      0.79      0.79      6610\n",
      "   Staphylococcus_aureus       0.71      0.89      0.79      6577\n",
      "Streptococcus_pneumoniae       0.79      0.78      0.79      6624\n",
      "  Streptococcus_pyogenes       0.64      0.58      0.61      6625\n",
      "\n",
      "                accuracy                           0.78     66000\n",
      "               macro avg       0.78      0.78      0.78     66000\n",
      "            weighted avg       0.78      0.78      0.78     66000\n",
      "\n"
     ]
    }
   ],
   "source": [
    "print(classification_report(Y_test, Y_test_pred, target_names=label_encoder.classes_))"
   ]
  },
  {
   "cell_type": "markdown",
   "id": "90b7056a",
   "metadata": {
    "papermill": {
     "duration": 0.242221,
     "end_time": "2022-03-08T16:16:36.754473",
     "exception": false,
     "start_time": "2022-03-08T16:16:36.512252",
     "status": "completed"
    },
    "tags": []
   },
   "source": [
    "## **Kaggle Submission Test**"
   ]
  },
  {
   "cell_type": "code",
   "execution_count": 52,
   "id": "42cecdb3",
   "metadata": {
    "execution": {
     "iopub.execute_input": "2022-03-08T16:16:37.242555Z",
     "iopub.status.busy": "2022-03-08T16:16:37.241941Z",
     "iopub.status.idle": "2022-03-08T16:16:50.099877Z",
     "shell.execute_reply": "2022-03-08T16:16:50.100414Z",
     "shell.execute_reply.started": "2022-03-08T15:18:08.289486Z"
    },
    "papermill": {
     "duration": 13.102535,
     "end_time": "2022-03-08T16:16:50.100640",
     "exception": false,
     "start_time": "2022-03-08T16:16:36.998105",
     "status": "completed"
    },
    "tags": []
   },
   "outputs": [
    {
     "data": {
      "text/html": [
       "<div>\n",
       "<style scoped>\n",
       "    .dataframe tbody tr th:only-of-type {\n",
       "        vertical-align: middle;\n",
       "    }\n",
       "\n",
       "    .dataframe tbody tr th {\n",
       "        vertical-align: top;\n",
       "    }\n",
       "\n",
       "    .dataframe thead th {\n",
       "        text-align: right;\n",
       "    }\n",
       "</style>\n",
       "<table border=\"1\" class=\"dataframe\">\n",
       "  <thead>\n",
       "    <tr style=\"text-align: right;\">\n",
       "      <th></th>\n",
       "      <th>row_id</th>\n",
       "      <th>A0T0G0C10</th>\n",
       "      <th>A0T0G1C9</th>\n",
       "      <th>A0T0G2C8</th>\n",
       "      <th>A0T0G3C7</th>\n",
       "      <th>A0T0G4C6</th>\n",
       "      <th>A0T0G5C5</th>\n",
       "      <th>A0T0G6C4</th>\n",
       "      <th>A0T0G7C3</th>\n",
       "      <th>A0T0G8C2</th>\n",
       "      <th>...</th>\n",
       "      <th>A8T0G0C2</th>\n",
       "      <th>A8T0G1C1</th>\n",
       "      <th>A8T0G2C0</th>\n",
       "      <th>A8T1G0C1</th>\n",
       "      <th>A8T1G1C0</th>\n",
       "      <th>A8T2G0C0</th>\n",
       "      <th>A9T0G0C1</th>\n",
       "      <th>A9T0G1C0</th>\n",
       "      <th>A9T1G0C0</th>\n",
       "      <th>A10T0G0C0</th>\n",
       "    </tr>\n",
       "  </thead>\n",
       "  <tbody>\n",
       "    <tr>\n",
       "      <th>0</th>\n",
       "      <td>200000</td>\n",
       "      <td>-9.536743e-07</td>\n",
       "      <td>-0.000002</td>\n",
       "      <td>-9.153442e-07</td>\n",
       "      <td>0.000024</td>\n",
       "      <td>0.000034</td>\n",
       "      <td>-0.000002</td>\n",
       "      <td>0.000021</td>\n",
       "      <td>0.000024</td>\n",
       "      <td>-0.000009</td>\n",
       "      <td>...</td>\n",
       "      <td>0.000039</td>\n",
       "      <td>0.000085</td>\n",
       "      <td>0.000055</td>\n",
       "      <td>0.000108</td>\n",
       "      <td>0.000090</td>\n",
       "      <td>0.000059</td>\n",
       "      <td>0.000010</td>\n",
       "      <td>0.000006</td>\n",
       "      <td>0.000027</td>\n",
       "      <td>4.632568e-08</td>\n",
       "    </tr>\n",
       "    <tr>\n",
       "      <th>1</th>\n",
       "      <td>200001</td>\n",
       "      <td>-9.536743e-07</td>\n",
       "      <td>-0.000010</td>\n",
       "      <td>-4.291534e-05</td>\n",
       "      <td>-0.000114</td>\n",
       "      <td>0.001800</td>\n",
       "      <td>-0.000240</td>\n",
       "      <td>0.001800</td>\n",
       "      <td>-0.000114</td>\n",
       "      <td>0.000957</td>\n",
       "      <td>...</td>\n",
       "      <td>-0.000043</td>\n",
       "      <td>0.000914</td>\n",
       "      <td>-0.000043</td>\n",
       "      <td>-0.000086</td>\n",
       "      <td>-0.000086</td>\n",
       "      <td>-0.000043</td>\n",
       "      <td>-0.000010</td>\n",
       "      <td>-0.000010</td>\n",
       "      <td>-0.000010</td>\n",
       "      <td>-9.536743e-07</td>\n",
       "    </tr>\n",
       "    <tr>\n",
       "      <th>2</th>\n",
       "      <td>200002</td>\n",
       "      <td>4.632568e-08</td>\n",
       "      <td>0.000003</td>\n",
       "      <td>8.465576e-08</td>\n",
       "      <td>-0.000014</td>\n",
       "      <td>0.000007</td>\n",
       "      <td>-0.000005</td>\n",
       "      <td>-0.000004</td>\n",
       "      <td>0.000003</td>\n",
       "      <td>0.000004</td>\n",
       "      <td>...</td>\n",
       "      <td>0.000041</td>\n",
       "      <td>0.000102</td>\n",
       "      <td>0.000084</td>\n",
       "      <td>0.000111</td>\n",
       "      <td>0.000117</td>\n",
       "      <td>0.000070</td>\n",
       "      <td>0.000020</td>\n",
       "      <td>0.000030</td>\n",
       "      <td>0.000021</td>\n",
       "      <td>4.632568e-08</td>\n",
       "    </tr>\n",
       "    <tr>\n",
       "      <th>3</th>\n",
       "      <td>200003</td>\n",
       "      <td>-9.536743e-07</td>\n",
       "      <td>-0.000008</td>\n",
       "      <td>8.084656e-06</td>\n",
       "      <td>0.000216</td>\n",
       "      <td>0.000420</td>\n",
       "      <td>0.000514</td>\n",
       "      <td>0.000452</td>\n",
       "      <td>0.000187</td>\n",
       "      <td>-0.000005</td>\n",
       "      <td>...</td>\n",
       "      <td>0.000069</td>\n",
       "      <td>0.000158</td>\n",
       "      <td>0.000098</td>\n",
       "      <td>0.000175</td>\n",
       "      <td>0.000217</td>\n",
       "      <td>0.000150</td>\n",
       "      <td>0.000018</td>\n",
       "      <td>0.000016</td>\n",
       "      <td>0.000051</td>\n",
       "      <td>-9.536743e-07</td>\n",
       "    </tr>\n",
       "    <tr>\n",
       "      <th>4</th>\n",
       "      <td>200004</td>\n",
       "      <td>-9.536743e-07</td>\n",
       "      <td>-0.000010</td>\n",
       "      <td>-4.291534e-05</td>\n",
       "      <td>-0.000114</td>\n",
       "      <td>-0.000200</td>\n",
       "      <td>-0.000240</td>\n",
       "      <td>-0.000200</td>\n",
       "      <td>-0.000114</td>\n",
       "      <td>-0.000043</td>\n",
       "      <td>...</td>\n",
       "      <td>-0.000043</td>\n",
       "      <td>-0.000086</td>\n",
       "      <td>-0.000043</td>\n",
       "      <td>-0.000086</td>\n",
       "      <td>0.000914</td>\n",
       "      <td>-0.000043</td>\n",
       "      <td>-0.000010</td>\n",
       "      <td>-0.000010</td>\n",
       "      <td>0.000990</td>\n",
       "      <td>-9.536743e-07</td>\n",
       "    </tr>\n",
       "  </tbody>\n",
       "</table>\n",
       "<p>5 rows × 287 columns</p>\n",
       "</div>"
      ],
      "text/plain": [
       "   row_id     A0T0G0C10  A0T0G1C9      A0T0G2C8  A0T0G3C7  A0T0G4C6  A0T0G5C5  \\\n",
       "0  200000 -9.536743e-07 -0.000002 -9.153442e-07  0.000024  0.000034 -0.000002   \n",
       "1  200001 -9.536743e-07 -0.000010 -4.291534e-05 -0.000114  0.001800 -0.000240   \n",
       "2  200002  4.632568e-08  0.000003  8.465576e-08 -0.000014  0.000007 -0.000005   \n",
       "3  200003 -9.536743e-07 -0.000008  8.084656e-06  0.000216  0.000420  0.000514   \n",
       "4  200004 -9.536743e-07 -0.000010 -4.291534e-05 -0.000114 -0.000200 -0.000240   \n",
       "\n",
       "   A0T0G6C4  A0T0G7C3  A0T0G8C2  ...  A8T0G0C2  A8T0G1C1  A8T0G2C0  A8T1G0C1  \\\n",
       "0  0.000021  0.000024 -0.000009  ...  0.000039  0.000085  0.000055  0.000108   \n",
       "1  0.001800 -0.000114  0.000957  ... -0.000043  0.000914 -0.000043 -0.000086   \n",
       "2 -0.000004  0.000003  0.000004  ...  0.000041  0.000102  0.000084  0.000111   \n",
       "3  0.000452  0.000187 -0.000005  ...  0.000069  0.000158  0.000098  0.000175   \n",
       "4 -0.000200 -0.000114 -0.000043  ... -0.000043 -0.000086 -0.000043 -0.000086   \n",
       "\n",
       "   A8T1G1C0  A8T2G0C0  A9T0G0C1  A9T0G1C0  A9T1G0C0     A10T0G0C0  \n",
       "0  0.000090  0.000059  0.000010  0.000006  0.000027  4.632568e-08  \n",
       "1 -0.000086 -0.000043 -0.000010 -0.000010 -0.000010 -9.536743e-07  \n",
       "2  0.000117  0.000070  0.000020  0.000030  0.000021  4.632568e-08  \n",
       "3  0.000217  0.000150  0.000018  0.000016  0.000051 -9.536743e-07  \n",
       "4  0.000914 -0.000043 -0.000010 -0.000010  0.000990 -9.536743e-07  \n",
       "\n",
       "[5 rows x 287 columns]"
      ]
     },
     "execution_count": 52,
     "metadata": {},
     "output_type": "execute_result"
    }
   ],
   "source": [
    "# Load Kaggle's submission test set\n",
    "df_subm = pd.read_csv(\"/kaggle/input/tabular-playground-series-feb-2022/test.csv\")\n",
    "df_subm.head()"
   ]
  },
  {
   "cell_type": "code",
   "execution_count": 53,
   "id": "d66e6459",
   "metadata": {
    "execution": {
     "iopub.execute_input": "2022-03-08T16:16:50.603899Z",
     "iopub.status.busy": "2022-03-08T16:16:50.602940Z",
     "iopub.status.idle": "2022-03-08T16:16:50.612946Z",
     "shell.execute_reply": "2022-03-08T16:16:50.612446Z",
     "shell.execute_reply.started": "2022-03-08T15:18:08.291173Z"
    },
    "papermill": {
     "duration": 0.268533,
     "end_time": "2022-03-08T16:16:50.613108",
     "exception": false,
     "start_time": "2022-03-08T16:16:50.344575",
     "status": "completed"
    },
    "tags": []
   },
   "outputs": [
    {
     "data": {
      "text/html": [
       "<div>\n",
       "<style scoped>\n",
       "    .dataframe tbody tr th:only-of-type {\n",
       "        vertical-align: middle;\n",
       "    }\n",
       "\n",
       "    .dataframe tbody tr th {\n",
       "        vertical-align: top;\n",
       "    }\n",
       "\n",
       "    .dataframe thead th {\n",
       "        text-align: right;\n",
       "    }\n",
       "</style>\n",
       "<table border=\"1\" class=\"dataframe\">\n",
       "  <thead>\n",
       "    <tr style=\"text-align: right;\">\n",
       "      <th></th>\n",
       "      <th>row_id</th>\n",
       "    </tr>\n",
       "  </thead>\n",
       "  <tbody>\n",
       "    <tr>\n",
       "      <th>0</th>\n",
       "      <td>200000</td>\n",
       "    </tr>\n",
       "    <tr>\n",
       "      <th>1</th>\n",
       "      <td>200001</td>\n",
       "    </tr>\n",
       "    <tr>\n",
       "      <th>2</th>\n",
       "      <td>200002</td>\n",
       "    </tr>\n",
       "    <tr>\n",
       "      <th>3</th>\n",
       "      <td>200003</td>\n",
       "    </tr>\n",
       "    <tr>\n",
       "      <th>4</th>\n",
       "      <td>200004</td>\n",
       "    </tr>\n",
       "  </tbody>\n",
       "</table>\n",
       "</div>"
      ],
      "text/plain": [
       "   row_id\n",
       "0  200000\n",
       "1  200001\n",
       "2  200002\n",
       "3  200003\n",
       "4  200004"
      ]
     },
     "execution_count": 53,
     "metadata": {},
     "output_type": "execute_result"
    }
   ],
   "source": [
    "df_subm_results = pd.DataFrame(df_subm[\"row_id\"])\n",
    "df_subm_results.head()"
   ]
  },
  {
   "cell_type": "code",
   "execution_count": 54,
   "id": "0b56079b",
   "metadata": {
    "execution": {
     "iopub.execute_input": "2022-03-08T16:16:51.158238Z",
     "iopub.status.busy": "2022-03-08T16:16:51.155510Z",
     "iopub.status.idle": "2022-03-08T16:16:51.251054Z",
     "shell.execute_reply": "2022-03-08T16:16:51.251580Z",
     "shell.execute_reply.started": "2022-03-08T15:18:08.292645Z"
    },
    "papermill": {
     "duration": 0.361492,
     "end_time": "2022-03-08T16:16:51.251894",
     "exception": false,
     "start_time": "2022-03-08T16:16:50.890402",
     "status": "completed"
    },
    "tags": []
   },
   "outputs": [],
   "source": [
    "X_subm = df_subm.drop(columns=\"row_id\")"
   ]
  },
  {
   "cell_type": "code",
   "execution_count": 55,
   "id": "a7ca21ad",
   "metadata": {
    "execution": {
     "iopub.execute_input": "2022-03-08T16:16:51.785579Z",
     "iopub.status.busy": "2022-03-08T16:16:51.784762Z",
     "iopub.status.idle": "2022-03-08T16:16:52.194993Z",
     "shell.execute_reply": "2022-03-08T16:16:52.196427Z",
     "shell.execute_reply.started": "2022-03-08T15:18:08.294090Z"
    },
    "papermill": {
     "duration": 0.682374,
     "end_time": "2022-03-08T16:16:52.196729",
     "exception": false,
     "start_time": "2022-03-08T16:16:51.514355",
     "status": "completed"
    },
    "tags": []
   },
   "outputs": [
    {
     "data": {
      "text/plain": [
       "(100000, 20)"
      ]
     },
     "execution_count": 55,
     "metadata": {},
     "output_type": "execute_result"
    }
   ],
   "source": [
    "# Standardize test set\n",
    "X_subm = st_scaler.transform(X_subm)\n",
    "X_subm.shape\n",
    "\n",
    "# PCA transform on test set\n",
    "X_subm = pca.transform(X_subm)\n",
    "X_subm.shape"
   ]
  },
  {
   "cell_type": "code",
   "execution_count": 56,
   "id": "8846e4cc",
   "metadata": {
    "execution": {
     "iopub.execute_input": "2022-03-08T16:16:52.743097Z",
     "iopub.status.busy": "2022-03-08T16:16:52.742422Z",
     "iopub.status.idle": "2022-03-08T16:16:56.088197Z",
     "shell.execute_reply": "2022-03-08T16:16:56.087524Z",
     "shell.execute_reply.started": "2022-03-08T15:18:08.295580Z"
    },
    "papermill": {
     "duration": 3.595791,
     "end_time": "2022-03-08T16:16:56.088367",
     "exception": false,
     "start_time": "2022-03-08T16:16:52.492576",
     "status": "completed"
    },
    "tags": []
   },
   "outputs": [],
   "source": [
    "if use_neural_network:\n",
    "    # Predict probabilty distributions over possible labels\n",
    "    Y_subm_predicted_p = final_model.predict(X_subm)\n",
    "    # Store the index of the most probable label\n",
    "    Y_subm_predicted = np.argmax(Y_subm_predicted_p, axis=1)\n",
    "else:\n",
    "    Y_subm_predicted = final_model.predict(X_subm)\n",
    "\n",
    "# Convert label indexes to text\n",
    "Y_subm_predicted_labeled = label_encoder.inverse_transform(Y_subm_predicted)\n",
    "# Store the predicted targets in the dataframe\n",
    "df_subm_results[\"target\"] = Y_subm_predicted_labeled"
   ]
  },
  {
   "cell_type": "code",
   "execution_count": 57,
   "id": "e4da5dda",
   "metadata": {
    "execution": {
     "iopub.execute_input": "2022-03-08T16:16:56.603609Z",
     "iopub.status.busy": "2022-03-08T16:16:56.602787Z",
     "iopub.status.idle": "2022-03-08T16:16:56.606344Z",
     "shell.execute_reply": "2022-03-08T16:16:56.606880Z",
     "shell.execute_reply.started": "2022-03-08T15:18:08.297014Z"
    },
    "papermill": {
     "duration": 0.256837,
     "end_time": "2022-03-08T16:16:56.607069",
     "exception": false,
     "start_time": "2022-03-08T16:16:56.350232",
     "status": "completed"
    },
    "tags": []
   },
   "outputs": [
    {
     "data": {
      "text/html": [
       "<div>\n",
       "<style scoped>\n",
       "    .dataframe tbody tr th:only-of-type {\n",
       "        vertical-align: middle;\n",
       "    }\n",
       "\n",
       "    .dataframe tbody tr th {\n",
       "        vertical-align: top;\n",
       "    }\n",
       "\n",
       "    .dataframe thead th {\n",
       "        text-align: right;\n",
       "    }\n",
       "</style>\n",
       "<table border=\"1\" class=\"dataframe\">\n",
       "  <thead>\n",
       "    <tr style=\"text-align: right;\">\n",
       "      <th></th>\n",
       "      <th>row_id</th>\n",
       "      <th>target</th>\n",
       "    </tr>\n",
       "  </thead>\n",
       "  <tbody>\n",
       "    <tr>\n",
       "      <th>0</th>\n",
       "      <td>200000</td>\n",
       "      <td>Escherichia_fergusonii</td>\n",
       "    </tr>\n",
       "    <tr>\n",
       "      <th>1</th>\n",
       "      <td>200001</td>\n",
       "      <td>Salmonella_enterica</td>\n",
       "    </tr>\n",
       "    <tr>\n",
       "      <th>2</th>\n",
       "      <td>200002</td>\n",
       "      <td>Streptococcus_pyogenes</td>\n",
       "    </tr>\n",
       "    <tr>\n",
       "      <th>3</th>\n",
       "      <td>200003</td>\n",
       "      <td>Salmonella_enterica</td>\n",
       "    </tr>\n",
       "    <tr>\n",
       "      <th>4</th>\n",
       "      <td>200004</td>\n",
       "      <td>Staphylococcus_aureus</td>\n",
       "    </tr>\n",
       "  </tbody>\n",
       "</table>\n",
       "</div>"
      ],
      "text/plain": [
       "   row_id                  target\n",
       "0  200000  Escherichia_fergusonii\n",
       "1  200001     Salmonella_enterica\n",
       "2  200002  Streptococcus_pyogenes\n",
       "3  200003     Salmonella_enterica\n",
       "4  200004   Staphylococcus_aureus"
      ]
     },
     "execution_count": 57,
     "metadata": {},
     "output_type": "execute_result"
    }
   ],
   "source": [
    "df_subm_results.head()"
   ]
  },
  {
   "cell_type": "code",
   "execution_count": 58,
   "id": "d48c2439",
   "metadata": {
    "execution": {
     "iopub.execute_input": "2022-03-08T16:16:57.105250Z",
     "iopub.status.busy": "2022-03-08T16:16:57.104544Z",
     "iopub.status.idle": "2022-03-08T16:16:57.354718Z",
     "shell.execute_reply": "2022-03-08T16:16:57.354116Z",
     "shell.execute_reply.started": "2022-03-08T15:18:08.298528Z"
    },
    "papermill": {
     "duration": 0.499669,
     "end_time": "2022-03-08T16:16:57.354863",
     "exception": false,
     "start_time": "2022-03-08T16:16:56.855194",
     "status": "completed"
    },
    "tags": []
   },
   "outputs": [],
   "source": [
    "df_subm_results.to_csv(\"submission.csv\", index=False)"
   ]
  },
  {
   "cell_type": "code",
   "execution_count": null,
   "id": "a7e84ab4",
   "metadata": {
    "papermill": {
     "duration": 0.245313,
     "end_time": "2022-03-08T16:16:57.845473",
     "exception": false,
     "start_time": "2022-03-08T16:16:57.600160",
     "status": "completed"
    },
    "tags": []
   },
   "outputs": [],
   "source": []
  },
  {
   "cell_type": "code",
   "execution_count": null,
   "id": "971175e0",
   "metadata": {
    "papermill": {
     "duration": 0.245303,
     "end_time": "2022-03-08T16:16:58.336128",
     "exception": false,
     "start_time": "2022-03-08T16:16:58.090825",
     "status": "completed"
    },
    "tags": []
   },
   "outputs": [],
   "source": []
  }
 ],
 "metadata": {
  "kernelspec": {
   "display_name": "Python 3",
   "language": "python",
   "name": "python3"
  },
  "language_info": {
   "codemirror_mode": {
    "name": "ipython",
    "version": 3
   },
   "file_extension": ".py",
   "mimetype": "text/x-python",
   "name": "python",
   "nbconvert_exporter": "python",
   "pygments_lexer": "ipython3",
   "version": "3.7.12"
  },
  "papermill": {
   "default_parameters": {},
   "duration": 865.100455,
   "end_time": "2022-03-08T16:17:01.639425",
   "environment_variables": {},
   "exception": null,
   "input_path": "__notebook__.ipynb",
   "output_path": "__notebook__.ipynb",
   "parameters": {},
   "start_time": "2022-03-08T16:02:36.538970",
   "version": "2.3.3"
  }
 },
 "nbformat": 4,
 "nbformat_minor": 5
}
