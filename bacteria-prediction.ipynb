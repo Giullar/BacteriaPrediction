{
 "cells": [
  {
   "cell_type": "markdown",
   "id": "65fcc138",
   "metadata": {
    "_cell_guid": "b1076dfc-b9ad-4769-8c92-a6c4dae69d19",
    "_uuid": "8f2839f25d086af736a60e9eeb907d3b93b6e0e5",
    "execution": {
     "iopub.execute_input": "2022-03-02T14:33:46.222715Z",
     "iopub.status.busy": "2022-03-02T14:33:46.221872Z",
     "iopub.status.idle": "2022-03-02T14:33:46.251698Z",
     "shell.execute_reply": "2022-03-02T14:33:46.250819Z",
     "shell.execute_reply.started": "2022-03-02T14:33:46.222522Z"
    },
    "papermill": {
     "duration": 0.072111,
     "end_time": "2022-03-09T14:52:47.869057",
     "exception": false,
     "start_time": "2022-03-09T14:52:47.796946",
     "status": "completed"
    },
    "tags": []
   },
   "source": [
    "# **Bacteria Prediction**"
   ]
  },
  {
   "cell_type": "markdown",
   "id": "d84298ae",
   "metadata": {
    "papermill": {
     "duration": 0.067853,
     "end_time": "2022-03-09T14:52:48.006629",
     "exception": false,
     "start_time": "2022-03-09T14:52:47.938776",
     "status": "completed"
    },
    "tags": []
   },
   "source": [
    "## **Data Loading**"
   ]
  },
  {
   "cell_type": "code",
   "execution_count": 1,
   "id": "b8eab2ef",
   "metadata": {
    "execution": {
     "iopub.execute_input": "2022-03-09T14:52:48.153224Z",
     "iopub.status.busy": "2022-03-09T14:52:48.152263Z",
     "iopub.status.idle": "2022-03-09T14:52:48.158035Z",
     "shell.execute_reply": "2022-03-09T14:52:48.157268Z",
     "shell.execute_reply.started": "2022-03-09T14:22:41.660923Z"
    },
    "papermill": {
     "duration": 0.082694,
     "end_time": "2022-03-09T14:52:48.158216",
     "exception": false,
     "start_time": "2022-03-09T14:52:48.075522",
     "status": "completed"
    },
    "tags": []
   },
   "outputs": [],
   "source": [
    "import os\n",
    "import numpy as np\n",
    "import pandas as pd\n",
    "import matplotlib.pyplot as plt\n",
    "\n",
    "# Global variables\n",
    "random_seed = 42"
   ]
  },
  {
   "cell_type": "code",
   "execution_count": 2,
   "id": "24f3c805",
   "metadata": {
    "execution": {
     "iopub.execute_input": "2022-03-09T14:52:48.301429Z",
     "iopub.status.busy": "2022-03-09T14:52:48.300591Z",
     "iopub.status.idle": "2022-03-09T14:52:48.306066Z",
     "shell.execute_reply": "2022-03-09T14:52:48.305359Z",
     "shell.execute_reply.started": "2022-03-09T14:22:41.688155Z"
    },
    "papermill": {
     "duration": 0.079079,
     "end_time": "2022-03-09T14:52:48.306224",
     "exception": false,
     "start_time": "2022-03-09T14:52:48.227145",
     "status": "completed"
    },
    "tags": []
   },
   "outputs": [
    {
     "name": "stdout",
     "output_type": "stream",
     "text": [
      "/kaggle/input/tabular-playground-series-feb-2022/sample_submission.csv\n",
      "/kaggle/input/tabular-playground-series-feb-2022/train.csv\n",
      "/kaggle/input/tabular-playground-series-feb-2022/test.csv\n"
     ]
    }
   ],
   "source": [
    "# Print directory structure\n",
    "for dirname, _, filenames in os.walk('/kaggle/input'):\n",
    "    for filename in filenames:\n",
    "        print(os.path.join(dirname, filename))"
   ]
  },
  {
   "cell_type": "code",
   "execution_count": 3,
   "id": "c8362856",
   "metadata": {
    "execution": {
     "iopub.execute_input": "2022-03-09T14:52:48.449374Z",
     "iopub.status.busy": "2022-03-09T14:52:48.448638Z",
     "iopub.status.idle": "2022-03-09T14:53:16.056128Z",
     "shell.execute_reply": "2022-03-09T14:53:16.055523Z",
     "shell.execute_reply.started": "2022-03-09T14:22:41.699921Z"
    },
    "papermill": {
     "duration": 27.680122,
     "end_time": "2022-03-09T14:53:16.056312",
     "exception": false,
     "start_time": "2022-03-09T14:52:48.376190",
     "status": "completed"
    },
    "tags": []
   },
   "outputs": [],
   "source": [
    "# Load training set\n",
    "df = pd.read_csv(\"/kaggle/input/tabular-playground-series-feb-2022/train.csv\")"
   ]
  },
  {
   "cell_type": "markdown",
   "id": "5a5b65cd",
   "metadata": {
    "papermill": {
     "duration": 0.068873,
     "end_time": "2022-03-09T14:53:16.196044",
     "exception": false,
     "start_time": "2022-03-09T14:53:16.127171",
     "status": "completed"
    },
    "tags": []
   },
   "source": [
    "## **Data Analysis**"
   ]
  },
  {
   "cell_type": "code",
   "execution_count": 4,
   "id": "cce15350",
   "metadata": {
    "execution": {
     "iopub.execute_input": "2022-03-09T14:53:16.339237Z",
     "iopub.status.busy": "2022-03-09T14:53:16.338622Z",
     "iopub.status.idle": "2022-03-09T14:53:16.345979Z",
     "shell.execute_reply": "2022-03-09T14:53:16.346574Z",
     "shell.execute_reply.started": "2022-03-09T14:23:08.544126Z"
    },
    "papermill": {
     "duration": 0.080632,
     "end_time": "2022-03-09T14:53:16.346737",
     "exception": false,
     "start_time": "2022-03-09T14:53:16.266105",
     "status": "completed"
    },
    "tags": []
   },
   "outputs": [
    {
     "data": {
      "text/plain": [
       "(200000, 288)"
      ]
     },
     "execution_count": 4,
     "metadata": {},
     "output_type": "execute_result"
    }
   ],
   "source": [
    "df.shape"
   ]
  },
  {
   "cell_type": "code",
   "execution_count": 5,
   "id": "7db02aad",
   "metadata": {
    "execution": {
     "iopub.execute_input": "2022-03-09T14:53:16.501033Z",
     "iopub.status.busy": "2022-03-09T14:53:16.500336Z",
     "iopub.status.idle": "2022-03-09T14:53:16.528281Z",
     "shell.execute_reply": "2022-03-09T14:53:16.528789Z",
     "shell.execute_reply.started": "2022-03-09T14:23:08.555091Z"
    },
    "papermill": {
     "duration": 0.11268,
     "end_time": "2022-03-09T14:53:16.528955",
     "exception": false,
     "start_time": "2022-03-09T14:53:16.416275",
     "status": "completed"
    },
    "tags": []
   },
   "outputs": [
    {
     "data": {
      "text/html": [
       "<div>\n",
       "<style scoped>\n",
       "    .dataframe tbody tr th:only-of-type {\n",
       "        vertical-align: middle;\n",
       "    }\n",
       "\n",
       "    .dataframe tbody tr th {\n",
       "        vertical-align: top;\n",
       "    }\n",
       "\n",
       "    .dataframe thead th {\n",
       "        text-align: right;\n",
       "    }\n",
       "</style>\n",
       "<table border=\"1\" class=\"dataframe\">\n",
       "  <thead>\n",
       "    <tr style=\"text-align: right;\">\n",
       "      <th></th>\n",
       "      <th>row_id</th>\n",
       "      <th>A0T0G0C10</th>\n",
       "      <th>A0T0G1C9</th>\n",
       "      <th>A0T0G2C8</th>\n",
       "      <th>A0T0G3C7</th>\n",
       "      <th>A0T0G4C6</th>\n",
       "      <th>A0T0G5C5</th>\n",
       "      <th>A0T0G6C4</th>\n",
       "      <th>A0T0G7C3</th>\n",
       "      <th>A0T0G8C2</th>\n",
       "      <th>...</th>\n",
       "      <th>A8T0G1C1</th>\n",
       "      <th>A8T0G2C0</th>\n",
       "      <th>A8T1G0C1</th>\n",
       "      <th>A8T1G1C0</th>\n",
       "      <th>A8T2G0C0</th>\n",
       "      <th>A9T0G0C1</th>\n",
       "      <th>A9T0G1C0</th>\n",
       "      <th>A9T1G0C0</th>\n",
       "      <th>A10T0G0C0</th>\n",
       "      <th>target</th>\n",
       "    </tr>\n",
       "  </thead>\n",
       "  <tbody>\n",
       "    <tr>\n",
       "      <th>0</th>\n",
       "      <td>0</td>\n",
       "      <td>-9.536743e-07</td>\n",
       "      <td>-0.000010</td>\n",
       "      <td>-0.000043</td>\n",
       "      <td>-0.000114</td>\n",
       "      <td>-0.000200</td>\n",
       "      <td>-0.000240</td>\n",
       "      <td>-0.000200</td>\n",
       "      <td>-0.000114</td>\n",
       "      <td>-0.000043</td>\n",
       "      <td>...</td>\n",
       "      <td>-0.000086</td>\n",
       "      <td>-0.000043</td>\n",
       "      <td>-0.000086</td>\n",
       "      <td>-0.000086</td>\n",
       "      <td>-0.000043</td>\n",
       "      <td>-0.000010</td>\n",
       "      <td>-0.000010</td>\n",
       "      <td>-0.000010</td>\n",
       "      <td>-9.536743e-07</td>\n",
       "      <td>Streptococcus_pyogenes</td>\n",
       "    </tr>\n",
       "    <tr>\n",
       "      <th>1</th>\n",
       "      <td>1</td>\n",
       "      <td>-9.536743e-07</td>\n",
       "      <td>-0.000010</td>\n",
       "      <td>-0.000043</td>\n",
       "      <td>0.000886</td>\n",
       "      <td>-0.000200</td>\n",
       "      <td>0.000760</td>\n",
       "      <td>-0.000200</td>\n",
       "      <td>-0.000114</td>\n",
       "      <td>-0.000043</td>\n",
       "      <td>...</td>\n",
       "      <td>-0.000086</td>\n",
       "      <td>-0.000043</td>\n",
       "      <td>0.000914</td>\n",
       "      <td>0.000914</td>\n",
       "      <td>-0.000043</td>\n",
       "      <td>-0.000010</td>\n",
       "      <td>-0.000010</td>\n",
       "      <td>-0.000010</td>\n",
       "      <td>-9.536743e-07</td>\n",
       "      <td>Salmonella_enterica</td>\n",
       "    </tr>\n",
       "    <tr>\n",
       "      <th>2</th>\n",
       "      <td>2</td>\n",
       "      <td>-9.536743e-07</td>\n",
       "      <td>-0.000002</td>\n",
       "      <td>0.000007</td>\n",
       "      <td>0.000129</td>\n",
       "      <td>0.000268</td>\n",
       "      <td>0.000270</td>\n",
       "      <td>0.000243</td>\n",
       "      <td>0.000125</td>\n",
       "      <td>0.000001</td>\n",
       "      <td>...</td>\n",
       "      <td>0.000084</td>\n",
       "      <td>0.000048</td>\n",
       "      <td>0.000081</td>\n",
       "      <td>0.000106</td>\n",
       "      <td>0.000072</td>\n",
       "      <td>0.000010</td>\n",
       "      <td>0.000008</td>\n",
       "      <td>0.000019</td>\n",
       "      <td>1.046326e-06</td>\n",
       "      <td>Salmonella_enterica</td>\n",
       "    </tr>\n",
       "    <tr>\n",
       "      <th>3</th>\n",
       "      <td>3</td>\n",
       "      <td>4.632568e-08</td>\n",
       "      <td>-0.000006</td>\n",
       "      <td>0.000012</td>\n",
       "      <td>0.000245</td>\n",
       "      <td>0.000492</td>\n",
       "      <td>0.000522</td>\n",
       "      <td>0.000396</td>\n",
       "      <td>0.000197</td>\n",
       "      <td>-0.000003</td>\n",
       "      <td>...</td>\n",
       "      <td>0.000151</td>\n",
       "      <td>0.000100</td>\n",
       "      <td>0.000180</td>\n",
       "      <td>0.000202</td>\n",
       "      <td>0.000153</td>\n",
       "      <td>0.000021</td>\n",
       "      <td>0.000015</td>\n",
       "      <td>0.000046</td>\n",
       "      <td>-9.536743e-07</td>\n",
       "      <td>Salmonella_enterica</td>\n",
       "    </tr>\n",
       "    <tr>\n",
       "      <th>4</th>\n",
       "      <td>4</td>\n",
       "      <td>-9.536743e-07</td>\n",
       "      <td>-0.000010</td>\n",
       "      <td>-0.000043</td>\n",
       "      <td>-0.000114</td>\n",
       "      <td>-0.000200</td>\n",
       "      <td>-0.000240</td>\n",
       "      <td>-0.000200</td>\n",
       "      <td>-0.000114</td>\n",
       "      <td>-0.000043</td>\n",
       "      <td>...</td>\n",
       "      <td>-0.000086</td>\n",
       "      <td>-0.000043</td>\n",
       "      <td>-0.000086</td>\n",
       "      <td>-0.000086</td>\n",
       "      <td>-0.000043</td>\n",
       "      <td>-0.000010</td>\n",
       "      <td>-0.000010</td>\n",
       "      <td>-0.000010</td>\n",
       "      <td>-9.536743e-07</td>\n",
       "      <td>Enterococcus_hirae</td>\n",
       "    </tr>\n",
       "  </tbody>\n",
       "</table>\n",
       "<p>5 rows × 288 columns</p>\n",
       "</div>"
      ],
      "text/plain": [
       "   row_id     A0T0G0C10  A0T0G1C9  A0T0G2C8  A0T0G3C7  A0T0G4C6  A0T0G5C5  \\\n",
       "0       0 -9.536743e-07 -0.000010 -0.000043 -0.000114 -0.000200 -0.000240   \n",
       "1       1 -9.536743e-07 -0.000010 -0.000043  0.000886 -0.000200  0.000760   \n",
       "2       2 -9.536743e-07 -0.000002  0.000007  0.000129  0.000268  0.000270   \n",
       "3       3  4.632568e-08 -0.000006  0.000012  0.000245  0.000492  0.000522   \n",
       "4       4 -9.536743e-07 -0.000010 -0.000043 -0.000114 -0.000200 -0.000240   \n",
       "\n",
       "   A0T0G6C4  A0T0G7C3  A0T0G8C2  ...  A8T0G1C1  A8T0G2C0  A8T1G0C1  A8T1G1C0  \\\n",
       "0 -0.000200 -0.000114 -0.000043  ... -0.000086 -0.000043 -0.000086 -0.000086   \n",
       "1 -0.000200 -0.000114 -0.000043  ... -0.000086 -0.000043  0.000914  0.000914   \n",
       "2  0.000243  0.000125  0.000001  ...  0.000084  0.000048  0.000081  0.000106   \n",
       "3  0.000396  0.000197 -0.000003  ...  0.000151  0.000100  0.000180  0.000202   \n",
       "4 -0.000200 -0.000114 -0.000043  ... -0.000086 -0.000043 -0.000086 -0.000086   \n",
       "\n",
       "   A8T2G0C0  A9T0G0C1  A9T0G1C0  A9T1G0C0     A10T0G0C0  \\\n",
       "0 -0.000043 -0.000010 -0.000010 -0.000010 -9.536743e-07   \n",
       "1 -0.000043 -0.000010 -0.000010 -0.000010 -9.536743e-07   \n",
       "2  0.000072  0.000010  0.000008  0.000019  1.046326e-06   \n",
       "3  0.000153  0.000021  0.000015  0.000046 -9.536743e-07   \n",
       "4 -0.000043 -0.000010 -0.000010 -0.000010 -9.536743e-07   \n",
       "\n",
       "                   target  \n",
       "0  Streptococcus_pyogenes  \n",
       "1     Salmonella_enterica  \n",
       "2     Salmonella_enterica  \n",
       "3     Salmonella_enterica  \n",
       "4      Enterococcus_hirae  \n",
       "\n",
       "[5 rows x 288 columns]"
      ]
     },
     "execution_count": 5,
     "metadata": {},
     "output_type": "execute_result"
    }
   ],
   "source": [
    "df.head()"
   ]
  },
  {
   "cell_type": "code",
   "execution_count": 6,
   "id": "2a1019ad",
   "metadata": {
    "execution": {
     "iopub.execute_input": "2022-03-09T14:53:16.679723Z",
     "iopub.status.busy": "2022-03-09T14:53:16.679007Z",
     "iopub.status.idle": "2022-03-09T14:53:16.681855Z",
     "shell.execute_reply": "2022-03-09T14:53:16.682336Z",
     "shell.execute_reply.started": "2022-03-09T14:23:08.603363Z"
    },
    "papermill": {
     "duration": 0.082726,
     "end_time": "2022-03-09T14:53:16.682543",
     "exception": false,
     "start_time": "2022-03-09T14:53:16.599817",
     "status": "completed"
    },
    "tags": []
   },
   "outputs": [
    {
     "data": {
      "text/plain": [
       "row_id         int64\n",
       "A0T0G0C10    float64\n",
       "A0T0G1C9     float64\n",
       "A0T0G2C8     float64\n",
       "A0T0G3C7     float64\n",
       "              ...   \n",
       "A9T0G0C1     float64\n",
       "A9T0G1C0     float64\n",
       "A9T1G0C0     float64\n",
       "A10T0G0C0    float64\n",
       "target        object\n",
       "Length: 288, dtype: object"
      ]
     },
     "execution_count": 6,
     "metadata": {},
     "output_type": "execute_result"
    }
   ],
   "source": [
    "df.dtypes"
   ]
  },
  {
   "cell_type": "code",
   "execution_count": 7,
   "id": "b098d298",
   "metadata": {
    "execution": {
     "iopub.execute_input": "2022-03-09T14:53:16.832552Z",
     "iopub.status.busy": "2022-03-09T14:53:16.831773Z",
     "iopub.status.idle": "2022-03-09T14:53:17.004523Z",
     "shell.execute_reply": "2022-03-09T14:53:17.005021Z",
     "shell.execute_reply.started": "2022-03-09T14:23:08.614337Z"
    },
    "papermill": {
     "duration": 0.252518,
     "end_time": "2022-03-09T14:53:17.005216",
     "exception": false,
     "start_time": "2022-03-09T14:53:16.752698",
     "status": "completed"
    },
    "tags": []
   },
   "outputs": [
    {
     "data": {
      "text/plain": [
       "(200000, 287)"
      ]
     },
     "execution_count": 7,
     "metadata": {},
     "output_type": "execute_result"
    }
   ],
   "source": [
    "# We drop the row_id column because we will not use it\n",
    "df.drop(columns=[\"row_id\"], inplace=True)\n",
    "df.shape"
   ]
  },
  {
   "cell_type": "code",
   "execution_count": 8,
   "id": "ae405e56",
   "metadata": {
    "execution": {
     "iopub.execute_input": "2022-03-09T14:53:17.152798Z",
     "iopub.status.busy": "2022-03-09T14:53:17.151663Z",
     "iopub.status.idle": "2022-03-09T14:53:17.360063Z",
     "shell.execute_reply": "2022-03-09T14:53:17.360569Z",
     "shell.execute_reply.started": "2022-03-09T14:23:08.802226Z"
    },
    "papermill": {
     "duration": 0.282028,
     "end_time": "2022-03-09T14:53:17.360763",
     "exception": false,
     "start_time": "2022-03-09T14:53:17.078735",
     "status": "completed"
    },
    "tags": []
   },
   "outputs": [
    {
     "data": {
      "text/plain": [
       "False"
      ]
     },
     "execution_count": 8,
     "metadata": {},
     "output_type": "execute_result"
    }
   ],
   "source": [
    "# Check the presence of null values\n",
    "df.isnull().values.any()"
   ]
  },
  {
   "cell_type": "code",
   "execution_count": 9,
   "id": "2e94cbb5",
   "metadata": {
    "execution": {
     "iopub.execute_input": "2022-03-09T14:53:17.511176Z",
     "iopub.status.busy": "2022-03-09T14:53:17.510498Z",
     "iopub.status.idle": "2022-03-09T14:53:17.737503Z",
     "shell.execute_reply": "2022-03-09T14:53:17.736821Z",
     "shell.execute_reply.started": "2022-03-09T14:23:08.950625Z"
    },
    "papermill": {
     "duration": 0.305986,
     "end_time": "2022-03-09T14:53:17.737655",
     "exception": false,
     "start_time": "2022-03-09T14:53:17.431669",
     "status": "completed"
    },
    "tags": []
   },
   "outputs": [
    {
     "data": {
      "text/plain": [
       "True"
      ]
     },
     "execution_count": 9,
     "metadata": {},
     "output_type": "execute_result"
    }
   ],
   "source": [
    "# Check the absence of values equals to zero\n",
    "df.all().all()"
   ]
  },
  {
   "cell_type": "markdown",
   "id": "53b3a8df",
   "metadata": {
    "papermill": {
     "duration": 0.073411,
     "end_time": "2022-03-09T14:53:17.883967",
     "exception": false,
     "start_time": "2022-03-09T14:53:17.810556",
     "status": "completed"
    },
    "tags": []
   },
   "source": [
    "As we have seen, in the dataframe there aren't null or 0 values."
   ]
  },
  {
   "cell_type": "code",
   "execution_count": 10,
   "id": "68a703da",
   "metadata": {
    "execution": {
     "iopub.execute_input": "2022-03-09T14:53:18.239182Z",
     "iopub.status.busy": "2022-03-09T14:53:18.238283Z",
     "iopub.status.idle": "2022-03-09T14:53:21.150696Z",
     "shell.execute_reply": "2022-03-09T14:53:21.151194Z",
     "shell.execute_reply.started": "2022-03-09T14:23:09.129462Z"
    },
    "papermill": {
     "duration": 3.194843,
     "end_time": "2022-03-09T14:53:21.151450",
     "exception": false,
     "start_time": "2022-03-09T14:53:17.956607",
     "status": "completed"
    },
    "tags": []
   },
   "outputs": [
    {
     "data": {
      "text/html": [
       "<div>\n",
       "<style scoped>\n",
       "    .dataframe tbody tr th:only-of-type {\n",
       "        vertical-align: middle;\n",
       "    }\n",
       "\n",
       "    .dataframe tbody tr th {\n",
       "        vertical-align: top;\n",
       "    }\n",
       "\n",
       "    .dataframe thead th {\n",
       "        text-align: right;\n",
       "    }\n",
       "</style>\n",
       "<table border=\"1\" class=\"dataframe\">\n",
       "  <thead>\n",
       "    <tr style=\"text-align: right;\">\n",
       "      <th></th>\n",
       "      <th>A0T0G0C10</th>\n",
       "      <th>A0T0G1C9</th>\n",
       "      <th>A0T0G2C8</th>\n",
       "      <th>A0T0G3C7</th>\n",
       "      <th>A0T0G4C6</th>\n",
       "      <th>A0T0G5C5</th>\n",
       "      <th>A0T0G6C4</th>\n",
       "      <th>A0T0G7C3</th>\n",
       "      <th>A0T0G8C2</th>\n",
       "      <th>A0T0G9C1</th>\n",
       "      <th>...</th>\n",
       "      <th>A8T0G0C2</th>\n",
       "      <th>A8T0G1C1</th>\n",
       "      <th>A8T0G2C0</th>\n",
       "      <th>A8T1G0C1</th>\n",
       "      <th>A8T1G1C0</th>\n",
       "      <th>A8T2G0C0</th>\n",
       "      <th>A9T0G0C1</th>\n",
       "      <th>A9T0G1C0</th>\n",
       "      <th>A9T1G0C0</th>\n",
       "      <th>A10T0G0C0</th>\n",
       "    </tr>\n",
       "  </thead>\n",
       "  <tbody>\n",
       "    <tr>\n",
       "      <th>count</th>\n",
       "      <td>2.000000e+05</td>\n",
       "      <td>200000.000000</td>\n",
       "      <td>200000.000000</td>\n",
       "      <td>200000.000000</td>\n",
       "      <td>200000.000000</td>\n",
       "      <td>200000.000000</td>\n",
       "      <td>200000.000000</td>\n",
       "      <td>200000.000000</td>\n",
       "      <td>200000.000000</td>\n",
       "      <td>200000.000000</td>\n",
       "      <td>...</td>\n",
       "      <td>200000.000000</td>\n",
       "      <td>200000.000000</td>\n",
       "      <td>200000.000000</td>\n",
       "      <td>200000.000000</td>\n",
       "      <td>200000.000000</td>\n",
       "      <td>200000.000000</td>\n",
       "      <td>200000.000000</td>\n",
       "      <td>2.000000e+05</td>\n",
       "      <td>2.000000e+05</td>\n",
       "      <td>2.000000e+05</td>\n",
       "    </tr>\n",
       "    <tr>\n",
       "      <th>mean</th>\n",
       "      <td>6.421457e-07</td>\n",
       "      <td>-0.000003</td>\n",
       "      <td>-0.000014</td>\n",
       "      <td>-0.000010</td>\n",
       "      <td>0.000005</td>\n",
       "      <td>0.000025</td>\n",
       "      <td>0.000014</td>\n",
       "      <td>-0.000009</td>\n",
       "      <td>-0.000028</td>\n",
       "      <td>-0.000008</td>\n",
       "      <td>...</td>\n",
       "      <td>0.000135</td>\n",
       "      <td>0.000348</td>\n",
       "      <td>0.000253</td>\n",
       "      <td>0.000464</td>\n",
       "      <td>0.000581</td>\n",
       "      <td>0.000379</td>\n",
       "      <td>0.000062</td>\n",
       "      <td>8.982134e-05</td>\n",
       "      <td>1.170014e-04</td>\n",
       "      <td>2.215407e-07</td>\n",
       "    </tr>\n",
       "    <tr>\n",
       "      <th>std</th>\n",
       "      <td>8.654927e-05</td>\n",
       "      <td>0.000132</td>\n",
       "      <td>0.000287</td>\n",
       "      <td>0.000436</td>\n",
       "      <td>0.000683</td>\n",
       "      <td>0.000869</td>\n",
       "      <td>0.000775</td>\n",
       "      <td>0.000441</td>\n",
       "      <td>0.000107</td>\n",
       "      <td>0.000083</td>\n",
       "      <td>...</td>\n",
       "      <td>0.000711</td>\n",
       "      <td>0.001117</td>\n",
       "      <td>0.000914</td>\n",
       "      <td>0.001238</td>\n",
       "      <td>0.001528</td>\n",
       "      <td>0.001182</td>\n",
       "      <td>0.000466</td>\n",
       "      <td>5.475606e-04</td>\n",
       "      <td>6.788277e-04</td>\n",
       "      <td>2.050081e-05</td>\n",
       "    </tr>\n",
       "    <tr>\n",
       "      <th>min</th>\n",
       "      <td>-9.536743e-07</td>\n",
       "      <td>-0.000010</td>\n",
       "      <td>-0.000043</td>\n",
       "      <td>-0.000114</td>\n",
       "      <td>-0.000200</td>\n",
       "      <td>-0.000240</td>\n",
       "      <td>-0.000200</td>\n",
       "      <td>-0.000114</td>\n",
       "      <td>-0.000043</td>\n",
       "      <td>-0.000010</td>\n",
       "      <td>...</td>\n",
       "      <td>-0.000043</td>\n",
       "      <td>-0.000086</td>\n",
       "      <td>-0.000043</td>\n",
       "      <td>-0.000086</td>\n",
       "      <td>-0.000086</td>\n",
       "      <td>-0.000043</td>\n",
       "      <td>-0.000010</td>\n",
       "      <td>-9.536743e-06</td>\n",
       "      <td>-9.536743e-06</td>\n",
       "      <td>-9.536743e-07</td>\n",
       "    </tr>\n",
       "    <tr>\n",
       "      <th>25%</th>\n",
       "      <td>-9.536743e-07</td>\n",
       "      <td>-0.000010</td>\n",
       "      <td>-0.000043</td>\n",
       "      <td>-0.000114</td>\n",
       "      <td>-0.000200</td>\n",
       "      <td>-0.000240</td>\n",
       "      <td>-0.000200</td>\n",
       "      <td>-0.000114</td>\n",
       "      <td>-0.000043</td>\n",
       "      <td>-0.000010</td>\n",
       "      <td>...</td>\n",
       "      <td>-0.000043</td>\n",
       "      <td>-0.000086</td>\n",
       "      <td>-0.000043</td>\n",
       "      <td>-0.000086</td>\n",
       "      <td>-0.000086</td>\n",
       "      <td>-0.000043</td>\n",
       "      <td>-0.000010</td>\n",
       "      <td>-9.536743e-06</td>\n",
       "      <td>-9.536743e-06</td>\n",
       "      <td>-9.536743e-07</td>\n",
       "    </tr>\n",
       "    <tr>\n",
       "      <th>50%</th>\n",
       "      <td>-9.536743e-07</td>\n",
       "      <td>-0.000010</td>\n",
       "      <td>-0.000043</td>\n",
       "      <td>-0.000114</td>\n",
       "      <td>-0.000200</td>\n",
       "      <td>-0.000237</td>\n",
       "      <td>-0.000199</td>\n",
       "      <td>-0.000114</td>\n",
       "      <td>-0.000043</td>\n",
       "      <td>-0.000010</td>\n",
       "      <td>...</td>\n",
       "      <td>0.000014</td>\n",
       "      <td>0.000064</td>\n",
       "      <td>0.000047</td>\n",
       "      <td>0.000124</td>\n",
       "      <td>0.000114</td>\n",
       "      <td>0.000043</td>\n",
       "      <td>-0.000010</td>\n",
       "      <td>4.632568e-07</td>\n",
       "      <td>4.632568e-07</td>\n",
       "      <td>-9.536743e-07</td>\n",
       "    </tr>\n",
       "    <tr>\n",
       "      <th>75%</th>\n",
       "      <td>-9.536743e-07</td>\n",
       "      <td>-0.000003</td>\n",
       "      <td>-0.000013</td>\n",
       "      <td>-0.000004</td>\n",
       "      <td>-0.000011</td>\n",
       "      <td>0.000003</td>\n",
       "      <td>-0.000030</td>\n",
       "      <td>0.000004</td>\n",
       "      <td>-0.000028</td>\n",
       "      <td>-0.000010</td>\n",
       "      <td>...</td>\n",
       "      <td>0.000111</td>\n",
       "      <td>0.000463</td>\n",
       "      <td>0.000297</td>\n",
       "      <td>0.000684</td>\n",
       "      <td>0.000774</td>\n",
       "      <td>0.000365</td>\n",
       "      <td>0.000030</td>\n",
       "      <td>6.046326e-05</td>\n",
       "      <td>6.946326e-05</td>\n",
       "      <td>-9.536743e-07</td>\n",
       "    </tr>\n",
       "    <tr>\n",
       "      <th>max</th>\n",
       "      <td>9.999046e-03</td>\n",
       "      <td>0.009990</td>\n",
       "      <td>0.009957</td>\n",
       "      <td>0.009886</td>\n",
       "      <td>0.019800</td>\n",
       "      <td>0.019760</td>\n",
       "      <td>0.019800</td>\n",
       "      <td>0.009886</td>\n",
       "      <td>0.009957</td>\n",
       "      <td>0.009990</td>\n",
       "      <td>...</td>\n",
       "      <td>0.019957</td>\n",
       "      <td>0.019914</td>\n",
       "      <td>0.019957</td>\n",
       "      <td>0.019914</td>\n",
       "      <td>0.019914</td>\n",
       "      <td>0.019957</td>\n",
       "      <td>0.009990</td>\n",
       "      <td>9.990463e-03</td>\n",
       "      <td>1.999046e-02</td>\n",
       "      <td>9.990463e-04</td>\n",
       "    </tr>\n",
       "  </tbody>\n",
       "</table>\n",
       "<p>8 rows × 286 columns</p>\n",
       "</div>"
      ],
      "text/plain": [
       "          A0T0G0C10       A0T0G1C9       A0T0G2C8       A0T0G3C7  \\\n",
       "count  2.000000e+05  200000.000000  200000.000000  200000.000000   \n",
       "mean   6.421457e-07      -0.000003      -0.000014      -0.000010   \n",
       "std    8.654927e-05       0.000132       0.000287       0.000436   \n",
       "min   -9.536743e-07      -0.000010      -0.000043      -0.000114   \n",
       "25%   -9.536743e-07      -0.000010      -0.000043      -0.000114   \n",
       "50%   -9.536743e-07      -0.000010      -0.000043      -0.000114   \n",
       "75%   -9.536743e-07      -0.000003      -0.000013      -0.000004   \n",
       "max    9.999046e-03       0.009990       0.009957       0.009886   \n",
       "\n",
       "            A0T0G4C6       A0T0G5C5       A0T0G6C4       A0T0G7C3  \\\n",
       "count  200000.000000  200000.000000  200000.000000  200000.000000   \n",
       "mean        0.000005       0.000025       0.000014      -0.000009   \n",
       "std         0.000683       0.000869       0.000775       0.000441   \n",
       "min        -0.000200      -0.000240      -0.000200      -0.000114   \n",
       "25%        -0.000200      -0.000240      -0.000200      -0.000114   \n",
       "50%        -0.000200      -0.000237      -0.000199      -0.000114   \n",
       "75%        -0.000011       0.000003      -0.000030       0.000004   \n",
       "max         0.019800       0.019760       0.019800       0.009886   \n",
       "\n",
       "            A0T0G8C2       A0T0G9C1  ...       A8T0G0C2       A8T0G1C1  \\\n",
       "count  200000.000000  200000.000000  ...  200000.000000  200000.000000   \n",
       "mean       -0.000028      -0.000008  ...       0.000135       0.000348   \n",
       "std         0.000107       0.000083  ...       0.000711       0.001117   \n",
       "min        -0.000043      -0.000010  ...      -0.000043      -0.000086   \n",
       "25%        -0.000043      -0.000010  ...      -0.000043      -0.000086   \n",
       "50%        -0.000043      -0.000010  ...       0.000014       0.000064   \n",
       "75%        -0.000028      -0.000010  ...       0.000111       0.000463   \n",
       "max         0.009957       0.009990  ...       0.019957       0.019914   \n",
       "\n",
       "            A8T0G2C0       A8T1G0C1       A8T1G1C0       A8T2G0C0  \\\n",
       "count  200000.000000  200000.000000  200000.000000  200000.000000   \n",
       "mean        0.000253       0.000464       0.000581       0.000379   \n",
       "std         0.000914       0.001238       0.001528       0.001182   \n",
       "min        -0.000043      -0.000086      -0.000086      -0.000043   \n",
       "25%        -0.000043      -0.000086      -0.000086      -0.000043   \n",
       "50%         0.000047       0.000124       0.000114       0.000043   \n",
       "75%         0.000297       0.000684       0.000774       0.000365   \n",
       "max         0.019957       0.019914       0.019914       0.019957   \n",
       "\n",
       "            A9T0G0C1      A9T0G1C0      A9T1G0C0     A10T0G0C0  \n",
       "count  200000.000000  2.000000e+05  2.000000e+05  2.000000e+05  \n",
       "mean        0.000062  8.982134e-05  1.170014e-04  2.215407e-07  \n",
       "std         0.000466  5.475606e-04  6.788277e-04  2.050081e-05  \n",
       "min        -0.000010 -9.536743e-06 -9.536743e-06 -9.536743e-07  \n",
       "25%        -0.000010 -9.536743e-06 -9.536743e-06 -9.536743e-07  \n",
       "50%        -0.000010  4.632568e-07  4.632568e-07 -9.536743e-07  \n",
       "75%         0.000030  6.046326e-05  6.946326e-05 -9.536743e-07  \n",
       "max         0.009990  9.990463e-03  1.999046e-02  9.990463e-04  \n",
       "\n",
       "[8 rows x 286 columns]"
      ]
     },
     "execution_count": 10,
     "metadata": {},
     "output_type": "execute_result"
    }
   ],
   "source": [
    "df.describe()"
   ]
  },
  {
   "cell_type": "code",
   "execution_count": 11,
   "id": "2128bca3",
   "metadata": {
    "execution": {
     "iopub.execute_input": "2022-03-09T14:53:21.301467Z",
     "iopub.status.busy": "2022-03-09T14:53:21.300828Z",
     "iopub.status.idle": "2022-03-09T14:53:21.637106Z",
     "shell.execute_reply": "2022-03-09T14:53:21.636458Z",
     "shell.execute_reply.started": "2022-03-09T14:23:12.176194Z"
    },
    "papermill": {
     "duration": 0.413727,
     "end_time": "2022-03-09T14:53:21.637248",
     "exception": false,
     "start_time": "2022-03-09T14:53:21.223521",
     "status": "completed"
    },
    "tags": []
   },
   "outputs": [
    {
     "data": {
      "image/png": "[encoded data removed]",
      "text/plain": [
       "<Figure size 432x288 with 1 Axes>"
      ]
     },
     "metadata": {
      "needs_background": "light"
     },
     "output_type": "display_data"
    }
   ],
   "source": [
    "# Plot the distribution of values for the target column\n",
    "df[\"target\"].value_counts().plot(kind=\"bar\");"
   ]
  },
  {
   "cell_type": "markdown",
   "id": "55c149bf",
   "metadata": {
    "papermill": {
     "duration": 0.072946,
     "end_time": "2022-03-09T14:53:21.788024",
     "exception": false,
     "start_time": "2022-03-09T14:53:21.715078",
     "status": "completed"
    },
    "tags": []
   },
   "source": [
    "As we can see, the different classes in the dataset are balanced."
   ]
  },
  {
   "cell_type": "markdown",
   "id": "ad4aaad1",
   "metadata": {
    "papermill": {
     "duration": 0.07267,
     "end_time": "2022-03-09T14:53:21.934008",
     "exception": false,
     "start_time": "2022-03-09T14:53:21.861338",
     "status": "completed"
    },
    "tags": []
   },
   "source": [
    "## **Target Labels Encoding**"
   ]
  },
  {
   "cell_type": "code",
   "execution_count": 12,
   "id": "5b3381cc",
   "metadata": {
    "execution": {
     "iopub.execute_input": "2022-03-09T14:53:22.089940Z",
     "iopub.status.busy": "2022-03-09T14:53:22.089122Z",
     "iopub.status.idle": "2022-03-09T14:53:23.045899Z",
     "shell.execute_reply": "2022-03-09T14:53:23.046509Z",
     "shell.execute_reply.started": "2022-03-09T14:23:12.522721Z"
    },
    "papermill": {
     "duration": 1.037202,
     "end_time": "2022-03-09T14:53:23.046808",
     "exception": false,
     "start_time": "2022-03-09T14:53:22.009606",
     "status": "completed"
    },
    "tags": []
   },
   "outputs": [],
   "source": [
    "from sklearn.preprocessing import LabelEncoder"
   ]
  },
  {
   "cell_type": "code",
   "execution_count": 13,
   "id": "e7a7f6d5",
   "metadata": {
    "execution": {
     "iopub.execute_input": "2022-03-09T14:53:23.199367Z",
     "iopub.status.busy": "2022-03-09T14:53:23.198705Z",
     "iopub.status.idle": "2022-03-09T14:53:23.295072Z",
     "shell.execute_reply": "2022-03-09T14:53:23.295925Z",
     "shell.execute_reply.started": "2022-03-09T14:23:13.478102Z"
    },
    "papermill": {
     "duration": 0.175159,
     "end_time": "2022-03-09T14:53:23.296204",
     "exception": false,
     "start_time": "2022-03-09T14:53:23.121045",
     "status": "completed"
    },
    "tags": []
   },
   "outputs": [
    {
     "data": {
      "text/html": [
       "<div>\n",
       "<style scoped>\n",
       "    .dataframe tbody tr th:only-of-type {\n",
       "        vertical-align: middle;\n",
       "    }\n",
       "\n",
       "    .dataframe tbody tr th {\n",
       "        vertical-align: top;\n",
       "    }\n",
       "\n",
       "    .dataframe thead th {\n",
       "        text-align: right;\n",
       "    }\n",
       "</style>\n",
       "<table border=\"1\" class=\"dataframe\">\n",
       "  <thead>\n",
       "    <tr style=\"text-align: right;\">\n",
       "      <th></th>\n",
       "      <th>A0T0G0C10</th>\n",
       "      <th>A0T0G1C9</th>\n",
       "      <th>A0T0G2C8</th>\n",
       "      <th>A0T0G3C7</th>\n",
       "      <th>A0T0G4C6</th>\n",
       "      <th>A0T0G5C5</th>\n",
       "      <th>A0T0G6C4</th>\n",
       "      <th>A0T0G7C3</th>\n",
       "      <th>A0T0G8C2</th>\n",
       "      <th>A0T0G9C1</th>\n",
       "      <th>...</th>\n",
       "      <th>A8T0G1C1</th>\n",
       "      <th>A8T0G2C0</th>\n",
       "      <th>A8T1G0C1</th>\n",
       "      <th>A8T1G1C0</th>\n",
       "      <th>A8T2G0C0</th>\n",
       "      <th>A9T0G0C1</th>\n",
       "      <th>A9T0G1C0</th>\n",
       "      <th>A9T1G0C0</th>\n",
       "      <th>A10T0G0C0</th>\n",
       "      <th>target</th>\n",
       "    </tr>\n",
       "  </thead>\n",
       "  <tbody>\n",
       "    <tr>\n",
       "      <th>0</th>\n",
       "      <td>-9.536743e-07</td>\n",
       "      <td>-0.000010</td>\n",
       "      <td>-0.000043</td>\n",
       "      <td>-0.000114</td>\n",
       "      <td>-0.000200</td>\n",
       "      <td>-0.000240</td>\n",
       "      <td>-0.000200</td>\n",
       "      <td>-0.000114</td>\n",
       "      <td>-0.000043</td>\n",
       "      <td>-0.000010</td>\n",
       "      <td>...</td>\n",
       "      <td>-0.000086</td>\n",
       "      <td>-0.000043</td>\n",
       "      <td>-0.000086</td>\n",
       "      <td>-0.000086</td>\n",
       "      <td>-0.000043</td>\n",
       "      <td>-0.000010</td>\n",
       "      <td>-0.000010</td>\n",
       "      <td>-0.000010</td>\n",
       "      <td>-9.536743e-07</td>\n",
       "      <td>9</td>\n",
       "    </tr>\n",
       "    <tr>\n",
       "      <th>1</th>\n",
       "      <td>-9.536743e-07</td>\n",
       "      <td>-0.000010</td>\n",
       "      <td>-0.000043</td>\n",
       "      <td>0.000886</td>\n",
       "      <td>-0.000200</td>\n",
       "      <td>0.000760</td>\n",
       "      <td>-0.000200</td>\n",
       "      <td>-0.000114</td>\n",
       "      <td>-0.000043</td>\n",
       "      <td>-0.000010</td>\n",
       "      <td>...</td>\n",
       "      <td>-0.000086</td>\n",
       "      <td>-0.000043</td>\n",
       "      <td>0.000914</td>\n",
       "      <td>0.000914</td>\n",
       "      <td>-0.000043</td>\n",
       "      <td>-0.000010</td>\n",
       "      <td>-0.000010</td>\n",
       "      <td>-0.000010</td>\n",
       "      <td>-9.536743e-07</td>\n",
       "      <td>6</td>\n",
       "    </tr>\n",
       "    <tr>\n",
       "      <th>2</th>\n",
       "      <td>-9.536743e-07</td>\n",
       "      <td>-0.000002</td>\n",
       "      <td>0.000007</td>\n",
       "      <td>0.000129</td>\n",
       "      <td>0.000268</td>\n",
       "      <td>0.000270</td>\n",
       "      <td>0.000243</td>\n",
       "      <td>0.000125</td>\n",
       "      <td>0.000001</td>\n",
       "      <td>-0.000007</td>\n",
       "      <td>...</td>\n",
       "      <td>0.000084</td>\n",
       "      <td>0.000048</td>\n",
       "      <td>0.000081</td>\n",
       "      <td>0.000106</td>\n",
       "      <td>0.000072</td>\n",
       "      <td>0.000010</td>\n",
       "      <td>0.000008</td>\n",
       "      <td>0.000019</td>\n",
       "      <td>1.046326e-06</td>\n",
       "      <td>6</td>\n",
       "    </tr>\n",
       "    <tr>\n",
       "      <th>3</th>\n",
       "      <td>4.632568e-08</td>\n",
       "      <td>-0.000006</td>\n",
       "      <td>0.000012</td>\n",
       "      <td>0.000245</td>\n",
       "      <td>0.000492</td>\n",
       "      <td>0.000522</td>\n",
       "      <td>0.000396</td>\n",
       "      <td>0.000197</td>\n",
       "      <td>-0.000003</td>\n",
       "      <td>-0.000007</td>\n",
       "      <td>...</td>\n",
       "      <td>0.000151</td>\n",
       "      <td>0.000100</td>\n",
       "      <td>0.000180</td>\n",
       "      <td>0.000202</td>\n",
       "      <td>0.000153</td>\n",
       "      <td>0.000021</td>\n",
       "      <td>0.000015</td>\n",
       "      <td>0.000046</td>\n",
       "      <td>-9.536743e-07</td>\n",
       "      <td>6</td>\n",
       "    </tr>\n",
       "    <tr>\n",
       "      <th>4</th>\n",
       "      <td>-9.536743e-07</td>\n",
       "      <td>-0.000010</td>\n",
       "      <td>-0.000043</td>\n",
       "      <td>-0.000114</td>\n",
       "      <td>-0.000200</td>\n",
       "      <td>-0.000240</td>\n",
       "      <td>-0.000200</td>\n",
       "      <td>-0.000114</td>\n",
       "      <td>-0.000043</td>\n",
       "      <td>-0.000010</td>\n",
       "      <td>...</td>\n",
       "      <td>-0.000086</td>\n",
       "      <td>-0.000043</td>\n",
       "      <td>-0.000086</td>\n",
       "      <td>-0.000086</td>\n",
       "      <td>-0.000043</td>\n",
       "      <td>-0.000010</td>\n",
       "      <td>-0.000010</td>\n",
       "      <td>-0.000010</td>\n",
       "      <td>-9.536743e-07</td>\n",
       "      <td>2</td>\n",
       "    </tr>\n",
       "  </tbody>\n",
       "</table>\n",
       "<p>5 rows × 287 columns</p>\n",
       "</div>"
      ],
      "text/plain": [
       "      A0T0G0C10  A0T0G1C9  A0T0G2C8  A0T0G3C7  A0T0G4C6  A0T0G5C5  A0T0G6C4  \\\n",
       "0 -9.536743e-07 -0.000010 -0.000043 -0.000114 -0.000200 -0.000240 -0.000200   \n",
       "1 -9.536743e-07 -0.000010 -0.000043  0.000886 -0.000200  0.000760 -0.000200   \n",
       "2 -9.536743e-07 -0.000002  0.000007  0.000129  0.000268  0.000270  0.000243   \n",
       "3  4.632568e-08 -0.000006  0.000012  0.000245  0.000492  0.000522  0.000396   \n",
       "4 -9.536743e-07 -0.000010 -0.000043 -0.000114 -0.000200 -0.000240 -0.000200   \n",
       "\n",
       "   A0T0G7C3  A0T0G8C2  A0T0G9C1  ...  A8T0G1C1  A8T0G2C0  A8T1G0C1  A8T1G1C0  \\\n",
       "0 -0.000114 -0.000043 -0.000010  ... -0.000086 -0.000043 -0.000086 -0.000086   \n",
       "1 -0.000114 -0.000043 -0.000010  ... -0.000086 -0.000043  0.000914  0.000914   \n",
       "2  0.000125  0.000001 -0.000007  ...  0.000084  0.000048  0.000081  0.000106   \n",
       "3  0.000197 -0.000003 -0.000007  ...  0.000151  0.000100  0.000180  0.000202   \n",
       "4 -0.000114 -0.000043 -0.000010  ... -0.000086 -0.000043 -0.000086 -0.000086   \n",
       "\n",
       "   A8T2G0C0  A9T0G0C1  A9T0G1C0  A9T1G0C0     A10T0G0C0  target  \n",
       "0 -0.000043 -0.000010 -0.000010 -0.000010 -9.536743e-07       9  \n",
       "1 -0.000043 -0.000010 -0.000010 -0.000010 -9.536743e-07       6  \n",
       "2  0.000072  0.000010  0.000008  0.000019  1.046326e-06       6  \n",
       "3  0.000153  0.000021  0.000015  0.000046 -9.536743e-07       6  \n",
       "4 -0.000043 -0.000010 -0.000010 -0.000010 -9.536743e-07       2  \n",
       "\n",
       "[5 rows x 287 columns]"
      ]
     },
     "execution_count": 13,
     "metadata": {},
     "output_type": "execute_result"
    }
   ],
   "source": [
    "# Label encoding of the target.\n",
    "# We will map each of the 10 different target classess to an intger in the range 0-9\n",
    "label_encoder = LabelEncoder()\n",
    "df[\"target\"] = label_encoder.fit(df[\"target\"]).transform(df[\"target\"])\n",
    "df.head()"
   ]
  },
  {
   "cell_type": "markdown",
   "id": "02c747b8",
   "metadata": {
    "papermill": {
     "duration": 0.082542,
     "end_time": "2022-03-09T14:53:23.464465",
     "exception": false,
     "start_time": "2022-03-09T14:53:23.381923",
     "status": "completed"
    },
    "tags": []
   },
   "source": [
    "## **Train-Test Split**"
   ]
  },
  {
   "cell_type": "code",
   "execution_count": 14,
   "id": "29fd3bb6",
   "metadata": {
    "execution": {
     "iopub.execute_input": "2022-03-09T14:53:23.651470Z",
     "iopub.status.busy": "2022-03-09T14:53:23.650582Z",
     "iopub.status.idle": "2022-03-09T14:53:23.714032Z",
     "shell.execute_reply": "2022-03-09T14:53:23.713381Z",
     "shell.execute_reply.started": "2022-03-09T14:23:13.570057Z"
    },
    "papermill": {
     "duration": 0.170565,
     "end_time": "2022-03-09T14:53:23.714202",
     "exception": false,
     "start_time": "2022-03-09T14:53:23.543637",
     "status": "completed"
    },
    "tags": []
   },
   "outputs": [],
   "source": [
    "# Imports\n",
    "from sklearn.model_selection import train_test_split"
   ]
  },
  {
   "cell_type": "code",
   "execution_count": 15,
   "id": "8fbe51c7",
   "metadata": {
    "execution": {
     "iopub.execute_input": "2022-03-09T14:53:24.026981Z",
     "iopub.status.busy": "2022-03-09T14:53:24.025755Z",
     "iopub.status.idle": "2022-03-09T14:53:24.666744Z",
     "shell.execute_reply": "2022-03-09T14:53:24.665612Z",
     "shell.execute_reply.started": "2022-03-09T14:23:13.630854Z"
    },
    "papermill": {
     "duration": 0.870203,
     "end_time": "2022-03-09T14:53:24.666934",
     "exception": false,
     "start_time": "2022-03-09T14:53:23.796731",
     "status": "completed"
    },
    "tags": []
   },
   "outputs": [],
   "source": [
    "X_train, X_test, Y_train, Y_test = train_test_split(df.drop(columns=[\"target\"]), df[\"target\"], test_size=0.33, stratify=df[\"target\"], random_state=random_seed)"
   ]
  },
  {
   "cell_type": "code",
   "execution_count": 16,
   "id": "41725f50",
   "metadata": {
    "execution": {
     "iopub.execute_input": "2022-03-09T14:53:24.837145Z",
     "iopub.status.busy": "2022-03-09T14:53:24.836243Z",
     "iopub.status.idle": "2022-03-09T14:53:24.839922Z",
     "shell.execute_reply": "2022-03-09T14:53:24.840461Z",
     "shell.execute_reply.started": "2022-03-09T14:23:14.424702Z"
    },
    "papermill": {
     "duration": 0.091406,
     "end_time": "2022-03-09T14:53:24.840668",
     "exception": false,
     "start_time": "2022-03-09T14:53:24.749262",
     "status": "completed"
    },
    "tags": []
   },
   "outputs": [
    {
     "name": "stdout",
     "output_type": "stream",
     "text": [
      "X_train shape: (134000, 286)\n",
      "Y_train shape: (134000,)\n",
      "X_test shape: (66000, 286)\n",
      "Y_test shape: (66000,)\n"
     ]
    }
   ],
   "source": [
    "print(f\"X_train shape: {X_train.shape}\")\n",
    "print(f\"Y_train shape: {Y_train.shape}\")\n",
    "print(f\"X_test shape: {X_test.shape}\")\n",
    "print(f\"Y_test shape: {Y_test.shape}\")"
   ]
  },
  {
   "cell_type": "markdown",
   "id": "2de3ee71",
   "metadata": {
    "papermill": {
     "duration": 0.079922,
     "end_time": "2022-03-09T14:53:24.999455",
     "exception": false,
     "start_time": "2022-03-09T14:53:24.919533",
     "status": "completed"
    },
    "tags": []
   },
   "source": [
    "## **Utility Functions Definition**"
   ]
  },
  {
   "cell_type": "code",
   "execution_count": 17,
   "id": "eca8f04a",
   "metadata": {
    "execution": {
     "iopub.execute_input": "2022-03-09T14:53:25.164663Z",
     "iopub.status.busy": "2022-03-09T14:53:25.163845Z",
     "iopub.status.idle": "2022-03-09T14:53:25.269254Z",
     "shell.execute_reply": "2022-03-09T14:53:25.269861Z",
     "shell.execute_reply.started": "2022-03-09T14:23:14.434023Z"
    },
    "papermill": {
     "duration": 0.189053,
     "end_time": "2022-03-09T14:53:25.270067",
     "exception": false,
     "start_time": "2022-03-09T14:53:25.081014",
     "status": "completed"
    },
    "tags": []
   },
   "outputs": [],
   "source": [
    "from sklearn.preprocessing import StandardScaler\n",
    "from sklearn.decomposition import PCA\n",
    "from sklearn.pipeline import Pipeline"
   ]
  },
  {
   "cell_type": "code",
   "execution_count": 18,
   "id": "7b442a7d",
   "metadata": {
    "execution": {
     "iopub.execute_input": "2022-03-09T14:53:25.429632Z",
     "iopub.status.busy": "2022-03-09T14:53:25.428505Z",
     "iopub.status.idle": "2022-03-09T14:53:25.430740Z",
     "shell.execute_reply": "2022-03-09T14:53:25.431295Z",
     "shell.execute_reply.started": "2022-03-09T14:23:14.575538Z"
    },
    "papermill": {
     "duration": 0.086215,
     "end_time": "2022-03-09T14:53:25.431525",
     "exception": false,
     "start_time": "2022-03-09T14:53:25.345310",
     "status": "completed"
    },
    "tags": []
   },
   "outputs": [],
   "source": [
    "# Print grid search results\n",
    "def print_grid_search_results(gscv):\n",
    "    print(\"Best parameters set found on train set:\")\n",
    "    print(gscv.best_params_)\n",
    "    print(\"\\n\")\n",
    "    print(\"Grid scores on train set:\")\n",
    "    for param, mean, std in zip(gscv.cv_results_['params'], gscv.cv_results_['mean_test_score'], gscv.cv_results_['std_test_score']):\n",
    "        print(\"%r mean: %0.3f std: +/- %0.03f)\" % (param, mean, std))\n",
    "    print(\"\\n\")"
   ]
  },
  {
   "cell_type": "code",
   "execution_count": 19,
   "id": "09a6033e",
   "metadata": {
    "execution": {
     "iopub.execute_input": "2022-03-09T14:53:25.589627Z",
     "iopub.status.busy": "2022-03-09T14:53:25.588909Z",
     "iopub.status.idle": "2022-03-09T14:53:25.591417Z",
     "shell.execute_reply": "2022-03-09T14:53:25.591978Z",
     "shell.execute_reply.started": "2022-03-09T14:23:14.585512Z"
    },
    "papermill": {
     "duration": 0.084431,
     "end_time": "2022-03-09T14:53:25.592175",
     "exception": false,
     "start_time": "2022-03-09T14:53:25.507744",
     "status": "completed"
    },
    "tags": []
   },
   "outputs": [],
   "source": [
    "# Show x-y curve plot\n",
    "def show_curve(x, y, x_label, y_label, title):\n",
    "    plt.figure(figsize=(10,5))\n",
    "    plt.plot(x, y, '-o', linewidth=5, markersize=24)\n",
    "    plt.xlabel(x_label)\n",
    "    plt.ylabel(y_label)\n",
    "    plt.title(title, fontsize = 10)\n",
    "    plt.show();"
   ]
  },
  {
   "cell_type": "code",
   "execution_count": 20,
   "id": "b76a9141",
   "metadata": {
    "execution": {
     "iopub.execute_input": "2022-03-09T14:53:25.755912Z",
     "iopub.status.busy": "2022-03-09T14:53:25.755184Z",
     "iopub.status.idle": "2022-03-09T14:53:25.760091Z",
     "shell.execute_reply": "2022-03-09T14:53:25.760627Z",
     "shell.execute_reply.started": "2022-03-09T14:23:14.605183Z"
    },
    "papermill": {
     "duration": 0.089502,
     "end_time": "2022-03-09T14:53:25.760818",
     "exception": false,
     "start_time": "2022-03-09T14:53:25.671316",
     "status": "completed"
    },
    "tags": []
   },
   "outputs": [],
   "source": [
    "# Construct a ML pipeline with initial PCA\n",
    "def build_PCA_pipeline(classifier, pca_n_components=None):\n",
    "    st_scaler = StandardScaler()\n",
    "    pca = PCA(n_components=pca_n_components)\n",
    "    pipe = Pipeline(steps=[(\"st_scaler\", st_scaler), (\"pca\", pca), (\"classifier\", classifier)])\n",
    "    return pipe"
   ]
  },
  {
   "cell_type": "markdown",
   "id": "f9d34f55",
   "metadata": {
    "papermill": {
     "duration": 0.080061,
     "end_time": "2022-03-09T14:53:25.920506",
     "exception": false,
     "start_time": "2022-03-09T14:53:25.840445",
     "status": "completed"
    },
    "tags": []
   },
   "source": [
    "## **Dimensionality Reduction** "
   ]
  },
  {
   "cell_type": "markdown",
   "id": "bcc458fa",
   "metadata": {
    "papermill": {
     "duration": 0.079399,
     "end_time": "2022-03-09T14:53:26.077284",
     "exception": false,
     "start_time": "2022-03-09T14:53:25.997885",
     "status": "completed"
    },
    "tags": []
   },
   "source": [
    "### **Grid Search with Cross Validation to find the best value for n_components of PCA**"
   ]
  },
  {
   "cell_type": "code",
   "execution_count": 21,
   "id": "9cc33bef",
   "metadata": {
    "execution": {
     "iopub.execute_input": "2022-03-09T14:53:26.236199Z",
     "iopub.status.busy": "2022-03-09T14:53:26.235353Z",
     "iopub.status.idle": "2022-03-09T14:53:26.307807Z",
     "shell.execute_reply": "2022-03-09T14:53:26.308371Z",
     "shell.execute_reply.started": "2022-03-09T14:23:14.621487Z"
    },
    "papermill": {
     "duration": 0.154234,
     "end_time": "2022-03-09T14:53:26.308599",
     "exception": false,
     "start_time": "2022-03-09T14:53:26.154365",
     "status": "completed"
    },
    "tags": []
   },
   "outputs": [],
   "source": [
    "from sklearn.tree import DecisionTreeClassifier\n",
    "from sklearn.model_selection import GridSearchCV"
   ]
  },
  {
   "cell_type": "code",
   "execution_count": 22,
   "id": "5c8e5b46",
   "metadata": {
    "execution": {
     "iopub.execute_input": "2022-03-09T14:53:26.472656Z",
     "iopub.status.busy": "2022-03-09T14:53:26.471665Z",
     "iopub.status.idle": "2022-03-09T14:53:26.475727Z",
     "shell.execute_reply": "2022-03-09T14:53:26.476314Z",
     "shell.execute_reply.started": "2022-03-09T14:23:14.706252Z"
    },
    "papermill": {
     "duration": 0.086886,
     "end_time": "2022-03-09T14:53:26.476524",
     "exception": false,
     "start_time": "2022-03-09T14:53:26.389638",
     "status": "completed"
    },
    "tags": []
   },
   "outputs": [],
   "source": [
    "classifier = DecisionTreeClassifier(criterion=\"entropy\", random_state=random_seed)\n",
    "pipe = build_PCA_pipeline(classifier)"
   ]
  },
  {
   "cell_type": "code",
   "execution_count": 23,
   "id": "81d6375b",
   "metadata": {
    "execution": {
     "iopub.execute_input": "2022-03-09T14:53:26.644849Z",
     "iopub.status.busy": "2022-03-09T14:53:26.643776Z",
     "iopub.status.idle": "2022-03-09T14:53:26.646046Z",
     "shell.execute_reply": "2022-03-09T14:53:26.646711Z",
     "shell.execute_reply.started": "2022-03-09T14:23:14.713349Z"
    },
    "papermill": {
     "duration": 0.086866,
     "end_time": "2022-03-09T14:53:26.646890",
     "exception": false,
     "start_time": "2022-03-09T14:53:26.560024",
     "status": "completed"
    },
    "tags": []
   },
   "outputs": [],
   "source": [
    "param_grid = {\n",
    "    \"pca__n_components\": [3, 10, 20, 50]\n",
    "}"
   ]
  },
  {
   "cell_type": "code",
   "execution_count": 24,
   "id": "0ff79118",
   "metadata": {
    "execution": {
     "iopub.execute_input": "2022-03-09T14:53:26.811824Z",
     "iopub.status.busy": "2022-03-09T14:53:26.810747Z",
     "iopub.status.idle": "2022-03-09T14:54:34.541124Z",
     "shell.execute_reply": "2022-03-09T14:54:34.541673Z",
     "shell.execute_reply.started": "2022-03-09T14:23:14.731274Z"
    },
    "papermill": {
     "duration": 67.815509,
     "end_time": "2022-03-09T14:54:34.541868",
     "exception": false,
     "start_time": "2022-03-09T14:53:26.726359",
     "status": "completed"
    },
    "tags": []
   },
   "outputs": [
    {
     "name": "stdout",
     "output_type": "stream",
     "text": [
      "Fitting 2 folds for each of 4 candidates, totalling 8 fits\n",
      "[CV] pca__n_components=3 .............................................\n"
     ]
    },
    {
     "name": "stderr",
     "output_type": "stream",
     "text": [
      "[Parallel(n_jobs=1)]: Using backend SequentialBackend with 1 concurrent workers.\n"
     ]
    },
    {
     "name": "stdout",
     "output_type": "stream",
     "text": [
      "[CV] .............................. pca__n_components=3, total=   4.3s\n",
      "[CV] pca__n_components=3 .............................................\n"
     ]
    },
    {
     "name": "stderr",
     "output_type": "stream",
     "text": [
      "[Parallel(n_jobs=1)]: Done   1 out of   1 | elapsed:    4.3s remaining:    0.0s\n"
     ]
    },
    {
     "name": "stdout",
     "output_type": "stream",
     "text": [
      "[CV] .............................. pca__n_components=3, total=   4.4s\n",
      "[CV] pca__n_components=10 ............................................\n",
      "[CV] ............................. pca__n_components=10, total=   5.6s\n",
      "[CV] pca__n_components=10 ............................................\n",
      "[CV] ............................. pca__n_components=10, total=   5.3s\n",
      "[CV] pca__n_components=20 ............................................\n",
      "[CV] ............................. pca__n_components=20, total=   7.6s\n",
      "[CV] pca__n_components=20 ............................................\n",
      "[CV] ............................. pca__n_components=20, total=   7.6s\n",
      "[CV] pca__n_components=50 ............................................\n",
      "[CV] ............................. pca__n_components=50, total=  12.5s\n",
      "[CV] pca__n_components=50 ............................................\n",
      "[CV] ............................. pca__n_components=50, total=  13.1s\n"
     ]
    },
    {
     "name": "stderr",
     "output_type": "stream",
     "text": [
      "[Parallel(n_jobs=1)]: Done   8 out of   8 | elapsed:  1.0min finished\n"
     ]
    }
   ],
   "source": [
    "grid_search = GridSearchCV(pipe, param_grid, cv=2, verbose=2)\n",
    "grid_search.fit(X_train, Y_train);"
   ]
  },
  {
   "cell_type": "code",
   "execution_count": 25,
   "id": "fc83c0aa",
   "metadata": {
    "execution": {
     "iopub.execute_input": "2022-03-09T14:54:34.709355Z",
     "iopub.status.busy": "2022-03-09T14:54:34.708759Z",
     "iopub.status.idle": "2022-03-09T14:54:34.715602Z",
     "shell.execute_reply": "2022-03-09T14:54:34.716296Z",
     "shell.execute_reply.started": "2022-03-09T14:24:20.391677Z"
    },
    "papermill": {
     "duration": 0.094355,
     "end_time": "2022-03-09T14:54:34.716535",
     "exception": false,
     "start_time": "2022-03-09T14:54:34.622180",
     "status": "completed"
    },
    "tags": []
   },
   "outputs": [
    {
     "name": "stdout",
     "output_type": "stream",
     "text": [
      "Best parameters set found on train set:\n",
      "{'pca__n_components': 3}\n",
      "\n",
      "\n",
      "Grid scores on train set:\n",
      "{'pca__n_components': 3} mean: 0.920 std: +/- 0.000)\n",
      "{'pca__n_components': 10} mean: 0.919 std: +/- 0.001)\n",
      "{'pca__n_components': 20} mean: 0.919 std: +/- 0.001)\n",
      "{'pca__n_components': 50} mean: 0.910 std: +/- 0.001)\n",
      "\n",
      "\n"
     ]
    }
   ],
   "source": [
    "print_grid_search_results(grid_search)"
   ]
  },
  {
   "cell_type": "code",
   "execution_count": 26,
   "id": "e778efd4",
   "metadata": {
    "execution": {
     "iopub.execute_input": "2022-03-09T14:54:34.882690Z",
     "iopub.status.busy": "2022-03-09T14:54:34.881885Z",
     "iopub.status.idle": "2022-03-09T14:54:35.077278Z",
     "shell.execute_reply": "2022-03-09T14:54:35.076796Z"
    },
    "papermill": {
     "duration": 0.280432,
     "end_time": "2022-03-09T14:54:35.077434",
     "exception": false,
     "start_time": "2022-03-09T14:54:34.797002",
     "status": "completed"
    },
    "tags": []
   },
   "outputs": [
    {
     "data": {
      "image/png": "[encoded data removed]",
      "text/plain": [
       "<Figure size 720x360 with 1 Axes>"
      ]
     },
     "metadata": {
      "needs_background": "light"
     },
     "output_type": "display_data"
    }
   ],
   "source": [
    "show_curve(param_grid[\"pca__n_components\"],\n",
    "           grid_search.cv_results_['mean_test_score'],\n",
    "           \"n_components\",\n",
    "           \"accuracy\",\n",
    "           \"Mean score with CV varying n_components of PCA\")"
   ]
  },
  {
   "cell_type": "code",
   "execution_count": 27,
   "id": "8f3b1fb2",
   "metadata": {
    "execution": {
     "iopub.execute_input": "2022-03-09T14:54:35.246615Z",
     "iopub.status.busy": "2022-03-09T14:54:35.245963Z",
     "iopub.status.idle": "2022-03-09T14:54:35.248759Z",
     "shell.execute_reply": "2022-03-09T14:54:35.249202Z",
     "shell.execute_reply.started": "2022-03-09T14:24:20.397831Z"
    },
    "papermill": {
     "duration": 0.087258,
     "end_time": "2022-03-09T14:54:35.249367",
     "exception": false,
     "start_time": "2022-03-09T14:54:35.162109",
     "status": "completed"
    },
    "tags": []
   },
   "outputs": [],
   "source": [
    "pca_n_components = grid_search.best_params_[\"pca__n_components\"]"
   ]
  },
  {
   "cell_type": "markdown",
   "id": "89e9ae5e",
   "metadata": {
    "papermill": {
     "duration": 0.08266,
     "end_time": "2022-03-09T14:54:35.411317",
     "exception": false,
     "start_time": "2022-03-09T14:54:35.328657",
     "status": "completed"
    },
    "tags": []
   },
   "source": [
    "## **ML Models Testing**"
   ]
  },
  {
   "cell_type": "markdown",
   "id": "9b7ab856",
   "metadata": {
    "papermill": {
     "duration": 0.079489,
     "end_time": "2022-03-09T14:54:35.572582",
     "exception": false,
     "start_time": "2022-03-09T14:54:35.493093",
     "status": "completed"
    },
    "tags": []
   },
   "source": [
    "### **Decision Tree Classifier**"
   ]
  },
  {
   "cell_type": "code",
   "execution_count": 28,
   "id": "fc70c01e",
   "metadata": {
    "execution": {
     "iopub.execute_input": "2022-03-09T14:54:35.739117Z",
     "iopub.status.busy": "2022-03-09T14:54:35.738414Z",
     "iopub.status.idle": "2022-03-09T14:54:35.739762Z",
     "shell.execute_reply": "2022-03-09T14:54:35.740361Z",
     "shell.execute_reply.started": "2022-03-09T14:24:20.414819Z"
    },
    "papermill": {
     "duration": 0.087686,
     "end_time": "2022-03-09T14:54:35.740547",
     "exception": false,
     "start_time": "2022-03-09T14:54:35.652861",
     "status": "completed"
    },
    "tags": []
   },
   "outputs": [],
   "source": [
    "from sklearn.tree import DecisionTreeClassifier"
   ]
  },
  {
   "cell_type": "code",
   "execution_count": 29,
   "id": "a5b77321",
   "metadata": {
    "execution": {
     "iopub.execute_input": "2022-03-09T14:54:35.904544Z",
     "iopub.status.busy": "2022-03-09T14:54:35.903855Z",
     "iopub.status.idle": "2022-03-09T14:55:38.996922Z",
     "shell.execute_reply": "2022-03-09T14:55:38.996074Z",
     "shell.execute_reply.started": "2022-03-09T14:24:20.428149Z"
    },
    "papermill": {
     "duration": 63.176646,
     "end_time": "2022-03-09T14:55:38.997352",
     "exception": false,
     "start_time": "2022-03-09T14:54:35.820706",
     "status": "completed"
    },
    "tags": []
   },
   "outputs": [
    {
     "name": "stdout",
     "output_type": "stream",
     "text": [
      "Fitting 2 folds for each of 6 candidates, totalling 12 fits\n",
      "[CV] classifier__max_depth=4 .........................................\n"
     ]
    },
    {
     "name": "stderr",
     "output_type": "stream",
     "text": [
      "[Parallel(n_jobs=1)]: Using backend SequentialBackend with 1 concurrent workers.\n"
     ]
    },
    {
     "name": "stdout",
     "output_type": "stream",
     "text": [
      "[CV] .......................... classifier__max_depth=4, total=   4.0s\n",
      "[CV] classifier__max_depth=4 .........................................\n"
     ]
    },
    {
     "name": "stderr",
     "output_type": "stream",
     "text": [
      "[Parallel(n_jobs=1)]: Done   1 out of   1 | elapsed:    4.0s remaining:    0.0s\n"
     ]
    },
    {
     "name": "stdout",
     "output_type": "stream",
     "text": [
      "[CV] .......................... classifier__max_depth=4, total=   4.1s\n",
      "[CV] classifier__max_depth=8 .........................................\n",
      "[CV] .......................... classifier__max_depth=8, total=   4.2s\n",
      "[CV] classifier__max_depth=8 .........................................\n",
      "[CV] .......................... classifier__max_depth=8, total=   4.3s\n",
      "[CV] classifier__max_depth=16 ........................................\n",
      "[CV] ......................... classifier__max_depth=16, total=   4.5s\n",
      "[CV] classifier__max_depth=16 ........................................\n",
      "[CV] ......................... classifier__max_depth=16, total=   4.6s\n",
      "[CV] classifier__max_depth=20 ........................................\n",
      "[CV] ......................... classifier__max_depth=20, total=   4.8s\n",
      "[CV] classifier__max_depth=20 ........................................\n",
      "[CV] ......................... classifier__max_depth=20, total=   4.4s\n",
      "[CV] classifier__max_depth=24 ........................................\n",
      "[CV] ......................... classifier__max_depth=24, total=   4.4s\n",
      "[CV] classifier__max_depth=24 ........................................\n",
      "[CV] ......................... classifier__max_depth=24, total=   4.8s\n",
      "[CV] classifier__max_depth=26 ........................................\n",
      "[CV] ......................... classifier__max_depth=26, total=   7.0s\n",
      "[CV] classifier__max_depth=26 ........................................\n",
      "[CV] ......................... classifier__max_depth=26, total=   4.5s\n"
     ]
    },
    {
     "name": "stderr",
     "output_type": "stream",
     "text": [
      "[Parallel(n_jobs=1)]: Done  12 out of  12 | elapsed:   55.7s finished\n"
     ]
    }
   ],
   "source": [
    "classifier = DecisionTreeClassifier(criterion=\"entropy\", random_state=random_seed)\n",
    "pipe = build_PCA_pipeline(classifier, pca_n_components)\n",
    "\n",
    "param_grid = {\n",
    "    \"classifier__max_depth\": [4,8,16,20,24,26]\n",
    "}\n",
    "\n",
    "grid_search = GridSearchCV(pipe, param_grid, cv=2, verbose=2)\n",
    "grid_search.fit(X_train, Y_train);"
   ]
  },
  {
   "cell_type": "code",
   "execution_count": 30,
   "id": "705872a1",
   "metadata": {
    "execution": {
     "iopub.execute_input": "2022-03-09T14:55:39.180012Z",
     "iopub.status.busy": "2022-03-09T14:55:39.179237Z",
     "iopub.status.idle": "2022-03-09T14:55:39.186742Z",
     "shell.execute_reply": "2022-03-09T14:55:39.187281Z",
     "shell.execute_reply.started": "2022-03-09T14:25:25.176186Z"
    },
    "papermill": {
     "duration": 0.099328,
     "end_time": "2022-03-09T14:55:39.187481",
     "exception": false,
     "start_time": "2022-03-09T14:55:39.088153",
     "status": "completed"
    },
    "tags": []
   },
   "outputs": [
    {
     "name": "stdout",
     "output_type": "stream",
     "text": [
      "Best parameters set found on train set:\n",
      "{'classifier__max_depth': 26}\n",
      "\n",
      "\n",
      "Grid scores on train set:\n",
      "{'classifier__max_depth': 4} mean: 0.579 std: +/- 0.001)\n",
      "{'classifier__max_depth': 8} mean: 0.750 std: +/- 0.001)\n",
      "{'classifier__max_depth': 16} mean: 0.887 std: +/- 0.001)\n",
      "{'classifier__max_depth': 20} mean: 0.912 std: +/- 0.000)\n",
      "{'classifier__max_depth': 24} mean: 0.919 std: +/- 0.000)\n",
      "{'classifier__max_depth': 26} mean: 0.920 std: +/- 0.001)\n",
      "\n",
      "\n"
     ]
    }
   ],
   "source": [
    "print_grid_search_results(grid_search)"
   ]
  },
  {
   "cell_type": "code",
   "execution_count": 31,
   "id": "4a55c4e6",
   "metadata": {
    "execution": {
     "iopub.execute_input": "2022-03-09T14:55:39.373851Z",
     "iopub.status.busy": "2022-03-09T14:55:39.359984Z",
     "iopub.status.idle": "2022-03-09T14:55:39.556369Z",
     "shell.execute_reply": "2022-03-09T14:55:39.555741Z",
     "shell.execute_reply.started": "2022-03-09T14:25:25.187348Z"
    },
    "papermill": {
     "duration": 0.285005,
     "end_time": "2022-03-09T14:55:39.556540",
     "exception": false,
     "start_time": "2022-03-09T14:55:39.271535",
     "status": "completed"
    },
    "tags": []
   },
   "outputs": [
    {
     "data": {
      "image/png": "[encoded data removed]",
      "text/plain": [
       "<Figure size 720x360 with 1 Axes>"
      ]
     },
     "metadata": {
      "needs_background": "light"
     },
     "output_type": "display_data"
    }
   ],
   "source": [
    "show_curve(param_grid[\"classifier__max_depth\"],\n",
    "           grid_search.cv_results_['mean_test_score'],\n",
    "           \"max_depth\",\n",
    "           \"accuracy\",\n",
    "           \"Mean score with CV varying max_depth of Decision Tree\")"
   ]
  },
  {
   "cell_type": "code",
   "execution_count": 32,
   "id": "e0a9b56c",
   "metadata": {
    "execution": {
     "iopub.execute_input": "2022-03-09T14:55:39.736440Z",
     "iopub.status.busy": "2022-03-09T14:55:39.735601Z",
     "iopub.status.idle": "2022-03-09T14:55:39.738736Z",
     "shell.execute_reply": "2022-03-09T14:55:39.738122Z",
     "shell.execute_reply.started": "2022-03-09T14:25:25.332296Z"
    },
    "papermill": {
     "duration": 0.095437,
     "end_time": "2022-03-09T14:55:39.738868",
     "exception": false,
     "start_time": "2022-03-09T14:55:39.643431",
     "status": "completed"
    },
    "tags": []
   },
   "outputs": [],
   "source": [
    "# Define the final model with the best parameter found\n",
    "best_max_depth = grid_search.best_params_[\"classifier__max_depth\"]\n",
    "tree_model = DecisionTreeClassifier(criterion=\"entropy\", random_state=random_seed, max_depth=best_max_depth)"
   ]
  },
  {
   "cell_type": "markdown",
   "id": "b90a07d9",
   "metadata": {
    "papermill": {
     "duration": 0.0887,
     "end_time": "2022-03-09T14:55:39.914171",
     "exception": false,
     "start_time": "2022-03-09T14:55:39.825471",
     "status": "completed"
    },
    "tags": []
   },
   "source": [
    "## **Random Forest**"
   ]
  },
  {
   "cell_type": "code",
   "execution_count": 33,
   "id": "2b79df12",
   "metadata": {
    "execution": {
     "iopub.execute_input": "2022-03-09T14:55:40.097889Z",
     "iopub.status.busy": "2022-03-09T14:55:40.095788Z",
     "iopub.status.idle": "2022-03-09T14:55:40.128957Z",
     "shell.execute_reply": "2022-03-09T14:55:40.128312Z",
     "shell.execute_reply.started": "2022-03-09T14:25:25.340645Z"
    },
    "papermill": {
     "duration": 0.125754,
     "end_time": "2022-03-09T14:55:40.129125",
     "exception": false,
     "start_time": "2022-03-09T14:55:40.003371",
     "status": "completed"
    },
    "tags": []
   },
   "outputs": [],
   "source": [
    "from sklearn.ensemble import RandomForestClassifier"
   ]
  },
  {
   "cell_type": "code",
   "execution_count": 34,
   "id": "f870540f",
   "metadata": {
    "execution": {
     "iopub.execute_input": "2022-03-09T14:55:40.313895Z",
     "iopub.status.busy": "2022-03-09T14:55:40.312917Z",
     "iopub.status.idle": "2022-03-09T14:57:49.582940Z",
     "shell.execute_reply": "2022-03-09T14:57:49.582103Z",
     "shell.execute_reply.started": "2022-03-09T14:30:25.276634Z"
    },
    "papermill": {
     "duration": 129.364693,
     "end_time": "2022-03-09T14:57:49.583156",
     "exception": false,
     "start_time": "2022-03-09T14:55:40.218463",
     "status": "completed"
    },
    "tags": []
   },
   "outputs": [
    {
     "name": "stdout",
     "output_type": "stream",
     "text": [
      "Fitting 2 folds for each of 2 candidates, totalling 4 fits\n",
      "[CV] classifier__n_estimators=10 .....................................\n"
     ]
    },
    {
     "name": "stderr",
     "output_type": "stream",
     "text": [
      "[Parallel(n_jobs=1)]: Using backend SequentialBackend with 1 concurrent workers.\n"
     ]
    },
    {
     "name": "stdout",
     "output_type": "stream",
     "text": [
      "[CV] ...................... classifier__n_estimators=10, total=   5.8s\n",
      "[CV] classifier__n_estimators=10 .....................................\n"
     ]
    },
    {
     "name": "stderr",
     "output_type": "stream",
     "text": [
      "[Parallel(n_jobs=1)]: Done   1 out of   1 | elapsed:    5.8s remaining:    0.0s\n"
     ]
    },
    {
     "name": "stdout",
     "output_type": "stream",
     "text": [
      "[CV] ...................... classifier__n_estimators=10, total=   5.6s\n",
      "[CV] classifier__n_estimators=150 ....................................\n",
      "[CV] ..................... classifier__n_estimators=150, total=  30.8s\n",
      "[CV] classifier__n_estimators=150 ....................................\n",
      "[CV] ..................... classifier__n_estimators=150, total=  31.3s\n"
     ]
    },
    {
     "name": "stderr",
     "output_type": "stream",
     "text": [
      "[Parallel(n_jobs=1)]: Done   4 out of   4 | elapsed:  1.2min finished\n"
     ]
    }
   ],
   "source": [
    "classifier = RandomForestClassifier(criterion=\"entropy\", random_state=random_seed)\n",
    "pipe = build_PCA_pipeline(classifier, pca_n_components)\n",
    "\n",
    "param_grid = {\n",
    "    #\"classifier__n_estimators\": [5,10,20,50,100,150]\n",
    "    \"classifier__n_estimators\": [10,150]\n",
    "}\n",
    "\n",
    "grid_search = GridSearchCV(pipe, param_grid, cv=2, verbose=2)\n",
    "grid_search.fit(X_train, Y_train);"
   ]
  },
  {
   "cell_type": "code",
   "execution_count": 35,
   "id": "3ed5e604",
   "metadata": {
    "execution": {
     "iopub.execute_input": "2022-03-09T14:57:49.775482Z",
     "iopub.status.busy": "2022-03-09T14:57:49.774820Z",
     "iopub.status.idle": "2022-03-09T14:57:49.779313Z",
     "shell.execute_reply": "2022-03-09T14:57:49.778756Z",
     "shell.execute_reply.started": "2022-03-09T14:32:03.898370Z"
    },
    "papermill": {
     "duration": 0.099458,
     "end_time": "2022-03-09T14:57:49.779486",
     "exception": false,
     "start_time": "2022-03-09T14:57:49.680028",
     "status": "completed"
    },
    "tags": []
   },
   "outputs": [
    {
     "name": "stdout",
     "output_type": "stream",
     "text": [
      "Best parameters set found on train set:\n",
      "{'classifier__n_estimators': 150}\n",
      "\n",
      "\n",
      "Grid scores on train set:\n",
      "{'classifier__n_estimators': 10} mean: 0.926 std: +/- 0.000)\n",
      "{'classifier__n_estimators': 150} mean: 0.932 std: +/- 0.000)\n",
      "\n",
      "\n"
     ]
    }
   ],
   "source": [
    "print_grid_search_results(grid_search)"
   ]
  },
  {
   "cell_type": "code",
   "execution_count": 36,
   "id": "2533f5ca",
   "metadata": {
    "execution": {
     "iopub.execute_input": "2022-03-09T14:57:49.971586Z",
     "iopub.status.busy": "2022-03-09T14:57:49.970911Z",
     "iopub.status.idle": "2022-03-09T14:57:50.129439Z",
     "shell.execute_reply": "2022-03-09T14:57:50.129948Z",
     "shell.execute_reply.started": "2022-03-09T14:32:03.900023Z"
    },
    "papermill": {
     "duration": 0.257794,
     "end_time": "2022-03-09T14:57:50.130138",
     "exception": false,
     "start_time": "2022-03-09T14:57:49.872344",
     "status": "completed"
    },
    "tags": []
   },
   "outputs": [
    {
     "data": {
      "image/png": "[encoded data removed]",
      "text/plain": [
       "<Figure size 720x360 with 1 Axes>"
      ]
     },
     "metadata": {
      "needs_background": "light"
     },
     "output_type": "display_data"
    }
   ],
   "source": [
    "show_curve(param_grid[\"classifier__n_estimators\"],\n",
    "           grid_search.cv_results_['mean_test_score'],\n",
    "           \"n_estimators\",\n",
    "           \"accuracy\",\n",
    "           \"Mean score with CV varying n_estimators of Random Forest\")"
   ]
  },
  {
   "cell_type": "code",
   "execution_count": 37,
   "id": "516cda6d",
   "metadata": {
    "execution": {
     "iopub.execute_input": "2022-03-09T14:57:50.326164Z",
     "iopub.status.busy": "2022-03-09T14:57:50.325442Z",
     "iopub.status.idle": "2022-03-09T14:57:50.329505Z",
     "shell.execute_reply": "2022-03-09T14:57:50.328819Z",
     "shell.execute_reply.started": "2022-03-09T14:32:03.901721Z"
    },
    "papermill": {
     "duration": 0.104914,
     "end_time": "2022-03-09T14:57:50.329671",
     "exception": false,
     "start_time": "2022-03-09T14:57:50.224757",
     "status": "completed"
    },
    "tags": []
   },
   "outputs": [],
   "source": [
    "# Define the final model with the best parameter found\n",
    "best_n_estimators = grid_search.best_params_[\"classifier__n_estimators\"]\n",
    "rnd_forest_model = RandomForestClassifier(criterion=\"entropy\", n_estimators=best_n_estimators, random_state=random_seed)"
   ]
  },
  {
   "cell_type": "markdown",
   "id": "52401618",
   "metadata": {
    "papermill": {
     "duration": 0.096613,
     "end_time": "2022-03-09T14:57:50.520586",
     "exception": false,
     "start_time": "2022-03-09T14:57:50.423973",
     "status": "completed"
    },
    "tags": []
   },
   "source": [
    "### **Extremely Randomized Trees**"
   ]
  },
  {
   "cell_type": "code",
   "execution_count": 38,
   "id": "b4322bab",
   "metadata": {
    "execution": {
     "iopub.execute_input": "2022-03-09T14:57:50.716451Z",
     "iopub.status.busy": "2022-03-09T14:57:50.715709Z",
     "iopub.status.idle": "2022-03-09T14:57:50.719164Z",
     "shell.execute_reply": "2022-03-09T14:57:50.718654Z",
     "shell.execute_reply.started": "2022-03-09T14:29:47.698599Z"
    },
    "papermill": {
     "duration": 0.101502,
     "end_time": "2022-03-09T14:57:50.719325",
     "exception": false,
     "start_time": "2022-03-09T14:57:50.617823",
     "status": "completed"
    },
    "tags": []
   },
   "outputs": [],
   "source": [
    "from sklearn.ensemble import ExtraTreesClassifier"
   ]
  },
  {
   "cell_type": "code",
   "execution_count": 39,
   "id": "82196051",
   "metadata": {
    "execution": {
     "iopub.execute_input": "2022-03-09T14:57:50.915047Z",
     "iopub.status.busy": "2022-03-09T14:57:50.914292Z",
     "iopub.status.idle": "2022-03-09T14:58:44.685633Z",
     "shell.execute_reply": "2022-03-09T14:58:44.684717Z",
     "shell.execute_reply.started": "2022-03-09T14:29:47.700404Z"
    },
    "papermill": {
     "duration": 53.873399,
     "end_time": "2022-03-09T14:58:44.685907",
     "exception": false,
     "start_time": "2022-03-09T14:57:50.812508",
     "status": "completed"
    },
    "tags": []
   },
   "outputs": [
    {
     "name": "stdout",
     "output_type": "stream",
     "text": [
      "Fitting 2 folds for each of 2 candidates, totalling 4 fits\n",
      "[CV] classifier__n_estimators=10 .....................................\n"
     ]
    },
    {
     "name": "stderr",
     "output_type": "stream",
     "text": [
      "[Parallel(n_jobs=1)]: Using backend SequentialBackend with 1 concurrent workers.\n"
     ]
    },
    {
     "name": "stdout",
     "output_type": "stream",
     "text": [
      "[CV] ...................... classifier__n_estimators=10, total=   4.4s\n",
      "[CV] classifier__n_estimators=10 .....................................\n"
     ]
    },
    {
     "name": "stderr",
     "output_type": "stream",
     "text": [
      "[Parallel(n_jobs=1)]: Done   1 out of   1 | elapsed:    4.4s remaining:    0.0s\n"
     ]
    },
    {
     "name": "stdout",
     "output_type": "stream",
     "text": [
      "[CV] ...................... classifier__n_estimators=10, total=   4.3s\n",
      "[CV] classifier__n_estimators=150 ....................................\n",
      "[CV] ..................... classifier__n_estimators=150, total=  13.4s\n",
      "[CV] classifier__n_estimators=150 ....................................\n",
      "[CV] ..................... classifier__n_estimators=150, total=  13.8s\n"
     ]
    },
    {
     "name": "stderr",
     "output_type": "stream",
     "text": [
      "[Parallel(n_jobs=1)]: Done   4 out of   4 | elapsed:   36.0s finished\n"
     ]
    }
   ],
   "source": [
    "classifier = ExtraTreesClassifier(criterion=\"entropy\", random_state=random_seed)\n",
    "pipe = build_PCA_pipeline(classifier, pca_n_components)\n",
    "\n",
    "param_grid = {\n",
    "    #\"classifier__n_estimators\": [5,10,20,50,100,150]\n",
    "    \"classifier__n_estimators\": [10,150]\n",
    "}\n",
    "\n",
    "grid_search = GridSearchCV(pipe, param_grid, cv=2, verbose=2)\n",
    "grid_search.fit(X_train, Y_train);"
   ]
  },
  {
   "cell_type": "code",
   "execution_count": 40,
   "id": "d3aedfc1",
   "metadata": {
    "execution": {
     "iopub.execute_input": "2022-03-09T14:58:44.890722Z",
     "iopub.status.busy": "2022-03-09T14:58:44.889701Z",
     "iopub.status.idle": "2022-03-09T14:58:44.894694Z",
     "shell.execute_reply": "2022-03-09T14:58:44.895459Z",
     "shell.execute_reply.started": "2022-03-09T14:29:47.702572Z"
    },
    "papermill": {
     "duration": 0.106877,
     "end_time": "2022-03-09T14:58:44.895728",
     "exception": false,
     "start_time": "2022-03-09T14:58:44.788851",
     "status": "completed"
    },
    "tags": []
   },
   "outputs": [
    {
     "name": "stdout",
     "output_type": "stream",
     "text": [
      "Best parameters set found on train set:\n",
      "{'classifier__n_estimators': 150}\n",
      "\n",
      "\n",
      "Grid scores on train set:\n",
      "{'classifier__n_estimators': 10} mean: 0.927 std: +/- 0.001)\n",
      "{'classifier__n_estimators': 150} mean: 0.932 std: +/- 0.000)\n",
      "\n",
      "\n"
     ]
    }
   ],
   "source": [
    "print_grid_search_results(grid_search)"
   ]
  },
  {
   "cell_type": "code",
   "execution_count": 41,
   "id": "9c0e74d2",
   "metadata": {
    "execution": {
     "iopub.execute_input": "2022-03-09T14:58:45.095567Z",
     "iopub.status.busy": "2022-03-09T14:58:45.094841Z",
     "iopub.status.idle": "2022-03-09T14:58:45.298577Z",
     "shell.execute_reply": "2022-03-09T14:58:45.297918Z",
     "shell.execute_reply.started": "2022-03-09T14:29:47.704091Z"
    },
    "papermill": {
     "duration": 0.30603,
     "end_time": "2022-03-09T14:58:45.298734",
     "exception": false,
     "start_time": "2022-03-09T14:58:44.992704",
     "status": "completed"
    },
    "tags": []
   },
   "outputs": [
    {
     "data": {
      "image/png": "[encoded data removed]",
      "text/plain": [
       "<Figure size 720x360 with 1 Axes>"
      ]
     },
     "metadata": {
      "needs_background": "light"
     },
     "output_type": "display_data"
    }
   ],
   "source": [
    "show_curve(param_grid[\"classifier__n_estimators\"],\n",
    "           grid_search.cv_results_['mean_test_score'],\n",
    "           \"n_estimators\",\n",
    "           \"accuracy\",\n",
    "           \"Mean score with CV varying n_estimators of Extremely Randomized Trees\")"
   ]
  },
  {
   "cell_type": "code",
   "execution_count": 42,
   "id": "f2f69451",
   "metadata": {
    "execution": {
     "iopub.execute_input": "2022-03-09T14:58:45.504129Z",
     "iopub.status.busy": "2022-03-09T14:58:45.503328Z",
     "iopub.status.idle": "2022-03-09T14:58:45.504841Z",
     "shell.execute_reply": "2022-03-09T14:58:45.505314Z",
     "shell.execute_reply.started": "2022-03-09T14:29:47.705388Z"
    },
    "papermill": {
     "duration": 0.104172,
     "end_time": "2022-03-09T14:58:45.505510",
     "exception": false,
     "start_time": "2022-03-09T14:58:45.401338",
     "status": "completed"
    },
    "tags": []
   },
   "outputs": [],
   "source": [
    "# Define the final model with the best parameter found\n",
    "best_n_estimators = grid_search.best_params_[\"classifier__n_estimators\"]\n",
    "ext_rnd_trees_model = ExtraTreesClassifier(criterion=\"entropy\", n_estimators=best_n_estimators, random_state=random_seed)"
   ]
  },
  {
   "cell_type": "markdown",
   "id": "3dd13153",
   "metadata": {
    "papermill": {
     "duration": 0.096732,
     "end_time": "2022-03-09T14:58:45.699865",
     "exception": false,
     "start_time": "2022-03-09T14:58:45.603133",
     "status": "completed"
    },
    "tags": []
   },
   "source": [
    "### **Deep Neural Network**"
   ]
  },
  {
   "cell_type": "code",
   "execution_count": 43,
   "id": "666acf97",
   "metadata": {
    "execution": {
     "iopub.execute_input": "2022-03-09T14:58:45.906303Z",
     "iopub.status.busy": "2022-03-09T14:58:45.905643Z",
     "iopub.status.idle": "2022-03-09T14:58:52.715733Z",
     "shell.execute_reply": "2022-03-09T14:58:52.715127Z",
     "shell.execute_reply.started": "2022-03-09T14:29:47.707228Z"
    },
    "papermill": {
     "duration": 6.914684,
     "end_time": "2022-03-09T14:58:52.715881",
     "exception": false,
     "start_time": "2022-03-09T14:58:45.801197",
     "status": "completed"
    },
    "tags": []
   },
   "outputs": [],
   "source": [
    "import tensorflow as tf\n",
    "from tensorflow import keras\n",
    "from tensorflow.keras import layers"
   ]
  },
  {
   "cell_type": "code",
   "execution_count": 44,
   "id": "1d605bce",
   "metadata": {
    "execution": {
     "iopub.execute_input": "2022-03-09T14:58:52.925443Z",
     "iopub.status.busy": "2022-03-09T14:58:52.924775Z",
     "iopub.status.idle": "2022-03-09T14:58:53.083122Z",
     "shell.execute_reply": "2022-03-09T14:58:53.083658Z",
     "shell.execute_reply.started": "2022-03-09T14:29:47.708627Z"
    },
    "papermill": {
     "duration": 0.271701,
     "end_time": "2022-03-09T14:58:53.083833",
     "exception": false,
     "start_time": "2022-03-09T14:58:52.812132",
     "status": "completed"
    },
    "tags": []
   },
   "outputs": [
    {
     "name": "stdout",
     "output_type": "stream",
     "text": [
      "Model: \"dnn_model\"\n",
      "_________________________________________________________________\n",
      "Layer (type)                 Output Shape              Param #   \n",
      "=================================================================\n",
      "input_1 (InputLayer)         [(None, 3)]               0         \n",
      "_________________________________________________________________\n",
      "dense (Dense)                (None, 30)                120       \n",
      "_________________________________________________________________\n",
      "dense_1 (Dense)              (None, 50)                1550      \n",
      "_________________________________________________________________\n",
      "dense_2 (Dense)              (None, 50)                2550      \n",
      "_________________________________________________________________\n",
      "dense_3 (Dense)              (None, 30)                1530      \n",
      "_________________________________________________________________\n",
      "dense_4 (Dense)              (None, 20)                620       \n",
      "_________________________________________________________________\n",
      "dense_5 (Dense)              (None, 10)                210       \n",
      "=================================================================\n",
      "Total params: 6,580\n",
      "Trainable params: 6,580\n",
      "Non-trainable params: 0\n",
      "_________________________________________________________________\n"
     ]
    },
    {
     "name": "stderr",
     "output_type": "stream",
     "text": [
      "2022-03-09 14:58:52.983340: I tensorflow/core/common_runtime/process_util.cc:146] Creating new thread pool with default inter op setting: 2. Tune using inter_op_parallelism_threads for best performance.\n"
     ]
    }
   ],
   "source": [
    "# Network architecture definition\n",
    "inputs = keras.Input(shape=(pca_n_components,))\n",
    "x = layers.Dense(30, activation=\"relu\")(inputs)\n",
    "x = layers.Dense(50, activation=\"relu\")(x)\n",
    "x = layers.Dense(50, activation=\"relu\")(x)\n",
    "x = layers.Dense(30, activation=\"relu\")(x)\n",
    "x = layers.Dense(20, activation=\"relu\")(x)\n",
    "outputs = layers.Dense(10, activation=\"softmax\")(x)\n",
    "\n",
    "dnn_model = keras.Model(inputs=inputs, outputs=outputs, name=\"dnn_model\")\n",
    "dnn_model.summary()"
   ]
  },
  {
   "cell_type": "code",
   "execution_count": 45,
   "id": "34bf445e",
   "metadata": {
    "execution": {
     "iopub.execute_input": "2022-03-09T14:58:53.293323Z",
     "iopub.status.busy": "2022-03-09T14:58:53.292077Z",
     "iopub.status.idle": "2022-03-09T14:58:53.301876Z",
     "shell.execute_reply": "2022-03-09T14:58:53.301102Z",
     "shell.execute_reply.started": "2022-03-09T14:29:47.710397Z"
    },
    "papermill": {
     "duration": 0.119857,
     "end_time": "2022-03-09T14:58:53.302055",
     "exception": false,
     "start_time": "2022-03-09T14:58:53.182198",
     "status": "completed"
    },
    "tags": []
   },
   "outputs": [],
   "source": [
    "dnn_model.compile(\n",
    "    loss=keras.losses.SparseCategoricalCrossentropy(from_logits=False),\n",
    "    optimizer=keras.optimizers.Adam(),\n",
    "    metrics=[\"accuracy\"]\n",
    ")"
   ]
  },
  {
   "cell_type": "code",
   "execution_count": 46,
   "id": "954979bf",
   "metadata": {
    "execution": {
     "iopub.execute_input": "2022-03-09T14:58:53.541297Z",
     "iopub.status.busy": "2022-03-09T14:58:53.531937Z",
     "iopub.status.idle": "2022-03-09T14:58:59.064369Z",
     "shell.execute_reply": "2022-03-09T14:58:59.065923Z",
     "shell.execute_reply.started": "2022-03-09T14:29:47.711985Z"
    },
    "papermill": {
     "duration": 5.660586,
     "end_time": "2022-03-09T14:58:59.066285",
     "exception": false,
     "start_time": "2022-03-09T14:58:53.405699",
     "status": "completed"
    },
    "tags": []
   },
   "outputs": [
    {
     "name": "stdout",
     "output_type": "stream",
     "text": [
      "Shape of X_train_t_pca: (107200, 3)\n",
      "Shape of X_train_val_pca: (26800, 3)\n"
     ]
    }
   ],
   "source": [
    "# Preprocess training set\n",
    "\n",
    "# Further split the training set in training and validation sets\n",
    "X_train_t, X_train_val, Y_train_t, Y_train_val = train_test_split(X_train, Y_train, test_size=0.20, stratify=Y_train, random_state=random_seed)\n",
    "\n",
    "# Standardize the features\n",
    "st_scaler_dnn = StandardScaler()\n",
    "st_scaler_dnn.fit(X_train_t)\n",
    "X_train_t = st_scaler_dnn.transform(X_train_t)\n",
    "X_train_val = st_scaler_dnn.transform(X_train_val)\n",
    "\n",
    "# Perform PCA\n",
    "pca_dnn = PCA(n_components=pca_n_components)\n",
    "pca_dnn.fit(X_train_t)\n",
    "X_train_t_pca = pca_dnn.transform(X_train_t)\n",
    "X_train_val_pca = pca_dnn.transform(X_train_val)\n",
    "\n",
    "print(f\"Shape of X_train_t_pca: {X_train_t_pca.shape}\")\n",
    "print(f\"Shape of X_train_val_pca: {X_train_val_pca.shape}\")"
   ]
  },
  {
   "cell_type": "code",
   "execution_count": 47,
   "id": "6024d1af",
   "metadata": {
    "execution": {
     "iopub.execute_input": "2022-03-09T14:58:59.321677Z",
     "iopub.status.busy": "2022-03-09T14:58:59.321020Z",
     "iopub.status.idle": "2022-03-09T14:59:31.140201Z",
     "shell.execute_reply": "2022-03-09T14:59:31.139509Z",
     "shell.execute_reply.started": "2022-03-09T14:29:47.713679Z"
    },
    "papermill": {
     "duration": 31.922313,
     "end_time": "2022-03-09T14:59:31.140417",
     "exception": false,
     "start_time": "2022-03-09T14:58:59.218104",
     "status": "completed"
    },
    "tags": []
   },
   "outputs": [
    {
     "name": "stderr",
     "output_type": "stream",
     "text": [
      "2022-03-09 14:58:59.408100: I tensorflow/compiler/mlir/mlir_graph_optimization_pass.cc:185] None of the MLIR Optimization Passes are enabled (registered 2)\n"
     ]
    },
    {
     "name": "stdout",
     "output_type": "stream",
     "text": [
      "Epoch 1/5\n",
      "1675/1675 [==============================] - 8s 4ms/step - loss: 1.0570 - accuracy: 0.5902 - val_loss: 0.8765 - val_accuracy: 0.6552\n",
      "Epoch 2/5\n",
      "1675/1675 [==============================] - 6s 3ms/step - loss: 0.7484 - accuracy: 0.7164 - val_loss: 0.6817 - val_accuracy: 0.7422\n",
      "Epoch 3/5\n",
      "1675/1675 [==============================] - 6s 3ms/step - loss: 0.6541 - accuracy: 0.7524 - val_loss: 0.6222 - val_accuracy: 0.7594\n",
      "Epoch 4/5\n",
      "1675/1675 [==============================] - 6s 4ms/step - loss: 0.6025 - accuracy: 0.7670 - val_loss: 0.6122 - val_accuracy: 0.7574\n",
      "Epoch 5/5\n",
      "1675/1675 [==============================] - 6s 4ms/step - loss: 0.5722 - accuracy: 0.7771 - val_loss: 0.5591 - val_accuracy: 0.7725\n"
     ]
    }
   ],
   "source": [
    "history = dnn_model.fit(X_train_t_pca, Y_train_t, batch_size=64, epochs=5, validation_data=(X_train_val_pca, Y_train_val))"
   ]
  },
  {
   "cell_type": "markdown",
   "id": "4d4ff0ef",
   "metadata": {
    "papermill": {
     "duration": 0.288834,
     "end_time": "2022-03-09T14:59:31.719479",
     "exception": false,
     "start_time": "2022-03-09T14:59:31.430645",
     "status": "completed"
    },
    "tags": []
   },
   "source": [
    "## **Final Model Evaluation**"
   ]
  },
  {
   "cell_type": "code",
   "execution_count": 48,
   "id": "2917a112",
   "metadata": {
    "execution": {
     "iopub.execute_input": "2022-03-09T14:59:32.306942Z",
     "iopub.status.busy": "2022-03-09T14:59:32.306003Z",
     "iopub.status.idle": "2022-03-09T14:59:32.309709Z",
     "shell.execute_reply": "2022-03-09T14:59:32.310298Z",
     "shell.execute_reply.started": "2022-03-09T14:32:03.903853Z"
    },
    "papermill": {
     "duration": 0.301585,
     "end_time": "2022-03-09T14:59:32.310499",
     "exception": false,
     "start_time": "2022-03-09T14:59:32.008914",
     "status": "completed"
    },
    "tags": []
   },
   "outputs": [],
   "source": [
    "from sklearn.metrics import classification_report"
   ]
  },
  {
   "cell_type": "code",
   "execution_count": 49,
   "id": "c0bc8a84",
   "metadata": {
    "execution": {
     "iopub.execute_input": "2022-03-09T14:59:32.892741Z",
     "iopub.status.busy": "2022-03-09T14:59:32.891837Z",
     "iopub.status.idle": "2022-03-09T14:59:32.895972Z",
     "shell.execute_reply": "2022-03-09T14:59:32.895391Z",
     "shell.execute_reply.started": "2022-03-09T14:32:03.905905Z"
    },
    "papermill": {
     "duration": 0.295183,
     "end_time": "2022-03-09T14:59:32.896097",
     "exception": false,
     "start_time": "2022-03-09T14:59:32.600914",
     "status": "completed"
    },
    "tags": []
   },
   "outputs": [],
   "source": [
    "final_model = rnd_forest_model\n",
    "use_neural_network = False"
   ]
  },
  {
   "cell_type": "code",
   "execution_count": 50,
   "id": "25b12d2e",
   "metadata": {
    "execution": {
     "iopub.execute_input": "2022-03-09T14:59:33.473893Z",
     "iopub.status.busy": "2022-03-09T14:59:33.473212Z",
     "iopub.status.idle": "2022-03-09T14:59:33.474988Z",
     "shell.execute_reply": "2022-03-09T14:59:33.475478Z",
     "shell.execute_reply.started": "2022-03-09T14:29:47.717920Z"
    },
    "papermill": {
     "duration": 0.296893,
     "end_time": "2022-03-09T14:59:33.475659",
     "exception": false,
     "start_time": "2022-03-09T14:59:33.178766",
     "status": "completed"
    },
    "tags": []
   },
   "outputs": [],
   "source": [
    "if use_neural_network:\n",
    "    # Preprocess test data\n",
    "    # Standardize\n",
    "    X_test = st_scaler_dnn.transform(X_test)\n",
    "    # PCA\n",
    "    X_test = pca_dnn.transform(X_test)"
   ]
  },
  {
   "cell_type": "code",
   "execution_count": 51,
   "id": "8a70e6cc",
   "metadata": {
    "execution": {
     "iopub.execute_input": "2022-03-09T14:59:34.096236Z",
     "iopub.status.busy": "2022-03-09T14:59:34.094944Z",
     "iopub.status.idle": "2022-03-09T15:00:30.415006Z",
     "shell.execute_reply": "2022-03-09T15:00:30.414263Z",
     "shell.execute_reply.started": "2022-03-09T14:32:03.907696Z"
    },
    "papermill": {
     "duration": 56.646774,
     "end_time": "2022-03-09T15:00:30.415213",
     "exception": false,
     "start_time": "2022-03-09T14:59:33.768439",
     "status": "completed"
    },
    "tags": []
   },
   "outputs": [],
   "source": [
    "if use_neural_network:\n",
    "    # Predict probabilty distributions over possible labels\n",
    "    Y_test_pred_p = final_model.predict(X_test)\n",
    "    # Store the index of the most probable label\n",
    "    Y_test_pred = np.argmax(Y_test_pred_p, axis=1)\n",
    "else:\n",
    "    # Train the full model on the complete training set\n",
    "    final_pipe = build_PCA_pipeline(final_model, pca_n_components)\n",
    "    final_pipe.fit(X_train, Y_train)\n",
    "    # Directly predict labels\n",
    "    Y_test_pred = final_pipe.predict(X_test)"
   ]
  },
  {
   "cell_type": "code",
   "execution_count": 52,
   "id": "baf5be94",
   "metadata": {
    "execution": {
     "iopub.execute_input": "2022-03-09T15:00:31.007158Z",
     "iopub.status.busy": "2022-03-09T15:00:31.006089Z",
     "iopub.status.idle": "2022-03-09T15:00:31.154561Z",
     "shell.execute_reply": "2022-03-09T15:00:31.153869Z",
     "shell.execute_reply.started": "2022-03-09T14:50:07.729924Z"
    },
    "papermill": {
     "duration": 0.447588,
     "end_time": "2022-03-09T15:00:31.154723",
     "exception": false,
     "start_time": "2022-03-09T15:00:30.707135",
     "status": "completed"
    },
    "tags": []
   },
   "outputs": [
    {
     "name": "stdout",
     "output_type": "stream",
     "text": [
      "                          precision    recall  f1-score   support\n",
      "\n",
      "    Bacteroides_fragilis       0.98      0.99      0.99      6646\n",
      "    Campylobacter_jejuni       0.98      0.99      0.99      6621\n",
      "      Enterococcus_hirae       0.97      0.97      0.97      6583\n",
      "        Escherichia_coli       0.97      0.96      0.96      6586\n",
      "  Escherichia_fergusonii       0.96      0.97      0.97      6579\n",
      "   Klebsiella_pneumoniae       0.99      0.99      0.99      6549\n",
      "     Salmonella_enterica       0.97      0.97      0.97      6610\n",
      "   Staphylococcus_aureus       0.98      0.98      0.98      6577\n",
      "Streptococcus_pneumoniae       0.97      0.96      0.97      6624\n",
      "  Streptococcus_pyogenes       0.96      0.96      0.96      6625\n",
      "\n",
      "                accuracy                           0.97     66000\n",
      "               macro avg       0.97      0.97      0.97     66000\n",
      "            weighted avg       0.97      0.97      0.97     66000\n",
      "\n"
     ]
    }
   ],
   "source": [
    "print(classification_report(Y_test, Y_test_pred, target_names=label_encoder.classes_))"
   ]
  },
  {
   "cell_type": "markdown",
   "id": "e448ccc5",
   "metadata": {
    "papermill": {
     "duration": 0.294788,
     "end_time": "2022-03-09T15:00:31.745963",
     "exception": false,
     "start_time": "2022-03-09T15:00:31.451175",
     "status": "completed"
    },
    "tags": []
   },
   "source": [
    "## **Kaggle Submission Test**"
   ]
  },
  {
   "cell_type": "code",
   "execution_count": 53,
   "id": "4aa9de8e",
   "metadata": {
    "execution": {
     "iopub.execute_input": "2022-03-09T15:00:32.328612Z",
     "iopub.status.busy": "2022-03-09T15:00:32.327890Z",
     "iopub.status.idle": "2022-03-09T15:00:48.126019Z",
     "shell.execute_reply": "2022-03-09T15:00:48.125228Z",
     "shell.execute_reply.started": "2022-03-09T14:29:47.722783Z"
    },
    "papermill": {
     "duration": 16.090344,
     "end_time": "2022-03-09T15:00:48.126190",
     "exception": false,
     "start_time": "2022-03-09T15:00:32.035846",
     "status": "completed"
    },
    "tags": []
   },
   "outputs": [
    {
     "data": {
      "text/html": [
       "<div>\n",
       "<style scoped>\n",
       "    .dataframe tbody tr th:only-of-type {\n",
       "        vertical-align: middle;\n",
       "    }\n",
       "\n",
       "    .dataframe tbody tr th {\n",
       "        vertical-align: top;\n",
       "    }\n",
       "\n",
       "    .dataframe thead th {\n",
       "        text-align: right;\n",
       "    }\n",
       "</style>\n",
       "<table border=\"1\" class=\"dataframe\">\n",
       "  <thead>\n",
       "    <tr style=\"text-align: right;\">\n",
       "      <th></th>\n",
       "      <th>row_id</th>\n",
       "      <th>A0T0G0C10</th>\n",
       "      <th>A0T0G1C9</th>\n",
       "      <th>A0T0G2C8</th>\n",
       "      <th>A0T0G3C7</th>\n",
       "      <th>A0T0G4C6</th>\n",
       "      <th>A0T0G5C5</th>\n",
       "      <th>A0T0G6C4</th>\n",
       "      <th>A0T0G7C3</th>\n",
       "      <th>A0T0G8C2</th>\n",
       "      <th>...</th>\n",
       "      <th>A8T0G0C2</th>\n",
       "      <th>A8T0G1C1</th>\n",
       "      <th>A8T0G2C0</th>\n",
       "      <th>A8T1G0C1</th>\n",
       "      <th>A8T1G1C0</th>\n",
       "      <th>A8T2G0C0</th>\n",
       "      <th>A9T0G0C1</th>\n",
       "      <th>A9T0G1C0</th>\n",
       "      <th>A9T1G0C0</th>\n",
       "      <th>A10T0G0C0</th>\n",
       "    </tr>\n",
       "  </thead>\n",
       "  <tbody>\n",
       "    <tr>\n",
       "      <th>0</th>\n",
       "      <td>200000</td>\n",
       "      <td>-9.536743e-07</td>\n",
       "      <td>-0.000002</td>\n",
       "      <td>-9.153442e-07</td>\n",
       "      <td>0.000024</td>\n",
       "      <td>0.000034</td>\n",
       "      <td>-0.000002</td>\n",
       "      <td>0.000021</td>\n",
       "      <td>0.000024</td>\n",
       "      <td>-0.000009</td>\n",
       "      <td>...</td>\n",
       "      <td>0.000039</td>\n",
       "      <td>0.000085</td>\n",
       "      <td>0.000055</td>\n",
       "      <td>0.000108</td>\n",
       "      <td>0.000090</td>\n",
       "      <td>0.000059</td>\n",
       "      <td>0.000010</td>\n",
       "      <td>0.000006</td>\n",
       "      <td>0.000027</td>\n",
       "      <td>4.632568e-08</td>\n",
       "    </tr>\n",
       "    <tr>\n",
       "      <th>1</th>\n",
       "      <td>200001</td>\n",
       "      <td>-9.536743e-07</td>\n",
       "      <td>-0.000010</td>\n",
       "      <td>-4.291534e-05</td>\n",
       "      <td>-0.000114</td>\n",
       "      <td>0.001800</td>\n",
       "      <td>-0.000240</td>\n",
       "      <td>0.001800</td>\n",
       "      <td>-0.000114</td>\n",
       "      <td>0.000957</td>\n",
       "      <td>...</td>\n",
       "      <td>-0.000043</td>\n",
       "      <td>0.000914</td>\n",
       "      <td>-0.000043</td>\n",
       "      <td>-0.000086</td>\n",
       "      <td>-0.000086</td>\n",
       "      <td>-0.000043</td>\n",
       "      <td>-0.000010</td>\n",
       "      <td>-0.000010</td>\n",
       "      <td>-0.000010</td>\n",
       "      <td>-9.536743e-07</td>\n",
       "    </tr>\n",
       "    <tr>\n",
       "      <th>2</th>\n",
       "      <td>200002</td>\n",
       "      <td>4.632568e-08</td>\n",
       "      <td>0.000003</td>\n",
       "      <td>8.465576e-08</td>\n",
       "      <td>-0.000014</td>\n",
       "      <td>0.000007</td>\n",
       "      <td>-0.000005</td>\n",
       "      <td>-0.000004</td>\n",
       "      <td>0.000003</td>\n",
       "      <td>0.000004</td>\n",
       "      <td>...</td>\n",
       "      <td>0.000041</td>\n",
       "      <td>0.000102</td>\n",
       "      <td>0.000084</td>\n",
       "      <td>0.000111</td>\n",
       "      <td>0.000117</td>\n",
       "      <td>0.000070</td>\n",
       "      <td>0.000020</td>\n",
       "      <td>0.000030</td>\n",
       "      <td>0.000021</td>\n",
       "      <td>4.632568e-08</td>\n",
       "    </tr>\n",
       "    <tr>\n",
       "      <th>3</th>\n",
       "      <td>200003</td>\n",
       "      <td>-9.536743e-07</td>\n",
       "      <td>-0.000008</td>\n",
       "      <td>8.084656e-06</td>\n",
       "      <td>0.000216</td>\n",
       "      <td>0.000420</td>\n",
       "      <td>0.000514</td>\n",
       "      <td>0.000452</td>\n",
       "      <td>0.000187</td>\n",
       "      <td>-0.000005</td>\n",
       "      <td>...</td>\n",
       "      <td>0.000069</td>\n",
       "      <td>0.000158</td>\n",
       "      <td>0.000098</td>\n",
       "      <td>0.000175</td>\n",
       "      <td>0.000217</td>\n",
       "      <td>0.000150</td>\n",
       "      <td>0.000018</td>\n",
       "      <td>0.000016</td>\n",
       "      <td>0.000051</td>\n",
       "      <td>-9.536743e-07</td>\n",
       "    </tr>\n",
       "    <tr>\n",
       "      <th>4</th>\n",
       "      <td>200004</td>\n",
       "      <td>-9.536743e-07</td>\n",
       "      <td>-0.000010</td>\n",
       "      <td>-4.291534e-05</td>\n",
       "      <td>-0.000114</td>\n",
       "      <td>-0.000200</td>\n",
       "      <td>-0.000240</td>\n",
       "      <td>-0.000200</td>\n",
       "      <td>-0.000114</td>\n",
       "      <td>-0.000043</td>\n",
       "      <td>...</td>\n",
       "      <td>-0.000043</td>\n",
       "      <td>-0.000086</td>\n",
       "      <td>-0.000043</td>\n",
       "      <td>-0.000086</td>\n",
       "      <td>0.000914</td>\n",
       "      <td>-0.000043</td>\n",
       "      <td>-0.000010</td>\n",
       "      <td>-0.000010</td>\n",
       "      <td>0.000990</td>\n",
       "      <td>-9.536743e-07</td>\n",
       "    </tr>\n",
       "  </tbody>\n",
       "</table>\n",
       "<p>5 rows × 287 columns</p>\n",
       "</div>"
      ],
      "text/plain": [
       "   row_id     A0T0G0C10  A0T0G1C9      A0T0G2C8  A0T0G3C7  A0T0G4C6  A0T0G5C5  \\\n",
       "0  200000 -9.536743e-07 -0.000002 -9.153442e-07  0.000024  0.000034 -0.000002   \n",
       "1  200001 -9.536743e-07 -0.000010 -4.291534e-05 -0.000114  0.001800 -0.000240   \n",
       "2  200002  4.632568e-08  0.000003  8.465576e-08 -0.000014  0.000007 -0.000005   \n",
       "3  200003 -9.536743e-07 -0.000008  8.084656e-06  0.000216  0.000420  0.000514   \n",
       "4  200004 -9.536743e-07 -0.000010 -4.291534e-05 -0.000114 -0.000200 -0.000240   \n",
       "\n",
       "   A0T0G6C4  A0T0G7C3  A0T0G8C2  ...  A8T0G0C2  A8T0G1C1  A8T0G2C0  A8T1G0C1  \\\n",
       "0  0.000021  0.000024 -0.000009  ...  0.000039  0.000085  0.000055  0.000108   \n",
       "1  0.001800 -0.000114  0.000957  ... -0.000043  0.000914 -0.000043 -0.000086   \n",
       "2 -0.000004  0.000003  0.000004  ...  0.000041  0.000102  0.000084  0.000111   \n",
       "3  0.000452  0.000187 -0.000005  ...  0.000069  0.000158  0.000098  0.000175   \n",
       "4 -0.000200 -0.000114 -0.000043  ... -0.000043 -0.000086 -0.000043 -0.000086   \n",
       "\n",
       "   A8T1G1C0  A8T2G0C0  A9T0G0C1  A9T0G1C0  A9T1G0C0     A10T0G0C0  \n",
       "0  0.000090  0.000059  0.000010  0.000006  0.000027  4.632568e-08  \n",
       "1 -0.000086 -0.000043 -0.000010 -0.000010 -0.000010 -9.536743e-07  \n",
       "2  0.000117  0.000070  0.000020  0.000030  0.000021  4.632568e-08  \n",
       "3  0.000217  0.000150  0.000018  0.000016  0.000051 -9.536743e-07  \n",
       "4  0.000914 -0.000043 -0.000010 -0.000010  0.000990 -9.536743e-07  \n",
       "\n",
       "[5 rows x 287 columns]"
      ]
     },
     "execution_count": 53,
     "metadata": {},
     "output_type": "execute_result"
    }
   ],
   "source": [
    "# Load Kaggle's submission test set\n",
    "df_subm = pd.read_csv(\"/kaggle/input/tabular-playground-series-feb-2022/test.csv\")\n",
    "df_subm.head()"
   ]
  },
  {
   "cell_type": "code",
   "execution_count": 54,
   "id": "01d6933b",
   "metadata": {
    "execution": {
     "iopub.execute_input": "2022-03-09T15:00:48.715377Z",
     "iopub.status.busy": "2022-03-09T15:00:48.714558Z",
     "iopub.status.idle": "2022-03-09T15:00:48.721721Z",
     "shell.execute_reply": "2022-03-09T15:00:48.721185Z",
     "shell.execute_reply.started": "2022-03-09T14:29:47.724208Z"
    },
    "papermill": {
     "duration": 0.304264,
     "end_time": "2022-03-09T15:00:48.721882",
     "exception": false,
     "start_time": "2022-03-09T15:00:48.417618",
     "status": "completed"
    },
    "tags": []
   },
   "outputs": [
    {
     "data": {
      "text/html": [
       "<div>\n",
       "<style scoped>\n",
       "    .dataframe tbody tr th:only-of-type {\n",
       "        vertical-align: middle;\n",
       "    }\n",
       "\n",
       "    .dataframe tbody tr th {\n",
       "        vertical-align: top;\n",
       "    }\n",
       "\n",
       "    .dataframe thead th {\n",
       "        text-align: right;\n",
       "    }\n",
       "</style>\n",
       "<table border=\"1\" class=\"dataframe\">\n",
       "  <thead>\n",
       "    <tr style=\"text-align: right;\">\n",
       "      <th></th>\n",
       "      <th>row_id</th>\n",
       "    </tr>\n",
       "  </thead>\n",
       "  <tbody>\n",
       "    <tr>\n",
       "      <th>0</th>\n",
       "      <td>200000</td>\n",
       "    </tr>\n",
       "    <tr>\n",
       "      <th>1</th>\n",
       "      <td>200001</td>\n",
       "    </tr>\n",
       "    <tr>\n",
       "      <th>2</th>\n",
       "      <td>200002</td>\n",
       "    </tr>\n",
       "    <tr>\n",
       "      <th>3</th>\n",
       "      <td>200003</td>\n",
       "    </tr>\n",
       "    <tr>\n",
       "      <th>4</th>\n",
       "      <td>200004</td>\n",
       "    </tr>\n",
       "  </tbody>\n",
       "</table>\n",
       "</div>"
      ],
      "text/plain": [
       "   row_id\n",
       "0  200000\n",
       "1  200001\n",
       "2  200002\n",
       "3  200003\n",
       "4  200004"
      ]
     },
     "execution_count": 54,
     "metadata": {},
     "output_type": "execute_result"
    }
   ],
   "source": [
    "df_subm_results = pd.DataFrame(df_subm[\"row_id\"])\n",
    "df_subm_results.head()"
   ]
  },
  {
   "cell_type": "code",
   "execution_count": 55,
   "id": "509dc3fe",
   "metadata": {
    "execution": {
     "iopub.execute_input": "2022-03-09T15:00:49.395026Z",
     "iopub.status.busy": "2022-03-09T15:00:49.394324Z",
     "iopub.status.idle": "2022-03-09T15:00:49.396272Z",
     "shell.execute_reply": "2022-03-09T15:00:49.396832Z",
     "shell.execute_reply.started": "2022-03-09T14:29:47.725605Z"
    },
    "papermill": {
     "duration": 0.384077,
     "end_time": "2022-03-09T15:00:49.397037",
     "exception": false,
     "start_time": "2022-03-09T15:00:49.012960",
     "status": "completed"
    },
    "tags": []
   },
   "outputs": [],
   "source": [
    "X_subm = df_subm.drop(columns=\"row_id\")"
   ]
  },
  {
   "cell_type": "code",
   "execution_count": 56,
   "id": "86b8cf68",
   "metadata": {
    "execution": {
     "iopub.execute_input": "2022-03-09T15:00:49.990903Z",
     "iopub.status.busy": "2022-03-09T15:00:49.990208Z",
     "iopub.status.idle": "2022-03-09T15:00:49.992769Z",
     "shell.execute_reply": "2022-03-09T15:00:49.993273Z",
     "shell.execute_reply.started": "2022-03-09T14:29:47.727000Z"
    },
    "papermill": {
     "duration": 0.300375,
     "end_time": "2022-03-09T15:00:49.993503",
     "exception": false,
     "start_time": "2022-03-09T15:00:49.693128",
     "status": "completed"
    },
    "tags": []
   },
   "outputs": [],
   "source": [
    "if use_neural_network:\n",
    "    # Preprocess test data\n",
    "    # Standardize\n",
    "    X_subm = st_scaler_dnn.transform(X_subm)\n",
    "    # PCA\n",
    "    X_subm = pca_dnn.transform(X_subm)"
   ]
  },
  {
   "cell_type": "code",
   "execution_count": 57,
   "id": "3d35f0be",
   "metadata": {
    "execution": {
     "iopub.execute_input": "2022-03-09T15:00:50.587594Z",
     "iopub.status.busy": "2022-03-09T15:00:50.586875Z",
     "iopub.status.idle": "2022-03-09T15:00:55.120464Z",
     "shell.execute_reply": "2022-03-09T15:00:55.120954Z",
     "shell.execute_reply.started": "2022-03-09T14:29:47.728347Z"
    },
    "papermill": {
     "duration": 4.837244,
     "end_time": "2022-03-09T15:00:55.121176",
     "exception": false,
     "start_time": "2022-03-09T15:00:50.283932",
     "status": "completed"
    },
    "tags": []
   },
   "outputs": [],
   "source": [
    "if use_neural_network:\n",
    "    # Predict probabilty distributions over possible labels\n",
    "    Y_subm_predicted_p = final_model.predict(X_subm)\n",
    "    # Store the index of the most probable label\n",
    "    Y_subm_predicted = np.argmax(Y_subm_predicted_p, axis=1)\n",
    "else:\n",
    "    # Directly predict labels\n",
    "    Y_subm_predicted = final_pipe.predict(X_subm)\n",
    "\n",
    "# Convert label indexes to text\n",
    "Y_subm_predicted_labeled = label_encoder.inverse_transform(Y_subm_predicted)\n",
    "# Store the predicted targets in the dataframe\n",
    "df_subm_results[\"target\"] = Y_subm_predicted_labeled"
   ]
  },
  {
   "cell_type": "code",
   "execution_count": 58,
   "id": "e760a6c8",
   "metadata": {
    "execution": {
     "iopub.execute_input": "2022-03-09T15:00:55.705351Z",
     "iopub.status.busy": "2022-03-09T15:00:55.704719Z",
     "iopub.status.idle": "2022-03-09T15:00:55.712589Z",
     "shell.execute_reply": "2022-03-09T15:00:55.713102Z",
     "shell.execute_reply.started": "2022-03-09T14:29:47.729771Z"
    },
    "papermill": {
     "duration": 0.302476,
     "end_time": "2022-03-09T15:00:55.713305",
     "exception": false,
     "start_time": "2022-03-09T15:00:55.410829",
     "status": "completed"
    },
    "tags": []
   },
   "outputs": [
    {
     "data": {
      "text/html": [
       "<div>\n",
       "<style scoped>\n",
       "    .dataframe tbody tr th:only-of-type {\n",
       "        vertical-align: middle;\n",
       "    }\n",
       "\n",
       "    .dataframe tbody tr th {\n",
       "        vertical-align: top;\n",
       "    }\n",
       "\n",
       "    .dataframe thead th {\n",
       "        text-align: right;\n",
       "    }\n",
       "</style>\n",
       "<table border=\"1\" class=\"dataframe\">\n",
       "  <thead>\n",
       "    <tr style=\"text-align: right;\">\n",
       "      <th></th>\n",
       "      <th>row_id</th>\n",
       "      <th>target</th>\n",
       "    </tr>\n",
       "  </thead>\n",
       "  <tbody>\n",
       "    <tr>\n",
       "      <th>0</th>\n",
       "      <td>200000</td>\n",
       "      <td>Escherichia_fergusonii</td>\n",
       "    </tr>\n",
       "    <tr>\n",
       "      <th>1</th>\n",
       "      <td>200001</td>\n",
       "      <td>Salmonella_enterica</td>\n",
       "    </tr>\n",
       "    <tr>\n",
       "      <th>2</th>\n",
       "      <td>200002</td>\n",
       "      <td>Enterococcus_hirae</td>\n",
       "    </tr>\n",
       "    <tr>\n",
       "      <th>3</th>\n",
       "      <td>200003</td>\n",
       "      <td>Salmonella_enterica</td>\n",
       "    </tr>\n",
       "    <tr>\n",
       "      <th>4</th>\n",
       "      <td>200004</td>\n",
       "      <td>Staphylococcus_aureus</td>\n",
       "    </tr>\n",
       "  </tbody>\n",
       "</table>\n",
       "</div>"
      ],
      "text/plain": [
       "   row_id                  target\n",
       "0  200000  Escherichia_fergusonii\n",
       "1  200001     Salmonella_enterica\n",
       "2  200002      Enterococcus_hirae\n",
       "3  200003     Salmonella_enterica\n",
       "4  200004   Staphylococcus_aureus"
      ]
     },
     "execution_count": 58,
     "metadata": {},
     "output_type": "execute_result"
    }
   ],
   "source": [
    "df_subm_results.head()"
   ]
  },
  {
   "cell_type": "code",
   "execution_count": 59,
   "id": "81ca9652",
   "metadata": {
    "execution": {
     "iopub.execute_input": "2022-03-09T15:00:56.300586Z",
     "iopub.status.busy": "2022-03-09T15:00:56.299863Z",
     "iopub.status.idle": "2022-03-09T15:00:56.566421Z",
     "shell.execute_reply": "2022-03-09T15:00:56.565271Z",
     "shell.execute_reply.started": "2022-03-09T14:29:47.731056Z"
    },
    "papermill": {
     "duration": 0.56258,
     "end_time": "2022-03-09T15:00:56.566715",
     "exception": false,
     "start_time": "2022-03-09T15:00:56.004135",
     "status": "completed"
    },
    "tags": []
   },
   "outputs": [],
   "source": [
    "df_subm_results.to_csv(\"submission.csv\", index=False)"
   ]
  },
  {
   "cell_type": "code",
   "execution_count": null,
   "id": "eb34da46",
   "metadata": {
    "papermill": {
     "duration": 0.292818,
     "end_time": "2022-03-09T15:00:57.162120",
     "exception": false,
     "start_time": "2022-03-09T15:00:56.869302",
     "status": "completed"
    },
    "tags": []
   },
   "outputs": [],
   "source": []
  },
  {
   "cell_type": "code",
   "execution_count": null,
   "id": "d2c51c8f",
   "metadata": {
    "papermill": {
     "duration": 0.294041,
     "end_time": "2022-03-09T15:00:57.745782",
     "exception": false,
     "start_time": "2022-03-09T15:00:57.451741",
     "status": "completed"
    },
    "tags": []
   },
   "outputs": [],
   "source": []
  }
 ],
 "metadata": {
  "kernelspec": {
   "display_name": "Python 3",
   "language": "python",
   "name": "python3"
  },
  "language_info": {
   "codemirror_mode": {
    "name": "ipython",
    "version": 3
   },
   "file_extension": ".py",
   "mimetype": "text/x-python",
   "name": "python",
   "nbconvert_exporter": "python",
   "pygments_lexer": "ipython3",
   "version": "3.7.12"
  },
  "papermill": {
   "default_parameters": {},
   "duration": 504.356439,
   "end_time": "2022-03-09T15:01:01.504565",
   "environment_variables": {},
   "exception": null,
   "input_path": "__notebook__.ipynb",
   "output_path": "__notebook__.ipynb",
   "parameters": {},
   "start_time": "2022-03-09T14:52:37.148126",
   "version": "2.3.3"
  }
 },
 "nbformat": 4,
 "nbformat_minor": 5
}
