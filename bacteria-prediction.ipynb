{
 "cells": [
  {
   "cell_type": "markdown",
   "id": "6e1fe598",
   "metadata": {
    "_cell_guid": "b1076dfc-b9ad-4769-8c92-a6c4dae69d19",
    "_uuid": "8f2839f25d086af736a60e9eeb907d3b93b6e0e5",
    "execution": {
     "iopub.execute_input": "2022-03-02T14:33:46.222715Z",
     "iopub.status.busy": "2022-03-02T14:33:46.221872Z",
     "iopub.status.idle": "2022-03-02T14:33:46.251698Z",
     "shell.execute_reply": "2022-03-02T14:33:46.250819Z",
     "shell.execute_reply.started": "2022-03-02T14:33:46.222522Z"
    },
    "papermill": {
     "duration": 0.048403,
     "end_time": "2022-03-04T11:16:53.356341",
     "exception": false,
     "start_time": "2022-03-04T11:16:53.307938",
     "status": "completed"
    },
    "tags": []
   },
   "source": [
    "# **Bacteria Prediction**"
   ]
  },
  {
   "cell_type": "markdown",
   "id": "407a8b7c",
   "metadata": {
    "papermill": {
     "duration": 0.044256,
     "end_time": "2022-03-04T11:16:53.447167",
     "exception": false,
     "start_time": "2022-03-04T11:16:53.402911",
     "status": "completed"
    },
    "tags": []
   },
   "source": [
    "## **Data Loading**"
   ]
  },
  {
   "cell_type": "code",
   "execution_count": 1,
   "id": "c2a3784f",
   "metadata": {
    "execution": {
     "iopub.execute_input": "2022-03-04T11:16:53.546444Z",
     "iopub.status.busy": "2022-03-04T11:16:53.544604Z",
     "iopub.status.idle": "2022-03-04T11:16:53.555748Z",
     "shell.execute_reply": "2022-03-04T11:16:53.556338Z",
     "shell.execute_reply.started": "2022-03-04T10:59:28.405820Z"
    },
    "papermill": {
     "duration": 0.06128,
     "end_time": "2022-03-04T11:16:53.556682",
     "exception": false,
     "start_time": "2022-03-04T11:16:53.495402",
     "status": "completed"
    },
    "tags": []
   },
   "outputs": [],
   "source": [
    "# Imports\n",
    "import os\n",
    "import numpy as np\n",
    "import pandas as pd"
   ]
  },
  {
   "cell_type": "code",
   "execution_count": 2,
   "id": "2d85befc",
   "metadata": {
    "execution": {
     "iopub.execute_input": "2022-03-04T11:16:53.654070Z",
     "iopub.status.busy": "2022-03-04T11:16:53.653030Z",
     "iopub.status.idle": "2022-03-04T11:16:53.661348Z",
     "shell.execute_reply": "2022-03-04T11:16:53.662361Z",
     "shell.execute_reply.started": "2022-03-04T10:59:28.413781Z"
    },
    "papermill": {
     "duration": 0.059205,
     "end_time": "2022-03-04T11:16:53.662607",
     "exception": false,
     "start_time": "2022-03-04T11:16:53.603402",
     "status": "completed"
    },
    "tags": []
   },
   "outputs": [
    {
     "name": "stdout",
     "output_type": "stream",
     "text": [
      "/kaggle/input/tabular-playground-series-feb-2022/sample_submission.csv\n",
      "/kaggle/input/tabular-playground-series-feb-2022/train.csv\n",
      "/kaggle/input/tabular-playground-series-feb-2022/test.csv\n"
     ]
    }
   ],
   "source": [
    "# Print directory structure\n",
    "for dirname, _, filenames in os.walk('/kaggle/input'):\n",
    "    for filename in filenames:\n",
    "        print(os.path.join(dirname, filename))"
   ]
  },
  {
   "cell_type": "code",
   "execution_count": 3,
   "id": "c234307e",
   "metadata": {
    "execution": {
     "iopub.execute_input": "2022-03-04T11:16:53.759994Z",
     "iopub.status.busy": "2022-03-04T11:16:53.757941Z",
     "iopub.status.idle": "2022-03-04T11:17:21.527542Z",
     "shell.execute_reply": "2022-03-04T11:17:21.526507Z",
     "shell.execute_reply.started": "2022-03-04T10:59:28.438513Z"
    },
    "papermill": {
     "duration": 27.817919,
     "end_time": "2022-03-04T11:17:21.527746",
     "exception": false,
     "start_time": "2022-03-04T11:16:53.709827",
     "status": "completed"
    },
    "tags": []
   },
   "outputs": [],
   "source": [
    "# Load training set\n",
    "df = pd.read_csv(\"/kaggle/input/tabular-playground-series-feb-2022/train.csv\")"
   ]
  },
  {
   "cell_type": "markdown",
   "id": "a85c923c",
   "metadata": {
    "papermill": {
     "duration": 0.046361,
     "end_time": "2022-03-04T11:17:21.620451",
     "exception": false,
     "start_time": "2022-03-04T11:17:21.574090",
     "status": "completed"
    },
    "tags": []
   },
   "source": [
    "## **Data Analysis**"
   ]
  },
  {
   "cell_type": "code",
   "execution_count": 4,
   "id": "bc453677",
   "metadata": {
    "execution": {
     "iopub.execute_input": "2022-03-04T11:17:21.718729Z",
     "iopub.status.busy": "2022-03-04T11:17:21.718019Z",
     "iopub.status.idle": "2022-03-04T11:17:21.723499Z",
     "shell.execute_reply": "2022-03-04T11:17:21.722955Z",
     "shell.execute_reply.started": "2022-03-04T10:59:51.324727Z"
    },
    "papermill": {
     "duration": 0.058283,
     "end_time": "2022-03-04T11:17:21.723665",
     "exception": false,
     "start_time": "2022-03-04T11:17:21.665382",
     "status": "completed"
    },
    "tags": []
   },
   "outputs": [
    {
     "data": {
      "text/plain": [
       "(200000, 288)"
      ]
     },
     "execution_count": 4,
     "metadata": {},
     "output_type": "execute_result"
    }
   ],
   "source": [
    "df.shape"
   ]
  },
  {
   "cell_type": "code",
   "execution_count": 5,
   "id": "7a3914cf",
   "metadata": {
    "execution": {
     "iopub.execute_input": "2022-03-04T11:17:21.818873Z",
     "iopub.status.busy": "2022-03-04T11:17:21.818122Z",
     "iopub.status.idle": "2022-03-04T11:17:21.851266Z",
     "shell.execute_reply": "2022-03-04T11:17:21.851880Z",
     "shell.execute_reply.started": "2022-03-04T10:59:51.333892Z"
    },
    "papermill": {
     "duration": 0.082297,
     "end_time": "2022-03-04T11:17:21.852051",
     "exception": false,
     "start_time": "2022-03-04T11:17:21.769754",
     "status": "completed"
    },
    "tags": []
   },
   "outputs": [
    {
     "data": {
      "text/html": [
       "<div>\n",
       "<style scoped>\n",
       "    .dataframe tbody tr th:only-of-type {\n",
       "        vertical-align: middle;\n",
       "    }\n",
       "\n",
       "    .dataframe tbody tr th {\n",
       "        vertical-align: top;\n",
       "    }\n",
       "\n",
       "    .dataframe thead th {\n",
       "        text-align: right;\n",
       "    }\n",
       "</style>\n",
       "<table border=\"1\" class=\"dataframe\">\n",
       "  <thead>\n",
       "    <tr style=\"text-align: right;\">\n",
       "      <th></th>\n",
       "      <th>row_id</th>\n",
       "      <th>A0T0G0C10</th>\n",
       "      <th>A0T0G1C9</th>\n",
       "      <th>A0T0G2C8</th>\n",
       "      <th>A0T0G3C7</th>\n",
       "      <th>A0T0G4C6</th>\n",
       "      <th>A0T0G5C5</th>\n",
       "      <th>A0T0G6C4</th>\n",
       "      <th>A0T0G7C3</th>\n",
       "      <th>A0T0G8C2</th>\n",
       "      <th>...</th>\n",
       "      <th>A8T0G1C1</th>\n",
       "      <th>A8T0G2C0</th>\n",
       "      <th>A8T1G0C1</th>\n",
       "      <th>A8T1G1C0</th>\n",
       "      <th>A8T2G0C0</th>\n",
       "      <th>A9T0G0C1</th>\n",
       "      <th>A9T0G1C0</th>\n",
       "      <th>A9T1G0C0</th>\n",
       "      <th>A10T0G0C0</th>\n",
       "      <th>target</th>\n",
       "    </tr>\n",
       "  </thead>\n",
       "  <tbody>\n",
       "    <tr>\n",
       "      <th>0</th>\n",
       "      <td>0</td>\n",
       "      <td>-9.536743e-07</td>\n",
       "      <td>-0.000010</td>\n",
       "      <td>-0.000043</td>\n",
       "      <td>-0.000114</td>\n",
       "      <td>-0.000200</td>\n",
       "      <td>-0.000240</td>\n",
       "      <td>-0.000200</td>\n",
       "      <td>-0.000114</td>\n",
       "      <td>-0.000043</td>\n",
       "      <td>...</td>\n",
       "      <td>-0.000086</td>\n",
       "      <td>-0.000043</td>\n",
       "      <td>-0.000086</td>\n",
       "      <td>-0.000086</td>\n",
       "      <td>-0.000043</td>\n",
       "      <td>-0.000010</td>\n",
       "      <td>-0.000010</td>\n",
       "      <td>-0.000010</td>\n",
       "      <td>-9.536743e-07</td>\n",
       "      <td>Streptococcus_pyogenes</td>\n",
       "    </tr>\n",
       "    <tr>\n",
       "      <th>1</th>\n",
       "      <td>1</td>\n",
       "      <td>-9.536743e-07</td>\n",
       "      <td>-0.000010</td>\n",
       "      <td>-0.000043</td>\n",
       "      <td>0.000886</td>\n",
       "      <td>-0.000200</td>\n",
       "      <td>0.000760</td>\n",
       "      <td>-0.000200</td>\n",
       "      <td>-0.000114</td>\n",
       "      <td>-0.000043</td>\n",
       "      <td>...</td>\n",
       "      <td>-0.000086</td>\n",
       "      <td>-0.000043</td>\n",
       "      <td>0.000914</td>\n",
       "      <td>0.000914</td>\n",
       "      <td>-0.000043</td>\n",
       "      <td>-0.000010</td>\n",
       "      <td>-0.000010</td>\n",
       "      <td>-0.000010</td>\n",
       "      <td>-9.536743e-07</td>\n",
       "      <td>Salmonella_enterica</td>\n",
       "    </tr>\n",
       "    <tr>\n",
       "      <th>2</th>\n",
       "      <td>2</td>\n",
       "      <td>-9.536743e-07</td>\n",
       "      <td>-0.000002</td>\n",
       "      <td>0.000007</td>\n",
       "      <td>0.000129</td>\n",
       "      <td>0.000268</td>\n",
       "      <td>0.000270</td>\n",
       "      <td>0.000243</td>\n",
       "      <td>0.000125</td>\n",
       "      <td>0.000001</td>\n",
       "      <td>...</td>\n",
       "      <td>0.000084</td>\n",
       "      <td>0.000048</td>\n",
       "      <td>0.000081</td>\n",
       "      <td>0.000106</td>\n",
       "      <td>0.000072</td>\n",
       "      <td>0.000010</td>\n",
       "      <td>0.000008</td>\n",
       "      <td>0.000019</td>\n",
       "      <td>1.046326e-06</td>\n",
       "      <td>Salmonella_enterica</td>\n",
       "    </tr>\n",
       "    <tr>\n",
       "      <th>3</th>\n",
       "      <td>3</td>\n",
       "      <td>4.632568e-08</td>\n",
       "      <td>-0.000006</td>\n",
       "      <td>0.000012</td>\n",
       "      <td>0.000245</td>\n",
       "      <td>0.000492</td>\n",
       "      <td>0.000522</td>\n",
       "      <td>0.000396</td>\n",
       "      <td>0.000197</td>\n",
       "      <td>-0.000003</td>\n",
       "      <td>...</td>\n",
       "      <td>0.000151</td>\n",
       "      <td>0.000100</td>\n",
       "      <td>0.000180</td>\n",
       "      <td>0.000202</td>\n",
       "      <td>0.000153</td>\n",
       "      <td>0.000021</td>\n",
       "      <td>0.000015</td>\n",
       "      <td>0.000046</td>\n",
       "      <td>-9.536743e-07</td>\n",
       "      <td>Salmonella_enterica</td>\n",
       "    </tr>\n",
       "    <tr>\n",
       "      <th>4</th>\n",
       "      <td>4</td>\n",
       "      <td>-9.536743e-07</td>\n",
       "      <td>-0.000010</td>\n",
       "      <td>-0.000043</td>\n",
       "      <td>-0.000114</td>\n",
       "      <td>-0.000200</td>\n",
       "      <td>-0.000240</td>\n",
       "      <td>-0.000200</td>\n",
       "      <td>-0.000114</td>\n",
       "      <td>-0.000043</td>\n",
       "      <td>...</td>\n",
       "      <td>-0.000086</td>\n",
       "      <td>-0.000043</td>\n",
       "      <td>-0.000086</td>\n",
       "      <td>-0.000086</td>\n",
       "      <td>-0.000043</td>\n",
       "      <td>-0.000010</td>\n",
       "      <td>-0.000010</td>\n",
       "      <td>-0.000010</td>\n",
       "      <td>-9.536743e-07</td>\n",
       "      <td>Enterococcus_hirae</td>\n",
       "    </tr>\n",
       "  </tbody>\n",
       "</table>\n",
       "<p>5 rows × 288 columns</p>\n",
       "</div>"
      ],
      "text/plain": [
       "   row_id     A0T0G0C10  A0T0G1C9  A0T0G2C8  A0T0G3C7  A0T0G4C6  A0T0G5C5  \\\n",
       "0       0 -9.536743e-07 -0.000010 -0.000043 -0.000114 -0.000200 -0.000240   \n",
       "1       1 -9.536743e-07 -0.000010 -0.000043  0.000886 -0.000200  0.000760   \n",
       "2       2 -9.536743e-07 -0.000002  0.000007  0.000129  0.000268  0.000270   \n",
       "3       3  4.632568e-08 -0.000006  0.000012  0.000245  0.000492  0.000522   \n",
       "4       4 -9.536743e-07 -0.000010 -0.000043 -0.000114 -0.000200 -0.000240   \n",
       "\n",
       "   A0T0G6C4  A0T0G7C3  A0T0G8C2  ...  A8T0G1C1  A8T0G2C0  A8T1G0C1  A8T1G1C0  \\\n",
       "0 -0.000200 -0.000114 -0.000043  ... -0.000086 -0.000043 -0.000086 -0.000086   \n",
       "1 -0.000200 -0.000114 -0.000043  ... -0.000086 -0.000043  0.000914  0.000914   \n",
       "2  0.000243  0.000125  0.000001  ...  0.000084  0.000048  0.000081  0.000106   \n",
       "3  0.000396  0.000197 -0.000003  ...  0.000151  0.000100  0.000180  0.000202   \n",
       "4 -0.000200 -0.000114 -0.000043  ... -0.000086 -0.000043 -0.000086 -0.000086   \n",
       "\n",
       "   A8T2G0C0  A9T0G0C1  A9T0G1C0  A9T1G0C0     A10T0G0C0  \\\n",
       "0 -0.000043 -0.000010 -0.000010 -0.000010 -9.536743e-07   \n",
       "1 -0.000043 -0.000010 -0.000010 -0.000010 -9.536743e-07   \n",
       "2  0.000072  0.000010  0.000008  0.000019  1.046326e-06   \n",
       "3  0.000153  0.000021  0.000015  0.000046 -9.536743e-07   \n",
       "4 -0.000043 -0.000010 -0.000010 -0.000010 -9.536743e-07   \n",
       "\n",
       "                   target  \n",
       "0  Streptococcus_pyogenes  \n",
       "1     Salmonella_enterica  \n",
       "2     Salmonella_enterica  \n",
       "3     Salmonella_enterica  \n",
       "4      Enterococcus_hirae  \n",
       "\n",
       "[5 rows x 288 columns]"
      ]
     },
     "execution_count": 5,
     "metadata": {},
     "output_type": "execute_result"
    }
   ],
   "source": [
    "df.head()"
   ]
  },
  {
   "cell_type": "code",
   "execution_count": 6,
   "id": "2bcdd6cc",
   "metadata": {
    "execution": {
     "iopub.execute_input": "2022-03-04T11:17:21.951898Z",
     "iopub.status.busy": "2022-03-04T11:17:21.947139Z",
     "iopub.status.idle": "2022-03-04T11:17:21.954214Z",
     "shell.execute_reply": "2022-03-04T11:17:21.954736Z",
     "shell.execute_reply.started": "2022-03-04T10:59:51.367729Z"
    },
    "papermill": {
     "duration": 0.056945,
     "end_time": "2022-03-04T11:17:21.954913",
     "exception": false,
     "start_time": "2022-03-04T11:17:21.897968",
     "status": "completed"
    },
    "tags": []
   },
   "outputs": [
    {
     "data": {
      "text/plain": [
       "row_id         int64\n",
       "A0T0G0C10    float64\n",
       "A0T0G1C9     float64\n",
       "A0T0G2C8     float64\n",
       "A0T0G3C7     float64\n",
       "              ...   \n",
       "A9T0G0C1     float64\n",
       "A9T0G1C0     float64\n",
       "A9T1G0C0     float64\n",
       "A10T0G0C0    float64\n",
       "target        object\n",
       "Length: 288, dtype: object"
      ]
     },
     "execution_count": 6,
     "metadata": {},
     "output_type": "execute_result"
    }
   ],
   "source": [
    "df.dtypes"
   ]
  },
  {
   "cell_type": "code",
   "execution_count": 7,
   "id": "b16e3ff2",
   "metadata": {
    "execution": {
     "iopub.execute_input": "2022-03-04T11:17:22.052771Z",
     "iopub.status.busy": "2022-03-04T11:17:22.052087Z",
     "iopub.status.idle": "2022-03-04T11:17:22.226894Z",
     "shell.execute_reply": "2022-03-04T11:17:22.226216Z",
     "shell.execute_reply.started": "2022-03-04T10:59:51.382209Z"
    },
    "papermill": {
     "duration": 0.225435,
     "end_time": "2022-03-04T11:17:22.227035",
     "exception": false,
     "start_time": "2022-03-04T11:17:22.001600",
     "status": "completed"
    },
    "tags": []
   },
   "outputs": [
    {
     "data": {
      "text/plain": [
       "(200000, 287)"
      ]
     },
     "execution_count": 7,
     "metadata": {},
     "output_type": "execute_result"
    }
   ],
   "source": [
    "# We drop the row_id column because we will not use it\n",
    "df.drop(columns=[\"row_id\"], inplace=True)\n",
    "df.shape"
   ]
  },
  {
   "cell_type": "code",
   "execution_count": 8,
   "id": "272a9b67",
   "metadata": {
    "execution": {
     "iopub.execute_input": "2022-03-04T11:17:22.328060Z",
     "iopub.status.busy": "2022-03-04T11:17:22.327334Z",
     "iopub.status.idle": "2022-03-04T11:17:22.456845Z",
     "shell.execute_reply": "2022-03-04T11:17:22.456288Z",
     "shell.execute_reply.started": "2022-03-04T10:59:51.568667Z"
    },
    "papermill": {
     "duration": 0.182838,
     "end_time": "2022-03-04T11:17:22.457014",
     "exception": false,
     "start_time": "2022-03-04T11:17:22.274176",
     "status": "completed"
    },
    "tags": []
   },
   "outputs": [
    {
     "data": {
      "text/plain": [
       "False"
      ]
     },
     "execution_count": 8,
     "metadata": {},
     "output_type": "execute_result"
    }
   ],
   "source": [
    "# Check the presence of null values\n",
    "df.isnull().values.any()"
   ]
  },
  {
   "cell_type": "code",
   "execution_count": 9,
   "id": "5f0d8156",
   "metadata": {
    "execution": {
     "iopub.execute_input": "2022-03-04T11:17:22.558213Z",
     "iopub.status.busy": "2022-03-04T11:17:22.557430Z",
     "iopub.status.idle": "2022-03-04T11:17:22.718395Z",
     "shell.execute_reply": "2022-03-04T11:17:22.717826Z",
     "shell.execute_reply.started": "2022-03-04T10:59:51.685771Z"
    },
    "papermill": {
     "duration": 0.21394,
     "end_time": "2022-03-04T11:17:22.718537",
     "exception": false,
     "start_time": "2022-03-04T11:17:22.504597",
     "status": "completed"
    },
    "tags": []
   },
   "outputs": [
    {
     "data": {
      "text/plain": [
       "True"
      ]
     },
     "execution_count": 9,
     "metadata": {},
     "output_type": "execute_result"
    }
   ],
   "source": [
    "# Check that all the values in the dataframe are not equal to zero\n",
    "df.all().all()"
   ]
  },
  {
   "cell_type": "markdown",
   "id": "bbde6826",
   "metadata": {
    "papermill": {
     "duration": 0.047371,
     "end_time": "2022-03-04T11:17:22.814648",
     "exception": false,
     "start_time": "2022-03-04T11:17:22.767277",
     "status": "completed"
    },
    "tags": []
   },
   "source": [
    "As we have seen, in the dataframe there aren't null or 0 values."
   ]
  },
  {
   "cell_type": "code",
   "execution_count": 10,
   "id": "2a16557b",
   "metadata": {
    "execution": {
     "iopub.execute_input": "2022-03-04T11:17:23.093008Z",
     "iopub.status.busy": "2022-03-04T11:17:23.092321Z",
     "iopub.status.idle": "2022-03-04T11:17:26.007306Z",
     "shell.execute_reply": "2022-03-04T11:17:26.006749Z",
     "shell.execute_reply.started": "2022-03-04T10:59:51.854197Z"
    },
    "papermill": {
     "duration": 3.144219,
     "end_time": "2022-03-04T11:17:26.007443",
     "exception": false,
     "start_time": "2022-03-04T11:17:22.863224",
     "status": "completed"
    },
    "tags": []
   },
   "outputs": [
    {
     "data": {
      "text/html": [
       "<div>\n",
       "<style scoped>\n",
       "    .dataframe tbody tr th:only-of-type {\n",
       "        vertical-align: middle;\n",
       "    }\n",
       "\n",
       "    .dataframe tbody tr th {\n",
       "        vertical-align: top;\n",
       "    }\n",
       "\n",
       "    .dataframe thead th {\n",
       "        text-align: right;\n",
       "    }\n",
       "</style>\n",
       "<table border=\"1\" class=\"dataframe\">\n",
       "  <thead>\n",
       "    <tr style=\"text-align: right;\">\n",
       "      <th></th>\n",
       "      <th>A0T0G0C10</th>\n",
       "      <th>A0T0G1C9</th>\n",
       "      <th>A0T0G2C8</th>\n",
       "      <th>A0T0G3C7</th>\n",
       "      <th>A0T0G4C6</th>\n",
       "      <th>A0T0G5C5</th>\n",
       "      <th>A0T0G6C4</th>\n",
       "      <th>A0T0G7C3</th>\n",
       "      <th>A0T0G8C2</th>\n",
       "      <th>A0T0G9C1</th>\n",
       "      <th>...</th>\n",
       "      <th>A8T0G0C2</th>\n",
       "      <th>A8T0G1C1</th>\n",
       "      <th>A8T0G2C0</th>\n",
       "      <th>A8T1G0C1</th>\n",
       "      <th>A8T1G1C0</th>\n",
       "      <th>A8T2G0C0</th>\n",
       "      <th>A9T0G0C1</th>\n",
       "      <th>A9T0G1C0</th>\n",
       "      <th>A9T1G0C0</th>\n",
       "      <th>A10T0G0C0</th>\n",
       "    </tr>\n",
       "  </thead>\n",
       "  <tbody>\n",
       "    <tr>\n",
       "      <th>count</th>\n",
       "      <td>2.000000e+05</td>\n",
       "      <td>200000.000000</td>\n",
       "      <td>200000.000000</td>\n",
       "      <td>200000.000000</td>\n",
       "      <td>200000.000000</td>\n",
       "      <td>200000.000000</td>\n",
       "      <td>200000.000000</td>\n",
       "      <td>200000.000000</td>\n",
       "      <td>200000.000000</td>\n",
       "      <td>200000.000000</td>\n",
       "      <td>...</td>\n",
       "      <td>200000.000000</td>\n",
       "      <td>200000.000000</td>\n",
       "      <td>200000.000000</td>\n",
       "      <td>200000.000000</td>\n",
       "      <td>200000.000000</td>\n",
       "      <td>200000.000000</td>\n",
       "      <td>200000.000000</td>\n",
       "      <td>2.000000e+05</td>\n",
       "      <td>2.000000e+05</td>\n",
       "      <td>2.000000e+05</td>\n",
       "    </tr>\n",
       "    <tr>\n",
       "      <th>mean</th>\n",
       "      <td>6.421457e-07</td>\n",
       "      <td>-0.000003</td>\n",
       "      <td>-0.000014</td>\n",
       "      <td>-0.000010</td>\n",
       "      <td>0.000005</td>\n",
       "      <td>0.000025</td>\n",
       "      <td>0.000014</td>\n",
       "      <td>-0.000009</td>\n",
       "      <td>-0.000028</td>\n",
       "      <td>-0.000008</td>\n",
       "      <td>...</td>\n",
       "      <td>0.000135</td>\n",
       "      <td>0.000348</td>\n",
       "      <td>0.000253</td>\n",
       "      <td>0.000464</td>\n",
       "      <td>0.000581</td>\n",
       "      <td>0.000379</td>\n",
       "      <td>0.000062</td>\n",
       "      <td>8.982134e-05</td>\n",
       "      <td>1.170014e-04</td>\n",
       "      <td>2.215407e-07</td>\n",
       "    </tr>\n",
       "    <tr>\n",
       "      <th>std</th>\n",
       "      <td>8.654927e-05</td>\n",
       "      <td>0.000132</td>\n",
       "      <td>0.000287</td>\n",
       "      <td>0.000436</td>\n",
       "      <td>0.000683</td>\n",
       "      <td>0.000869</td>\n",
       "      <td>0.000775</td>\n",
       "      <td>0.000441</td>\n",
       "      <td>0.000107</td>\n",
       "      <td>0.000083</td>\n",
       "      <td>...</td>\n",
       "      <td>0.000711</td>\n",
       "      <td>0.001117</td>\n",
       "      <td>0.000914</td>\n",
       "      <td>0.001238</td>\n",
       "      <td>0.001528</td>\n",
       "      <td>0.001182</td>\n",
       "      <td>0.000466</td>\n",
       "      <td>5.475606e-04</td>\n",
       "      <td>6.788277e-04</td>\n",
       "      <td>2.050081e-05</td>\n",
       "    </tr>\n",
       "    <tr>\n",
       "      <th>min</th>\n",
       "      <td>-9.536743e-07</td>\n",
       "      <td>-0.000010</td>\n",
       "      <td>-0.000043</td>\n",
       "      <td>-0.000114</td>\n",
       "      <td>-0.000200</td>\n",
       "      <td>-0.000240</td>\n",
       "      <td>-0.000200</td>\n",
       "      <td>-0.000114</td>\n",
       "      <td>-0.000043</td>\n",
       "      <td>-0.000010</td>\n",
       "      <td>...</td>\n",
       "      <td>-0.000043</td>\n",
       "      <td>-0.000086</td>\n",
       "      <td>-0.000043</td>\n",
       "      <td>-0.000086</td>\n",
       "      <td>-0.000086</td>\n",
       "      <td>-0.000043</td>\n",
       "      <td>-0.000010</td>\n",
       "      <td>-9.536743e-06</td>\n",
       "      <td>-9.536743e-06</td>\n",
       "      <td>-9.536743e-07</td>\n",
       "    </tr>\n",
       "    <tr>\n",
       "      <th>25%</th>\n",
       "      <td>-9.536743e-07</td>\n",
       "      <td>-0.000010</td>\n",
       "      <td>-0.000043</td>\n",
       "      <td>-0.000114</td>\n",
       "      <td>-0.000200</td>\n",
       "      <td>-0.000240</td>\n",
       "      <td>-0.000200</td>\n",
       "      <td>-0.000114</td>\n",
       "      <td>-0.000043</td>\n",
       "      <td>-0.000010</td>\n",
       "      <td>...</td>\n",
       "      <td>-0.000043</td>\n",
       "      <td>-0.000086</td>\n",
       "      <td>-0.000043</td>\n",
       "      <td>-0.000086</td>\n",
       "      <td>-0.000086</td>\n",
       "      <td>-0.000043</td>\n",
       "      <td>-0.000010</td>\n",
       "      <td>-9.536743e-06</td>\n",
       "      <td>-9.536743e-06</td>\n",
       "      <td>-9.536743e-07</td>\n",
       "    </tr>\n",
       "    <tr>\n",
       "      <th>50%</th>\n",
       "      <td>-9.536743e-07</td>\n",
       "      <td>-0.000010</td>\n",
       "      <td>-0.000043</td>\n",
       "      <td>-0.000114</td>\n",
       "      <td>-0.000200</td>\n",
       "      <td>-0.000237</td>\n",
       "      <td>-0.000199</td>\n",
       "      <td>-0.000114</td>\n",
       "      <td>-0.000043</td>\n",
       "      <td>-0.000010</td>\n",
       "      <td>...</td>\n",
       "      <td>0.000014</td>\n",
       "      <td>0.000064</td>\n",
       "      <td>0.000047</td>\n",
       "      <td>0.000124</td>\n",
       "      <td>0.000114</td>\n",
       "      <td>0.000043</td>\n",
       "      <td>-0.000010</td>\n",
       "      <td>4.632568e-07</td>\n",
       "      <td>4.632568e-07</td>\n",
       "      <td>-9.536743e-07</td>\n",
       "    </tr>\n",
       "    <tr>\n",
       "      <th>75%</th>\n",
       "      <td>-9.536743e-07</td>\n",
       "      <td>-0.000003</td>\n",
       "      <td>-0.000013</td>\n",
       "      <td>-0.000004</td>\n",
       "      <td>-0.000011</td>\n",
       "      <td>0.000003</td>\n",
       "      <td>-0.000030</td>\n",
       "      <td>0.000004</td>\n",
       "      <td>-0.000028</td>\n",
       "      <td>-0.000010</td>\n",
       "      <td>...</td>\n",
       "      <td>0.000111</td>\n",
       "      <td>0.000463</td>\n",
       "      <td>0.000297</td>\n",
       "      <td>0.000684</td>\n",
       "      <td>0.000774</td>\n",
       "      <td>0.000365</td>\n",
       "      <td>0.000030</td>\n",
       "      <td>6.046326e-05</td>\n",
       "      <td>6.946326e-05</td>\n",
       "      <td>-9.536743e-07</td>\n",
       "    </tr>\n",
       "    <tr>\n",
       "      <th>max</th>\n",
       "      <td>9.999046e-03</td>\n",
       "      <td>0.009990</td>\n",
       "      <td>0.009957</td>\n",
       "      <td>0.009886</td>\n",
       "      <td>0.019800</td>\n",
       "      <td>0.019760</td>\n",
       "      <td>0.019800</td>\n",
       "      <td>0.009886</td>\n",
       "      <td>0.009957</td>\n",
       "      <td>0.009990</td>\n",
       "      <td>...</td>\n",
       "      <td>0.019957</td>\n",
       "      <td>0.019914</td>\n",
       "      <td>0.019957</td>\n",
       "      <td>0.019914</td>\n",
       "      <td>0.019914</td>\n",
       "      <td>0.019957</td>\n",
       "      <td>0.009990</td>\n",
       "      <td>9.990463e-03</td>\n",
       "      <td>1.999046e-02</td>\n",
       "      <td>9.990463e-04</td>\n",
       "    </tr>\n",
       "  </tbody>\n",
       "</table>\n",
       "<p>8 rows × 286 columns</p>\n",
       "</div>"
      ],
      "text/plain": [
       "          A0T0G0C10       A0T0G1C9       A0T0G2C8       A0T0G3C7  \\\n",
       "count  2.000000e+05  200000.000000  200000.000000  200000.000000   \n",
       "mean   6.421457e-07      -0.000003      -0.000014      -0.000010   \n",
       "std    8.654927e-05       0.000132       0.000287       0.000436   \n",
       "min   -9.536743e-07      -0.000010      -0.000043      -0.000114   \n",
       "25%   -9.536743e-07      -0.000010      -0.000043      -0.000114   \n",
       "50%   -9.536743e-07      -0.000010      -0.000043      -0.000114   \n",
       "75%   -9.536743e-07      -0.000003      -0.000013      -0.000004   \n",
       "max    9.999046e-03       0.009990       0.009957       0.009886   \n",
       "\n",
       "            A0T0G4C6       A0T0G5C5       A0T0G6C4       A0T0G7C3  \\\n",
       "count  200000.000000  200000.000000  200000.000000  200000.000000   \n",
       "mean        0.000005       0.000025       0.000014      -0.000009   \n",
       "std         0.000683       0.000869       0.000775       0.000441   \n",
       "min        -0.000200      -0.000240      -0.000200      -0.000114   \n",
       "25%        -0.000200      -0.000240      -0.000200      -0.000114   \n",
       "50%        -0.000200      -0.000237      -0.000199      -0.000114   \n",
       "75%        -0.000011       0.000003      -0.000030       0.000004   \n",
       "max         0.019800       0.019760       0.019800       0.009886   \n",
       "\n",
       "            A0T0G8C2       A0T0G9C1  ...       A8T0G0C2       A8T0G1C1  \\\n",
       "count  200000.000000  200000.000000  ...  200000.000000  200000.000000   \n",
       "mean       -0.000028      -0.000008  ...       0.000135       0.000348   \n",
       "std         0.000107       0.000083  ...       0.000711       0.001117   \n",
       "min        -0.000043      -0.000010  ...      -0.000043      -0.000086   \n",
       "25%        -0.000043      -0.000010  ...      -0.000043      -0.000086   \n",
       "50%        -0.000043      -0.000010  ...       0.000014       0.000064   \n",
       "75%        -0.000028      -0.000010  ...       0.000111       0.000463   \n",
       "max         0.009957       0.009990  ...       0.019957       0.019914   \n",
       "\n",
       "            A8T0G2C0       A8T1G0C1       A8T1G1C0       A8T2G0C0  \\\n",
       "count  200000.000000  200000.000000  200000.000000  200000.000000   \n",
       "mean        0.000253       0.000464       0.000581       0.000379   \n",
       "std         0.000914       0.001238       0.001528       0.001182   \n",
       "min        -0.000043      -0.000086      -0.000086      -0.000043   \n",
       "25%        -0.000043      -0.000086      -0.000086      -0.000043   \n",
       "50%         0.000047       0.000124       0.000114       0.000043   \n",
       "75%         0.000297       0.000684       0.000774       0.000365   \n",
       "max         0.019957       0.019914       0.019914       0.019957   \n",
       "\n",
       "            A9T0G0C1      A9T0G1C0      A9T1G0C0     A10T0G0C0  \n",
       "count  200000.000000  2.000000e+05  2.000000e+05  2.000000e+05  \n",
       "mean        0.000062  8.982134e-05  1.170014e-04  2.215407e-07  \n",
       "std         0.000466  5.475606e-04  6.788277e-04  2.050081e-05  \n",
       "min        -0.000010 -9.536743e-06 -9.536743e-06 -9.536743e-07  \n",
       "25%        -0.000010 -9.536743e-06 -9.536743e-06 -9.536743e-07  \n",
       "50%        -0.000010  4.632568e-07  4.632568e-07 -9.536743e-07  \n",
       "75%         0.000030  6.046326e-05  6.946326e-05 -9.536743e-07  \n",
       "max         0.009990  9.990463e-03  1.999046e-02  9.990463e-04  \n",
       "\n",
       "[8 rows x 286 columns]"
      ]
     },
     "execution_count": 10,
     "metadata": {},
     "output_type": "execute_result"
    }
   ],
   "source": [
    "df.describe()"
   ]
  },
  {
   "cell_type": "code",
   "execution_count": 11,
   "id": "5956c490",
   "metadata": {
    "execution": {
     "iopub.execute_input": "2022-03-04T11:17:26.143393Z",
     "iopub.status.busy": "2022-03-04T11:17:26.142686Z",
     "iopub.status.idle": "2022-03-04T11:17:26.407585Z",
     "shell.execute_reply": "2022-03-04T11:17:26.406860Z",
     "shell.execute_reply.started": "2022-03-04T10:59:55.410980Z"
    },
    "papermill": {
     "duration": 0.35158,
     "end_time": "2022-03-04T11:17:26.407788",
     "exception": false,
     "start_time": "2022-03-04T11:17:26.056208",
     "status": "completed"
    },
    "tags": []
   },
   "outputs": [
    {
     "data": {
      "image/png": "[encoded data removed]",
      "text/plain": [
       "<Figure size 432x288 with 1 Axes>"
      ]
     },
     "metadata": {
      "needs_background": "light"
     },
     "output_type": "display_data"
    }
   ],
   "source": [
    "# Plot the distribution of values for the target column\n",
    "df[\"target\"].value_counts().plot(kind=\"bar\");"
   ]
  },
  {
   "cell_type": "markdown",
   "id": "a90628fc",
   "metadata": {
    "papermill": {
     "duration": 0.053181,
     "end_time": "2022-03-04T11:17:26.511111",
     "exception": false,
     "start_time": "2022-03-04T11:17:26.457930",
     "status": "completed"
    },
    "tags": []
   },
   "source": [
    "As we can see, the different classes in the dataset are balanced."
   ]
  },
  {
   "cell_type": "markdown",
   "id": "e3426ed2",
   "metadata": {
    "papermill": {
     "duration": 0.049359,
     "end_time": "2022-03-04T11:17:26.611550",
     "exception": false,
     "start_time": "2022-03-04T11:17:26.562191",
     "status": "completed"
    },
    "tags": []
   },
   "source": [
    "## **Target Labels Encoding**"
   ]
  },
  {
   "cell_type": "code",
   "execution_count": 12,
   "id": "0ff962ea",
   "metadata": {
    "execution": {
     "iopub.execute_input": "2022-03-04T11:17:26.720741Z",
     "iopub.status.busy": "2022-03-04T11:17:26.720059Z",
     "iopub.status.idle": "2022-03-04T11:17:27.709597Z",
     "shell.execute_reply": "2022-03-04T11:17:27.708991Z",
     "shell.execute_reply.started": "2022-03-04T10:59:55.716200Z"
    },
    "papermill": {
     "duration": 1.045852,
     "end_time": "2022-03-04T11:17:27.709773",
     "exception": false,
     "start_time": "2022-03-04T11:17:26.663921",
     "status": "completed"
    },
    "tags": []
   },
   "outputs": [],
   "source": [
    "# Imports\n",
    "from sklearn.preprocessing import LabelEncoder"
   ]
  },
  {
   "cell_type": "code",
   "execution_count": 13,
   "id": "aff46ea9",
   "metadata": {
    "execution": {
     "iopub.execute_input": "2022-03-04T11:17:27.877525Z",
     "iopub.status.busy": "2022-03-04T11:17:27.876850Z",
     "iopub.status.idle": "2022-03-04T11:17:27.904032Z",
     "shell.execute_reply": "2022-03-04T11:17:27.903433Z",
     "shell.execute_reply.started": "2022-03-04T10:59:55.721232Z"
    },
    "papermill": {
     "duration": 0.141412,
     "end_time": "2022-03-04T11:17:27.904198",
     "exception": false,
     "start_time": "2022-03-04T11:17:27.762786",
     "status": "completed"
    },
    "tags": []
   },
   "outputs": [
    {
     "data": {
      "text/html": [
       "<div>\n",
       "<style scoped>\n",
       "    .dataframe tbody tr th:only-of-type {\n",
       "        vertical-align: middle;\n",
       "    }\n",
       "\n",
       "    .dataframe tbody tr th {\n",
       "        vertical-align: top;\n",
       "    }\n",
       "\n",
       "    .dataframe thead th {\n",
       "        text-align: right;\n",
       "    }\n",
       "</style>\n",
       "<table border=\"1\" class=\"dataframe\">\n",
       "  <thead>\n",
       "    <tr style=\"text-align: right;\">\n",
       "      <th></th>\n",
       "      <th>A0T0G0C10</th>\n",
       "      <th>A0T0G1C9</th>\n",
       "      <th>A0T0G2C8</th>\n",
       "      <th>A0T0G3C7</th>\n",
       "      <th>A0T0G4C6</th>\n",
       "      <th>A0T0G5C5</th>\n",
       "      <th>A0T0G6C4</th>\n",
       "      <th>A0T0G7C3</th>\n",
       "      <th>A0T0G8C2</th>\n",
       "      <th>A0T0G9C1</th>\n",
       "      <th>...</th>\n",
       "      <th>A8T0G1C1</th>\n",
       "      <th>A8T0G2C0</th>\n",
       "      <th>A8T1G0C1</th>\n",
       "      <th>A8T1G1C0</th>\n",
       "      <th>A8T2G0C0</th>\n",
       "      <th>A9T0G0C1</th>\n",
       "      <th>A9T0G1C0</th>\n",
       "      <th>A9T1G0C0</th>\n",
       "      <th>A10T0G0C0</th>\n",
       "      <th>target</th>\n",
       "    </tr>\n",
       "  </thead>\n",
       "  <tbody>\n",
       "    <tr>\n",
       "      <th>0</th>\n",
       "      <td>-9.536743e-07</td>\n",
       "      <td>-0.000010</td>\n",
       "      <td>-0.000043</td>\n",
       "      <td>-0.000114</td>\n",
       "      <td>-0.000200</td>\n",
       "      <td>-0.000240</td>\n",
       "      <td>-0.000200</td>\n",
       "      <td>-0.000114</td>\n",
       "      <td>-0.000043</td>\n",
       "      <td>-0.000010</td>\n",
       "      <td>...</td>\n",
       "      <td>-0.000086</td>\n",
       "      <td>-0.000043</td>\n",
       "      <td>-0.000086</td>\n",
       "      <td>-0.000086</td>\n",
       "      <td>-0.000043</td>\n",
       "      <td>-0.000010</td>\n",
       "      <td>-0.000010</td>\n",
       "      <td>-0.000010</td>\n",
       "      <td>-9.536743e-07</td>\n",
       "      <td>9</td>\n",
       "    </tr>\n",
       "    <tr>\n",
       "      <th>1</th>\n",
       "      <td>-9.536743e-07</td>\n",
       "      <td>-0.000010</td>\n",
       "      <td>-0.000043</td>\n",
       "      <td>0.000886</td>\n",
       "      <td>-0.000200</td>\n",
       "      <td>0.000760</td>\n",
       "      <td>-0.000200</td>\n",
       "      <td>-0.000114</td>\n",
       "      <td>-0.000043</td>\n",
       "      <td>-0.000010</td>\n",
       "      <td>...</td>\n",
       "      <td>-0.000086</td>\n",
       "      <td>-0.000043</td>\n",
       "      <td>0.000914</td>\n",
       "      <td>0.000914</td>\n",
       "      <td>-0.000043</td>\n",
       "      <td>-0.000010</td>\n",
       "      <td>-0.000010</td>\n",
       "      <td>-0.000010</td>\n",
       "      <td>-9.536743e-07</td>\n",
       "      <td>6</td>\n",
       "    </tr>\n",
       "    <tr>\n",
       "      <th>2</th>\n",
       "      <td>-9.536743e-07</td>\n",
       "      <td>-0.000002</td>\n",
       "      <td>0.000007</td>\n",
       "      <td>0.000129</td>\n",
       "      <td>0.000268</td>\n",
       "      <td>0.000270</td>\n",
       "      <td>0.000243</td>\n",
       "      <td>0.000125</td>\n",
       "      <td>0.000001</td>\n",
       "      <td>-0.000007</td>\n",
       "      <td>...</td>\n",
       "      <td>0.000084</td>\n",
       "      <td>0.000048</td>\n",
       "      <td>0.000081</td>\n",
       "      <td>0.000106</td>\n",
       "      <td>0.000072</td>\n",
       "      <td>0.000010</td>\n",
       "      <td>0.000008</td>\n",
       "      <td>0.000019</td>\n",
       "      <td>1.046326e-06</td>\n",
       "      <td>6</td>\n",
       "    </tr>\n",
       "    <tr>\n",
       "      <th>3</th>\n",
       "      <td>4.632568e-08</td>\n",
       "      <td>-0.000006</td>\n",
       "      <td>0.000012</td>\n",
       "      <td>0.000245</td>\n",
       "      <td>0.000492</td>\n",
       "      <td>0.000522</td>\n",
       "      <td>0.000396</td>\n",
       "      <td>0.000197</td>\n",
       "      <td>-0.000003</td>\n",
       "      <td>-0.000007</td>\n",
       "      <td>...</td>\n",
       "      <td>0.000151</td>\n",
       "      <td>0.000100</td>\n",
       "      <td>0.000180</td>\n",
       "      <td>0.000202</td>\n",
       "      <td>0.000153</td>\n",
       "      <td>0.000021</td>\n",
       "      <td>0.000015</td>\n",
       "      <td>0.000046</td>\n",
       "      <td>-9.536743e-07</td>\n",
       "      <td>6</td>\n",
       "    </tr>\n",
       "    <tr>\n",
       "      <th>4</th>\n",
       "      <td>-9.536743e-07</td>\n",
       "      <td>-0.000010</td>\n",
       "      <td>-0.000043</td>\n",
       "      <td>-0.000114</td>\n",
       "      <td>-0.000200</td>\n",
       "      <td>-0.000240</td>\n",
       "      <td>-0.000200</td>\n",
       "      <td>-0.000114</td>\n",
       "      <td>-0.000043</td>\n",
       "      <td>-0.000010</td>\n",
       "      <td>...</td>\n",
       "      <td>-0.000086</td>\n",
       "      <td>-0.000043</td>\n",
       "      <td>-0.000086</td>\n",
       "      <td>-0.000086</td>\n",
       "      <td>-0.000043</td>\n",
       "      <td>-0.000010</td>\n",
       "      <td>-0.000010</td>\n",
       "      <td>-0.000010</td>\n",
       "      <td>-9.536743e-07</td>\n",
       "      <td>2</td>\n",
       "    </tr>\n",
       "  </tbody>\n",
       "</table>\n",
       "<p>5 rows × 287 columns</p>\n",
       "</div>"
      ],
      "text/plain": [
       "      A0T0G0C10  A0T0G1C9  A0T0G2C8  A0T0G3C7  A0T0G4C6  A0T0G5C5  A0T0G6C4  \\\n",
       "0 -9.536743e-07 -0.000010 -0.000043 -0.000114 -0.000200 -0.000240 -0.000200   \n",
       "1 -9.536743e-07 -0.000010 -0.000043  0.000886 -0.000200  0.000760 -0.000200   \n",
       "2 -9.536743e-07 -0.000002  0.000007  0.000129  0.000268  0.000270  0.000243   \n",
       "3  4.632568e-08 -0.000006  0.000012  0.000245  0.000492  0.000522  0.000396   \n",
       "4 -9.536743e-07 -0.000010 -0.000043 -0.000114 -0.000200 -0.000240 -0.000200   \n",
       "\n",
       "   A0T0G7C3  A0T0G8C2  A0T0G9C1  ...  A8T0G1C1  A8T0G2C0  A8T1G0C1  A8T1G1C0  \\\n",
       "0 -0.000114 -0.000043 -0.000010  ... -0.000086 -0.000043 -0.000086 -0.000086   \n",
       "1 -0.000114 -0.000043 -0.000010  ... -0.000086 -0.000043  0.000914  0.000914   \n",
       "2  0.000125  0.000001 -0.000007  ...  0.000084  0.000048  0.000081  0.000106   \n",
       "3  0.000197 -0.000003 -0.000007  ...  0.000151  0.000100  0.000180  0.000202   \n",
       "4 -0.000114 -0.000043 -0.000010  ... -0.000086 -0.000043 -0.000086 -0.000086   \n",
       "\n",
       "   A8T2G0C0  A9T0G0C1  A9T0G1C0  A9T1G0C0     A10T0G0C0  target  \n",
       "0 -0.000043 -0.000010 -0.000010 -0.000010 -9.536743e-07       9  \n",
       "1 -0.000043 -0.000010 -0.000010 -0.000010 -9.536743e-07       6  \n",
       "2  0.000072  0.000010  0.000008  0.000019  1.046326e-06       6  \n",
       "3  0.000153  0.000021  0.000015  0.000046 -9.536743e-07       6  \n",
       "4 -0.000043 -0.000010 -0.000010 -0.000010 -9.536743e-07       2  \n",
       "\n",
       "[5 rows x 287 columns]"
      ]
     },
     "execution_count": 13,
     "metadata": {},
     "output_type": "execute_result"
    }
   ],
   "source": [
    "# Label encoding of the target.\n",
    "# We will map each of the 10 different target classess to an intger in the range 0-9\n",
    "label_encoder = LabelEncoder()\n",
    "df[\"target\"] = label_encoder.fit(df[\"target\"]).transform(df[\"target\"])\n",
    "df.head()"
   ]
  },
  {
   "cell_type": "markdown",
   "id": "4f85f72d",
   "metadata": {
    "papermill": {
     "duration": 0.050854,
     "end_time": "2022-03-04T11:17:28.007900",
     "exception": false,
     "start_time": "2022-03-04T11:17:27.957046",
     "status": "completed"
    },
    "tags": []
   },
   "source": [
    "## **Train-Test Split**"
   ]
  },
  {
   "cell_type": "code",
   "execution_count": 14,
   "id": "a86ecc24",
   "metadata": {
    "execution": {
     "iopub.execute_input": "2022-03-04T11:17:28.117538Z",
     "iopub.status.busy": "2022-03-04T11:17:28.116760Z",
     "iopub.status.idle": "2022-03-04T11:17:28.178912Z",
     "shell.execute_reply": "2022-03-04T11:17:28.178247Z",
     "shell.execute_reply.started": "2022-03-04T10:59:55.816747Z"
    },
    "papermill": {
     "duration": 0.120107,
     "end_time": "2022-03-04T11:17:28.179080",
     "exception": false,
     "start_time": "2022-03-04T11:17:28.058973",
     "status": "completed"
    },
    "tags": []
   },
   "outputs": [],
   "source": [
    "# Imports\n",
    "from sklearn.model_selection import train_test_split"
   ]
  },
  {
   "cell_type": "code",
   "execution_count": 15,
   "id": "8ad40cc7",
   "metadata": {
    "execution": {
     "iopub.execute_input": "2022-03-04T11:17:28.432747Z",
     "iopub.status.busy": "2022-03-04T11:17:28.290213Z",
     "iopub.status.idle": "2022-03-04T11:17:29.077009Z",
     "shell.execute_reply": "2022-03-04T11:17:29.076296Z",
     "shell.execute_reply.started": "2022-03-04T10:59:55.824783Z"
    },
    "papermill": {
     "duration": 0.845823,
     "end_time": "2022-03-04T11:17:29.077158",
     "exception": false,
     "start_time": "2022-03-04T11:17:28.231335",
     "status": "completed"
    },
    "tags": []
   },
   "outputs": [],
   "source": [
    "X_train, X_test, Y_train, Y_test = train_test_split(df.drop(columns=[\"target\"]), df[\"target\"], test_size=0.33, stratify=df[\"target\"], random_state=42)"
   ]
  },
  {
   "cell_type": "code",
   "execution_count": 16,
   "id": "7b6c9da5",
   "metadata": {
    "execution": {
     "iopub.execute_input": "2022-03-04T11:17:29.187508Z",
     "iopub.status.busy": "2022-03-04T11:17:29.186810Z",
     "iopub.status.idle": "2022-03-04T11:17:29.190880Z",
     "shell.execute_reply": "2022-03-04T11:17:29.191362Z",
     "shell.execute_reply.started": "2022-03-04T10:59:56.674591Z"
    },
    "papermill": {
     "duration": 0.06317,
     "end_time": "2022-03-04T11:17:29.191543",
     "exception": false,
     "start_time": "2022-03-04T11:17:29.128373",
     "status": "completed"
    },
    "tags": []
   },
   "outputs": [
    {
     "name": "stdout",
     "output_type": "stream",
     "text": [
      "X_train shape: (134000, 286)\n",
      "Y_train shape: (134000,)\n",
      "X_test shape: (66000, 286)\n",
      "Y_test shape: (66000,)\n"
     ]
    }
   ],
   "source": [
    "print(f\"X_train shape: {X_train.shape}\")\n",
    "print(f\"Y_train shape: {Y_train.shape}\")\n",
    "print(f\"X_test shape: {X_test.shape}\")\n",
    "print(f\"Y_test shape: {Y_test.shape}\")"
   ]
  },
  {
   "cell_type": "markdown",
   "id": "a99fd484",
   "metadata": {
    "papermill": {
     "duration": 0.050993,
     "end_time": "2022-03-04T11:17:29.295812",
     "exception": false,
     "start_time": "2022-03-04T11:17:29.244819",
     "status": "completed"
    },
    "tags": []
   },
   "source": [
    "## **Dimensionality Reduction** "
   ]
  },
  {
   "cell_type": "code",
   "execution_count": 17,
   "id": "7f125e9d",
   "metadata": {
    "execution": {
     "iopub.execute_input": "2022-03-04T11:17:29.405337Z",
     "iopub.status.busy": "2022-03-04T11:17:29.404650Z",
     "iopub.status.idle": "2022-03-04T11:17:29.523157Z",
     "shell.execute_reply": "2022-03-04T11:17:29.521820Z",
     "shell.execute_reply.started": "2022-03-04T10:59:56.681915Z"
    },
    "papermill": {
     "duration": 0.17451,
     "end_time": "2022-03-04T11:17:29.523307",
     "exception": false,
     "start_time": "2022-03-04T11:17:29.348797",
     "status": "completed"
    },
    "tags": []
   },
   "outputs": [],
   "source": [
    "# Imports\n",
    "from sklearn.preprocessing import StandardScaler\n",
    "from sklearn.decomposition import PCA"
   ]
  },
  {
   "cell_type": "code",
   "execution_count": 18,
   "id": "bce5b982",
   "metadata": {
    "execution": {
     "iopub.execute_input": "2022-03-04T11:17:29.637086Z",
     "iopub.status.busy": "2022-03-04T11:17:29.636299Z",
     "iopub.status.idle": "2022-03-04T11:17:30.489650Z",
     "shell.execute_reply": "2022-03-04T11:17:30.489065Z",
     "shell.execute_reply.started": "2022-03-04T10:59:56.695894Z"
    },
    "papermill": {
     "duration": 0.915572,
     "end_time": "2022-03-04T11:17:30.489826",
     "exception": false,
     "start_time": "2022-03-04T11:17:29.574254",
     "status": "completed"
    },
    "tags": []
   },
   "outputs": [
    {
     "data": {
      "text/plain": [
       "(134000, 286)"
      ]
     },
     "execution_count": 18,
     "metadata": {},
     "output_type": "execute_result"
    }
   ],
   "source": [
    "# Standardize the features. This process is needed before doing the PCA.\n",
    "st_scaler = StandardScaler()\n",
    "st_scaler.fit(X_train)\n",
    "X_train_st = st_scaler.transform(X_train)\n",
    "X_train_st.shape"
   ]
  },
  {
   "cell_type": "code",
   "execution_count": 19,
   "id": "23b38d6d",
   "metadata": {
    "execution": {
     "iopub.execute_input": "2022-03-04T11:17:30.602097Z",
     "iopub.status.busy": "2022-03-04T11:17:30.601329Z",
     "iopub.status.idle": "2022-03-04T11:17:35.666373Z",
     "shell.execute_reply": "2022-03-04T11:17:35.667347Z",
     "shell.execute_reply.started": "2022-03-04T10:59:57.570793Z"
    },
    "papermill": {
     "duration": 5.125049,
     "end_time": "2022-03-04T11:17:35.667641",
     "exception": false,
     "start_time": "2022-03-04T11:17:30.542592",
     "status": "completed"
    },
    "tags": []
   },
   "outputs": [
    {
     "data": {
      "text/plain": [
       "(134000, 50)"
      ]
     },
     "execution_count": 19,
     "metadata": {},
     "output_type": "execute_result"
    }
   ],
   "source": [
    "# Perform PCA\n",
    "pca = PCA(n_components=50)\n",
    "pca.fit(X_train_st)\n",
    "X_train_pca = pca.transform(X_train_st)\n",
    "X_train_pca.shape"
   ]
  },
  {
   "cell_type": "markdown",
   "id": "fa8ae897",
   "metadata": {
    "papermill": {
     "duration": 0.057796,
     "end_time": "2022-03-04T11:17:35.824928",
     "exception": false,
     "start_time": "2022-03-04T11:17:35.767132",
     "status": "completed"
    },
    "tags": []
   },
   "source": [
    "## **ML Models Testing**"
   ]
  },
  {
   "cell_type": "markdown",
   "id": "45c0c8e9",
   "metadata": {
    "papermill": {
     "duration": 0.051668,
     "end_time": "2022-03-04T11:17:35.928581",
     "exception": false,
     "start_time": "2022-03-04T11:17:35.876913",
     "status": "completed"
    },
    "tags": []
   },
   "source": [
    "### **Decision Tree Classifier**"
   ]
  },
  {
   "cell_type": "code",
   "execution_count": null,
   "id": "357580ab",
   "metadata": {
    "papermill": {
     "duration": 0.051607,
     "end_time": "2022-03-04T11:17:36.032939",
     "exception": false,
     "start_time": "2022-03-04T11:17:35.981332",
     "status": "completed"
    },
    "tags": []
   },
   "outputs": [],
   "source": []
  },
  {
   "cell_type": "code",
   "execution_count": null,
   "id": "56e934ed",
   "metadata": {
    "papermill": {
     "duration": 0.052264,
     "end_time": "2022-03-04T11:17:36.139514",
     "exception": false,
     "start_time": "2022-03-04T11:17:36.087250",
     "status": "completed"
    },
    "tags": []
   },
   "outputs": [],
   "source": []
  },
  {
   "cell_type": "markdown",
   "id": "39f11532",
   "metadata": {
    "papermill": {
     "duration": 0.068356,
     "end_time": "2022-03-04T11:17:36.272102",
     "exception": false,
     "start_time": "2022-03-04T11:17:36.203746",
     "status": "completed"
    },
    "tags": []
   },
   "source": [
    "### **Deep Neural Network Model**"
   ]
  },
  {
   "cell_type": "code",
   "execution_count": 20,
   "id": "5bdde31b",
   "metadata": {
    "execution": {
     "iopub.execute_input": "2022-03-04T11:17:36.389424Z",
     "iopub.status.busy": "2022-03-04T11:17:36.388558Z",
     "iopub.status.idle": "2022-03-04T11:17:42.643096Z",
     "shell.execute_reply": "2022-03-04T11:17:42.643580Z",
     "shell.execute_reply.started": "2022-03-04T11:00:04.219175Z"
    },
    "papermill": {
     "duration": 6.315568,
     "end_time": "2022-03-04T11:17:42.643796",
     "exception": false,
     "start_time": "2022-03-04T11:17:36.328228",
     "status": "completed"
    },
    "tags": []
   },
   "outputs": [
    {
     "name": "stdout",
     "output_type": "stream",
     "text": [
      "Model: \"dnn_model\"\n",
      "_________________________________________________________________\n",
      "Layer (type)                 Output Shape              Param #   \n",
      "=================================================================\n",
      "input_1 (InputLayer)         [(None, 50)]              0         \n",
      "_________________________________________________________________\n",
      "dense (Dense)                (None, 50)                2550      \n",
      "_________________________________________________________________\n",
      "dense_1 (Dense)              (None, 30)                1530      \n",
      "_________________________________________________________________\n",
      "dense_2 (Dense)              (None, 20)                620       \n",
      "_________________________________________________________________\n",
      "dense_3 (Dense)              (None, 10)                210       \n",
      "=================================================================\n",
      "Total params: 4,910\n",
      "Trainable params: 4,910\n",
      "Non-trainable params: 0\n",
      "_________________________________________________________________\n"
     ]
    },
    {
     "name": "stderr",
     "output_type": "stream",
     "text": [
      "2022-03-04 11:17:42.565695: I tensorflow/core/common_runtime/process_util.cc:146] Creating new thread pool with default inter op setting: 2. Tune using inter_op_parallelism_threads for best performance.\n"
     ]
    }
   ],
   "source": [
    "import tensorflow as tf\n",
    "from tensorflow import keras\n",
    "from tensorflow.keras import layers\n",
    "\n",
    "inputs = keras.Input(shape=(50,))\n",
    "x = layers.Dense(50, activation=\"relu\")(inputs)\n",
    "x = layers.Dense(30, activation=\"relu\")(x)\n",
    "x = layers.Dense(20, activation=\"relu\")(x)\n",
    "outputs = layers.Dense(10, activation=\"softmax\")(x)\n",
    "\n",
    "dnn_model = keras.Model(inputs=inputs, outputs=outputs, name=\"dnn_model\")\n",
    "dnn_model.summary()"
   ]
  },
  {
   "cell_type": "code",
   "execution_count": 21,
   "id": "5e345c07",
   "metadata": {
    "execution": {
     "iopub.execute_input": "2022-03-04T11:17:42.761312Z",
     "iopub.status.busy": "2022-03-04T11:17:42.758776Z",
     "iopub.status.idle": "2022-03-04T11:17:42.770665Z",
     "shell.execute_reply": "2022-03-04T11:17:42.770075Z",
     "shell.execute_reply.started": "2022-03-04T11:00:04.314597Z"
    },
    "papermill": {
     "duration": 0.074237,
     "end_time": "2022-03-04T11:17:42.770826",
     "exception": false,
     "start_time": "2022-03-04T11:17:42.696589",
     "status": "completed"
    },
    "tags": []
   },
   "outputs": [],
   "source": [
    "dnn_model.compile(\n",
    "    loss=keras.losses.SparseCategoricalCrossentropy(from_logits=False),\n",
    "    optimizer=keras.optimizers.Adam(),\n",
    "    metrics=[\"accuracy\"]\n",
    ")"
   ]
  },
  {
   "cell_type": "code",
   "execution_count": 22,
   "id": "2987be8a",
   "metadata": {
    "execution": {
     "iopub.execute_input": "2022-03-04T11:17:42.886968Z",
     "iopub.status.busy": "2022-03-04T11:17:42.885851Z",
     "iopub.status.idle": "2022-03-04T11:17:54.717559Z",
     "shell.execute_reply": "2022-03-04T11:17:54.718254Z",
     "shell.execute_reply.started": "2022-03-04T11:00:04.338383Z"
    },
    "papermill": {
     "duration": 11.894248,
     "end_time": "2022-03-04T11:17:54.718456",
     "exception": false,
     "start_time": "2022-03-04T11:17:42.824208",
     "status": "completed"
    },
    "tags": []
   },
   "outputs": [
    {
     "name": "stderr",
     "output_type": "stream",
     "text": [
      "2022-03-04 11:17:42.968018: I tensorflow/compiler/mlir/mlir_graph_optimization_pass.cc:185] None of the MLIR Optimization Passes are enabled (registered 2)\n"
     ]
    },
    {
     "name": "stdout",
     "output_type": "stream",
     "text": [
      "Epoch 1/2\n",
      "1675/1675 [==============================] - 7s 4ms/step - loss: 0.7808 - accuracy: 0.7305 - val_loss: 0.5040 - val_accuracy: 0.8202\n",
      "Epoch 2/2\n",
      "1675/1675 [==============================] - 5s 3ms/step - loss: 0.4390 - accuracy: 0.8442 - val_loss: 0.3972 - val_accuracy: 0.8584\n"
     ]
    }
   ],
   "source": [
    "history = dnn_model.fit(X_train_pca, Y_train, batch_size=64, epochs=2, validation_split=0.2)"
   ]
  },
  {
   "cell_type": "code",
   "execution_count": null,
   "id": "f479045b",
   "metadata": {
    "papermill": {
     "duration": 0.123377,
     "end_time": "2022-03-04T11:17:54.964215",
     "exception": false,
     "start_time": "2022-03-04T11:17:54.840838",
     "status": "completed"
    },
    "tags": []
   },
   "outputs": [],
   "source": []
  },
  {
   "cell_type": "markdown",
   "id": "900c8ee0",
   "metadata": {
    "papermill": {
     "duration": 0.121625,
     "end_time": "2022-03-04T11:17:55.207092",
     "exception": false,
     "start_time": "2022-03-04T11:17:55.085467",
     "status": "completed"
    },
    "tags": []
   },
   "source": [
    "## **Final Model Evaluation**"
   ]
  },
  {
   "cell_type": "code",
   "execution_count": 23,
   "id": "432bf839",
   "metadata": {
    "execution": {
     "iopub.execute_input": "2022-03-04T11:17:55.453731Z",
     "iopub.status.busy": "2022-03-04T11:17:55.452977Z",
     "iopub.status.idle": "2022-03-04T11:17:55.456179Z",
     "shell.execute_reply": "2022-03-04T11:17:55.456790Z",
     "shell.execute_reply.started": "2022-03-04T11:00:14.026684Z"
    },
    "papermill": {
     "duration": 0.129681,
     "end_time": "2022-03-04T11:17:55.456972",
     "exception": false,
     "start_time": "2022-03-04T11:17:55.327291",
     "status": "completed"
    },
    "tags": []
   },
   "outputs": [],
   "source": [
    "from sklearn.metrics import classification_report"
   ]
  },
  {
   "cell_type": "code",
   "execution_count": 24,
   "id": "e8d422ad",
   "metadata": {
    "execution": {
     "iopub.execute_input": "2022-03-04T11:17:55.701991Z",
     "iopub.status.busy": "2022-03-04T11:17:55.701293Z",
     "iopub.status.idle": "2022-03-04T11:17:55.704306Z",
     "shell.execute_reply": "2022-03-04T11:17:55.704931Z",
     "shell.execute_reply.started": "2022-03-04T11:00:14.032225Z"
    },
    "papermill": {
     "duration": 0.127119,
     "end_time": "2022-03-04T11:17:55.705103",
     "exception": false,
     "start_time": "2022-03-04T11:17:55.577984",
     "status": "completed"
    },
    "tags": []
   },
   "outputs": [],
   "source": [
    "final_model = dnn_model"
   ]
  },
  {
   "cell_type": "code",
   "execution_count": 25,
   "id": "369ccf4a",
   "metadata": {
    "execution": {
     "iopub.execute_input": "2022-03-04T11:17:55.952307Z",
     "iopub.status.busy": "2022-03-04T11:17:55.951326Z",
     "iopub.status.idle": "2022-03-04T11:17:56.219820Z",
     "shell.execute_reply": "2022-03-04T11:17:56.220805Z",
     "shell.execute_reply.started": "2022-03-04T11:00:14.047081Z"
    },
    "papermill": {
     "duration": 0.395578,
     "end_time": "2022-03-04T11:17:56.221100",
     "exception": false,
     "start_time": "2022-03-04T11:17:55.825522",
     "status": "completed"
    },
    "tags": []
   },
   "outputs": [],
   "source": [
    "# Preprocess the data\n",
    "\n",
    "# Standardize\n",
    "X_test_st = st_scaler.transform(X_test)\n",
    "# PCA\n",
    "X_test_pca = pca.transform(X_test_st)"
   ]
  },
  {
   "cell_type": "code",
   "execution_count": 26,
   "id": "a7363ad1",
   "metadata": {
    "execution": {
     "iopub.execute_input": "2022-03-04T11:17:56.524934Z",
     "iopub.status.busy": "2022-03-04T11:17:56.524217Z",
     "iopub.status.idle": "2022-03-04T11:17:59.050739Z",
     "shell.execute_reply": "2022-03-04T11:17:59.050158Z",
     "shell.execute_reply.started": "2022-03-04T11:01:40.436242Z"
    },
    "papermill": {
     "duration": 2.653912,
     "end_time": "2022-03-04T11:17:59.050894",
     "exception": false,
     "start_time": "2022-03-04T11:17:56.396982",
     "status": "completed"
    },
    "tags": []
   },
   "outputs": [],
   "source": [
    "Y_test_pred_p = final_model.predict(X_test_pca)\n",
    "Y_test_pred = np.argmax(Y_test_pred_p, axis=1)"
   ]
  },
  {
   "cell_type": "code",
   "execution_count": 27,
   "id": "b5fb9dc4",
   "metadata": {
    "execution": {
     "iopub.execute_input": "2022-03-04T11:17:59.298228Z",
     "iopub.status.busy": "2022-03-04T11:17:59.297500Z",
     "iopub.status.idle": "2022-03-04T11:17:59.444015Z",
     "shell.execute_reply": "2022-03-04T11:17:59.444561Z",
     "shell.execute_reply.started": "2022-03-04T11:08:26.025046Z"
    },
    "papermill": {
     "duration": 0.271166,
     "end_time": "2022-03-04T11:17:59.444764",
     "exception": false,
     "start_time": "2022-03-04T11:17:59.173598",
     "status": "completed"
    },
    "tags": []
   },
   "outputs": [
    {
     "name": "stdout",
     "output_type": "stream",
     "text": [
      "                          precision    recall  f1-score   support\n",
      "\n",
      "    Bacteroides_fragilis       0.90      0.91      0.91      6646\n",
      "    Campylobacter_jejuni       0.91      0.95      0.93      6621\n",
      "      Enterococcus_hirae       0.80      0.86      0.83      6583\n",
      "        Escherichia_coli       0.78      0.77      0.77      6586\n",
      "  Escherichia_fergusonii       0.80      0.81      0.81      6579\n",
      "   Klebsiella_pneumoniae       0.93      0.94      0.94      6549\n",
      "     Salmonella_enterica       0.85      0.82      0.84      6610\n",
      "   Staphylococcus_aureus       0.89      0.91      0.90      6577\n",
      "Streptococcus_pneumoniae       0.88      0.78      0.83      6624\n",
      "  Streptococcus_pyogenes       0.82      0.79      0.81      6625\n",
      "\n",
      "                accuracy                           0.86     66000\n",
      "               macro avg       0.86      0.86      0.85     66000\n",
      "            weighted avg       0.86      0.86      0.85     66000\n",
      "\n"
     ]
    }
   ],
   "source": [
    "print(classification_report(Y_test, Y_test_pred, target_names=label_encoder.classes_))"
   ]
  },
  {
   "cell_type": "markdown",
   "id": "6629e895",
   "metadata": {
    "papermill": {
     "duration": 0.12509,
     "end_time": "2022-03-04T11:17:59.691912",
     "exception": false,
     "start_time": "2022-03-04T11:17:59.566822",
     "status": "completed"
    },
    "tags": []
   },
   "source": [
    "## **Kaggle Submission Test**"
   ]
  },
  {
   "cell_type": "code",
   "execution_count": 28,
   "id": "ab487ff4",
   "metadata": {
    "execution": {
     "iopub.execute_input": "2022-03-04T11:17:59.944804Z",
     "iopub.status.busy": "2022-03-04T11:17:59.943968Z",
     "iopub.status.idle": "2022-03-04T11:18:13.221527Z",
     "shell.execute_reply": "2022-03-04T11:18:13.222081Z",
     "shell.execute_reply.started": "2022-03-04T11:00:17.083818Z"
    },
    "papermill": {
     "duration": 13.406929,
     "end_time": "2022-03-04T11:18:13.222259",
     "exception": false,
     "start_time": "2022-03-04T11:17:59.815330",
     "status": "completed"
    },
    "tags": []
   },
   "outputs": [
    {
     "data": {
      "text/html": [
       "<div>\n",
       "<style scoped>\n",
       "    .dataframe tbody tr th:only-of-type {\n",
       "        vertical-align: middle;\n",
       "    }\n",
       "\n",
       "    .dataframe tbody tr th {\n",
       "        vertical-align: top;\n",
       "    }\n",
       "\n",
       "    .dataframe thead th {\n",
       "        text-align: right;\n",
       "    }\n",
       "</style>\n",
       "<table border=\"1\" class=\"dataframe\">\n",
       "  <thead>\n",
       "    <tr style=\"text-align: right;\">\n",
       "      <th></th>\n",
       "      <th>row_id</th>\n",
       "      <th>A0T0G0C10</th>\n",
       "      <th>A0T0G1C9</th>\n",
       "      <th>A0T0G2C8</th>\n",
       "      <th>A0T0G3C7</th>\n",
       "      <th>A0T0G4C6</th>\n",
       "      <th>A0T0G5C5</th>\n",
       "      <th>A0T0G6C4</th>\n",
       "      <th>A0T0G7C3</th>\n",
       "      <th>A0T0G8C2</th>\n",
       "      <th>...</th>\n",
       "      <th>A8T0G0C2</th>\n",
       "      <th>A8T0G1C1</th>\n",
       "      <th>A8T0G2C0</th>\n",
       "      <th>A8T1G0C1</th>\n",
       "      <th>A8T1G1C0</th>\n",
       "      <th>A8T2G0C0</th>\n",
       "      <th>A9T0G0C1</th>\n",
       "      <th>A9T0G1C0</th>\n",
       "      <th>A9T1G0C0</th>\n",
       "      <th>A10T0G0C0</th>\n",
       "    </tr>\n",
       "  </thead>\n",
       "  <tbody>\n",
       "    <tr>\n",
       "      <th>0</th>\n",
       "      <td>200000</td>\n",
       "      <td>-9.536743e-07</td>\n",
       "      <td>-0.000002</td>\n",
       "      <td>-9.153442e-07</td>\n",
       "      <td>0.000024</td>\n",
       "      <td>0.000034</td>\n",
       "      <td>-0.000002</td>\n",
       "      <td>0.000021</td>\n",
       "      <td>0.000024</td>\n",
       "      <td>-0.000009</td>\n",
       "      <td>...</td>\n",
       "      <td>0.000039</td>\n",
       "      <td>0.000085</td>\n",
       "      <td>0.000055</td>\n",
       "      <td>0.000108</td>\n",
       "      <td>0.000090</td>\n",
       "      <td>0.000059</td>\n",
       "      <td>0.000010</td>\n",
       "      <td>0.000006</td>\n",
       "      <td>0.000027</td>\n",
       "      <td>4.632568e-08</td>\n",
       "    </tr>\n",
       "    <tr>\n",
       "      <th>1</th>\n",
       "      <td>200001</td>\n",
       "      <td>-9.536743e-07</td>\n",
       "      <td>-0.000010</td>\n",
       "      <td>-4.291534e-05</td>\n",
       "      <td>-0.000114</td>\n",
       "      <td>0.001800</td>\n",
       "      <td>-0.000240</td>\n",
       "      <td>0.001800</td>\n",
       "      <td>-0.000114</td>\n",
       "      <td>0.000957</td>\n",
       "      <td>...</td>\n",
       "      <td>-0.000043</td>\n",
       "      <td>0.000914</td>\n",
       "      <td>-0.000043</td>\n",
       "      <td>-0.000086</td>\n",
       "      <td>-0.000086</td>\n",
       "      <td>-0.000043</td>\n",
       "      <td>-0.000010</td>\n",
       "      <td>-0.000010</td>\n",
       "      <td>-0.000010</td>\n",
       "      <td>-9.536743e-07</td>\n",
       "    </tr>\n",
       "    <tr>\n",
       "      <th>2</th>\n",
       "      <td>200002</td>\n",
       "      <td>4.632568e-08</td>\n",
       "      <td>0.000003</td>\n",
       "      <td>8.465576e-08</td>\n",
       "      <td>-0.000014</td>\n",
       "      <td>0.000007</td>\n",
       "      <td>-0.000005</td>\n",
       "      <td>-0.000004</td>\n",
       "      <td>0.000003</td>\n",
       "      <td>0.000004</td>\n",
       "      <td>...</td>\n",
       "      <td>0.000041</td>\n",
       "      <td>0.000102</td>\n",
       "      <td>0.000084</td>\n",
       "      <td>0.000111</td>\n",
       "      <td>0.000117</td>\n",
       "      <td>0.000070</td>\n",
       "      <td>0.000020</td>\n",
       "      <td>0.000030</td>\n",
       "      <td>0.000021</td>\n",
       "      <td>4.632568e-08</td>\n",
       "    </tr>\n",
       "    <tr>\n",
       "      <th>3</th>\n",
       "      <td>200003</td>\n",
       "      <td>-9.536743e-07</td>\n",
       "      <td>-0.000008</td>\n",
       "      <td>8.084656e-06</td>\n",
       "      <td>0.000216</td>\n",
       "      <td>0.000420</td>\n",
       "      <td>0.000514</td>\n",
       "      <td>0.000452</td>\n",
       "      <td>0.000187</td>\n",
       "      <td>-0.000005</td>\n",
       "      <td>...</td>\n",
       "      <td>0.000069</td>\n",
       "      <td>0.000158</td>\n",
       "      <td>0.000098</td>\n",
       "      <td>0.000175</td>\n",
       "      <td>0.000217</td>\n",
       "      <td>0.000150</td>\n",
       "      <td>0.000018</td>\n",
       "      <td>0.000016</td>\n",
       "      <td>0.000051</td>\n",
       "      <td>-9.536743e-07</td>\n",
       "    </tr>\n",
       "    <tr>\n",
       "      <th>4</th>\n",
       "      <td>200004</td>\n",
       "      <td>-9.536743e-07</td>\n",
       "      <td>-0.000010</td>\n",
       "      <td>-4.291534e-05</td>\n",
       "      <td>-0.000114</td>\n",
       "      <td>-0.000200</td>\n",
       "      <td>-0.000240</td>\n",
       "      <td>-0.000200</td>\n",
       "      <td>-0.000114</td>\n",
       "      <td>-0.000043</td>\n",
       "      <td>...</td>\n",
       "      <td>-0.000043</td>\n",
       "      <td>-0.000086</td>\n",
       "      <td>-0.000043</td>\n",
       "      <td>-0.000086</td>\n",
       "      <td>0.000914</td>\n",
       "      <td>-0.000043</td>\n",
       "      <td>-0.000010</td>\n",
       "      <td>-0.000010</td>\n",
       "      <td>0.000990</td>\n",
       "      <td>-9.536743e-07</td>\n",
       "    </tr>\n",
       "  </tbody>\n",
       "</table>\n",
       "<p>5 rows × 287 columns</p>\n",
       "</div>"
      ],
      "text/plain": [
       "   row_id     A0T0G0C10  A0T0G1C9      A0T0G2C8  A0T0G3C7  A0T0G4C6  A0T0G5C5  \\\n",
       "0  200000 -9.536743e-07 -0.000002 -9.153442e-07  0.000024  0.000034 -0.000002   \n",
       "1  200001 -9.536743e-07 -0.000010 -4.291534e-05 -0.000114  0.001800 -0.000240   \n",
       "2  200002  4.632568e-08  0.000003  8.465576e-08 -0.000014  0.000007 -0.000005   \n",
       "3  200003 -9.536743e-07 -0.000008  8.084656e-06  0.000216  0.000420  0.000514   \n",
       "4  200004 -9.536743e-07 -0.000010 -4.291534e-05 -0.000114 -0.000200 -0.000240   \n",
       "\n",
       "   A0T0G6C4  A0T0G7C3  A0T0G8C2  ...  A8T0G0C2  A8T0G1C1  A8T0G2C0  A8T1G0C1  \\\n",
       "0  0.000021  0.000024 -0.000009  ...  0.000039  0.000085  0.000055  0.000108   \n",
       "1  0.001800 -0.000114  0.000957  ... -0.000043  0.000914 -0.000043 -0.000086   \n",
       "2 -0.000004  0.000003  0.000004  ...  0.000041  0.000102  0.000084  0.000111   \n",
       "3  0.000452  0.000187 -0.000005  ...  0.000069  0.000158  0.000098  0.000175   \n",
       "4 -0.000200 -0.000114 -0.000043  ... -0.000043 -0.000086 -0.000043 -0.000086   \n",
       "\n",
       "   A8T1G1C0  A8T2G0C0  A9T0G0C1  A9T0G1C0  A9T1G0C0     A10T0G0C0  \n",
       "0  0.000090  0.000059  0.000010  0.000006  0.000027  4.632568e-08  \n",
       "1 -0.000086 -0.000043 -0.000010 -0.000010 -0.000010 -9.536743e-07  \n",
       "2  0.000117  0.000070  0.000020  0.000030  0.000021  4.632568e-08  \n",
       "3  0.000217  0.000150  0.000018  0.000016  0.000051 -9.536743e-07  \n",
       "4  0.000914 -0.000043 -0.000010 -0.000010  0.000990 -9.536743e-07  \n",
       "\n",
       "[5 rows x 287 columns]"
      ]
     },
     "execution_count": 28,
     "metadata": {},
     "output_type": "execute_result"
    }
   ],
   "source": [
    "# Load Kaggle's submission test set\n",
    "df_subm = pd.read_csv(\"/kaggle/input/tabular-playground-series-feb-2022/test.csv\")\n",
    "df_subm.head()"
   ]
  },
  {
   "cell_type": "code",
   "execution_count": 29,
   "id": "70148684",
   "metadata": {
    "execution": {
     "iopub.execute_input": "2022-03-04T11:18:13.473841Z",
     "iopub.status.busy": "2022-03-04T11:18:13.472840Z",
     "iopub.status.idle": "2022-03-04T11:18:13.482261Z",
     "shell.execute_reply": "2022-03-04T11:18:13.482758Z",
     "shell.execute_reply.started": "2022-03-04T11:00:17.085467Z"
    },
    "papermill": {
     "duration": 0.138208,
     "end_time": "2022-03-04T11:18:13.482943",
     "exception": false,
     "start_time": "2022-03-04T11:18:13.344735",
     "status": "completed"
    },
    "tags": []
   },
   "outputs": [
    {
     "data": {
      "text/html": [
       "<div>\n",
       "<style scoped>\n",
       "    .dataframe tbody tr th:only-of-type {\n",
       "        vertical-align: middle;\n",
       "    }\n",
       "\n",
       "    .dataframe tbody tr th {\n",
       "        vertical-align: top;\n",
       "    }\n",
       "\n",
       "    .dataframe thead th {\n",
       "        text-align: right;\n",
       "    }\n",
       "</style>\n",
       "<table border=\"1\" class=\"dataframe\">\n",
       "  <thead>\n",
       "    <tr style=\"text-align: right;\">\n",
       "      <th></th>\n",
       "      <th>row_id</th>\n",
       "    </tr>\n",
       "  </thead>\n",
       "  <tbody>\n",
       "    <tr>\n",
       "      <th>0</th>\n",
       "      <td>200000</td>\n",
       "    </tr>\n",
       "    <tr>\n",
       "      <th>1</th>\n",
       "      <td>200001</td>\n",
       "    </tr>\n",
       "    <tr>\n",
       "      <th>2</th>\n",
       "      <td>200002</td>\n",
       "    </tr>\n",
       "    <tr>\n",
       "      <th>3</th>\n",
       "      <td>200003</td>\n",
       "    </tr>\n",
       "    <tr>\n",
       "      <th>4</th>\n",
       "      <td>200004</td>\n",
       "    </tr>\n",
       "  </tbody>\n",
       "</table>\n",
       "</div>"
      ],
      "text/plain": [
       "   row_id\n",
       "0  200000\n",
       "1  200001\n",
       "2  200002\n",
       "3  200003\n",
       "4  200004"
      ]
     },
     "execution_count": 29,
     "metadata": {},
     "output_type": "execute_result"
    }
   ],
   "source": [
    "df_subm_results = pd.DataFrame(df_subm[\"row_id\"])\n",
    "df_subm_results.head()"
   ]
  },
  {
   "cell_type": "code",
   "execution_count": 30,
   "id": "abe7a1c6",
   "metadata": {
    "execution": {
     "iopub.execute_input": "2022-03-04T11:18:13.735487Z",
     "iopub.status.busy": "2022-03-04T11:18:13.734430Z",
     "iopub.status.idle": "2022-03-04T11:18:13.832385Z",
     "shell.execute_reply": "2022-03-04T11:18:13.831790Z",
     "shell.execute_reply.started": "2022-03-04T11:00:17.087241Z"
    },
    "papermill": {
     "duration": 0.225644,
     "end_time": "2022-03-04T11:18:13.832527",
     "exception": false,
     "start_time": "2022-03-04T11:18:13.606883",
     "status": "completed"
    },
    "tags": []
   },
   "outputs": [],
   "source": [
    "X_subm = df_subm.drop(columns=\"row_id\")"
   ]
  },
  {
   "cell_type": "code",
   "execution_count": 31,
   "id": "396e0c23",
   "metadata": {
    "execution": {
     "iopub.execute_input": "2022-03-04T11:18:14.094358Z",
     "iopub.status.busy": "2022-03-04T11:18:14.093650Z",
     "iopub.status.idle": "2022-03-04T11:18:14.554676Z",
     "shell.execute_reply": "2022-03-04T11:18:14.555212Z",
     "shell.execute_reply.started": "2022-03-04T11:00:17.088774Z"
    },
    "papermill": {
     "duration": 0.599102,
     "end_time": "2022-03-04T11:18:14.555387",
     "exception": false,
     "start_time": "2022-03-04T11:18:13.956285",
     "status": "completed"
    },
    "tags": []
   },
   "outputs": [
    {
     "data": {
      "text/plain": [
       "(100000, 50)"
      ]
     },
     "execution_count": 31,
     "metadata": {},
     "output_type": "execute_result"
    }
   ],
   "source": [
    "# Standardize test set\n",
    "X_subm_st = st_scaler.transform(X_subm)\n",
    "X_subm_st.shape\n",
    "\n",
    "# PCA transform on test set\n",
    "X_subm_pca = pca.transform(X_subm_st)\n",
    "X_subm_pca.shape"
   ]
  },
  {
   "cell_type": "code",
   "execution_count": 32,
   "id": "7bb5a25b",
   "metadata": {
    "execution": {
     "iopub.execute_input": "2022-03-04T11:18:14.857752Z",
     "iopub.status.busy": "2022-03-04T11:18:14.856188Z",
     "iopub.status.idle": "2022-03-04T11:18:19.953310Z",
     "shell.execute_reply": "2022-03-04T11:18:19.952730Z",
     "shell.execute_reply.started": "2022-03-04T11:00:17.090670Z"
    },
    "papermill": {
     "duration": 5.226739,
     "end_time": "2022-03-04T11:18:19.953458",
     "exception": false,
     "start_time": "2022-03-04T11:18:14.726719",
     "status": "completed"
    },
    "tags": []
   },
   "outputs": [
    {
     "data": {
      "text/plain": [
       "(100000, 10)"
      ]
     },
     "execution_count": 32,
     "metadata": {},
     "output_type": "execute_result"
    }
   ],
   "source": [
    "Y_subm_predicted_p = final_model.predict(X_subm_pca)\n",
    "Y_subm_predicted_p.shape"
   ]
  },
  {
   "cell_type": "code",
   "execution_count": 33,
   "id": "7f97d553",
   "metadata": {
    "execution": {
     "iopub.execute_input": "2022-03-04T11:18:20.232131Z",
     "iopub.status.busy": "2022-03-04T11:18:20.231038Z",
     "iopub.status.idle": "2022-03-04T11:18:20.242868Z",
     "shell.execute_reply": "2022-03-04T11:18:20.243897Z",
     "shell.execute_reply.started": "2022-03-04T11:00:17.092409Z"
    },
    "papermill": {
     "duration": 0.1651,
     "end_time": "2022-03-04T11:18:20.244204",
     "exception": false,
     "start_time": "2022-03-04T11:18:20.079104",
     "status": "completed"
    },
    "tags": []
   },
   "outputs": [],
   "source": [
    "Y_subm_predicted = np.argmax(Y_subm_predicted_p, axis=1)\n",
    "Y_subm_predicted_labeled = label_encoder.inverse_transform(Y_subm_predicted)\n",
    "df_subm_results[\"target\"] = Y_subm_predicted_labeled"
   ]
  },
  {
   "cell_type": "code",
   "execution_count": 34,
   "id": "0a96747d",
   "metadata": {
    "execution": {
     "iopub.execute_input": "2022-03-04T11:18:20.503562Z",
     "iopub.status.busy": "2022-03-04T11:18:20.502967Z",
     "iopub.status.idle": "2022-03-04T11:18:20.510967Z",
     "shell.execute_reply": "2022-03-04T11:18:20.511570Z",
     "shell.execute_reply.started": "2022-03-04T11:00:17.094568Z"
    },
    "papermill": {
     "duration": 0.135813,
     "end_time": "2022-03-04T11:18:20.511758",
     "exception": false,
     "start_time": "2022-03-04T11:18:20.375945",
     "status": "completed"
    },
    "tags": []
   },
   "outputs": [
    {
     "data": {
      "text/html": [
       "<div>\n",
       "<style scoped>\n",
       "    .dataframe tbody tr th:only-of-type {\n",
       "        vertical-align: middle;\n",
       "    }\n",
       "\n",
       "    .dataframe tbody tr th {\n",
       "        vertical-align: top;\n",
       "    }\n",
       "\n",
       "    .dataframe thead th {\n",
       "        text-align: right;\n",
       "    }\n",
       "</style>\n",
       "<table border=\"1\" class=\"dataframe\">\n",
       "  <thead>\n",
       "    <tr style=\"text-align: right;\">\n",
       "      <th></th>\n",
       "      <th>row_id</th>\n",
       "      <th>target</th>\n",
       "    </tr>\n",
       "  </thead>\n",
       "  <tbody>\n",
       "    <tr>\n",
       "      <th>0</th>\n",
       "      <td>200000</td>\n",
       "      <td>Escherichia_fergusonii</td>\n",
       "    </tr>\n",
       "    <tr>\n",
       "      <th>1</th>\n",
       "      <td>200001</td>\n",
       "      <td>Salmonella_enterica</td>\n",
       "    </tr>\n",
       "    <tr>\n",
       "      <th>2</th>\n",
       "      <td>200002</td>\n",
       "      <td>Enterococcus_hirae</td>\n",
       "    </tr>\n",
       "    <tr>\n",
       "      <th>3</th>\n",
       "      <td>200003</td>\n",
       "      <td>Salmonella_enterica</td>\n",
       "    </tr>\n",
       "    <tr>\n",
       "      <th>4</th>\n",
       "      <td>200004</td>\n",
       "      <td>Staphylococcus_aureus</td>\n",
       "    </tr>\n",
       "  </tbody>\n",
       "</table>\n",
       "</div>"
      ],
      "text/plain": [
       "   row_id                  target\n",
       "0  200000  Escherichia_fergusonii\n",
       "1  200001     Salmonella_enterica\n",
       "2  200002      Enterococcus_hirae\n",
       "3  200003     Salmonella_enterica\n",
       "4  200004   Staphylococcus_aureus"
      ]
     },
     "execution_count": 34,
     "metadata": {},
     "output_type": "execute_result"
    }
   ],
   "source": [
    "df_subm_results.head()"
   ]
  },
  {
   "cell_type": "code",
   "execution_count": 35,
   "id": "83fc5b36",
   "metadata": {
    "execution": {
     "iopub.execute_input": "2022-03-04T11:18:20.764488Z",
     "iopub.status.busy": "2022-03-04T11:18:20.763840Z",
     "iopub.status.idle": "2022-03-04T11:18:21.018835Z",
     "shell.execute_reply": "2022-03-04T11:18:21.018075Z",
     "shell.execute_reply.started": "2022-03-04T11:00:17.096031Z"
    },
    "papermill": {
     "duration": 0.383126,
     "end_time": "2022-03-04T11:18:21.018989",
     "exception": false,
     "start_time": "2022-03-04T11:18:20.635863",
     "status": "completed"
    },
    "tags": []
   },
   "outputs": [],
   "source": [
    "df_subm_results.to_csv(\"submission.csv\", index=False)"
   ]
  },
  {
   "cell_type": "code",
   "execution_count": null,
   "id": "9bcd3904",
   "metadata": {
    "papermill": {
     "duration": 0.125956,
     "end_time": "2022-03-04T11:18:21.269766",
     "exception": false,
     "start_time": "2022-03-04T11:18:21.143810",
     "status": "completed"
    },
    "tags": []
   },
   "outputs": [],
   "source": []
  }
 ],
 "metadata": {
  "kernelspec": {
   "display_name": "Python 3",
   "language": "python",
   "name": "python3"
  },
  "language_info": {
   "codemirror_mode": {
    "name": "ipython",
    "version": 3
   },
   "file_extension": ".py",
   "mimetype": "text/x-python",
   "name": "python",
   "nbconvert_exporter": "python",
   "pygments_lexer": "ipython3",
   "version": "3.7.12"
  },
  "papermill": {
   "default_parameters": {},
   "duration": 101.902221,
   "end_time": "2022-03-04T11:18:24.397791",
   "environment_variables": {},
   "exception": null,
   "input_path": "__notebook__.ipynb",
   "output_path": "__notebook__.ipynb",
   "parameters": {},
   "start_time": "2022-03-04T11:16:42.495570",
   "version": "2.3.3"
  }
 },
 "nbformat": 4,
 "nbformat_minor": 5
}
