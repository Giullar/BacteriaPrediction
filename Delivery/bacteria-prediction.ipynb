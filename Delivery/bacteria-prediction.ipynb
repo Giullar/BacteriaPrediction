{
 "cells": [
  {
   "cell_type": "markdown",
   "id": "8687364f",
   "metadata": {
    "_cell_guid": "b1076dfc-b9ad-4769-8c92-a6c4dae69d19",
    "_uuid": "8f2839f25d086af736a60e9eeb907d3b93b6e0e5",
    "execution": {
     "iopub.execute_input": "2022-03-02T14:33:46.222715Z",
     "iopub.status.busy": "2022-03-02T14:33:46.221872Z",
     "iopub.status.idle": "2022-03-02T14:33:46.251698Z",
     "shell.execute_reply": "2022-03-02T14:33:46.250819Z",
     "shell.execute_reply.started": "2022-03-02T14:33:46.222522Z"
    },
    "papermill": {
     "duration": 0.086877,
     "end_time": "2022-03-16T15:10:42.381721",
     "exception": false,
     "start_time": "2022-03-16T15:10:42.294844",
     "status": "completed"
    },
    "tags": []
   },
   "source": [
    "# **Bacteria Prediction**"
   ]
  },
  {
   "cell_type": "markdown",
   "id": "61eabdb8",
   "metadata": {
    "papermill": {
     "duration": 0.085692,
     "end_time": "2022-03-16T15:10:42.550754",
     "exception": false,
     "start_time": "2022-03-16T15:10:42.465062",
     "status": "completed"
    },
    "tags": []
   },
   "source": [
    "The task is to classify 10 different bacteria species using data from a genomic analysis technique that has some data compression and data loss. In this technique, 10-mer snippets of DNA are sampled and analyzed to give the histogram of base count. In other words, the DNA segment ATATGGCCTT becomes A2T4G2C2. We want to accurately predict bacteria species starting from this lossy information."
   ]
  },
  {
   "cell_type": "markdown",
   "id": "2eead04d",
   "metadata": {
    "papermill": {
     "duration": 0.087046,
     "end_time": "2022-03-16T15:10:42.725153",
     "exception": false,
     "start_time": "2022-03-16T15:10:42.638107",
     "status": "completed"
    },
    "tags": []
   },
   "source": [
    "## **Data Loading**"
   ]
  },
  {
   "cell_type": "code",
   "execution_count": 1,
   "id": "2090e43a",
   "metadata": {
    "execution": {
     "iopub.execute_input": "2022-03-16T15:10:42.893207Z",
     "iopub.status.busy": "2022-03-16T15:10:42.892019Z",
     "iopub.status.idle": "2022-03-16T15:10:42.900622Z",
     "shell.execute_reply": "2022-03-16T15:10:42.901097Z",
     "shell.execute_reply.started": "2022-03-16T15:02:12.751506Z"
    },
    "papermill": {
     "duration": 0.094946,
     "end_time": "2022-03-16T15:10:42.901456",
     "exception": false,
     "start_time": "2022-03-16T15:10:42.806510",
     "status": "completed"
    },
    "tags": []
   },
   "outputs": [],
   "source": [
    "import os\n",
    "import numpy as np\n",
    "import pandas as pd\n",
    "import matplotlib.pyplot as plt\n",
    "\n",
    "# Global variables\n",
    "random_seed = 42"
   ]
  },
  {
   "cell_type": "code",
   "execution_count": 2,
   "id": "dc442cff",
   "metadata": {
    "execution": {
     "iopub.execute_input": "2022-03-16T15:10:43.070687Z",
     "iopub.status.busy": "2022-03-16T15:10:43.069775Z",
     "iopub.status.idle": "2022-03-16T15:10:43.075145Z",
     "shell.execute_reply": "2022-03-16T15:10:43.075634Z",
     "shell.execute_reply.started": "2022-03-16T15:02:15.874484Z"
    },
    "papermill": {
     "duration": 0.09362,
     "end_time": "2022-03-16T15:10:43.075827",
     "exception": false,
     "start_time": "2022-03-16T15:10:42.982207",
     "status": "completed"
    },
    "tags": []
   },
   "outputs": [
    {
     "name": "stdout",
     "output_type": "stream",
     "text": [
      "/kaggle/input/tabular-playground-series-feb-2022/sample_submission.csv\n",
      "/kaggle/input/tabular-playground-series-feb-2022/train.csv\n",
      "/kaggle/input/tabular-playground-series-feb-2022/test.csv\n"
     ]
    }
   ],
   "source": [
    "# Print directory structure\n",
    "for dirname, _, filenames in os.walk('/kaggle/input'):\n",
    "    for filename in filenames:\n",
    "        print(os.path.join(dirname, filename))"
   ]
  },
  {
   "cell_type": "code",
   "execution_count": 3,
   "id": "c43b0f13",
   "metadata": {
    "execution": {
     "iopub.execute_input": "2022-03-16T15:10:43.245458Z",
     "iopub.status.busy": "2022-03-16T15:10:43.244882Z",
     "iopub.status.idle": "2022-03-16T15:11:11.883693Z",
     "shell.execute_reply": "2022-03-16T15:11:11.883110Z",
     "shell.execute_reply.started": "2022-03-16T15:02:18.095651Z"
    },
    "papermill": {
     "duration": 28.724367,
     "end_time": "2022-03-16T15:11:11.883866",
     "exception": false,
     "start_time": "2022-03-16T15:10:43.159499",
     "status": "completed"
    },
    "tags": []
   },
   "outputs": [],
   "source": [
    "# Load training set\n",
    "df = pd.read_csv(\"/kaggle/input/tabular-playground-series-feb-2022/train.csv\")"
   ]
  },
  {
   "cell_type": "markdown",
   "id": "86612cc7",
   "metadata": {
    "papermill": {
     "duration": 0.082227,
     "end_time": "2022-03-16T15:11:12.047133",
     "exception": false,
     "start_time": "2022-03-16T15:11:11.964906",
     "status": "completed"
    },
    "tags": []
   },
   "source": [
    "## **Data Analysis**"
   ]
  },
  {
   "cell_type": "markdown",
   "id": "be7277cb",
   "metadata": {
    "papermill": {
     "duration": 0.081123,
     "end_time": "2022-03-16T15:11:12.211359",
     "exception": false,
     "start_time": "2022-03-16T15:11:12.130236",
     "status": "completed"
    },
    "tags": []
   },
   "source": [
    "We will first analyze the dataset, in order to investigate its shape and the presence of null values.\n",
    "\n",
    "Each row of data contains a spectrum of histograms generated by repeated measurements of a sample, each row containing the output of all 286 histogram possibilities (e.g., A0T0G0C10 to A10T0G0C0) which then has a bias spectrum (of totally random ATGC) subtracted from the results. The data (both train and test) also contains simulated measurement errors (of varying rates) for many of the samples, which makes the problem more challenging."
   ]
  },
  {
   "cell_type": "code",
   "execution_count": 4,
   "id": "29f8c394",
   "metadata": {
    "execution": {
     "iopub.execute_input": "2022-03-16T15:11:12.380337Z",
     "iopub.status.busy": "2022-03-16T15:11:12.379673Z",
     "iopub.status.idle": "2022-03-16T15:11:12.386124Z",
     "shell.execute_reply": "2022-03-16T15:11:12.386605Z",
     "shell.execute_reply.started": "2022-03-16T15:02:50.499086Z"
    },
    "papermill": {
     "duration": 0.094351,
     "end_time": "2022-03-16T15:11:12.386783",
     "exception": false,
     "start_time": "2022-03-16T15:11:12.292432",
     "status": "completed"
    },
    "tags": []
   },
   "outputs": [
    {
     "data": {
      "text/plain": [
       "(200000, 288)"
      ]
     },
     "execution_count": 4,
     "metadata": {},
     "output_type": "execute_result"
    }
   ],
   "source": [
    "df.shape"
   ]
  },
  {
   "cell_type": "code",
   "execution_count": 5,
   "id": "b42b6cfa",
   "metadata": {
    "execution": {
     "iopub.execute_input": "2022-03-16T15:11:12.552892Z",
     "iopub.status.busy": "2022-03-16T15:11:12.552205Z",
     "iopub.status.idle": "2022-03-16T15:11:12.583283Z",
     "shell.execute_reply": "2022-03-16T15:11:12.583922Z",
     "shell.execute_reply.started": "2022-03-16T15:02:50.508628Z"
    },
    "papermill": {
     "duration": 0.115861,
     "end_time": "2022-03-16T15:11:12.584087",
     "exception": false,
     "start_time": "2022-03-16T15:11:12.468226",
     "status": "completed"
    },
    "tags": []
   },
   "outputs": [
    {
     "data": {
      "text/html": [
       "<div>\n",
       "<style scoped>\n",
       "    .dataframe tbody tr th:only-of-type {\n",
       "        vertical-align: middle;\n",
       "    }\n",
       "\n",
       "    .dataframe tbody tr th {\n",
       "        vertical-align: top;\n",
       "    }\n",
       "\n",
       "    .dataframe thead th {\n",
       "        text-align: right;\n",
       "    }\n",
       "</style>\n",
       "<table border=\"1\" class=\"dataframe\">\n",
       "  <thead>\n",
       "    <tr style=\"text-align: right;\">\n",
       "      <th></th>\n",
       "      <th>row_id</th>\n",
       "      <th>A0T0G0C10</th>\n",
       "      <th>A0T0G1C9</th>\n",
       "      <th>A0T0G2C8</th>\n",
       "      <th>A0T0G3C7</th>\n",
       "      <th>A0T0G4C6</th>\n",
       "      <th>A0T0G5C5</th>\n",
       "      <th>A0T0G6C4</th>\n",
       "      <th>A0T0G7C3</th>\n",
       "      <th>A0T0G8C2</th>\n",
       "      <th>...</th>\n",
       "      <th>A8T0G1C1</th>\n",
       "      <th>A8T0G2C0</th>\n",
       "      <th>A8T1G0C1</th>\n",
       "      <th>A8T1G1C0</th>\n",
       "      <th>A8T2G0C0</th>\n",
       "      <th>A9T0G0C1</th>\n",
       "      <th>A9T0G1C0</th>\n",
       "      <th>A9T1G0C0</th>\n",
       "      <th>A10T0G0C0</th>\n",
       "      <th>target</th>\n",
       "    </tr>\n",
       "  </thead>\n",
       "  <tbody>\n",
       "    <tr>\n",
       "      <th>0</th>\n",
       "      <td>0</td>\n",
       "      <td>-9.536743e-07</td>\n",
       "      <td>-0.000010</td>\n",
       "      <td>-0.000043</td>\n",
       "      <td>-0.000114</td>\n",
       "      <td>-0.000200</td>\n",
       "      <td>-0.000240</td>\n",
       "      <td>-0.000200</td>\n",
       "      <td>-0.000114</td>\n",
       "      <td>-0.000043</td>\n",
       "      <td>...</td>\n",
       "      <td>-0.000086</td>\n",
       "      <td>-0.000043</td>\n",
       "      <td>-0.000086</td>\n",
       "      <td>-0.000086</td>\n",
       "      <td>-0.000043</td>\n",
       "      <td>-0.000010</td>\n",
       "      <td>-0.000010</td>\n",
       "      <td>-0.000010</td>\n",
       "      <td>-9.536743e-07</td>\n",
       "      <td>Streptococcus_pyogenes</td>\n",
       "    </tr>\n",
       "    <tr>\n",
       "      <th>1</th>\n",
       "      <td>1</td>\n",
       "      <td>-9.536743e-07</td>\n",
       "      <td>-0.000010</td>\n",
       "      <td>-0.000043</td>\n",
       "      <td>0.000886</td>\n",
       "      <td>-0.000200</td>\n",
       "      <td>0.000760</td>\n",
       "      <td>-0.000200</td>\n",
       "      <td>-0.000114</td>\n",
       "      <td>-0.000043</td>\n",
       "      <td>...</td>\n",
       "      <td>-0.000086</td>\n",
       "      <td>-0.000043</td>\n",
       "      <td>0.000914</td>\n",
       "      <td>0.000914</td>\n",
       "      <td>-0.000043</td>\n",
       "      <td>-0.000010</td>\n",
       "      <td>-0.000010</td>\n",
       "      <td>-0.000010</td>\n",
       "      <td>-9.536743e-07</td>\n",
       "      <td>Salmonella_enterica</td>\n",
       "    </tr>\n",
       "    <tr>\n",
       "      <th>2</th>\n",
       "      <td>2</td>\n",
       "      <td>-9.536743e-07</td>\n",
       "      <td>-0.000002</td>\n",
       "      <td>0.000007</td>\n",
       "      <td>0.000129</td>\n",
       "      <td>0.000268</td>\n",
       "      <td>0.000270</td>\n",
       "      <td>0.000243</td>\n",
       "      <td>0.000125</td>\n",
       "      <td>0.000001</td>\n",
       "      <td>...</td>\n",
       "      <td>0.000084</td>\n",
       "      <td>0.000048</td>\n",
       "      <td>0.000081</td>\n",
       "      <td>0.000106</td>\n",
       "      <td>0.000072</td>\n",
       "      <td>0.000010</td>\n",
       "      <td>0.000008</td>\n",
       "      <td>0.000019</td>\n",
       "      <td>1.046326e-06</td>\n",
       "      <td>Salmonella_enterica</td>\n",
       "    </tr>\n",
       "    <tr>\n",
       "      <th>3</th>\n",
       "      <td>3</td>\n",
       "      <td>4.632568e-08</td>\n",
       "      <td>-0.000006</td>\n",
       "      <td>0.000012</td>\n",
       "      <td>0.000245</td>\n",
       "      <td>0.000492</td>\n",
       "      <td>0.000522</td>\n",
       "      <td>0.000396</td>\n",
       "      <td>0.000197</td>\n",
       "      <td>-0.000003</td>\n",
       "      <td>...</td>\n",
       "      <td>0.000151</td>\n",
       "      <td>0.000100</td>\n",
       "      <td>0.000180</td>\n",
       "      <td>0.000202</td>\n",
       "      <td>0.000153</td>\n",
       "      <td>0.000021</td>\n",
       "      <td>0.000015</td>\n",
       "      <td>0.000046</td>\n",
       "      <td>-9.536743e-07</td>\n",
       "      <td>Salmonella_enterica</td>\n",
       "    </tr>\n",
       "    <tr>\n",
       "      <th>4</th>\n",
       "      <td>4</td>\n",
       "      <td>-9.536743e-07</td>\n",
       "      <td>-0.000010</td>\n",
       "      <td>-0.000043</td>\n",
       "      <td>-0.000114</td>\n",
       "      <td>-0.000200</td>\n",
       "      <td>-0.000240</td>\n",
       "      <td>-0.000200</td>\n",
       "      <td>-0.000114</td>\n",
       "      <td>-0.000043</td>\n",
       "      <td>...</td>\n",
       "      <td>-0.000086</td>\n",
       "      <td>-0.000043</td>\n",
       "      <td>-0.000086</td>\n",
       "      <td>-0.000086</td>\n",
       "      <td>-0.000043</td>\n",
       "      <td>-0.000010</td>\n",
       "      <td>-0.000010</td>\n",
       "      <td>-0.000010</td>\n",
       "      <td>-9.536743e-07</td>\n",
       "      <td>Enterococcus_hirae</td>\n",
       "    </tr>\n",
       "  </tbody>\n",
       "</table>\n",
       "<p>5 rows × 288 columns</p>\n",
       "</div>"
      ],
      "text/plain": [
       "   row_id     A0T0G0C10  A0T0G1C9  A0T0G2C8  A0T0G3C7  A0T0G4C6  A0T0G5C5  \\\n",
       "0       0 -9.536743e-07 -0.000010 -0.000043 -0.000114 -0.000200 -0.000240   \n",
       "1       1 -9.536743e-07 -0.000010 -0.000043  0.000886 -0.000200  0.000760   \n",
       "2       2 -9.536743e-07 -0.000002  0.000007  0.000129  0.000268  0.000270   \n",
       "3       3  4.632568e-08 -0.000006  0.000012  0.000245  0.000492  0.000522   \n",
       "4       4 -9.536743e-07 -0.000010 -0.000043 -0.000114 -0.000200 -0.000240   \n",
       "\n",
       "   A0T0G6C4  A0T0G7C3  A0T0G8C2  ...  A8T0G1C1  A8T0G2C0  A8T1G0C1  A8T1G1C0  \\\n",
       "0 -0.000200 -0.000114 -0.000043  ... -0.000086 -0.000043 -0.000086 -0.000086   \n",
       "1 -0.000200 -0.000114 -0.000043  ... -0.000086 -0.000043  0.000914  0.000914   \n",
       "2  0.000243  0.000125  0.000001  ...  0.000084  0.000048  0.000081  0.000106   \n",
       "3  0.000396  0.000197 -0.000003  ...  0.000151  0.000100  0.000180  0.000202   \n",
       "4 -0.000200 -0.000114 -0.000043  ... -0.000086 -0.000043 -0.000086 -0.000086   \n",
       "\n",
       "   A8T2G0C0  A9T0G0C1  A9T0G1C0  A9T1G0C0     A10T0G0C0  \\\n",
       "0 -0.000043 -0.000010 -0.000010 -0.000010 -9.536743e-07   \n",
       "1 -0.000043 -0.000010 -0.000010 -0.000010 -9.536743e-07   \n",
       "2  0.000072  0.000010  0.000008  0.000019  1.046326e-06   \n",
       "3  0.000153  0.000021  0.000015  0.000046 -9.536743e-07   \n",
       "4 -0.000043 -0.000010 -0.000010 -0.000010 -9.536743e-07   \n",
       "\n",
       "                   target  \n",
       "0  Streptococcus_pyogenes  \n",
       "1     Salmonella_enterica  \n",
       "2     Salmonella_enterica  \n",
       "3     Salmonella_enterica  \n",
       "4      Enterococcus_hirae  \n",
       "\n",
       "[5 rows x 288 columns]"
      ]
     },
     "execution_count": 5,
     "metadata": {},
     "output_type": "execute_result"
    }
   ],
   "source": [
    "df.head()"
   ]
  },
  {
   "cell_type": "code",
   "execution_count": 6,
   "id": "e06e3ec1",
   "metadata": {
    "execution": {
     "iopub.execute_input": "2022-03-16T15:11:12.756609Z",
     "iopub.status.busy": "2022-03-16T15:11:12.755967Z",
     "iopub.status.idle": "2022-03-16T15:11:12.758478Z",
     "shell.execute_reply": "2022-03-16T15:11:12.758956Z",
     "shell.execute_reply.started": "2022-03-16T15:02:50.556741Z"
    },
    "papermill": {
     "duration": 0.092782,
     "end_time": "2022-03-16T15:11:12.759125",
     "exception": false,
     "start_time": "2022-03-16T15:11:12.666343",
     "status": "completed"
    },
    "tags": []
   },
   "outputs": [
    {
     "data": {
      "text/plain": [
       "row_id         int64\n",
       "A0T0G0C10    float64\n",
       "A0T0G1C9     float64\n",
       "A0T0G2C8     float64\n",
       "A0T0G3C7     float64\n",
       "              ...   \n",
       "A9T0G0C1     float64\n",
       "A9T0G1C0     float64\n",
       "A9T1G0C0     float64\n",
       "A10T0G0C0    float64\n",
       "target        object\n",
       "Length: 288, dtype: object"
      ]
     },
     "execution_count": 6,
     "metadata": {},
     "output_type": "execute_result"
    }
   ],
   "source": [
    "df.dtypes"
   ]
  },
  {
   "cell_type": "markdown",
   "id": "794d0620",
   "metadata": {
    "papermill": {
     "duration": 0.084137,
     "end_time": "2022-03-16T15:11:12.927484",
     "exception": false,
     "start_time": "2022-03-16T15:11:12.843347",
     "status": "completed"
    },
    "tags": []
   },
   "source": [
    "We are working with very high dimensional data, which can make the learning process more difficult.\n",
    "It will be necessary to mitigate this problem by using a dimensionality reduction technique."
   ]
  },
  {
   "cell_type": "code",
   "execution_count": 7,
   "id": "af293dcb",
   "metadata": {
    "execution": {
     "iopub.execute_input": "2022-03-16T15:11:13.097681Z",
     "iopub.status.busy": "2022-03-16T15:11:13.097061Z",
     "iopub.status.idle": "2022-03-16T15:11:13.270810Z",
     "shell.execute_reply": "2022-03-16T15:11:13.270296Z",
     "shell.execute_reply.started": "2022-03-16T15:02:50.564934Z"
    },
    "papermill": {
     "duration": 0.260066,
     "end_time": "2022-03-16T15:11:13.270953",
     "exception": false,
     "start_time": "2022-03-16T15:11:13.010887",
     "status": "completed"
    },
    "tags": []
   },
   "outputs": [
    {
     "data": {
      "text/plain": [
       "(200000, 287)"
      ]
     },
     "execution_count": 7,
     "metadata": {},
     "output_type": "execute_result"
    }
   ],
   "source": [
    "# We drop the row_id column because we will not use it\n",
    "df.drop(columns=[\"row_id\"], inplace=True)\n",
    "df.shape"
   ]
  },
  {
   "cell_type": "code",
   "execution_count": 8,
   "id": "6af93852",
   "metadata": {
    "execution": {
     "iopub.execute_input": "2022-03-16T15:11:13.451650Z",
     "iopub.status.busy": "2022-03-16T15:11:13.450876Z",
     "iopub.status.idle": "2022-03-16T15:11:13.608445Z",
     "shell.execute_reply": "2022-03-16T15:11:13.607920Z",
     "shell.execute_reply.started": "2022-03-16T15:02:50.743656Z"
    },
    "papermill": {
     "duration": 0.251249,
     "end_time": "2022-03-16T15:11:13.608603",
     "exception": false,
     "start_time": "2022-03-16T15:11:13.357354",
     "status": "completed"
    },
    "tags": []
   },
   "outputs": [
    {
     "data": {
      "text/plain": [
       "False"
      ]
     },
     "execution_count": 8,
     "metadata": {},
     "output_type": "execute_result"
    }
   ],
   "source": [
    "# Check the presence of null values\n",
    "df.isnull().values.any()"
   ]
  },
  {
   "cell_type": "code",
   "execution_count": 9,
   "id": "d4884cbb",
   "metadata": {
    "execution": {
     "iopub.execute_input": "2022-03-16T15:11:13.781363Z",
     "iopub.status.busy": "2022-03-16T15:11:13.780384Z",
     "iopub.status.idle": "2022-03-16T15:11:13.956366Z",
     "shell.execute_reply": "2022-03-16T15:11:13.956926Z",
     "shell.execute_reply.started": "2022-03-16T15:03:38.660811Z"
    },
    "papermill": {
     "duration": 0.264134,
     "end_time": "2022-03-16T15:11:13.957096",
     "exception": false,
     "start_time": "2022-03-16T15:11:13.692962",
     "status": "completed"
    },
    "tags": []
   },
   "outputs": [
    {
     "data": {
      "text/plain": [
       "True"
      ]
     },
     "execution_count": 9,
     "metadata": {},
     "output_type": "execute_result"
    }
   ],
   "source": [
    "# Check the absence of values equals to zero\n",
    "df.all(axis=None)"
   ]
  },
  {
   "cell_type": "markdown",
   "id": "fc314cd2",
   "metadata": {
    "papermill": {
     "duration": 0.088615,
     "end_time": "2022-03-16T15:11:14.129624",
     "exception": false,
     "start_time": "2022-03-16T15:11:14.041009",
     "status": "completed"
    },
    "tags": []
   },
   "source": [
    "As we have seen, in the dataframe there aren't null or 0 values."
   ]
  },
  {
   "cell_type": "code",
   "execution_count": 10,
   "id": "85b79230",
   "metadata": {
    "execution": {
     "iopub.execute_input": "2022-03-16T15:11:14.304482Z",
     "iopub.status.busy": "2022-03-16T15:11:14.303783Z",
     "iopub.status.idle": "2022-03-16T15:11:17.302748Z",
     "shell.execute_reply": "2022-03-16T15:11:17.303261Z",
     "shell.execute_reply.started": "2022-03-14T13:22:17.408136Z"
    },
    "papermill": {
     "duration": 3.089799,
     "end_time": "2022-03-16T15:11:17.303424",
     "exception": false,
     "start_time": "2022-03-16T15:11:14.213625",
     "status": "completed"
    },
    "tags": []
   },
   "outputs": [
    {
     "data": {
      "text/html": [
       "<div>\n",
       "<style scoped>\n",
       "    .dataframe tbody tr th:only-of-type {\n",
       "        vertical-align: middle;\n",
       "    }\n",
       "\n",
       "    .dataframe tbody tr th {\n",
       "        vertical-align: top;\n",
       "    }\n",
       "\n",
       "    .dataframe thead th {\n",
       "        text-align: right;\n",
       "    }\n",
       "</style>\n",
       "<table border=\"1\" class=\"dataframe\">\n",
       "  <thead>\n",
       "    <tr style=\"text-align: right;\">\n",
       "      <th></th>\n",
       "      <th>A0T0G0C10</th>\n",
       "      <th>A0T0G1C9</th>\n",
       "      <th>A0T0G2C8</th>\n",
       "      <th>A0T0G3C7</th>\n",
       "      <th>A0T0G4C6</th>\n",
       "      <th>A0T0G5C5</th>\n",
       "      <th>A0T0G6C4</th>\n",
       "      <th>A0T0G7C3</th>\n",
       "      <th>A0T0G8C2</th>\n",
       "      <th>A0T0G9C1</th>\n",
       "      <th>...</th>\n",
       "      <th>A8T0G0C2</th>\n",
       "      <th>A8T0G1C1</th>\n",
       "      <th>A8T0G2C0</th>\n",
       "      <th>A8T1G0C1</th>\n",
       "      <th>A8T1G1C0</th>\n",
       "      <th>A8T2G0C0</th>\n",
       "      <th>A9T0G0C1</th>\n",
       "      <th>A9T0G1C0</th>\n",
       "      <th>A9T1G0C0</th>\n",
       "      <th>A10T0G0C0</th>\n",
       "    </tr>\n",
       "  </thead>\n",
       "  <tbody>\n",
       "    <tr>\n",
       "      <th>count</th>\n",
       "      <td>2.000000e+05</td>\n",
       "      <td>200000.000000</td>\n",
       "      <td>200000.000000</td>\n",
       "      <td>200000.000000</td>\n",
       "      <td>200000.000000</td>\n",
       "      <td>200000.000000</td>\n",
       "      <td>200000.000000</td>\n",
       "      <td>200000.000000</td>\n",
       "      <td>200000.000000</td>\n",
       "      <td>200000.000000</td>\n",
       "      <td>...</td>\n",
       "      <td>200000.000000</td>\n",
       "      <td>200000.000000</td>\n",
       "      <td>200000.000000</td>\n",
       "      <td>200000.000000</td>\n",
       "      <td>200000.000000</td>\n",
       "      <td>200000.000000</td>\n",
       "      <td>200000.000000</td>\n",
       "      <td>2.000000e+05</td>\n",
       "      <td>2.000000e+05</td>\n",
       "      <td>2.000000e+05</td>\n",
       "    </tr>\n",
       "    <tr>\n",
       "      <th>mean</th>\n",
       "      <td>6.421457e-07</td>\n",
       "      <td>-0.000003</td>\n",
       "      <td>-0.000014</td>\n",
       "      <td>-0.000010</td>\n",
       "      <td>0.000005</td>\n",
       "      <td>0.000025</td>\n",
       "      <td>0.000014</td>\n",
       "      <td>-0.000009</td>\n",
       "      <td>-0.000028</td>\n",
       "      <td>-0.000008</td>\n",
       "      <td>...</td>\n",
       "      <td>0.000135</td>\n",
       "      <td>0.000348</td>\n",
       "      <td>0.000253</td>\n",
       "      <td>0.000464</td>\n",
       "      <td>0.000581</td>\n",
       "      <td>0.000379</td>\n",
       "      <td>0.000062</td>\n",
       "      <td>8.982134e-05</td>\n",
       "      <td>1.170014e-04</td>\n",
       "      <td>2.215407e-07</td>\n",
       "    </tr>\n",
       "    <tr>\n",
       "      <th>std</th>\n",
       "      <td>8.654927e-05</td>\n",
       "      <td>0.000132</td>\n",
       "      <td>0.000287</td>\n",
       "      <td>0.000436</td>\n",
       "      <td>0.000683</td>\n",
       "      <td>0.000869</td>\n",
       "      <td>0.000775</td>\n",
       "      <td>0.000441</td>\n",
       "      <td>0.000107</td>\n",
       "      <td>0.000083</td>\n",
       "      <td>...</td>\n",
       "      <td>0.000711</td>\n",
       "      <td>0.001117</td>\n",
       "      <td>0.000914</td>\n",
       "      <td>0.001238</td>\n",
       "      <td>0.001528</td>\n",
       "      <td>0.001182</td>\n",
       "      <td>0.000466</td>\n",
       "      <td>5.475606e-04</td>\n",
       "      <td>6.788277e-04</td>\n",
       "      <td>2.050081e-05</td>\n",
       "    </tr>\n",
       "    <tr>\n",
       "      <th>min</th>\n",
       "      <td>-9.536743e-07</td>\n",
       "      <td>-0.000010</td>\n",
       "      <td>-0.000043</td>\n",
       "      <td>-0.000114</td>\n",
       "      <td>-0.000200</td>\n",
       "      <td>-0.000240</td>\n",
       "      <td>-0.000200</td>\n",
       "      <td>-0.000114</td>\n",
       "      <td>-0.000043</td>\n",
       "      <td>-0.000010</td>\n",
       "      <td>...</td>\n",
       "      <td>-0.000043</td>\n",
       "      <td>-0.000086</td>\n",
       "      <td>-0.000043</td>\n",
       "      <td>-0.000086</td>\n",
       "      <td>-0.000086</td>\n",
       "      <td>-0.000043</td>\n",
       "      <td>-0.000010</td>\n",
       "      <td>-9.536743e-06</td>\n",
       "      <td>-9.536743e-06</td>\n",
       "      <td>-9.536743e-07</td>\n",
       "    </tr>\n",
       "    <tr>\n",
       "      <th>25%</th>\n",
       "      <td>-9.536743e-07</td>\n",
       "      <td>-0.000010</td>\n",
       "      <td>-0.000043</td>\n",
       "      <td>-0.000114</td>\n",
       "      <td>-0.000200</td>\n",
       "      <td>-0.000240</td>\n",
       "      <td>-0.000200</td>\n",
       "      <td>-0.000114</td>\n",
       "      <td>-0.000043</td>\n",
       "      <td>-0.000010</td>\n",
       "      <td>...</td>\n",
       "      <td>-0.000043</td>\n",
       "      <td>-0.000086</td>\n",
       "      <td>-0.000043</td>\n",
       "      <td>-0.000086</td>\n",
       "      <td>-0.000086</td>\n",
       "      <td>-0.000043</td>\n",
       "      <td>-0.000010</td>\n",
       "      <td>-9.536743e-06</td>\n",
       "      <td>-9.536743e-06</td>\n",
       "      <td>-9.536743e-07</td>\n",
       "    </tr>\n",
       "    <tr>\n",
       "      <th>50%</th>\n",
       "      <td>-9.536743e-07</td>\n",
       "      <td>-0.000010</td>\n",
       "      <td>-0.000043</td>\n",
       "      <td>-0.000114</td>\n",
       "      <td>-0.000200</td>\n",
       "      <td>-0.000237</td>\n",
       "      <td>-0.000199</td>\n",
       "      <td>-0.000114</td>\n",
       "      <td>-0.000043</td>\n",
       "      <td>-0.000010</td>\n",
       "      <td>...</td>\n",
       "      <td>0.000014</td>\n",
       "      <td>0.000064</td>\n",
       "      <td>0.000047</td>\n",
       "      <td>0.000124</td>\n",
       "      <td>0.000114</td>\n",
       "      <td>0.000043</td>\n",
       "      <td>-0.000010</td>\n",
       "      <td>4.632568e-07</td>\n",
       "      <td>4.632568e-07</td>\n",
       "      <td>-9.536743e-07</td>\n",
       "    </tr>\n",
       "    <tr>\n",
       "      <th>75%</th>\n",
       "      <td>-9.536743e-07</td>\n",
       "      <td>-0.000003</td>\n",
       "      <td>-0.000013</td>\n",
       "      <td>-0.000004</td>\n",
       "      <td>-0.000011</td>\n",
       "      <td>0.000003</td>\n",
       "      <td>-0.000030</td>\n",
       "      <td>0.000004</td>\n",
       "      <td>-0.000028</td>\n",
       "      <td>-0.000010</td>\n",
       "      <td>...</td>\n",
       "      <td>0.000111</td>\n",
       "      <td>0.000463</td>\n",
       "      <td>0.000297</td>\n",
       "      <td>0.000684</td>\n",
       "      <td>0.000774</td>\n",
       "      <td>0.000365</td>\n",
       "      <td>0.000030</td>\n",
       "      <td>6.046326e-05</td>\n",
       "      <td>6.946326e-05</td>\n",
       "      <td>-9.536743e-07</td>\n",
       "    </tr>\n",
       "    <tr>\n",
       "      <th>max</th>\n",
       "      <td>9.999046e-03</td>\n",
       "      <td>0.009990</td>\n",
       "      <td>0.009957</td>\n",
       "      <td>0.009886</td>\n",
       "      <td>0.019800</td>\n",
       "      <td>0.019760</td>\n",
       "      <td>0.019800</td>\n",
       "      <td>0.009886</td>\n",
       "      <td>0.009957</td>\n",
       "      <td>0.009990</td>\n",
       "      <td>...</td>\n",
       "      <td>0.019957</td>\n",
       "      <td>0.019914</td>\n",
       "      <td>0.019957</td>\n",
       "      <td>0.019914</td>\n",
       "      <td>0.019914</td>\n",
       "      <td>0.019957</td>\n",
       "      <td>0.009990</td>\n",
       "      <td>9.990463e-03</td>\n",
       "      <td>1.999046e-02</td>\n",
       "      <td>9.990463e-04</td>\n",
       "    </tr>\n",
       "  </tbody>\n",
       "</table>\n",
       "<p>8 rows × 286 columns</p>\n",
       "</div>"
      ],
      "text/plain": [
       "          A0T0G0C10       A0T0G1C9       A0T0G2C8       A0T0G3C7  \\\n",
       "count  2.000000e+05  200000.000000  200000.000000  200000.000000   \n",
       "mean   6.421457e-07      -0.000003      -0.000014      -0.000010   \n",
       "std    8.654927e-05       0.000132       0.000287       0.000436   \n",
       "min   -9.536743e-07      -0.000010      -0.000043      -0.000114   \n",
       "25%   -9.536743e-07      -0.000010      -0.000043      -0.000114   \n",
       "50%   -9.536743e-07      -0.000010      -0.000043      -0.000114   \n",
       "75%   -9.536743e-07      -0.000003      -0.000013      -0.000004   \n",
       "max    9.999046e-03       0.009990       0.009957       0.009886   \n",
       "\n",
       "            A0T0G4C6       A0T0G5C5       A0T0G6C4       A0T0G7C3  \\\n",
       "count  200000.000000  200000.000000  200000.000000  200000.000000   \n",
       "mean        0.000005       0.000025       0.000014      -0.000009   \n",
       "std         0.000683       0.000869       0.000775       0.000441   \n",
       "min        -0.000200      -0.000240      -0.000200      -0.000114   \n",
       "25%        -0.000200      -0.000240      -0.000200      -0.000114   \n",
       "50%        -0.000200      -0.000237      -0.000199      -0.000114   \n",
       "75%        -0.000011       0.000003      -0.000030       0.000004   \n",
       "max         0.019800       0.019760       0.019800       0.009886   \n",
       "\n",
       "            A0T0G8C2       A0T0G9C1  ...       A8T0G0C2       A8T0G1C1  \\\n",
       "count  200000.000000  200000.000000  ...  200000.000000  200000.000000   \n",
       "mean       -0.000028      -0.000008  ...       0.000135       0.000348   \n",
       "std         0.000107       0.000083  ...       0.000711       0.001117   \n",
       "min        -0.000043      -0.000010  ...      -0.000043      -0.000086   \n",
       "25%        -0.000043      -0.000010  ...      -0.000043      -0.000086   \n",
       "50%        -0.000043      -0.000010  ...       0.000014       0.000064   \n",
       "75%        -0.000028      -0.000010  ...       0.000111       0.000463   \n",
       "max         0.009957       0.009990  ...       0.019957       0.019914   \n",
       "\n",
       "            A8T0G2C0       A8T1G0C1       A8T1G1C0       A8T2G0C0  \\\n",
       "count  200000.000000  200000.000000  200000.000000  200000.000000   \n",
       "mean        0.000253       0.000464       0.000581       0.000379   \n",
       "std         0.000914       0.001238       0.001528       0.001182   \n",
       "min        -0.000043      -0.000086      -0.000086      -0.000043   \n",
       "25%        -0.000043      -0.000086      -0.000086      -0.000043   \n",
       "50%         0.000047       0.000124       0.000114       0.000043   \n",
       "75%         0.000297       0.000684       0.000774       0.000365   \n",
       "max         0.019957       0.019914       0.019914       0.019957   \n",
       "\n",
       "            A9T0G0C1      A9T0G1C0      A9T1G0C0     A10T0G0C0  \n",
       "count  200000.000000  2.000000e+05  2.000000e+05  2.000000e+05  \n",
       "mean        0.000062  8.982134e-05  1.170014e-04  2.215407e-07  \n",
       "std         0.000466  5.475606e-04  6.788277e-04  2.050081e-05  \n",
       "min        -0.000010 -9.536743e-06 -9.536743e-06 -9.536743e-07  \n",
       "25%        -0.000010 -9.536743e-06 -9.536743e-06 -9.536743e-07  \n",
       "50%        -0.000010  4.632568e-07  4.632568e-07 -9.536743e-07  \n",
       "75%         0.000030  6.046326e-05  6.946326e-05 -9.536743e-07  \n",
       "max         0.009990  9.990463e-03  1.999046e-02  9.990463e-04  \n",
       "\n",
       "[8 rows x 286 columns]"
      ]
     },
     "execution_count": 10,
     "metadata": {},
     "output_type": "execute_result"
    }
   ],
   "source": [
    "df.describe()"
   ]
  },
  {
   "cell_type": "code",
   "execution_count": 11,
   "id": "4bac4079",
   "metadata": {
    "execution": {
     "iopub.execute_input": "2022-03-16T15:11:17.484763Z",
     "iopub.status.busy": "2022-03-16T15:11:17.480997Z",
     "iopub.status.idle": "2022-03-16T15:11:19.422875Z",
     "shell.execute_reply": "2022-03-16T15:11:19.425558Z"
    },
    "papermill": {
     "duration": 2.036511,
     "end_time": "2022-03-16T15:11:19.426127",
     "exception": false,
     "start_time": "2022-03-16T15:11:17.389616",
     "status": "completed"
    },
    "tags": []
   },
   "outputs": [
    {
     "name": "stdout",
     "output_type": "stream",
     "text": [
      "Number of duplicated rows: 76007\n"
     ]
    }
   ],
   "source": [
    "# Count duplicates\n",
    "n_duplicated = df.duplicated().sum()\n",
    "print(f\"Number of duplicated rows: {n_duplicated}\")"
   ]
  },
  {
   "cell_type": "markdown",
   "id": "2de373a5",
   "metadata": {
    "papermill": {
     "duration": 0.103855,
     "end_time": "2022-03-16T15:11:19.723680",
     "exception": false,
     "start_time": "2022-03-16T15:11:19.619825",
     "status": "completed"
    },
    "tags": []
   },
   "source": [
    "There is a very high number of duplicates. But we won't remove them because we want to keep the original distribution of the data."
   ]
  },
  {
   "cell_type": "code",
   "execution_count": 12,
   "id": "0b1200c7",
   "metadata": {
    "execution": {
     "iopub.execute_input": "2022-03-16T15:11:19.935413Z",
     "iopub.status.busy": "2022-03-16T15:11:19.934622Z",
     "iopub.status.idle": "2022-03-16T15:11:20.350932Z",
     "shell.execute_reply": "2022-03-16T15:11:20.351597Z",
     "shell.execute_reply.started": "2022-03-14T13:22:19.425473Z"
    },
    "papermill": {
     "duration": 0.5287,
     "end_time": "2022-03-16T15:11:20.351920",
     "exception": false,
     "start_time": "2022-03-16T15:11:19.823220",
     "status": "completed"
    },
    "tags": []
   },
   "outputs": [
    {
     "data": {
      "image/png": "[encoded data removed]",
      "text/plain": [
       "<Figure size 432x288 with 1 Axes>"
      ]
     },
     "metadata": {
      "needs_background": "light"
     },
     "output_type": "display_data"
    }
   ],
   "source": [
    "# Plot the distribution of values for the target column\n",
    "df[\"target\"].value_counts().plot(kind=\"bar\");"
   ]
  },
  {
   "cell_type": "markdown",
   "id": "e192f64b",
   "metadata": {
    "papermill": {
     "duration": 0.091079,
     "end_time": "2022-03-16T15:11:20.547367",
     "exception": false,
     "start_time": "2022-03-16T15:11:20.456288",
     "status": "completed"
    },
    "tags": []
   },
   "source": [
    "The 10 different classes in the dataset are balanced."
   ]
  },
  {
   "cell_type": "markdown",
   "id": "62d98312",
   "metadata": {
    "papermill": {
     "duration": 0.088424,
     "end_time": "2022-03-16T15:11:20.724210",
     "exception": false,
     "start_time": "2022-03-16T15:11:20.635786",
     "status": "completed"
    },
    "tags": []
   },
   "source": [
    "## **Target Labels Encoding**"
   ]
  },
  {
   "cell_type": "markdown",
   "id": "9656e7ca",
   "metadata": {
    "papermill": {
     "duration": 0.090916,
     "end_time": "2022-03-16T15:11:20.903423",
     "exception": false,
     "start_time": "2022-03-16T15:11:20.812507",
     "status": "completed"
    },
    "tags": []
   },
   "source": [
    "We start the preprocessing of the dataset by encoding the labels of the target class.\n",
    "For this purpose we will use the LabelEncoder provided by sklearn, which will map each textual label into a number between 0 and 9."
   ]
  },
  {
   "cell_type": "code",
   "execution_count": 13,
   "id": "68e1ce9f",
   "metadata": {
    "execution": {
     "iopub.execute_input": "2022-03-16T15:11:21.085957Z",
     "iopub.status.busy": "2022-03-16T15:11:21.084334Z",
     "iopub.status.idle": "2022-03-16T15:11:22.104476Z",
     "shell.execute_reply": "2022-03-16T15:11:22.103412Z",
     "shell.execute_reply.started": "2022-03-14T13:22:19.703789Z"
    },
    "papermill": {
     "duration": 1.112553,
     "end_time": "2022-03-16T15:11:22.104736",
     "exception": false,
     "start_time": "2022-03-16T15:11:20.992183",
     "status": "completed"
    },
    "tags": []
   },
   "outputs": [],
   "source": [
    "from sklearn.preprocessing import LabelEncoder"
   ]
  },
  {
   "cell_type": "code",
   "execution_count": 14,
   "id": "d742fb29",
   "metadata": {
    "execution": {
     "iopub.execute_input": "2022-03-16T15:11:22.422113Z",
     "iopub.status.busy": "2022-03-16T15:11:22.421421Z",
     "iopub.status.idle": "2022-03-16T15:11:22.521979Z",
     "shell.execute_reply": "2022-03-16T15:11:22.522475Z",
     "shell.execute_reply.started": "2022-03-14T13:22:20.55012Z"
    },
    "papermill": {
     "duration": 0.274138,
     "end_time": "2022-03-16T15:11:22.522652",
     "exception": false,
     "start_time": "2022-03-16T15:11:22.248514",
     "status": "completed"
    },
    "tags": []
   },
   "outputs": [
    {
     "data": {
      "text/html": [
       "<div>\n",
       "<style scoped>\n",
       "    .dataframe tbody tr th:only-of-type {\n",
       "        vertical-align: middle;\n",
       "    }\n",
       "\n",
       "    .dataframe tbody tr th {\n",
       "        vertical-align: top;\n",
       "    }\n",
       "\n",
       "    .dataframe thead th {\n",
       "        text-align: right;\n",
       "    }\n",
       "</style>\n",
       "<table border=\"1\" class=\"dataframe\">\n",
       "  <thead>\n",
       "    <tr style=\"text-align: right;\">\n",
       "      <th></th>\n",
       "      <th>A0T0G0C10</th>\n",
       "      <th>A0T0G1C9</th>\n",
       "      <th>A0T0G2C8</th>\n",
       "      <th>A0T0G3C7</th>\n",
       "      <th>A0T0G4C6</th>\n",
       "      <th>A0T0G5C5</th>\n",
       "      <th>A0T0G6C4</th>\n",
       "      <th>A0T0G7C3</th>\n",
       "      <th>A0T0G8C2</th>\n",
       "      <th>A0T0G9C1</th>\n",
       "      <th>...</th>\n",
       "      <th>A8T0G1C1</th>\n",
       "      <th>A8T0G2C0</th>\n",
       "      <th>A8T1G0C1</th>\n",
       "      <th>A8T1G1C0</th>\n",
       "      <th>A8T2G0C0</th>\n",
       "      <th>A9T0G0C1</th>\n",
       "      <th>A9T0G1C0</th>\n",
       "      <th>A9T1G0C0</th>\n",
       "      <th>A10T0G0C0</th>\n",
       "      <th>target</th>\n",
       "    </tr>\n",
       "  </thead>\n",
       "  <tbody>\n",
       "    <tr>\n",
       "      <th>0</th>\n",
       "      <td>-9.536743e-07</td>\n",
       "      <td>-0.000010</td>\n",
       "      <td>-0.000043</td>\n",
       "      <td>-0.000114</td>\n",
       "      <td>-0.000200</td>\n",
       "      <td>-0.000240</td>\n",
       "      <td>-0.000200</td>\n",
       "      <td>-0.000114</td>\n",
       "      <td>-0.000043</td>\n",
       "      <td>-0.000010</td>\n",
       "      <td>...</td>\n",
       "      <td>-0.000086</td>\n",
       "      <td>-0.000043</td>\n",
       "      <td>-0.000086</td>\n",
       "      <td>-0.000086</td>\n",
       "      <td>-0.000043</td>\n",
       "      <td>-0.000010</td>\n",
       "      <td>-0.000010</td>\n",
       "      <td>-0.000010</td>\n",
       "      <td>-9.536743e-07</td>\n",
       "      <td>9</td>\n",
       "    </tr>\n",
       "    <tr>\n",
       "      <th>1</th>\n",
       "      <td>-9.536743e-07</td>\n",
       "      <td>-0.000010</td>\n",
       "      <td>-0.000043</td>\n",
       "      <td>0.000886</td>\n",
       "      <td>-0.000200</td>\n",
       "      <td>0.000760</td>\n",
       "      <td>-0.000200</td>\n",
       "      <td>-0.000114</td>\n",
       "      <td>-0.000043</td>\n",
       "      <td>-0.000010</td>\n",
       "      <td>...</td>\n",
       "      <td>-0.000086</td>\n",
       "      <td>-0.000043</td>\n",
       "      <td>0.000914</td>\n",
       "      <td>0.000914</td>\n",
       "      <td>-0.000043</td>\n",
       "      <td>-0.000010</td>\n",
       "      <td>-0.000010</td>\n",
       "      <td>-0.000010</td>\n",
       "      <td>-9.536743e-07</td>\n",
       "      <td>6</td>\n",
       "    </tr>\n",
       "    <tr>\n",
       "      <th>2</th>\n",
       "      <td>-9.536743e-07</td>\n",
       "      <td>-0.000002</td>\n",
       "      <td>0.000007</td>\n",
       "      <td>0.000129</td>\n",
       "      <td>0.000268</td>\n",
       "      <td>0.000270</td>\n",
       "      <td>0.000243</td>\n",
       "      <td>0.000125</td>\n",
       "      <td>0.000001</td>\n",
       "      <td>-0.000007</td>\n",
       "      <td>...</td>\n",
       "      <td>0.000084</td>\n",
       "      <td>0.000048</td>\n",
       "      <td>0.000081</td>\n",
       "      <td>0.000106</td>\n",
       "      <td>0.000072</td>\n",
       "      <td>0.000010</td>\n",
       "      <td>0.000008</td>\n",
       "      <td>0.000019</td>\n",
       "      <td>1.046326e-06</td>\n",
       "      <td>6</td>\n",
       "    </tr>\n",
       "    <tr>\n",
       "      <th>3</th>\n",
       "      <td>4.632568e-08</td>\n",
       "      <td>-0.000006</td>\n",
       "      <td>0.000012</td>\n",
       "      <td>0.000245</td>\n",
       "      <td>0.000492</td>\n",
       "      <td>0.000522</td>\n",
       "      <td>0.000396</td>\n",
       "      <td>0.000197</td>\n",
       "      <td>-0.000003</td>\n",
       "      <td>-0.000007</td>\n",
       "      <td>...</td>\n",
       "      <td>0.000151</td>\n",
       "      <td>0.000100</td>\n",
       "      <td>0.000180</td>\n",
       "      <td>0.000202</td>\n",
       "      <td>0.000153</td>\n",
       "      <td>0.000021</td>\n",
       "      <td>0.000015</td>\n",
       "      <td>0.000046</td>\n",
       "      <td>-9.536743e-07</td>\n",
       "      <td>6</td>\n",
       "    </tr>\n",
       "    <tr>\n",
       "      <th>4</th>\n",
       "      <td>-9.536743e-07</td>\n",
       "      <td>-0.000010</td>\n",
       "      <td>-0.000043</td>\n",
       "      <td>-0.000114</td>\n",
       "      <td>-0.000200</td>\n",
       "      <td>-0.000240</td>\n",
       "      <td>-0.000200</td>\n",
       "      <td>-0.000114</td>\n",
       "      <td>-0.000043</td>\n",
       "      <td>-0.000010</td>\n",
       "      <td>...</td>\n",
       "      <td>-0.000086</td>\n",
       "      <td>-0.000043</td>\n",
       "      <td>-0.000086</td>\n",
       "      <td>-0.000086</td>\n",
       "      <td>-0.000043</td>\n",
       "      <td>-0.000010</td>\n",
       "      <td>-0.000010</td>\n",
       "      <td>-0.000010</td>\n",
       "      <td>-9.536743e-07</td>\n",
       "      <td>2</td>\n",
       "    </tr>\n",
       "  </tbody>\n",
       "</table>\n",
       "<p>5 rows × 287 columns</p>\n",
       "</div>"
      ],
      "text/plain": [
       "      A0T0G0C10  A0T0G1C9  A0T0G2C8  A0T0G3C7  A0T0G4C6  A0T0G5C5  A0T0G6C4  \\\n",
       "0 -9.536743e-07 -0.000010 -0.000043 -0.000114 -0.000200 -0.000240 -0.000200   \n",
       "1 -9.536743e-07 -0.000010 -0.000043  0.000886 -0.000200  0.000760 -0.000200   \n",
       "2 -9.536743e-07 -0.000002  0.000007  0.000129  0.000268  0.000270  0.000243   \n",
       "3  4.632568e-08 -0.000006  0.000012  0.000245  0.000492  0.000522  0.000396   \n",
       "4 -9.536743e-07 -0.000010 -0.000043 -0.000114 -0.000200 -0.000240 -0.000200   \n",
       "\n",
       "   A0T0G7C3  A0T0G8C2  A0T0G9C1  ...  A8T0G1C1  A8T0G2C0  A8T1G0C1  A8T1G1C0  \\\n",
       "0 -0.000114 -0.000043 -0.000010  ... -0.000086 -0.000043 -0.000086 -0.000086   \n",
       "1 -0.000114 -0.000043 -0.000010  ... -0.000086 -0.000043  0.000914  0.000914   \n",
       "2  0.000125  0.000001 -0.000007  ...  0.000084  0.000048  0.000081  0.000106   \n",
       "3  0.000197 -0.000003 -0.000007  ...  0.000151  0.000100  0.000180  0.000202   \n",
       "4 -0.000114 -0.000043 -0.000010  ... -0.000086 -0.000043 -0.000086 -0.000086   \n",
       "\n",
       "   A8T2G0C0  A9T0G0C1  A9T0G1C0  A9T1G0C0     A10T0G0C0  target  \n",
       "0 -0.000043 -0.000010 -0.000010 -0.000010 -9.536743e-07       9  \n",
       "1 -0.000043 -0.000010 -0.000010 -0.000010 -9.536743e-07       6  \n",
       "2  0.000072  0.000010  0.000008  0.000019  1.046326e-06       6  \n",
       "3  0.000153  0.000021  0.000015  0.000046 -9.536743e-07       6  \n",
       "4 -0.000043 -0.000010 -0.000010 -0.000010 -9.536743e-07       2  \n",
       "\n",
       "[5 rows x 287 columns]"
      ]
     },
     "execution_count": 14,
     "metadata": {},
     "output_type": "execute_result"
    }
   ],
   "source": [
    "# Label encoding of the target.\n",
    "# We will map each of the 10 different target classess to an intger in the range 0-9\n",
    "label_encoder = LabelEncoder()\n",
    "df[\"target\"] = label_encoder.fit(df[\"target\"]).transform(df[\"target\"])\n",
    "df.head()"
   ]
  },
  {
   "cell_type": "markdown",
   "id": "c13e850e",
   "metadata": {
    "papermill": {
     "duration": 0.086657,
     "end_time": "2022-03-16T15:11:22.696791",
     "exception": false,
     "start_time": "2022-03-16T15:11:22.610134",
     "status": "completed"
    },
    "tags": []
   },
   "source": [
    "## **Train-Test Split**"
   ]
  },
  {
   "cell_type": "markdown",
   "id": "e2f27fd3",
   "metadata": {
    "papermill": {
     "duration": 0.086517,
     "end_time": "2022-03-16T15:11:22.870898",
     "exception": false,
     "start_time": "2022-03-16T15:11:22.784381",
     "status": "completed"
    },
    "tags": []
   },
   "source": [
    "Altrought Kaggle provides separate training and test set for this task, we don't have access to the full test set.\n",
    "For this reason for now we will assume to have only the data in train.csv, and we will split it in two sets for training and testing.\n",
    "The test set will be equal to 1/3 of the initial dataset."
   ]
  },
  {
   "cell_type": "code",
   "execution_count": 15,
   "id": "a96b5da1",
   "metadata": {
    "execution": {
     "iopub.execute_input": "2022-03-16T15:11:23.052279Z",
     "iopub.status.busy": "2022-03-16T15:11:23.051517Z",
     "iopub.status.idle": "2022-03-16T15:11:23.102149Z",
     "shell.execute_reply": "2022-03-16T15:11:23.102814Z",
     "shell.execute_reply.started": "2022-03-14T13:22:20.617574Z"
    },
    "papermill": {
     "duration": 0.143932,
     "end_time": "2022-03-16T15:11:23.103010",
     "exception": false,
     "start_time": "2022-03-16T15:11:22.959078",
     "status": "completed"
    },
    "tags": []
   },
   "outputs": [],
   "source": [
    "# Imports\n",
    "from sklearn.model_selection import train_test_split"
   ]
  },
  {
   "cell_type": "code",
   "execution_count": 16,
   "id": "06a27d60",
   "metadata": {
    "execution": {
     "iopub.execute_input": "2022-03-16T15:11:23.282160Z",
     "iopub.status.busy": "2022-03-16T15:11:23.281482Z",
     "iopub.status.idle": "2022-03-16T15:11:24.148634Z",
     "shell.execute_reply": "2022-03-16T15:11:24.148034Z",
     "shell.execute_reply.started": "2022-03-14T13:22:20.669491Z"
    },
    "papermill": {
     "duration": 0.958147,
     "end_time": "2022-03-16T15:11:24.148896",
     "exception": false,
     "start_time": "2022-03-16T15:11:23.190749",
     "status": "completed"
    },
    "tags": []
   },
   "outputs": [],
   "source": [
    "X_train, X_test, Y_train, Y_test = train_test_split(df.drop(columns=[\"target\"]), df[\"target\"], test_size=0.33, stratify=df[\"target\"], random_state=random_seed)"
   ]
  },
  {
   "cell_type": "code",
   "execution_count": 17,
   "id": "206d65e2",
   "metadata": {
    "execution": {
     "iopub.execute_input": "2022-03-16T15:11:24.332709Z",
     "iopub.status.busy": "2022-03-16T15:11:24.331941Z",
     "iopub.status.idle": "2022-03-16T15:11:24.334998Z",
     "shell.execute_reply": "2022-03-16T15:11:24.335491Z",
     "shell.execute_reply.started": "2022-03-14T13:22:22.47162Z"
    },
    "papermill": {
     "duration": 0.097451,
     "end_time": "2022-03-16T15:11:24.335655",
     "exception": false,
     "start_time": "2022-03-16T15:11:24.238204",
     "status": "completed"
    },
    "tags": []
   },
   "outputs": [
    {
     "name": "stdout",
     "output_type": "stream",
     "text": [
      "X_train shape: (134000, 286)\n",
      "Y_train shape: (134000,)\n",
      "X_test shape: (66000, 286)\n",
      "Y_test shape: (66000,)\n"
     ]
    }
   ],
   "source": [
    "print(f\"X_train shape: {X_train.shape}\")\n",
    "print(f\"Y_train shape: {Y_train.shape}\")\n",
    "print(f\"X_test shape: {X_test.shape}\")\n",
    "print(f\"Y_test shape: {Y_test.shape}\")"
   ]
  },
  {
   "cell_type": "markdown",
   "id": "fe570f38",
   "metadata": {
    "papermill": {
     "duration": 0.088789,
     "end_time": "2022-03-16T15:11:24.514396",
     "exception": false,
     "start_time": "2022-03-16T15:11:24.425607",
     "status": "completed"
    },
    "tags": []
   },
   "source": [
    "## **Utility Functions Definition**"
   ]
  },
  {
   "cell_type": "markdown",
   "id": "84b0305d",
   "metadata": {
    "papermill": {
     "duration": 0.087368,
     "end_time": "2022-03-16T15:11:24.690403",
     "exception": false,
     "start_time": "2022-03-16T15:11:24.603035",
     "status": "completed"
    },
    "tags": []
   },
   "source": [
    "Now we define some utility functions that we will use later."
   ]
  },
  {
   "cell_type": "code",
   "execution_count": 18,
   "id": "70d63e70",
   "metadata": {
    "execution": {
     "iopub.execute_input": "2022-03-16T15:11:24.870414Z",
     "iopub.status.busy": "2022-03-16T15:11:24.869787Z",
     "iopub.status.idle": "2022-03-16T15:11:24.977334Z",
     "shell.execute_reply": "2022-03-16T15:11:24.977934Z",
     "shell.execute_reply.started": "2022-03-14T13:22:22.481709Z"
    },
    "papermill": {
     "duration": 0.199442,
     "end_time": "2022-03-16T15:11:24.978118",
     "exception": false,
     "start_time": "2022-03-16T15:11:24.778676",
     "status": "completed"
    },
    "tags": []
   },
   "outputs": [],
   "source": [
    "from sklearn.preprocessing import StandardScaler\n",
    "from sklearn.decomposition import PCA\n",
    "from sklearn.pipeline import Pipeline"
   ]
  },
  {
   "cell_type": "markdown",
   "id": "42b09a15",
   "metadata": {
    "papermill": {
     "duration": 0.091797,
     "end_time": "2022-03-16T15:11:25.159158",
     "exception": false,
     "start_time": "2022-03-16T15:11:25.067361",
     "status": "completed"
    },
    "tags": []
   },
   "source": [
    "We will use cross validation to test several models with different hyper-parameters, each time using the function **print_grid_search_results** to print the results of the search."
   ]
  },
  {
   "cell_type": "code",
   "execution_count": 19,
   "id": "3f4a274e",
   "metadata": {
    "execution": {
     "iopub.execute_input": "2022-03-16T15:11:25.339047Z",
     "iopub.status.busy": "2022-03-16T15:11:25.338347Z",
     "iopub.status.idle": "2022-03-16T15:11:25.344257Z",
     "shell.execute_reply": "2022-03-16T15:11:25.343702Z",
     "shell.execute_reply.started": "2022-03-14T13:22:22.61104Z"
    },
    "papermill": {
     "duration": 0.097479,
     "end_time": "2022-03-16T15:11:25.344407",
     "exception": false,
     "start_time": "2022-03-16T15:11:25.246928",
     "status": "completed"
    },
    "tags": []
   },
   "outputs": [],
   "source": [
    "# Print grid search results.\n",
    "# Input: GridSearchCV object\n",
    "def print_grid_search_results(gscv):\n",
    "    print(\"Best parameters set found on train set:\")\n",
    "    print(gscv.best_params_)\n",
    "    print(\"\\n\")\n",
    "    print(\"Grid scores on train set:\")\n",
    "    for param, mean, std in zip(gscv.cv_results_['params'], gscv.cv_results_['mean_test_score'], gscv.cv_results_['std_test_score']):\n",
    "        print(\"%r mean: %0.3f std: +/- %0.03f)\" % (param, mean, std))\n",
    "    print(\"\\n\")"
   ]
  },
  {
   "cell_type": "markdown",
   "id": "fd0bdf66",
   "metadata": {
    "papermill": {
     "duration": 0.090849,
     "end_time": "2022-03-16T15:11:25.525565",
     "exception": false,
     "start_time": "2022-03-16T15:11:25.434716",
     "status": "completed"
    },
    "tags": []
   },
   "source": [
    "We will also use a simple plot function based on matplotlib.pyplot"
   ]
  },
  {
   "cell_type": "code",
   "execution_count": 20,
   "id": "0fa230d7",
   "metadata": {
    "execution": {
     "iopub.execute_input": "2022-03-16T15:11:25.709364Z",
     "iopub.status.busy": "2022-03-16T15:11:25.708274Z",
     "iopub.status.idle": "2022-03-16T15:11:25.710182Z",
     "shell.execute_reply": "2022-03-16T15:11:25.710697Z",
     "shell.execute_reply.started": "2022-03-14T13:22:22.618229Z"
    },
    "papermill": {
     "duration": 0.096655,
     "end_time": "2022-03-16T15:11:25.710882",
     "exception": false,
     "start_time": "2022-03-16T15:11:25.614227",
     "status": "completed"
    },
    "tags": []
   },
   "outputs": [],
   "source": [
    "# Show x-y curve plot\n",
    "def show_curve(x, y, x_label, y_label, title):\n",
    "    plt.figure(figsize=(10,5))\n",
    "    plt.plot(x, y, '-o', linewidth=5, markersize=10)\n",
    "    plt.xlabel(x_label)\n",
    "    plt.ylabel(y_label)\n",
    "    plt.title(title, fontsize = 12)\n",
    "    plt.show();"
   ]
  },
  {
   "cell_type": "markdown",
   "id": "b308cf6a",
   "metadata": {
    "papermill": {
     "duration": 0.089438,
     "end_time": "2022-03-16T15:11:25.888915",
     "exception": false,
     "start_time": "2022-03-16T15:11:25.799477",
     "status": "completed"
    },
    "tags": []
   },
   "source": [
    "Finally we have the function **build_PCA_pipeline** which will be used to construct a ML pipeline given a specific classifier to use and the number of output components of the PCA performed at beginning of the pipeline, in order to reduce the dimensions of the input data.\n",
    "\n",
    "Each pipeline will comprehend 3 stages:\n",
    "1. Standardization of the input data, by removing for each feature the mean and scaling to unit variance. (Required before doing PCA)\n",
    "2. Principal Component Analysis (PCA)\n",
    "3. Classification of the PCA-transformed data by a specific classifier"
   ]
  },
  {
   "cell_type": "code",
   "execution_count": 21,
   "id": "608f9377",
   "metadata": {
    "execution": {
     "iopub.execute_input": "2022-03-16T15:11:26.072511Z",
     "iopub.status.busy": "2022-03-16T15:11:26.071557Z",
     "iopub.status.idle": "2022-03-16T15:11:26.076570Z",
     "shell.execute_reply": "2022-03-16T15:11:26.077064Z",
     "shell.execute_reply.started": "2022-03-14T13:22:22.632402Z"
    },
    "papermill": {
     "duration": 0.098025,
     "end_time": "2022-03-16T15:11:26.077265",
     "exception": false,
     "start_time": "2022-03-16T15:11:25.979240",
     "status": "completed"
    },
    "tags": []
   },
   "outputs": [],
   "source": [
    "# Construct a ML pipeline with initial PCA\n",
    "# Inputs:\n",
    "#  - classifier to use as the last step of the pipeline\n",
    "#  - number of output dimensions of the PCA transformation\n",
    "# Output:\n",
    "# - The constructed pipeline\n",
    "def build_PCA_pipeline(classifier, pca_n_components=None):\n",
    "    st_scaler = StandardScaler()\n",
    "    pca = PCA(n_components=pca_n_components, random_state=random_seed)\n",
    "    pipe = Pipeline(steps=[(\"st_scaler\", st_scaler), (\"pca\", pca), (\"classifier\", classifier)])\n",
    "    return pipe"
   ]
  },
  {
   "cell_type": "markdown",
   "id": "c271517a",
   "metadata": {
    "papermill": {
     "duration": 0.101614,
     "end_time": "2022-03-16T15:11:26.283687",
     "exception": false,
     "start_time": "2022-03-16T15:11:26.182073",
     "status": "completed"
    },
    "tags": []
   },
   "source": [
    "## **Dimensionality Reduction** "
   ]
  },
  {
   "cell_type": "markdown",
   "id": "b3bf6cb3",
   "metadata": {
    "papermill": {
     "duration": 0.089527,
     "end_time": "2022-03-16T15:11:26.462010",
     "exception": false,
     "start_time": "2022-03-16T15:11:26.372483",
     "status": "completed"
    },
    "tags": []
   },
   "source": [
    "### **Grid Search with Cross Validation to find the best value for n_components of PCA**"
   ]
  },
  {
   "cell_type": "markdown",
   "id": "c18250d8",
   "metadata": {
    "papermill": {
     "duration": 0.088381,
     "end_time": "2022-03-16T15:11:26.638989",
     "exception": false,
     "start_time": "2022-03-16T15:11:26.550608",
     "status": "completed"
    },
    "tags": []
   },
   "source": [
    "We will use PCA in order to reduce the dimensionality of the data.\n",
    "We will use cross validation to find the best number of output dimensions from the PCA, by testing for each possible dimension the performance of a simple decision tree classifier, which will be used as an indicator."
   ]
  },
  {
   "cell_type": "code",
   "execution_count": 22,
   "id": "83fcc5d0",
   "metadata": {
    "execution": {
     "iopub.execute_input": "2022-03-16T15:11:26.818992Z",
     "iopub.status.busy": "2022-03-16T15:11:26.818391Z",
     "iopub.status.idle": "2022-03-16T15:11:26.878118Z",
     "shell.execute_reply": "2022-03-16T15:11:26.878652Z",
     "shell.execute_reply.started": "2022-03-14T13:22:22.643374Z"
    },
    "papermill": {
     "duration": 0.151187,
     "end_time": "2022-03-16T15:11:26.878865",
     "exception": false,
     "start_time": "2022-03-16T15:11:26.727678",
     "status": "completed"
    },
    "tags": []
   },
   "outputs": [],
   "source": [
    "from sklearn.tree import DecisionTreeClassifier\n",
    "from sklearn.model_selection import GridSearchCV"
   ]
  },
  {
   "cell_type": "code",
   "execution_count": 23,
   "id": "8c63f725",
   "metadata": {
    "execution": {
     "iopub.execute_input": "2022-03-16T15:11:27.058175Z",
     "iopub.status.busy": "2022-03-16T15:11:27.057561Z",
     "iopub.status.idle": "2022-03-16T15:11:27.061324Z",
     "shell.execute_reply": "2022-03-16T15:11:27.061847Z",
     "shell.execute_reply.started": "2022-03-14T13:22:22.711237Z"
    },
    "papermill": {
     "duration": 0.095134,
     "end_time": "2022-03-16T15:11:27.062008",
     "exception": false,
     "start_time": "2022-03-16T15:11:26.966874",
     "status": "completed"
    },
    "tags": []
   },
   "outputs": [],
   "source": [
    "# Define the decision tree to use for testing, and construct the pipeline with it.\n",
    "classifier = DecisionTreeClassifier(criterion=\"entropy\", random_state=random_seed)\n",
    "pipe = build_PCA_pipeline(classifier)"
   ]
  },
  {
   "cell_type": "code",
   "execution_count": 24,
   "id": "11c16f13",
   "metadata": {
    "execution": {
     "iopub.execute_input": "2022-03-16T15:11:27.244152Z",
     "iopub.status.busy": "2022-03-16T15:11:27.243493Z",
     "iopub.status.idle": "2022-03-16T15:11:27.245800Z",
     "shell.execute_reply": "2022-03-16T15:11:27.246267Z",
     "shell.execute_reply.started": "2022-03-14T13:22:22.716653Z"
    },
    "papermill": {
     "duration": 0.0961,
     "end_time": "2022-03-16T15:11:27.246438",
     "exception": false,
     "start_time": "2022-03-16T15:11:27.150338",
     "status": "completed"
    },
    "tags": []
   },
   "outputs": [],
   "source": [
    "# The grid search will concern only the paramater n_components of the PCA module, which is the number of output dimensions of the transformed data.\n",
    "param_grid = {\n",
    "    \"pca__n_components\": [3, 5, 8, 10, 20, 50]\n",
    "}"
   ]
  },
  {
   "cell_type": "code",
   "execution_count": 25,
   "id": "946c4295",
   "metadata": {
    "execution": {
     "iopub.execute_input": "2022-03-16T15:11:27.426692Z",
     "iopub.status.busy": "2022-03-16T15:11:27.426069Z",
     "iopub.status.idle": "2022-03-16T15:12:47.518132Z",
     "shell.execute_reply": "2022-03-16T15:12:47.517478Z",
     "shell.execute_reply.started": "2022-03-14T13:22:22.729171Z"
    },
    "papermill": {
     "duration": 80.183654,
     "end_time": "2022-03-16T15:12:47.518282",
     "exception": false,
     "start_time": "2022-03-16T15:11:27.334628",
     "status": "completed"
    },
    "tags": []
   },
   "outputs": [
    {
     "name": "stdout",
     "output_type": "stream",
     "text": [
      "Fitting 2 folds for each of 6 candidates, totalling 12 fits\n",
      "[CV] pca__n_components=3 .............................................\n"
     ]
    },
    {
     "name": "stderr",
     "output_type": "stream",
     "text": [
      "[Parallel(n_jobs=1)]: Using backend SequentialBackend with 1 concurrent workers.\n"
     ]
    },
    {
     "name": "stdout",
     "output_type": "stream",
     "text": [
      "[CV] .............................. pca__n_components=3, total=   3.6s\n",
      "[CV] pca__n_components=3 .............................................\n"
     ]
    },
    {
     "name": "stderr",
     "output_type": "stream",
     "text": [
      "[Parallel(n_jobs=1)]: Done   1 out of   1 | elapsed:    3.6s remaining:    0.0s\n"
     ]
    },
    {
     "name": "stdout",
     "output_type": "stream",
     "text": [
      "[CV] .............................. pca__n_components=3, total=   3.5s\n",
      "[CV] pca__n_components=5 .............................................\n",
      "[CV] .............................. pca__n_components=5, total=   4.1s\n",
      "[CV] pca__n_components=5 .............................................\n",
      "[CV] .............................. pca__n_components=5, total=   3.9s\n",
      "[CV] pca__n_components=8 .............................................\n",
      "[CV] .............................. pca__n_components=8, total=   4.5s\n",
      "[CV] pca__n_components=8 .............................................\n",
      "[CV] .............................. pca__n_components=8, total=   4.5s\n",
      "[CV] pca__n_components=10 ............................................\n",
      "[CV] ............................. pca__n_components=10, total=   4.9s\n",
      "[CV] pca__n_components=10 ............................................\n",
      "[CV] ............................. pca__n_components=10, total=   4.9s\n",
      "[CV] pca__n_components=20 ............................................\n",
      "[CV] ............................. pca__n_components=20, total=   7.0s\n",
      "[CV] pca__n_components=20 ............................................\n",
      "[CV] ............................. pca__n_components=20, total=   7.5s\n",
      "[CV] pca__n_components=50 ............................................\n",
      "[CV] ............................. pca__n_components=50, total=  12.6s\n",
      "[CV] pca__n_components=50 ............................................\n",
      "[CV] ............................. pca__n_components=50, total=  12.4s\n"
     ]
    },
    {
     "name": "stderr",
     "output_type": "stream",
     "text": [
      "[Parallel(n_jobs=1)]: Done  12 out of  12 | elapsed:  1.2min finished\n"
     ]
    }
   ],
   "source": [
    "# Define and start the grid search using the data in the training set\n",
    "grid_search = GridSearchCV(pipe, param_grid, cv=2, verbose=2)\n",
    "grid_search.fit(X_train, Y_train);"
   ]
  },
  {
   "cell_type": "code",
   "execution_count": 26,
   "id": "20551dd0",
   "metadata": {
    "execution": {
     "iopub.execute_input": "2022-03-16T15:12:47.710563Z",
     "iopub.status.busy": "2022-03-16T15:12:47.709584Z",
     "iopub.status.idle": "2022-03-16T15:12:47.717250Z",
     "shell.execute_reply": "2022-03-16T15:12:47.717710Z",
     "shell.execute_reply.started": "2022-03-14T13:23:20.730601Z"
    },
    "papermill": {
     "duration": 0.105266,
     "end_time": "2022-03-16T15:12:47.717897",
     "exception": false,
     "start_time": "2022-03-16T15:12:47.612631",
     "status": "completed"
    },
    "tags": []
   },
   "outputs": [
    {
     "name": "stdout",
     "output_type": "stream",
     "text": [
      "Best parameters set found on train set:\n",
      "{'pca__n_components': 5}\n",
      "\n",
      "\n",
      "Grid scores on train set:\n",
      "{'pca__n_components': 3} mean: 0.920 std: +/- 0.000)\n",
      "{'pca__n_components': 5} mean: 0.928 std: +/- 0.001)\n",
      "{'pca__n_components': 8} mean: 0.923 std: +/- 0.000)\n",
      "{'pca__n_components': 10} mean: 0.919 std: +/- 0.001)\n",
      "{'pca__n_components': 20} mean: 0.919 std: +/- 0.000)\n",
      "{'pca__n_components': 50} mean: 0.909 std: +/- 0.000)\n",
      "\n",
      "\n"
     ]
    }
   ],
   "source": [
    "print_grid_search_results(grid_search)"
   ]
  },
  {
   "cell_type": "code",
   "execution_count": 27,
   "id": "22ac4f64",
   "metadata": {
    "execution": {
     "iopub.execute_input": "2022-03-16T15:12:47.909064Z",
     "iopub.status.busy": "2022-03-16T15:12:47.908378Z",
     "iopub.status.idle": "2022-03-16T15:12:48.107151Z",
     "shell.execute_reply": "2022-03-16T15:12:48.107651Z",
     "shell.execute_reply.started": "2022-03-14T13:23:20.738925Z"
    },
    "papermill": {
     "duration": 0.29536,
     "end_time": "2022-03-16T15:12:48.107847",
     "exception": false,
     "start_time": "2022-03-16T15:12:47.812487",
     "status": "completed"
    },
    "tags": []
   },
   "outputs": [
    {
     "data": {
      "image/png": "[encoded data removed]",
      "text/plain": [
       "<Figure size 720x360 with 1 Axes>"
      ]
     },
     "metadata": {
      "needs_background": "light"
     },
     "output_type": "display_data"
    }
   ],
   "source": [
    "show_curve(param_grid[\"pca__n_components\"],\n",
    "           grid_search.cv_results_['mean_test_score'],\n",
    "           \"n_components\",\n",
    "           \"accuracy\",\n",
    "           \"Mean score with CV varying n_components of PCA\")"
   ]
  },
  {
   "cell_type": "markdown",
   "id": "5274163f",
   "metadata": {
    "papermill": {
     "duration": 0.094269,
     "end_time": "2022-03-16T15:12:48.296146",
     "exception": false,
     "start_time": "2022-03-16T15:12:48.201877",
     "status": "completed"
    },
    "tags": []
   },
   "source": [
    "As we can see, the best results are obtained with a number of components less than 10, which is a great dimensionality reduction considering that we started with 286 dimensions."
   ]
  },
  {
   "cell_type": "code",
   "execution_count": 28,
   "id": "25e2f69a",
   "metadata": {
    "execution": {
     "iopub.execute_input": "2022-03-16T15:12:48.489947Z",
     "iopub.status.busy": "2022-03-16T15:12:48.489299Z",
     "iopub.status.idle": "2022-03-16T15:12:48.492233Z",
     "shell.execute_reply": "2022-03-16T15:12:48.491710Z",
     "shell.execute_reply.started": "2022-03-14T13:23:20.927362Z"
    },
    "papermill": {
     "duration": 0.101744,
     "end_time": "2022-03-16T15:12:48.492398",
     "exception": false,
     "start_time": "2022-03-16T15:12:48.390654",
     "status": "completed"
    },
    "tags": []
   },
   "outputs": [],
   "source": [
    "# Store the best number of components found\n",
    "pca_n_components = grid_search.best_params_[\"pca__n_components\"]"
   ]
  },
  {
   "cell_type": "markdown",
   "id": "e5a7d9c2",
   "metadata": {
    "papermill": {
     "duration": 0.094424,
     "end_time": "2022-03-16T15:12:48.681246",
     "exception": false,
     "start_time": "2022-03-16T15:12:48.586822",
     "status": "completed"
    },
    "tags": []
   },
   "source": [
    "## **ML Models Testing**"
   ]
  },
  {
   "cell_type": "markdown",
   "id": "60f1ff85",
   "metadata": {
    "papermill": {
     "duration": 0.094233,
     "end_time": "2022-03-16T15:12:48.869901",
     "exception": false,
     "start_time": "2022-03-16T15:12:48.775668",
     "status": "completed"
    },
    "tags": []
   },
   "source": [
    "Now we will test four different classificators to find the most appropriate to solve the task:\n",
    "1. (Simple) Decision Tree\n",
    "2. Random Forest\n",
    "3. Extremely Randomized Trees\n",
    "4. Deep Neural Network\n",
    "\n",
    "For the first three non-deep models we will use cross validation in order to set their hyper-paramaters and test their performances.\n",
    "The Deep Neural Network instead will be trained and tested using a more classical train-validation data split."
   ]
  },
  {
   "cell_type": "markdown",
   "id": "376b8a07",
   "metadata": {
    "papermill": {
     "duration": 0.094674,
     "end_time": "2022-03-16T15:12:49.058474",
     "exception": false,
     "start_time": "2022-03-16T15:12:48.963800",
     "status": "completed"
    },
    "tags": []
   },
   "source": [
    "### **Decision Tree Classifier**"
   ]
  },
  {
   "cell_type": "markdown",
   "id": "5b75800c",
   "metadata": {
    "papermill": {
     "duration": 0.094869,
     "end_time": "2022-03-16T15:12:49.248360",
     "exception": false,
     "start_time": "2022-03-16T15:12:49.153491",
     "status": "completed"
    },
    "tags": []
   },
   "source": [
    "Let's start with a simple decision tree classifier."
   ]
  },
  {
   "cell_type": "code",
   "execution_count": 29,
   "id": "91a735cd",
   "metadata": {
    "execution": {
     "iopub.execute_input": "2022-03-16T15:12:49.442608Z",
     "iopub.status.busy": "2022-03-16T15:12:49.441975Z",
     "iopub.status.idle": "2022-03-16T15:12:49.444936Z",
     "shell.execute_reply": "2022-03-16T15:12:49.444404Z",
     "shell.execute_reply.started": "2022-03-14T13:23:20.932165Z"
    },
    "papermill": {
     "duration": 0.101814,
     "end_time": "2022-03-16T15:12:49.445065",
     "exception": false,
     "start_time": "2022-03-16T15:12:49.343251",
     "status": "completed"
    },
    "tags": []
   },
   "outputs": [],
   "source": [
    "from sklearn.tree import DecisionTreeClassifier"
   ]
  },
  {
   "cell_type": "code",
   "execution_count": 30,
   "id": "bf26e7c9",
   "metadata": {
    "execution": {
     "iopub.execute_input": "2022-03-16T15:12:49.641830Z",
     "iopub.status.busy": "2022-03-16T15:12:49.641187Z",
     "iopub.status.idle": "2022-03-16T15:13:40.403509Z",
     "shell.execute_reply": "2022-03-16T15:13:40.404037Z",
     "shell.execute_reply.started": "2022-03-14T13:23:20.943509Z"
    },
    "papermill": {
     "duration": 50.863431,
     "end_time": "2022-03-16T15:13:40.404221",
     "exception": false,
     "start_time": "2022-03-16T15:12:49.540790",
     "status": "completed"
    },
    "tags": []
   },
   "outputs": [
    {
     "name": "stdout",
     "output_type": "stream",
     "text": [
      "Fitting 2 folds for each of 6 candidates, totalling 12 fits\n",
      "[CV] classifier__max_depth=4 .........................................\n"
     ]
    },
    {
     "name": "stderr",
     "output_type": "stream",
     "text": [
      "[Parallel(n_jobs=1)]: Using backend SequentialBackend with 1 concurrent workers.\n"
     ]
    },
    {
     "name": "stdout",
     "output_type": "stream",
     "text": [
      "[CV] .......................... classifier__max_depth=4, total=   3.2s\n",
      "[CV] classifier__max_depth=4 .........................................\n"
     ]
    },
    {
     "name": "stderr",
     "output_type": "stream",
     "text": [
      "[Parallel(n_jobs=1)]: Done   1 out of   1 | elapsed:    3.2s remaining:    0.0s\n"
     ]
    },
    {
     "name": "stdout",
     "output_type": "stream",
     "text": [
      "[CV] .......................... classifier__max_depth=4, total=   3.4s\n",
      "[CV] classifier__max_depth=8 .........................................\n",
      "[CV] .......................... classifier__max_depth=8, total=   3.6s\n",
      "[CV] classifier__max_depth=8 .........................................\n",
      "[CV] .......................... classifier__max_depth=8, total=   3.6s\n",
      "[CV] classifier__max_depth=16 ........................................\n",
      "[CV] ......................... classifier__max_depth=16, total=   3.8s\n",
      "[CV] classifier__max_depth=16 ........................................\n",
      "[CV] ......................... classifier__max_depth=16, total=   3.9s\n",
      "[CV] classifier__max_depth=20 ........................................\n",
      "[CV] ......................... classifier__max_depth=20, total=   4.2s\n",
      "[CV] classifier__max_depth=20 ........................................\n",
      "[CV] ......................... classifier__max_depth=20, total=   3.8s\n",
      "[CV] classifier__max_depth=24 ........................................\n",
      "[CV] ......................... classifier__max_depth=24, total=   3.8s\n",
      "[CV] classifier__max_depth=24 ........................................\n",
      "[CV] ......................... classifier__max_depth=24, total=   3.7s\n",
      "[CV] classifier__max_depth=26 ........................................\n",
      "[CV] ......................... classifier__max_depth=26, total=   3.7s\n",
      "[CV] classifier__max_depth=26 ........................................\n",
      "[CV] ......................... classifier__max_depth=26, total=   3.7s\n"
     ]
    },
    {
     "name": "stderr",
     "output_type": "stream",
     "text": [
      "[Parallel(n_jobs=1)]: Done  12 out of  12 | elapsed:   44.6s finished\n"
     ]
    }
   ],
   "source": [
    "# Construct the PCA-pipeline using the selected classifier\n",
    "classifier = DecisionTreeClassifier(criterion=\"entropy\", random_state=random_seed)\n",
    "pipe = build_PCA_pipeline(classifier, pca_n_components)\n",
    "\n",
    "# Define the parameter grid to use in the the grid search with cross validation.\n",
    "# For the decision tree we will consider the hyper-parameter which controls the max depth of the tree.\n",
    "param_grid = {\n",
    "    \"classifier__max_depth\": [4,8,16,20,24,26]\n",
    "}\n",
    "\n",
    "# Perform the search on the training set\n",
    "grid_search = GridSearchCV(pipe, param_grid, cv=2, verbose=2)\n",
    "grid_search.fit(X_train, Y_train);"
   ]
  },
  {
   "cell_type": "code",
   "execution_count": 31,
   "id": "22ddd06c",
   "metadata": {
    "execution": {
     "iopub.execute_input": "2022-03-16T15:13:40.611085Z",
     "iopub.status.busy": "2022-03-16T15:13:40.610172Z",
     "iopub.status.idle": "2022-03-16T15:13:40.613632Z",
     "shell.execute_reply": "2022-03-16T15:13:40.614305Z",
     "shell.execute_reply.started": "2022-03-14T13:23:47.04798Z"
    },
    "papermill": {
     "duration": 0.109294,
     "end_time": "2022-03-16T15:13:40.614526",
     "exception": false,
     "start_time": "2022-03-16T15:13:40.505232",
     "status": "completed"
    },
    "tags": []
   },
   "outputs": [
    {
     "name": "stdout",
     "output_type": "stream",
     "text": [
      "Best parameters set found on train set:\n",
      "{'classifier__max_depth': 26}\n",
      "\n",
      "\n",
      "Grid scores on train set:\n",
      "{'classifier__max_depth': 4} mean: 0.595 std: +/- 0.012)\n",
      "{'classifier__max_depth': 8} mean: 0.763 std: +/- 0.004)\n",
      "{'classifier__max_depth': 16} mean: 0.899 std: +/- 0.000)\n",
      "{'classifier__max_depth': 20} mean: 0.920 std: +/- 0.001)\n",
      "{'classifier__max_depth': 24} mean: 0.926 std: +/- 0.001)\n",
      "{'classifier__max_depth': 26} mean: 0.927 std: +/- 0.001)\n",
      "\n",
      "\n"
     ]
    }
   ],
   "source": [
    "print_grid_search_results(grid_search)"
   ]
  },
  {
   "cell_type": "code",
   "execution_count": 32,
   "id": "aa9cfa10",
   "metadata": {
    "execution": {
     "iopub.execute_input": "2022-03-16T15:13:40.819117Z",
     "iopub.status.busy": "2022-03-16T15:13:40.818161Z",
     "iopub.status.idle": "2022-03-16T15:13:40.957622Z",
     "shell.execute_reply": "2022-03-16T15:13:40.957069Z",
     "shell.execute_reply.started": "2022-03-14T13:23:47.049669Z"
    },
    "papermill": {
     "duration": 0.242406,
     "end_time": "2022-03-16T15:13:40.957809",
     "exception": false,
     "start_time": "2022-03-16T15:13:40.715403",
     "status": "completed"
    },
    "tags": []
   },
   "outputs": [
    {
     "data": {
      "image/png": "[encoded data removed]",
      "text/plain": [
       "<Figure size 720x360 with 1 Axes>"
      ]
     },
     "metadata": {
      "needs_background": "light"
     },
     "output_type": "display_data"
    }
   ],
   "source": [
    "show_curve(param_grid[\"classifier__max_depth\"],\n",
    "           grid_search.cv_results_['mean_test_score'],\n",
    "           \"max_depth\",\n",
    "           \"accuracy\",\n",
    "           \"Mean score with CV varying max_depth of Decision Tree\")"
   ]
  },
  {
   "cell_type": "code",
   "execution_count": 33,
   "id": "7cf40df3",
   "metadata": {
    "execution": {
     "iopub.execute_input": "2022-03-16T15:13:41.167678Z",
     "iopub.status.busy": "2022-03-16T15:13:41.165905Z",
     "iopub.status.idle": "2022-03-16T15:13:41.169376Z",
     "shell.execute_reply": "2022-03-16T15:13:41.169970Z",
     "shell.execute_reply.started": "2022-03-14T13:23:47.050931Z"
    },
    "papermill": {
     "duration": 0.108254,
     "end_time": "2022-03-16T15:13:41.170125",
     "exception": false,
     "start_time": "2022-03-16T15:13:41.061871",
     "status": "completed"
    },
    "tags": []
   },
   "outputs": [],
   "source": [
    "# Define the final model with the best parameter found\n",
    "best_max_depth = grid_search.best_params_[\"classifier__max_depth\"]\n",
    "tree_model = DecisionTreeClassifier(criterion=\"entropy\", random_state=random_seed, max_depth=best_max_depth)"
   ]
  },
  {
   "cell_type": "markdown",
   "id": "1fef0adc",
   "metadata": {
    "papermill": {
     "duration": 0.100939,
     "end_time": "2022-03-16T15:13:41.372354",
     "exception": false,
     "start_time": "2022-03-16T15:13:41.271415",
     "status": "completed"
    },
    "tags": []
   },
   "source": [
    "## **Random Forest**"
   ]
  },
  {
   "cell_type": "markdown",
   "id": "6ad189e6",
   "metadata": {
    "papermill": {
     "duration": 0.102151,
     "end_time": "2022-03-16T15:13:41.575409",
     "exception": false,
     "start_time": "2022-03-16T15:13:41.473258",
     "status": "completed"
    },
    "tags": []
   },
   "source": [
    "A random forest is a meta estimator that fits a number of decision tree classifiers on various sub-samples of the dataset and uses averaging to improve the predictive accuracy and control over-fitting.\n",
    "\n",
    "In random forests each tree in the ensemble is built from a sample drawn with replacement from the training set.\n",
    "Furthermore, when splitting each node during the construction of a tree, the best split is found from a random subset of the input features.\n",
    "The purpose of these two sources of randomness is to decrease the variance of the forest estimator, sometimes at the cost of a slight increase in bias."
   ]
  },
  {
   "cell_type": "code",
   "execution_count": 34,
   "id": "9b258749",
   "metadata": {
    "execution": {
     "iopub.execute_input": "2022-03-16T15:13:41.780795Z",
     "iopub.status.busy": "2022-03-16T15:13:41.780150Z",
     "iopub.status.idle": "2022-03-16T15:13:41.806572Z",
     "shell.execute_reply": "2022-03-16T15:13:41.807112Z",
     "shell.execute_reply.started": "2022-03-14T13:23:47.052018Z"
    },
    "papermill": {
     "duration": 0.131253,
     "end_time": "2022-03-16T15:13:41.807299",
     "exception": false,
     "start_time": "2022-03-16T15:13:41.676046",
     "status": "completed"
    },
    "tags": []
   },
   "outputs": [],
   "source": [
    "from sklearn.ensemble import RandomForestClassifier"
   ]
  },
  {
   "cell_type": "code",
   "execution_count": 35,
   "id": "65b3e87d",
   "metadata": {
    "execution": {
     "iopub.execute_input": "2022-03-16T15:13:42.014656Z",
     "iopub.status.busy": "2022-03-16T15:13:42.014072Z",
     "iopub.status.idle": "2022-03-16T15:18:54.022611Z",
     "shell.execute_reply": "2022-03-16T15:18:54.021976Z",
     "shell.execute_reply.started": "2022-03-14T13:23:47.052956Z"
    },
    "papermill": {
     "duration": 312.1135,
     "end_time": "2022-03-16T15:18:54.022878",
     "exception": false,
     "start_time": "2022-03-16T15:13:41.909378",
     "status": "completed"
    },
    "tags": []
   },
   "outputs": [
    {
     "name": "stdout",
     "output_type": "stream",
     "text": [
      "Fitting 2 folds for each of 6 candidates, totalling 12 fits\n",
      "[CV] classifier__n_estimators=5 ......................................\n"
     ]
    },
    {
     "name": "stderr",
     "output_type": "stream",
     "text": [
      "[Parallel(n_jobs=1)]: Using backend SequentialBackend with 1 concurrent workers.\n"
     ]
    },
    {
     "name": "stdout",
     "output_type": "stream",
     "text": [
      "[CV] ....................... classifier__n_estimators=5, total=   4.3s\n",
      "[CV] classifier__n_estimators=5 ......................................\n"
     ]
    },
    {
     "name": "stderr",
     "output_type": "stream",
     "text": [
      "[Parallel(n_jobs=1)]: Done   1 out of   1 | elapsed:    4.3s remaining:    0.0s\n"
     ]
    },
    {
     "name": "stdout",
     "output_type": "stream",
     "text": [
      "[CV] ....................... classifier__n_estimators=5, total=   4.3s\n",
      "[CV] classifier__n_estimators=10 .....................................\n",
      "[CV] ...................... classifier__n_estimators=10, total=   6.1s\n",
      "[CV] classifier__n_estimators=10 .....................................\n",
      "[CV] ...................... classifier__n_estimators=10, total=   5.8s\n",
      "[CV] classifier__n_estimators=20 .....................................\n",
      "[CV] ...................... classifier__n_estimators=20, total=   8.6s\n",
      "[CV] classifier__n_estimators=20 .....................................\n",
      "[CV] ...................... classifier__n_estimators=20, total=   8.6s\n",
      "[CV] classifier__n_estimators=50 .....................................\n",
      "[CV] ...................... classifier__n_estimators=50, total=  17.2s\n",
      "[CV] classifier__n_estimators=50 .....................................\n",
      "[CV] ...................... classifier__n_estimators=50, total=  17.1s\n",
      "[CV] classifier__n_estimators=100 ....................................\n",
      "[CV] ..................... classifier__n_estimators=100, total=  31.4s\n",
      "[CV] classifier__n_estimators=100 ....................................\n",
      "[CV] ..................... classifier__n_estimators=100, total=  31.5s\n",
      "[CV] classifier__n_estimators=150 ....................................\n",
      "[CV] ..................... classifier__n_estimators=150, total=  45.7s\n",
      "[CV] classifier__n_estimators=150 ....................................\n",
      "[CV] ..................... classifier__n_estimators=150, total=  45.5s\n"
     ]
    },
    {
     "name": "stderr",
     "output_type": "stream",
     "text": [
      "[Parallel(n_jobs=1)]: Done  12 out of  12 | elapsed:  3.8min finished\n"
     ]
    }
   ],
   "source": [
    "# Construct the PCA-pipeline using the selected classifier\n",
    "classifier = RandomForestClassifier(criterion=\"entropy\", random_state=random_seed)\n",
    "pipe = build_PCA_pipeline(classifier, pca_n_components)\n",
    "\n",
    "# Define the parameter grid to use in the the grid search with cross validation.\n",
    "# For the random forest we will consider the hyper-parameter which controls the number of trees to use.\n",
    "param_grid = {\n",
    "    \"classifier__n_estimators\": [5,10,20,50,100,150]\n",
    "}\n",
    "\n",
    "# Perform the search on the training set\n",
    "grid_search = GridSearchCV(pipe, param_grid, cv=2, verbose=2)\n",
    "grid_search.fit(X_train, Y_train);"
   ]
  },
  {
   "cell_type": "code",
   "execution_count": 36,
   "id": "b6e15c1b",
   "metadata": {
    "execution": {
     "iopub.execute_input": "2022-03-16T15:18:54.239667Z",
     "iopub.status.busy": "2022-03-16T15:18:54.239048Z",
     "iopub.status.idle": "2022-03-16T15:18:54.244336Z",
     "shell.execute_reply": "2022-03-16T15:18:54.244899Z",
     "shell.execute_reply.started": "2022-03-14T13:23:47.054716Z"
    },
    "papermill": {
     "duration": 0.114862,
     "end_time": "2022-03-16T15:18:54.245060",
     "exception": false,
     "start_time": "2022-03-16T15:18:54.130198",
     "status": "completed"
    },
    "tags": []
   },
   "outputs": [
    {
     "name": "stdout",
     "output_type": "stream",
     "text": [
      "Best parameters set found on train set:\n",
      "{'classifier__n_estimators': 150}\n",
      "\n",
      "\n",
      "Grid scores on train set:\n",
      "{'classifier__n_estimators': 5} mean: 0.926 std: +/- 0.001)\n",
      "{'classifier__n_estimators': 10} mean: 0.934 std: +/- 0.001)\n",
      "{'classifier__n_estimators': 20} mean: 0.937 std: +/- 0.001)\n",
      "{'classifier__n_estimators': 50} mean: 0.940 std: +/- 0.000)\n",
      "{'classifier__n_estimators': 100} mean: 0.940 std: +/- 0.000)\n",
      "{'classifier__n_estimators': 150} mean: 0.940 std: +/- 0.000)\n",
      "\n",
      "\n"
     ]
    }
   ],
   "source": [
    "print_grid_search_results(grid_search)"
   ]
  },
  {
   "cell_type": "code",
   "execution_count": 37,
   "id": "8291ca52",
   "metadata": {
    "execution": {
     "iopub.execute_input": "2022-03-16T15:18:54.467752Z",
     "iopub.status.busy": "2022-03-16T15:18:54.466158Z",
     "iopub.status.idle": "2022-03-16T15:18:54.676057Z",
     "shell.execute_reply": "2022-03-16T15:18:54.676591Z",
     "shell.execute_reply.started": "2022-03-14T13:23:47.055757Z"
    },
    "papermill": {
     "duration": 0.322751,
     "end_time": "2022-03-16T15:18:54.676799",
     "exception": false,
     "start_time": "2022-03-16T15:18:54.354048",
     "status": "completed"
    },
    "tags": []
   },
   "outputs": [
    {
     "data": {
      "image/png": "[encoded data removed]",
      "text/plain": [
       "<Figure size 720x360 with 1 Axes>"
      ]
     },
     "metadata": {
      "needs_background": "light"
     },
     "output_type": "display_data"
    }
   ],
   "source": [
    "show_curve(param_grid[\"classifier__n_estimators\"],\n",
    "           grid_search.cv_results_['mean_test_score'],\n",
    "           \"n_estimators\",\n",
    "           \"accuracy\",\n",
    "           \"Mean score with CV varying n_estimators of Random Forest\")"
   ]
  },
  {
   "cell_type": "code",
   "execution_count": 38,
   "id": "6673e2a6",
   "metadata": {
    "execution": {
     "iopub.execute_input": "2022-03-16T15:18:54.900444Z",
     "iopub.status.busy": "2022-03-16T15:18:54.899516Z",
     "iopub.status.idle": "2022-03-16T15:18:54.903694Z",
     "shell.execute_reply": "2022-03-16T15:18:54.904181Z",
     "shell.execute_reply.started": "2022-03-14T13:23:47.056861Z"
    },
    "papermill": {
     "duration": 0.117785,
     "end_time": "2022-03-16T15:18:54.904337",
     "exception": false,
     "start_time": "2022-03-16T15:18:54.786552",
     "status": "completed"
    },
    "tags": []
   },
   "outputs": [],
   "source": [
    "# Define the final model with the best parameter found\n",
    "best_n_estimators = grid_search.best_params_[\"classifier__n_estimators\"]\n",
    "rnd_forest_model = RandomForestClassifier(criterion=\"entropy\", n_estimators=best_n_estimators, random_state=random_seed)"
   ]
  },
  {
   "cell_type": "markdown",
   "id": "7c25450b",
   "metadata": {
    "papermill": {
     "duration": 0.109917,
     "end_time": "2022-03-16T15:18:55.123172",
     "exception": false,
     "start_time": "2022-03-16T15:18:55.013255",
     "status": "completed"
    },
    "tags": []
   },
   "source": [
    "### **Extremely Randomized Trees**"
   ]
  },
  {
   "cell_type": "markdown",
   "id": "99489e19",
   "metadata": {
    "papermill": {
     "duration": 0.107919,
     "end_time": "2022-03-16T15:18:55.339065",
     "exception": false,
     "start_time": "2022-03-16T15:18:55.231146",
     "status": "completed"
    },
    "tags": []
   },
   "source": [
    "In extremely randomized trees, randomness goes one step further compared to random forest in the way splits are computed. As in random forests, a random subset of candidate features is used, but instead of looking for the most discriminative thresholds, thresholds are drawn at random for each candidate feature and the best of these randomly-generated thresholds is picked as the splitting rule. This usually allows to reduce the variance of the model a bit more, at the expense of a slightly greater increase in bias."
   ]
  },
  {
   "cell_type": "code",
   "execution_count": 39,
   "id": "f96915b3",
   "metadata": {
    "execution": {
     "iopub.execute_input": "2022-03-16T15:18:55.558634Z",
     "iopub.status.busy": "2022-03-16T15:18:55.557703Z",
     "iopub.status.idle": "2022-03-16T15:18:55.561311Z",
     "shell.execute_reply": "2022-03-16T15:18:55.561748Z",
     "shell.execute_reply.started": "2022-03-14T13:23:47.058061Z"
    },
    "papermill": {
     "duration": 0.115393,
     "end_time": "2022-03-16T15:18:55.561911",
     "exception": false,
     "start_time": "2022-03-16T15:18:55.446518",
     "status": "completed"
    },
    "tags": []
   },
   "outputs": [],
   "source": [
    "from sklearn.ensemble import ExtraTreesClassifier"
   ]
  },
  {
   "cell_type": "code",
   "execution_count": 40,
   "id": "9e6421d7",
   "metadata": {
    "execution": {
     "iopub.execute_input": "2022-03-16T15:18:55.787501Z",
     "iopub.status.busy": "2022-03-16T15:18:55.786883Z",
     "iopub.status.idle": "2022-03-16T15:20:25.987631Z",
     "shell.execute_reply": "2022-03-16T15:20:25.986666Z",
     "shell.execute_reply.started": "2022-03-14T13:23:47.05922Z"
    },
    "papermill": {
     "duration": 90.313779,
     "end_time": "2022-03-16T15:20:25.987832",
     "exception": false,
     "start_time": "2022-03-16T15:18:55.674053",
     "status": "completed"
    },
    "tags": []
   },
   "outputs": [
    {
     "name": "stdout",
     "output_type": "stream",
     "text": [
      "Fitting 2 folds for each of 6 candidates, totalling 12 fits\n",
      "[CV] classifier__n_estimators=5 ......................................\n"
     ]
    },
    {
     "name": "stderr",
     "output_type": "stream",
     "text": [
      "[Parallel(n_jobs=1)]: Using backend SequentialBackend with 1 concurrent workers.\n"
     ]
    },
    {
     "name": "stdout",
     "output_type": "stream",
     "text": [
      "[CV] ....................... classifier__n_estimators=5, total=   3.2s\n",
      "[CV] classifier__n_estimators=5 ......................................\n"
     ]
    },
    {
     "name": "stderr",
     "output_type": "stream",
     "text": [
      "[Parallel(n_jobs=1)]: Done   1 out of   1 | elapsed:    3.2s remaining:    0.0s\n"
     ]
    },
    {
     "name": "stdout",
     "output_type": "stream",
     "text": [
      "[CV] ....................... classifier__n_estimators=5, total=   3.2s\n",
      "[CV] classifier__n_estimators=10 .....................................\n",
      "[CV] ...................... classifier__n_estimators=10, total=   3.5s\n",
      "[CV] classifier__n_estimators=10 .....................................\n",
      "[CV] ...................... classifier__n_estimators=10, total=   3.4s\n",
      "[CV] classifier__n_estimators=20 .....................................\n",
      "[CV] ...................... classifier__n_estimators=20, total=   4.1s\n",
      "[CV] classifier__n_estimators=20 .....................................\n",
      "[CV] ...................... classifier__n_estimators=20, total=   4.0s\n",
      "[CV] classifier__n_estimators=50 .....................................\n",
      "[CV] ...................... classifier__n_estimators=50, total=   6.0s\n",
      "[CV] classifier__n_estimators=50 .....................................\n",
      "[CV] ...................... classifier__n_estimators=50, total=   6.0s\n",
      "[CV] classifier__n_estimators=100 ....................................\n",
      "[CV] ..................... classifier__n_estimators=100, total=   9.0s\n",
      "[CV] classifier__n_estimators=100 ....................................\n",
      "[CV] ..................... classifier__n_estimators=100, total=   9.3s\n",
      "[CV] classifier__n_estimators=150 ....................................\n",
      "[CV] ..................... classifier__n_estimators=150, total=  12.6s\n",
      "[CV] classifier__n_estimators=150 ....................................\n",
      "[CV] ..................... classifier__n_estimators=150, total=  12.5s\n"
     ]
    },
    {
     "name": "stderr",
     "output_type": "stream",
     "text": [
      "[Parallel(n_jobs=1)]: Done  12 out of  12 | elapsed:  1.3min finished\n"
     ]
    }
   ],
   "source": [
    "# Construct the PCA-pipeline using the selected classifier\n",
    "classifier = ExtraTreesClassifier(criterion=\"entropy\", random_state=random_seed)\n",
    "pipe = build_PCA_pipeline(classifier, pca_n_components)\n",
    "\n",
    "# Define the parameter grid to use in the the grid search with cross validation.\n",
    "# For this model we will consider the hyper-parameter which controls the number of trees to use.\n",
    "param_grid = {\n",
    "    \"classifier__n_estimators\": [5,10,20,50,100,150]\n",
    "}\n",
    "\n",
    "# Perform the search on the training set\n",
    "grid_search = GridSearchCV(pipe, param_grid, cv=2, verbose=2)\n",
    "grid_search.fit(X_train, Y_train);"
   ]
  },
  {
   "cell_type": "code",
   "execution_count": 41,
   "id": "b88e22ef",
   "metadata": {
    "execution": {
     "iopub.execute_input": "2022-03-16T15:20:26.225502Z",
     "iopub.status.busy": "2022-03-16T15:20:26.224872Z",
     "iopub.status.idle": "2022-03-16T15:20:26.231049Z",
     "shell.execute_reply": "2022-03-16T15:20:26.231541Z",
     "shell.execute_reply.started": "2022-03-14T13:23:47.060235Z"
    },
    "papermill": {
     "duration": 0.128044,
     "end_time": "2022-03-16T15:20:26.231706",
     "exception": false,
     "start_time": "2022-03-16T15:20:26.103662",
     "status": "completed"
    },
    "tags": []
   },
   "outputs": [
    {
     "name": "stdout",
     "output_type": "stream",
     "text": [
      "Best parameters set found on train set:\n",
      "{'classifier__n_estimators': 100}\n",
      "\n",
      "\n",
      "Grid scores on train set:\n",
      "{'classifier__n_estimators': 5} mean: 0.935 std: +/- 0.001)\n",
      "{'classifier__n_estimators': 10} mean: 0.937 std: +/- 0.001)\n",
      "{'classifier__n_estimators': 20} mean: 0.940 std: +/- 0.000)\n",
      "{'classifier__n_estimators': 50} mean: 0.941 std: +/- 0.000)\n",
      "{'classifier__n_estimators': 100} mean: 0.941 std: +/- 0.000)\n",
      "{'classifier__n_estimators': 150} mean: 0.941 std: +/- 0.000)\n",
      "\n",
      "\n"
     ]
    }
   ],
   "source": [
    "print_grid_search_results(grid_search)"
   ]
  },
  {
   "cell_type": "code",
   "execution_count": 42,
   "id": "570e6a53",
   "metadata": {
    "execution": {
     "iopub.execute_input": "2022-03-16T15:20:26.468150Z",
     "iopub.status.busy": "2022-03-16T15:20:26.467257Z",
     "iopub.status.idle": "2022-03-16T15:20:26.667545Z",
     "shell.execute_reply": "2022-03-16T15:20:26.668067Z",
     "shell.execute_reply.started": "2022-03-14T13:23:47.062416Z"
    },
    "papermill": {
     "duration": 0.319537,
     "end_time": "2022-03-16T15:20:26.668232",
     "exception": false,
     "start_time": "2022-03-16T15:20:26.348695",
     "status": "completed"
    },
    "tags": []
   },
   "outputs": [
    {
     "data": {
      "image/png": "[encoded data removed]",
      "text/plain": [
       "<Figure size 720x360 with 1 Axes>"
      ]
     },
     "metadata": {
      "needs_background": "light"
     },
     "output_type": "display_data"
    }
   ],
   "source": [
    "show_curve(param_grid[\"classifier__n_estimators\"],\n",
    "           grid_search.cv_results_['mean_test_score'],\n",
    "           \"n_estimators\",\n",
    "           \"accuracy\",\n",
    "           \"Mean score with CV varying n_estimators of Extremely Randomized Trees\")"
   ]
  },
  {
   "cell_type": "code",
   "execution_count": 43,
   "id": "d21edc2d",
   "metadata": {
    "execution": {
     "iopub.execute_input": "2022-03-16T15:20:26.909774Z",
     "iopub.status.busy": "2022-03-16T15:20:26.909116Z",
     "iopub.status.idle": "2022-03-16T15:20:26.911816Z",
     "shell.execute_reply": "2022-03-16T15:20:26.912270Z",
     "shell.execute_reply.started": "2022-03-14T13:23:47.063811Z"
    },
    "papermill": {
     "duration": 0.126647,
     "end_time": "2022-03-16T15:20:26.912438",
     "exception": false,
     "start_time": "2022-03-16T15:20:26.785791",
     "status": "completed"
    },
    "tags": []
   },
   "outputs": [],
   "source": [
    "# Define the final model with the best parameter found\n",
    "best_n_estimators = grid_search.best_params_[\"classifier__n_estimators\"]\n",
    "ext_rnd_trees_model = ExtraTreesClassifier(criterion=\"entropy\", n_estimators=best_n_estimators, random_state=random_seed)"
   ]
  },
  {
   "cell_type": "markdown",
   "id": "ed796f13",
   "metadata": {
    "papermill": {
     "duration": 0.116628,
     "end_time": "2022-03-16T15:20:27.146105",
     "exception": false,
     "start_time": "2022-03-16T15:20:27.029477",
     "status": "completed"
    },
    "tags": []
   },
   "source": [
    "### **Deep Neural Network**"
   ]
  },
  {
   "cell_type": "markdown",
   "id": "4d060687",
   "metadata": {
    "papermill": {
     "duration": 0.116428,
     "end_time": "2022-03-16T15:20:27.378074",
     "exception": false,
     "start_time": "2022-03-16T15:20:27.261646",
     "status": "completed"
    },
    "tags": []
   },
   "source": [
    "Now we will test a simple deep neural network architecture, using the keras library."
   ]
  },
  {
   "cell_type": "code",
   "execution_count": 44,
   "id": "980cefa5",
   "metadata": {
    "execution": {
     "iopub.execute_input": "2022-03-16T15:20:27.613927Z",
     "iopub.status.busy": "2022-03-16T15:20:27.612241Z",
     "iopub.status.idle": "2022-03-16T15:20:33.276501Z",
     "shell.execute_reply": "2022-03-16T15:20:33.275877Z",
     "shell.execute_reply.started": "2022-03-14T13:23:47.065071Z"
    },
    "papermill": {
     "duration": 5.782612,
     "end_time": "2022-03-16T15:20:33.276647",
     "exception": false,
     "start_time": "2022-03-16T15:20:27.494035",
     "status": "completed"
    },
    "tags": []
   },
   "outputs": [],
   "source": [
    "import tensorflow as tf\n",
    "from tensorflow import keras\n",
    "from tensorflow.keras import layers"
   ]
  },
  {
   "cell_type": "code",
   "execution_count": 45,
   "id": "a1439e56",
   "metadata": {
    "execution": {
     "iopub.execute_input": "2022-03-16T15:20:33.517924Z",
     "iopub.status.busy": "2022-03-16T15:20:33.516993Z",
     "iopub.status.idle": "2022-03-16T15:20:33.659482Z",
     "shell.execute_reply": "2022-03-16T15:20:33.658853Z",
     "shell.execute_reply.started": "2022-03-14T13:23:47.066446Z"
    },
    "papermill": {
     "duration": 0.26724,
     "end_time": "2022-03-16T15:20:33.659623",
     "exception": false,
     "start_time": "2022-03-16T15:20:33.392383",
     "status": "completed"
    },
    "tags": []
   },
   "outputs": [
    {
     "name": "stdout",
     "output_type": "stream",
     "text": [
      "Model: \"dnn_model\"\n",
      "_________________________________________________________________\n",
      "Layer (type)                 Output Shape              Param #   \n",
      "=================================================================\n",
      "input_1 (InputLayer)         [(None, 5)]               0         \n",
      "_________________________________________________________________\n",
      "dense (Dense)                (None, 30)                180       \n",
      "_________________________________________________________________\n",
      "dense_1 (Dense)              (None, 50)                1550      \n",
      "_________________________________________________________________\n",
      "dense_2 (Dense)              (None, 50)                2550      \n",
      "_________________________________________________________________\n",
      "dense_3 (Dense)              (None, 30)                1530      \n",
      "_________________________________________________________________\n",
      "dense_4 (Dense)              (None, 20)                620       \n",
      "_________________________________________________________________\n",
      "dense_5 (Dense)              (None, 10)                210       \n",
      "=================================================================\n",
      "Total params: 6,640\n",
      "Trainable params: 6,640\n",
      "Non-trainable params: 0\n",
      "_________________________________________________________________\n"
     ]
    },
    {
     "name": "stderr",
     "output_type": "stream",
     "text": [
      "2022-03-16 15:20:33.568325: I tensorflow/core/common_runtime/process_util.cc:146] Creating new thread pool with default inter op setting: 2. Tune using inter_op_parallelism_threads for best performance.\n"
     ]
    }
   ],
   "source": [
    "# Network architecture definition\n",
    "inputs = keras.Input(shape=(pca_n_components,))\n",
    "x = layers.Dense(30, activation=\"relu\")(inputs)\n",
    "x = layers.Dense(50, activation=\"relu\")(x)\n",
    "x = layers.Dense(50, activation=\"relu\")(x)\n",
    "x = layers.Dense(30, activation=\"relu\")(x)\n",
    "x = layers.Dense(20, activation=\"relu\")(x)\n",
    "outputs = layers.Dense(10, activation=\"softmax\")(x)\n",
    "\n",
    "dnn_model = keras.Model(inputs=inputs, outputs=outputs, name=\"dnn_model\")\n",
    "dnn_model.summary()"
   ]
  },
  {
   "cell_type": "code",
   "execution_count": 46,
   "id": "0986911f",
   "metadata": {
    "execution": {
     "iopub.execute_input": "2022-03-16T15:20:33.896746Z",
     "iopub.status.busy": "2022-03-16T15:20:33.895990Z",
     "iopub.status.idle": "2022-03-16T15:20:33.908547Z",
     "shell.execute_reply": "2022-03-16T15:20:33.909071Z",
     "shell.execute_reply.started": "2022-03-14T13:23:47.067946Z"
    },
    "papermill": {
     "duration": 0.130195,
     "end_time": "2022-03-16T15:20:33.909249",
     "exception": false,
     "start_time": "2022-03-16T15:20:33.779054",
     "status": "completed"
    },
    "tags": []
   },
   "outputs": [],
   "source": [
    "dnn_model.compile(\n",
    "    loss=keras.losses.SparseCategoricalCrossentropy(from_logits=False),\n",
    "    optimizer=keras.optimizers.Adam(),\n",
    "    metrics=[\"accuracy\"]\n",
    ")"
   ]
  },
  {
   "cell_type": "markdown",
   "id": "5e12f8d8",
   "metadata": {
    "papermill": {
     "duration": 0.115602,
     "end_time": "2022-03-16T15:20:34.140056",
     "exception": false,
     "start_time": "2022-03-16T15:20:34.024454",
     "status": "completed"
    },
    "tags": []
   },
   "source": [
    "This time we are not using a sklearn pipeline, so we need to compute the PCA transformation manually on the training set.\n",
    "We need to split further the training set for training and validating the model, also being careful not to use the validation data to fit the PCA."
   ]
  },
  {
   "cell_type": "code",
   "execution_count": 47,
   "id": "ebd5fbff",
   "metadata": {
    "execution": {
     "iopub.execute_input": "2022-03-16T15:20:34.375589Z",
     "iopub.status.busy": "2022-03-16T15:20:34.374913Z",
     "iopub.status.idle": "2022-03-16T15:20:38.817574Z",
     "shell.execute_reply": "2022-03-16T15:20:38.818752Z",
     "shell.execute_reply.started": "2022-03-14T13:23:47.069566Z"
    },
    "papermill": {
     "duration": 4.562175,
     "end_time": "2022-03-16T15:20:38.819056",
     "exception": false,
     "start_time": "2022-03-16T15:20:34.256881",
     "status": "completed"
    },
    "tags": []
   },
   "outputs": [
    {
     "name": "stdout",
     "output_type": "stream",
     "text": [
      "Shape of X_train_t_pca: (107200, 5)\n",
      "Shape of X_train_val_pca: (26800, 5)\n"
     ]
    }
   ],
   "source": [
    "# Preprocess training set\n",
    "\n",
    "# Further split the training set in training and validation sets\n",
    "X_train_t, X_train_val, Y_train_t, Y_train_val = train_test_split(X_train, Y_train, test_size=0.20, stratify=Y_train, random_state=random_seed)\n",
    "\n",
    "# Standardize the features\n",
    "st_scaler_dnn = StandardScaler()\n",
    "st_scaler_dnn.fit(X_train_t)\n",
    "X_train_t = st_scaler_dnn.transform(X_train_t)\n",
    "X_train_val = st_scaler_dnn.transform(X_train_val)\n",
    "\n",
    "# Perform PCA\n",
    "pca_dnn = PCA(n_components=pca_n_components, random_state=random_seed)\n",
    "pca_dnn.fit(X_train_t)\n",
    "X_train_t_pca = pca_dnn.transform(X_train_t)\n",
    "X_train_val_pca = pca_dnn.transform(X_train_val)\n",
    "\n",
    "print(f\"Shape of X_train_t_pca: {X_train_t_pca.shape}\")\n",
    "print(f\"Shape of X_train_val_pca: {X_train_val_pca.shape}\")"
   ]
  },
  {
   "cell_type": "code",
   "execution_count": 48,
   "id": "8d80b166",
   "metadata": {
    "execution": {
     "iopub.execute_input": "2022-03-16T15:20:39.115036Z",
     "iopub.status.busy": "2022-03-16T15:20:39.114422Z",
     "iopub.status.idle": "2022-03-16T15:22:01.904101Z",
     "shell.execute_reply": "2022-03-16T15:22:01.904597Z",
     "shell.execute_reply.started": "2022-03-14T13:23:47.071962Z"
    },
    "papermill": {
     "duration": 82.915043,
     "end_time": "2022-03-16T15:22:01.904805",
     "exception": false,
     "start_time": "2022-03-16T15:20:38.989762",
     "status": "completed"
    },
    "tags": []
   },
   "outputs": [
    {
     "name": "stderr",
     "output_type": "stream",
     "text": [
      "2022-03-16 15:20:39.359189: I tensorflow/compiler/mlir/mlir_graph_optimization_pass.cc:185] None of the MLIR Optimization Passes are enabled (registered 2)\n"
     ]
    },
    {
     "name": "stdout",
     "output_type": "stream",
     "text": [
      "Epoch 1/10\n",
      "1675/1675 [==============================] - 6s 3ms/step - loss: 0.8710 - accuracy: 0.6705 - val_loss: 0.6222 - val_accuracy: 0.7736\n",
      "Epoch 2/10\n",
      "1675/1675 [==============================] - 6s 4ms/step - loss: 0.5785 - accuracy: 0.7805 - val_loss: 0.5355 - val_accuracy: 0.7905\n",
      "Epoch 3/10\n",
      "1675/1675 [==============================] - 5s 3ms/step - loss: 0.5069 - accuracy: 0.8007 - val_loss: 0.4791 - val_accuracy: 0.8097\n",
      "Epoch 4/10\n",
      "1675/1675 [==============================] - 6s 3ms/step - loss: 0.4654 - accuracy: 0.8110 - val_loss: 0.4391 - val_accuracy: 0.8233\n",
      "Epoch 5/10\n",
      "1675/1675 [==============================] - 6s 3ms/step - loss: 0.4432 - accuracy: 0.8167 - val_loss: 0.4158 - val_accuracy: 0.8294\n",
      "Epoch 6/10\n",
      "1675/1675 [==============================] - 6s 3ms/step - loss: 0.4262 - accuracy: 0.8226 - val_loss: 0.4050 - val_accuracy: 0.8318\n",
      "Epoch 7/10\n",
      "1675/1675 [==============================] - 5s 3ms/step - loss: 0.4172 - accuracy: 0.8238 - val_loss: 0.4153 - val_accuracy: 0.8274\n",
      "Epoch 8/10\n",
      "1675/1675 [==============================] - 6s 4ms/step - loss: 0.4114 - accuracy: 0.8254 - val_loss: 0.4068 - val_accuracy: 0.8287\n",
      "Epoch 9/10\n",
      "1675/1675 [==============================] - 5s 3ms/step - loss: 0.4073 - accuracy: 0.8265 - val_loss: 0.4053 - val_accuracy: 0.8286\n",
      "Epoch 10/10\n",
      "1675/1675 [==============================] - 5s 3ms/step - loss: 0.4007 - accuracy: 0.8294 - val_loss: 0.3901 - val_accuracy: 0.8385\n"
     ]
    }
   ],
   "source": [
    "history = dnn_model.fit(X_train_t_pca, Y_train_t, batch_size=64, epochs=10, validation_data=(X_train_val_pca, Y_train_val))"
   ]
  },
  {
   "cell_type": "markdown",
   "id": "17f1e008",
   "metadata": {
    "papermill": {
     "duration": 0.457048,
     "end_time": "2022-03-16T15:22:02.821974",
     "exception": false,
     "start_time": "2022-03-16T15:22:02.364926",
     "status": "completed"
    },
    "tags": []
   },
   "source": [
    "## **Final Model Evaluation**"
   ]
  },
  {
   "cell_type": "markdown",
   "id": "4a8d1df5",
   "metadata": {
    "papermill": {
     "duration": 0.454225,
     "end_time": "2022-03-16T15:22:03.737191",
     "exception": false,
     "start_time": "2022-03-16T15:22:03.282966",
     "status": "completed"
    },
    "tags": []
   },
   "source": [
    "The previous parts were needed in order to determine the more appropriate model to solve our task.\n",
    "Now we will take the model with the hightest score in the cross validation (or on the validation set in the case of deep network) and we will test it on the test set.\n",
    "If the model is non-deep, it will be trained on the full training set before the testing."
   ]
  },
  {
   "cell_type": "code",
   "execution_count": 49,
   "id": "dacdf4d0",
   "metadata": {
    "execution": {
     "iopub.execute_input": "2022-03-16T15:22:04.683185Z",
     "iopub.status.busy": "2022-03-16T15:22:04.682253Z",
     "iopub.status.idle": "2022-03-16T15:22:04.685805Z",
     "shell.execute_reply": "2022-03-16T15:22:04.686259Z",
     "shell.execute_reply.started": "2022-03-14T13:23:47.073808Z"
    },
    "papermill": {
     "duration": 0.467715,
     "end_time": "2022-03-16T15:22:04.686410",
     "exception": false,
     "start_time": "2022-03-16T15:22:04.218695",
     "status": "completed"
    },
    "tags": []
   },
   "outputs": [],
   "source": [
    "from sklearn.metrics import classification_report"
   ]
  },
  {
   "cell_type": "code",
   "execution_count": 50,
   "id": "56c10592",
   "metadata": {
    "execution": {
     "iopub.execute_input": "2022-03-16T15:22:05.602195Z",
     "iopub.status.busy": "2022-03-16T15:22:05.601193Z",
     "iopub.status.idle": "2022-03-16T15:22:05.604867Z",
     "shell.execute_reply": "2022-03-16T15:22:05.605320Z",
     "shell.execute_reply.started": "2022-03-14T13:23:47.075059Z"
    },
    "papermill": {
     "duration": 0.462262,
     "end_time": "2022-03-16T15:22:05.605488",
     "exception": false,
     "start_time": "2022-03-16T15:22:05.143226",
     "status": "completed"
    },
    "tags": []
   },
   "outputs": [],
   "source": [
    "# We will use the random forest model\n",
    "final_model = rnd_forest_model\n",
    "use_neural_network = False"
   ]
  },
  {
   "cell_type": "code",
   "execution_count": 51,
   "id": "bf1aaff0",
   "metadata": {
    "execution": {
     "iopub.execute_input": "2022-03-16T15:22:06.623992Z",
     "iopub.status.busy": "2022-03-16T15:22:06.623025Z",
     "iopub.status.idle": "2022-03-16T15:22:06.627033Z",
     "shell.execute_reply": "2022-03-16T15:22:06.627430Z",
     "shell.execute_reply.started": "2022-03-14T13:23:47.076736Z"
    },
    "papermill": {
     "duration": 0.562037,
     "end_time": "2022-03-16T15:22:06.627582",
     "exception": false,
     "start_time": "2022-03-16T15:22:06.065545",
     "status": "completed"
    },
    "tags": []
   },
   "outputs": [],
   "source": [
    "# If we are using the deep network model, it's necessary to manually do the PCA transformation:\n",
    "\n",
    "if use_neural_network:\n",
    "    # Preprocess test data\n",
    "    # Standardize\n",
    "    X_test = st_scaler_dnn.transform(X_test)\n",
    "    # PCA\n",
    "    X_test = pca_dnn.transform(X_test)"
   ]
  },
  {
   "cell_type": "code",
   "execution_count": 52,
   "id": "e4414c48",
   "metadata": {
    "execution": {
     "iopub.execute_input": "2022-03-16T15:22:07.558570Z",
     "iopub.status.busy": "2022-03-16T15:22:07.557925Z",
     "iopub.status.idle": "2022-03-16T15:23:35.192984Z",
     "shell.execute_reply": "2022-03-16T15:23:35.193524Z",
     "shell.execute_reply.started": "2022-03-14T13:23:47.078108Z"
    },
    "papermill": {
     "duration": 88.102938,
     "end_time": "2022-03-16T15:23:35.193787",
     "exception": false,
     "start_time": "2022-03-16T15:22:07.090849",
     "status": "completed"
    },
    "tags": []
   },
   "outputs": [],
   "source": [
    "# Now we can use the selected model to compute the predictions.\n",
    "\n",
    "if use_neural_network:\n",
    "    # Predict probabilty distributions over possible labels\n",
    "    Y_test_pred_p = final_model.predict(X_test)\n",
    "    # Store the index of the most probable label\n",
    "    Y_test_pred = np.argmax(Y_test_pred_p, axis=1)\n",
    "else:\n",
    "    # Train the full model on the complete training set\n",
    "    final_pipe = build_PCA_pipeline(final_model, pca_n_components)\n",
    "    final_pipe.fit(X_train, Y_train)\n",
    "    # Directly predict labels\n",
    "    Y_test_pred = final_pipe.predict(X_test)"
   ]
  },
  {
   "cell_type": "code",
   "execution_count": 53,
   "id": "edeff04a",
   "metadata": {
    "execution": {
     "iopub.execute_input": "2022-03-16T15:23:36.121691Z",
     "iopub.status.busy": "2022-03-16T15:23:36.121039Z",
     "iopub.status.idle": "2022-03-16T15:23:36.261627Z",
     "shell.execute_reply": "2022-03-16T15:23:36.260406Z",
     "shell.execute_reply.started": "2022-03-14T13:23:47.079471Z"
    },
    "papermill": {
     "duration": 0.608125,
     "end_time": "2022-03-16T15:23:36.261870",
     "exception": false,
     "start_time": "2022-03-16T15:23:35.653745",
     "status": "completed"
    },
    "tags": []
   },
   "outputs": [
    {
     "name": "stdout",
     "output_type": "stream",
     "text": [
      "                          precision    recall  f1-score   support\n",
      "\n",
      "    Bacteroides_fragilis       0.98      0.99      0.99      6646\n",
      "    Campylobacter_jejuni       0.98      0.99      0.99      6621\n",
      "      Enterococcus_hirae       0.97      0.97      0.97      6583\n",
      "        Escherichia_coli       0.97      0.96      0.96      6586\n",
      "  Escherichia_fergusonii       0.96      0.97      0.97      6579\n",
      "   Klebsiella_pneumoniae       0.99      0.99      0.99      6549\n",
      "     Salmonella_enterica       0.98      0.98      0.98      6610\n",
      "   Staphylococcus_aureus       0.98      0.98      0.98      6577\n",
      "Streptococcus_pneumoniae       0.98      0.97      0.97      6624\n",
      "  Streptococcus_pyogenes       0.97      0.97      0.97      6625\n",
      "\n",
      "                accuracy                           0.98     66000\n",
      "               macro avg       0.98      0.98      0.98     66000\n",
      "            weighted avg       0.98      0.98      0.98     66000\n",
      "\n"
     ]
    }
   ],
   "source": [
    "# Print classification report on the test set\n",
    "print(classification_report(Y_test, Y_test_pred, target_names=label_encoder.classes_))"
   ]
  },
  {
   "cell_type": "markdown",
   "id": "da744eb3",
   "metadata": {
    "papermill": {
     "duration": 0.468655,
     "end_time": "2022-03-16T15:23:37.195300",
     "exception": false,
     "start_time": "2022-03-16T15:23:36.726645",
     "status": "completed"
    },
    "tags": []
   },
   "source": [
    "## **Kaggle Submission Test**"
   ]
  },
  {
   "cell_type": "markdown",
   "id": "669779ba",
   "metadata": {
    "papermill": {
     "duration": 0.463295,
     "end_time": "2022-03-16T15:23:38.121584",
     "exception": false,
     "start_time": "2022-03-16T15:23:37.658289",
     "status": "completed"
    },
    "tags": []
   },
   "source": [
    "We will also use our model in the official Kaggle competition about this task.\n",
    "To do so, we first load the test dataset containing the data for which we will compute the predictions."
   ]
  },
  {
   "cell_type": "code",
   "execution_count": 54,
   "id": "77b0e015",
   "metadata": {
    "execution": {
     "iopub.execute_input": "2022-03-16T15:23:39.053199Z",
     "iopub.status.busy": "2022-03-16T15:23:39.052527Z",
     "iopub.status.idle": "2022-03-16T15:23:53.496978Z",
     "shell.execute_reply": "2022-03-16T15:23:53.496423Z",
     "shell.execute_reply.started": "2022-03-14T13:23:47.080791Z"
    },
    "papermill": {
     "duration": 14.91368,
     "end_time": "2022-03-16T15:23:53.497126",
     "exception": false,
     "start_time": "2022-03-16T15:23:38.583446",
     "status": "completed"
    },
    "tags": []
   },
   "outputs": [
    {
     "data": {
      "text/html": [
       "<div>\n",
       "<style scoped>\n",
       "    .dataframe tbody tr th:only-of-type {\n",
       "        vertical-align: middle;\n",
       "    }\n",
       "\n",
       "    .dataframe tbody tr th {\n",
       "        vertical-align: top;\n",
       "    }\n",
       "\n",
       "    .dataframe thead th {\n",
       "        text-align: right;\n",
       "    }\n",
       "</style>\n",
       "<table border=\"1\" class=\"dataframe\">\n",
       "  <thead>\n",
       "    <tr style=\"text-align: right;\">\n",
       "      <th></th>\n",
       "      <th>row_id</th>\n",
       "      <th>A0T0G0C10</th>\n",
       "      <th>A0T0G1C9</th>\n",
       "      <th>A0T0G2C8</th>\n",
       "      <th>A0T0G3C7</th>\n",
       "      <th>A0T0G4C6</th>\n",
       "      <th>A0T0G5C5</th>\n",
       "      <th>A0T0G6C4</th>\n",
       "      <th>A0T0G7C3</th>\n",
       "      <th>A0T0G8C2</th>\n",
       "      <th>...</th>\n",
       "      <th>A8T0G0C2</th>\n",
       "      <th>A8T0G1C1</th>\n",
       "      <th>A8T0G2C0</th>\n",
       "      <th>A8T1G0C1</th>\n",
       "      <th>A8T1G1C0</th>\n",
       "      <th>A8T2G0C0</th>\n",
       "      <th>A9T0G0C1</th>\n",
       "      <th>A9T0G1C0</th>\n",
       "      <th>A9T1G0C0</th>\n",
       "      <th>A10T0G0C0</th>\n",
       "    </tr>\n",
       "  </thead>\n",
       "  <tbody>\n",
       "    <tr>\n",
       "      <th>0</th>\n",
       "      <td>200000</td>\n",
       "      <td>-9.536743e-07</td>\n",
       "      <td>-0.000002</td>\n",
       "      <td>-9.153442e-07</td>\n",
       "      <td>0.000024</td>\n",
       "      <td>0.000034</td>\n",
       "      <td>-0.000002</td>\n",
       "      <td>0.000021</td>\n",
       "      <td>0.000024</td>\n",
       "      <td>-0.000009</td>\n",
       "      <td>...</td>\n",
       "      <td>0.000039</td>\n",
       "      <td>0.000085</td>\n",
       "      <td>0.000055</td>\n",
       "      <td>0.000108</td>\n",
       "      <td>0.000090</td>\n",
       "      <td>0.000059</td>\n",
       "      <td>0.000010</td>\n",
       "      <td>0.000006</td>\n",
       "      <td>0.000027</td>\n",
       "      <td>4.632568e-08</td>\n",
       "    </tr>\n",
       "    <tr>\n",
       "      <th>1</th>\n",
       "      <td>200001</td>\n",
       "      <td>-9.536743e-07</td>\n",
       "      <td>-0.000010</td>\n",
       "      <td>-4.291534e-05</td>\n",
       "      <td>-0.000114</td>\n",
       "      <td>0.001800</td>\n",
       "      <td>-0.000240</td>\n",
       "      <td>0.001800</td>\n",
       "      <td>-0.000114</td>\n",
       "      <td>0.000957</td>\n",
       "      <td>...</td>\n",
       "      <td>-0.000043</td>\n",
       "      <td>0.000914</td>\n",
       "      <td>-0.000043</td>\n",
       "      <td>-0.000086</td>\n",
       "      <td>-0.000086</td>\n",
       "      <td>-0.000043</td>\n",
       "      <td>-0.000010</td>\n",
       "      <td>-0.000010</td>\n",
       "      <td>-0.000010</td>\n",
       "      <td>-9.536743e-07</td>\n",
       "    </tr>\n",
       "    <tr>\n",
       "      <th>2</th>\n",
       "      <td>200002</td>\n",
       "      <td>4.632568e-08</td>\n",
       "      <td>0.000003</td>\n",
       "      <td>8.465576e-08</td>\n",
       "      <td>-0.000014</td>\n",
       "      <td>0.000007</td>\n",
       "      <td>-0.000005</td>\n",
       "      <td>-0.000004</td>\n",
       "      <td>0.000003</td>\n",
       "      <td>0.000004</td>\n",
       "      <td>...</td>\n",
       "      <td>0.000041</td>\n",
       "      <td>0.000102</td>\n",
       "      <td>0.000084</td>\n",
       "      <td>0.000111</td>\n",
       "      <td>0.000117</td>\n",
       "      <td>0.000070</td>\n",
       "      <td>0.000020</td>\n",
       "      <td>0.000030</td>\n",
       "      <td>0.000021</td>\n",
       "      <td>4.632568e-08</td>\n",
       "    </tr>\n",
       "    <tr>\n",
       "      <th>3</th>\n",
       "      <td>200003</td>\n",
       "      <td>-9.536743e-07</td>\n",
       "      <td>-0.000008</td>\n",
       "      <td>8.084656e-06</td>\n",
       "      <td>0.000216</td>\n",
       "      <td>0.000420</td>\n",
       "      <td>0.000514</td>\n",
       "      <td>0.000452</td>\n",
       "      <td>0.000187</td>\n",
       "      <td>-0.000005</td>\n",
       "      <td>...</td>\n",
       "      <td>0.000069</td>\n",
       "      <td>0.000158</td>\n",
       "      <td>0.000098</td>\n",
       "      <td>0.000175</td>\n",
       "      <td>0.000217</td>\n",
       "      <td>0.000150</td>\n",
       "      <td>0.000018</td>\n",
       "      <td>0.000016</td>\n",
       "      <td>0.000051</td>\n",
       "      <td>-9.536743e-07</td>\n",
       "    </tr>\n",
       "    <tr>\n",
       "      <th>4</th>\n",
       "      <td>200004</td>\n",
       "      <td>-9.536743e-07</td>\n",
       "      <td>-0.000010</td>\n",
       "      <td>-4.291534e-05</td>\n",
       "      <td>-0.000114</td>\n",
       "      <td>-0.000200</td>\n",
       "      <td>-0.000240</td>\n",
       "      <td>-0.000200</td>\n",
       "      <td>-0.000114</td>\n",
       "      <td>-0.000043</td>\n",
       "      <td>...</td>\n",
       "      <td>-0.000043</td>\n",
       "      <td>-0.000086</td>\n",
       "      <td>-0.000043</td>\n",
       "      <td>-0.000086</td>\n",
       "      <td>0.000914</td>\n",
       "      <td>-0.000043</td>\n",
       "      <td>-0.000010</td>\n",
       "      <td>-0.000010</td>\n",
       "      <td>0.000990</td>\n",
       "      <td>-9.536743e-07</td>\n",
       "    </tr>\n",
       "  </tbody>\n",
       "</table>\n",
       "<p>5 rows × 287 columns</p>\n",
       "</div>"
      ],
      "text/plain": [
       "   row_id     A0T0G0C10  A0T0G1C9      A0T0G2C8  A0T0G3C7  A0T0G4C6  A0T0G5C5  \\\n",
       "0  200000 -9.536743e-07 -0.000002 -9.153442e-07  0.000024  0.000034 -0.000002   \n",
       "1  200001 -9.536743e-07 -0.000010 -4.291534e-05 -0.000114  0.001800 -0.000240   \n",
       "2  200002  4.632568e-08  0.000003  8.465576e-08 -0.000014  0.000007 -0.000005   \n",
       "3  200003 -9.536743e-07 -0.000008  8.084656e-06  0.000216  0.000420  0.000514   \n",
       "4  200004 -9.536743e-07 -0.000010 -4.291534e-05 -0.000114 -0.000200 -0.000240   \n",
       "\n",
       "   A0T0G6C4  A0T0G7C3  A0T0G8C2  ...  A8T0G0C2  A8T0G1C1  A8T0G2C0  A8T1G0C1  \\\n",
       "0  0.000021  0.000024 -0.000009  ...  0.000039  0.000085  0.000055  0.000108   \n",
       "1  0.001800 -0.000114  0.000957  ... -0.000043  0.000914 -0.000043 -0.000086   \n",
       "2 -0.000004  0.000003  0.000004  ...  0.000041  0.000102  0.000084  0.000111   \n",
       "3  0.000452  0.000187 -0.000005  ...  0.000069  0.000158  0.000098  0.000175   \n",
       "4 -0.000200 -0.000114 -0.000043  ... -0.000043 -0.000086 -0.000043 -0.000086   \n",
       "\n",
       "   A8T1G1C0  A8T2G0C0  A9T0G0C1  A9T0G1C0  A9T1G0C0     A10T0G0C0  \n",
       "0  0.000090  0.000059  0.000010  0.000006  0.000027  4.632568e-08  \n",
       "1 -0.000086 -0.000043 -0.000010 -0.000010 -0.000010 -9.536743e-07  \n",
       "2  0.000117  0.000070  0.000020  0.000030  0.000021  4.632568e-08  \n",
       "3  0.000217  0.000150  0.000018  0.000016  0.000051 -9.536743e-07  \n",
       "4  0.000914 -0.000043 -0.000010 -0.000010  0.000990 -9.536743e-07  \n",
       "\n",
       "[5 rows x 287 columns]"
      ]
     },
     "execution_count": 54,
     "metadata": {},
     "output_type": "execute_result"
    }
   ],
   "source": [
    "# Load Kaggle's submission test set\n",
    "df_subm = pd.read_csv(\"/kaggle/input/tabular-playground-series-feb-2022/test.csv\")\n",
    "df_subm.head()"
   ]
  },
  {
   "cell_type": "markdown",
   "id": "7a8c8f00",
   "metadata": {
    "papermill": {
     "duration": 0.493254,
     "end_time": "2022-03-16T15:23:54.451229",
     "exception": false,
     "start_time": "2022-03-16T15:23:53.957975",
     "status": "completed"
    },
    "tags": []
   },
   "source": [
    "Now we create the pandas dataframe in which we will store our predictions.\n",
    "\n",
    "Each row will contain the row_id of the sample and its predicted label."
   ]
  },
  {
   "cell_type": "code",
   "execution_count": 55,
   "id": "58d9accc",
   "metadata": {
    "execution": {
     "iopub.execute_input": "2022-03-16T15:23:55.380785Z",
     "iopub.status.busy": "2022-03-16T15:23:55.379851Z",
     "iopub.status.idle": "2022-03-16T15:23:55.387740Z",
     "shell.execute_reply": "2022-03-16T15:23:55.387227Z",
     "shell.execute_reply.started": "2022-03-14T13:23:47.082317Z"
    },
    "papermill": {
     "duration": 0.478918,
     "end_time": "2022-03-16T15:23:55.387883",
     "exception": false,
     "start_time": "2022-03-16T15:23:54.908965",
     "status": "completed"
    },
    "tags": []
   },
   "outputs": [
    {
     "data": {
      "text/html": [
       "<div>\n",
       "<style scoped>\n",
       "    .dataframe tbody tr th:only-of-type {\n",
       "        vertical-align: middle;\n",
       "    }\n",
       "\n",
       "    .dataframe tbody tr th {\n",
       "        vertical-align: top;\n",
       "    }\n",
       "\n",
       "    .dataframe thead th {\n",
       "        text-align: right;\n",
       "    }\n",
       "</style>\n",
       "<table border=\"1\" class=\"dataframe\">\n",
       "  <thead>\n",
       "    <tr style=\"text-align: right;\">\n",
       "      <th></th>\n",
       "      <th>row_id</th>\n",
       "    </tr>\n",
       "  </thead>\n",
       "  <tbody>\n",
       "    <tr>\n",
       "      <th>0</th>\n",
       "      <td>200000</td>\n",
       "    </tr>\n",
       "    <tr>\n",
       "      <th>1</th>\n",
       "      <td>200001</td>\n",
       "    </tr>\n",
       "    <tr>\n",
       "      <th>2</th>\n",
       "      <td>200002</td>\n",
       "    </tr>\n",
       "    <tr>\n",
       "      <th>3</th>\n",
       "      <td>200003</td>\n",
       "    </tr>\n",
       "    <tr>\n",
       "      <th>4</th>\n",
       "      <td>200004</td>\n",
       "    </tr>\n",
       "  </tbody>\n",
       "</table>\n",
       "</div>"
      ],
      "text/plain": [
       "   row_id\n",
       "0  200000\n",
       "1  200001\n",
       "2  200002\n",
       "3  200003\n",
       "4  200004"
      ]
     },
     "execution_count": 55,
     "metadata": {},
     "output_type": "execute_result"
    }
   ],
   "source": [
    "df_subm_results = pd.DataFrame(df_subm[\"row_id\"])\n",
    "df_subm_results.head()"
   ]
  },
  {
   "cell_type": "code",
   "execution_count": 56,
   "id": "d490310f",
   "metadata": {
    "execution": {
     "iopub.execute_input": "2022-03-16T15:23:56.405300Z",
     "iopub.status.busy": "2022-03-16T15:23:56.404550Z",
     "iopub.status.idle": "2022-03-16T15:23:56.408129Z",
     "shell.execute_reply": "2022-03-16T15:23:56.407565Z",
     "shell.execute_reply.started": "2022-03-14T13:23:47.083671Z"
    },
    "papermill": {
     "duration": 0.557991,
     "end_time": "2022-03-16T15:23:56.408287",
     "exception": false,
     "start_time": "2022-03-16T15:23:55.850296",
     "status": "completed"
    },
    "tags": []
   },
   "outputs": [],
   "source": [
    "X_subm = df_subm.drop(columns=\"row_id\")"
   ]
  },
  {
   "cell_type": "markdown",
   "id": "c1156f6a",
   "metadata": {
    "papermill": {
     "duration": 0.463595,
     "end_time": "2022-03-16T15:23:57.321594",
     "exception": false,
     "start_time": "2022-03-16T15:23:56.857999",
     "status": "completed"
    },
    "tags": []
   },
   "source": [
    "This time in the code i will directly assume to use a non-deep model, because we have seen that they perform better on the task ."
   ]
  },
  {
   "cell_type": "code",
   "execution_count": 57,
   "id": "339bfd15",
   "metadata": {
    "execution": {
     "iopub.execute_input": "2022-03-16T15:23:58.425181Z",
     "iopub.status.busy": "2022-03-16T15:23:58.424530Z",
     "iopub.status.idle": "2022-03-16T15:26:01.344128Z",
     "shell.execute_reply": "2022-03-16T15:26:01.344643Z",
     "shell.execute_reply.started": "2022-03-14T13:23:47.085334Z"
    },
    "papermill": {
     "duration": 123.567022,
     "end_time": "2022-03-16T15:26:01.344846",
     "exception": false,
     "start_time": "2022-03-16T15:23:57.777824",
     "status": "completed"
    },
    "tags": []
   },
   "outputs": [
    {
     "data": {
      "text/plain": [
       "Pipeline(steps=[('st_scaler', StandardScaler()),\n",
       "                ('pca', PCA(n_components=5, random_state=42)),\n",
       "                ('classifier',\n",
       "                 RandomForestClassifier(criterion='entropy', n_estimators=150,\n",
       "                                        random_state=42))])"
      ]
     },
     "execution_count": 57,
     "metadata": {},
     "output_type": "execute_result"
    }
   ],
   "source": [
    "# Build pipeline with final model\n",
    "final_pipe = build_PCA_pipeline(final_model, pca_n_components)\n",
    "# Retrain model on full dataset\n",
    "final_pipe.fit(df.drop(columns=[\"target\"]), df[\"target\"])"
   ]
  },
  {
   "cell_type": "code",
   "execution_count": 58,
   "id": "0d414d69",
   "metadata": {
    "execution": {
     "iopub.execute_input": "2022-03-16T15:26:02.273794Z",
     "iopub.status.busy": "2022-03-16T15:26:02.272528Z",
     "iopub.status.idle": "2022-03-16T15:26:05.960844Z",
     "shell.execute_reply": "2022-03-16T15:26:05.960239Z",
     "shell.execute_reply.started": "2022-03-14T13:23:47.086757Z"
    },
    "papermill": {
     "duration": 4.157498,
     "end_time": "2022-03-16T15:26:05.960991",
     "exception": false,
     "start_time": "2022-03-16T15:26:01.803493",
     "status": "completed"
    },
    "tags": []
   },
   "outputs": [],
   "source": [
    "# predict labels\n",
    "Y_subm_predicted = final_pipe.predict(X_subm)\n",
    "# Convert label indexes to text\n",
    "Y_subm_predicted_labeled = label_encoder.inverse_transform(Y_subm_predicted)\n",
    "# Store the predicted targets in the dataframe\n",
    "df_subm_results[\"target\"] = Y_subm_predicted_labeled"
   ]
  },
  {
   "cell_type": "code",
   "execution_count": 59,
   "id": "596e93d6",
   "metadata": {
    "execution": {
     "iopub.execute_input": "2022-03-16T15:26:06.906897Z",
     "iopub.status.busy": "2022-03-16T15:26:06.906090Z",
     "iopub.status.idle": "2022-03-16T15:26:06.909429Z",
     "shell.execute_reply": "2022-03-16T15:26:06.909918Z",
     "shell.execute_reply.started": "2022-03-14T13:23:47.088771Z"
    },
    "papermill": {
     "duration": 0.471357,
     "end_time": "2022-03-16T15:26:06.910073",
     "exception": false,
     "start_time": "2022-03-16T15:26:06.438716",
     "status": "completed"
    },
    "tags": []
   },
   "outputs": [
    {
     "data": {
      "text/html": [
       "<div>\n",
       "<style scoped>\n",
       "    .dataframe tbody tr th:only-of-type {\n",
       "        vertical-align: middle;\n",
       "    }\n",
       "\n",
       "    .dataframe tbody tr th {\n",
       "        vertical-align: top;\n",
       "    }\n",
       "\n",
       "    .dataframe thead th {\n",
       "        text-align: right;\n",
       "    }\n",
       "</style>\n",
       "<table border=\"1\" class=\"dataframe\">\n",
       "  <thead>\n",
       "    <tr style=\"text-align: right;\">\n",
       "      <th></th>\n",
       "      <th>row_id</th>\n",
       "      <th>target</th>\n",
       "    </tr>\n",
       "  </thead>\n",
       "  <tbody>\n",
       "    <tr>\n",
       "      <th>0</th>\n",
       "      <td>200000</td>\n",
       "      <td>Escherichia_fergusonii</td>\n",
       "    </tr>\n",
       "    <tr>\n",
       "      <th>1</th>\n",
       "      <td>200001</td>\n",
       "      <td>Salmonella_enterica</td>\n",
       "    </tr>\n",
       "    <tr>\n",
       "      <th>2</th>\n",
       "      <td>200002</td>\n",
       "      <td>Enterococcus_hirae</td>\n",
       "    </tr>\n",
       "    <tr>\n",
       "      <th>3</th>\n",
       "      <td>200003</td>\n",
       "      <td>Salmonella_enterica</td>\n",
       "    </tr>\n",
       "    <tr>\n",
       "      <th>4</th>\n",
       "      <td>200004</td>\n",
       "      <td>Staphylococcus_aureus</td>\n",
       "    </tr>\n",
       "  </tbody>\n",
       "</table>\n",
       "</div>"
      ],
      "text/plain": [
       "   row_id                  target\n",
       "0  200000  Escherichia_fergusonii\n",
       "1  200001     Salmonella_enterica\n",
       "2  200002      Enterococcus_hirae\n",
       "3  200003     Salmonella_enterica\n",
       "4  200004   Staphylococcus_aureus"
      ]
     },
     "execution_count": 59,
     "metadata": {},
     "output_type": "execute_result"
    }
   ],
   "source": [
    "df_subm_results.head()"
   ]
  },
  {
   "cell_type": "markdown",
   "id": "eff22127",
   "metadata": {
    "papermill": {
     "duration": 0.459681,
     "end_time": "2022-03-16T15:26:07.831401",
     "exception": false,
     "start_time": "2022-03-16T15:26:07.371720",
     "status": "completed"
    },
    "tags": []
   },
   "source": [
    "Finally we save the submission dataset as a csv file, which can be loaded on the Kaggle competition's website to obtain a score:"
   ]
  },
  {
   "cell_type": "code",
   "execution_count": 60,
   "id": "72718c10",
   "metadata": {
    "execution": {
     "iopub.execute_input": "2022-03-16T15:26:08.818190Z",
     "iopub.status.busy": "2022-03-16T15:26:08.817181Z",
     "iopub.status.idle": "2022-03-16T15:26:09.070982Z",
     "shell.execute_reply": "2022-03-16T15:26:09.071528Z",
     "shell.execute_reply.started": "2022-03-14T13:23:47.090388Z"
    },
    "papermill": {
     "duration": 0.762539,
     "end_time": "2022-03-16T15:26:09.071696",
     "exception": false,
     "start_time": "2022-03-16T15:26:08.309157",
     "status": "completed"
    },
    "tags": []
   },
   "outputs": [],
   "source": [
    "df_subm_results.to_csv(\"submission.csv\", index=False)"
   ]
  },
  {
   "cell_type": "code",
   "execution_count": null,
   "id": "af8d2d38",
   "metadata": {
    "papermill": {
     "duration": 0.461124,
     "end_time": "2022-03-16T15:26:09.992225",
     "exception": false,
     "start_time": "2022-03-16T15:26:09.531101",
     "status": "completed"
    },
    "tags": []
   },
   "outputs": [],
   "source": []
  },
  {
   "cell_type": "code",
   "execution_count": null,
   "id": "8c66ed05",
   "metadata": {
    "papermill": {
     "duration": 0.457841,
     "end_time": "2022-03-16T15:26:10.912776",
     "exception": false,
     "start_time": "2022-03-16T15:26:10.454935",
     "status": "completed"
    },
    "tags": []
   },
   "outputs": [],
   "source": []
  }
 ],
 "metadata": {
  "kernelspec": {
   "display_name": "Python 3",
   "language": "python",
   "name": "python3"
  },
  "language_info": {
   "codemirror_mode": {
    "name": "ipython",
    "version": 3
   },
   "file_extension": ".py",
   "mimetype": "text/x-python",
   "name": "python",
   "nbconvert_exporter": "python",
   "pygments_lexer": "ipython3",
   "version": "3.7.12"
  },
  "papermill": {
   "default_parameters": {},
   "duration": 941.523047,
   "end_time": "2022-03-16T15:26:14.181302",
   "environment_variables": {},
   "exception": null,
   "input_path": "__notebook__.ipynb",
   "output_path": "__notebook__.ipynb",
   "parameters": {},
   "start_time": "2022-03-16T15:10:32.658255",
   "version": "2.3.3"
  }
 },
 "nbformat": 4,
 "nbformat_minor": 5
}
